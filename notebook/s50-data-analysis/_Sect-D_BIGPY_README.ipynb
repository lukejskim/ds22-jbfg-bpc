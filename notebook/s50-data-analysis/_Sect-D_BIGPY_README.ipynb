{
 "cells": [
  {
   "cell_type": "markdown",
   "metadata": {
    "collapsed": true
   },
   "source": [
    "# BigData Science Practical Training Course"
   ]
  },
  {
   "cell_type": "markdown",
   "metadata": {
    "collapsed": true
   },
   "source": [
    "<div align='right'><font size=2 color='gray'>Python For BigData @ <font color='blue'><a href='https://www.facebook.com/jskim.kr'>FB / jskim.kr</a></font>, [김진수](bigpycraft@gmail.com)</font></div>\n",
    "<hr>"
   ]
  },
  {
   "cell_type": "markdown",
   "metadata": {},
   "source": [
    "## SBA 2019, Seoul Business Agency Innovation Growth Intensive Training"
   ]
  },
  {
   "cell_type": "markdown",
   "metadata": {},
   "source": [
    "<img src=\"../images/img_main_front.png\">"
   ]
  },
  {
   "cell_type": "markdown",
   "metadata": {},
   "source": [
    "## Innovation Growth Intensive Training\n",
    "- Python Programming Basics\n",
    "- Python Packages and Modules\n",
    "- <b>Data Processing and Analysis</b>\n",
    "- Web Cralwling\n",
    "- Natural Language Processing\n",
    "- Machine Learning\n",
    "- Deep Learning\n",
    "\n",
    "<hr>"
   ]
  },
  {
   "cell_type": "markdown",
   "metadata": {},
   "source": [
    "## Data Processing and Analysis"
   ]
  },
  {
   "cell_type": "markdown",
   "metadata": {},
   "source": [
    "- 6-1. [Excel File Read & Write    ][D4110]\n",
    "- 6-2. [Excel Data Handling        ][D4120]\n",
    "- 6-3. [Excel Data Visualization   ][D4130]\n",
    "<br/><br/>\n",
    "- 7-1. [Create DataBase & Table    ][D4210]\n",
    "- 7-2. [Database Data Create       ][D4220]\n",
    "- 7-3. [Database Data Read         ][D4230]\n",
    "- 7-4. [Database Data Update       ][D4240]\n",
    "- 7-5. [Database Data Delete       ][D4250]\n",
    "<br/><br/>\n",
    "※ Reference 과제4 \n",
    "- (1) 김태웅 [Kaggle Analysis for Titanic ][P4_01]\n",
    "- (2) 신은영 [Kaggle Analysis for Bike    ][P4_02]\n",
    "<br/><br/>\n",
    "- 8-0. [Kaggle Mission                          ][D4300]\n",
    "- 8-1. [Analytical Approach : General           ][D4310]\n",
    "- 8-2. [Analytical Approach : Advanced          ][D4324]\n",
    "<br/><br/>\n",
    "- 9-1. [Public Data Potal 1                     ][D4510]\n",
    "- 9-2. [Public Data Potal 2                     ][D4520]\n",
    "- Quiz.[Public Data Potal 3                     ][D4530]\n",
    "- 9-3. [Public Data Potal 3                     ][D4532]\n",
    "<br/><br/>\n",
    "- 10-1. [Folium for Map                         ][D4600]\n",
    "- 10-2. [Seoul Stat 1                           ][D4610]\n",
    "- 10-3. [Seoul Stat 2                           ][D4720]\n",
    "\n",
    "\n",
    "[D4110]:  https://htmlpreview.github.io/?https://github.com/bigpycraft/sba19-seoulit/blob/master/notebook/html/BPC_D411_Excel_IO.html                                \"Go D4110\"\n",
    "[D4120]:  https://htmlpreview.github.io/?https://github.com/bigpycraft/sba19-seoulit/blob/master/notebook/html/BPC_D412_Excel_Data_Handle.html                       \"Go D4120\"\n",
    "[D4130]:  https://htmlpreview.github.io/?https://github.com/bigpycraft/sba19-seoulit/blob/master/notebook/html/BPC_D413_Excel_Data_Visualize.html                    \"Go D4130\"\n",
    "[D4200]:  https://htmlpreview.github.io/?https://github.com/bigpycraft/sba19-seoulit/blob/master/notebook/html/BPC_D420_DB_SQL_COMMAND.html                          \"Go D4200\"\n",
    "[D4210]:  https://htmlpreview.github.io/?https://github.com/bigpycraft/sba19-seoulit/blob/master/notebook/html/BPC_D421_DB_SQL_SCHEMA.html                           \"Go D4210\"\n",
    "[D4220]:  https://htmlpreview.github.io/?https://github.com/bigpycraft/sba19-seoulit/blob/master/notebook/html/BPC_D422_DB_SQL_INSERT.html                           \"Go D4220\"\n",
    "[D4230]:  https://htmlpreview.github.io/?https://github.com/bigpycraft/sba19-seoulit/blob/master/notebook/html/BPC_D423_DB_SQL_SELECT.html                           \"Go D4230\"\n",
    "[D4240]:  https://htmlpreview.github.io/?https://github.com/bigpycraft/sba19-seoulit/blob/master/notebook/html/BPC_D424_DB_SQL_UPDATE.html                           \"Go D4240\"\n",
    "[D4250]:  https://htmlpreview.github.io/?https://github.com/bigpycraft/sba19-seoulit/blob/master/notebook/html/BPC_D425_DB_SQL_DELETE.html                           \"Go D4250\"\n",
    "\n",
    "[P4_01]:  https://htmlpreview.github.io/?https://github.com/bigpycraft/sba19-seoulit/blob/master/notebook/html/과제4_Kaggle_01_김태웅_Titanic.html                   \"Go P4_01\"\n",
    "[P4_02]:  https://htmlpreview.github.io/?https://github.com/bigpycraft/sba19-seoulit/blob/master/notebook/html/과제4_Kaggle_02_신은영_Bike.html                      \"Go P4_02\"\n",
    "[D4300]:  https://htmlpreview.github.io/?https://github.com/bigpycraft/sba19-seoulit/blob/master/notebook/html/BPC_D430_Kaggle_Titanic_Mission__Stat_Visualize.html  \"Go D4300\"\n",
    "[D4310]:  https://htmlpreview.github.io/?https://github.com/bigpycraft/sba19-seoulit/blob/master/notebook/html/BPC_D431_Kaggle_Titanic_Stat_General.html             \"Go D4310\"\n",
    "[D4323]:  https://htmlpreview.github.io/?https://github.com/bigpycraft/sba19-seoulit/blob/master/notebook/html/BPC_D432_Kaggle_Titanic_Stat_Advanced_ver3.html       \"Go D4323\"\n",
    "[D4324]:  https://htmlpreview.github.io/?https://github.com/bigpycraft/sba19-seoulit/blob/master/notebook/html/BPC_D432_Kaggle_Titanic_Stat_Advanced_ver4.html       \"Go D4324\"\n",
    "[D4510]:  https://htmlpreview.github.io/?https://github.com/bigpycraft/sba19-seoulit/blob/master/notebook/html/BPC_D451_DataGoKr_노화빌딩_ver2.html                  \"Go D4510\"\n",
    "[D4520]:  https://htmlpreview.github.io/?https://github.com/bigpycraft/sba19-seoulit/blob/master/notebook/html/BPC_D452_DataGoKr_범죄발생2016_ver2.html              \"Go D4520\"\n",
    "[D4530]:  https://htmlpreview.github.io/?https://github.com/bigpycraft/sba19-seoulit/blob/master/notebook/html/BPC_D453_DataGoKr_CCTV현황_in2017___Mission.html      \"Go D4530\"\n",
    "[D4532]:  https://htmlpreview.github.io/?https://github.com/bigpycraft/sba19-seoulit/blob/master/notebook/html/BPC_D453_DataGoKr_CCTV현황_in2017_ver2.html           \"Go D4532\"\n",
    "\n",
    "[D4600]:  https://htmlpreview.github.io/?https://github.com/bigpycraft/sba19-seoulit/blob/master/notebook/html/BPC_D460_Folium_for_Map_ver4.html                     \"Go D4600\"\n",
    "[D4610]:  https://htmlpreview.github.io/?https://github.com/bigpycraft/sba19-seoulit/blob/master/notebook/html/BPC_D461_OpenGov_Seoul_Population_2019_2Q.html        \"Go D4610\"\n",
    "[D4720]:  https://htmlpreview.github.io/?https://github.com/bigpycraft/sba19-seoulit/blob/master/notebook/html/BPC_D472_OpenGov_Seoul_CCTV_Population_ver4.html      \"Go D4720\"\n"
   ]
  },
  {
   "cell_type": "markdown",
   "metadata": {},
   "source": [
    "<hr>\n",
    "<marquee><font size=3 color='brown'>The BigpyCraft find the information to design valuable society with Technology & Craft.</font></marquee>\n",
    "<div align='right'><font size=2 color='gray'> &lt; The End &gt; </font></div>"
   ]
  }
 ],
 "metadata": {
  "kernelspec": {
   "display_name": "Python 3",
   "language": "python",
   "name": "python3"
  },
  "language_info": {
   "codemirror_mode": {
    "name": "ipython",
    "version": 3
   },
   "file_extension": ".py",
   "mimetype": "text/x-python",
   "name": "python",
   "nbconvert_exporter": "python",
   "pygments_lexer": "ipython3",
   "version": "3.7.1"
  }
 },
 "nbformat": 4,
 "nbformat_minor": 2
}
