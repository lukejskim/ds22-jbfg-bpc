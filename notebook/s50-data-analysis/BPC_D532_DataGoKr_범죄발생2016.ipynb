{
 "cells": [
  {
   "cell_type": "markdown",
   "metadata": {},
   "source": [
    "# Industry 4.0 의 중심, BigData"
   ]
  },
  {
   "cell_type": "markdown",
   "metadata": {},
   "source": [
    "<div align='right'><font size=2 color='gray'>Data Processing Based Python @ <font color='blue'><a href='https://www.facebook.com/jskim.kr'>FB / jskim.kr</a></font>, [김진수](bigpycraft@gmail.com)</font></div>\n",
    "<hr>"
   ]
  },
  {
   "cell_type": "markdown",
   "metadata": {},
   "source": [
    "## <font color='brown'> 공공데이터 활용 </font>"
   ]
  },
  {
   "cell_type": "markdown",
   "metadata": {},
   "source": [
    "### Case2. 2016범죄 발생 유형별 분석\n",
    ">  \n",
    "> - [범죄통계] 범죄발생지 (지역별)\n",
    "> - http://www.data.go.kr/dataset/3074462/fileData.do;jsessionid=wIXUEwb7u5qgTUblcWd1qSq-.node20"
   ]
  },
  {
   "cell_type": "code",
   "execution_count": 1,
   "metadata": {},
   "outputs": [],
   "source": [
    "import platform\n",
    "\n",
    "from pandas import Series, DataFrame\n",
    "import pandas as pd\n",
    "import numpy as np\n",
    "import matplotlib.pyplot as plt\n",
    "\n",
    "from matplotlib import font_manager, rc\n",
    "font_name = font_manager.FontProperties(fname=\"C:/Windows/Fonts/malgun.ttf\").get_name()\n",
    "rc('font', family=font_name)\n",
    "\n",
    "%matplotlib inline\n",
    "plt.rcParams[\"figure.figsize\"] = [12,6]"
   ]
  },
  {
   "cell_type": "code",
   "execution_count": 2,
   "metadata": {},
   "outputs": [
    {
     "data": {
      "text/html": [
       "<div>\n",
       "<style scoped>\n",
       "    .dataframe tbody tr th:only-of-type {\n",
       "        vertical-align: middle;\n",
       "    }\n",
       "\n",
       "    .dataframe tbody tr th {\n",
       "        vertical-align: top;\n",
       "    }\n",
       "\n",
       "    .dataframe thead th {\n",
       "        text-align: right;\n",
       "    }\n",
       "</style>\n",
       "<table border=\"1\" class=\"dataframe\">\n",
       "  <thead>\n",
       "    <tr style=\"text-align: right;\">\n",
       "      <th></th>\n",
       "      <th>범죄대분류</th>\n",
       "      <th>범죄중분류</th>\n",
       "      <th>계</th>\n",
       "      <th>서울</th>\n",
       "      <th>부산</th>\n",
       "      <th>대구</th>\n",
       "      <th>인천</th>\n",
       "      <th>광주</th>\n",
       "      <th>대전</th>\n",
       "      <th>울산</th>\n",
       "      <th>...</th>\n",
       "      <th>경남 밀양</th>\n",
       "      <th>경남 사천</th>\n",
       "      <th>경남 양산</th>\n",
       "      <th>경남 진주</th>\n",
       "      <th>경남 창원</th>\n",
       "      <th>경남 통영</th>\n",
       "      <th>제주 서귀포</th>\n",
       "      <th>제주 제주</th>\n",
       "      <th>기타도시</th>\n",
       "      <th>도시이외</th>\n",
       "    </tr>\n",
       "  </thead>\n",
       "  <tbody>\n",
       "    <tr>\n",
       "      <th>0</th>\n",
       "      <td>강력범죄</td>\n",
       "      <td>살인기수</td>\n",
       "      <td>365</td>\n",
       "      <td>67</td>\n",
       "      <td>20</td>\n",
       "      <td>13</td>\n",
       "      <td>17</td>\n",
       "      <td>11</td>\n",
       "      <td>8</td>\n",
       "      <td>12</td>\n",
       "      <td>...</td>\n",
       "      <td>1</td>\n",
       "      <td>0</td>\n",
       "      <td>2</td>\n",
       "      <td>4</td>\n",
       "      <td>7</td>\n",
       "      <td>2</td>\n",
       "      <td>0</td>\n",
       "      <td>11</td>\n",
       "      <td>7</td>\n",
       "      <td>30</td>\n",
       "    </tr>\n",
       "    <tr>\n",
       "      <th>1</th>\n",
       "      <td>강력범죄</td>\n",
       "      <td>살인미수등</td>\n",
       "      <td>564</td>\n",
       "      <td>96</td>\n",
       "      <td>41</td>\n",
       "      <td>23</td>\n",
       "      <td>34</td>\n",
       "      <td>7</td>\n",
       "      <td>16</td>\n",
       "      <td>11</td>\n",
       "      <td>...</td>\n",
       "      <td>5</td>\n",
       "      <td>5</td>\n",
       "      <td>6</td>\n",
       "      <td>0</td>\n",
       "      <td>13</td>\n",
       "      <td>2</td>\n",
       "      <td>1</td>\n",
       "      <td>16</td>\n",
       "      <td>4</td>\n",
       "      <td>44</td>\n",
       "    </tr>\n",
       "    <tr>\n",
       "      <th>2</th>\n",
       "      <td>강력범죄</td>\n",
       "      <td>강도</td>\n",
       "      <td>1446</td>\n",
       "      <td>274</td>\n",
       "      <td>161</td>\n",
       "      <td>60</td>\n",
       "      <td>103</td>\n",
       "      <td>44</td>\n",
       "      <td>64</td>\n",
       "      <td>29</td>\n",
       "      <td>...</td>\n",
       "      <td>1</td>\n",
       "      <td>4</td>\n",
       "      <td>2</td>\n",
       "      <td>13</td>\n",
       "      <td>26</td>\n",
       "      <td>3</td>\n",
       "      <td>4</td>\n",
       "      <td>29</td>\n",
       "      <td>4</td>\n",
       "      <td>65</td>\n",
       "    </tr>\n",
       "    <tr>\n",
       "      <th>3</th>\n",
       "      <td>강력범죄</td>\n",
       "      <td>강간</td>\n",
       "      <td>5151</td>\n",
       "      <td>969</td>\n",
       "      <td>383</td>\n",
       "      <td>216</td>\n",
       "      <td>304</td>\n",
       "      <td>216</td>\n",
       "      <td>181</td>\n",
       "      <td>132</td>\n",
       "      <td>...</td>\n",
       "      <td>10</td>\n",
       "      <td>12</td>\n",
       "      <td>35</td>\n",
       "      <td>63</td>\n",
       "      <td>85</td>\n",
       "      <td>11</td>\n",
       "      <td>14</td>\n",
       "      <td>64</td>\n",
       "      <td>18</td>\n",
       "      <td>328</td>\n",
       "    </tr>\n",
       "    <tr>\n",
       "      <th>4</th>\n",
       "      <td>강력범죄</td>\n",
       "      <td>유사강간</td>\n",
       "      <td>518</td>\n",
       "      <td>118</td>\n",
       "      <td>24</td>\n",
       "      <td>21</td>\n",
       "      <td>35</td>\n",
       "      <td>17</td>\n",
       "      <td>14</td>\n",
       "      <td>10</td>\n",
       "      <td>...</td>\n",
       "      <td>1</td>\n",
       "      <td>1</td>\n",
       "      <td>3</td>\n",
       "      <td>1</td>\n",
       "      <td>8</td>\n",
       "      <td>1</td>\n",
       "      <td>1</td>\n",
       "      <td>12</td>\n",
       "      <td>0</td>\n",
       "      <td>33</td>\n",
       "    </tr>\n",
       "  </tbody>\n",
       "</table>\n",
       "<p>5 rows × 91 columns</p>\n",
       "</div>"
      ],
      "text/plain": [
       "  범죄대분류  범죄중분류     계   서울   부산   대구   인천   광주   대전   울산  ...   경남 밀양  경남 사천  \\\n",
       "0  강력범죄   살인기수   365   67   20   13   17   11    8   12  ...       1      0   \n",
       "1  강력범죄  살인미수등   564   96   41   23   34    7   16   11  ...       5      5   \n",
       "2  강력범죄     강도  1446  274  161   60  103   44   64   29  ...       1      4   \n",
       "3  강력범죄     강간  5151  969  383  216  304  216  181  132  ...      10     12   \n",
       "4  강력범죄   유사강간   518  118   24   21   35   17   14   10  ...       1      1   \n",
       "\n",
       "   경남 양산  경남 진주  경남 창원  경남 통영  제주 서귀포  제주 제주  기타도시  도시이외  \n",
       "0      2      4      7      2       0     11     7    30  \n",
       "1      6      0     13      2       1     16     4    44  \n",
       "2      2     13     26      3       4     29     4    65  \n",
       "3     35     63     85     11      14     64    18   328  \n",
       "4      3      1      8      1       1     12     0    33  \n",
       "\n",
       "[5 rows x 91 columns]"
      ]
     },
     "execution_count": 2,
     "metadata": {},
     "output_type": "execute_result"
    }
   ],
   "source": [
    "df = pd.read_csv('data/public_crime_stat_2015.csv', encoding='EUC-KR')\n",
    "df.head()"
   ]
  },
  {
   "cell_type": "code",
   "execution_count": 3,
   "metadata": {},
   "outputs": [
    {
     "data": {
      "text/plain": [
       "0       강력범죄\n",
       "1       강력범죄\n",
       "2       강력범죄\n",
       "3       강력범죄\n",
       "4       강력범죄\n",
       "5       강력범죄\n",
       "6       강력범죄\n",
       "7       강력범죄\n",
       "8       절도범죄\n",
       "9       폭력범죄\n",
       "10      폭력범죄\n",
       "11      폭력범죄\n",
       "12      폭력범죄\n",
       "13      폭력범죄\n",
       "14      폭력범죄\n",
       "15      폭력범죄\n",
       "16      폭력범죄\n",
       "17      지능범죄\n",
       "18      지능범죄\n",
       "19      지능범죄\n",
       "20      지능범죄\n",
       "21      지능범죄\n",
       "22      지능범죄\n",
       "23      지능범죄\n",
       "24      지능범죄\n",
       "25      지능범죄\n",
       "26      풍속범죄\n",
       "27      풍속범죄\n",
       "28    특별경제범죄\n",
       "29      마약범죄\n",
       "30      보건범죄\n",
       "31      환경범죄\n",
       "32      교통범죄\n",
       "33      노동범죄\n",
       "34      안보범죄\n",
       "35      선거범죄\n",
       "36      병역범죄\n",
       "37      기타범죄\n",
       "Name: 범죄대분류, dtype: object"
      ]
     },
     "execution_count": 3,
     "metadata": {},
     "output_type": "execute_result"
    }
   ],
   "source": [
    "df['범죄대분류']"
   ]
  },
  {
   "cell_type": "code",
   "execution_count": 4,
   "metadata": {},
   "outputs": [
    {
     "data": {
      "text/plain": [
       "0            살인기수\n",
       "1           살인미수등\n",
       "2              강도\n",
       "3              강간\n",
       "4            유사강간\n",
       "5            강제추행\n",
       "6     기타 강간 강제추행등\n",
       "7              방화\n",
       "8              절도\n",
       "9              상해\n",
       "10             폭행\n",
       "11          체포 감금\n",
       "12             협박\n",
       "13          약취 유인\n",
       "14          폭력행위등\n",
       "15             공갈\n",
       "16             손괴\n",
       "17           직무유기\n",
       "18           직권남용\n",
       "19            증수뢰\n",
       "20             통화\n",
       "21          문서 인장\n",
       "22         유가증권인지\n",
       "23             사기\n",
       "24             횡령\n",
       "25             배임\n",
       "26          성풍속범죄\n",
       "27           도박범죄\n",
       "28         특별경제범죄\n",
       "29           마약범죄\n",
       "30           보건범죄\n",
       "31           환경범죄\n",
       "32           교통범죄\n",
       "33           노동범죄\n",
       "34           안보범죄\n",
       "35           선거범죄\n",
       "36           병역범죄\n",
       "37           기타범죄\n",
       "Name: 범죄중분류, dtype: object"
      ]
     },
     "execution_count": 4,
     "metadata": {},
     "output_type": "execute_result"
    }
   ],
   "source": [
    "df['범죄중분류']"
   ]
  },
  {
   "cell_type": "markdown",
   "metadata": {},
   "source": [
    "#### <font color='blue'> # 범죄중분류 별 건수 </font>"
   ]
  },
  {
   "cell_type": "code",
   "execution_count": 5,
   "metadata": {},
   "outputs": [
    {
     "data": {
      "text/plain": [
       "살인기수              365\n",
       "살인미수등             564\n",
       "강도               1446\n",
       "강간               5151\n",
       "유사강간              518\n",
       "강제추행            15059\n",
       "기타 강간 강제추행등       558\n",
       "방화               1673\n",
       "절도             245853\n",
       "상해              48005\n",
       "폭행             149278\n",
       "체포 감금            1028\n",
       "협박               9187\n",
       "약취 유인             190\n",
       "폭력행위등           35686\n",
       "공갈               3596\n",
       "손괴              58977\n",
       "직무유기              507\n",
       "직권남용              401\n",
       "증수뢰               247\n",
       "통화               1822\n",
       "문서 인장           14546\n",
       "유가증권인지            282\n",
       "사기             247293\n",
       "횡령              46734\n",
       "배임               4289\n",
       "성풍속범죄           16219\n",
       "도박범죄             8272\n",
       "특별경제범죄          86329\n",
       "마약범죄             6411\n",
       "보건범죄            14602\n",
       "환경범죄             2955\n",
       "교통범죄           596665\n",
       "노동범죄             1145\n",
       "안보범죄              121\n",
       "선거범죄              760\n",
       "병역범죄            18726\n",
       "기타범죄           216197\n",
       "dtype: int64"
      ]
     },
     "execution_count": 5,
     "metadata": {},
     "output_type": "execute_result"
    }
   ],
   "source": [
    "df_index = pd.Series(df['계'].values, index=df['범죄중분류'].values)\n",
    "df_index"
   ]
  },
  {
   "cell_type": "code",
   "execution_count": 6,
   "metadata": {},
   "outputs": [
    {
     "data": {
      "text/plain": [
       "array([   365,    564,   1446,   5151,    518,  15059,    558,   1673,\n",
       "       245853,  48005, 149278,   1028,   9187,    190,  35686,   3596,\n",
       "        58977,    507,    401,    247,   1822,  14546,    282, 247293,\n",
       "        46734,   4289,  16219,   8272,  86329,   6411,  14602,   2955,\n",
       "       596665,   1145,    121,    760,  18726, 216197], dtype=int64)"
      ]
     },
     "execution_count": 6,
     "metadata": {},
     "output_type": "execute_result"
    }
   ],
   "source": [
    "df_index.values"
   ]
  },
  {
   "cell_type": "markdown",
   "metadata": {},
   "source": [
    "<font color='green'> \n",
    "> [Note] \n",
    "* 값안에 콤마(,)가 있다는 의미는 숫자가 아니라 문자란 말이다. \n",
    "* 따라서 그대로 하면 연산이 안된다. 변환이 필요하다."
   ]
  },
  {
   "cell_type": "code",
   "execution_count": 7,
   "metadata": {},
   "outputs": [
    {
     "data": {
      "text/plain": [
       "1446"
      ]
     },
     "execution_count": 7,
     "metadata": {},
     "output_type": "execute_result"
    }
   ],
   "source": [
    "df_index.values[2]"
   ]
  },
  {
   "cell_type": "code",
   "execution_count": 8,
   "metadata": {},
   "outputs": [
    {
     "ename": "AttributeError",
     "evalue": "'numpy.int64' object has no attribute 'replace'",
     "output_type": "error",
     "traceback": [
      "\u001b[1;31m---------------------------------------------------------------------------\u001b[0m",
      "\u001b[1;31mAttributeError\u001b[0m                            Traceback (most recent call last)",
      "\u001b[1;32m<ipython-input-8-2bf26616358c>\u001b[0m in \u001b[0;36m<module>\u001b[1;34m\u001b[0m\n\u001b[1;32m----> 1\u001b[1;33m \u001b[0mint\u001b[0m\u001b[1;33m(\u001b[0m\u001b[0mdf_index\u001b[0m\u001b[1;33m.\u001b[0m\u001b[0mvalues\u001b[0m\u001b[1;33m[\u001b[0m\u001b[1;36m2\u001b[0m\u001b[1;33m]\u001b[0m\u001b[1;33m.\u001b[0m\u001b[0mreplace\u001b[0m\u001b[1;33m(\u001b[0m\u001b[1;34m','\u001b[0m\u001b[1;33m,\u001b[0m \u001b[1;34m''\u001b[0m\u001b[1;33m)\u001b[0m\u001b[1;33m)\u001b[0m\u001b[1;33m\u001b[0m\u001b[1;33m\u001b[0m\u001b[0m\n\u001b[0m",
      "\u001b[1;31mAttributeError\u001b[0m: 'numpy.int64' object has no attribute 'replace'"
     ]
    }
   ],
   "source": [
    "int(df_index.values[2].replace(',', ''))"
   ]
  },
  {
   "cell_type": "markdown",
   "metadata": {},
   "source": [
    "#### <font color='blue'> # 문자열을 정수형으로 변환 </font>"
   ]
  },
  {
   "cell_type": "code",
   "execution_count": null,
   "metadata": {},
   "outputs": [],
   "source": [
    "for n in np.arange(len(df_index)):\n",
    "    df_index.values[n] = int(df_index.values[n].replace(',', ''))"
   ]
  },
  {
   "cell_type": "code",
   "execution_count": null,
   "metadata": {},
   "outputs": [],
   "source": [
    "df_index.values"
   ]
  },
  {
   "cell_type": "code",
   "execution_count": null,
   "metadata": {},
   "outputs": [],
   "source": [
    "df_index.plot(kind='bar')"
   ]
  },
  {
   "cell_type": "code",
   "execution_count": null,
   "metadata": {},
   "outputs": [],
   "source": [
    "plt.rcParams[\"figure.figsize\"] = [14,10]\n"
   ]
  },
  {
   "cell_type": "markdown",
   "metadata": {},
   "source": [
    "#### <font color='blue'> # 범죄대분류 별 건수 </font>"
   ]
  },
  {
   "cell_type": "code",
   "execution_count": null,
   "metadata": {},
   "outputs": [],
   "source": [
    "df_crime = pd.Series(df['계'].values, index=df['범죄대분류'].values)\n",
    "df_crime"
   ]
  },
  {
   "cell_type": "code",
   "execution_count": null,
   "metadata": {},
   "outputs": [],
   "source": [
    "def get_crime_cnt(d_frame):\n",
    "    crime_cnt = {}\n",
    "    for idx in range(len(d_frame.index)):\n",
    "        # print(idx, d_frame.index[idx], d_frame[idx], end=\"  \\t =>\")\n",
    "        # print(idx, crime_cnt)\n",
    "\n",
    "        crime = d_frame.index[idx]\n",
    "        count  = d_frame[idx]\n",
    "\n",
    "        if crime_cnt.get(crime):\n",
    "            crime_cnt[crime] += count\n",
    "        else:\n",
    "            crime_cnt[crime] = count\n",
    "    \n",
    "    return crime_cnt\n",
    "    \n",
    "crime_dict = get_crime_cnt(df_crime)\n",
    "crime_dict"
   ]
  },
  {
   "cell_type": "code",
   "execution_count": null,
   "metadata": {},
   "outputs": [],
   "source": [
    "crime_stat = Series(crime_dict)\n",
    "crime_stat.name = \"범죄발생수\"\n",
    "crime_stat"
   ]
  },
  {
   "cell_type": "code",
   "execution_count": null,
   "metadata": {},
   "outputs": [],
   "source": [
    "plt.rcParams[\"figure.figsize\"] = [15,15]\n",
    "# crime_stat.plot(kind='pie');\n",
    "crime_stat.plot(kind='pie', title='2016년 범죄발생 현황');"
   ]
  },
  {
   "cell_type": "markdown",
   "metadata": {},
   "source": [
    "#### <font color='blue'> # Seaborn을 사용한 데이터 시각화 </font>\n",
    "> \n",
    "- Matplotlib을 기반으로 다양한 색상 테마와 통계용 챠트 등의 기능을 추가한 시각화 패키지 \n",
    "- http://seaborn.pydata.org/index.html"
   ]
  },
  {
   "cell_type": "code",
   "execution_count": null,
   "metadata": {},
   "outputs": [],
   "source": [
    "import seaborn as sns\n",
    "sns.set()\n",
    "\n",
    "font_name = font_manager.FontProperties(fname=\"C:/Windows/Fonts/malgun.ttf\").get_name()\n",
    "rc('font', family=font_name)"
   ]
  },
  {
   "cell_type": "code",
   "execution_count": null,
   "metadata": {},
   "outputs": [],
   "source": [
    "# df_index.sort_values().head(10)\n",
    "df_index.sort_values(ascending=False).head(10)"
   ]
  },
  {
   "cell_type": "code",
   "execution_count": null,
   "metadata": {},
   "outputs": [],
   "source": [
    "plt.rcParams[\"figure.figsize\"] = [15, 5]\n",
    "df_index.plot(kind='bar', title='2016년 범죄발생 현황 (중분류)');"
   ]
  },
  {
   "cell_type": "code",
   "execution_count": null,
   "metadata": {},
   "outputs": [],
   "source": [
    "plt.rcParams[\"figure.figsize\"] = [15,10]\n",
    "# df_index.plot(kind='barh', title='2016년 범죄발생 현황 (중분류)');\n",
    "df_index.sort_values(ascending=True).tail(15).plot(kind='barh', title='2016년 범죄발생 현황 (중분류)');"
   ]
  },
  {
   "cell_type": "code",
   "execution_count": null,
   "metadata": {},
   "outputs": [],
   "source": [
    "plt.rcParams[\"figure.figsize\"] = [15,15]\n",
    "crime_stat.plot(kind='pie', title='2016년 범죄발생 현황 (대분류)', label='범죄유형별 발생수', legend=True, table=True);"
   ]
  },
  {
   "cell_type": "markdown",
   "metadata": {
    "collapsed": true
   },
   "source": [
    "<hr>\n",
    "<marquee><font size=3 color='brown'>The BigpyCraft find the information to design valuable society with Technology & Craft.</font></marquee>\n",
    "<div align='right'><font size=2 color='gray'> &lt; The End &gt; </font></div>"
   ]
  }
 ],
 "metadata": {
  "anaconda-cloud": {},
  "kernelspec": {
   "display_name": "Python 3 (ipykernel)",
   "language": "python",
   "name": "python3"
  },
  "language_info": {
   "codemirror_mode": {
    "name": "ipython",
    "version": 3
   },
   "file_extension": ".py",
   "mimetype": "text/x-python",
   "name": "python",
   "nbconvert_exporter": "python",
   "pygments_lexer": "ipython3",
   "version": "3.9.7"
  }
 },
 "nbformat": 4,
 "nbformat_minor": 1
}
