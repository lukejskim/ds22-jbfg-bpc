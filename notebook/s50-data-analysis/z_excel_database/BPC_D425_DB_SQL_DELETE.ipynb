{
 "cells": [
  {
   "cell_type": "markdown",
   "metadata": {},
   "source": [
    "# Industry 4.0 의 중심, BigData"
   ]
  },
  {
   "cell_type": "markdown",
   "metadata": {},
   "source": [
    "<div align='right'><font size=2 color='gray'>Data Processing Based Python @ <font color='blue'><a href='https://www.facebook.com/jskim.kr'>FB / jskim.kr</a></font>, 김진수</font></div>\n",
    "<hr>"
   ]
  },
  {
   "cell_type": "markdown",
   "metadata": {},
   "source": [
    "## <font color='brown'>데이터베이스, DB SQL</font>\n",
    ">  \n",
    "- 데이터베이스 및 테이블 생성\n",
    "- 데이터 생성, INSERT\n",
    "- 데이터 조회, SELECT\n",
    "- 데이터 갱신, UPDATE\n",
    "- <b><font color='FFAAAA'>데이터 삭제, DELETE</font></b>\n"
   ]
  },
  {
   "cell_type": "markdown",
   "metadata": {},
   "source": [
    "## SQLITE3"
   ]
  },
  {
   "cell_type": "code",
   "execution_count": 1,
   "metadata": {},
   "outputs": [],
   "source": [
    "import sqlite3  \n",
    "\n",
    "db_name = './database/my_books.db'"
   ]
  },
  {
   "cell_type": "markdown",
   "metadata": {},
   "source": [
    "### <font color='#CC0000'>데이터 삭제</font>"
   ]
  },
  {
   "cell_type": "code",
   "execution_count": 21,
   "metadata": {},
   "outputs": [],
   "source": [
    "import sqlite3 \n",
    "\n",
    "# 데이터 삭제용 함수\n",
    "def delete_books_by_title(db_name, title):\n",
    "    \"\"\"\n",
    "    책제목에 해당하는 데이터를 삭제하는 함수\n",
    "    Args:\n",
    "        db_name : Database Name\n",
    "        title   : Title of the book to be removed\n",
    "    Returns : \n",
    "        is_success : Boolean \n",
    "    \"\"\"\n",
    "    is_success = True\n",
    "    \n",
    "    try:    \n",
    "        # 데이터베이스 커넥션 생성\n",
    "        conn = sqlite3.connect(db_name) \n",
    "\n",
    "        # 커서 확보\n",
    "        cur = conn.cursor()  \n",
    "\n",
    "        # 데이터 삭제 SQL\n",
    "        db_sql = \"DELETE FROM my_books \"\n",
    "        db_sql+= \"WHERE title = ?      \"\n",
    "\n",
    "        # 수정 SQL 실행\n",
    "        # print('db_sql:', db_sql)\n",
    "        # print('title:', title)\n",
    "        cur.execute(db_sql, (title,))\n",
    "        # count = cur.execute(db_sql, (title,))\n",
    "        # print('count:', type(count), count)\n",
    "        \n",
    "    except:\n",
    "        is_success = False\n",
    "        print(\"Database Error!\")\n",
    "        \n",
    "    finally :      \n",
    "        if is_success:\n",
    "            # 데이터베이스 반영\n",
    "            conn.commit()  \n",
    "        else:\n",
    "            # 데이터베이스 철회\n",
    "            conn.rollback()\n",
    "            \n",
    "        # 데이터베이스 커넥션 닫기\n",
    "        conn.close()\n",
    "    \n",
    "    return is_success   \n"
   ]
  },
  {
   "cell_type": "code",
   "execution_count": 22,
   "metadata": {},
   "outputs": [
    {
     "name": "stdout",
     "output_type": "stream",
     "text": [
      "데이터가 성공적으로 삭제되었습니다.\n",
      "[1] 전체 데이터 출력하기\n"
     ]
    },
    {
     "data": {
      "text/html": [
       "<div>\n",
       "<style scoped>\n",
       "    .dataframe tbody tr th:only-of-type {\n",
       "        vertical-align: middle;\n",
       "    }\n",
       "\n",
       "    .dataframe tbody tr th {\n",
       "        vertical-align: top;\n",
       "    }\n",
       "\n",
       "    .dataframe thead th {\n",
       "        text-align: right;\n",
       "    }\n",
       "</style>\n",
       "<table border=\"1\" class=\"dataframe\">\n",
       "  <thead>\n",
       "    <tr style=\"text-align: right;\">\n",
       "      <th></th>\n",
       "      <th>title</th>\n",
       "      <th>published_date</th>\n",
       "      <th>publisher</th>\n",
       "      <th>pages</th>\n",
       "      <th>recommendation</th>\n",
       "    </tr>\n",
       "  </thead>\n",
       "  <tbody>\n",
       "    <tr>\n",
       "      <th>0</th>\n",
       "      <td>인더스트리 4.0</td>\n",
       "      <td>2016.07.09</td>\n",
       "      <td>B</td>\n",
       "      <td>584</td>\n",
       "      <td>1</td>\n",
       "    </tr>\n",
       "    <tr>\n",
       "      <th>1</th>\n",
       "      <td>유니콘 스타트업</td>\n",
       "      <td>2011.07.15</td>\n",
       "      <td>A</td>\n",
       "      <td>248</td>\n",
       "      <td>1</td>\n",
       "    </tr>\n",
       "    <tr>\n",
       "      <th>2</th>\n",
       "      <td>빅데이터 마케팅</td>\n",
       "      <td>2012.08.25</td>\n",
       "      <td>A</td>\n",
       "      <td>296</td>\n",
       "      <td>1</td>\n",
       "    </tr>\n",
       "    <tr>\n",
       "      <th>3</th>\n",
       "      <td>사물인터넷 전망</td>\n",
       "      <td>2013.08.22</td>\n",
       "      <td>B</td>\n",
       "      <td>526</td>\n",
       "      <td>0</td>\n",
       "    </tr>\n",
       "  </tbody>\n",
       "</table>\n",
       "</div>"
      ],
      "text/plain": [
       "       title published_date publisher  pages  recommendation\n",
       "0  인더스트리 4.0     2016.07.09         B    584               1\n",
       "1   유니콘 스타트업     2011.07.15         A    248               1\n",
       "2   빅데이터 마케팅     2012.08.25         A    296               1\n",
       "3   사물인터넷 전망     2013.08.22         B    526               0"
      ]
     },
     "execution_count": 22,
     "metadata": {},
     "output_type": "execute_result"
    }
   ],
   "source": [
    "title = '메가트랜드'\n",
    "if delete_books_by_title(db_name, title):\n",
    "    print('데이터가 성공적으로 삭제되었습니다.')\n",
    "else :\n",
    "    print('데이터가 삭제되지 않았습니다')\n",
    "\n",
    "is_success, books_df = select_all_books(db_name) \n",
    "books_df"
   ]
  },
  {
   "cell_type": "code",
   "execution_count": 23,
   "metadata": {},
   "outputs": [],
   "source": [
    "def delete_books(db_name, col_name, col_val):\n",
    "    \"\"\"\n",
    "    조건에 맞는 데이터를 삭제하는 함수\n",
    "    Args:\n",
    "        db_name  : Database Name\n",
    "        col_name : Column Name\n",
    "        col_val  : Column Value\n",
    "    Returns : \n",
    "        is_success : Boolean \n",
    "    \"\"\"\n",
    "    is_success = True\n",
    "    \n",
    "    try: \n",
    "        # 데이터베이스 커넥션 생성\n",
    "        conn = sqlite3.connect(db_name) \n",
    "\n",
    "        # 커서 확보\n",
    "        cur = conn.cursor()  \n",
    "\n",
    "\n",
    "        # 데이터 삭제 SQL\n",
    "        # db_sql = \"DELETE FROM my_books \"\n",
    "        # db_sql+= \"WHERE {} = '{}' \"\n",
    "        # db_sql = db_sql.format(col_name, col_val)\n",
    "        # cur.execute(db_sql)    \n",
    "\n",
    "        # # 데이터 삭제 SQL\n",
    "        db_sql = 'DELETE FROM my_books '\n",
    "        db_sql+= 'WHERE {} = ? '\n",
    "        db_sql = db_sql.format(col_name)\n",
    "\n",
    "        # 수정 SQL 실행\n",
    "        cur.execute(db_sql, (col_val,))\n",
    "\n",
    "    except:\n",
    "        is_success = False\n",
    "        print(\"Database Error!\")\n",
    "        \n",
    "    finally :      \n",
    "        if is_success:\n",
    "            # 데이터베이스 반영\n",
    "            conn.commit()  \n",
    "        else:\n",
    "            # 데이터베이스 철회\n",
    "            conn.rollback()\n",
    "            \n",
    "        # 데이터베이스 커넥션 닫기\n",
    "        conn.close()\n",
    "    \n",
    "    return is_success   \n"
   ]
  },
  {
   "cell_type": "code",
   "execution_count": 24,
   "metadata": {},
   "outputs": [
    {
     "name": "stdout",
     "output_type": "stream",
     "text": [
      "[1] 전체 데이터 출력하기\n"
     ]
    },
    {
     "data": {
      "text/html": [
       "<div>\n",
       "<style scoped>\n",
       "    .dataframe tbody tr th:only-of-type {\n",
       "        vertical-align: middle;\n",
       "    }\n",
       "\n",
       "    .dataframe tbody tr th {\n",
       "        vertical-align: top;\n",
       "    }\n",
       "\n",
       "    .dataframe thead th {\n",
       "        text-align: right;\n",
       "    }\n",
       "</style>\n",
       "<table border=\"1\" class=\"dataframe\">\n",
       "  <thead>\n",
       "    <tr style=\"text-align: right;\">\n",
       "      <th></th>\n",
       "      <th>title</th>\n",
       "      <th>published_date</th>\n",
       "      <th>publisher</th>\n",
       "      <th>pages</th>\n",
       "      <th>recommendation</th>\n",
       "    </tr>\n",
       "  </thead>\n",
       "  <tbody>\n",
       "    <tr>\n",
       "      <th>0</th>\n",
       "      <td>인더스트리 4.0</td>\n",
       "      <td>2016.07.09</td>\n",
       "      <td>B</td>\n",
       "      <td>584</td>\n",
       "      <td>1</td>\n",
       "    </tr>\n",
       "    <tr>\n",
       "      <th>1</th>\n",
       "      <td>유니콘 스타트업</td>\n",
       "      <td>2011.07.15</td>\n",
       "      <td>A</td>\n",
       "      <td>248</td>\n",
       "      <td>1</td>\n",
       "    </tr>\n",
       "    <tr>\n",
       "      <th>2</th>\n",
       "      <td>빅데이터 마케팅</td>\n",
       "      <td>2012.08.25</td>\n",
       "      <td>A</td>\n",
       "      <td>296</td>\n",
       "      <td>1</td>\n",
       "    </tr>\n",
       "    <tr>\n",
       "      <th>3</th>\n",
       "      <td>사물인터넷 전망</td>\n",
       "      <td>2013.08.22</td>\n",
       "      <td>B</td>\n",
       "      <td>526</td>\n",
       "      <td>0</td>\n",
       "    </tr>\n",
       "  </tbody>\n",
       "</table>\n",
       "</div>"
      ],
      "text/plain": [
       "       title published_date publisher  pages  recommendation\n",
       "0  인더스트리 4.0     2016.07.09         B    584               1\n",
       "1   유니콘 스타트업     2011.07.15         A    248               1\n",
       "2   빅데이터 마케팅     2012.08.25         A    296               1\n",
       "3   사물인터넷 전망     2013.08.22         B    526               0"
      ]
     },
     "execution_count": 24,
     "metadata": {},
     "output_type": "execute_result"
    }
   ],
   "source": [
    "is_success, books_df = select_all_books(db_name) \n",
    "books_df"
   ]
  },
  {
   "cell_type": "code",
   "execution_count": 25,
   "metadata": {},
   "outputs": [
    {
     "name": "stdout",
     "output_type": "stream",
     "text": [
      "데이터가 성공적으로 삭제되었습니다.\n",
      "[1] 전체 데이터 출력하기\n"
     ]
    },
    {
     "data": {
      "text/html": [
       "<div>\n",
       "<style scoped>\n",
       "    .dataframe tbody tr th:only-of-type {\n",
       "        vertical-align: middle;\n",
       "    }\n",
       "\n",
       "    .dataframe tbody tr th {\n",
       "        vertical-align: top;\n",
       "    }\n",
       "\n",
       "    .dataframe thead th {\n",
       "        text-align: right;\n",
       "    }\n",
       "</style>\n",
       "<table border=\"1\" class=\"dataframe\">\n",
       "  <thead>\n",
       "    <tr style=\"text-align: right;\">\n",
       "      <th></th>\n",
       "      <th>title</th>\n",
       "      <th>published_date</th>\n",
       "      <th>publisher</th>\n",
       "      <th>pages</th>\n",
       "      <th>recommendation</th>\n",
       "    </tr>\n",
       "  </thead>\n",
       "  <tbody>\n",
       "    <tr>\n",
       "      <th>0</th>\n",
       "      <td>인더스트리 4.0</td>\n",
       "      <td>2016.07.09</td>\n",
       "      <td>B</td>\n",
       "      <td>584</td>\n",
       "      <td>1</td>\n",
       "    </tr>\n",
       "    <tr>\n",
       "      <th>1</th>\n",
       "      <td>사물인터넷 전망</td>\n",
       "      <td>2013.08.22</td>\n",
       "      <td>B</td>\n",
       "      <td>526</td>\n",
       "      <td>0</td>\n",
       "    </tr>\n",
       "  </tbody>\n",
       "</table>\n",
       "</div>"
      ],
      "text/plain": [
       "       title published_date publisher  pages  recommendation\n",
       "0  인더스트리 4.0     2016.07.09         B    584               1\n",
       "1   사물인터넷 전망     2013.08.22         B    526               0"
      ]
     },
     "execution_count": 25,
     "metadata": {},
     "output_type": "execute_result"
    }
   ],
   "source": [
    "col_name = 'publisher'\n",
    "col_val  = 'A'\n",
    "if delete_books(db_name, col_name, col_val):\n",
    "    print('데이터가 성공적으로 삭제되었습니다.')\n",
    "else :\n",
    "    print('데이터가 삭제되지 않았습니다')\n",
    "\n",
    "is_success, books_df = select_all_books(db_name) \n",
    "books_df"
   ]
  },
  {
   "cell_type": "code",
   "execution_count": 26,
   "metadata": {},
   "outputs": [
    {
     "name": "stdout",
     "output_type": "stream",
     "text": [
      "데이터가 성공적으로 삭제되었습니다.\n",
      "[1] 전체 데이터 출력하기\n"
     ]
    },
    {
     "data": {
      "text/html": [
       "<div>\n",
       "<style scoped>\n",
       "    .dataframe tbody tr th:only-of-type {\n",
       "        vertical-align: middle;\n",
       "    }\n",
       "\n",
       "    .dataframe tbody tr th {\n",
       "        vertical-align: top;\n",
       "    }\n",
       "\n",
       "    .dataframe thead th {\n",
       "        text-align: right;\n",
       "    }\n",
       "</style>\n",
       "<table border=\"1\" class=\"dataframe\">\n",
       "  <thead>\n",
       "    <tr style=\"text-align: right;\">\n",
       "      <th></th>\n",
       "      <th>title</th>\n",
       "      <th>published_date</th>\n",
       "      <th>publisher</th>\n",
       "      <th>pages</th>\n",
       "      <th>recommendation</th>\n",
       "    </tr>\n",
       "  </thead>\n",
       "  <tbody>\n",
       "    <tr>\n",
       "      <th>0</th>\n",
       "      <td>인더스트리 4.0</td>\n",
       "      <td>2016.07.09</td>\n",
       "      <td>B</td>\n",
       "      <td>584</td>\n",
       "      <td>1</td>\n",
       "    </tr>\n",
       "  </tbody>\n",
       "</table>\n",
       "</div>"
      ],
      "text/plain": [
       "       title published_date publisher  pages  recommendation\n",
       "0  인더스트리 4.0     2016.07.09         B    584               1"
      ]
     },
     "execution_count": 26,
     "metadata": {},
     "output_type": "execute_result"
    }
   ],
   "source": [
    "col_name = 'title'\n",
    "col_val  = '사물인터넷 전망'\n",
    "if delete_books(db_name, col_name, col_val):\n",
    "    print('데이터가 성공적으로 삭제되었습니다.')\n",
    "else :\n",
    "    print('데이터가 삭제되지 않았습니다')\n",
    "\n",
    "is_success, books_df = select_all_books(db_name) \n",
    "books_df"
   ]
  },
  {
   "cell_type": "markdown",
   "metadata": {},
   "source": [
    "<hr>\n",
    "<marquee><font size=3 color='brown'>The BigpyCraft find the information to design valuable society with Technology & Craft.</font></marquee>\n",
    "<div align='right'><font size=2 color='gray'> &lt; The End &gt; </font></div>"
   ]
  }
 ],
 "metadata": {
  "kernelspec": {
   "display_name": "Python 3",
   "language": "python",
   "name": "python3"
  },
  "language_info": {
   "codemirror_mode": {
    "name": "ipython",
    "version": 3
   },
   "file_extension": ".py",
   "mimetype": "text/x-python",
   "name": "python",
   "nbconvert_exporter": "python",
   "pygments_lexer": "ipython3",
   "version": "3.7.1"
  }
 },
 "nbformat": 4,
 "nbformat_minor": 2
}
