{
 "cells": [
  {
   "cell_type": "markdown",
   "metadata": {},
   "source": [
    "# Industry 4.0 의 중심, BigData"
   ]
  },
  {
   "cell_type": "markdown",
   "metadata": {},
   "source": [
    "<div align='right'><font size=2 color='gray'>Data Processing Based Python @ <font color='blue'><a href='https://www.facebook.com/jskim.kr'>FB / jskim.kr</a></font>, 김진수</font></div>\n",
    "<hr>"
   ]
  },
  {
   "cell_type": "markdown",
   "metadata": {},
   "source": [
    "## <font color='brown'>데이터베이스, DB SQL</font>\n",
    ">  \n",
    "- 데이터베이스 및 테이블 생성\n",
    "- 데이터 생성, INSERT\n",
    "- 데이터 조회, SELECT\n",
    "- 데이터 갱신, UPDATE\n",
    "- 데이터 삭제, DELETE"
   ]
  },
  {
   "cell_type": "markdown",
   "metadata": {},
   "source": [
    "## SQLITE3"
   ]
  },
  {
   "cell_type": "markdown",
   "metadata": {},
   "source": [
    "```python\n",
    "\n",
    "# sqlite3 command\n",
    "\n",
    "> pip install sqlite\n",
    "> pip install dataset\n",
    "\n",
    "> sqlite3 ./database/my_books.db\n",
    "\n",
    "sqlite> .help\n",
    "sqlite> .databases\n",
    "sqlite> .tables\n",
    "sqlite> .schema my_books\n",
    "CREATE TABLE my_books (\n",
    "    title text,\n",
    "    published_date text,\n",
    "    publisher text,\n",
    "    pages integer,\n",
    "    recommendation integer\n",
    ");\n",
    "sqlite> .quit\n",
    "\n",
    "\n",
    "\n",
    "sqlite> .tables\n",
    "sqlite> SELECT * FROM my_books;\n",
    "\n",
    "sqlite> INSERT INTO my_books VALUES ('인더스트리 4.0',  '2016.07.09','B', 584, 1);\n",
    "sqlite> INSERT INTO my_books VALUES ('유니콘 스타트업', '2011.07.15','A', 248, 1);\n",
    "sqlite> INSERT INTO my_books VALUES ('빅데이터 마케팅', '2012.08.25','A', 296, 1);\n",
    "sqlite> INSERT INTO my_books VALUES ('사물인터넷 전망', '2013.08.22','B', 526, 0);\n",
    "\n",
    "sqlite> INSERT INTO my_books VALUES ('메가트랜드', '2002.03.02','A', 200, 0)\n",
    "sqlite> INSERT INTO my_books VALUES ('머신러닝',   '2019.08.22','BPC', 600, 0);\n",
    "sqlite> INSERT INTO my_books VALUES ('딥러닝',     '2019.08.25','BPC', 500, 0);\n",
    "sqlite> INSERT INTO my_books VALUES ('빅데이터',   '2019.07.15','BPC', 400, 0);\n",
    "\n",
    "sqlite> SELECT title, publisher, published_date FROM my_books;\n",
    "\n",
    "sqlite> SELECT published_date, title, publisher FROM my_books\n",
    "sqlite> WHERE  pages > 300;\n",
    "\n",
    "sqlite> SELECT published_date, title, publisher FROM my_books\n",
    "sqlite> WHERE  publisher = 'BPC' AND pages > 450;\n",
    "\n",
    "sqlite> SELECT * FROM my_books WHERE recommendation=1;\n",
    "\n",
    "sqlite> UPDATE my_books SET recommendation=1 WHERE title='빅데이터';\n",
    "\n",
    "sqlite> DELETE FROM my_books WHERE recommendation=0;\n",
    "\n",
    "sqlite> SELECT * FROM my_books;\n",
    "\n",
    "\n",
    "```"
   ]
  },
  {
   "cell_type": "markdown",
   "metadata": {},
   "source": [
    "<hr>\n",
    "<marquee><font size=3 color='brown'>The BigpyCraft find the information to design valuable society with Technology & Craft.</font></marquee>\n",
    "<div align='right'><font size=2 color='gray'> &lt; The End &gt; </font></div>"
   ]
  }
 ],
 "metadata": {
  "kernelspec": {
   "display_name": "Python 3",
   "language": "python",
   "name": "python3"
  },
  "language_info": {
   "codemirror_mode": {
    "name": "ipython",
    "version": 3
   },
   "file_extension": ".py",
   "mimetype": "text/x-python",
   "name": "python",
   "nbconvert_exporter": "python",
   "pygments_lexer": "ipython3",
   "version": "3.7.1"
  }
 },
 "nbformat": 4,
 "nbformat_minor": 2
}
