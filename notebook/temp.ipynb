{
 "cells": [
  {
   "cell_type": "code",
   "execution_count": 1,
   "id": "287d2b62",
   "metadata": {},
   "outputs": [
    {
     "name": "stdout",
     "output_type": "stream",
     "text": [
      " F 드라이브의 볼륨: Samsung_T5\n",
      " 볼륨 일련 번호: 844F-BA7F\n",
      "\n",
      " F:\\project\\itech_lab\\_jbfg-ds22\\ds22-ipynb 디렉터리\n",
      "\n",
      "2022-05-22  오전 01:47    <DIR>          .\n",
      "2022-05-22  오전 01:47    <DIR>          ..\n",
      "2019-08-20  오전 12:29    <DIR>          s10-python_reviews\n",
      "2022-05-22  오전 02:15    <DIR>          images\n",
      "2022-05-22  오후 04:42    <DIR>          .ipynb_checkpoints\n",
      "2022-05-23  오후 11:10             7,628 README_JB활용.ipynb\n",
      "2022-05-23  오후 11:09             1,548 마크다운_활용법.md\n",
      "2019-11-14  오후 03:58    <DIR>          c20-python-packages\n",
      "2022-05-23  오후 11:04    <DIR>          s20-algorithm_practice\n",
      "2022-05-24  오전 02:22    <DIR>          s30-python-packages\n",
      "2022-05-24  오전 02:22    <DIR>          s40-stat-packages\n",
      "2022-05-25  오전 02:44                72 temp.ipynb\n",
      "               3개 파일               9,248 바이트\n",
      "               9개 디렉터리  140,768,968,704 바이트 남음\n"
     ]
    }
   ],
   "source": [
    "!dir"
   ]
  },
  {
   "cell_type": "code",
   "execution_count": 5,
   "id": "e1878671",
   "metadata": {},
   "outputs": [
    {
     "name": "stdout",
     "output_type": "stream",
     "text": [
      " F 드라이브의 볼륨: Samsung_T5\n",
      " 볼륨 일련 번호: 844F-BA7F\n",
      "\n",
      " F:\\project\\itech_lab\\_jbfg-ds22\\ds22-ipynb\\s40-stat-packages 디렉터리\n",
      "\n",
      "2022-05-24  오전 02:22    <DIR>          .\n",
      "2022-05-24  오전 02:22    <DIR>          ..\n",
      "2020-12-16  오전 01:14           949,389 BPC_B335_Matplotlib_Quiz20_mission.ipynb\n",
      "2022-05-23  오전 12:20           115,752 BPC_B310_NumPy.ipynb\n",
      "2022-05-25  오전 02:39           115,028 BPC_B311_NumPy.ipynb\n",
      "2022-05-25  오전 02:37           416,648 BPC_B312_NumPy.ipynb\n",
      "2022-05-25  오전 02:41           475,379 BPC_B312_NumPy-Copy1.ipynb\n",
      "2019-08-22  오후 07:45           179,793 BPC_B313_NumPy.ipynb\n",
      "2022-05-23  오전 01:22            48,984 BPC_B315_NumPy.ipynb\n",
      "2022-05-23  오전 02:01            94,247 BPC_B316_NumPy.ipynb\n",
      "2019-08-22  오후 07:47           258,066 BPC_B320_Pandas.ipynb\n",
      "2019-08-22  오후 07:46           259,410 BPC_B321_Pandas.ipynb\n",
      "2019-08-22  오후 07:48           313,106 BPC_B322_Pandas.ipynb\n",
      "2019-08-25  오후 11:55           314,802 BPC_B322_Pandas_ver2.ipynb\n",
      "2019-08-22  오후 07:50           243,484 BPC_B323_Pandas.ipynb\n",
      "2019-08-25  오후 11:57           191,084 BPC_B323_Pandas_ver2.ipynb\n",
      "2022-05-23  오후 04:24           118,197 BPC_B324_Pandas.ipynb\n",
      "2019-08-25  오후 11:59           125,344 BPC_B324_Pandas_ver2.ipynb\n",
      "2019-08-22  오후 07:49            37,119 BPC_B325_Pandas.ipynb\n",
      "2022-05-23  오후 04:20            78,410 BPC_B326_Pandas.ipynb\n",
      "2022-05-23  오후 06:10             3,700 BPC_B329_Pandas_10M_00.ipynb\n",
      "2022-05-23  오후 06:27           112,581 BPC_B329_Pandas_10M_01.ipynb\n",
      "2022-05-23  오후 06:27            90,082 BPC_B329_Pandas_10M_02.ipynb\n",
      "2022-05-23  오후 06:27           115,278 BPC_B329_Pandas_10M_03.ipynb\n",
      "2019-08-27  오전 01:22         1,012,942 BPC_B330_Matplotlib.ipynb\n",
      "2019-08-22  오후 07:52           455,294 BPC_B331_Matplotlib_Basic_Chart.ipynb\n",
      "2019-08-22  오후 07:52           693,347 BPC_B332_Matplotlib_Color_Style.ipynb\n",
      "2019-08-22  오후 07:52           468,660 BPC_B333_Matplotlib_Annotattion.ipynb\n",
      "2019-08-22  오후 07:53         2,994,089 BPC_B334_Matplotlib_Seaborn.ipynb\n",
      "2019-08-28  오후 04:43         3,144,998 BPC_B334_Matplotlib_Seaborn_ver2.ipynb\n",
      "2020-12-16  오전 01:19           953,252 BPC_B335_Matplotlib_Quiz.ipynb\n",
      "2020-12-16  오전 01:06           949,389 BPC_B335_Matplotlib_Quiz_mission.ipynb\n",
      "2020-12-16  오전 01:15           954,831 BPC_B335_Matplotlib_Quiz20.ipynb\n",
      "2022-05-25  오전 02:13             6,873 README.md\n",
      "2022-05-25  오전 02:32    <DIR>          .ipynb_checkpoints\n",
      "2022-05-25  오전 02:33    <DIR>          images\n",
      "              32개 파일          16,289,558 바이트\n",
      "               4개 디렉터리  140,768,968,704 바이트 남음\n"
     ]
    }
   ],
   "source": [
    "!dir .\\s40-stat-packages"
   ]
  },
  {
   "cell_type": "code",
   "execution_count": null,
   "id": "4fb99fdd",
   "metadata": {},
   "outputs": [],
   "source": []
  }
 ],
 "metadata": {
  "kernelspec": {
   "display_name": "Python 3 (ipykernel)",
   "language": "python",
   "name": "python3"
  },
  "language_info": {
   "codemirror_mode": {
    "name": "ipython",
    "version": 3
   },
   "file_extension": ".py",
   "mimetype": "text/x-python",
   "name": "python",
   "nbconvert_exporter": "python",
   "pygments_lexer": "ipython3",
   "version": "3.9.7"
  }
 },
 "nbformat": 4,
 "nbformat_minor": 5
}
