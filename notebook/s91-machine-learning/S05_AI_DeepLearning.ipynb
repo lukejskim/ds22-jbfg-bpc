{
 "cells": [
  {
   "cell_type": "markdown",
   "metadata": {},
   "source": [
    "# S05. 딥 러닝"
   ]
  },
  {
   "cell_type": "markdown",
   "metadata": {},
   "source": [
    "<h3>합성곱 신경망</h3>"
   ]
  },
  {
   "cell_type": "code",
   "execution_count": 1,
   "metadata": {},
   "outputs": [
    {
     "name": "stdout",
     "output_type": "stream",
     "text": [
      "Extracting ./tmp/data/train-images-idx3-ubyte.gz\n",
      "Extracting ./tmp/data/train-labels-idx1-ubyte.gz\n",
      "Extracting ./tmp/data/t10k-images-idx3-ubyte.gz\n",
      "Extracting ./tmp/data/t10k-labels-idx1-ubyte.gz\n"
     ]
    }
   ],
   "source": [
    "# MINST 데이터 로드\n",
    "import input_data\n",
    "mnist = input_data.read_data_sets(\"./tmp/data/\",one_hot=True)\n",
    "import tensorflow as tf"
   ]
  },
  {
   "cell_type": "code",
   "execution_count": 2,
   "metadata": {
    "collapsed": true
   },
   "outputs": [],
   "source": [
    "# 매개변수 설정\n",
    "learning_rate  = 0.001\n",
    "training_iters = 100000\n",
    "batch_size     = 128\n",
    "display_step   = 10"
   ]
  },
  {
   "cell_type": "code",
   "execution_count": 3,
   "metadata": {
    "collapsed": true
   },
   "outputs": [],
   "source": [
    "# 신경망 관련 매개변수 설정\n",
    "n_input   = 784   # MNIST 입력 데이터 크기(이미지 모양: 28*28)\n",
    "n_classes = 10    # MNIST 클래스 개수(0부터 9까지의 숫자 손 글씨)\n",
    "dropout   = 0.75  # 드롭아웃에서 드롭되지 않을 확률(0에서 1 사이의 값)"
   ]
  },
  {
   "cell_type": "code",
   "execution_count": 4,
   "metadata": {
    "collapsed": true
   },
   "outputs": [],
   "source": [
    "# 텐서플로 변수 설정 및 초기화\n",
    "x = tf.placeholder(tf.float32, [None, n_input])\n",
    "y = tf.placeholder(tf.float32, [None, n_classes])\n",
    "\n",
    "# 드롭아웃에서 드롭되지 않을 확률(0에서 1 사이의 값)\n",
    "keep_prob = tf.placeholder(tf.float32)"
   ]
  },
  {
   "cell_type": "code",
   "execution_count": 5,
   "metadata": {},
   "outputs": [],
   "source": [
    "# 모델 생성\n",
    "def conv2d(img, w, b):\n",
    "    return tf.nn.relu(tf.nn.bias_add(tf.nn.conv2d(img, w,strides=[1, 1, 1, 1],padding='SAME'),b))\n",
    "\n",
    "def max_pool(img, k):\n",
    "    return tf.nn.max_pool(img, ksize=[1, k, k, 1],strides=[1, k, k, 1],padding='SAME')"
   ]
  },
  {
   "cell_type": "code",
   "execution_count": 6,
   "metadata": {
    "collapsed": true
   },
   "outputs": [],
   "source": [
    "# 레이어의 가중치 행렬과 편향 행렬 저장\n",
    "# 5x5 크기의 커널, 1차원의 입력 데이터, 32차원의 출력 데이터\n",
    "wc1 = tf.Variable(tf.random_normal([5, 5, 1, 32]))\n",
    "bc1 = tf.Variable(tf.random_normal([32]))\n",
    "\n",
    "# 5x5 크기의 커널, 32차원의 입력 데이터, 64차원의 출력 데이터\n",
    "wc2 = tf.Variable(tf.random_normal([5, 5, 32, 64]))\n",
    "bc2 = tf.Variable(tf.random_normal([64]))\n",
    "\n",
    "# 완전 연결 레이어, 7*7*64 크기의 입력 데이터, 크기 1024의 출력 데이터\n",
    "wd1 = tf.Variable(tf.random_normal([7*7*64, 1024]))\n",
    "\n",
    "# 크기 1024의 입력 데이터, 크기 10의 출력 데이터(입력 데이터에 대한 클래스 개수)\n",
    "wout = tf.Variable(tf.random_normal([1024, n_classes]))\n",
    "bd1  = tf.Variable(tf.random_normal([1024]))\n",
    "bout = tf.Variable(tf.random_normal([n_classes]))\n",
    "\n",
    "# 모델 생성\n",
    "_X = tf.reshape(x, shape=[-1, 28, 28, 1])"
   ]
  },
  {
   "cell_type": "code",
   "execution_count": 7,
   "metadata": {
    "collapsed": true
   },
   "outputs": [],
   "source": [
    "# 합성곱 레이어\n",
    "conv1 = conv2d(_X, wc1, bc1)\n",
    "\n",
    "# 최댓값 풀링(다운 샘플링)\n",
    "conv1 = max_pool(conv1, k=2)\n",
    "\n",
    "# 드롭아웃 적용\n",
    "conv1 = tf.nn.dropout(conv1,keep_prob)\n",
    "\n",
    "# 합성곱 레이어\n",
    "conv2 = conv2d(conv1, wc2, bc2)\n",
    "\n",
    "# 최댓값 풀링(다운 샘플링)\n",
    "conv2 = max_pool(conv2, k=2)\n",
    "\n",
    "# 드롭아웃 적용\n",
    "conv2 = tf.nn.dropout(conv2, keep_prob)"
   ]
  },
  {
   "cell_type": "code",
   "execution_count": 8,
   "metadata": {
    "collapsed": true
   },
   "outputs": [],
   "source": [
    "# 완전 연결 레이어\n",
    "# 완전 연결 레이어 형성을 위해 3차원의 conv2를 1차원으로 변환\n",
    "dense1 = tf.reshape(conv2, [-1, wd1.get_shape().as_list()[0]])\n",
    "\n",
    "# ReLU 활성화 함수 적용\n",
    "dense1 = tf.nn.relu(tf.add(tf.matmul(dense1, wd1),bd1))\n",
    "\n",
    "# 드롭아웃 적용\n",
    "dense1 = tf.nn.dropout(dense1, keep_prob)\n",
    "\n",
    "# 클래스 예측\n",
    "pred = tf.add(tf.matmul(dense1, wout), bout)"
   ]
  },
  {
   "cell_type": "code",
   "execution_count": 9,
   "metadata": {},
   "outputs": [],
   "source": [
    "# 비용 함수와 최적화 함수 설정\n",
    "cost = tf.reduce_mean(tf.nn.softmax_cross_entropy_with_logits(logits=pred, labels=y))\n",
    "optimizer = tf.train.AdamOptimizer(learning_rate=learning_rate).minimize(cost)\n",
    "\n",
    "# 모델 성능 평가\n",
    "correct_pred = tf.equal(tf.argmax(pred,1), tf.argmax(y,1))\n",
    "accuracy = tf.reduce_mean(tf.cast(correct_pred, tf.float32))\n",
    "\n",
    "# 변수 초기화\n",
    "init = tf.global_variables_initializer()"
   ]
  },
  {
   "cell_type": "raw",
   "metadata": {},
   "source": [
    "# 세션 실행\n",
    "with tf.Session() as sess:\n",
    "    sess.run(init)\n",
    "    step = 1\n",
    "    \n",
    "    # training_iters에 지정된 횟수만큼 학습 반복\n",
    "    while step * batch_size < training_iters:\n",
    "        batch_xs, batch_ys = mnist.train.next_batch(batch_size)\n",
    "        # 모든 배치에 대해 학습 진행\n",
    "        sess.run(optimizer, feed_dict={x: batch_xs,y: batch_ys,keep_prob: dropout})\n",
    "        if step % display_step == 0:\n",
    "            # 배치(batch) 단위의 정확도 평가\n",
    "            acc = sess.run(accuracy, feed_dict={x: batch_xs,y: batch_ys,keep_prob: 1.})\n",
    "            # batch 단위의 비용 평가\n",
    "            loss = sess.run(cost, feed_dict={x: batch_xs,y: batch_ys,keep_prob: 1.})\n",
    "            print(\"Iter \" + str(step*batch_size) + \",\\t Minibatch Loss= \" + \"{:.6f}\".format(loss) + \",\\t Training Accuracy= \" + \"{:.5f}\".format(acc))\n",
    "        step += 1\n",
    "    \n",
    "    print(\"Optimization Finished!\")\n",
    "    \n",
    "    # 256개의 MNIST 이미지에 대한 성능 평가\n",
    "    print(\"Testing Accuracy:\",sess.run(accuracy,feed_dict={x: mnist.test.images[:256], y: mnist.test.labels[:256],keep_prob: 1.}))"
   ]
  },
  {
   "cell_type": "code",
   "execution_count": 10,
   "metadata": {},
   "outputs": [
    {
     "name": "stdout",
     "output_type": "stream",
     "text": [
      "Iter 1280,\t Minibatch Loss= 43246.867188,\t Training Accuracy= 0.11719\n",
      "Iter 2560,\t Minibatch Loss= 24717.005859,\t Training Accuracy= 0.39062\n",
      "Iter 3840,\t Minibatch Loss= 13979.078125,\t Training Accuracy= 0.44531\n",
      "Iter 5120,\t Minibatch Loss= 9683.902344,\t Training Accuracy= 0.61719\n",
      "Iter 6400,\t Minibatch Loss= 8363.915039,\t Training Accuracy= 0.62500\n",
      "Iter 7680,\t Minibatch Loss= 6307.967773,\t Training Accuracy= 0.70312\n",
      "Iter 8960,\t Minibatch Loss= 6082.391602,\t Training Accuracy= 0.70312\n",
      "Iter 10240,\t Minibatch Loss= 3788.845703,\t Training Accuracy= 0.82031\n",
      "Iter 11520,\t Minibatch Loss= 4447.407715,\t Training Accuracy= 0.77344\n",
      "Iter 12800,\t Minibatch Loss= 4019.078613,\t Training Accuracy= 0.77344\n",
      "Iter 14080,\t Minibatch Loss= 2659.312988,\t Training Accuracy= 0.78125\n",
      "Iter 15360,\t Minibatch Loss= 2575.833252,\t Training Accuracy= 0.85156\n",
      "Iter 16640,\t Minibatch Loss= 3779.660645,\t Training Accuracy= 0.79688\n",
      "Iter 17920,\t Minibatch Loss= 4650.366211,\t Training Accuracy= 0.80469\n",
      "Iter 19200,\t Minibatch Loss= 1943.532959,\t Training Accuracy= 0.84375\n",
      "Iter 20480,\t Minibatch Loss= 1958.225830,\t Training Accuracy= 0.85938\n",
      "Iter 21760,\t Minibatch Loss= 3729.334473,\t Training Accuracy= 0.78906\n",
      "Iter 23040,\t Minibatch Loss= 1889.940063,\t Training Accuracy= 0.82812\n",
      "Iter 24320,\t Minibatch Loss= 1560.887817,\t Training Accuracy= 0.85938\n",
      "Iter 25600,\t Minibatch Loss= 3240.453369,\t Training Accuracy= 0.84375\n",
      "Iter 26880,\t Minibatch Loss= 1694.950073,\t Training Accuracy= 0.86719\n",
      "Iter 28160,\t Minibatch Loss= 2614.826172,\t Training Accuracy= 0.85938\n",
      "Iter 29440,\t Minibatch Loss= 2489.508789,\t Training Accuracy= 0.85938\n",
      "Iter 30720,\t Minibatch Loss= 1300.637695,\t Training Accuracy= 0.89844\n",
      "Iter 32000,\t Minibatch Loss= 1366.211548,\t Training Accuracy= 0.86719\n",
      "Iter 33280,\t Minibatch Loss= 1938.577759,\t Training Accuracy= 0.80469\n",
      "Iter 34560,\t Minibatch Loss= 1189.488892,\t Training Accuracy= 0.89844\n",
      "Iter 35840,\t Minibatch Loss= 735.706543,\t Training Accuracy= 0.92969\n",
      "Iter 37120,\t Minibatch Loss= 1947.089600,\t Training Accuracy= 0.82812\n",
      "Iter 38400,\t Minibatch Loss= 1111.742676,\t Training Accuracy= 0.91406\n",
      "Iter 39680,\t Minibatch Loss= 2016.738892,\t Training Accuracy= 0.87500\n",
      "Iter 40960,\t Minibatch Loss= 202.480026,\t Training Accuracy= 0.92969\n",
      "Iter 42240,\t Minibatch Loss= 1408.256226,\t Training Accuracy= 0.91406\n",
      "Iter 43520,\t Minibatch Loss= 1383.997681,\t Training Accuracy= 0.89844\n",
      "Iter 44800,\t Minibatch Loss= 1685.418335,\t Training Accuracy= 0.88281\n",
      "Iter 46080,\t Minibatch Loss= 925.419495,\t Training Accuracy= 0.92188\n",
      "Iter 47360,\t Minibatch Loss= 1198.582275,\t Training Accuracy= 0.90625\n",
      "Iter 48640,\t Minibatch Loss= 1432.875977,\t Training Accuracy= 0.89844\n",
      "Iter 49920,\t Minibatch Loss= 835.239014,\t Training Accuracy= 0.89844\n",
      "Iter 51200,\t Minibatch Loss= 1798.458740,\t Training Accuracy= 0.87500\n",
      "Iter 52480,\t Minibatch Loss= 822.032410,\t Training Accuracy= 0.91406\n",
      "Iter 53760,\t Minibatch Loss= 2184.290527,\t Training Accuracy= 0.83594\n",
      "Iter 55040,\t Minibatch Loss= 878.595581,\t Training Accuracy= 0.90625\n",
      "Iter 56320,\t Minibatch Loss= 1111.638184,\t Training Accuracy= 0.86719\n",
      "Iter 57600,\t Minibatch Loss= 1386.413696,\t Training Accuracy= 0.87500\n",
      "Iter 58880,\t Minibatch Loss= 1107.039917,\t Training Accuracy= 0.90625\n",
      "Iter 60160,\t Minibatch Loss= 1685.618408,\t Training Accuracy= 0.85938\n",
      "Iter 61440,\t Minibatch Loss= 643.358582,\t Training Accuracy= 0.91406\n",
      "Iter 62720,\t Minibatch Loss= 571.704712,\t Training Accuracy= 0.91406\n",
      "Iter 64000,\t Minibatch Loss= 1105.383423,\t Training Accuracy= 0.90625\n",
      "Iter 65280,\t Minibatch Loss= 531.247681,\t Training Accuracy= 0.94531\n",
      "Iter 66560,\t Minibatch Loss= 562.758728,\t Training Accuracy= 0.90625\n",
      "Iter 67840,\t Minibatch Loss= 1032.502197,\t Training Accuracy= 0.90625\n",
      "Iter 69120,\t Minibatch Loss= 719.052856,\t Training Accuracy= 0.90625\n",
      "Iter 70400,\t Minibatch Loss= 884.365112,\t Training Accuracy= 0.90625\n",
      "Iter 71680,\t Minibatch Loss= 587.318420,\t Training Accuracy= 0.94531\n",
      "Iter 72960,\t Minibatch Loss= 626.313599,\t Training Accuracy= 0.90625\n",
      "Iter 74240,\t Minibatch Loss= 597.179504,\t Training Accuracy= 0.90625\n",
      "Iter 75520,\t Minibatch Loss= 1156.302612,\t Training Accuracy= 0.87500\n",
      "Iter 76800,\t Minibatch Loss= 1162.497437,\t Training Accuracy= 0.89844\n",
      "Iter 78080,\t Minibatch Loss= 1356.342041,\t Training Accuracy= 0.85938\n",
      "Iter 79360,\t Minibatch Loss= 470.325470,\t Training Accuracy= 0.94531\n",
      "Iter 80640,\t Minibatch Loss= 849.536804,\t Training Accuracy= 0.93750\n",
      "Iter 81920,\t Minibatch Loss= 625.462830,\t Training Accuracy= 0.91406\n",
      "Iter 83200,\t Minibatch Loss= 346.315765,\t Training Accuracy= 0.96094\n",
      "Iter 84480,\t Minibatch Loss= 756.444214,\t Training Accuracy= 0.90625\n",
      "Iter 85760,\t Minibatch Loss= 896.990173,\t Training Accuracy= 0.86719\n",
      "Iter 87040,\t Minibatch Loss= 340.214966,\t Training Accuracy= 0.95312\n",
      "Iter 88320,\t Minibatch Loss= 850.337097,\t Training Accuracy= 0.89844\n",
      "Iter 89600,\t Minibatch Loss= 460.865784,\t Training Accuracy= 0.94531\n",
      "Iter 90880,\t Minibatch Loss= 407.931549,\t Training Accuracy= 0.94531\n",
      "Iter 92160,\t Minibatch Loss= 704.054260,\t Training Accuracy= 0.92188\n",
      "Iter 93440,\t Minibatch Loss= 591.405151,\t Training Accuracy= 0.89844\n",
      "Iter 94720,\t Minibatch Loss= 440.523438,\t Training Accuracy= 0.91406\n",
      "Iter 96000,\t Minibatch Loss= 466.833313,\t Training Accuracy= 0.90625\n",
      "Iter 97280,\t Minibatch Loss= 460.267181,\t Training Accuracy= 0.93750\n",
      "Iter 98560,\t Minibatch Loss= 614.761719,\t Training Accuracy= 0.92969\n",
      "Iter 99840,\t Minibatch Loss= 429.205566,\t Training Accuracy= 0.93750\n",
      "Optimization Finished!\n",
      "Testing Accuracy: 0.945313\n"
     ]
    }
   ],
   "source": [
    "# 세션 실행\n",
    "sess = tf.Session()\n",
    "sess.run(init)\n",
    "step = 1\n",
    "\n",
    "# training_iters에 지정된 횟수만큼 학습 반복\n",
    "while step * batch_size < training_iters:\n",
    "    batch_xs, batch_ys = mnist.train.next_batch(batch_size)\n",
    "    # 모든 배치에 대해 학습 진행\n",
    "    sess.run(optimizer, feed_dict={x: batch_xs,y: batch_ys,keep_prob: dropout})\n",
    "    if step % display_step == 0:\n",
    "        # 배치(batch) 단위의 정확도 평가\n",
    "        acc = sess.run(accuracy, feed_dict={x: batch_xs,y: batch_ys,keep_prob: 1.})\n",
    "        # batch 단위의 비용 평가\n",
    "        loss = sess.run(cost, feed_dict={x: batch_xs,y: batch_ys,keep_prob: 1.})\n",
    "        print(\"Iter \" + str(step*batch_size) + \",\\t Minibatch Loss= \" + \"{:.6f}\".format(loss) + \",\\t Training Accuracy= \" + \"{:.5f}\".format(acc))\n",
    "    step += 1\n",
    "\n",
    "print(\"Optimization Finished!\")\n",
    "\n",
    "# 256개의 MNIST 이미지에 대한 성능 평가\n",
    "print(\"Testing Accuracy:\",sess.run(accuracy,feed_dict={x: mnist.test.images[:256], y: mnist.test.labels[:256],keep_prob: 1.}))"
   ]
  },
  {
   "cell_type": "code",
   "execution_count": 11,
   "metadata": {},
   "outputs": [
    {
     "data": {
      "text/plain": [
       "0"
      ]
     },
     "execution_count": 11,
     "metadata": {},
     "output_type": "execute_result"
    }
   ],
   "source": []
  },
  {
   "cell_type": "code",
   "execution_count": null,
   "metadata": {
    "collapsed": true
   },
   "outputs": [],
   "source": []
  }
 ],
 "metadata": {
  "anaconda-cloud": {},
  "kernelspec": {
   "display_name": "Python 3 (ipykernel)",
   "language": "python",
   "name": "python3"
  },
  "language_info": {
   "codemirror_mode": {
    "name": "ipython",
    "version": 3
   },
   "file_extension": ".py",
   "mimetype": "text/x-python",
   "name": "python",
   "nbconvert_exporter": "python",
   "pygments_lexer": "ipython3",
   "version": "3.9.12"
  }
 },
 "nbformat": 4,
 "nbformat_minor": 1
}
