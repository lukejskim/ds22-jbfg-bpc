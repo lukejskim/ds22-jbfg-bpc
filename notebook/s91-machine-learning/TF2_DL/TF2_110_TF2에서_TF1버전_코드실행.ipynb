{
 "cells": [
  {
   "cell_type": "markdown",
   "metadata": {},
   "source": [
    "# Industry 4.0 의 중심, AI - ML&DL"
   ]
  },
  {
   "cell_type": "markdown",
   "metadata": {
    "collapsed": true
   },
   "source": [
    "<div align='right'><font size=2 color='gray'>Python For BigData @ <font color='blue'><a href='https://www.facebook.com/jskim.kr'>FB / jskim.kr</a></font>, [김진수](bigpycraft@gmail.com)</font></div>\n",
    "<hr>"
   ]
  },
  {
   "cell_type": "markdown",
   "metadata": {},
   "source": [
    "## TensorFlow 2.0\n",
    ">  \n",
    "> - [TF2.x에서 TF1.x버전 코드 실행 및 자동 변환 스크립트    ][tf2_31]\n",
    "> - [AttributeError: module 'tensorflow' has no attribute 'ConfigProto' ][tf2_42]\n",
    "\n",
    "[tf2_31]: https://lv99.tistory.com/31 \"Go tf2_31\"\n",
    "[tf2_42]: https://lv99.tistory.com/42 \"Go tf2_42\"\n"
   ]
  },
  {
   "cell_type": "markdown",
   "metadata": {},
   "source": [
    "<img src=\"./images/TF2_main.png\">\n",
    "TensorFlow 2.0 is here!"
   ]
  },
  {
   "cell_type": "markdown",
   "metadata": {},
   "source": [
    "### 1. 텐서플로우 2.0 환경에서 1.x 코드 실행하기\n",
    "> \n",
    "> - tensorflow.compat 을 활용하여, 여전히 1.x버전의 코드를 간단히 실행 가능\n",
    "> - 하지만, 2.0의 장점을 사용할 수 는 없음."
   ]
  },
  {
   "cell_type": "code",
   "execution_count": 1,
   "metadata": {},
   "outputs": [
    {
     "name": "stdout",
     "output_type": "stream",
     "text": [
      "WARNING:tensorflow:From C:\\Python\\anaconda3\\lib\\site-packages\\tensorflow\\python\\compat\\v2_compat.py:107: disable_resource_variables (from tensorflow.python.ops.variable_scope) is deprecated and will be removed in a future version.\n",
      "Instructions for updating:\n",
      "non-resource variables are not supported in the long term\n"
     ]
    }
   ],
   "source": [
    "import tensorflow.compat.v1 as tf\n",
    "tf.disable_v2_behavior()"
   ]
  },
  {
   "cell_type": "markdown",
   "metadata": {},
   "source": [
    "### 2. 텐서플로우 1.x 코드를 2.0 코드로 업그레이드하기\n",
    "> \n",
    "> - 2.0으로 바꾸시려면 업그레이드 스크립트를 사용하고, \n",
    "> - 자동변환되지 않는 부분에 대해서 직접 수정을 거쳐야합니다\n",
    "> - <font color='brown'>주의하실 점은, 먼저 코드를 직접 변환하다가 업그레이드 스크립트를 쓰면 안됩니다.</font>\n",
    "> - 파라미터의 순서가 변동된 함수는 스크립트가 혼동할 수 있기 때문입니다!\n"
   ]
  },
  {
   "cell_type": "markdown",
   "metadata": {},
   "source": [
    "#### 1) 단일 파일에 대한 업데이트"
   ]
  },
  {
   "cell_type": "markdown",
   "metadata": {},
   "source": [
    "```python\n",
    "tf_upgrade_v2 --infile tensorfoo.py --outfile tensorfoo-upgraded.py\n",
    "```"
   ]
  },
  {
   "cell_type": "markdown",
   "metadata": {},
   "source": [
    "#### 2) 디렉토리 트리(폴더)에 대한 업데이트"
   ]
  },
  {
   "cell_type": "markdown",
   "metadata": {},
   "source": [
    "```python\n",
    "tf_upgrade_v2 --intree coolcode --outtree coolcode-upgraded\n",
    "```"
   ]
  },
  {
   "cell_type": "markdown",
   "metadata": {},
   "source": [
    "#### 3)  ipynb 파일을 위한 텐서플로우 코드 마이그레이션\n",
    "> \n",
    "> - tf2up.ml 참조 \n",
    "> - Link : http://tf2up.ml/ "
   ]
  },
  {
   "cell_type": "markdown",
   "metadata": {},
   "source": [
    "<img src=\"./images/tf2up_ml.png\">"
   ]
  },
  {
   "cell_type": "code",
   "execution_count": null,
   "metadata": {},
   "outputs": [],
   "source": []
  },
  {
   "cell_type": "markdown",
   "metadata": {},
   "source": [
    "### 3. AttributeError: module 'tensorflow' has no attribute 'ConfigProto'\n",
    "> 위 글에 이어서, 연계되어서 나타나는 tf 2.0, tf 2.x에서 나타나는 에러\n",
    "> - tensorflow에서는 ConfigProto() 또한 1.x 버전의 잔유물로서 사용됩니다."
   ]
  },
  {
   "cell_type": "markdown",
   "metadata": {},
   "source": [
    "- 경로가 바뀌었기 때문에\n",
    "<br/> <font color='green'>tf.compat.v1.ConfigProto() </font> 로 사용해야합니다.\n",
    "<br/><br/>\n",
    "- Session과 GPU를 잘 잡는지 확인하려고 보통 함께 사용하는 함수는 다음과 같았죠.\n",
    "<br/> <font color='green'>sess = tf.Session(config=tf.ConfigProto(log_device_placement=True))</font> \n",
    "<br/><br/>\n",
    "- 이것을 에러 없이 사용하려면 아래와 같습니다.\n",
    "<br/> <font color='green'>sess = tf.compat.v1.Session(config=tf.compat.v1.ConfigProto(log_device_placement=True))</font> \n"
   ]
  },
  {
   "cell_type": "code",
   "execution_count": null,
   "metadata": {},
   "outputs": [],
   "source": []
  },
  {
   "cell_type": "code",
   "execution_count": null,
   "metadata": {},
   "outputs": [],
   "source": []
  },
  {
   "cell_type": "code",
   "execution_count": null,
   "metadata": {},
   "outputs": [],
   "source": []
  },
  {
   "cell_type": "markdown",
   "metadata": {},
   "source": [
    "<hr>\n",
    "<marquee><font size=3 color='brown'>The BigpyCraft find the information to design valuable society with Technology & Craft.</font></marquee>\n",
    "<div align='right'><font size=2 color='gray'> &lt; The End &gt; </font></div>"
   ]
  }
 ],
 "metadata": {
  "kernelspec": {
   "display_name": "Python 3 (ipykernel)",
   "language": "python",
   "name": "python3"
  },
  "language_info": {
   "codemirror_mode": {
    "name": "ipython",
    "version": 3
   },
   "file_extension": ".py",
   "mimetype": "text/x-python",
   "name": "python",
   "nbconvert_exporter": "python",
   "pygments_lexer": "ipython3",
   "version": "3.9.12"
  }
 },
 "nbformat": 4,
 "nbformat_minor": 2
}
