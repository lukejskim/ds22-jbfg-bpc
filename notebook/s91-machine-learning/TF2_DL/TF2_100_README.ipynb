{
 "cells": [
  {
   "cell_type": "markdown",
   "metadata": {},
   "source": [
    "# Industry 4.0 의 중심, AI - ML&DL"
   ]
  },
  {
   "cell_type": "markdown",
   "metadata": {
    "collapsed": true
   },
   "source": [
    "<div align='right'><font size=2 color='gray'>Python For BigData @ <font color='blue'><a href='https://www.facebook.com/jskim.kr'>FB / jskim.kr</a></font>, [김진수](bigpycraft@gmail.com)</font></div>\n",
    "<hr>"
   ]
  },
  {
   "cell_type": "markdown",
   "metadata": {},
   "source": [
    "<img src=\"./images/TF2_main.png\">"
   ]
  },
  {
   "cell_type": "markdown",
   "metadata": {},
   "source": [
    "## TensorFlow 2.0\n",
    ">  \n",
    "> - [TF2.x에서 TF1.x버전 코드 실행 및 자동 변환 스크립트    ][tf2_31]\n",
    "> - [TF2의 주요기능 (TF와 Keras의 장점 결합)                ][tf2_38]\n",
    "\n",
    "[tf2_31]: https://lv99.tistory.com/31 \"Go tf2_31\"\n",
    "[tf2_38]: https://lv99.tistory.com/38 \"Go tf2_38\"\n"
   ]
  },
  {
   "cell_type": "markdown",
   "metadata": {},
   "source": [
    "## Machine Learning for BigData\n",
    "\n",
    "- <a href=\"https://htmlpreview.github.io/?https://github.com/bigpycraft/iitp18-multicampus/blob/master/section-E/html/BDA-ML101-Basics_operations.html                 \"> 1-1. Basics operations                  </a>\n",
    "- <a href=\"https://htmlpreview.github.io/?https://github.com/bigpycraft/iitp18-multicampus/blob/master/section-E/html/BDA-ML102-Linear_Regression.html                 \"> 1-2. Linear Regression                  </a>\n",
    "- <a href=\"https://htmlpreview.github.io/?https://github.com/bigpycraft/iitp18-multicampus/blob/master/section-E/html/BDA-ML103-Minimizing_Cost.html                   \"> 1-3. Minimizing Cost                    </a>\n",
    "- <a href=\"https://htmlpreview.github.io/?https://github.com/bigpycraft/iitp18-multicampus/blob/master/section-E/html/BDA-ML104-Multi-Variable_linear_regression.html  \"> 1-4. Multi-Variable linear regression   </a>\n",
    "<br/><br/>\n",
    "- <a href=\"https://htmlpreview.github.io/?https://github.com/bigpycraft/iitp18-multicampus/blob/master/section-E/html/BDA-ML201-Logistic_classifier_ver2.html          \"> 2-1. Logistic classifier                </a>\n",
    "- <a href=\"https://htmlpreview.github.io/?https://github.com/bigpycraft/iitp18-multicampus/blob/master/section-E/html/BDA-ML202-Softmax_Classifier.html                \"> 2-2. Softmax Classifier                 </a>\n",
    "<br/><br/>\n",
    "- <a href=\"https://htmlpreview.github.io/?https://github.com/bigpycraft/iitp18-multicampus/blob/master/section-E/html/BDA-ML301-Learning_rate_Evaluation.html          \"> 3-1. Learning rate Evaluation           </a>\n",
    "- <a href=\"https://htmlpreview.github.io/?https://github.com/bigpycraft/iitp18-multicampus/blob/master/section-E/html/BDA-ML302-Tensor_Manipulation.html               \"> 3-2. Tensor Manipulation                </a>\n",
    "<br/><br/>\n",
    "- <a href=\"https://htmlpreview.github.io/?https://github.com/bigpycraft/iitp18-multicampus/blob/master/section-E/html/BDA-ML401-Neural_Networks.html                   \"> 4-1. Neural Networks 1                  </a>\n",
    "- <a href=\"https://htmlpreview.github.io/?https://github.com/bigpycraft/iitp18-multicampus/blob/master/section-E/html/BDA-ML402_Neural_Networks.html                   \"> 4-2. Neural Networks 2                  </a>\n",
    "    - <a href=\"https://htmlpreview.github.io/?https://github.com/bigpycraft/iitp18-multicampus/blob/master/section-E/html/BDA-ML402_Neural_Networks_2-1.html           \"> 4-2-1. Neural Networks (1)              </a>\n",
    "    - <a href=\"https://htmlpreview.github.io/?https://github.com/bigpycraft/iitp18-multicampus/blob/master/section-E/html/BDA-ML402_Neural_Networks_2-2.html           \"> 4-2-2. Neural Networks (2)              </a>\n",
    "<br/><br/>\n",
    "- <a href=\"https://htmlpreview.github.io/?https://github.com/bigpycraft/iitp18-multicampus/blob/master/section-E/html/BDA-ML511-Softmax_for_MNIST.html                 \"> 5-1. Softmax for MNIST                  </a>\n",
    "- <a href=\"https://htmlpreview.github.io/?https://github.com/bigpycraft/iitp18-multicampus/blob/master/section-E/html/BDA-ML512-NN_for_MNIST.html                      \"> 5-2. NN for MNIST                       </a>\n",
    "- <a href=\"https://htmlpreview.github.io/?https://github.com/bigpycraft/iitp18-multicampus/blob/master/section-E/html/BDA-ML513-MNIST_NN_Xavier2.html                  \"> 5-3. MNIST NN Xavier initialization(1)  </a>\n",
    "- <a href=\"https://htmlpreview.github.io/?https://github.com/bigpycraft/iitp18-multicampus/blob/master/section-E/html/BDA-ML513-MNIST_NN_Xavier3.html                  \"> 5-3. MNIST NN Xavier initialization(2)  </a>\n",
    "- <a href=\"https://htmlpreview.github.io/?https://github.com/bigpycraft/iitp18-multicampus/blob/master/section-E/html/BDA-ML514-MNIST_NN_deep.html                     \"> 5-4. MNIST NN deep                      </a>\n",
    "- <a href=\"https://htmlpreview.github.io/?https://github.com/bigpycraft/iitp18-multicampus/blob/master/section-E/html/BDA-ML515-MNIST_NN_Dropout.html                  \"> 5-5. MNIST NN Dropout                   </a>\n",
    "<br/><br/>\n",
    "- <a href=\"https://htmlpreview.github.io/?https://github.com/bigpycraft/iitp18-multicampus/blob/master/section-E/html/BDA-ML516-MNIST_NN_Batchnorm.html                \"> Ref1. MNIST NN Batchnorm                </a>\n",
    "- <a href=\"https://htmlpreview.github.io/?https://github.com/bigpycraft/iitp18-multicampus/blob/master/section-E/html/BDA-ML517-MNIST_NN_Higher_Level_API.html         \"> Ref2. MNIST NN Higher Level API         </a>\n",
    "<br/><br/>\n",
    "- <a href=\"https://htmlpreview.github.io/?https://github.com/bigpycraft/iitp18-multicampus/blob/master/section-E/html/BDA-ML620-CNN_Basics.html                        \"> 6. Convolution Neural Network           </a>\n",
    "- <a href=\"https://htmlpreview.github.io/?https://github.com/bigpycraft/iitp18-multicampus/blob/master/section-E/html/BDA-ML621-MNIST_CNN.html                         \"> 6-1. MNIST CNN                          </a>\n",
    "- <a href=\"https://htmlpreview.github.io/?https://github.com/bigpycraft/iitp18-multicampus/blob/master/section-E/html/BDA-ML622-MNIST_Deep_CNN.html                    \"> 6-2. MNIST Deep CNN                     </a>\n",
    "- <a href=\"https://htmlpreview.github.io/?https://github.com/bigpycraft/iitp18-multicampus/blob/master/section-E/html/BDA-ML623-MNIST_CNN_Class.html                   \"> 6-3. MNIST CNN Class                    </a>\n",
    "- <a href=\"https://htmlpreview.github.io/?https://github.com/bigpycraft/iitp18-multicampus/blob/master/section-E/html/BDA-ML624-MNIST_CNN_Layers.html                  \"> 6-4. MNIST CNN Layers                   </a>\n",
    "- <a href=\"https://htmlpreview.github.io/?https://github.com/bigpycraft/iitp18-multicampus/blob/master/section-E/html/BDA-ML625-MNIST_CNN_Ensemble_Layers.html         \"> 6-5. MNIST CNN Ensemble Layers          </a>\n",
    "<br/><br/>\n",
    "- <a href=\"https://htmlpreview.github.io/?https://github.com/bigpycraft/iitp18-multicampus/blob/master/section-E/html/BDA-ML721_RNN_String_Sequence.html               \"> 7. Recurrent Neural Network             </a>\n",
    "- <a href=\"https://htmlpreview.github.io/?https://github.com/bigpycraft/iitp18-multicampus/blob/master/section-E/html/BDA-ML721_RNN_String_Sequence.html               \"> 7-1. RNN String Sequence                </a>\n",
    "- <a href=\"https://htmlpreview.github.io/?https://github.com/bigpycraft/iitp18-multicampus/blob/master/section-E/html/BDA-ML722_RNN_Sentence_Sequence.html             \"> 7-2. RNN Sentence Sequence              </a>\n",
    "- <a href=\"https://htmlpreview.github.io/?https://github.com/bigpycraft/iitp18-multicampus/blob/master/section-E/html/BDA-ML723_Only_Softmax_Sentence_Sequence.html    \"> 7-3. Only Softmax Sentence Sequence     </a>\n",
    "- <a href=\"https://htmlpreview.github.io/?https://github.com/bigpycraft/iitp18-multicampus/blob/master/section-E/html/BDA-ML724_RNN_Long_Sentence.html                 \"> 7-4. RNN Long Sentence                  </a>\n",
    "- <a href=\"https://htmlpreview.github.io/?https://github.com/bigpycraft/iitp18-multicampus/blob/master/section-E/html/BDA-ML725_RNN_Stock_Prediction.html              \"> 7-5. RNN Stock Prediction               </a>\n",
    "<br/><br/>\n",
    "- <a href=\"https://htmlpreview.github.io/?https://github.com/bigpycraft/iitp18-multicampus/blob/master/section-E/html/BDA-ML810_NN_Saver.html         \"> Tip. DeepLearning Model Saver & Reuse  </a>\n",
    "<br/><br/>"
   ]
  },
  {
   "cell_type": "markdown",
   "metadata": {},
   "source": [
    "<hr>\n",
    "\n",
    "### TensorFlow\n",
    "\n",
    "<table align=\"left\">\n",
    "    <tr align=\"left\">\n",
    "        <td width=\"200\">\n",
    "            <a href=\"https://www.tensorflow.org/\">\n",
    "            <img src=\"../images/TensorFlow_logo2.png\" width=\"150\" />\n",
    "            </a>\n",
    "        </td>\n",
    "        <td width=\"800\">\n",
    "<div align=\"left\">\n",
    "    <b> - TensorFlow.org </b> : https://www.tensorflow.org/\n",
    "    <br/><br/> - An open source machine learning library for research and production.\n",
    "    <br/><br/>\n",
    "    <b> 1. TenforFlow Install  : <a href='https://www.tensorflow.org/install/'>[설치가이드]</a>\n",
    "    <br/><br/>\n",
    "    <b> 2. TenforFlow Develop : <a href='https://www.tensorflow.org/tutorials/'>[튜토리얼]</a>\n",
    "    <br/><br/>\n",
    "    <b> 3. TensorFlow Community </b> : <a href='https://www.tensorflow.org/community/'>[커뮤니티]</a>\n",
    "    <br/><br/>\n",
    "    <b> cf. Environment : Install a Python 3.5.x or Python 3.6.x 64-bit release for Windows </b>\n",
    "</div>\n",
    "        </td>\n",
    "    </tr>\n",
    "</table>\n",
    "<br/>\n"
   ]
  },
  {
   "cell_type": "markdown",
   "metadata": {},
   "source": [
    "<hr>\n",
    "\n",
    "<h3> Jupyter Notebook </h3>\n",
    "\n",
    "<table align=\"left\">\n",
    "    <tr align=\"left\">\n",
    "        <td width=\"200\">\n",
    "            <a href=\"https://www.seleniumhq.org/projects/webdriver/\">\n",
    "            <img src=\"../images/jupyter.jpg\" width=\"150\" />\n",
    "            </a>\n",
    "        </td>\n",
    "        <td width=\"800\">\n",
    "<div align=\"left\">\n",
    "<b> Latest : Version 5.3 | Release Date: September 28, 2018 </b>\n",
    "<br/>\n",
    "- Filename : Anaconda3-5.3.0-Windows-x86_64.exe \n",
    "<br/>\n",
    "- Download : https://www.anaconda.com/download/\n",
    "<br/>\n",
    "- Check the OS version & bit (32bit / 64bit)\n",
    "</div>\n",
    "<br/>\n",
    "<div align=\"left\">\n",
    "<b> Recommand : Version 5.2 | Release Date: May 30, 2018 </b>\n",
    "<br/>\n",
    "- Filename : Anaconda3-5.2.0-Windows-x86_64.exe\n",
    "<br/>\n",
    "- Download : https://repo.continuum.io/archive/ \n",
    "<br/>\n",
    "- Reason : TF Requires Python 3.4, 3.5, or 3.6 \n",
    "<br/>\n",
    "- TensorFlow : https://www.tensorflow.org/install/pip\n",
    "</div></td>\n",
    "    </tr>\n",
    "</table>\n",
    "<br/>\n"
   ]
  },
  {
   "cell_type": "markdown",
   "metadata": {},
   "source": [
    "<hr>\n",
    "\n",
    "### Microsoft Azuer Notebooks\n",
    "\n",
    "<table align=\"left\">\n",
    "    <tr align=\"left\">\n",
    "        <td width=\"200\">\n",
    "            <a href=\"https://notebooks.azure.com/\">\n",
    "            <img src=\"../images/microsoft.jpg\" width=\"100\" />\n",
    "            </a>\n",
    "        </td>\n",
    "        <td width=\"800\">\n",
    "<div align=\"left\">\n",
    "- <b> Microsoft Azure Notebooks </b> : https://notebooks.azure.com/\n",
    "<br/><br/>\n",
    "- Interactive coding in my browser\n",
    "<br/><br/>\n",
    "- Free, in the cloud, powered by jupyter\n",
    "</div></td>\n",
    "    </tr>\n",
    "</table>\n",
    "<br/>\n"
   ]
  },
  {
   "cell_type": "markdown",
   "metadata": {},
   "source": [
    "<hr>\n",
    "<marquee><font size=3 color='brown'>The BigpyCraft find the information to design valuable society with Technology & Craft.</font></marquee>\n",
    "<div align='right'><font size=2 color='gray'> &lt; The End &gt; </font></div>"
   ]
  }
 ],
 "metadata": {
  "kernelspec": {
   "display_name": "Python 3 (ipykernel)",
   "language": "python",
   "name": "python3"
  },
  "language_info": {
   "codemirror_mode": {
    "name": "ipython",
    "version": 3
   },
   "file_extension": ".py",
   "mimetype": "text/x-python",
   "name": "python",
   "nbconvert_exporter": "python",
   "pygments_lexer": "ipython3",
   "version": "3.9.12"
  }
 },
 "nbformat": 4,
 "nbformat_minor": 2
}
