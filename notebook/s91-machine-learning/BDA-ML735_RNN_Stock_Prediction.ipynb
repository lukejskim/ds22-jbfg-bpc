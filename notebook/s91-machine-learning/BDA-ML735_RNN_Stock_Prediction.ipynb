{
 "cells": [
  {
   "cell_type": "markdown",
   "metadata": {},
   "source": [
    "# Industry 4.0 의 중심, AI - ML&DL"
   ]
  },
  {
   "cell_type": "markdown",
   "metadata": {},
   "source": [
    "<div align='right'><font size=2 color='gray'>Machine Learning & Deep Learning with TensorFlow @ <font color='blue'><a href='https://www.facebook.com/jskim.kr'>FB / jskim.kr</a></font>, 김진수</font></div>\n",
    "<hr>"
   ]
  },
  {
   "cell_type": "markdown",
   "metadata": {},
   "source": [
    "# Sect12. RNN (Recurrent Newural Network)"
   ]
  },
  {
   "cell_type": "code",
   "execution_count": 1,
   "metadata": {
    "collapsed": true
   },
   "outputs": [],
   "source": [
    "from images import bigpycraft_ai as bpc\n",
    "from IPython.display import Image \n",
    "from tqdm import tqdm_notebook"
   ]
  },
  {
   "cell_type": "code",
   "execution_count": 2,
   "metadata": {
    "collapsed": true
   },
   "outputs": [],
   "source": [
    "import time\n",
    "import os\n",
    "\n",
    "def chk_processting_time(start_time, end_time):\n",
    "    process_time = end_time - start_time\n",
    "    p_time = int(process_time)\n",
    "    p_min = p_time // 60\n",
    "    p_sec = p_time %  60\n",
    "    print('처리시간 : {p_min}분 {p_sec}초 경과되었습니다.'.format(\n",
    "            p_min = p_min, \n",
    "            p_sec = p_sec\n",
    "        ))\n",
    "    return process_time"
   ]
  },
  {
   "cell_type": "markdown",
   "metadata": {},
   "source": [
    "### 12-5. rnn_stock_prediction\n",
    "\n",
    "<hr>\n",
    "``` python \n",
    "\n",
    "import tensorflow as tf\n",
    "import numpy as np\n",
    "import matplotlib.pyplot as plt\n",
    "tf.set_random_seed(777)  # reproducibility\n",
    "\n",
    "\n",
    "def MinMaxScaler(data):\n",
    "    numerator = data - np.min(data, 0)\n",
    "    denominator = np.max(data, 0) - np.min(data, 0)\n",
    "    # noise term prevents the zero division\n",
    "    return numerator / (denominator + 1e-7)\n",
    "\n",
    "\n",
    "timesteps = seq_length = 7\n",
    "data_dim = 5\n",
    "output_dim = 1\n",
    "\n",
    "# Open, High, Low, Volume, Close\n",
    "xy = np.loadtxt('./data/data-02-stock_daily.csv', delimiter=',')\n",
    "xy = xy[::-1]  # reverse order (chronically ordered)\n",
    "xy = MinMaxScaler(xy)\n",
    "x = xy\n",
    "y = xy[:, [-1]]  # Close as label\n",
    "\n",
    "dataX = []\n",
    "dataY = []\n",
    "for i in range(0, len(y) - seq_length):\n",
    "    _x = x[i:i + seq_length]\n",
    "    _y = y[i + seq_length]  # Next close price\n",
    "    print(_x, \"->\", _y)\n",
    "    dataX.append(_x)\n",
    "    dataY.append(_y)\n",
    "\n",
    "# split to train and testing\n",
    "train_size = int(len(dataY) * 0.7)\n",
    "test_size = len(dataY) - train_size\n",
    "trainX, testX = np.array(dataX[0:train_size]), np.array(\n",
    "    dataX[train_size:len(dataX)])\n",
    "trainY, testY = np.array(dataY[0:train_size]), np.array(\n",
    "    dataY[train_size:len(dataY)])\n",
    "\n",
    "# input place holders\n",
    "X = tf.placeholder(tf.float32, [None, seq_length, data_dim])\n",
    "Y = tf.placeholder(tf.float32, [None, 1])\n",
    "\n",
    "cell = tf.contrib.rnn.BasicLSTMCell(num_units=output_dim, state_is_tuple=True)\n",
    "outputs, _states = tf.nn.dynamic_rnn(cell, X, dtype=tf.float32)\n",
    "Y_pred = outputs[:, -1]  # We use the last cell's output\n",
    "\n",
    "print(outputs[:, -1])\n",
    "\n",
    "# cost/loss\n",
    "loss = tf.reduce_sum(tf.square(Y_pred - Y))  # sum of the squares\n",
    "# optimizer\n",
    "optimizer = tf.train.GradientDescentOptimizer(0.01)\n",
    "train = optimizer.minimize(loss)\n",
    "\n",
    "# RMSE\n",
    "targets = tf.placeholder(tf.float32, [None, 1])\n",
    "predictions = tf.placeholder(tf.float32, [None, 1])\n",
    "rmse = tf.sqrt(tf.reduce_mean(tf.square(targets - predictions)))\n",
    "\n",
    "sess = tf.Session()\n",
    "sess.run(tf.global_variables_initializer())\n",
    "\n",
    "for i in range(500):\n",
    "    _, step_loss = sess.run([train, loss], feed_dict={X: trainX, Y: trainY})\n",
    "    print(i, step_loss)\n",
    "\n",
    "testPredict = sess.run(Y_pred, feed_dict={X: testX})\n",
    "print(\"RMSE\", sess.run(rmse, feed_dict={\n",
    "      targets: testY, predictions: testPredict}))\n",
    "plt.plot(testY)\n",
    "plt.plot(testPredict)\n",
    "plt.xlabel(\"Time Period\")\n",
    "plt.ylabel(\"Stock Price\")\n",
    "plt.show()\n",
    "\n",
    "\n",
    "```\n",
    "\n",
    "<hr>"
   ]
  },
  {
   "cell_type": "code",
   "execution_count": 3,
   "metadata": {},
   "outputs": [
    {
     "name": "stderr",
     "output_type": "stream",
     "text": [
      "C:\\Python\\Anaconda3-50\\lib\\site-packages\\h5py\\__init__.py:34: FutureWarning: Conversion of the second argument of issubdtype from `float` to `np.floating` is deprecated. In future, it will be treated as `np.float64 == np.dtype(float).type`.\n",
      "  from ._conv import register_converters as _register_converters\n"
     ]
    }
   ],
   "source": [
    "import tensorflow as tf\n",
    "import numpy as np\n",
    "import matplotlib.pyplot as plt\n",
    "tf.set_random_seed(777)  # reproducibility\n"
   ]
  },
  {
   "cell_type": "code",
   "execution_count": 4,
   "metadata": {
    "collapsed": true
   },
   "outputs": [],
   "source": [
    "def MinMaxScaler(data):\n",
    "    numerator = data - np.min(data, 0)\n",
    "    denominator = np.max(data, 0) - np.min(data, 0)\n",
    "    # noise term prevents the zero division\n",
    "    return numerator / (denominator + 1e-7)"
   ]
  },
  {
   "cell_type": "code",
   "execution_count": 5,
   "metadata": {
    "collapsed": true
   },
   "outputs": [],
   "source": [
    "timesteps = seq_length = 7\n",
    "data_dim = 5\n",
    "output_dim = 1\n",
    "\n",
    "# Open, High, Low, Volume, Close\n",
    "xy = np.loadtxt('./data/data-02-stock_daily.csv', delimiter=',')\n",
    "xy = xy[::-1]  # reverse order (chronically ordered)\n",
    "xy = MinMaxScaler(xy)\n",
    "x = xy\n",
    "y = xy[:, [-1]]  # Close as label\n"
   ]
  },
  {
   "cell_type": "code",
   "execution_count": 6,
   "metadata": {},
   "outputs": [
    {
     "data": {
      "text/plain": [
       "((732, 5), (732, 1))"
      ]
     },
     "execution_count": 6,
     "metadata": {},
     "output_type": "execute_result"
    }
   ],
   "source": [
    "x.shape, y.shape"
   ]
  },
  {
   "cell_type": "code",
   "execution_count": 7,
   "metadata": {},
   "outputs": [],
   "source": [
    "dataX = []\n",
    "dataY = []\n",
    "for i in range(0, len(y) - seq_length):\n",
    "    _x = x[i:i + seq_length]\n",
    "    _y = y[i + seq_length]  # Next close price\n",
    "    # print(_x, \"->\", _y)\n",
    "    dataX.append(_x)\n",
    "    dataY.append(_y)"
   ]
  },
  {
   "cell_type": "code",
   "execution_count": 8,
   "metadata": {},
   "outputs": [
    {
     "data": {
      "text/plain": [
       "([array([[2.13751054e-01, 2.08179810e-01, 1.91791832e-01, 4.66075110e-04,\n",
       "          1.92092403e-01],\n",
       "         [1.93935034e-01, 2.03641926e-01, 2.08664571e-01, 2.98467330e-03,\n",
       "          1.96551555e-01],\n",
       "         [2.10516454e-01, 2.05289413e-01, 2.03558748e-01, 2.59926504e-04,\n",
       "          1.87749731e-01],\n",
       "         [1.86678765e-01, 2.09480567e-01, 2.08781843e-01, 0.00000000e+00,\n",
       "          2.17448151e-01],\n",
       "         [3.06973882e-01, 3.14634137e-01, 2.18993665e-01, 1.24764722e-02,\n",
       "          2.16981885e-01],\n",
       "         [2.19142110e-01, 2.63907214e-01, 2.24686396e-01, 4.56323384e-01,\n",
       "          2.24967473e-01],\n",
       "         [2.33129931e-01, 2.36419163e-01, 1.62682724e-01, 5.70171193e-01,\n",
       "          1.47442742e-01]]),\n",
       "  array([[1.93935034e-01, 2.03641926e-01, 2.08664571e-01, 2.98467330e-03,\n",
       "          1.96551555e-01],\n",
       "         [2.10516454e-01, 2.05289413e-01, 2.03558748e-01, 2.59926504e-04,\n",
       "          1.87749731e-01],\n",
       "         [1.86678765e-01, 2.09480567e-01, 2.08781843e-01, 0.00000000e+00,\n",
       "          2.17448151e-01],\n",
       "         [3.06973882e-01, 3.14634137e-01, 2.18993665e-01, 1.24764722e-02,\n",
       "          2.16981885e-01],\n",
       "         [2.19142110e-01, 2.63907214e-01, 2.24686396e-01, 4.56323384e-01,\n",
       "          2.24967473e-01],\n",
       "         [2.33129931e-01, 2.36419163e-01, 1.62682724e-01, 5.70171193e-01,\n",
       "          1.47442742e-01],\n",
       "         [1.34312008e-01, 1.51758773e-01, 1.16172520e-01, 3.93806579e-01,\n",
       "          1.32899618e-01]]),\n",
       "  array([[2.10516454e-01, 2.05289413e-01, 2.03558748e-01, 2.59926504e-04,\n",
       "          1.87749731e-01],\n",
       "         [1.86678765e-01, 2.09480567e-01, 2.08781843e-01, 0.00000000e+00,\n",
       "          2.17448151e-01],\n",
       "         [3.06973882e-01, 3.14634137e-01, 2.18993665e-01, 1.24764722e-02,\n",
       "          2.16981885e-01],\n",
       "         [2.19142110e-01, 2.63907214e-01, 2.24686396e-01, 4.56323384e-01,\n",
       "          2.24967473e-01],\n",
       "         [2.33129931e-01, 2.36419163e-01, 1.62682724e-01, 5.70171193e-01,\n",
       "          1.47442742e-01],\n",
       "         [1.34312008e-01, 1.51758773e-01, 1.16172520e-01, 3.93806579e-01,\n",
       "          1.32899618e-01],\n",
       "         [1.39732317e-01, 1.70604289e-01, 1.58603816e-01, 2.81733441e-01,\n",
       "          1.81716793e-01]])],\n",
       " [array([0.13289962]), array([0.18171679]), array([0.2086465])])"
      ]
     },
     "execution_count": 8,
     "metadata": {},
     "output_type": "execute_result"
    }
   ],
   "source": [
    "dataX[:3], dataY[:3]"
   ]
  },
  {
   "cell_type": "code",
   "execution_count": 9,
   "metadata": {},
   "outputs": [
    {
     "name": "stdout",
     "output_type": "stream",
     "text": [
      "Tensor(\"strided_slice_1:0\", shape=(?, 1), dtype=float32)\n"
     ]
    }
   ],
   "source": [
    "# split to train and testing\n",
    "train_size = int(len(dataY) * 0.7)\n",
    "test_size = len(dataY) - train_size\n",
    "trainX, testX = np.array(dataX[0:train_size]), np.array(\n",
    "    dataX[train_size:len(dataX)])\n",
    "trainY, testY = np.array(dataY[0:train_size]), np.array(\n",
    "    dataY[train_size:len(dataY)])\n",
    "\n",
    "# input place holders\n",
    "X = tf.placeholder(tf.float32, [None, seq_length, data_dim])\n",
    "Y = tf.placeholder(tf.float32, [None, 1])\n",
    "\n",
    "cell = tf.contrib.rnn.BasicLSTMCell(num_units=output_dim, state_is_tuple=True)\n",
    "outputs, _states = tf.nn.dynamic_rnn(cell, X, dtype=tf.float32)\n",
    "Y_pred = outputs[:, -1]  # We use the last cell's output\n",
    "\n",
    "print(outputs[:, -1])\n",
    "\n",
    "# cost/loss\n",
    "loss = tf.reduce_sum(tf.square(Y_pred - Y))  # sum of the squares\n",
    "# optimizer\n",
    "optimizer = tf.train.GradientDescentOptimizer(0.01)\n",
    "train = optimizer.minimize(loss)\n",
    "\n",
    "# RMSE\n",
    "targets = tf.placeholder(tf.float32, [None, 1])\n",
    "predictions = tf.placeholder(tf.float32, [None, 1])\n",
    "rmse = tf.sqrt(tf.reduce_mean(tf.square(targets - predictions)))\n"
   ]
  },
  {
   "cell_type": "code",
   "execution_count": 10,
   "metadata": {},
   "outputs": [
    {
     "data": {
      "application/vnd.jupyter.widget-view+json": {
       "model_id": "e02949b2963445f3b7c1501164d80b9f",
       "version_major": 2,
       "version_minor": 0
      },
      "text/plain": [
       "A Jupyter Widget"
      ]
     },
     "metadata": {},
     "output_type": "display_data"
    },
    {
     "name": "stdout",
     "output_type": "stream",
     "text": [
      "Step : 0 \t Loss : 11.187972068786621\n",
      "Step : 1 \t Loss : 4.407001972198486\n",
      "Step : 2 \t Loss : 10.18741226196289\n",
      "Step : 3 \t Loss : 83.36129760742188\n",
      "Step : 4 \t Loss : 44.158992767333984\n",
      "Step : 5 \t Loss : 22.884599685668945\n",
      "Step : 6 \t Loss : 18.876916885375977\n",
      "Step : 7 \t Loss : 16.043540954589844\n",
      "Step : 8 \t Loss : 13.746533393859863\n",
      "Step : 9 \t Loss : 11.852485656738281\n",
      "Step : 10 \t Loss : 10.27722454071045\n",
      "Step : 20 \t Loss : 3.1805076599121094\n",
      "Step : 30 \t Loss : 1.4784175157546997\n",
      "Step : 40 \t Loss : 0.9745240807533264\n",
      "Step : 50 \t Loss : 0.8066429495811462\n",
      "Step : 60 \t Loss : 0.746195375919342\n",
      "Step : 70 \t Loss : 0.7229294776916504\n",
      "Step : 80 \t Loss : 0.7131869792938232\n",
      "Step : 90 \t Loss : 0.7085282206535339\n",
      "Step : 100 \t Loss : 0.7058306932449341\n",
      "Step : 110 \t Loss : 0.703909695148468\n",
      "Step : 120 \t Loss : 0.7023090124130249\n",
      "Step : 130 \t Loss : 0.7008503675460815\n",
      "Step : 140 \t Loss : 0.6994627714157104\n",
      "Step : 150 \t Loss : 0.6981172561645508\n",
      "Step : 160 \t Loss : 0.6968019008636475\n",
      "Step : 170 \t Loss : 0.6955105662345886\n",
      "Step : 180 \t Loss : 0.6942405700683594\n",
      "Step : 190 \t Loss : 0.6929898858070374\n",
      "Step : 200 \t Loss : 0.6917569637298584\n",
      "Step : 210 \t Loss : 0.6905407309532166\n",
      "Step : 220 \t Loss : 0.6893404126167297\n",
      "Step : 230 \t Loss : 0.6881543397903442\n",
      "Step : 240 \t Loss : 0.6869821548461914\n",
      "Step : 250 \t Loss : 0.6858230233192444\n",
      "Step : 260 \t Loss : 0.6846756935119629\n",
      "Step : 270 \t Loss : 0.6835397481918335\n",
      "Step : 280 \t Loss : 0.6824145317077637\n",
      "Step : 290 \t Loss : 0.6812993288040161\n",
      "Step : 300 \t Loss : 0.680193305015564\n",
      "Step : 310 \t Loss : 0.6790962815284729\n",
      "Step : 320 \t Loss : 0.6780074834823608\n",
      "Step : 330 \t Loss : 0.6769263744354248\n",
      "Step : 340 \t Loss : 0.675852358341217\n",
      "Step : 350 \t Loss : 0.6747851967811584\n",
      "Step : 360 \t Loss : 0.6737244129180908\n",
      "Step : 370 \t Loss : 0.6726692914962769\n",
      "Step : 380 \t Loss : 0.671619713306427\n",
      "Step : 390 \t Loss : 0.6705752015113831\n",
      "Step : 400 \t Loss : 0.6695355176925659\n",
      "Step : 410 \t Loss : 0.6685000658035278\n",
      "Step : 420 \t Loss : 0.667468786239624\n",
      "Step : 430 \t Loss : 0.6664411425590515\n",
      "Step : 440 \t Loss : 0.6654168963432312\n",
      "Step : 450 \t Loss : 0.6643955707550049\n",
      "Step : 460 \t Loss : 0.6633771061897278\n",
      "Step : 470 \t Loss : 0.6623611450195312\n",
      "Step : 480 \t Loss : 0.6613473892211914\n",
      "Step : 490 \t Loss : 0.6603356003761292\n",
      "Step : 500 \t Loss : 0.6593253016471863\n",
      "\n"
     ]
    }
   ],
   "source": [
    "sess = tf.Session()\n",
    "sess.run(tf.global_variables_initializer())\n",
    "\n",
    "for i in tqdm_notebook(range(500+1)):\n",
    "    _, step_loss = sess.run([train, loss], feed_dict={X: trainX, Y: trainY})\n",
    "    \n",
    "    if i<10 or i%10==0:\n",
    "        print(\"Step : {} \\t Loss : {}\".format(i, step_loss))\n",
    "    "
   ]
  },
  {
   "cell_type": "code",
   "execution_count": 11,
   "metadata": {},
   "outputs": [
    {
     "name": "stdout",
     "output_type": "stream",
     "text": [
      "RMSE :  0.037784047\n"
     ]
    }
   ],
   "source": [
    "testPredict = sess.run(Y_pred, feed_dict={X: testX})\n",
    "print(\"RMSE : \", sess.run(rmse, feed_dict={\n",
    "      targets: testY, predictions: testPredict}))\n"
   ]
  },
  {
   "cell_type": "code",
   "execution_count": 12,
   "metadata": {},
   "outputs": [
    {
     "data": {
      "image/png": "[encoded data removed]",
      "text/plain": [
       "<matplotlib.figure.Figure at 0x2e42c3d00b8>"
      ]
     },
     "metadata": {},
     "output_type": "display_data"
    }
   ],
   "source": [
    "# %matplotlib notebook\n",
    "# plt.rcParams[\"figure.figsize\"] = [10,6]\n",
    "\n",
    "%matplotlib inline\n",
    "plt.rcParams[\"figure.figsize\"] = [16,8]\n",
    "\n",
    "plt.plot(testY, label='Time')\n",
    "plt.plot(testPredict, label='Price')\n",
    "plt.legend()\n",
    "plt.grid()\n",
    "plt.title('Stock Price Prediction')\n",
    "plt.xlabel(\"Time Period\")\n",
    "plt.ylabel(\"Stock Price\")\n",
    "plt.show()\n"
   ]
  },
  {
   "cell_type": "markdown",
   "metadata": {
    "collapsed": true
   },
   "source": [
    "<hr>\n",
    "<marquee><font size=3 color='brown'>The BigpyCraft find the information to design valuable society with Technology & Craft.</font></marquee>\n",
    "<div align='right'><font size=2 color='gray'> &lt; The End &gt; </font></div>"
   ]
  }
 ],
 "metadata": {
  "kernelspec": {
   "display_name": "Python 3",
   "language": "python",
   "name": "python3"
  },
  "language_info": {
   "codemirror_mode": {
    "name": "ipython",
    "version": 3
   },
   "file_extension": ".py",
   "mimetype": "text/x-python",
   "name": "python",
   "nbconvert_exporter": "python",
   "pygments_lexer": "ipython3",
   "version": "3.6.3"
  }
 },
 "nbformat": 4,
 "nbformat_minor": 1
}
