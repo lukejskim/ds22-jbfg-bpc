{
 "cells": [
  {
   "cell_type": "markdown",
   "metadata": {
    "collapsed": true
   },
   "source": [
    "# ML/DL Based Core Industry Big Data Analysis Expert Course"
   ]
  },
  {
   "cell_type": "markdown",
   "metadata": {
    "collapsed": true
   },
   "source": [
    "<div align='right'><font size=2 color='gray'>Python For BigData @ <font color='blue'><a href='https://www.facebook.com/jskim.kr'>FB / jskim.kr</a></font>, [김진수](bigpycraft@gmail.com)</font></div>\n",
    "<hr>"
   ]
  },
  {
   "cell_type": "markdown",
   "metadata": {},
   "source": [
    "## IITP 2018, Innovation Growth Intensive Training in MultiCampus\n",
    ">  \n",
    "- [Section-A][link-A] : Python Programming Basics \n",
    "- [Section-B][link-B] : Python Modules for Data Analysis\n",
    "<br>\n",
    "** ♣ [Midterm Test][test10] : Python Core Programming **\n",
    "<br><br>\n",
    "- [Section-C][link-C] : Data Analysis Practice for BigData\n",
    "- [Section-D][link-D] : Web Crawling and Scraping\n",
    "<br>\n",
    "** ♣ [Team Project][test11] : Keyword Data Analysis by Topic**\n",
    "<br><br>\n",
    "- <b>[Section-E][link-E] : Machine Learning</b>\n",
    "- [Section-F][link-F] : Deep Learning\n",
    "\n",
    "\n",
    "[link-A]: https://github.com/bigpycraft/iitp18-multicampus/tree/master/section-A \"Go Section-A\"\n",
    "[link-B]: https://github.com/bigpycraft/iitp18-multicampus/tree/master/section-B \"Go Section-B\"\n",
    "[link-C]: https://github.com/bigpycraft/iitp18-multicampus/tree/master/section-C \"Go Section-C\"\n",
    "[link-D]: https://github.com/bigpycraft/iitp18-multicampus/tree/master/section-D \"Go Section-D\"\n",
    "[link-E]: https://github.com/bigpycraft/iitp18-multicampus/tree/master/section-E \"Go Section-E\"\n",
    "[link-F]: https://github.com/bigpycraft/iitp18-multicampus/tree/master/section-F \"Go Section-F\"\n",
    "[test10]: https://github.com/bigpycraft/iitp18-multicampus/tree/master/test-py10 \"Go Test-10\"\n",
    "[test11]: https://github.com/bigpycraft/iitp18-multicampus/tree/master/test-py11 \"Go Test-11\"\n"
   ]
  },
  {
   "cell_type": "markdown",
   "metadata": {},
   "source": [
    "<img src=\"../images/img_front_readme_iitp.png\">"
   ]
  },
  {
   "cell_type": "markdown",
   "metadata": {},
   "source": [
    "<hr>\n",
    "\n",
    "## Machine Learning for BigData\n",
    "\n",
    "- <a href=\"https://htmlpreview.github.io/?https://github.com/bigpycraft/iitp18-multicampus/blob/master/section-E/html/BDA-ML101-Basics_operations.html                 \"> 1-1. Basics operations                  </a>\n",
    "- <a href=\"https://htmlpreview.github.io/?https://github.com/bigpycraft/iitp18-multicampus/blob/master/section-E/html/BDA-ML102-Linear_Regression.html                 \"> 1-2. Linear Regression                  </a>\n",
    "- <a href=\"https://htmlpreview.github.io/?https://github.com/bigpycraft/iitp18-multicampus/blob/master/section-E/html/BDA-ML103-Minimizing_Cost.html                   \"> 1-3. Minimizing Cost                    </a>\n",
    "- <a href=\"https://htmlpreview.github.io/?https://github.com/bigpycraft/iitp18-multicampus/blob/master/section-E/html/BDA-ML104-Multi-Variable_linear_regression.html  \"> 1-4. Multi-Variable linear regression   </a>\n",
    "<br/><br/>\n",
    "\n"
   ]
  },
  {
   "cell_type": "markdown",
   "metadata": {},
   "source": [
    "<hr>\n",
    "\n",
    "### TensorFlow\n",
    "\n",
    "<table align=\"left\">\n",
    "    <tr align=\"left\">\n",
    "        <td width=\"200\">\n",
    "            <a href=\"https://www.tensorflow.org/\">\n",
    "            <img src=\"../images/TensorFlow_logo2.png\" width=\"150\" />\n",
    "            </a>\n",
    "        </td>\n",
    "        <td width=\"800\">\n",
    "<div align=\"left\">\n",
    "    <b> - TensorFlow.org </b> : https://www.tensorflow.org/\n",
    "    <br/><br/> - An open source machine learning library for research and production.\n",
    "    <br/><br/>\n",
    "    <b> 1. TenforFlow Install  : <a href='https://www.tensorflow.org/install/'>[설치가이드]</a>\n",
    "    <br/><br/>\n",
    "    <b> 2. TenforFlow Develop : <a href='https://www.tensorflow.org/tutorials/'>[튜토리얼]</a>\n",
    "    <br/><br/>\n",
    "    <b> 3. TensorFlow Community </b> : <a href='https://www.tensorflow.org/community/'>[커뮤니티]</a>\n",
    "    <br/><br/>\n",
    "    <b> cf. Environment : Install a Python 3.5.x or Python 3.6.x 64-bit release for Windows </b>\n",
    "</div>\n",
    "        </td>\n",
    "    </tr>\n",
    "</table>\n",
    "<br/>\n"
   ]
  },
  {
   "cell_type": "markdown",
   "metadata": {},
   "source": [
    "<hr>\n",
    "\n",
    "<h3> Jupyter Notebook </h3>\n",
    "\n",
    "<table align=\"left\">\n",
    "    <tr align=\"left\">\n",
    "        <td width=\"200\">\n",
    "            <a href=\"https://www.seleniumhq.org/projects/webdriver/\">\n",
    "            <img src=\"../images/jupyter.jpg\" width=\"150\" />\n",
    "            </a>\n",
    "        </td>\n",
    "        <td width=\"800\">\n",
    "<div align=\"left\">\n",
    "<b> Latest : Version 5.3 | Release Date: September 28, 2018 </b>\n",
    "<br/>\n",
    "- Filename : Anaconda3-5.3.0-Windows-x86_64.exe \n",
    "<br/>\n",
    "- Download : https://www.anaconda.com/download/\n",
    "<br/>\n",
    "- Check the OS version & bit (32bit / 64bit)\n",
    "</div>\n",
    "<br/>\n",
    "<div align=\"left\">\n",
    "<b> Recommand : Version 5.2 | Release Date: May 30, 2018 </b>\n",
    "<br/>\n",
    "- Filename : Anaconda3-5.2.0-Windows-x86_64.exe\n",
    "<br/>\n",
    "- Download : https://repo.continuum.io/archive/ \n",
    "<br/>\n",
    "- Reason : TF Requires Python 3.4, 3.5, or 3.6 \n",
    "<br/>\n",
    "- TensorFlow : https://www.tensorflow.org/install/pip\n",
    "</div></td>\n",
    "    </tr>\n",
    "</table>\n",
    "<br/>\n"
   ]
  },
  {
   "cell_type": "markdown",
   "metadata": {},
   "source": [
    "<hr>\n",
    "\n",
    "### Microsoft Azuer Notebooks\n",
    "\n",
    "<table align=\"left\">\n",
    "    <tr align=\"left\">\n",
    "        <td width=\"200\">\n",
    "            <a href=\"https://notebooks.azure.com/\">\n",
    "            <img src=\"../images/microsoft.jpg\" width=\"100\" />\n",
    "            </a>\n",
    "        </td>\n",
    "        <td width=\"800\">\n",
    "<div align=\"left\">\n",
    "- <b> Microsoft Azure Notebooks </b> : https://notebooks.azure.com/\n",
    "<br/><br/>\n",
    "- Interactive coding in my browser\n",
    "<br/><br/>\n",
    "- Free, in the cloud, powered by jupyter\n",
    "</div></td>\n",
    "    </tr>\n",
    "</table>\n",
    "<br/>\n"
   ]
  },
  {
   "cell_type": "markdown",
   "metadata": {},
   "source": [
    "<hr>\n",
    "<marquee><font size=3 color='brown'>The BigpyCraft find the information to design valuable society with Technology & Craft.</font></marquee>\n",
    "<div align='right'><font size=2 color='gray'> &lt; The End &gt; </font></div>"
   ]
  }
 ],
 "metadata": {
  "kernelspec": {
   "display_name": "Python 3",
   "language": "python",
   "name": "python3"
  },
  "language_info": {
   "codemirror_mode": {
    "name": "ipython",
    "version": 3
   },
   "file_extension": ".py",
   "mimetype": "text/x-python",
   "name": "python",
   "nbconvert_exporter": "python",
   "pygments_lexer": "ipython3",
   "version": "3.6.3"
  }
 },
 "nbformat": 4,
 "nbformat_minor": 2
}
