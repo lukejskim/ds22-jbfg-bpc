{
 "cells": [
  {
   "cell_type": "markdown",
   "metadata": {
    "collapsed": true
   },
   "source": [
    "# BigData Science Practical Training Course"
   ]
  },
  {
   "cell_type": "markdown",
   "metadata": {
    "collapsed": true
   },
   "source": [
    "<div align='right'><font size=2 color='gray'>Python For BigData @ <font color='blue'><a href='https://www.facebook.com/jskim.kr'>FB / jskim.kr</a></font>, [김진수](bigpycraft@gmail.com)</font></div>\n",
    "<hr>"
   ]
  },
  {
   "cell_type": "markdown",
   "metadata": {},
   "source": [
    "## SBA 2019, Seoul Business Agency Innovation Growth Intensive Training"
   ]
  },
  {
   "cell_type": "markdown",
   "metadata": {},
   "source": [
    "<img src=\"../images/img_main_front.png\">"
   ]
  },
  {
   "cell_type": "markdown",
   "metadata": {},
   "source": [
    "## Innovation Growth Intensive Training\n",
    "- Python Programming Basics\n",
    "- Python Packages and Modules\n",
    "- Data Processing and Analysis\n",
    "- Web Cralwling\n",
    "- Natural Language Processing\n",
    "- <b>Machine Learning</b>\n",
    "- <b>Deep Learning</b>\n",
    "\n",
    "<hr>"
   ]
  },
  {
   "cell_type": "markdown",
   "metadata": {},
   "source": [
    "## Machine Learning for BigData"
   ]
  },
  {
   "cell_type": "markdown",
   "metadata": {},
   "source": [
    "- M1-1. [Basics operations                         ][ML1010]\n",
    "- M1-2. [Linear Regression                         ][ML1020]\n",
    "- M1-3. [Minimizing Cost                           ][ML1030]\n",
    "- M1-4. [Multi-Variable linear regression          ][ML1040]\n",
    "<br/><br/>\n",
    "- M2-1. [Logistic classifier                       ][ML2010]\n",
    "- M2-2. [Softmax Classifier                        ][ML2020]\n",
    "<br/><br/>\n",
    "- M3-1. [Learning rate Evaluation                  ][ML3010]\n",
    "- M3-2. [Tensor Manipulation                       ][ML3020]\n",
    "<br/><br/>\n",
    "- M4-1. [Neural Networks 1                         ][ML4010]\n",
    "- M4-2. [Neural Networks 2                         ][ML4020]\n",
    "- M4-2. [Neural Networks 2 (1)                     ][ML4021]\n",
    "- M4-2. [Neural Networks 2 (2)                     ][ML4022]\n",
    "<br/><br/>\n",
    "- M5-1. [Softmax for MNIST                         ][ML5110]\n",
    "- M5-2. [NN for MNIST                              ][ML5120]\n",
    "- M5-3. [MNIST NN Xavier initialization(1)         ][ML5132]\n",
    "- M5-3. [MNIST NN Xavier initialization(2)         ][ML5133]\n",
    "- M5-4. [MNIST NN deep                             ][ML5140]\n",
    "- M5-5. [MNIST NN Dropout                          ][ML5150]\n",
    "<br/><br/>\n",
    "- Ref1. [MNIST NN Batchnorm                        ][ML5160]\n",
    "- Ref2. [MNIST NN Higher Level API                 ][ML5170]\n",
    "<br/><br/>\n",
    "- M6-0. [Convolution Neural Network                ][ML6200]\n",
    "- M6-1. [MNIST CNN                                 ][ML6210]\n",
    "- M6-2. [MNIST Deep CNN                            ][ML6220]\n",
    "- M6-3. [MNIST CNN Class                           ][ML6230]\n",
    "- M6-4. [MNIST CNN Layers                          ][ML6240]\n",
    "- M6-5. [MNIST CNN Ensemble Layers                 ][ML6250]\n",
    "<br/><br/>\n",
    "- M7-0. [Recurrent Neural Network                  ][ML7210]\n",
    "- M7-1. [RNN String Sequence                       ][ML7210]\n",
    "- M7-2. [RNN Sentence Sequence                     ][ML7220]\n",
    "- M7-3. [Only Softmax Sentence Sequence            ][ML7230]\n",
    "- M7-4. [RNN Long Sentence                         ][ML7240]\n",
    "- M7-5. [RNN Stock Prediction                      ][ML7250]\n",
    "<br/><br/>\n",
    "- Tip.  [DeepLearning Model Saver & Reuse          ][ML8100]\n",
    "<br/><br/>\n",
    "\n",
    "\n",
    "[ML1010]:  https://htmlpreview.github.io/?https://github.com/lukejskim/sba19-seoulit/blob/master/notebook/html_mldl/BDA-ML101-Basics_operations.html                 \"Go ML1010\"\n",
    "[ML1020]:  https://htmlpreview.github.io/?https://github.com/lukejskim/sba19-seoulit/blob/master/notebook/html_mldl/BDA-ML102-Linear_Regression.html                 \"Go ML1020\"\n",
    "[ML1030]:  https://htmlpreview.github.io/?https://github.com/lukejskim/sba19-seoulit/blob/master/notebook/html_mldl/BDA-ML103-Minimizing_Cost.html                   \"Go ML1030\"\n",
    "[ML1040]:  https://htmlpreview.github.io/?https://github.com/lukejskim/sba19-seoulit/blob/master/notebook/html_mldl/BDA-ML104-Multi-Variable_linear_regression.html  \"Go ML1040\"\n",
    "\n",
    "[ML2010]:  https://htmlpreview.github.io/?https://github.com/lukejskim/sba19-seoulit/blob/master/notebook/html_mldl/BDA-ML201-Logistic_classifier_ver2.html          \"Go ML2010\"\n",
    "[ML2020]:  https://htmlpreview.github.io/?https://github.com/lukejskim/sba19-seoulit/blob/master/notebook/html_mldl/BDA-ML202-Softmax_Classifier.html                \"Go ML2020\"\n",
    "\n",
    "[ML3010]:  https://htmlpreview.github.io/?https://github.com/lukejskim/sba19-seoulit/blob/master/notebook/html_mldl/BDA-ML301-Learning_rate_Evaluation.html          \"Go ML3010\"\n",
    "[ML3020]:  https://htmlpreview.github.io/?https://github.com/lukejskim/sba19-seoulit/blob/master/notebook/html_mldl/BDA-ML302-Tensor_Manipulation.html               \"Go ML3020\"\n",
    "\n",
    "[ML4010]:  https://htmlpreview.github.io/?https://github.com/lukejskim/sba19-seoulit/blob/master/notebook/html_mldl/BDA-ML401-Neural_Networks.html                   \"Go ML4010\"\n",
    "[ML4020]:  https://htmlpreview.github.io/?https://github.com/lukejskim/sba19-seoulit/blob/master/notebook/html_mldl/BDA-ML402_Neural_Networks.html                   \"Go ML4020\"\n",
    "[ML4021]:  https://htmlpreview.github.io/?https://github.com/lukejskim/sba19-seoulit/blob/master/notebook/html_mldl/BDA-ML402_Neural_Networks_2-1.html               \"Go ML4020\"\n",
    "[ML4022]:  https://htmlpreview.github.io/?https://github.com/lukejskim/sba19-seoulit/blob/master/notebook/html_mldl/BDA-ML402_Neural_Networks_2-2.html               \"Go ML4020\"\n",
    "\n",
    "[ML5110]:  https://htmlpreview.github.io/?https://github.com/lukejskim/sba19-seoulit/blob/master/notebook/html_mldl/BDA-ML511-Softmax_for_MNIST.html                 \"Go ML5110\"\n",
    "[ML5120]:  https://htmlpreview.github.io/?https://github.com/lukejskim/sba19-seoulit/blob/master/notebook/html_mldl/BDA-ML512-NN_for_MNIST.html                      \"Go ML5120\"\n",
    "[ML5132]:  https://htmlpreview.github.io/?https://github.com/lukejskim/sba19-seoulit/blob/master/notebook/html_mldl/BDA-ML513-MNIST_NN_Xavier2.html                  \"Go ML5130\"\n",
    "[ML5133]:  https://htmlpreview.github.io/?https://github.com/lukejskim/sba19-seoulit/blob/master/notebook/html_mldl/BDA-ML513-MNIST_NN_Xavier3.html                  \"Go ML5130\"\n",
    "[ML5140]:  https://htmlpreview.github.io/?https://github.com/lukejskim/sba19-seoulit/blob/master/notebook/html_mldl/BDA-ML514-MNIST_NN_deep.html                     \"Go ML5140\"\n",
    "[ML5150]:  https://htmlpreview.github.io/?https://github.com/lukejskim/sba19-seoulit/blob/master/notebook/html_mldl/BDA-ML515-MNIST_NN_Dropout.html                  \"Go ML5150\"\n",
    "\n",
    "[ML5160]:  https://htmlpreview.github.io/?https://github.com/lukejskim/sba19-seoulit/blob/master/notebook/html_mldl/BDA-ML516-MNIST_NN_Batchnorm.html                \"Go ML5160\"\n",
    "[ML5170]:  https://htmlpreview.github.io/?https://github.com/lukejskim/sba19-seoulit/blob/master/notebook/html_mldl/BDA-ML517-MNIST_NN_Higher_Level_API.html         \"Go ML5170\"\n",
    "\n",
    "[ML6200]:  https://htmlpreview.github.io/?https://github.com/lukejskim/sba19-seoulit/blob/master/notebook/html_mldl/BDA-ML620-CNN_Basics.html                        \"Go ML6200\"\n",
    "[ML6210]:  https://htmlpreview.github.io/?https://github.com/lukejskim/sba19-seoulit/blob/master/notebook/html_mldl/BDA-ML621-MNIST_CNN.html                         \"Go ML6210\"\n",
    "[ML6220]:  https://htmlpreview.github.io/?https://github.com/lukejskim/sba19-seoulit/blob/master/notebook/html_mldl/BDA-ML622-MNIST_Deep_CNN.html                    \"Go ML6220\"\n",
    "[ML6230]:  https://htmlpreview.github.io/?https://github.com/lukejskim/sba19-seoulit/blob/master/notebook/html_mldl/BDA-ML623-MNIST_CNN_Class.html                   \"Go ML6230\"\n",
    "[ML6240]:  https://htmlpreview.github.io/?https://github.com/lukejskim/sba19-seoulit/blob/master/notebook/html_mldl/BDA-ML624-MNIST_CNN_Layers.html                  \"Go ML6240\"\n",
    "[ML6250]:  https://htmlpreview.github.io/?https://github.com/lukejskim/sba19-seoulit/blob/master/notebook/html_mldl/BDA-ML625-MNIST_CNN_Ensemble_Layers.html         \"Go ML6250\"\n",
    "\n",
    "[ML7210]:  https://htmlpreview.github.io/?https://github.com/lukejskim/sba19-seoulit/blob/master/notebook/html_mldl/BDA-ML721_RNN_String_Sequence.html               \"Go ML7210\"\n",
    "[ML7210]:  https://htmlpreview.github.io/?https://github.com/lukejskim/sba19-seoulit/blob/master/notebook/html_mldl/BDA-ML721_RNN_String_Sequence.html               \"Go ML7210\"\n",
    "[ML7220]:  https://htmlpreview.github.io/?https://github.com/lukejskim/sba19-seoulit/blob/master/notebook/html_mldl/BDA-ML722_RNN_Sentence_Sequence.html             \"Go ML7220\"\n",
    "[ML7230]:  https://htmlpreview.github.io/?https://github.com/lukejskim/sba19-seoulit/blob/master/notebook/html_mldl/BDA-ML723_Only_Softmax_Sentence_Sequence.html    \"Go ML7230\"\n",
    "[ML7240]:  https://htmlpreview.github.io/?https://github.com/lukejskim/sba19-seoulit/blob/master/notebook/html_mldl/BDA-ML724_RNN_Long_Sentence.html                 \"Go ML7240\"\n",
    "[ML7250]:  https://htmlpreview.github.io/?https://github.com/lukejskim/sba19-seoulit/blob/master/notebook/html_mldl/BDA-ML725_RNN_Stock_Prediction.html              \"Go ML7250\"\n",
    "\n",
    "[ML8100]:  https://htmlpreview.github.io/?https://github.com/lukejskim/sba19-seoulit/blob/master/notebook/html_mldl/BDA-ML810_NN_Saver.html                          \"Go ML8100\"\n"
   ]
  },
  {
   "cell_type": "markdown",
   "metadata": {},
   "source": [
    "<hr>\n",
    "<marquee><font size=3 color='brown'>The BigpyCraft find the information to design valuable society with Technology & Craft.</font></marquee>\n",
    "<div align='right'><font size=2 color='gray'> &lt; The End &gt; </font></div>"
   ]
  }
 ],
 "metadata": {
  "kernelspec": {
   "display_name": "Python 3",
   "language": "python",
   "name": "python3"
  },
  "language_info": {
   "codemirror_mode": {
    "name": "ipython",
    "version": 3
   },
   "file_extension": ".py",
   "mimetype": "text/x-python",
   "name": "python",
   "nbconvert_exporter": "python",
   "pygments_lexer": "ipython3",
   "version": "3.7.1"
  }
 },
 "nbformat": 4,
 "nbformat_minor": 2
}
