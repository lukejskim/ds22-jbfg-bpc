{
 "cells": [
  {
   "cell_type": "markdown",
   "metadata": {},
   "source": [
    "# TensorBoard 시각화"
   ]
  },
  {
   "cell_type": "markdown",
   "metadata": {},
   "source": [
    "### TensorBoard 사용법\n",
    ">  \n",
    "- 데이터의 흐름을 시각화\n",
    "- 알고리즘을 시각화"
   ]
  },
  {
   "cell_type": "markdown",
   "metadata": {},
   "source": [
    "cf. 텐서보드 사용법: http://tensorflowstepbystep.tistory.com/4 "
   ]
  },
  {
   "cell_type": "code",
   "execution_count": 1,
   "metadata": {},
   "outputs": [],
   "source": [
    "import tensorflow as tf\n",
    "import tensorboard as tb\n",
    "\n",
    "# import tensorflow.tensorboard as tftd"
   ]
  },
  {
   "cell_type": "code",
   "execution_count": 2,
   "metadata": {},
   "outputs": [
    {
     "data": {
      "text/plain": [
       "'1.8.0'"
      ]
     },
     "execution_count": 2,
     "metadata": {},
     "output_type": "execute_result"
    }
   ],
   "source": [
    "tf.__version__"
   ]
  },
  {
   "cell_type": "markdown",
   "metadata": {},
   "source": [
    "### <font color='brown'>곱셉 코드 시각화</font>"
   ]
  },
  {
   "cell_type": "code",
   "execution_count": 3,
   "metadata": {},
   "outputs": [
    {
     "name": "stdout",
     "output_type": "stream",
     "text": [
      "600\n"
     ]
    }
   ],
   "source": [
    "# 데이터 플로우 그래프 구축하기 \n",
    "a = tf.constant(20, name=\"a\")\n",
    "b = tf.constant(30, name=\"b\")\n",
    "mul_op = a * b\n",
    "\n",
    "# 세션 생성하기 \n",
    "sess = tf.Session()\n",
    "\n",
    "# TensorBoard 사용하기 \n",
    "# tw = tf.train.SummaryWriter(\"log_dir\", graph=sess.graph)\n",
    "# tw = tf.train.FileWriter(\"log_dir\", graph=sess.graph)\n",
    "writer =tf.summary.FileWriter(\"log_dir\", sess.graph)\n",
    "\n",
    "# 세션 실행하기\n",
    "print(sess.run(mul_op))"
   ]
  },
  {
   "cell_type": "code",
   "execution_count": 4,
   "metadata": {},
   "outputs": [
    {
     "name": "stdout",
     "output_type": "stream",
     "text": [
      " C 드라이브의 볼륨에는 이름이 없습니다.\n",
      " 볼륨 일련 번호: 3CBD-1374\n",
      "\n",
      " C:\\Users\\user\\Dropbox (업무용_BN)\\sect_tech\\src_anaconda\\P1807_BPC2_MLDL\\log_dir 디렉터리\n",
      "\n",
      "2018-08-20  오전 12:17    <DIR>          .\n",
      "2018-08-20  오전 12:17    <DIR>          ..\n",
      "2018-08-20  오전 12:17               643 events.out.tfevents.1534691701.?????\n",
      "2018-08-20  오전 12:17               643 events.out.tfevents.1534691831.?????\n",
      "               2개 파일               1,286 바이트\n",
      "               2개 디렉터리  27,810,832,384 바이트 남음\n"
     ]
    }
   ],
   "source": [
    "% ls log_dir"
   ]
  },
  {
   "cell_type": "code",
   "execution_count": 5,
   "metadata": {
    "collapsed": true
   },
   "outputs": [],
   "source": [
    "import tensorflow as tf\n",
    "\n",
    "a = tf.constant(5.0)\n",
    "b = tf.constant(7.0)\n",
    "c = a * b\n",
    "\n",
    "# tensorboard에 point라는 이름으로 표시됨\n",
    "c_summary = tf.summary.scalar(\"point\", c)\n",
    "merged = tf.summary.merge_all()\n",
    "\n",
    "with tf.Session() as sess:\n",
    "    writer =tf.summary.FileWriter(\"./board/sample_2\", sess.graph)\n",
    "\n",
    "    result = sess.run([merged])\n",
    "    tf.global_variables_initializer().run()\n",
    "\n",
    "    writer.add_summary(result[0])\n"
   ]
  },
  {
   "cell_type": "code",
   "execution_count": 6,
   "metadata": {},
   "outputs": [
    {
     "name": "stderr",
     "output_type": "stream",
     "text": [
      "매개 변수 포맷이 틀립니다 - \"board\".\n"
     ]
    }
   ],
   "source": [
    "% ls ./board/sample_2"
   ]
  },
  {
   "cell_type": "code",
   "execution_count": 7,
   "metadata": {
    "collapsed": true
   },
   "outputs": [],
   "source": [
    "import tensorflow as tf\n",
    "\n",
    "X = tf.placeholder(tf.float32)\n",
    "Y = tf.placeholder(tf.float32)\n",
    "\n",
    "add = tf.add(X, Y)\n",
    "mul = tf.multiply(X, Y)\n",
    "# mul = tf.mul(X, Y)\n",
    "\n",
    "# step 1: node 선택\n",
    "add_hist = tf.summary.scalar(\"add_scalar\", add)\n",
    "mul_hist = tf.summary.scalar(\"mul_scalar\", mul)\n",
    "\n",
    "# step 2: summary 통합. 두 개의 코드 모두 동작.\n",
    "merged = tf.summary.merge_all()\n",
    "# merged = tf.merge_summary([add_hist, mul_hist])\n",
    "\n",
    "with tf.Session() as sess:\n",
    "    init = tf.global_variables_initializer()\n",
    "    sess.run(init)\n",
    "\n",
    "    # step 3: writer 생성\n",
    "    writer = tf.summary.FileWriter(\"./board/sample_3\", sess.graph)\n",
    "\n",
    "    for step in range(100):\n",
    "        # step 4: 노드 추가\n",
    "        summary = sess.run(merged, feed_dict={X: step * 1.0, Y: 2.0})\n",
    "        writer.add_summary(summary, step)"
   ]
  },
  {
   "cell_type": "code",
   "execution_count": null,
   "metadata": {
    "collapsed": true
   },
   "outputs": [],
   "source": []
  },
  {
   "cell_type": "markdown",
   "metadata": {},
   "source": [
    "### 텐서플로 입문 \n",
    ">  \n",
    "-  링크드인 : https://lk.linkedin.com/in/jayaniwithanawasam \n"
   ]
  },
  {
   "cell_type": "code",
   "execution_count": null,
   "metadata": {
    "collapsed": true
   },
   "outputs": [],
   "source": []
  },
  {
   "cell_type": "markdown",
   "metadata": {},
   "source": [
    "### MNIST 문자인식 프로그램\n",
    ">  \n",
    "-  솔라리스 AI Lab : http://solarisailab.com/archives/303\n"
   ]
  },
  {
   "cell_type": "code",
   "execution_count": null,
   "metadata": {
    "collapsed": true
   },
   "outputs": [],
   "source": []
  }
 ],
 "metadata": {
  "kernelspec": {
   "display_name": "Python 3",
   "language": "python",
   "name": "python3"
  },
  "language_info": {
   "codemirror_mode": {
    "name": "ipython",
    "version": 3
   },
   "file_extension": ".py",
   "mimetype": "text/x-python",
   "name": "python",
   "nbconvert_exporter": "python",
   "pygments_lexer": "ipython3",
   "version": "3.7.1"
  }
 },
 "nbformat": 4,
 "nbformat_minor": 2
}
