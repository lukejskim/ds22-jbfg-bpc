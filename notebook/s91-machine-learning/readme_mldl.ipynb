{
 "cells": [
  {
   "cell_type": "code",
   "execution_count": 1,
   "metadata": {
    "collapsed": true
   },
   "outputs": [],
   "source": [
    "# 한빛미디어, 신경망첫걸음\n",
    "# http://makeyourownneuralnetwork.blogspot.kr/\n",
    "\n",
    "# 예제코드\n",
    "# https://github.com/makeyourownneuralnetwork/makeyourownneuralnetwork\n"
   ]
  },
  {
   "cell_type": "code",
   "execution_count": 7,
   "metadata": {
    "collapsed": true
   },
   "outputs": [],
   "source": [
    "# 위키북스, 파이썬을 이용한 머신러닝, 딥러닝 실전개발 입문\n",
    "# https://tinyurl.com/mqh4g73\n",
    "\n",
    "# 유튜브, 머신러닝/딥러닝 실전 입문\n",
    "# https://www.youtube.com/playlist?list=PLBXuLgInP-5m_vn9ycXHRl7hlsd1huqmS\n",
    "\n",
    "# 예제코드\n",
    "# http://wikibook.co.kr/python-machine-learning/\n",
    "# 예제 코드(1,2,3차 URL 중 하나만 받으시면 됩니다)\n",
    "# 1차 다운로드 링크: python-for-machine-learning_20170612.zip\n",
    "# 2차 다운로드 링크: python-for-machine-learning_20170612.zip\n",
    "# 3차 다운로드 링크: python-for-machine-learning_20170612.zip\n",
    "# 신문 기사 자료(6장 mlp2-seq.py 예제 관련)\n",
    "# 신문기사자료.zip\n",
    "\n",
    "\n",
    "\n",
    "# 역자 동영상 강의\n",
    "# https://tinyurl.com/mqh4g73"
   ]
  },
  {
   "cell_type": "code",
   "execution_count": null,
   "metadata": {
    "collapsed": true
   },
   "outputs": [],
   "source": []
  },
  {
   "cell_type": "code",
   "execution_count": 2,
   "metadata": {
    "collapsed": true
   },
   "outputs": [],
   "source": [
    "\n",
    "# CS231n: Convolutional Neural Networks for Visual Recognition\n",
    "# http://cs231n.stanford.edu/"
   ]
  },
  {
   "cell_type": "code",
   "execution_count": null,
   "metadata": {
    "collapsed": true
   },
   "outputs": [],
   "source": []
  }
 ],
 "metadata": {
  "kernelspec": {
   "display_name": "Python 3",
   "language": "python",
   "name": "python3"
  },
  "language_info": {
   "codemirror_mode": {
    "name": "ipython",
    "version": 3
   },
   "file_extension": ".py",
   "mimetype": "text/x-python",
   "name": "python",
   "nbconvert_exporter": "python",
   "pygments_lexer": "ipython3",
   "version": "3.6.3"
  }
 },
 "nbformat": 4,
 "nbformat_minor": 2
}
