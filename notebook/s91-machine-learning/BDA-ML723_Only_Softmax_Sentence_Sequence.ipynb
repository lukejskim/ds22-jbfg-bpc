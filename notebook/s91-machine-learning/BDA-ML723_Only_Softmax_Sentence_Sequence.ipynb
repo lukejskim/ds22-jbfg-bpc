{
 "cells": [
  {
   "cell_type": "markdown",
   "metadata": {},
   "source": [
    "# Industry 4.0 의 중심, AI - ML&DL"
   ]
  },
  {
   "cell_type": "markdown",
   "metadata": {},
   "source": [
    "<div align='right'><font size=2 color='gray'>Machine Learning & Deep Learning with TensorFlow @ <font color='blue'><a href='https://www.facebook.com/jskim.kr'>FB / jskim.kr</a></font>, 김진수</font></div>\n",
    "<hr>"
   ]
  },
  {
   "cell_type": "markdown",
   "metadata": {},
   "source": [
    "# Sect12. RNN (Recurrent Newural Network)"
   ]
  },
  {
   "cell_type": "code",
   "execution_count": 1,
   "metadata": {
    "collapsed": true
   },
   "outputs": [],
   "source": [
    "from images import bigpycraft_ai as bpc\n",
    "from IPython.display import Image \n",
    "from tqdm import tqdm_notebook"
   ]
  },
  {
   "cell_type": "code",
   "execution_count": 2,
   "metadata": {
    "collapsed": true
   },
   "outputs": [],
   "source": [
    "import time\n",
    "import os\n",
    "\n",
    "def chk_processting_time(start_time, end_time):\n",
    "    process_time = end_time - start_time\n",
    "    p_time = int(process_time)\n",
    "    p_min = p_time // 60\n",
    "    p_sec = p_time %  60\n",
    "    print('처리시간 : {p_min}분 {p_sec}초 경과되었습니다.'.format(\n",
    "            p_min = p_min, \n",
    "            p_sec = p_sec\n",
    "        ))\n",
    "    return process_time"
   ]
  },
  {
   "cell_type": "markdown",
   "metadata": {},
   "source": [
    "### 12-3. only_softmax_char_seq\n",
    "\n",
    "<hr>\n",
    "``` python \n",
    "\n",
    "# Lab 12 Character Sequence Softmax only\n",
    "import tensorflow as tf\n",
    "import numpy as np\n",
    "tf.set_random_seed(777)  # reproducibility\n",
    "\n",
    "sample = \" if you want you\"\n",
    "idx2char = list(set(sample))  # index -> char\n",
    "char2idx = {c: i for i, c in enumerate(idx2char)}  # char -> idex\n",
    "\n",
    "# hyper parameters\n",
    "dic_size = len(char2idx)  # RNN input size (one hot size)\n",
    "rnn_hidden_size = len(char2idx)  # RNN output size\n",
    "num_classes = len(char2idx)  # final output size (RNN or softmax, etc.)\n",
    "batch_size = 1  # one sample data, one batch\n",
    "sequence_length = len(sample) - 1  # number of lstm rollings (unit #)\n",
    "\n",
    "sample_idx = [char2idx[c] for c in sample]  # char to index\n",
    "x_data = [sample_idx[:-1]]  # X data sample (0 ~ n-1) hello: hell\n",
    "y_data = [sample_idx[1:]]   # Y label sample (1 ~ n) hello: ello\n",
    "\n",
    "X = tf.placeholder(tf.int32, [None, sequence_length])  # X data\n",
    "Y = tf.placeholder(tf.int32, [None, sequence_length])  # Y label\n",
    "\n",
    "# flatten the data (ignore batches for now). No effect if the batch size is 1\n",
    "X_one_hot = tf.one_hot(X, num_classes)  # one hot: 1 -> 0 1 0 0 0 0 0 0 0 0\n",
    "X_for_softmax = tf.reshape(X_one_hot, [-1, rnn_hidden_size])\n",
    "\n",
    "# softmax layer (rnn_hidden_size -> num_classes)\n",
    "softmax_w = tf.get_variable(\"softmax_w\", [rnn_hidden_size, num_classes])\n",
    "softmax_b = tf.get_variable(\"softmax_b\", [num_classes])\n",
    "outputs = tf.matmul(X_for_softmax, softmax_w) + softmax_b\n",
    "\n",
    "# expend the data (revive the batches)\n",
    "outputs = tf.reshape(outputs, [batch_size, sequence_length, num_classes])\n",
    "weights = tf.ones([batch_size, sequence_length])\n",
    "\n",
    "# Compute sequence cost/loss\n",
    "sequence_loss = tf.contrib.seq2seq.sequence_loss(\n",
    "    logits=outputs, targets=Y, weights=weights)\n",
    "loss = tf.reduce_mean(sequence_loss)  # mean all sequence loss\n",
    "train = tf.train.AdamOptimizer(learning_rate=0.1).minimize(loss)\n",
    "\n",
    "prediction = tf.argmax(outputs, axis=2)\n",
    "\n",
    "with tf.Session() as sess:\n",
    "    sess.run(tf.global_variables_initializer())\n",
    "    for t_cnt in range(3000):\n",
    "        l, _ = sess.run([loss, train], feed_dict={X: x_data, Y: y_data})\n",
    "        result = sess.run(prediction, feed_dict={X: x_data})\n",
    "\n",
    "        # print char using dic\n",
    "        result_str = [idx2char[c] for c in np.squeeze(result)]\n",
    "        print(t_cnt, \"loss:\", l, \"Prediction:\", ''.join(result_str))\n",
    "\n",
    "'''\n",
    " 1th training... \t Loss : 2.599400520324707, \t Prediction : uyuunuiutnffunu \n",
    " 2th training... \t Loss : 2.378079414367676, \t Prediction : uyuunu utnfuunu \n",
    " 3th training... \t Loss : 2.1724300384521484, \t Prediction : uyuuuu utntuuuu \n",
    " 4th training... \t Loss : 1.980708122253418, \t Prediction : iy iou iynt iou \n",
    " 5th training... \t Loss : 1.8024282455444336, \t Prediction : yy you yynt you \n",
    "\n",
    "..\n",
    "..\n",
    "\n",
    " 2995th training... \t Loss : 0.2773257791996002, \t Prediction : yf you yant you \n",
    " 2996th training... \t Loss : 0.2773257791996002, \t Prediction : yf you yant you \n",
    " 2997th training... \t Loss : 0.2773257791996002, \t Prediction : yf you yant you \n",
    " 2998th training... \t Loss : 0.27732571959495544, \t Prediction : yf you yant you \n",
    " 2999th training... \t Loss : 0.27732568979263306, \t Prediction : yf you yant you \n",
    " 3000th training... \t Loss : 0.2773256301879883, \t Prediction : yf you yant you \n",
    " \n",
    "'''\n",
    "\n",
    "\n",
    "```\n",
    "\n",
    "<hr>"
   ]
  },
  {
   "cell_type": "code",
   "execution_count": 3,
   "metadata": {},
   "outputs": [
    {
     "name": "stderr",
     "output_type": "stream",
     "text": [
      "C:\\Python\\Anaconda3-50\\lib\\site-packages\\h5py\\__init__.py:34: FutureWarning: Conversion of the second argument of issubdtype from `float` to `np.floating` is deprecated. In future, it will be treated as `np.float64 == np.dtype(float).type`.\n",
      "  from ._conv import register_converters as _register_converters\n"
     ]
    }
   ],
   "source": [
    "# Lab 12 Character Sequence Softmax only\n",
    "import tensorflow as tf\n",
    "import numpy as np\n",
    "tf.set_random_seed(777)  # reproducibility\n"
   ]
  },
  {
   "cell_type": "code",
   "execution_count": 4,
   "metadata": {
    "collapsed": true
   },
   "outputs": [],
   "source": [
    "# sample = \" if you want you\"\n",
    "sample   = \"만약에 당신이 그 누구와 사랑에 빠지면\"\n",
    "idx2char = list(set(sample))  # index -> char\n",
    "char2idx = {c: i for i, c in enumerate(idx2char)}  # char -> idex\n"
   ]
  },
  {
   "cell_type": "code",
   "execution_count": 5,
   "metadata": {
    "collapsed": true
   },
   "outputs": [],
   "source": [
    "# hyper parameters\n",
    "dic_size        = len(char2idx)     # RNN input size (one hot size)\n",
    "rnn_hidden_size = len(char2idx)     # RNN output size\n",
    "num_classes     = len(char2idx)     # final output size (RNN or softmax, etc.)\n",
    "batch_size      = 1                 # one sample data, one batch\n",
    "sequence_length = len(sample) - 1   # number of lstm rollings (unit #)"
   ]
  },
  {
   "cell_type": "code",
   "execution_count": 6,
   "metadata": {
    "collapsed": true
   },
   "outputs": [],
   "source": [
    "sample_idx = [char2idx[c] for c in sample]  # char to index\n",
    "x_data = [sample_idx[:-1]]    # X data sample (0 ~ n-1) hello: hell\n",
    "y_data = [sample_idx[1:]]     # Y label sample (1 ~ n) hello: ello\n",
    "\n",
    "X = tf.placeholder(tf.int32, [None, sequence_length])  # X data\n",
    "Y = tf.placeholder(tf.int32, [None, sequence_length])  # Y label\n"
   ]
  },
  {
   "cell_type": "code",
   "execution_count": 7,
   "metadata": {
    "collapsed": true
   },
   "outputs": [],
   "source": [
    "# flatten the data (ignore batches for now). No effect if the batch size is 1\n",
    "X_one_hot = tf.one_hot(X, num_classes)  # one hot: 1 -> 0 1 0 0 0 0 0 0 0 0\n",
    "X_for_softmax = tf.reshape(X_one_hot, [-1, rnn_hidden_size])\n",
    "\n",
    "# softmax layer (rnn_hidden_size -> num_classes)\n",
    "softmax_w = tf.get_variable(\"softmax_w\", [rnn_hidden_size, num_classes])\n",
    "softmax_b = tf.get_variable(\"softmax_b\", [num_classes])\n",
    "outputs = tf.matmul(X_for_softmax, softmax_w) + softmax_b\n",
    "\n",
    "# expend the data (revive the batches)\n",
    "outputs = tf.reshape(outputs, [batch_size, sequence_length, num_classes])\n",
    "weights = tf.ones([batch_size, sequence_length])\n",
    "\n",
    "# Compute sequence cost/loss\n",
    "sequence_loss = tf.contrib.seq2seq.sequence_loss(\n",
    "    logits=outputs, targets=Y, weights=weights)\n",
    "loss = tf.reduce_mean(sequence_loss)  # mean all sequence loss\n",
    "train = tf.train.AdamOptimizer(learning_rate=0.1).minimize(loss)\n",
    "\n",
    "prediction = tf.argmax(outputs, axis=2)"
   ]
  },
  {
   "cell_type": "code",
   "execution_count": 8,
   "metadata": {},
   "outputs": [
    {
     "name": "stdout",
     "output_type": "stream",
     "text": [
      " 1th training... \t Loss : 2.81402850151062, \t Prediction : 면  사약약 사당사당빠당사랑이 사사  \n",
      " 2th training... \t Loss : 2.595418691635132, \t Prediction : 약  사약이 사 사당  사랑구 사사  \n",
      " 3th training... \t Loss : 2.388251543045044, \t Prediction : 약  사신이 사 사   사랑구 사사  \n",
      " 4th training... \t Loss : 2.1938159465789795, \t Prediction : 약  사신이 사 사   사랑에 사에  \n",
      " 5th training... \t Loss : 2.0127334594726562, \t Prediction : 약  사신이 사 사   사랑에 사에  \n",
      " 6th training... \t Loss : 1.8459144830703735, \t Prediction : 약에 사신이 사 사 와 사랑에 사에  \n",
      " 7th training... \t Loss : 1.6937185525894165, \t Prediction : 약에 사신이 사 사구와 사랑에 사에  \n",
      " 8th training... \t Loss : 1.5556710958480835, \t Prediction : 약에 사신이 사 사구와 사랑에 사지  \n",
      " 9th training... \t Loss : 1.4307368993759155, \t Prediction : 약에 사신이 사 사구와 사랑에 사지  \n",
      " 10th training... \t Loss : 1.3175714015960693, \t Prediction : 약에 사신이 사 사구와 사랑에 사지  \n",
      " 11th training... \t Loss : 1.214782953262329, \t Prediction : 약에 사신이 사 사구와 사랑에 사지면 \n",
      " 12th training... \t Loss : 1.1211830377578735, \t Prediction : 약에 사신이 사 사구와 사랑에 사지면 \n",
      " 13th training... \t Loss : 1.0359547138214111, \t Prediction : 약에 사신이 사 사구와 사랑에 사지면 \n",
      " 14th training... \t Loss : 0.9586374163627625, \t Prediction : 약에 사신이 사 사구와 사랑에 사지면 \n",
      " 15th training... \t Loss : 0.8889855742454529, \t Prediction : 약에 사신이 사 사구와 사랑에 사지면 \n",
      " 16th training... \t Loss : 0.8268262147903442, \t Prediction : 약에 누신이 누 누구와 누랑에 누지면 \n",
      " 17th training... \t Loss : 0.7719508409500122, \t Prediction : 약에 그신이 그 그구와 그랑에 그지면 \n",
      " 18th training... \t Loss : 0.7240249514579773, \t Prediction : 약에 그신이 그 그구와 그랑에 그지면 \n",
      " 19th training... \t Loss : 0.6825585961341858, \t Prediction : 약에 그신이 그 그구와 그랑에 그지면 \n",
      " 100th training... \t Loss : 0.4143913686275482, \t Prediction : 약에 누신이 누 누구와 누랑에 누지면 \n",
      " 200th training... \t Loss : 0.4077260494232178, \t Prediction : 약에 사신이 사 사구와 사랑에 사지면 \n",
      " 300th training... \t Loss : 0.4054867923259735, \t Prediction : 약에 사신이 사 사구와 사랑에 사지면 \n",
      " 400th training... \t Loss : 0.4044431149959564, \t Prediction : 약에 사신이 사 사구와 사랑에 사지면 \n",
      " 500th training... \t Loss : 0.4038630425930023, \t Prediction : 약에 사신이 사 사구와 사랑에 사지면 \n",
      " 600th training... \t Loss : 0.4035033881664276, \t Prediction : 약에 사신이 사 사구와 사랑에 사지면 \n",
      " 700th training... \t Loss : 0.40326234698295593, \t Prediction : 약에 사신이 사 사구와 사랑에 사지면 \n",
      " 800th training... \t Loss : 0.40309253334999084, \t Prediction : 약에 빠신이 빠 빠구와 빠랑에 빠지면 \n",
      " 900th training... \t Loss : 0.40296727418899536, \t Prediction : 약에 사신이 사 사구와 사랑에 사지면 \n",
      " 1000th training... \t Loss : 0.40287265181541443, \t Prediction : 약에 그신이 그 그구와 그랑에 그지면 \n",
      " 1100th training... \t Loss : 0.4027980864048004, \t Prediction : 약에 사신이 사 사구와 사랑에 사지면 \n",
      " 1200th training... \t Loss : 0.402739018201828, \t Prediction : 약에 사신이 사 사구와 사랑에 사지면 \n",
      " 1300th training... \t Loss : 0.40269097685813904, \t Prediction : 약에 사신이 사 사구와 사랑에 사지면 \n",
      " 1400th training... \t Loss : 0.4026516079902649, \t Prediction : 약에 사신이 사 사구와 사랑에 사지면 \n",
      " 1500th training... \t Loss : 0.4026186466217041, \t Prediction : 약에 빠신이 빠 빠구와 빠랑에 빠지면 \n",
      " 1600th training... \t Loss : 0.402590811252594, \t Prediction : 약에 사신이 사 사구와 사랑에 사지면 \n",
      " 1700th training... \t Loss : 0.4025671184062958, \t Prediction : 약에 그신이 그 그구와 그랑에 그지면 \n",
      " 1800th training... \t Loss : 0.4025467038154602, \t Prediction : 약에 사신이 사 사구와 사랑에 사지면 \n",
      " 1900th training... \t Loss : 0.4025290608406067, \t Prediction : 약에 그신이 그 그구와 그랑에 그지면 \n",
      " 2000th training... \t Loss : 0.4025135934352875, \t Prediction : 약에 사신이 사 사구와 사랑에 사지면 \n",
      " 2100th training... \t Loss : 0.40250012278556824, \t Prediction : 약에 빠신이 빠 빠구와 빠랑에 빠지면 \n",
      " 2200th training... \t Loss : 0.4024880826473236, \t Prediction : 약에 사신이 사 사구와 사랑에 사지면 \n",
      " 2300th training... \t Loss : 0.4024777412414551, \t Prediction : 약에 그신이 그 그구와 그랑에 그지면 \n",
      " 2400th training... \t Loss : 0.4024679660797119, \t Prediction : 약에 사신이 사 사구와 사랑에 사지면 \n",
      " 2500th training... \t Loss : 0.4024600684642792, \t Prediction : 약에 빠신이 빠 빠구와 빠랑에 빠지면 \n",
      " 2600th training... \t Loss : 0.40245190262794495, \t Prediction : 약에 누신이 누 누구와 누랑에 누지면 \n",
      " 2700th training... \t Loss : 0.402444988489151, \t Prediction : 약에 빠신이 빠 빠구와 빠랑에 빠지면 \n",
      " 2800th training... \t Loss : 0.4024387300014496, \t Prediction : 약에 그신이 그 그구와 그랑에 그지면 \n",
      " 2900th training... \t Loss : 0.4024331271648407, \t Prediction : 약에 사신이 사 사구와 사랑에 사지면 \n",
      " 3000th training... \t Loss : 0.40242812037467957, \t Prediction : 약에 그신이 그 그구와 그랑에 그지면 \n"
     ]
    }
   ],
   "source": [
    "time1 = time.time()\n",
    "\n",
    "with tf.Session() as sess:\n",
    "    sess.run(tf.global_variables_initializer())\n",
    "    for t_cnt in range(3000):\n",
    "        l, _ = sess.run([loss, train], feed_dict={X: x_data, Y: y_data})\n",
    "        result = sess.run(prediction, feed_dict={X: x_data})\n",
    "\n",
    "        # print char using dic\n",
    "        result_str = [idx2char[c] for c in np.squeeze(result)]\n",
    "\n",
    "        cnt = t_cnt+1\n",
    "        if cnt<20 or cnt%100==0:\n",
    "            # print(t_cnt, \"loss:\", l, \"Prediction:\", ''.join(result_str))\n",
    "            print(\" {cnt}th training... \\t Loss : {loss}, \\t Prediction : {pred} \".format(\n",
    "                    cnt  = cnt, \n",
    "                    loss = l, \n",
    "                    pred = ''.join(result_str)\n",
    "            ))\n",
    "\n",
    "time2 = time.time()"
   ]
  },
  {
   "cell_type": "code",
   "execution_count": 9,
   "metadata": {},
   "outputs": [
    {
     "name": "stdout",
     "output_type": "stream",
     "text": [
      "처리시간 : 0분 2초 경과되었습니다.\n"
     ]
    },
    {
     "data": {
      "text/plain": [
       "2.2330777645111084"
      ]
     },
     "execution_count": 9,
     "metadata": {},
     "output_type": "execute_result"
    }
   ],
   "source": [
    "chk_processting_time(time1, time2)"
   ]
  },
  {
   "cell_type": "code",
   "execution_count": 10,
   "metadata": {},
   "outputs": [
    {
     "data": {
      "text/plain": [
       "'만약에 그신이 그 그구와 그랑에 그지면'"
      ]
     },
     "execution_count": 10,
     "metadata": {},
     "output_type": "execute_result"
    }
   ],
   "source": [
    "predict_sentence = sample[0] + ''.join(result_str)\n",
    "predict_sentence"
   ]
  },
  {
   "cell_type": "markdown",
   "metadata": {
    "collapsed": true
   },
   "source": [
    "<hr>\n",
    "<marquee><font size=3 color='brown'>The BigpyCraft find the information to design valuable society with Technology & Craft.</font></marquee>\n",
    "<div align='right'><font size=2 color='gray'> &lt; The End &gt; </font></div>"
   ]
  }
 ],
 "metadata": {
  "kernelspec": {
   "display_name": "Python 3",
   "language": "python",
   "name": "python3"
  },
  "language_info": {
   "codemirror_mode": {
    "name": "ipython",
    "version": 3
   },
   "file_extension": ".py",
   "mimetype": "text/x-python",
   "name": "python",
   "nbconvert_exporter": "python",
   "pygments_lexer": "ipython3",
   "version": "3.6.3"
  }
 },
 "nbformat": 4,
 "nbformat_minor": 1
}
