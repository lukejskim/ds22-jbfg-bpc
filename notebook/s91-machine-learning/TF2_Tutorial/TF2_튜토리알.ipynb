{
 "cells": [
  {
   "cell_type": "markdown",
   "id": "8b9d8201",
   "metadata": {},
   "source": [
    "## TensorFlow 2.x 학습\n",
    "> \n",
    "> #### [TensorFlow 튜토리얼][TF2_001]\n",
    "> #### [텐서플로 2.0 시작하기: 초보자용][TF2_002]\n",
    "> #### [전문가를 위한 TensorFlow 2 빠른 시작][TF2_003]\n",
    "\n",
    "[TF2_001]: https://www.tensorflow.org/tutorials?hl=ko      \"Go TF2_001\"\n",
    "[TF2_002]: https://www.tensorflow.org/tutorials/quickstart/beginner?hl=ko   \"Go TF2_002\"\n",
    "[TF2_003]: https://www.tensorflow.org/tutorials/quickstart/advanced?hl=ko   \"Go TF2_003\""
   ]
  },
  {
   "cell_type": "code",
   "execution_count": 2,
   "id": "43efc620",
   "metadata": {},
   "outputs": [],
   "source": [
    "import tensorflow as tf"
   ]
  },
  {
   "cell_type": "markdown",
   "id": "5fb44680",
   "metadata": {},
   "source": [
    "#### MNIST 데이터셋을 로드하여 준비\n",
    "- 샘플 값을 정수에서 부동소수로 변환합니다:"
   ]
  },
  {
   "cell_type": "code",
   "execution_count": 3,
   "id": "1dc03dea",
   "metadata": {},
   "outputs": [],
   "source": [
    "\n",
    "mnist = tf.keras.datasets.mnist\n",
    "\n",
    "(x_train, y_train), (x_test, y_test) = mnist.load_data()\n",
    "x_train, x_test = x_train / 255.0, x_test / 255.0"
   ]
  },
  {
   "cell_type": "markdown",
   "id": "e1a001a2",
   "metadata": {},
   "source": [
    "#### 층을 차례대로 쌓아 tf.keras.Sequential 모델을 만듭니다. \n",
    "- 훈련에 사용할 옵티마이저(optimizer)와 손실 함수를 선택합니다:"
   ]
  },
  {
   "cell_type": "code",
   "execution_count": 4,
   "id": "cbfdf5cc",
   "metadata": {},
   "outputs": [],
   "source": [
    "model = tf.keras.models.Sequential([\n",
    "    tf.keras.layers.Flatten(input_shape=(28, 28)),\n",
    "    tf.keras.layers.Dense(128, activation='relu'),\n",
    "    tf.keras.layers.Dropout(0.2),\n",
    "    tf.keras.layers.Dense(10, activation='softmax')\n",
    "])\n",
    "\n",
    "model.compile(optimizer='adam',\n",
    "              loss='sparse_categorical_crossentropy',\n",
    "              metrics=['accuracy'])"
   ]
  },
  {
   "cell_type": "markdown",
   "id": "adf202c5",
   "metadata": {},
   "source": [
    "#### 모델을 훈련하고 평가"
   ]
  },
  {
   "cell_type": "code",
   "execution_count": 5,
   "id": "5474d5fb",
   "metadata": {},
   "outputs": [
    {
     "name": "stdout",
     "output_type": "stream",
     "text": [
      "Epoch 1/5\n",
      "1875/1875 [==============================] - 3s 1ms/step - loss: 0.2935 - accuracy: 0.9139\n",
      "Epoch 2/5\n",
      "1875/1875 [==============================] - 2s 1ms/step - loss: 0.1434 - accuracy: 0.9577\n",
      "Epoch 3/5\n",
      "1875/1875 [==============================] - 2s 1ms/step - loss: 0.1081 - accuracy: 0.9675\n",
      "Epoch 4/5\n",
      "1875/1875 [==============================] - 2s 1ms/step - loss: 0.0878 - accuracy: 0.9726\n",
      "Epoch 5/5\n",
      "1875/1875 [==============================] - 3s 1ms/step - loss: 0.0752 - accuracy: 0.9764\n",
      "313/313 - 0s - loss: 0.0707 - accuracy: 0.9772 - 391ms/epoch - 1ms/step\n"
     ]
    },
    {
     "data": {
      "text/plain": [
       "[0.07067284733057022, 0.9771999716758728]"
      ]
     },
     "execution_count": 5,
     "metadata": {},
     "output_type": "execute_result"
    }
   ],
   "source": [
    "model.fit(x_train, y_train, epochs=5)\n",
    "\n",
    "model.evaluate(x_test,  y_test, verbose=2)"
   ]
  },
  {
   "cell_type": "markdown",
   "id": "0b72a89c",
   "metadata": {},
   "source": [
    "#### 훈련된 이미지 분류기는 이 데이터셋에서 약 98%의 정확도를 달성합니다. \n",
    "- 더 자세한 내용은 TensorFlow 튜토리얼을 참고하세요."
   ]
  },
  {
   "cell_type": "code",
   "execution_count": null,
   "id": "73113a13",
   "metadata": {},
   "outputs": [],
   "source": []
  },
  {
   "cell_type": "code",
   "execution_count": null,
   "id": "d9f29989",
   "metadata": {},
   "outputs": [],
   "source": []
  },
  {
   "cell_type": "code",
   "execution_count": null,
   "id": "36e1dcba",
   "metadata": {},
   "outputs": [],
   "source": []
  },
  {
   "cell_type": "code",
   "execution_count": null,
   "id": "8fb10c1e",
   "metadata": {},
   "outputs": [],
   "source": []
  },
  {
   "cell_type": "code",
   "execution_count": null,
   "id": "514e6fcb",
   "metadata": {},
   "outputs": [],
   "source": []
  }
 ],
 "metadata": {
  "kernelspec": {
   "display_name": "Python 3 (ipykernel)",
   "language": "python",
   "name": "python3"
  },
  "language_info": {
   "codemirror_mode": {
    "name": "ipython",
    "version": 3
   },
   "file_extension": ".py",
   "mimetype": "text/x-python",
   "name": "python",
   "nbconvert_exporter": "python",
   "pygments_lexer": "ipython3",
   "version": "3.9.12"
  }
 },
 "nbformat": 4,
 "nbformat_minor": 5
}
