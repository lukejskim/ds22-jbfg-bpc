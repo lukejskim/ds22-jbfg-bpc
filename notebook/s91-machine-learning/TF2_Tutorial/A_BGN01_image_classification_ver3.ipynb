{
 "cells": [
  {
   "cell_type": "markdown",
   "metadata": {},
   "source": [
    "# Industry 4.0 의 중심, AI - ML&DL"
   ]
  },
  {
   "cell_type": "markdown",
   "metadata": {
    "collapsed": true
   },
   "source": [
    "<div align='right'><font size=2 color='gray'>Python For BigData @ <font color='blue'><a href='https://www.facebook.com/jskim.kr'>FB / jskim.kr</a></font>, [김진수](bigpycraft@gmail.com)</font></div>\n",
    "<hr>"
   ]
  },
  {
   "cell_type": "markdown",
   "metadata": {},
   "source": [
    "### <font color='brown'>Classification : MNIST 의류 이미지 분류</font>"
   ]
  },
  {
   "cell_type": "markdown",
   "metadata": {
    "id": "FbVhjPpzn6BM"
   },
   "source": [
    "> 학습내용 : 운동화나 셔츠 같은 옷 이미지를 분류하는 신경망 모델을 훈련\n",
    "> - 상세 내용을 모두 이해하지 못하더라도, TensorFlow2.x에서 동작하는 프로그램을 빠르게 살펴 보겠습니다. \n",
    "> - 텐서플로 모델을 만들고 훈련할 수 있는 고수준 API인 [tf.keras](https://www.tensorflow.org/guide/keras)를 사용"
   ]
  },
  {
   "cell_type": "code",
   "execution_count": 1,
   "metadata": {
    "execution": {
     "iopub.execute_input": "2021-10-09T00:37:03.209413Z",
     "iopub.status.busy": "2021-10-09T00:37:03.208893Z",
     "iopub.status.idle": "2021-10-09T00:37:04.729931Z",
     "shell.execute_reply": "2021-10-09T00:37:04.730297Z"
    },
    "id": "dzLKpmZICaWN"
   },
   "outputs": [
    {
     "data": {
      "text/plain": [
       "'2.9.1'"
      ]
     },
     "execution_count": 1,
     "metadata": {},
     "output_type": "execute_result"
    }
   ],
   "source": [
    "# TensorFlow2.x and tf.keras\n",
    "import tensorflow as tf\n",
    "\n",
    "# Helper libraries\n",
    "import numpy as np\n",
    "import matplotlib.pyplot as plt\n",
    "\n",
    "tf.__version__"
   ]
  },
  {
   "cell_type": "markdown",
   "metadata": {
    "id": "yR0EdgrLCaWR"
   },
   "source": [
    "### 패션 MNIST 데이터셋 임포트하기"
   ]
  },
  {
   "cell_type": "markdown",
   "metadata": {
    "id": "DLdCchMdCaWQ"
   },
   "source": [
    "> - 10개의 범주(category)와 70,000개의 흑백 이미지로 구성된 [패션 MNIST](https://github.com/zalandoresearch/fashion-mnist) 데이터셋을 사용\n",
    "> - 이미지는 해상도(28x28 픽셀)가 낮고 다음처럼 개별 옷 품목을 나타냅니다.\n",
    "\n",
    "<table>\n",
    "  <tr>\n",
    "    <td>\n",
    "      <img src=\"https://tensorflow.org/images/fashion-mnist-sprite.png\" alt=\"Fashion MNIST sprite\" width=\"600\">\n",
    "    </td>\n",
    "  </tr>\n",
    "  <tr>\n",
    "    <td align=\"center\">\n",
    "      <b>Fig.</b> <a href=\"https://github.com/zalandoresearch/fashion-mnist\">패션-MNIST 샘플</a> (Zalando, MIT License).<br>&nbsp;\n",
    "    </td>\n",
    "  </tr>\n",
    "</table>\n",
    "\n",
    "- 학습 : 60,000개의 이미지를 사용하여 네트워크를 훈련하고 \n",
    "- 평가 : 10,000개의 이미지를 사용하여 네트워크에서 이미지 분류를 학습한 정도를 평가\n",
    "- Data : TensorFlow에서 직접 [Fashion MNIST 데이터](https://www.tensorflow.org/api_docs/python/tf/keras/datasets/fashion_mnist/load_data)에 액세스하여 가져오고 로딩"
   ]
  },
  {
   "cell_type": "code",
   "execution_count": 2,
   "metadata": {
    "execution": {
     "iopub.execute_input": "2021-10-09T00:37:04.734895Z",
     "iopub.status.busy": "2021-10-09T00:37:04.734362Z",
     "iopub.status.idle": "2021-10-09T00:37:05.637249Z",
     "shell.execute_reply": "2021-10-09T00:37:05.636740Z"
    },
    "id": "7MqDQO0KCaWS"
   },
   "outputs": [],
   "source": [
    "fashion_mnist = tf.keras.datasets.fashion_mnist\n",
    "\n",
    "(train_images, train_labels), (test_images, test_labels) = fashion_mnist.load_data()"
   ]
  },
  {
   "cell_type": "code",
   "execution_count": 3,
   "metadata": {},
   "outputs": [
    {
     "data": {
      "text/plain": [
       "(numpy.ndarray, numpy.ndarray, numpy.ndarray, numpy.ndarray)"
      ]
     },
     "execution_count": 3,
     "metadata": {},
     "output_type": "execute_result"
    }
   ],
   "source": [
    "type(train_images), type(train_labels), type(test_images), type(test_labels)"
   ]
  },
  {
   "cell_type": "code",
   "execution_count": 4,
   "metadata": {},
   "outputs": [
    {
     "data": {
      "text/plain": [
       "(60000, 60000, 10000, 10000)"
      ]
     },
     "execution_count": 4,
     "metadata": {},
     "output_type": "execute_result"
    }
   ],
   "source": [
    "len(train_images), len(train_labels), len(test_images), len(test_labels)"
   ]
  },
  {
   "cell_type": "markdown",
   "metadata": {
    "id": "t9FDsUlxCaWW"
   },
   "source": [
    "load_data() 함수를 호출하면 네 개의 넘파이(NumPy) 배열이 반환 :\n",
    "> \n",
    "> - `train_images`와 `train_labels` 배열은 모델 학습에 사용되는 *훈련 세트* 이고,\n",
    "> - `test_images`와 `test_labels` 배열은 모델 테스트에 사용되는 *테스트 세트* 이다.\n",
    "> <br/>\n",
    "> - 이미지는 28x28 크기의 넘파이 배열이고 픽셀 값은 0과 255 사이입니다. \n",
    "> - *레이블*(label)은 0에서 9까지의 정수 배열입니다. → 이 값은 이미지에 있는 옷의 *클래스*(class)를 나타냅니다:\n",
    ">\n",
    "><table>\n",
    "  <tr>\n",
    "    <th>레이블</th>\n",
    "    <th>클래스</th>\n",
    "  </tr>\n",
    "  <tr>\n",
    "    <td>0</td>\n",
    "    <td>T-shirt/top</td>\n",
    "  </tr>\n",
    "  <tr>\n",
    "    <td>1</td>\n",
    "    <td>Trouser</td>\n",
    "  </tr>\n",
    "    <tr>\n",
    "    <td>2</td>\n",
    "    <td>Pullover</td>\n",
    "  </tr>\n",
    "    <tr>\n",
    "    <td>3</td>\n",
    "    <td>Dress</td>\n",
    "  </tr>\n",
    "    <tr>\n",
    "    <td>4</td>\n",
    "    <td>Coat</td>\n",
    "  </tr>\n",
    "    <tr>\n",
    "    <td>5</td>\n",
    "    <td>Sandal</td>\n",
    "  </tr>\n",
    "    <tr>\n",
    "    <td>6</td>\n",
    "    <td>Shirt</td>\n",
    "  </tr>\n",
    "    <tr>\n",
    "    <td>7</td>\n",
    "    <td>Sneaker</td>\n",
    "  </tr>\n",
    "    <tr>\n",
    "    <td>8</td>\n",
    "    <td>Bag</td>\n",
    "  </tr>\n",
    "    <tr>\n",
    "    <td>9</td>\n",
    "    <td>Ankle boot</td>\n",
    "  </tr>\n",
    "</table>\n",
    "\n",
    "> - 각 이미지는 하나의 레이블에 매핑되어 있습니다. \n",
    "> - 데이터셋에 *클래스 이름*이 들어있지 않기 때문에 나중에 이미지를 출력할 때 사용하기 위해 별도의 변수를 만들어 저장합니다"
   ]
  },
  {
   "cell_type": "code",
   "execution_count": 5,
   "metadata": {
    "execution": {
     "iopub.execute_input": "2021-10-09T00:37:05.641741Z",
     "iopub.status.busy": "2021-10-09T00:37:05.641192Z",
     "iopub.status.idle": "2021-10-09T00:37:05.643058Z",
     "shell.execute_reply": "2021-10-09T00:37:05.642671Z"
    },
    "id": "IjnLH5S2CaWx"
   },
   "outputs": [],
   "source": [
    "class_names = ['T-shirt/top',  'Trouser',  'Pullover',  'Dress', 'Coat',\n",
    "               'Sandal',       'Shirt',    'Sneaker',   'Bag',   'Ankle boot' ]"
   ]
  },
  {
   "cell_type": "markdown",
   "metadata": {
    "id": "Brm0b_KACaWX"
   },
   "source": [
    "### 데이터 탐색\n",
    "\n",
    "> 모델을 훈련하기 전에 데이터셋 구조를 파악한다. "
   ]
  },
  {
   "cell_type": "markdown",
   "metadata": {},
   "source": [
    "훈련 세트에 60,000개의 이미지가 있다는 것을 보여줍니다. 각 이미지는 28x28 픽셀로 표현됩니다"
   ]
  },
  {
   "cell_type": "code",
   "execution_count": 6,
   "metadata": {
    "execution": {
     "iopub.execute_input": "2021-10-09T00:37:05.648800Z",
     "iopub.status.busy": "2021-10-09T00:37:05.648200Z",
     "iopub.status.idle": "2021-10-09T00:37:05.650659Z",
     "shell.execute_reply": "2021-10-09T00:37:05.651008Z"
    },
    "id": "zW5k_xz1CaWX"
   },
   "outputs": [
    {
     "data": {
      "text/plain": [
       "(60000, 28, 28)"
      ]
     },
     "execution_count": 6,
     "metadata": {},
     "output_type": "execute_result"
    }
   ],
   "source": [
    "train_images.shape"
   ]
  },
  {
   "cell_type": "markdown",
   "metadata": {
    "id": "YSlYxFuRCaWk"
   },
   "source": [
    "각 레이블은 0과 9사이의 정수입니다:"
   ]
  },
  {
   "cell_type": "code",
   "execution_count": 7,
   "metadata": {
    "execution": {
     "iopub.execute_input": "2021-10-09T00:37:05.661703Z",
     "iopub.status.busy": "2021-10-09T00:37:05.661122Z",
     "iopub.status.idle": "2021-10-09T00:37:05.664363Z",
     "shell.execute_reply": "2021-10-09T00:37:05.663970Z"
    },
    "id": "XKnCTHz4CaWg"
   },
   "outputs": [
    {
     "data": {
      "text/plain": [
       "array([9, 0, 0, ..., 3, 0, 5], dtype=uint8)"
      ]
     },
     "execution_count": 7,
     "metadata": {},
     "output_type": "execute_result"
    }
   ],
   "source": [
    "train_labels"
   ]
  },
  {
   "cell_type": "code",
   "execution_count": 8,
   "metadata": {},
   "outputs": [
    {
     "data": {
      "text/plain": [
       "[0, 1, 2, 3, 4, 5, 6, 7, 8, 9]"
      ]
     },
     "execution_count": 8,
     "metadata": {},
     "output_type": "execute_result"
    }
   ],
   "source": [
    "sorted(set(train_labels))"
   ]
  },
  {
   "cell_type": "markdown",
   "metadata": {
    "id": "TMPI88iZpO2T"
   },
   "source": [
    "테스트 세트에는 10,000개의 이미지가 있습니다. 이 이미지도 28x28 픽셀로 표현됩니다:"
   ]
  },
  {
   "cell_type": "code",
   "execution_count": 9,
   "metadata": {
    "execution": {
     "iopub.execute_input": "2021-10-09T00:37:05.668323Z",
     "iopub.status.busy": "2021-10-09T00:37:05.667776Z",
     "iopub.status.idle": "2021-10-09T00:37:05.670735Z",
     "shell.execute_reply": "2021-10-09T00:37:05.671052Z"
    },
    "id": "2KFnYlcwCaWl"
   },
   "outputs": [
    {
     "data": {
      "text/plain": [
       "(10000, 28, 28)"
      ]
     },
     "execution_count": 9,
     "metadata": {},
     "output_type": "execute_result"
    }
   ],
   "source": [
    "test_images.shape"
   ]
  },
  {
   "cell_type": "markdown",
   "metadata": {
    "id": "rd0A0Iu0CaWq"
   },
   "source": [
    "테스트 세트는 10,000개의 이미지에 대한 레이블을 가지고 있습니다:"
   ]
  },
  {
   "cell_type": "code",
   "execution_count": 10,
   "metadata": {
    "execution": {
     "iopub.execute_input": "2021-10-09T00:37:05.675035Z",
     "iopub.status.busy": "2021-10-09T00:37:05.674468Z",
     "iopub.status.idle": "2021-10-09T00:37:05.677824Z",
     "shell.execute_reply": "2021-10-09T00:37:05.677397Z"
    },
    "id": "iJmPr5-ACaWn"
   },
   "outputs": [
    {
     "data": {
      "text/plain": [
       "10000"
      ]
     },
     "execution_count": 10,
     "metadata": {},
     "output_type": "execute_result"
    }
   ],
   "source": [
    "len(test_labels)"
   ]
  },
  {
   "cell_type": "markdown",
   "metadata": {
    "id": "ES6uQoLKCaWr"
   },
   "source": [
    "### 데이터 전처리\n",
    "> \n",
    "> 네트워크를 훈련하기 전에 데이터를 전처리해야 합니다. "
   ]
  },
  {
   "cell_type": "markdown",
   "metadata": {},
   "source": [
    "훈련 세트에 있는 첫 번째 이미지를 보면 픽셀 값의 범위가 0~255 사이라는 것을 알 수 있습니다:"
   ]
  },
  {
   "cell_type": "code",
   "execution_count": 11,
   "metadata": {
    "execution": {
     "iopub.execute_input": "2021-10-09T00:37:05.720032Z",
     "iopub.status.busy": "2021-10-09T00:37:05.693493Z",
     "iopub.status.idle": "2021-10-09T00:37:05.850523Z",
     "shell.execute_reply": "2021-10-09T00:37:05.850130Z"
    },
    "id": "m4VEw8Ud9Quh"
   },
   "outputs": [
    {
     "data": {
      "image/png": "[encoded data removed]",
      "text/plain": [
       "<Figure size 432x288 with 2 Axes>"
      ]
     },
     "metadata": {
      "needs_background": "light"
     },
     "output_type": "display_data"
    }
   ],
   "source": [
    "plt.figure()\n",
    "plt.imshow(train_images[0])\n",
    "plt.colorbar()\n",
    "plt.grid(False)\n",
    "plt.show()"
   ]
  },
  {
   "cell_type": "markdown",
   "metadata": {
    "id": "Wz7l27Lz9S1P"
   },
   "source": [
    "신경망 모델에 주입하기 전에 이 값의 범위를 0~1 사이로 조정한다\n",
    "> - 이렇게 하려면 255로 나누어야 합니다.\n",
    "> - *훈련 세트*와 *테스트 세트*를 동일한 방식으로 전처리하는 것이 중요합니다."
   ]
  },
  {
   "cell_type": "code",
   "execution_count": 12,
   "metadata": {
    "execution": {
     "iopub.execute_input": "2021-10-09T00:37:05.854160Z",
     "iopub.status.busy": "2021-10-09T00:37:05.853630Z",
     "iopub.status.idle": "2021-10-09T00:37:05.998526Z",
     "shell.execute_reply": "2021-10-09T00:37:05.998008Z"
    },
    "id": "bW5WzIPlCaWv"
   },
   "outputs": [],
   "source": [
    "train_images = train_images / 255.0\n",
    "\n",
    "test_images = test_images / 255.0"
   ]
  },
  {
   "cell_type": "markdown",
   "metadata": {
    "id": "Ee638AlnCaWz"
   },
   "source": [
    "*훈련 세트*에서 처음 25개 이미지와 그 아래 클래스 이름을 출력해 보자\n",
    "> 데이터 포맷이 올바른지 확인하고 네트워크 구성과 훈련할 준비를 마칩니다."
   ]
  },
  {
   "cell_type": "code",
   "execution_count": 13,
   "metadata": {
    "execution": {
     "iopub.execute_input": "2021-10-09T00:37:06.077668Z",
     "iopub.status.busy": "2021-10-09T00:37:06.051526Z",
     "iopub.status.idle": "2021-10-09T00:37:06.852985Z",
     "shell.execute_reply": "2021-10-09T00:37:06.852546Z"
    },
    "id": "oZTImqg_CaW1"
   },
   "outputs": [
    {
     "data": {
      "image/png": "[encoded data removed]",
      "text/plain": [
       "<Figure size 720x720 with 25 Axes>"
      ]
     },
     "metadata": {},
     "output_type": "display_data"
    }
   ],
   "source": [
    "plt.figure(figsize=(10,10))\n",
    "for i in range(25):\n",
    "    plt.subplot(5,5,i+1)\n",
    "    plt.xticks([])\n",
    "    plt.yticks([])\n",
    "    plt.grid(False)\n",
    "    plt.imshow(train_images[i], cmap=plt.cm.binary)\n",
    "    plt.xlabel(class_names[train_labels[i]])    # 분류 라벨명\n",
    "plt.show()"
   ]
  },
  {
   "cell_type": "markdown",
   "metadata": {
    "id": "59veuiEZCaW4"
   },
   "source": [
    "### 모델 구성\n",
    "> \n",
    "> 신경망 모델을 만들려면 모델의 층을 구성한 다음 모델을 컴파일합니다."
   ]
  },
  {
   "cell_type": "markdown",
   "metadata": {
    "id": "Gxg1XGm0eOBy"
   },
   "source": [
    "#### 층 설정\n",
    "> \n",
    "> - 신경망의 기본 빌딩 블록은 [*레이어*](https://www.tensorflow.org/api_docs/python/tf/keras/layers) 입니다. 레이어는 레이어에 공급된 데이터로부터 표현을 추출합니다. 이러한 표현은 당면한 문제에 의미가 있어야 합니다.\n",
    "> \n",
    "> - 대부분 딥러닝은 간단한 층을 연결하여 구성됩니다. `tf.keras.layers.Dense`와 같은 층들의 가중치(parameter)는 훈련하는 동안 학습됩니다."
   ]
  },
  {
   "cell_type": "code",
   "execution_count": 14,
   "metadata": {
    "execution": {
     "iopub.execute_input": "2021-10-09T00:37:06.858821Z",
     "iopub.status.busy": "2021-10-09T00:37:06.857327Z",
     "iopub.status.idle": "2021-10-09T00:37:08.396243Z",
     "shell.execute_reply": "2021-10-09T00:37:08.396719Z"
    },
    "id": "9ODch-OFCaW4"
   },
   "outputs": [],
   "source": [
    "model = tf.keras.Sequential([\n",
    "    tf.keras.layers.Flatten(input_shape=(28, 28)),\n",
    "    tf.keras.layers.Dense(128, activation='relu'),\n",
    "    tf.keras.layers.Dense(10)\n",
    "])"
   ]
  },
  {
   "cell_type": "markdown",
   "metadata": {},
   "source": [
    "- 이 네트워크의 첫 번째 층인 `tf.keras.layers.Flatten`은 2차원 배열(28 x 28 픽셀)의 이미지 포맷을 28 * 28 = 784 픽셀의 1차원 배열로 변환합니다. 이 층은 이미지에 있는 픽셀의 행을 펼쳐서 일렬로 늘립니다. 이 층에는 학습되는 가중치가 없고 데이터를 변환하기만 합니다.\n",
    "\n",
    "- 픽셀을 펼친 후에는 두 개의 `tf.keras.layers.Dense` 층이 연속되어 연결됩니다. 이 층을 밀집 연결(densely-connected) 또는 완전 연결(fully-connected) 층이라고 부릅니다. 첫 번째 `Dense` 층은 128개의 노드(또는 뉴런)를 가집니다. 두 번째 (마지막) 층은 10개의 노드의 *소프트맥스*(softmax) 층입니다. 이 층은 10개의 확률을 반환하고 반환된 값의 전체 합은 1입니다. 각 노드는 현재 이미지가 10개 클래스 중 하나에 속할 확률을 출력합니다."
   ]
  },
  {
   "cell_type": "markdown",
   "metadata": {
    "id": "gut8A_7rCaW6"
   },
   "source": [
    "<hr>\n",
    "\n",
    "#### 모델 컴파일\n",
    "> 모델을 훈련할 준비가 되기 전에 몇 가지 설정이 더 필요합니다. 다음은 모델의 [*컴파일*](https://www.tensorflow.org/api_docs/python/tf/keras/Model#compile) 단계에서 추가됩니다.\n",
    "> - [*손실 함수*](https://www.tensorflow.org/api_docs/python/tf/keras/losses) : 훈련 중 모델이 얼마나 정확한지 측정합니다. 모델을 올바른 방향으로 \"조정\"하려면 이 함수를 최소화해야 합니다.\n",
    "> - [*옵티마이저*](https://www.tensorflow.org/api_docs/python/tf/keras/optimizers) : 모델이 인식하는 데이터와 해당 손실 함수를 기반으로 모델이 업데이트되는 방식입니다.\n",
    "> - [*메트릭*](https://www.tensorflow.org/api_docs/python/tf/keras/metrics) : 훈련 및 테스트 단계를 모니터링하는 데 사용됩니다. \n",
    "> <br/> → 지금 예제에서는 올바르게 분류된 이미지의 비율인 <b>*정확도(accuracy)*</b> 를 사용합니다."
   ]
  },
  {
   "cell_type": "code",
   "execution_count": 15,
   "metadata": {
    "execution": {
     "iopub.execute_input": "2021-10-09T00:37:08.405187Z",
     "iopub.status.busy": "2021-10-09T00:37:08.404649Z",
     "iopub.status.idle": "2021-10-09T00:37:08.412602Z",
     "shell.execute_reply": "2021-10-09T00:37:08.412174Z"
    },
    "id": "Lhan11blCaW7"
   },
   "outputs": [],
   "source": [
    "model.compile(optimizer='adam',\n",
    "              loss=tf.keras.losses.SparseCategoricalCrossentropy(from_logits=True),\n",
    "              metrics=['accuracy'])"
   ]
  },
  {
   "cell_type": "markdown",
   "metadata": {
    "id": "qKF6uW-BCaW-"
   },
   "source": [
    "### 모델 훈련\n",
    "> \n",
    "> 신경망 모델을 훈련하려면 다음 단계가 필요합니다.\n",
    "> \n",
    "> 1. 훈련 데이터를 모델에 주입합니다. → `train_images`와 `train_labels` 배열\n",
    "> 2. 모델이 이미지와 레이블을 매핑하는 방법을 배웁니다.\n",
    "> 3. 테스트 세트에 대한 모델의 예측을 만듭니다 → `test_images` 배열 \n",
    "> 4. 예측이 `test_labels` 배열의 레이블과 일치하는지 확인합니다.\n"
   ]
  },
  {
   "cell_type": "markdown",
   "metadata": {
    "id": "Z4P4zIV7E28Z"
   },
   "source": [
    "#### 모델 피드\n",
    "> \n",
    "> 훈련을 시작하려면 [`model.fit`](https://www.tensorflow.org/api_docs/python/tf/keras/Model#fit) 메서드를 호출합니다. <br/>\n",
    "> 모델을 훈련 데이터에 \"맞추기(fit)\" 때문에 이렇게 불립니다. ^^;;"
   ]
  },
  {
   "cell_type": "code",
   "execution_count": 16,
   "metadata": {
    "execution": {
     "iopub.execute_input": "2021-10-09T00:37:08.416634Z",
     "iopub.status.busy": "2021-10-09T00:37:08.416057Z",
     "iopub.status.idle": "2021-10-09T00:37:35.643885Z",
     "shell.execute_reply": "2021-10-09T00:37:35.644240Z"
    },
    "id": "xvwvpA64CaW_"
   },
   "outputs": [
    {
     "name": "stdout",
     "output_type": "stream",
     "text": [
      "Epoch 1/10\n",
      "1875/1875 [==============================] - 2s 975us/step - loss: 0.4976 - accuracy: 0.8263\n",
      "Epoch 2/10\n",
      "1875/1875 [==============================] - 2s 882us/step - loss: 0.3766 - accuracy: 0.8644\n",
      "Epoch 3/10\n",
      "1875/1875 [==============================] - 2s 907us/step - loss: 0.3355 - accuracy: 0.8782\n",
      "Epoch 4/10\n",
      "1875/1875 [==============================] - 2s 960us/step - loss: 0.3134 - accuracy: 0.8853\n",
      "Epoch 5/10\n",
      "1875/1875 [==============================] - 2s 1ms/step - loss: 0.2944 - accuracy: 0.8916\n",
      "Epoch 6/10\n",
      "1875/1875 [==============================] - 2s 952us/step - loss: 0.2796 - accuracy: 0.8957\n",
      "Epoch 7/10\n",
      "1875/1875 [==============================] - 2s 968us/step - loss: 0.2670 - accuracy: 0.9019\n",
      "Epoch 8/10\n",
      "1875/1875 [==============================] - 2s 1ms/step - loss: 0.2564 - accuracy: 0.9046\n",
      "Epoch 9/10\n",
      "1875/1875 [==============================] - 2s 987us/step - loss: 0.2485 - accuracy: 0.9077\n",
      "Epoch 10/10\n",
      "1875/1875 [==============================] - 2s 1ms/step - loss: 0.2385 - accuracy: 0.9108\n"
     ]
    },
    {
     "data": {
      "text/plain": [
       "<keras.callbacks.History at 0x24e9bfa6b50>"
      ]
     },
     "execution_count": 16,
     "metadata": {},
     "output_type": "execute_result"
    }
   ],
   "source": [
    "model.fit(train_images, train_labels, epochs=10)"
   ]
  },
  {
   "cell_type": "markdown",
   "metadata": {
    "id": "W3ZVOhugCaXA"
   },
   "source": [
    "- 모델이 훈련되면서 손실과 정확도 지표가 출력됩니다. \n",
    "<!-- <br/> - 이 모델은 훈련 세트에서 약 0.91(91%) 정도의 정확도를 달성합니다.-->\n",
    "- epochs=10이라면, 전체 데이터를 10번 사행해서 학습을 거치는 것입니다.\n",
    "<br/> - 우리는 모델을 만들 때 적절한 epoch 값을 설정해야만 underfitting과 overfitting을 방지할 수 있습니다.\n",
    "<br/> - epoch 값이 너무 작다면 underfitting이, 너무 크다면 overfitting이 발생할 확률이 높습니다."
   ]
  },
  {
   "cell_type": "markdown",
   "metadata": {
    "id": "wCpr6DGyE28h"
   },
   "source": [
    "#### 정확도 평가\n",
    "> \n",
    "> 다음으로, 모델이 테스트 데이터세트에서 작동하는 방식을 비교합니다."
   ]
  },
  {
   "cell_type": "code",
   "execution_count": 17,
   "metadata": {
    "execution": {
     "iopub.execute_input": "2021-10-09T00:37:35.648923Z",
     "iopub.status.busy": "2021-10-09T00:37:35.648296Z",
     "iopub.status.idle": "2021-10-09T00:37:36.162471Z",
     "shell.execute_reply": "2021-10-09T00:37:36.162831Z"
    },
    "id": "VflXLEeECaXC"
   },
   "outputs": [
    {
     "name": "stdout",
     "output_type": "stream",
     "text": [
      "313/313 - 0s - loss: 0.3361 - accuracy: 0.8812 - 345ms/epoch - 1ms/step\n",
      "\n",
      "Test accuracy: 0.8812000155448914\n"
     ]
    }
   ],
   "source": [
    "test_loss, test_acc = model.evaluate(test_images,  test_labels, verbose=2)\n",
    "\n",
    "print('\\nTest accuracy:', test_acc)"
   ]
  },
  {
   "cell_type": "markdown",
   "metadata": {
    "id": "v-PyD1SYE28q"
   },
   "source": [
    "#### 예측하기\n",
    "\n",
    "> 훈련된 모델을 사용하여 일부 이미지에 대한 예측을 수행할 수 있습니다. "
   ]
  },
  {
   "cell_type": "markdown",
   "metadata": {},
   "source": [
    "모델의 선형 출력, [로짓](https://developers.google.com/machine-learning/glossary#logits). 소프트맥스 레이어를 연결하여 로짓을 해석하기 쉬운 확률로 변환합니다. "
   ]
  },
  {
   "cell_type": "code",
   "execution_count": 18,
   "metadata": {
    "execution": {
     "iopub.execute_input": "2021-10-09T00:37:36.167730Z",
     "iopub.status.busy": "2021-10-09T00:37:36.167212Z",
     "iopub.status.idle": "2021-10-09T00:37:36.180366Z",
     "shell.execute_reply": "2021-10-09T00:37:36.179971Z"
    },
    "id": "DnfNA0CrQLSD"
   },
   "outputs": [],
   "source": [
    "probability_model = tf.keras.Sequential([model, \n",
    "                                         tf.keras.layers.Softmax()])"
   ]
  },
  {
   "cell_type": "code",
   "execution_count": 19,
   "metadata": {
    "execution": {
     "iopub.execute_input": "2021-10-09T00:37:36.183891Z",
     "iopub.status.busy": "2021-10-09T00:37:36.183346Z",
     "iopub.status.idle": "2021-10-09T00:37:36.517176Z",
     "shell.execute_reply": "2021-10-09T00:37:36.517584Z"
    },
    "id": "Gl91RPhdCaXI"
   },
   "outputs": [
    {
     "name": "stdout",
     "output_type": "stream",
     "text": [
      "313/313 [==============================] - 0s 786us/step\n"
     ]
    }
   ],
   "source": [
    "predictions = probability_model.predict(test_images)"
   ]
  },
  {
   "cell_type": "markdown",
   "metadata": {
    "id": "x9Kk1voUCaXJ"
   },
   "source": [
    "여기서는 테스트 세트에 있는 각 이미지의 레이블을 예측했습니다. 첫 번째 예측을 확인해 보죠:"
   ]
  },
  {
   "cell_type": "code",
   "execution_count": 20,
   "metadata": {
    "execution": {
     "iopub.execute_input": "2021-10-09T00:37:36.522707Z",
     "iopub.status.busy": "2021-10-09T00:37:36.521976Z",
     "iopub.status.idle": "2021-10-09T00:37:36.524636Z",
     "shell.execute_reply": "2021-10-09T00:37:36.524984Z"
    },
    "id": "3DmJEUinCaXK"
   },
   "outputs": [
    {
     "data": {
      "text/plain": [
       "array([7.6860749e-07, 3.0633142e-08, 3.8983425e-09, 1.2945017e-11,\n",
       "       1.6784065e-07, 3.9609685e-03, 3.9634426e-07, 1.5703358e-02,\n",
       "       2.8666354e-06, 9.8033136e-01], dtype=float32)"
      ]
     },
     "execution_count": 20,
     "metadata": {},
     "output_type": "execute_result"
    }
   ],
   "source": [
    "predictions[0]"
   ]
  },
  {
   "cell_type": "markdown",
   "metadata": {
    "id": "-hw1hgeSCaXN"
   },
   "source": [
    "이 예측은 10개의 숫자 배열로 나타납니다. 이 값은 10개의 옷 품목에 상응하는 모델의 신뢰도(confidence)를 나타냅니다. <br/> → 가장 높은 신뢰도를 가진 레이블은?"
   ]
  },
  {
   "cell_type": "code",
   "execution_count": 21,
   "metadata": {
    "execution": {
     "iopub.execute_input": "2021-10-09T00:37:36.529353Z",
     "iopub.status.busy": "2021-10-09T00:37:36.528635Z",
     "iopub.status.idle": "2021-10-09T00:37:36.531474Z",
     "shell.execute_reply": "2021-10-09T00:37:36.530989Z"
    },
    "id": "qsqenuPnCaXO"
   },
   "outputs": [
    {
     "data": {
      "text/plain": [
       "9"
      ]
     },
     "execution_count": 21,
     "metadata": {},
     "output_type": "execute_result"
    }
   ],
   "source": [
    "np.argmax(predictions[0])"
   ]
  },
  {
   "cell_type": "markdown",
   "metadata": {
    "id": "E51yS7iCCaXO"
   },
   "source": [
    "모델은 이 이미지가 앵클 부츠(`class_name[9]`)라고 가장 확신하고 있습니다. <br/>이 값이 맞는지 테스트 레이블을 확인해 본다."
   ]
  },
  {
   "cell_type": "code",
   "execution_count": 22,
   "metadata": {
    "execution": {
     "iopub.execute_input": "2021-10-09T00:37:36.535822Z",
     "iopub.status.busy": "2021-10-09T00:37:36.535087Z",
     "iopub.status.idle": "2021-10-09T00:37:36.537594Z",
     "shell.execute_reply": "2021-10-09T00:37:36.537953Z"
    },
    "id": "Sd7Pgsu6CaXP"
   },
   "outputs": [
    {
     "data": {
      "text/plain": [
       "9"
      ]
     },
     "execution_count": 22,
     "metadata": {},
     "output_type": "execute_result"
    }
   ],
   "source": [
    "test_labels[0]"
   ]
  },
  {
   "cell_type": "markdown",
   "metadata": {
    "id": "ygh2yYC972ne"
   },
   "source": [
    "10개 클래스에 대한 예측을 모두 그래프로 표현해 보겠습니다:"
   ]
  },
  {
   "cell_type": "code",
   "execution_count": 23,
   "metadata": {
    "execution": {
     "iopub.execute_input": "2021-10-09T00:37:36.544429Z",
     "iopub.status.busy": "2021-10-09T00:37:36.543805Z",
     "iopub.status.idle": "2021-10-09T00:37:36.546023Z",
     "shell.execute_reply": "2021-10-09T00:37:36.545602Z"
    },
    "id": "DvYmmrpIy6Y1"
   },
   "outputs": [],
   "source": [
    "def plot_image(i, predictions_array, true_label, img):\n",
    "    true_label, img = true_label[i], img[i]\n",
    "    plt.grid(False)\n",
    "    plt.xticks([])\n",
    "    plt.yticks([])\n",
    "\n",
    "    plt.imshow(img, cmap=plt.cm.binary)\n",
    "\n",
    "    predicted_label = np.argmax(predictions_array)\n",
    "    if predicted_label == true_label:\n",
    "        color = 'blue'\n",
    "    else:\n",
    "        color = 'red'\n",
    "\n",
    "    plt.xlabel(\"{} {:2.0f}% ({})\".format(class_names[predicted_label],\n",
    "                                   100*np.max(predictions_array),\n",
    "                                   class_names[true_label]),\n",
    "                                   color=color)\n",
    "\n",
    "def plot_value_array(i, predictions_array, true_label):\n",
    "    true_label = true_label[i]\n",
    "    plt.grid(False)\n",
    "    plt.xticks(range(10))\n",
    "    plt.yticks([])\n",
    "    thisplot = plt.bar(range(10), predictions_array, color=\"#777777\")\n",
    "    plt.ylim([0, 1])\n",
    "    predicted_label = np.argmax(predictions_array)\n",
    "\n",
    "    thisplot[predicted_label].set_color('red')\n",
    "    thisplot[true_label].set_color('blue')\n",
    "\n"
   ]
  },
  {
   "cell_type": "markdown",
   "metadata": {
    "id": "Zh9yABaME29S"
   },
   "source": [
    "#### 예측 확인\n",
    "> \n",
    "> 훈련된 모델을 사용하여 일부 이미지에 대한 예측을 수행할 수 있습니다."
   ]
  },
  {
   "cell_type": "markdown",
   "metadata": {
    "id": "d4Ov9OFDMmOD"
   },
   "source": [
    "0번째 원소의 이미지, 예측, 신뢰도 점수 배열을 확인해 보겠습니다."
   ]
  },
  {
   "cell_type": "code",
   "execution_count": 24,
   "metadata": {
    "execution": {
     "iopub.execute_input": "2021-10-09T00:37:36.566345Z",
     "iopub.status.busy": "2021-10-09T00:37:36.565751Z",
     "iopub.status.idle": "2021-10-09T00:37:36.658377Z",
     "shell.execute_reply": "2021-10-09T00:37:36.657973Z"
    },
    "id": "HV5jw-5HwSmO"
   },
   "outputs": [
    {
     "data": {
      "image/png": "[encoded data removed]",
      "text/plain": [
       "<Figure size 432x216 with 2 Axes>"
      ]
     },
     "metadata": {
      "needs_background": "light"
     },
     "output_type": "display_data"
    }
   ],
   "source": [
    "i = 0\n",
    "plt.figure(figsize=(6,3))\n",
    "plt.subplot(1,2,1)\n",
    "plot_image(i, predictions[i], test_labels, test_images)\n",
    "plt.subplot(1,2,2)\n",
    "plot_value_array(i, predictions[i],  test_labels)\n",
    "plt.show()"
   ]
  },
  {
   "cell_type": "code",
   "execution_count": 25,
   "metadata": {},
   "outputs": [
    {
     "data": {
      "image/png": "[encoded data removed]",
      "text/plain": [
       "<Figure size 432x216 with 2 Axes>"
      ]
     },
     "metadata": {
      "needs_background": "light"
     },
     "output_type": "display_data"
    }
   ],
   "source": [
    "i = 6\n",
    "plt.figure(figsize=(6,3))\n",
    "plt.subplot(1,2,1)\n",
    "plot_image(i, predictions[i], test_labels, test_images)\n",
    "plt.subplot(1,2,2)\n",
    "plot_value_array(i, predictions[i],  test_labels)\n",
    "plt.show()"
   ]
  },
  {
   "cell_type": "code",
   "execution_count": 26,
   "metadata": {
    "execution": {
     "iopub.execute_input": "2021-10-09T00:37:36.678220Z",
     "iopub.status.busy": "2021-10-09T00:37:36.673370Z",
     "iopub.status.idle": "2021-10-09T00:37:36.768534Z",
     "shell.execute_reply": "2021-10-09T00:37:36.768941Z"
    },
    "id": "Ko-uzOufSCSe"
   },
   "outputs": [
    {
     "data": {
      "image/png": "[encoded data removed]",
      "text/plain": [
       "<Figure size 432x216 with 2 Axes>"
      ]
     },
     "metadata": {
      "needs_background": "light"
     },
     "output_type": "display_data"
    }
   ],
   "source": [
    "i = 12\n",
    "plt.figure(figsize=(6,3))\n",
    "plt.subplot(1,2,1)\n",
    "plot_image(i, predictions[i], test_labels, test_images)\n",
    "plt.subplot(1,2,2)\n",
    "plot_value_array(i, predictions[i],  test_labels)\n",
    "plt.show()"
   ]
  },
  {
   "cell_type": "markdown",
   "metadata": {
    "id": "kgdvGD52CaXR"
   },
   "source": [
    "몇 개의 이미지의 예측을 출력해 봅니다. \n",
    "> - 올바르게 예측된 레이블은 파란색이고 잘못 예측된 레이블은 빨강색입니다. \n",
    "> - 숫자는 예측 레이블의 신뢰도 퍼센트(100점 만점)입니다. 신뢰도 점수가 높을 때도 잘못 예측할 수 있습니다."
   ]
  },
  {
   "cell_type": "code",
   "execution_count": 27,
   "metadata": {
    "execution": {
     "iopub.execute_input": "2021-10-09T00:37:36.818460Z",
     "iopub.status.busy": "2021-10-09T00:37:36.803865Z",
     "iopub.status.idle": "2021-10-09T00:37:38.507593Z",
     "shell.execute_reply": "2021-10-09T00:37:38.507977Z"
    },
    "id": "hQlnbqaw2Qu_"
   },
   "outputs": [
    {
     "data": {
      "image/png": "[encoded data removed]",
      "text/plain": [
       "<Figure size 864x720 with 30 Axes>"
      ]
     },
     "metadata": {
      "needs_background": "light"
     },
     "output_type": "display_data"
    }
   ],
   "source": [
    "# Plot the first X test images, their predicted labels, and the true labels.\n",
    "# Color correct predictions in blue and incorrect predictions in red.\n",
    "num_rows = 5\n",
    "num_cols = 3\n",
    "num_images = num_rows*num_cols\n",
    "plt.figure(figsize=(2*2*num_cols, 2*num_rows))\n",
    "\n",
    "for i in range(num_images):\n",
    "    plt.subplot(num_rows, 2*num_cols, 2*i+1)\n",
    "    plot_image(i, predictions[i], test_labels, test_images)\n",
    "    plt.subplot(num_rows, 2*num_cols, 2*i+2)\n",
    "    plot_value_array(i, predictions[i], test_labels)\n",
    "    \n",
    "plt.tight_layout()\n",
    "plt.show()"
   ]
  },
  {
   "cell_type": "markdown",
   "metadata": {
    "id": "R32zteKHCaXT"
   },
   "source": [
    "### 훈련된 모델 사용하기\n",
    "> \n",
    "> 마지막으로 훈련된 모델을 사용하여 한 이미지에 대한 예측을 만듭니다."
   ]
  },
  {
   "cell_type": "code",
   "execution_count": 28,
   "metadata": {
    "execution": {
     "iopub.execute_input": "2021-10-09T00:37:38.512157Z",
     "iopub.status.busy": "2021-10-09T00:37:38.511582Z",
     "iopub.status.idle": "2021-10-09T00:37:38.513998Z",
     "shell.execute_reply": "2021-10-09T00:37:38.513554Z"
    },
    "id": "yRJ7JU7JCaXT"
   },
   "outputs": [
    {
     "name": "stdout",
     "output_type": "stream",
     "text": [
      "(28, 28)\n"
     ]
    }
   ],
   "source": [
    "# Grab an image from the test dataset.\n",
    "img = test_images[1]\n",
    "\n",
    "print(img.shape)"
   ]
  },
  {
   "cell_type": "markdown",
   "metadata": {
    "id": "vz3bVp21CaXV"
   },
   "source": [
    "`tf.keras` 모델은 한 번에 샘플의 묶음 또는 *배치*(batch)로 예측을 만드는데 최적화되어 있습니다. <br/>\n",
    "하나의 이미지를 사용할 때에도 2차원 배열로 만들어야 합니다:"
   ]
  },
  {
   "cell_type": "code",
   "execution_count": 29,
   "metadata": {
    "execution": {
     "iopub.execute_input": "2021-10-09T00:37:38.517877Z",
     "iopub.status.busy": "2021-10-09T00:37:38.517310Z",
     "iopub.status.idle": "2021-10-09T00:37:38.519150Z",
     "shell.execute_reply": "2021-10-09T00:37:38.519501Z"
    },
    "id": "lDFh5yF_CaXW"
   },
   "outputs": [
    {
     "name": "stdout",
     "output_type": "stream",
     "text": [
      "(1, 28, 28)\n"
     ]
    }
   ],
   "source": [
    "# Add the image to a batch where it's the only member.\n",
    "img = (np.expand_dims(img,0))\n",
    "\n",
    "print(img.shape)"
   ]
  },
  {
   "cell_type": "markdown",
   "metadata": {
    "id": "EQ5wLTkcCaXY"
   },
   "source": [
    "이제 이 이미지의 예측을 만듭니다:"
   ]
  },
  {
   "cell_type": "code",
   "execution_count": 30,
   "metadata": {
    "execution": {
     "iopub.execute_input": "2021-10-09T00:37:38.523771Z",
     "iopub.status.busy": "2021-10-09T00:37:38.523232Z",
     "iopub.status.idle": "2021-10-09T00:37:38.556846Z",
     "shell.execute_reply": "2021-10-09T00:37:38.556341Z"
    },
    "id": "o_rzNSdrCaXY"
   },
   "outputs": [
    {
     "name": "stdout",
     "output_type": "stream",
     "text": [
      "1/1 [==============================] - 0s 12ms/step\n",
      "[[5.8937621e-05 2.2611535e-13 9.9877423e-01 4.0400067e-14 1.1541386e-03\n",
      "  2.2893460e-11 1.2602561e-05 1.0088232e-20 1.1971755e-13 4.2240639e-15]]\n"
     ]
    }
   ],
   "source": [
    "predictions_single = probability_model.predict(img)\n",
    "\n",
    "print(predictions_single)"
   ]
  },
  {
   "cell_type": "code",
   "execution_count": 31,
   "metadata": {
    "execution": {
     "iopub.execute_input": "2021-10-09T00:37:38.597375Z",
     "iopub.status.busy": "2021-10-09T00:37:38.596804Z",
     "iopub.status.idle": "2021-10-09T00:37:38.650107Z",
     "shell.execute_reply": "2021-10-09T00:37:38.649667Z"
    },
    "id": "6Ai-cpLjO-3A"
   },
   "outputs": [
    {
     "data": {
      "image/png": "[encoded data removed]",
      "text/plain": [
       "<Figure size 432x288 with 1 Axes>"
      ]
     },
     "metadata": {
      "needs_background": "light"
     },
     "output_type": "display_data"
    }
   ],
   "source": [
    "plot_value_array(1, predictions_single[0], test_labels)\n",
    "_ = plt.xticks(range(10), class_names, rotation=45)\n",
    "plt.show()"
   ]
  },
  {
   "cell_type": "markdown",
   "metadata": {
    "id": "cU1Y2OAMCaXb"
   },
   "source": [
    "`tf.keras.Model.predict`는 데이터 배치의 각 이미지에 대해 하나의 목록씩 목록의 목록을 반환합니다. <br/>\n",
    "배치에서 (유일한) 이미지에 대한 예측을 가져옵니다."
   ]
  },
  {
   "cell_type": "code",
   "execution_count": 32,
   "metadata": {
    "execution": {
     "iopub.execute_input": "2021-10-09T00:37:38.654503Z",
     "iopub.status.busy": "2021-10-09T00:37:38.653890Z",
     "iopub.status.idle": "2021-10-09T00:37:38.656449Z",
     "shell.execute_reply": "2021-10-09T00:37:38.656801Z"
    },
    "id": "2tRmdq_8CaXb"
   },
   "outputs": [
    {
     "data": {
      "text/plain": [
       "2"
      ]
     },
     "execution_count": 32,
     "metadata": {},
     "output_type": "execute_result"
    }
   ],
   "source": [
    "pred_idx = np.argmax(predictions_single[0])\n",
    "pred_idx"
   ]
  },
  {
   "cell_type": "code",
   "execution_count": 33,
   "metadata": {},
   "outputs": [
    {
     "data": {
      "text/plain": [
       "'Pullover'"
      ]
     },
     "execution_count": 33,
     "metadata": {},
     "output_type": "execute_result"
    }
   ],
   "source": [
    "class_names[pred_idx]"
   ]
  },
  {
   "cell_type": "markdown",
   "metadata": {
    "id": "YFc2HbEVCaXd"
   },
   "source": [
    "예상과 같이 모델이 레이블을 예측합니다."
   ]
  },
  {
   "cell_type": "markdown",
   "metadata": {},
   "source": [
    "<hr>\n",
    "<marquee><font size=3 color='brown'>The BigpyCraft find the information to design valuable society with Technology & Craft.</font></marquee>\n",
    "<div align='right'><font size=2 color='gray'> &lt; The End &gt; </font></div>"
   ]
  }
 ],
 "metadata": {
  "colab": {
   "collapsed_sections": [],
   "name": "classification.ipynb",
   "toc_visible": true
  },
  "kernelspec": {
   "display_name": "Python 3 (ipykernel)",
   "language": "python",
   "name": "python3"
  },
  "language_info": {
   "codemirror_mode": {
    "name": "ipython",
    "version": 3
   },
   "file_extension": ".py",
   "mimetype": "text/x-python",
   "name": "python",
   "nbconvert_exporter": "python",
   "pygments_lexer": "ipython3",
   "version": "3.9.12"
  }
 },
 "nbformat": 4,
 "nbformat_minor": 1
}
