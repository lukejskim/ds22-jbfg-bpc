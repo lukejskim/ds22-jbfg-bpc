{
 "cells": [
  {
   "cell_type": "markdown",
   "metadata": {},
   "source": [
    "# Industry 4.0 의 중심, AI - ML&DL"
   ]
  },
  {
   "cell_type": "markdown",
   "metadata": {},
   "source": [
    "<div align='right'><font size=2 color='gray'>Machine Learning & Deep Learning with TensorFlow @ <font color='blue'><a href='https://www.facebook.com/jskim.kr'>FB / jskim.kr</a></font>, 김진수</font></div>\n",
    "<hr>"
   ]
  },
  {
   "cell_type": "markdown",
   "metadata": {},
   "source": [
    "## Tensorflow Programming Model"
   ]
  },
  {
   "cell_type": "raw",
   "metadata": {},
   "source": [
    "<!--"
   ]
  },
  {
   "cell_type": "markdown",
   "metadata": {},
   "source": [
    "### 1. 텐서플로우 2.0 환경에서 1.x 코드 실행하기\n",
    "> https://lv99.tistory.com/31\n",
    "> - 코드 변환에 아직 어려움이 있으신 분이 있다면, 아래와 같은 방법으로 여전히 1.x 버전의 코드를 실행할 수 있습니다.\n",
    "> - tensorflow가 2.0으로 올라가면서, 더이상 Session 모듈을 지원하지 않게 되었습니다.\n",
    "> - 설치 오류가 아닙니다. 아래와 같이 코드를 작성하면 Session 사용 가능 합니다.\n",
    "> <br/>\n",
    "> <br/> import tensorflow.compat.v1 as tf\n",
    "> <br/> tf.disable_v2_behavior()\n",
    "> <br/><br/>\n",
    "> - <b>하지만</b> 실행 결과창에 끊임없이 경고 메시지가 뜬다는...ㅠㅠ;"
   ]
  },
  {
   "cell_type": "markdown",
   "metadata": {},
   "source": [
    "> <br/> import tensorflow.compat.v1 as tf\n",
    "> <br/> tf.disable_v2_behavior()"
   ]
  },
  {
   "cell_type": "markdown",
   "metadata": {},
   "source": [
    "### 2. 텐서플로우 1.x 코드를 2.0 코드로 업그레이드하기\n",
    ">  \n",
    "> - 2.0으로 바꾸시려면 업그레이드 스크립트를 사용하고, 자동변환되지 않는 부분에 대해서 직접 수정을 거쳐야합니다.\n",
    "> - 혹은, 차근 차근 직접 바꿔나가는 방법도 있습니다. (이게 더 안정적임) 이것은 다음의 링크(준비중)를 확인해주세요.\n",
    "\n",
    " "
   ]
  },
  {
   "cell_type": "raw",
   "metadata": {},
   "source": [
    "1. 단일 파일에 대한 업데이트\n",
    "\n",
    "tf_upgrade_v2 --infile tensorfoo.py --outfile tensorfoo-upgraded.py"
   ]
  },
  {
   "cell_type": "raw",
   "metadata": {},
   "source": [
    "2. 디렉토리 트리(폴더)에 대한 업데이트\n",
    "\n",
    "tf_upgrade_v2 --intree coolcode --outtree coolcode-upgraded"
   ]
  },
  {
   "cell_type": "raw",
   "metadata": {},
   "source": [
    "# %pip install tensorflow"
   ]
  },
  {
   "cell_type": "raw",
   "metadata": {},
   "source": [
    "-->"
   ]
  },
  {
   "cell_type": "code",
   "execution_count": 1,
   "metadata": {},
   "outputs": [],
   "source": [
    "import tensorflow as tf"
   ]
  },
  {
   "cell_type": "code",
   "execution_count": 2,
   "metadata": {},
   "outputs": [
    {
     "data": {
      "text/plain": [
       "'2.9.1'"
      ]
     },
     "execution_count": 2,
     "metadata": {},
     "output_type": "execute_result"
    }
   ],
   "source": [
    "tf.__version__"
   ]
  },
  {
   "cell_type": "markdown",
   "metadata": {},
   "source": [
    "### <font color='brown'>TF01_Hello</font>"
   ]
  },
  {
   "cell_type": "code",
   "execution_count": 3,
   "metadata": {},
   "outputs": [
    {
     "name": "stdout",
     "output_type": "stream",
     "text": [
      "WARNING:tensorflow:From C:\\Python\\anaconda3\\lib\\site-packages\\tensorflow\\python\\compat\\v2_compat.py:107: disable_resource_variables (from tensorflow.python.ops.variable_scope) is deprecated and will be removed in a future version.\n",
      "Instructions for updating:\n",
      "non-resource variables are not supported in the long term\n"
     ]
    }
   ],
   "source": [
    "import tensorflow.compat.v1 as tf\n",
    "\n",
    "tf.disable_v2_behavior()\n",
    "# tf.compat.v1.disable_v2_behavior()"
   ]
  },
  {
   "cell_type": "code",
   "execution_count": 4,
   "metadata": {},
   "outputs": [
    {
     "data": {
      "text/plain": [
       "b' Hello TensorFlow!'"
      ]
     },
     "execution_count": 4,
     "metadata": {},
     "output_type": "execute_result"
    }
   ],
   "source": [
    "# import tensorflow as tf\n",
    "\n",
    "hello = tf.constant(\" Hello TensorFlow!\")\n",
    "sess = tf.Session()\n",
    "\n",
    "sess.run(hello)"
   ]
  },
  {
   "cell_type": "markdown",
   "metadata": {},
   "source": [
    "### <font color='brown'>TF02_Variable</font>"
   ]
  },
  {
   "cell_type": "code",
   "execution_count": 5,
   "metadata": {},
   "outputs": [
    {
     "name": "stdout",
     "output_type": "stream",
     "text": [
      "constant x : 100 \n",
      "Variable y : 200\n"
     ]
    }
   ],
   "source": [
    "#first_session_only_tensorflow.py\n",
    "\n",
    "x = tf.constant(100, name='x')\n",
    "y = tf.Variable(x*2, name='y')\n",
    "\n",
    "model = tf.global_variables_initializer()\n",
    "\n",
    "with tf.Session() as sess:\n",
    "    sess.run(model)\n",
    "    print(\"constant x : {x} \\nVariable y : {y}\".format(\n",
    "        x = sess.run(x), \n",
    "        y = sess.run(y)\n",
    "    ))"
   ]
  },
  {
   "cell_type": "markdown",
   "metadata": {},
   "source": [
    "### <font color='brown'>TF03_placeholder</font>"
   ]
  },
  {
   "cell_type": "code",
   "execution_count": 6,
   "metadata": {},
   "outputs": [
    {
     "name": "stdout",
     "output_type": "stream",
     "text": [
      "tf.multiply(20,30) : 600\n"
     ]
    }
   ],
   "source": [
    "# 변수 a, b는 동적으로 지정\n",
    "a = tf.placeholder(\"int32\")\n",
    "b = tf.placeholder(\"int32\")\n",
    "\n",
    "# multiply 함수는 입력된 정수 a와 b의 곱셈을 반환한다.\n",
    "y = tf.multiply(a,b)\n",
    "\n",
    "sess = tf.Session()\n",
    "\n",
    "print(\"tf.multiply({a},{b}) : {y}\".format(\n",
    "    a = 20, b = 30,\n",
    "    y = sess.run(y , feed_dict={a: 20, b: 30})\n",
    "))"
   ]
  },
  {
   "cell_type": "markdown",
   "metadata": {},
   "source": [
    "### <font color='brown'>TF04_Tensorboard</font>"
   ]
  },
  {
   "cell_type": "code",
   "execution_count": 7,
   "metadata": {},
   "outputs": [
    {
     "name": "stdout",
     "output_type": "stream",
     "text": [
      " constant a = 10 \n",
      " constant b = 20 \n",
      " Variable y = 500\n"
     ]
    }
   ],
   "source": [
    "a = tf.constant(10, name=\"a\")\n",
    "b = tf.constant(20, name=\"b\")\n",
    "y = tf.Variable(a**2 + b**2, name=\"y\")\n",
    "\n",
    "model = tf.global_variables_initializer()\n",
    "\n",
    "with tf.Session() as sess:\n",
    "    merged = tf.summary.merge_all()\n",
    "    writer = tf.summary.FileWriter(\"./graph/board\", sess.graph)\n",
    "    sess.run(model)\n",
    "    print(\" constant a = {a} \\n constant b = {b} \\n Variable y = {y}\".format(\n",
    "        a = sess.run(a), \n",
    "        b = sess.run(b),\n",
    "        y = sess.run(y)\n",
    "    )) "
   ]
  },
  {
   "cell_type": "raw",
   "metadata": {},
   "source": [
    "<!--\n",
    "(Anaconda3) > tensorboard --logdir=graph/board --port=9999\n",
    "\n",
    "http://localhost:9999/#graphs\n",
    "//-->"
   ]
  },
  {
   "cell_type": "code",
   "execution_count": 8,
   "metadata": {},
   "outputs": [],
   "source": [
    "# !tensorboard --logdir=graph/board --port=9999"
   ]
  },
  {
   "cell_type": "markdown",
   "metadata": {},
   "source": [
    "### <font color='brown'>TF05_Tensor_Operation</font>"
   ]
  },
  {
   "cell_type": "code",
   "execution_count": 9,
   "metadata": {},
   "outputs": [],
   "source": [
    "import numpy as np\n",
    "\n",
    "tensor_1d = np.array([1.2, 3.4, 5.6, 7.8])\n",
    "tensor_2d = np.arange(16).reshape((4,4))"
   ]
  },
  {
   "cell_type": "code",
   "execution_count": 10,
   "metadata": {},
   "outputs": [
    {
     "name": "stdout",
     "output_type": "stream",
     "text": [
      "[1.2 3.4 5.6 7.8]\n",
      "1.2\n",
      "7.8\n"
     ]
    }
   ],
   "source": [
    "tf_tensor = tf.convert_to_tensor(tensor_1d, dtype=tf.float64)\n",
    "\n",
    "with tf.Session() as sess:\n",
    "    print(sess.run(tf_tensor))\n",
    "    print(sess.run(tf_tensor[0]))\n",
    "    print(sess.run(tf_tensor[-1]))"
   ]
  },
  {
   "cell_type": "code",
   "execution_count": 11,
   "metadata": {},
   "outputs": [],
   "source": [
    "tf_tensor_1d = tf.convert_to_tensor(tensor_1d, dtype=tf.float64)\n",
    "tf_tensor_2d = tf.convert_to_tensor(tensor_2d, dtype=tf.float64)\n",
    "sess = tf.Session()"
   ]
  },
  {
   "cell_type": "code",
   "execution_count": 12,
   "metadata": {},
   "outputs": [
    {
     "data": {
      "text/plain": [
       "array([1.2, 3.4, 5.6, 7.8])"
      ]
     },
     "execution_count": 12,
     "metadata": {},
     "output_type": "execute_result"
    }
   ],
   "source": [
    "sess.run(tf_tensor_1d)"
   ]
  },
  {
   "cell_type": "code",
   "execution_count": 13,
   "metadata": {},
   "outputs": [
    {
     "data": {
      "text/plain": [
       "1.2"
      ]
     },
     "execution_count": 13,
     "metadata": {},
     "output_type": "execute_result"
    }
   ],
   "source": [
    "sess.run(tf_tensor_1d[0])"
   ]
  },
  {
   "cell_type": "code",
   "execution_count": 14,
   "metadata": {},
   "outputs": [
    {
     "data": {
      "text/plain": [
       "array([5.6, 7.8])"
      ]
     },
     "execution_count": 14,
     "metadata": {},
     "output_type": "execute_result"
    }
   ],
   "source": [
    "sess.run(tf_tensor_1d[2:])"
   ]
  },
  {
   "cell_type": "code",
   "execution_count": 15,
   "metadata": {},
   "outputs": [
    {
     "data": {
      "text/plain": [
       "array([[ 0.,  1.,  2.,  3.],\n",
       "       [ 4.,  5.,  6.,  7.],\n",
       "       [ 8.,  9., 10., 11.],\n",
       "       [12., 13., 14., 15.]])"
      ]
     },
     "execution_count": 15,
     "metadata": {},
     "output_type": "execute_result"
    }
   ],
   "source": [
    "sess.run(tf_tensor_2d)"
   ]
  },
  {
   "cell_type": "code",
   "execution_count": 16,
   "metadata": {},
   "outputs": [
    {
     "data": {
      "text/plain": [
       "15.0"
      ]
     },
     "execution_count": 16,
     "metadata": {},
     "output_type": "execute_result"
    }
   ],
   "source": [
    "sess.run(tf_tensor_2d[3][3])"
   ]
  },
  {
   "cell_type": "code",
   "execution_count": 17,
   "metadata": {},
   "outputs": [
    {
     "data": {
      "text/plain": [
       "array([[ 5.,  6.],\n",
       "       [ 9., 10.]])"
      ]
     },
     "execution_count": 17,
     "metadata": {},
     "output_type": "execute_result"
    }
   ],
   "source": [
    "sess.run(tf_tensor_2d[1:3,1:3])"
   ]
  },
  {
   "cell_type": "markdown",
   "metadata": {},
   "source": [
    "### <font color='brown'>TF06_TF1 vs TF2</font>"
   ]
  },
  {
   "cell_type": "markdown",
   "metadata": {},
   "source": [
    "#### TensorFlow V1 방식\n",
    "> V1에서는 node들을 모두 빌드업 해둔 다음 Session 모듈을 이용해 그래프를 실행"
   ]
  },
  {
   "cell_type": "code",
   "execution_count": 18,
   "metadata": {},
   "outputs": [
    {
     "name": "stdout",
     "output_type": "stream",
     "text": [
      "7.0\n"
     ]
    }
   ],
   "source": [
    "import os \n",
    "\n",
    "os.environ['TF_CPP_MIN_LOG_LEVEL'] = '2'\n",
    "\n",
    "import tensorflow.compat.v1 as tf\n",
    "tf.disable_v2_behavior()\n",
    "\n",
    "node1 = tf.constant(3.0, tf.float32)\n",
    "node2 = tf.constant(4.0, tf.float32)\n",
    "node3 = tf.add(node1, node2)\n",
    "\n",
    "sess = tf.Session()\n",
    "print(sess.run(node3))\n"
   ]
  },
  {
   "cell_type": "markdown",
   "metadata": {},
   "source": [
    "#### TensorFlow V2 방식\n",
    ">  V2에서는 입력값 (input)이 들어가는 node들만 빌드업 해둔 후 그 다음 node (이 예제에서는 node3)은 미리 빌드업 해둔 게 아니라 함수로 정의해서 실행"
   ]
  },
  {
   "cell_type": "code",
   "execution_count": 19,
   "metadata": {},
   "outputs": [
    {
     "name": "stdout",
     "output_type": "stream",
     "text": [
      "Tensor(\"PartitionedCall:0\", shape=(), dtype=float32)\n"
     ]
    }
   ],
   "source": [
    "# Info 로그를 필터링하려면 1, Warning 로그는 2, Error 로그는 3\n",
    "import os \n",
    "\n",
    "os.environ['TF_CPP_MIN_LOG_LEVEL'] = '2'\n",
    "\n",
    "import tensorflow as tf\n",
    "\n",
    "# 앞쪽 레이어의 노드 빌드하기\n",
    "node1 = tf.constant(3.0, tf.float32)\n",
    "node2 = tf.constant(4.0, tf.float32)\n",
    "\n",
    "# 뒷쪽 레이어의 노드(즉, node3)를 함수로 정의하기\n",
    "@tf.function\n",
    "def forward():\n",
    "    return node1+node2\n",
    "\n",
    "# 그래프를 실행시키고 output을 확인해보기\n",
    "out_a = forward()\n",
    "print(out_a)"
   ]
  },
  {
   "cell_type": "code",
   "execution_count": null,
   "metadata": {},
   "outputs": [],
   "source": []
  },
  {
   "cell_type": "code",
   "execution_count": null,
   "metadata": {},
   "outputs": [],
   "source": []
  },
  {
   "cell_type": "markdown",
   "metadata": {},
   "source": [
    "> 참조 : https://www.tensorflow.org/guide/migrate?hl=ko"
   ]
  },
  {
   "cell_type": "code",
   "execution_count": 20,
   "metadata": {},
   "outputs": [
    {
     "name": "stdout",
     "output_type": "stream",
     "text": [
      "Tensor(\"StatefulPartitionedCall:0\", shape=(2, 2), dtype=float32)\n"
     ]
    }
   ],
   "source": [
    "W = tf.Variable(tf.ones(shape=(2,2)), name=\"W\")\n",
    "b = tf.Variable(tf.zeros(shape=(2)), name=\"b\")\n",
    "\n",
    "@tf.function\n",
    "def forward(x):\n",
    "    return W * x + b\n",
    "\n",
    "out_a = forward([1,0])\n",
    "print(out_a)"
   ]
  },
  {
   "cell_type": "markdown",
   "metadata": {},
   "source": [
    "<hr>\n",
    "<marquee><font size=3 color='brown'>The BigpyCraft find the information to design valuable society with Technology & Craft.</font></marquee>\n",
    "<div align='right'><font size=2 color='gray'> &lt; The End &gt; </font></div>"
   ]
  },
  {
   "cell_type": "code",
   "execution_count": null,
   "metadata": {},
   "outputs": [],
   "source": []
  }
 ],
 "metadata": {
  "kernelspec": {
   "display_name": "Python 3 (ipykernel)",
   "language": "python",
   "name": "python3"
  },
  "language_info": {
   "codemirror_mode": {
    "name": "ipython",
    "version": 3
   },
   "file_extension": ".py",
   "mimetype": "text/x-python",
   "name": "python",
   "nbconvert_exporter": "python",
   "pygments_lexer": "ipython3",
   "version": "3.9.12"
  }
 },
 "nbformat": 4,
 "nbformat_minor": 2
}
