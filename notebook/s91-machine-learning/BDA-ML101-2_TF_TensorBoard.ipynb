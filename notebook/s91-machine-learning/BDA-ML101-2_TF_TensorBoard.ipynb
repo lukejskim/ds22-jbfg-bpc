{
 "cells": [
  {
   "cell_type": "markdown",
   "metadata": {},
   "source": [
    "# Industry 4.0 의 중심, AI - ML&DL"
   ]
  },
  {
   "cell_type": "markdown",
   "metadata": {},
   "source": [
    "<div align='right'><font size=2 color='gray'>Machine Learning & Deep Learning with TensorFlow @ <font color='blue'><a href='https://www.facebook.com/jskim.kr'>FB / jskim.kr</a></font>, 김진수</font></div>\n",
    "<hr>"
   ]
  },
  {
   "cell_type": "markdown",
   "metadata": {},
   "source": [
    "## Tensorflow Board\n",
    "> tensorflow의 tensor 시각화 기능\n",
    "> - Ref : https://m.blog.naver.com/PostView.naver?isHttpsRedirect=true&blogId=rhrkdfus&logNo=221580989557\n"
   ]
  },
  {
   "cell_type": "markdown",
   "metadata": {},
   "source": [
    "> 1. TensorBoard 설치하기(upgrade 하기)\n",
    ">        (1) TensorBoard가 실행이 안되는 오류\n",
    ">        (2) pip으로 TensorBoard 설치하기 (upgrade 하기)\n",
    ">        (3) TensorFlow 설치하기 (upgrade 하기)\n",
    "> \n",
    "> 2. TensorBoard 실행하기\n",
    ">         (1) TensorBoard 실행하기\n",
    ">         (2) TensorBoard 실행 후 그래프가 안보이는 오류\n",
    ">         (3) TensorBoard가 제대로 실행된 화면\n",
    "> \n",
    "> 3. TensorBoard를 위한 로그 저장하기\n",
    ">         (1) 로그 저장하는 명령어\n",
    ">         (2) 간단한 예제1 - 생성된 graph만 보기\n",
    ">         (3) 간단한 예제2 - cost값 scalar로 확인하기"
   ]
  },
  {
   "cell_type": "markdown",
   "metadata": {},
   "source": [
    "### <font color='brown'> 1.  TensorBoard 설치하기 </font>"
   ]
  },
  {
   "cell_type": "markdown",
   "metadata": {},
   "source": [
    "> (1) TensorBoard가 실행이 안되는 오류\n",
    "> * TensorBoard로 tensor를 시각화 하기 위해 제대로 log를 저장하고, 실행하니 웹페이지에서 접속을 해도 접속이 안되는 오류가 있었습니다.\n",
    "> * 해결책을 찾아본 결과 <font color='#cc0000'>TensorBoard 버전이 낮아서 생기는 오류</font>일 것이라고 판단, <font color='#ee0000'><b>TensorBoard를 재설치.</b></font>\n",
    "> * 버전\n",
    "><br/> - 이전 버전 : 0.4.0\n",
    "><br/> - 포스팅한 현재 기준 최신 버전 : 1.5.1"
   ]
  },
  {
   "cell_type": "markdown",
   "metadata": {},
   "source": [
    "> (2) pip으로 TensorBoard 설치하기 (upgrade 하기)\n",
    "> * cmd 창에서 TensorBoard를 pip으로 삭제한 후, 다시 설치 한다.\n",
    "> <br/>\n",
    "> <br/> &gt; pip uninstall tensorflow-tensorboard\n",
    "> <br/> &gt; pip install tensorboard"
   ]
  },
  {
   "cell_type": "markdown",
   "metadata": {},
   "source": [
    "> (3) TensorFlow 설치하기 (upgrade 하기)\n",
    "> * TensorBoard를 설치하고 실행한 후에 아래와 같은 오류가 발생할 경우 TensorFlow 버전이 낮아서 생기는 오류라고 판단, TensorFlow를 upgrade 했습니다.\n",
    "> <br/>\n",
    "> <br/> &gt; AttributeError: module 'tensorflow.python.estimator.estimator_lib' has no attribute 'SessionRunHook'"
   ]
  },
  {
   "cell_type": "markdown",
   "metadata": {},
   "source": [
    "### <font color='brown'> 2.  TensorBoard 실행하기 </font>"
   ]
  },
  {
   "cell_type": "code",
   "execution_count": null,
   "metadata": {},
   "outputs": [],
   "source": []
  },
  {
   "cell_type": "markdown",
   "metadata": {},
   "source": [
    "### <font color='brown'> 3. TensorBoard를 위한 로그 저장하기 </font>"
   ]
  },
  {
   "cell_type": "code",
   "execution_count": null,
   "metadata": {},
   "outputs": [],
   "source": []
  },
  {
   "cell_type": "code",
   "execution_count": null,
   "metadata": {},
   "outputs": [],
   "source": []
  },
  {
   "cell_type": "markdown",
   "metadata": {},
   "source": [
    "<hr>\n",
    "<marquee><font size=3 color='brown'>The BigpyCraft find the information to design valuable society with Technology & Craft.</font></marquee>\n",
    "<div align='right'><font size=2 color='gray'> &lt; The End &gt; </font></div>"
   ]
  }
 ],
 "metadata": {
  "kernelspec": {
   "display_name": "Python 3 (ipykernel)",
   "language": "python",
   "name": "python3"
  },
  "language_info": {
   "codemirror_mode": {
    "name": "ipython",
    "version": 3
   },
   "file_extension": ".py",
   "mimetype": "text/x-python",
   "name": "python",
   "nbconvert_exporter": "python",
   "pygments_lexer": "ipython3",
   "version": "3.9.12"
  }
 },
 "nbformat": 4,
 "nbformat_minor": 2
}
