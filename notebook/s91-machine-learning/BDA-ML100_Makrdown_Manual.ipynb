{
 "cells": [
  {
   "cell_type": "markdown",
   "metadata": {},
   "source": [
    "<center>\n",
    "<b><font size=6>Industry 4.0 의 중심, AI - ML&DL</font></b>\n",
    "</center>"
   ]
  },
  {
   "cell_type": "markdown",
   "metadata": {},
   "source": [
    "<div align='right'><font size=2 color='gray'>Machine Learning & Deep Learning with TensorFlow @ <font color='blue'><a href='https://www.facebook.com/jskim.kr'>FB / jskim.kr</a></font>, 김진수</font></div>\n",
    "<hr>"
   ]
  },
  {
   "cell_type": "markdown",
   "metadata": {},
   "source": [
    "## 마크다운 사용법 \n",
    "> https://gist.github.com/ihoneymon/652be052a0727ad59601"
   ]
  },
  {
   "cell_type": "markdown",
   "metadata": {},
   "source": [
    "<hr>\n",
    "\n",
    "### 마크다운이이란?"
   ]
  },
  {
   "cell_type": "markdown",
   "metadata": {},
   "source": [
    "Markdown은 텍스트 기반의 마크업언어로 2004년 존그루버에 의해 만들어졌으며 쉽게 쓰고 읽을 수 있으며 HTML로 변환이 가능하다. 특수기호와 문자를 이용한 매우 간단한 구조의 문법을 사용하여 웹에서도 보다 빠르게 컨텐츠를 작성하고 보다 직관적으로 인식할 수 있다. 마크다운이 최근 각광받기 시작한 이유는 깃헙(https://github.com) 덕분이다. 깃헙의 저장소Repository에 관한 정보를 기록하는 README.md는 깃헙을 사용하는 사람이라면 누구나 가장 먼저 접하게 되는 마크다운 문서였다. 마크다운을 통해서 설치방법, 소스코드 설명, 이슈 등을 간단하게 기록하고 가독성을 높일 수 있다는 강점이 부각되면서 점점 여러 곳으로 퍼져가게 된다.\n"
   ]
  },
  {
   "cell_type": "markdown",
   "metadata": {},
   "source": [
    "#### 장점\n",
    "1. 간결하다.\n",
    "2. 별도의 도구없이 작성가능하다.\n",
    "3. 다양한 형태로 변환이 가능하다.\n",
    "3. 텍스트(Text)로 저장되기 때문에 용량이 적어 보관이 용이하다.\n",
    "4. 텍스트파일이기 때문에 버전관리시스템을 이용하여 변경이력을 관리할 수 있다.\n",
    "5. 지원하는 프로그램과 플랫폼이 다양하다."
   ]
  },
  {
   "cell_type": "markdown",
   "metadata": {},
   "source": [
    "#### 단점\n",
    "1. 표준이 없다.\n",
    "2. 표준이 없기 때문에 도구에 따라서 변환방식이나 생성물이 다르다.\n",
    "3. 모든 HTML 마크업을 대신하지 못한다."
   ]
  },
  {
   "cell_type": "markdown",
   "metadata": {},
   "source": [
    "## 마크다운 사용법(문법)"
   ]
  },
  {
   "cell_type": "markdown",
   "metadata": {},
   "source": [
    "<hr>\n",
    "\n",
    "### <font color=\"brown\"> 1. 헤더Headers <font>"
   ]
  },
  {
   "cell_type": "raw",
   "metadata": {},
   "source": [
    "This is an H1\n",
    "============="
   ]
  },
  {
   "cell_type": "markdown",
   "metadata": {
    "collapsed": true
   },
   "source": [
    "This is an H1\n",
    "============="
   ]
  },
  {
   "cell_type": "raw",
   "metadata": {},
   "source": [
    "This is an H2\n",
    "-------------"
   ]
  },
  {
   "cell_type": "markdown",
   "metadata": {
    "collapsed": true
   },
   "source": [
    "This is an H2\n",
    "-------------"
   ]
  },
  {
   "cell_type": "raw",
   "metadata": {},
   "source": [
    "# This is a H1\n",
    "## This is a H2\n",
    "### This is a H3\n",
    "#### This is a H4\n",
    "##### This is a H5\n",
    "###### This is a H6"
   ]
  },
  {
   "cell_type": "markdown",
   "metadata": {
    "collapsed": true
   },
   "source": [
    "# This is a H1\n",
    "## This is a H2\n",
    "### This is a H3\n",
    "#### This is a H4\n",
    "##### This is a H5\n",
    "###### This is a H6"
   ]
  },
  {
   "cell_type": "markdown",
   "metadata": {},
   "source": [
    "<hr>\n",
    "\n",
    "### <font color=\"brown\"> 2. BlockQuote <font>\n",
    "> 이메일에서 사용하는 > 블럭인용문자를 이용한다."
   ]
  },
  {
   "cell_type": "raw",
   "metadata": {},
   "source": [
    "> This is a blockqute."
   ]
  },
  {
   "cell_type": "markdown",
   "metadata": {},
   "source": [
    "> This is a blockqute."
   ]
  },
  {
   "cell_type": "raw",
   "metadata": {},
   "source": [
    "> This is a blockqute.\n",
    ">> This is a blockqute.\n",
    ">>> This is a blockqute."
   ]
  },
  {
   "cell_type": "markdown",
   "metadata": {},
   "source": [
    "> This is a blockqute.\n",
    ">> This is a blockqute.\n",
    ">>> This is a blockqute."
   ]
  },
  {
   "cell_type": "raw",
   "metadata": {},
   "source": [
    "``` python \n",
    "import numpy as np\n",
    "print(\"Hello, Jupyter World!)\n",
    "```"
   ]
  },
  {
   "cell_type": "markdown",
   "metadata": {},
   "source": [
    "``` python \n",
    "import numpy as np\n",
    "print(\"Hello, Jupyter World!)\n",
    "```"
   ]
  },
  {
   "cell_type": "markdown",
   "metadata": {},
   "source": [
    "<hr>\n",
    "\n",
    "### <font color=\"brown\"> 3. 목록 <font>"
   ]
  },
  {
   "cell_type": "markdown",
   "metadata": {},
   "source": [
    "● 순서있는 목록(번호)\n",
    "> 순서있는 목록은 숫자와 점을 사용한다."
   ]
  },
  {
   "cell_type": "raw",
   "metadata": {},
   "source": [
    "순서있는 목록은 숫자와 점을 사용한다.\n",
    "\n",
    "1. 첫번째\n",
    "2. 두번째\n",
    "3. 세번째"
   ]
  },
  {
   "cell_type": "markdown",
   "metadata": {},
   "source": [
    "1. 첫번째\n",
    "2. 두번째\n",
    "3. 세번째"
   ]
  },
  {
   "cell_type": "raw",
   "metadata": {},
   "source": [
    "현재까지는 어떤 번호를 입력해도 순서는 내림차순으로 정의된다.\n",
    "딱히 개선될 것 같지는 않다. 존 그루버가 신경안쓰고 있다고...\n",
    "\n",
    "1. 첫번째\n",
    "3. 세번째\n",
    "2. 두번째"
   ]
  },
  {
   "cell_type": "markdown",
   "metadata": {},
   "source": [
    "1. 첫번째\n",
    "3. 세번째\n",
    "2. 두번째"
   ]
  },
  {
   "cell_type": "markdown",
   "metadata": {},
   "source": [
    "● 순서없는 목록(글머리 기호)"
   ]
  },
  {
   "cell_type": "raw",
   "metadata": {},
   "source": [
    "* 빨강\n",
    "  * 녹색\n",
    "    * 파랑\n",
    "\n",
    "+ 빨강\n",
    "  + 녹색\n",
    "    + 파랑\n",
    "\n",
    "- 빨강\n",
    "  - 녹색\n",
    "    - 파랑"
   ]
  },
  {
   "cell_type": "markdown",
   "metadata": {},
   "source": [
    "* 빨강\n",
    "  * 녹색\n",
    "    * 파랑\n",
    "\n",
    "+ 빨강\n",
    "  + 녹색\n",
    "    + 파랑\n",
    "\n",
    "- 빨강\n",
    "  - 녹색\n",
    "    - 파랑"
   ]
  },
  {
   "cell_type": "raw",
   "metadata": {},
   "source": [
    "혼합해서 사용하는 것도 가능하다(내가 선호하는 방식)\n",
    "\n",
    "* 1단계\n",
    "    - 2단계\n",
    "    \t+ 3단계\n",
    "            = 4단계"
   ]
  },
  {
   "cell_type": "markdown",
   "metadata": {},
   "source": [
    "* 1단계\n",
    "    - 2단계\n",
    "    \t+ 3단계\n",
    "            = 4단계"
   ]
  },
  {
   "cell_type": "markdown",
   "metadata": {},
   "source": [
    "<hr>\n",
    "\n",
    "### <font color=\"brown\"> 4. 코드 <pre><code></code></pre> <font>"
   ]
  },
  {
   "cell_type": "raw",
   "metadata": {},
   "source": [
    "코드 <pre><code></code></pre> \n",
    "\n",
    "4개의 공백 또는 하나의 탭으로 들여쓰기를 만나면 변환되기 시작하여 들여쓰지 않은 행을 만날때까지 변환이 계속된다.\n",
    "\n",
    "한줄 띄어쓰면 인식이 제대로 안되는 문제가 발생하곤 합니다."
   ]
  },
  {
   "cell_type": "markdown",
   "metadata": {},
   "source": [
    "This is a normal paragraph:\n",
    "\n",
    "    This is a code block.\n",
    "end code block."
   ]
  },
  {
   "cell_type": "raw",
   "metadata": {},
   "source": [
    "``` This is a normal paragraph: This is a code block. end code block. ```"
   ]
  },
  {
   "cell_type": "markdown",
   "metadata": {},
   "source": [
    "``` This is a normal paragraph: This is a code block. end code block. ```"
   ]
  },
  {
   "cell_type": "markdown",
   "metadata": {},
   "source": [
    "<hr>\n",
    "\n",
    "### <font color=\"brown\"> 5. 수평선 <font>\n",
    "> 아래 줄은 모두 수평선을 만든다. 마크다운 문서를 미리보기로 출력할 때 페이지 나누기 용도로 많이 사용한다."
   ]
  },
  {
   "cell_type": "raw",
   "metadata": {},
   "source": [
    "<hr>\n",
    "* * *\n",
    "\n",
    "***\n",
    "\n",
    "*****\n",
    "\n",
    "- - -\n",
    "\n",
    "---------------------------------------"
   ]
  },
  {
   "cell_type": "markdown",
   "metadata": {},
   "source": [
    "<hr>\n",
    "* * *\n",
    "\n",
    "***\n",
    "\n",
    "*****\n",
    "\n",
    "- - -\n",
    "\n",
    "---------------------------------------"
   ]
  },
  {
   "cell_type": "markdown",
   "metadata": {},
   "source": [
    "<hr>\n",
    "\n",
    "### <font color=\"brown\"> 6. 링크 <font>"
   ]
  },
  {
   "cell_type": "markdown",
   "metadata": {},
   "source": [
    "● 참조링크"
   ]
  },
  {
   "cell_type": "raw",
   "metadata": {},
   "source": [
    "[link keyword][id]\n",
    "[id]: URL \"Optional Title here\""
   ]
  },
  {
   "cell_type": "markdown",
   "metadata": {},
   "source": [
    "[link keyword][id]\n",
    "[id]: URL \"Optional Title here\""
   ]
  },
  {
   "cell_type": "raw",
   "metadata": {},
   "source": [
    "Link: [Google][googlelink] \n",
    "[googlelink]: https://google.com \"Go google\""
   ]
  },
  {
   "cell_type": "markdown",
   "metadata": {},
   "source": [
    "Link: [Google][googlelink] \n",
    "[googlelink]: https://google.com \"Go google\""
   ]
  },
  {
   "cell_type": "markdown",
   "metadata": {},
   "source": [
    "● 인라인 링크"
   ]
  },
  {
   "cell_type": "raw",
   "metadata": {},
   "source": [
    "> syntax: [Title](link)\n",
    "\n",
    "[googlelink]: [https://google.com \"Go google\"]"
   ]
  },
  {
   "cell_type": "markdown",
   "metadata": {},
   "source": [
    "[googlelink]: [https://google.com \"Go google\"]"
   ]
  },
  {
   "cell_type": "markdown",
   "metadata": {},
   "source": [
    "● 자동 연결"
   ]
  },
  {
   "cell_type": "raw",
   "metadata": {},
   "source": [
    "<http://example.com/>\n",
    "<address@example.com>"
   ]
  },
  {
   "cell_type": "markdown",
   "metadata": {},
   "source": [
    "<http://example.com/>\n",
    "<address@example.com>"
   ]
  },
  {
   "cell_type": "markdown",
   "metadata": {},
   "source": [
    "<hr>\n",
    "\n",
    "### <font color=\"brown\"> 7. 강조 <font>"
   ]
  },
  {
   "cell_type": "raw",
   "metadata": {},
   "source": [
    "*single asterisks*\n",
    "_single underscores_\n",
    "**double asterisks**\n",
    "__double underscores__\n",
    "++underline++\n",
    "~~cancelline~~"
   ]
  },
  {
   "cell_type": "markdown",
   "metadata": {},
   "source": [
    "*single asterisks*\n",
    "_single underscores_\n",
    "**double asterisks**\n",
    "__double underscores__\n",
    "++underline++\n",
    "~~cancelline~~"
   ]
  },
  {
   "cell_type": "markdown",
   "metadata": {},
   "source": [
    "<hr>\n",
    "\n",
    "### <font color=\"brown\"> 8. 이미지 <font>"
   ]
  },
  {
   "cell_type": "raw",
   "metadata": {},
   "source": [
    "<font>![Alt text](../images/bpc_logo.png)\n",
    "![Alt text](../images/jupyter.jpg \"Optional title\")"
   ]
  },
  {
   "cell_type": "markdown",
   "metadata": {},
   "source": [
    "<font>![Alt text](../images/bpc_logo.png)\n",
    "![Alt text](../images/jupyter.jpg \"Optional title\")"
   ]
  },
  {
   "cell_type": "raw",
   "metadata": {},
   "source": [
    "![Alt text](../images/bpc_logo.png)\n",
    "![Alt text](../images/jupyter.jpg \"Optional title\")"
   ]
  },
  {
   "cell_type": "markdown",
   "metadata": {},
   "source": [
    "![Alt text](../images/bpc_logo.png)\n",
    "![Alt text](../images/jupyter.jpg \"Optional title\")"
   ]
  },
  {
   "cell_type": "code",
   "execution_count": null,
   "metadata": {
    "collapsed": true
   },
   "outputs": [],
   "source": []
  }
 ],
 "metadata": {
  "kernelspec": {
   "display_name": "Python 3 (ipykernel)",
   "language": "python",
   "name": "python3"
  },
  "language_info": {
   "codemirror_mode": {
    "name": "ipython",
    "version": 3
   },
   "file_extension": ".py",
   "mimetype": "text/x-python",
   "name": "python",
   "nbconvert_exporter": "python",
   "pygments_lexer": "ipython3",
   "version": "3.9.12"
  }
 },
 "nbformat": 4,
 "nbformat_minor": 2
}
