{
 "cells": [
  {
   "cell_type": "markdown",
   "metadata": {},
   "source": [
    "# Industry 4.0 의 중심, BigData"
   ]
  },
  {
   "cell_type": "markdown",
   "metadata": {},
   "source": [
    "<div align='right'><font size=2 color='gray'>Data Processing Based Python @ <font color='blue'><a href='https://www.facebook.com/jskim.kr'>FB / jskim.kr</a></font>, [김진수](bigpycraft@gmail.com)</font></div>\n",
    "<hr>"
   ]
  },
  {
   "cell_type": "markdown",
   "metadata": {},
   "source": [
    "## <font color='brown'>자연어 처리, NLP(Natural Language Processing) </font>\n",
    "> 설치 목록\n",
    "> * JDK (Java SE Downloads)\n",
    "> * JAVA_HOME 설정\n",
    "> * NLP Package 설치\n",
    "> <br/> 1) JPype 설치\n",
    "> <br/> 2) KoNLPy 설치\n",
    "> <br/> 3) Word Cloud 설치"
   ]
  },
  {
   "cell_type": "markdown",
   "metadata": {},
   "source": [
    "### <font color='blue'>  KoNLPy 및 필요 모듈의 설치 </font>\n",
    "\n",
    "- **JAVA 환경** : JDK (>=1.8) Install & JAVA Environmnmet Variable Setting\n",
    "- **MS Visual C++ 설치** : Build Tools for Visual Studio 2017 (>=14.0) Install\n",
    "- **JPype 설치** : JPype1 (>=0.5.7) Install\n",
    "<br/> (Anaconda Prompt) C:\\Users\\user> pip install --upgrade pip\n",
    "<br/> (Anaconda Prompt) C:\\Users\\user> pip install JPype1-1.2.0-cp38-cp38-win_amd64.whl\n",
    "- **KoNLPy 설치** :\n",
    "<br/> (Anaconda Prompt) C:\\Users\\user> pip install konlpy"
   ]
  },
  {
   "cell_type": "markdown",
   "metadata": {},
   "source": [
    "### <font color='blue'>  KoNLPy 패키지 </font>\n",
    "> tag Package\n",
    "> * Hannanum Class\n",
    "> * Kkma Class\n",
    "> * Komoran Class\n",
    "> * Mecab Class\n",
    "> * Twitter Class  &nbsp;&nbsp;&nbsp;&nbsp;&nbsp; → &nbsp;&nbsp; Okt"
   ]
  },
  {
   "cell_type": "code",
   "execution_count": 1,
   "metadata": {},
   "outputs": [],
   "source": [
    "from IPython.display import Image as Show"
   ]
  },
  {
   "cell_type": "code",
   "execution_count": 2,
   "metadata": {},
   "outputs": [],
   "source": [
    "import platform\n",
    "\n",
    "import numpy as np\n",
    "import pandas as pd\n",
    "import matplotlib.pyplot as plt\n",
    "import seaborn as sns\n",
    "# sns.set()\n",
    "\n",
    "from matplotlib import font_manager, rc\n",
    "if platform.system() == 'Darwin':\n",
    "    rc('font', family='AppleGothic')\n",
    "elif platform.system() == 'Windows':\n",
    "    font_name = font_manager.FontProperties(fname=\"C:/Windows/Fonts/malgun.ttf\").get_name()\n",
    "    rc('font', family=font_name)\n",
    "else:\n",
    "    print(\"It's unknown system. Hangul fonts are not supported!\")\n",
    "    \n",
    "# plt.rcParams['axes.unicode_minus'] = False\n",
    "plt.rcParams[\"figure.figsize\"] = [12,6]\n",
    "\n",
    "%matplotlib inline"
   ]
  },
  {
   "cell_type": "markdown",
   "metadata": {
    "collapsed": true
   },
   "source": [
    "### <font color='blue'> 한글 자연어 처리 기초 </font>"
   ]
  },
  {
   "cell_type": "code",
   "execution_count": 3,
   "metadata": {},
   "outputs": [],
   "source": [
    "text_0 = '한국어 분석을 시작합니다. 재미있어요'\n",
    "text_1 = '나는 이제 너 없이도 너를 좋아할 수 있다.'\n",
    "text_2 = '순간이 시간이 되고, 시간이 세월이 되고, 세월은 추억이 된다.'\n",
    "text_3 = '''\n",
    "    자신의 능력을 감추지 마라. \n",
    "    재능은 쓰라고 주어진 것이다. \n",
    "    그늘속의 해시계가 무슨 소용이랴.'\n",
    "'''\n",
    "text_4 = '''\n",
    "    If I only had an hour to chop down a tree, \n",
    "    I would spend the first 45 minutes sharpening my axe.\n",
    "    만일 내게 나무를 베기 위해 한 시간만 주어진다면, \n",
    "    우선 나는 도끼를 가는데 45분을 쓸 것이다.'\n",
    "    - 에이브러햄 링컨\n",
    "'''\n",
    "text_5 = '''\n",
    "아름답지만 다소 복잡하기도한 한국어는 전세계에서 13번째로 많이 사용되는 언어입니다.\n",
    "KoNLPy는 파이썬 프로그래밍 언어로 사용할 수 있도록 만들어졌는데, \n",
    "그것은 파이썬이 간결하고 우아한 문법구조, 강력한 스트링 연산 기능을 가지고 있을 뿐 아니라 \n",
    "크롤링, 웹프로그래밍, 그리고 데이터 분석을 수행할 수 있는 다양한 패키지를 사용할 수 있는 언어이기 때문입니다.\n",
    "'''\n",
    "\n",
    "cool_sentences = [ text_0, text_1, text_2, text_3, text_4, text_5 ]"
   ]
  },
  {
   "cell_type": "code",
   "execution_count": 4,
   "metadata": {},
   "outputs": [
    {
     "name": "stdout",
     "output_type": "stream",
     "text": [
      "\n",
      "    If I only had an hour to chop down a tree, \n",
      "    I would spend the first 45 minutes sharpening my axe.\n",
      "    만일 내게 나무를 베기 위해 한 시간만 주어진다면, \n",
      "    우선 나는 도끼를 가는데 45분을 쓸 것이다.'\n",
      "    - 에이브러햄 링컨\n",
      "\n"
     ]
    }
   ],
   "source": [
    "selected_text = cool_sentences[4]\n",
    "print(selected_text)"
   ]
  },
  {
   "cell_type": "code",
   "execution_count": 5,
   "metadata": {},
   "outputs": [
    {
     "name": "stdout",
     "output_type": "stream",
     "text": [
      "\n",
      "아름답지만 다소 복잡하기도한 한국어는 전세계에서 13번째로 많이 사용되는 언어입니다.\n",
      "KoNLPy는 파이썬 프로그래밍 언어로 사용할 수 있도록 만들어졌는데, \n",
      "그것은 파이썬이 간결하고 우아한 문법구조, 강력한 스트링 연산 기능을 가지고 있을 뿐 아니라 \n",
      "크롤링, 웹프로그래밍, 그리고 데이터 분석을 수행할 수 있는 다양한 패키지를 사용할 수 있는 언어이기 때문입니다.\n",
      "\n"
     ]
    }
   ],
   "source": [
    "selected_text = cool_sentences[-1]\n",
    "print(selected_text)"
   ]
  },
  {
   "cell_type": "markdown",
   "metadata": {
    "collapsed": true
   },
   "source": [
    "### <font color='#CC0000'> KoNLPy - Kkma </font>"
   ]
  },
  {
   "cell_type": "code",
   "execution_count": 6,
   "metadata": {},
   "outputs": [],
   "source": [
    "from konlpy.tag import Kkma"
   ]
  },
  {
   "cell_type": "code",
   "execution_count": 7,
   "metadata": {},
   "outputs": [
    {
     "name": "stdout",
     "output_type": "stream",
     "text": [
      "\n",
      "아름답지만 다소 복잡하기도한 한국어는 전세계에서 13번째로 많이 사용되는 언어입니다.\n",
      "KoNLPy는 파이썬 프로그래밍 언어로 사용할 수 있도록 만들어졌는데, \n",
      "그것은 파이썬이 간결하고 우아한 문법구조, 강력한 스트링 연산 기능을 가지고 있을 뿐 아니라 \n",
      "크롤링, 웹프로그래밍, 그리고 데이터 분석을 수행할 수 있는 다양한 패키지를 사용할 수 있는 언어이기 때문입니다.\n",
      "\n"
     ]
    }
   ],
   "source": [
    "kkma = Kkma()\n",
    "\n",
    "# selected_text = cool_sentences[0]\n",
    "print(selected_text)"
   ]
  },
  {
   "cell_type": "code",
   "execution_count": 8,
   "metadata": {},
   "outputs": [
    {
     "data": {
      "text/plain": [
       "['아름답지만 다소 복잡하기도 한 한국어는 전세계에서 13 번째로 많이 사용되는 언어입니다.',\n",
       " 'KoNLPy는 파이 썬 프로그래밍 언어로 사용할 수 있도록 만들어 졌는데, 그것은 파이 썬 이 간결하고 우아한 문법구조, 강력한 스트링 연산 기능을 가지고 있을 뿐 아니라 크롤링, 웹 프로그래밍, 그리고 데이터 분석을 수행할 수 있는 다양한 패키지를 사용할 수 있는 언어이기 때문입니다.']"
      ]
     },
     "execution_count": 8,
     "metadata": {},
     "output_type": "execute_result"
    }
   ],
   "source": [
    "kkma.sentences(selected_text)"
   ]
  },
  {
   "cell_type": "code",
   "execution_count": 9,
   "metadata": {},
   "outputs": [
    {
     "data": {
      "text/plain": [
       "['복잡',\n",
       " '한국어',\n",
       " '전세계',\n",
       " '13',\n",
       " '13번째',\n",
       " '번째',\n",
       " '사용',\n",
       " '언어',\n",
       " '파이',\n",
       " '프로그래밍',\n",
       " '수',\n",
       " '그것',\n",
       " '간결',\n",
       " '문법',\n",
       " '문법구조',\n",
       " '구조',\n",
       " '스트링',\n",
       " '연산',\n",
       " '기능',\n",
       " '뿐',\n",
       " '크롤링',\n",
       " '웹',\n",
       " '웹프로그래밍',\n",
       " '데이터',\n",
       " '분석',\n",
       " '수행',\n",
       " '다양',\n",
       " '패키지',\n",
       " '때문']"
      ]
     },
     "execution_count": 9,
     "metadata": {},
     "output_type": "execute_result"
    }
   ],
   "source": [
    "kkma.nouns(selected_text)"
   ]
  },
  {
   "cell_type": "code",
   "execution_count": 10,
   "metadata": {},
   "outputs": [
    {
     "data": {
      "text/plain": [
       "['아름답',\n",
       " '지만',\n",
       " '다소',\n",
       " '복잡',\n",
       " '하',\n",
       " '기',\n",
       " '도',\n",
       " '한',\n",
       " '한국어',\n",
       " '는',\n",
       " '전세계',\n",
       " '에서',\n",
       " '13',\n",
       " '번째',\n",
       " '로',\n",
       " '많이',\n",
       " '사용',\n",
       " '되',\n",
       " '는',\n",
       " '언어',\n",
       " '이',\n",
       " 'ㅂ니다',\n",
       " '.',\n",
       " 'KoNLPy',\n",
       " '는',\n",
       " '파이',\n",
       " '썰',\n",
       " 'ㄴ',\n",
       " '프로그래밍',\n",
       " '언어',\n",
       " '로',\n",
       " '사용',\n",
       " '하',\n",
       " 'ㄹ',\n",
       " '수',\n",
       " '있',\n",
       " '도록',\n",
       " '만들',\n",
       " '어',\n",
       " '지',\n",
       " '었',\n",
       " '는데',\n",
       " ',',\n",
       " '그것',\n",
       " '은',\n",
       " '파이',\n",
       " '썰',\n",
       " 'ㄴ',\n",
       " '이',\n",
       " '간결',\n",
       " '하',\n",
       " '고',\n",
       " '우아',\n",
       " '하',\n",
       " 'ㄴ',\n",
       " '문법',\n",
       " '구조',\n",
       " ',',\n",
       " '강력',\n",
       " '하',\n",
       " 'ㄴ',\n",
       " '스트링',\n",
       " '연산',\n",
       " '기능',\n",
       " '을',\n",
       " '가지',\n",
       " '고',\n",
       " '있',\n",
       " '을',\n",
       " '뿐',\n",
       " '아니',\n",
       " '라',\n",
       " '크롤링',\n",
       " ',',\n",
       " '웹',\n",
       " '프로그래밍',\n",
       " ',',\n",
       " '그리고',\n",
       " '데이터',\n",
       " '분석',\n",
       " '을',\n",
       " '수행',\n",
       " '하',\n",
       " 'ㄹ',\n",
       " '수',\n",
       " '있',\n",
       " '는',\n",
       " '다양',\n",
       " '하',\n",
       " 'ㄴ',\n",
       " '패키지',\n",
       " '를',\n",
       " '사용',\n",
       " '하',\n",
       " 'ㄹ',\n",
       " '수',\n",
       " '있',\n",
       " '는',\n",
       " '언어',\n",
       " '이',\n",
       " '기',\n",
       " '때문',\n",
       " '이',\n",
       " 'ㅂ니다',\n",
       " '.']"
      ]
     },
     "execution_count": 10,
     "metadata": {},
     "output_type": "execute_result"
    }
   ],
   "source": [
    "kkma.morphs(selected_text)"
   ]
  },
  {
   "cell_type": "code",
   "execution_count": 11,
   "metadata": {},
   "outputs": [
    {
     "data": {
      "text/plain": [
       "[('아름답', 'VA'),\n",
       " ('지만', 'ECE'),\n",
       " ('다소', 'MAG'),\n",
       " ('복잡', 'NNG'),\n",
       " ('하', 'XSV'),\n",
       " ('기', 'ETN'),\n",
       " ('도', 'JX'),\n",
       " ('한', 'MDN'),\n",
       " ('한국어', 'NNG'),\n",
       " ('는', 'JX'),\n",
       " ('전세계', 'NNG'),\n",
       " ('에서', 'JKM'),\n",
       " ('13', 'NR'),\n",
       " ('번째', 'NNB'),\n",
       " ('로', 'JKM'),\n",
       " ('많이', 'MAG'),\n",
       " ('사용', 'NNG'),\n",
       " ('되', 'XSV'),\n",
       " ('는', 'ETD'),\n",
       " ('언어', 'NNG'),\n",
       " ('이', 'VCP'),\n",
       " ('ㅂ니다', 'EFN'),\n",
       " ('.', 'SF'),\n",
       " ('KoNLPy', 'OL'),\n",
       " ('는', 'JX'),\n",
       " ('파이', 'NNG'),\n",
       " ('썰', 'VV'),\n",
       " ('ㄴ', 'ETD'),\n",
       " ('프로그래밍', 'NNG'),\n",
       " ('언어', 'NNG'),\n",
       " ('로', 'JKM'),\n",
       " ('사용', 'NNG'),\n",
       " ('하', 'XSV'),\n",
       " ('ㄹ', 'ETD'),\n",
       " ('수', 'NNB'),\n",
       " ('있', 'VV'),\n",
       " ('도록', 'ECD'),\n",
       " ('만들', 'VV'),\n",
       " ('어', 'ECD'),\n",
       " ('지', 'VXV'),\n",
       " ('었', 'EPT'),\n",
       " ('는데', 'ECD'),\n",
       " (',', 'SP'),\n",
       " ('그것', 'NP'),\n",
       " ('은', 'JX'),\n",
       " ('파이', 'NNG'),\n",
       " ('썰', 'VV'),\n",
       " ('ㄴ', 'ETD'),\n",
       " ('이', 'MDT'),\n",
       " ('간결', 'NNG'),\n",
       " ('하', 'XSV'),\n",
       " ('고', 'ECE'),\n",
       " ('우아', 'XR'),\n",
       " ('하', 'XSA'),\n",
       " ('ㄴ', 'ETD'),\n",
       " ('문법', 'NNG'),\n",
       " ('구조', 'NNG'),\n",
       " (',', 'SP'),\n",
       " ('강력', 'XR'),\n",
       " ('하', 'XSA'),\n",
       " ('ㄴ', 'ETD'),\n",
       " ('스트링', 'NNG'),\n",
       " ('연산', 'NNG'),\n",
       " ('기능', 'NNG'),\n",
       " ('을', 'JKO'),\n",
       " ('가지', 'VV'),\n",
       " ('고', 'ECE'),\n",
       " ('있', 'VXV'),\n",
       " ('을', 'ETD'),\n",
       " ('뿐', 'NNB'),\n",
       " ('아니', 'VCN'),\n",
       " ('라', 'ECD'),\n",
       " ('크롤링', 'NNG'),\n",
       " (',', 'SP'),\n",
       " ('웹', 'NNG'),\n",
       " ('프로그래밍', 'NNG'),\n",
       " (',', 'SP'),\n",
       " ('그리고', 'MAC'),\n",
       " ('데이터', 'NNG'),\n",
       " ('분석', 'NNG'),\n",
       " ('을', 'JKO'),\n",
       " ('수행', 'NNG'),\n",
       " ('하', 'XSV'),\n",
       " ('ㄹ', 'ETD'),\n",
       " ('수', 'NNB'),\n",
       " ('있', 'VV'),\n",
       " ('는', 'ETD'),\n",
       " ('다양', 'NNG'),\n",
       " ('하', 'XSV'),\n",
       " ('ㄴ', 'ETD'),\n",
       " ('패키지', 'NNG'),\n",
       " ('를', 'JKO'),\n",
       " ('사용', 'NNG'),\n",
       " ('하', 'XSV'),\n",
       " ('ㄹ', 'ETD'),\n",
       " ('수', 'NNB'),\n",
       " ('있', 'VV'),\n",
       " ('는', 'ETD'),\n",
       " ('언어', 'NNG'),\n",
       " ('이', 'VCP'),\n",
       " ('기', 'ETN'),\n",
       " ('때문', 'NNB'),\n",
       " ('이', 'VCP'),\n",
       " ('ㅂ니다', 'EFN'),\n",
       " ('.', 'SF')]"
      ]
     },
     "execution_count": 11,
     "metadata": {},
     "output_type": "execute_result"
    }
   ],
   "source": [
    "kkma.pos(selected_text)"
   ]
  },
  {
   "cell_type": "code",
   "execution_count": 12,
   "metadata": {},
   "outputs": [
    {
     "data": {
      "text/plain": [
       "{'EC': '연결 어미',\n",
       " 'ECD': '의존적 연결 어미',\n",
       " 'ECE': '대등 연결 어미',\n",
       " 'ECS': '보조적 연결 어미',\n",
       " 'EF': '종결 어미',\n",
       " 'EFA': '청유형 종결 어미',\n",
       " 'EFI': '감탄형 종결 어미',\n",
       " 'EFN': '평서형 종결 어미',\n",
       " 'EFO': '명령형 종결 어미',\n",
       " 'EFQ': '의문형 종결 어미',\n",
       " 'EFR': '존칭형 종결 어미',\n",
       " 'EP': '선어말 어미',\n",
       " 'EPH': '존칭 선어말 어미',\n",
       " 'EPP': '공손 선어말 어미',\n",
       " 'EPT': '시제 선어말 어미',\n",
       " 'ET': '전성 어미',\n",
       " 'ETD': '관형형 전성 어미',\n",
       " 'ETN': '명사형 전성 어미',\n",
       " 'IC': '감탄사',\n",
       " 'JC': '접속 조사',\n",
       " 'JK': '조사',\n",
       " 'JKC': '보격 조사',\n",
       " 'JKG': '관형격 조사',\n",
       " 'JKI': '호격 조사',\n",
       " 'JKM': '부사격 조사',\n",
       " 'JKO': '목적격 조사',\n",
       " 'JKQ': '인용격 조사',\n",
       " 'JKS': '주격 조사',\n",
       " 'JX': '보조사',\n",
       " 'MA': '부사',\n",
       " 'MAC': '접속 부사',\n",
       " 'MAG': '일반 부사',\n",
       " 'MD': '관형사',\n",
       " 'MDN': '수 관형사',\n",
       " 'MDT': '일반 관형사',\n",
       " 'NN': '명사',\n",
       " 'NNB': '일반 의존 명사',\n",
       " 'NNG': '보통명사',\n",
       " 'NNM': '단위 의존 명사',\n",
       " 'NNP': '고유명사',\n",
       " 'NP': '대명사',\n",
       " 'NR': '수사',\n",
       " 'OH': '한자',\n",
       " 'OL': '외국어',\n",
       " 'ON': '숫자',\n",
       " 'SE': '줄임표',\n",
       " 'SF': '마침표, 물음표, 느낌표',\n",
       " 'SO': '붙임표(물결,숨김,빠짐)',\n",
       " 'SP': '쉼표,가운뎃점,콜론,빗금',\n",
       " 'SS': '따옴표,괄호표,줄표',\n",
       " 'SW': '기타기호 (논리수학기호,화폐기호)',\n",
       " 'UN': '명사추정범주',\n",
       " 'VA': '형용사',\n",
       " 'VC': '지정사',\n",
       " 'VCN': \"부정 지정사, 형용사 '아니다'\",\n",
       " 'VCP': \"긍정 지정사, 서술격 조사 '이다'\",\n",
       " 'VV': '동사',\n",
       " 'VX': '보조 용언',\n",
       " 'VXA': '보조 형용사',\n",
       " 'VXV': '보조 동사',\n",
       " 'XP': '접두사',\n",
       " 'XPN': '체언 접두사',\n",
       " 'XPV': '용언 접두사',\n",
       " 'XR': '어근',\n",
       " 'XSA': '형용사 파생 접미사',\n",
       " 'XSN': '명사파생 접미사',\n",
       " 'XSV': '동사 파생 접미사'}"
      ]
     },
     "execution_count": 12,
     "metadata": {},
     "output_type": "execute_result"
    }
   ],
   "source": [
    "kkma.tagset"
   ]
  },
  {
   "cell_type": "markdown",
   "metadata": {
    "collapsed": true
   },
   "source": [
    "### <font color='#CC0000'> KoNLPy - Hnananum </font>"
   ]
  },
  {
   "cell_type": "code",
   "execution_count": 13,
   "metadata": {},
   "outputs": [],
   "source": [
    "from konlpy.tag import Hannanum"
   ]
  },
  {
   "cell_type": "code",
   "execution_count": 14,
   "metadata": {},
   "outputs": [
    {
     "name": "stdout",
     "output_type": "stream",
     "text": [
      "\n",
      "아름답지만 다소 복잡하기도한 한국어는 전세계에서 13번째로 많이 사용되는 언어입니다.\n",
      "KoNLPy는 파이썬 프로그래밍 언어로 사용할 수 있도록 만들어졌는데, \n",
      "그것은 파이썬이 간결하고 우아한 문법구조, 강력한 스트링 연산 기능을 가지고 있을 뿐 아니라 \n",
      "크롤링, 웹프로그래밍, 그리고 데이터 분석을 수행할 수 있는 다양한 패키지를 사용할 수 있는 언어이기 때문입니다.\n",
      "\n"
     ]
    }
   ],
   "source": [
    "hannanum = Hannanum()\n",
    "\n",
    "# selected_text = cool_sentences[0]\n",
    "print(selected_text)"
   ]
  },
  {
   "cell_type": "code",
   "execution_count": 15,
   "metadata": {},
   "outputs": [
    {
     "data": {
      "text/plain": [
       "['복잡하기도한',\n",
       " '한국어',\n",
       " '전세계',\n",
       " '13번',\n",
       " '사용',\n",
       " '언어',\n",
       " '파이썬',\n",
       " '프로그래밍',\n",
       " '언어',\n",
       " '사용',\n",
       " '수',\n",
       " '그것',\n",
       " '파이썬',\n",
       " '간결',\n",
       " '우아한',\n",
       " '문법구조',\n",
       " '강력한',\n",
       " '스트링',\n",
       " '연산',\n",
       " '기능',\n",
       " '뿐',\n",
       " '크롤링',\n",
       " '웹프로그래밍,',\n",
       " '데이터',\n",
       " '분석',\n",
       " '수행',\n",
       " '수',\n",
       " '다양한',\n",
       " '패키지',\n",
       " '사용',\n",
       " '수',\n",
       " '언어',\n",
       " '때문']"
      ]
     },
     "execution_count": 15,
     "metadata": {},
     "output_type": "execute_result"
    }
   ],
   "source": [
    "hannanum.nouns(selected_text)"
   ]
  },
  {
   "cell_type": "code",
   "execution_count": 16,
   "metadata": {},
   "outputs": [
    {
     "data": {
      "text/plain": [
       "['아름답',\n",
       " '지만',\n",
       " '다소',\n",
       " '복잡하기도한',\n",
       " '한국어',\n",
       " '는',\n",
       " '전세계',\n",
       " '에서',\n",
       " '13번',\n",
       " '째',\n",
       " '로',\n",
       " '많',\n",
       " '이',\n",
       " '사용',\n",
       " '되',\n",
       " '는',\n",
       " '언어',\n",
       " '이',\n",
       " 'ㅂ니다',\n",
       " '.',\n",
       " 'KoNLPy',\n",
       " '는',\n",
       " '파이썬',\n",
       " '프로그래밍',\n",
       " '언어',\n",
       " '로',\n",
       " '사용',\n",
       " '하',\n",
       " 'ㄹ',\n",
       " '수',\n",
       " '있',\n",
       " '도록',\n",
       " '만들',\n",
       " '어',\n",
       " '지',\n",
       " '었는데',\n",
       " ',',\n",
       " '그것',\n",
       " '은',\n",
       " '파이썬',\n",
       " '이',\n",
       " '간결',\n",
       " '하고',\n",
       " '우아한',\n",
       " '문법구조',\n",
       " ',',\n",
       " '강력한',\n",
       " '스트링',\n",
       " '연산',\n",
       " '기능',\n",
       " '을',\n",
       " '가',\n",
       " '아',\n",
       " '지',\n",
       " '고',\n",
       " '있',\n",
       " '을',\n",
       " '뿐',\n",
       " '아니',\n",
       " '라',\n",
       " '크롤링',\n",
       " ',',\n",
       " '웹프로그래밍,',\n",
       " '그리고',\n",
       " '데이터',\n",
       " '분석',\n",
       " '을',\n",
       " '수행',\n",
       " '하',\n",
       " 'ㄹ',\n",
       " '수',\n",
       " '있',\n",
       " '는',\n",
       " '다양한',\n",
       " '패키지',\n",
       " '를',\n",
       " '사용',\n",
       " '하',\n",
       " 'ㄹ',\n",
       " '수',\n",
       " '있',\n",
       " '는',\n",
       " '언어',\n",
       " '이',\n",
       " '기',\n",
       " '때문',\n",
       " '이',\n",
       " 'ㅂ니다',\n",
       " '.']"
      ]
     },
     "execution_count": 16,
     "metadata": {},
     "output_type": "execute_result"
    }
   ],
   "source": [
    "hannanum.morphs(selected_text)"
   ]
  },
  {
   "cell_type": "raw",
   "metadata": {},
   "source": [
    "<!--\n",
    "# 구문 분석기\n",
    "Signature: hannanum.analyze(phrase)\n",
    "Docstring:\n",
    "Phrase analyzer.\n",
    "\n",
    "This analyzer returns various morphological candidates for each token.\n",
    "It consists of two parts: \n",
    " 1) Dictionary search (chart),\n",
    " 2) Unclassified term segmentation.\n",
    "-->"
   ]
  },
  {
   "cell_type": "code",
   "execution_count": 17,
   "metadata": {},
   "outputs": [
    {
     "data": {
      "text/plain": [
       "[[[('아름답', 'paa'), ('지만', 'ecs')],\n",
       "  [('아름답', 'paa'), ('지', 'ecs'), ('만', 'jxc')],\n",
       "  [('아름답', 'paa'), ('지', 'ecx'), ('말', 'px'), ('ㄴ', 'etm')]],\n",
       " [[('다소', 'mag')], [('다소', 'ncn')]],\n",
       " [[('복잡하기도한', 'ncn')], [('복잡하기도한', 'nqq')]],\n",
       " [[('한국어', 'ncn'), ('는', 'jxc')]],\n",
       " [[('전세계', 'ncn'), ('에서', 'jca')],\n",
       "  [('전세', 'ncn'), ('계', 'ncn'), ('에서', 'jca')],\n",
       "  [('전', 'xp'), ('세계', 'ncn'), ('에서', 'jca')]],\n",
       " [[('13', 'nnc'), ('번', 'nbu'), ('째', 'xsnu'), ('로', 'jca')]],\n",
       " [[('많', 'paa'), ('이', 'xsa')], [('많이', 'mag')]],\n",
       " [[('사용', 'ncpa'), ('되', 'xsvn'), ('는', 'etm')]],\n",
       " [[('언어', 'ncn'), ('이', 'jp'), ('ㅂ니다', 'ef')]],\n",
       " [[('.', 'sf')], [('.', 'sy')]],\n",
       " [],\n",
       " [[('KoNLPy', 'f'), ('는', 'jxc')]],\n",
       " [[('파이썬', 'ncn')], [('파이썬', 'nqq')]],\n",
       " [[('프로그래밍', 'ncn')]],\n",
       " [[('언어', 'ncn'), ('로', 'jca')]],\n",
       " [[('사용', 'ncpa'), ('하', 'xsva'), ('ㄹ', 'etm')]],\n",
       " [[('수', 'nbn')], [('수', 'nbu')], [('수', 'ncn')]],\n",
       " [[('있', 'paa'), ('도록', 'ecs')], [('있', 'px'), ('도록', 'ecs')]],\n",
       " [[('만들', 'pvg'),\n",
       "   ('어', 'ecx'),\n",
       "   ('지', 'px'),\n",
       "   ('었', 'ep'),\n",
       "   ('는데', 'ecs'),\n",
       "   (',', 'sp')],\n",
       "  [('만들', 'pvg'),\n",
       "   ('어', 'ecx'),\n",
       "   ('지', 'px'),\n",
       "   ('었', 'ep'),\n",
       "   ('는데', 'ef'),\n",
       "   (',', 'sp')],\n",
       "  [('만들', 'pvg'),\n",
       "   ('어', 'ecx'),\n",
       "   ('지', 'px'),\n",
       "   ('었', 'ep'),\n",
       "   ('는', 'etm'),\n",
       "   ('데', 'nbn'),\n",
       "   (',', 'sp')],\n",
       "  [('만들', 'px'),\n",
       "   ('어', 'ecx'),\n",
       "   ('지', 'px'),\n",
       "   ('었', 'ep'),\n",
       "   ('는데', 'ecs'),\n",
       "   (',', 'sp')],\n",
       "  [('만들', 'px'),\n",
       "   ('어', 'ecx'),\n",
       "   ('지', 'px'),\n",
       "   ('었', 'ep'),\n",
       "   ('는데', 'ef'),\n",
       "   (',', 'sp')],\n",
       "  [('만들', 'px'),\n",
       "   ('어', 'ecx'),\n",
       "   ('지', 'px'),\n",
       "   ('었', 'ep'),\n",
       "   ('는', 'etm'),\n",
       "   ('데', 'nbn'),\n",
       "   (',', 'sp')],\n",
       "  [('만들어지', 'pvg'), ('었', 'ep'), ('는데', 'ecs'), (',', 'sp')],\n",
       "  [('만들어지', 'pvg'), ('었', 'ep'), ('는데', 'ef'), (',', 'sp')],\n",
       "  [('만들어지', 'pvg'), ('었', 'ep'), ('는', 'etm'), ('데', 'nbn'), (',', 'sp')]],\n",
       " [],\n",
       " [[('그것', 'npd'), ('은', 'jxc')]],\n",
       " [[('파이썬', 'ncn'), ('이', 'jcc')],\n",
       "  [('파이썬', 'ncn'), ('이', 'jcs')],\n",
       "  [('파이썬이', 'ncn')],\n",
       "  [('파이썬', 'nqq'), ('이', 'jcc')],\n",
       "  [('파이썬', 'nqq'), ('이', 'jcs')],\n",
       "  [('파이썬이', 'nqq')]],\n",
       " [[('간결', 'ncn'), ('하고', 'jcj')],\n",
       "  [('간결', 'ncn'), ('하고', 'jct')],\n",
       "  [('간결', 'ncps'), ('하고', 'jcj')],\n",
       "  [('간결', 'ncps'), ('하고', 'jct')],\n",
       "  [('간결', 'ncps'), ('하', 'xsms'), ('고', 'ecc')],\n",
       "  [('간결', 'ncps'), ('하', 'xsms'), ('고', 'ecs')],\n",
       "  [('간결', 'ncps'), ('하', 'xsms'), ('고', 'ecx')],\n",
       "  [('간결', 'ncps'), ('하', 'xsms'), ('어', 'ef'), ('고', 'jcr')]],\n",
       " [[('우아', 'ncn'), ('한', 'ncn')],\n",
       "  [('우아', 'ncps'), ('한', 'ncn')],\n",
       "  [('우아', 'ncps'), ('하', 'xsms'), ('ㄴ', 'etm')]],\n",
       " [[('문법', 'ncn'), ('구조', 'ncpa'), (',', 'sp')]],\n",
       " [[('강력', 'ncn'), ('한', 'ncn')],\n",
       "  [('강력', 'ncps'), ('한', 'ncn')],\n",
       "  [('강력', 'ncps'), ('하', 'xsms'), ('ㄴ', 'etm')]],\n",
       " [[('스트링', 'ncn')]],\n",
       " [[('연산', 'ncn')], [('연산', 'ncpa')]],\n",
       " [[('기능', 'ncn'), ('을', 'jco')]],\n",
       " [[('가지', 'pvg'), ('고', 'ecc')],\n",
       "  [('가지', 'pvg'), ('고', 'ecx')],\n",
       "  [('가지', 'pvg'), ('고', 'ecs')],\n",
       "  [('가', 'pvg'), ('아', 'ecx'), ('지', 'px'), ('고', 'ecs')],\n",
       "  [('가', 'pvg'), ('아', 'ecx'), ('지', 'px'), ('고', 'ecc')],\n",
       "  [('가', 'pvg'), ('아', 'ecx'), ('지', 'px'), ('고', 'ecx')]],\n",
       " [[('있', 'paa'), ('을', 'etm')], [('있', 'px'), ('을', 'etm')]],\n",
       " [[('뿐', 'nbn')]],\n",
       " [[('아니', 'paa'), ('라', 'ecs')], [('아니', 'paa'), ('라', 'ef')]],\n",
       " [],\n",
       " [[('크롤', 'ncn'), ('링', 'ncn'), (',', 'sp')]],\n",
       " [[('웹프로그래밍', 'ncn'), (',', 'sp')],\n",
       "  [('웹프로그래밍,', 'ncn')],\n",
       "  [('웹프로그래밍', 'nqq'), (',', 'sp')],\n",
       "  [('웹프로그래밍,', 'nqq')]],\n",
       " [[('그리', 'pvg'), ('고', 'ecs')],\n",
       "  [('그리', 'pvg'), ('고', 'ecc')],\n",
       "  [('그리', 'pvg'), ('고', 'ecx')],\n",
       "  [('그리고', 'maj')]],\n",
       " [[('데이터', 'ncn')], [('데이', 'ncn'), ('터', 'ncn')]],\n",
       " [[('분석', 'ncpa'), ('을', 'jco')]],\n",
       " [[('수행', 'ncpa'), ('하', 'xsva'), ('ㄹ', 'etm')]],\n",
       " [[('수', 'nbn')], [('수', 'nbu')], [('수', 'ncn')]],\n",
       " [[('있', 'paa'), ('는', 'etm')], [('있', 'px'), ('는', 'etm')]],\n",
       " [[('다양', 'ncn'), ('한', 'ncn')],\n",
       "  [('다양', 'ncpa'), ('한', 'ncn')],\n",
       "  [('다양', 'ncpa'), ('하', 'xsva'), ('ㄴ', 'etm')],\n",
       "  [('다양', 'ncps'), ('한', 'ncn')],\n",
       "  [('다양', 'ncps'), ('하', 'xsms'), ('ㄴ', 'etm')]],\n",
       " [[('패키지', 'ncn'), ('를', 'jco')]],\n",
       " [[('사용', 'ncpa'), ('하', 'xsva'), ('ㄹ', 'etm')]],\n",
       " [[('수', 'nbn')], [('수', 'nbu')], [('수', 'ncn')]],\n",
       " [[('있', 'paa'), ('는', 'etm')], [('있', 'px'), ('는', 'etm')]],\n",
       " [[('언어', 'ncn'), ('이기', 'ncn')],\n",
       "  [('언어', 'ncn'), ('이', 'jp'), ('기', 'etn')],\n",
       "  [('언어', 'ncn'), ('이', 'ncn'), ('이', 'jp'), ('기', 'etn')]],\n",
       " [[('때문', 'nbn'), ('이', 'jp'), ('ㅂ니다', 'ef')]],\n",
       " [[('.', 'sf')], [('.', 'sy')]]]"
      ]
     },
     "execution_count": 17,
     "metadata": {},
     "output_type": "execute_result"
    }
   ],
   "source": [
    "hannanum.analyze(selected_text)"
   ]
  },
  {
   "cell_type": "code",
   "execution_count": 18,
   "metadata": {},
   "outputs": [
    {
     "data": {
      "text/plain": [
       "[('아름답', 'P'),\n",
       " ('지만', 'E'),\n",
       " ('다소', 'M'),\n",
       " ('복잡하기도한', 'N'),\n",
       " ('한국어', 'N'),\n",
       " ('는', 'J'),\n",
       " ('전세계', 'N'),\n",
       " ('에서', 'J'),\n",
       " ('13번', 'N'),\n",
       " ('째', 'X'),\n",
       " ('로', 'J'),\n",
       " ('많', 'P'),\n",
       " ('이', 'X'),\n",
       " ('사용', 'N'),\n",
       " ('되', 'X'),\n",
       " ('는', 'E'),\n",
       " ('언어', 'N'),\n",
       " ('이', 'J'),\n",
       " ('ㅂ니다', 'E'),\n",
       " ('.', 'S'),\n",
       " ('KoNLPy', 'F'),\n",
       " ('는', 'J'),\n",
       " ('파이썬', 'N'),\n",
       " ('프로그래밍', 'N'),\n",
       " ('언어', 'N'),\n",
       " ('로', 'J'),\n",
       " ('사용', 'N'),\n",
       " ('하', 'X'),\n",
       " ('ㄹ', 'E'),\n",
       " ('수', 'N'),\n",
       " ('있', 'P'),\n",
       " ('도록', 'E'),\n",
       " ('만들', 'P'),\n",
       " ('어', 'E'),\n",
       " ('지', 'P'),\n",
       " ('었는데', 'E'),\n",
       " (',', 'S'),\n",
       " ('그것', 'N'),\n",
       " ('은', 'J'),\n",
       " ('파이썬', 'N'),\n",
       " ('이', 'J'),\n",
       " ('간결', 'N'),\n",
       " ('하고', 'J'),\n",
       " ('우아한', 'N'),\n",
       " ('문법구조', 'N'),\n",
       " (',', 'S'),\n",
       " ('강력한', 'N'),\n",
       " ('스트링', 'N'),\n",
       " ('연산', 'N'),\n",
       " ('기능', 'N'),\n",
       " ('을', 'J'),\n",
       " ('가', 'P'),\n",
       " ('아', 'E'),\n",
       " ('지', 'P'),\n",
       " ('고', 'E'),\n",
       " ('있', 'P'),\n",
       " ('을', 'E'),\n",
       " ('뿐', 'N'),\n",
       " ('아니', 'P'),\n",
       " ('라', 'E'),\n",
       " ('크롤링', 'N'),\n",
       " (',', 'S'),\n",
       " ('웹프로그래밍,', 'N'),\n",
       " ('그리고', 'M'),\n",
       " ('데이터', 'N'),\n",
       " ('분석', 'N'),\n",
       " ('을', 'J'),\n",
       " ('수행', 'N'),\n",
       " ('하', 'X'),\n",
       " ('ㄹ', 'E'),\n",
       " ('수', 'N'),\n",
       " ('있', 'P'),\n",
       " ('는', 'E'),\n",
       " ('다양한', 'N'),\n",
       " ('패키지', 'N'),\n",
       " ('를', 'J'),\n",
       " ('사용', 'N'),\n",
       " ('하', 'X'),\n",
       " ('ㄹ', 'E'),\n",
       " ('수', 'N'),\n",
       " ('있', 'P'),\n",
       " ('는', 'E'),\n",
       " ('언어', 'N'),\n",
       " ('이', 'J'),\n",
       " ('기', 'E'),\n",
       " ('때문', 'N'),\n",
       " ('이', 'J'),\n",
       " ('ㅂ니다', 'E'),\n",
       " ('.', 'S')]"
      ]
     },
     "execution_count": 18,
     "metadata": {},
     "output_type": "execute_result"
    }
   ],
   "source": [
    "hannanum.pos(selected_text)"
   ]
  },
  {
   "cell_type": "code",
   "execution_count": 19,
   "metadata": {},
   "outputs": [
    {
     "data": {
      "text/plain": [
       "{'E': '어미',\n",
       " 'EC': '연결 어미',\n",
       " 'EF': '종결 어미',\n",
       " 'EP': '선어말어미',\n",
       " 'ET': '전성 어미',\n",
       " 'F': '외국어',\n",
       " 'I': '독립언',\n",
       " 'II': '감탄사',\n",
       " 'J': '관계언',\n",
       " 'JC': '격조사',\n",
       " 'JP': '서술격 조사',\n",
       " 'JX': '보조사',\n",
       " 'M': '수식언',\n",
       " 'MA': '부사',\n",
       " 'MM': '관형사',\n",
       " 'N': '체언',\n",
       " 'NB': '의존명사',\n",
       " 'NC': '보통명사',\n",
       " 'NN': '수사',\n",
       " 'NP': '대명사',\n",
       " 'NQ': '고유명사',\n",
       " 'P': '용언',\n",
       " 'PA': '형용사',\n",
       " 'PV': '동사',\n",
       " 'PX': '보조 용언',\n",
       " 'S': '기호',\n",
       " 'X': '접사',\n",
       " 'XP': '접두사',\n",
       " 'XS': '접미사'}"
      ]
     },
     "execution_count": 19,
     "metadata": {},
     "output_type": "execute_result"
    }
   ],
   "source": [
    "hannanum.tagset"
   ]
  },
  {
   "cell_type": "markdown",
   "metadata": {
    "collapsed": true
   },
   "source": [
    "### <font color='#CC0000'> KoNLPy - <font color='#AA7777'>Twitter (x) </font> → Okt (o)</font>\n",
    "> \"Twitter\" has changed to \"Okt\" since KoNLPy v0.4.5."
   ]
  },
  {
   "cell_type": "code",
   "execution_count": 20,
   "metadata": {},
   "outputs": [],
   "source": [
    "from konlpy.tag import Twitter"
   ]
  },
  {
   "cell_type": "code",
   "execution_count": 21,
   "metadata": {},
   "outputs": [
    {
     "name": "stderr",
     "output_type": "stream",
     "text": [
      "C:\\Python\\anaconda3\\lib\\site-packages\\konlpy\\tag\\_okt.py:17: UserWarning: \"Twitter\" has changed to \"Okt\" since KoNLPy v0.4.5.\n",
      "  warn('\"Twitter\" has changed to \"Okt\" since KoNLPy v0.4.5.')\n"
     ]
    }
   ],
   "source": [
    "t = Twitter()"
   ]
  },
  {
   "cell_type": "raw",
   "metadata": {},
   "source": [
    "<!--\n",
    "[Warning]\n",
    "C:\\Python\\Anaconda3\\lib\\site-packages\\konlpy\\tag\\_okt.py:16: UserWarning: \"Twitter\" has changed to \"Okt\" since KoNLPy v0.4.5.\n",
    "  warn('\"Twitter\" has changed to \"Okt\" since KoNLPy v0.4.5.')\n",
    "-->"
   ]
  },
  {
   "cell_type": "code",
   "execution_count": 22,
   "metadata": {},
   "outputs": [
    {
     "name": "stdout",
     "output_type": "stream",
     "text": [
      "\n",
      "아름답지만 다소 복잡하기도한 한국어는 전세계에서 13번째로 많이 사용되는 언어입니다.\n",
      "KoNLPy는 파이썬 프로그래밍 언어로 사용할 수 있도록 만들어졌는데, \n",
      "그것은 파이썬이 간결하고 우아한 문법구조, 강력한 스트링 연산 기능을 가지고 있을 뿐 아니라 \n",
      "크롤링, 웹프로그래밍, 그리고 데이터 분석을 수행할 수 있는 다양한 패키지를 사용할 수 있는 언어이기 때문입니다.\n",
      "\n"
     ]
    }
   ],
   "source": [
    "# selected_text = cool_sentences[0]\n",
    "print(selected_text)"
   ]
  },
  {
   "cell_type": "code",
   "execution_count": 23,
   "metadata": {},
   "outputs": [
    {
     "data": {
      "text/plain": [
       "['다소',\n",
       " '기도',\n",
       " '한국어',\n",
       " '전세계',\n",
       " '번',\n",
       " '사용',\n",
       " '언어',\n",
       " '파이썬',\n",
       " '프로그래밍',\n",
       " '언어',\n",
       " '사용',\n",
       " '수',\n",
       " '그것',\n",
       " '파이썬',\n",
       " '문법',\n",
       " '구조',\n",
       " '스트링',\n",
       " '연산',\n",
       " '기능',\n",
       " '가지',\n",
       " '뿐',\n",
       " '크롤',\n",
       " '링',\n",
       " '웹',\n",
       " '프로그래밍',\n",
       " '데이터',\n",
       " '분석',\n",
       " '수행',\n",
       " '수',\n",
       " '패키지',\n",
       " '사용',\n",
       " '수',\n",
       " '언어',\n",
       " '이기',\n",
       " '때문']"
      ]
     },
     "execution_count": 23,
     "metadata": {},
     "output_type": "execute_result"
    }
   ],
   "source": [
    "t.nouns(selected_text)"
   ]
  },
  {
   "cell_type": "code",
   "execution_count": 24,
   "metadata": {},
   "outputs": [
    {
     "data": {
      "text/plain": [
       "['다소',\n",
       " '기도',\n",
       " '한국어',\n",
       " '전세계',\n",
       " '13번째',\n",
       " '사용',\n",
       " '사용되는 언어',\n",
       " 'KoNLPy',\n",
       " 'KoNLPy는 파이썬',\n",
       " 'KoNLPy는 파이썬 프로그래밍',\n",
       " 'KoNLPy는 파이썬 프로그래밍 언어',\n",
       " '사용할 수',\n",
       " '그것',\n",
       " '파이썬',\n",
       " '우아한 문법구조',\n",
       " '강력한 스트링',\n",
       " '강력한 스트링 연산',\n",
       " '강력한 스트링 연산 기능',\n",
       " '가지',\n",
       " '있을 뿐',\n",
       " '크롤링',\n",
       " '웹프로그래밍',\n",
       " '데이터',\n",
       " '데이터 분석',\n",
       " '수행',\n",
       " '수행할 수',\n",
       " '수행할 수 있는 다양한 패키지',\n",
       " '사용할 수 있는 언어이기',\n",
       " '사용할 수 있는 언어이기 때문',\n",
       " '13',\n",
       " '번째',\n",
       " '언어',\n",
       " '프로그래밍',\n",
       " '문법',\n",
       " '구조',\n",
       " '스트링',\n",
       " '연산',\n",
       " '기능',\n",
       " '크롤',\n",
       " '분석',\n",
       " '패키지',\n",
       " '이기',\n",
       " '때문']"
      ]
     },
     "execution_count": 24,
     "metadata": {},
     "output_type": "execute_result"
    }
   ],
   "source": [
    "t.phrases(selected_text)"
   ]
  },
  {
   "cell_type": "code",
   "execution_count": 25,
   "metadata": {},
   "outputs": [
    {
     "data": {
      "text/plain": [
       "['\\n',\n",
       " '아름답지만',\n",
       " '다소',\n",
       " '복잡하',\n",
       " '기도',\n",
       " '한',\n",
       " '한국어',\n",
       " '는',\n",
       " '전세계',\n",
       " '에서',\n",
       " '13',\n",
       " '번',\n",
       " '째',\n",
       " '로',\n",
       " '많이',\n",
       " '사용',\n",
       " '되는',\n",
       " '언어',\n",
       " '입니다',\n",
       " '.',\n",
       " '\\n',\n",
       " 'KoNLPy',\n",
       " '는',\n",
       " '파이썬',\n",
       " '프로그래밍',\n",
       " '언어',\n",
       " '로',\n",
       " '사용',\n",
       " '할',\n",
       " '수',\n",
       " '있도록',\n",
       " '만들어졌는데',\n",
       " ',',\n",
       " '그것',\n",
       " '은',\n",
       " '파이썬',\n",
       " '이',\n",
       " '간결하고',\n",
       " '우아한',\n",
       " '문법',\n",
       " '구조',\n",
       " ',',\n",
       " '강력한',\n",
       " '스트링',\n",
       " '연산',\n",
       " '기능',\n",
       " '을',\n",
       " '가지',\n",
       " '고',\n",
       " '있을',\n",
       " '뿐',\n",
       " '아니라',\n",
       " '크롤',\n",
       " '링',\n",
       " ',',\n",
       " '웹',\n",
       " '프로그래밍',\n",
       " ',',\n",
       " '그리고',\n",
       " '데이터',\n",
       " '분석',\n",
       " '을',\n",
       " '수행',\n",
       " '할',\n",
       " '수',\n",
       " '있는',\n",
       " '다양한',\n",
       " '패키지',\n",
       " '를',\n",
       " '사용',\n",
       " '할',\n",
       " '수',\n",
       " '있는',\n",
       " '언어',\n",
       " '이기',\n",
       " '때문',\n",
       " '입니다',\n",
       " '.',\n",
       " '\\n']"
      ]
     },
     "execution_count": 25,
     "metadata": {},
     "output_type": "execute_result"
    }
   ],
   "source": [
    "t.morphs(selected_text)"
   ]
  },
  {
   "cell_type": "code",
   "execution_count": 26,
   "metadata": {},
   "outputs": [
    {
     "data": {
      "text/plain": [
       "[('\\n', 'Foreign'),\n",
       " ('아름답지만', 'Adjective'),\n",
       " ('다소', 'Noun'),\n",
       " ('복잡하', 'Adjective'),\n",
       " ('기도', 'Noun'),\n",
       " ('한', 'Josa'),\n",
       " ('한국어', 'Noun'),\n",
       " ('는', 'Josa'),\n",
       " ('전세계', 'Noun'),\n",
       " ('에서', 'Josa'),\n",
       " ('13', 'Number'),\n",
       " ('번', 'Noun'),\n",
       " ('째', 'Suffix'),\n",
       " ('로', 'Josa'),\n",
       " ('많이', 'Adverb'),\n",
       " ('사용', 'Noun'),\n",
       " ('되는', 'Verb'),\n",
       " ('언어', 'Noun'),\n",
       " ('입니다', 'Adjective'),\n",
       " ('.', 'Punctuation'),\n",
       " ('\\n', 'Foreign'),\n",
       " ('KoNLPy', 'Alpha'),\n",
       " ('는', 'Verb'),\n",
       " ('파이썬', 'Noun'),\n",
       " ('프로그래밍', 'Noun'),\n",
       " ('언어', 'Noun'),\n",
       " ('로', 'Josa'),\n",
       " ('사용', 'Noun'),\n",
       " ('할', 'Verb'),\n",
       " ('수', 'Noun'),\n",
       " ('있도록', 'Adjective'),\n",
       " ('만들어졌는데', 'Verb'),\n",
       " (',', 'Punctuation'),\n",
       " ('그것', 'Noun'),\n",
       " ('은', 'Josa'),\n",
       " ('파이썬', 'Noun'),\n",
       " ('이', 'Josa'),\n",
       " ('간결하고', 'Adjective'),\n",
       " ('우아한', 'Adjective'),\n",
       " ('문법', 'Noun'),\n",
       " ('구조', 'Noun'),\n",
       " (',', 'Punctuation'),\n",
       " ('강력한', 'Adjective'),\n",
       " ('스트링', 'Noun'),\n",
       " ('연산', 'Noun'),\n",
       " ('기능', 'Noun'),\n",
       " ('을', 'Josa'),\n",
       " ('가지', 'Noun'),\n",
       " ('고', 'Josa'),\n",
       " ('있을', 'Adjective'),\n",
       " ('뿐', 'Noun'),\n",
       " ('아니라', 'Adjective'),\n",
       " ('크롤', 'Noun'),\n",
       " ('링', 'Noun'),\n",
       " (',', 'Punctuation'),\n",
       " ('웹', 'Noun'),\n",
       " ('프로그래밍', 'Noun'),\n",
       " (',', 'Punctuation'),\n",
       " ('그리고', 'Conjunction'),\n",
       " ('데이터', 'Noun'),\n",
       " ('분석', 'Noun'),\n",
       " ('을', 'Josa'),\n",
       " ('수행', 'Noun'),\n",
       " ('할', 'Verb'),\n",
       " ('수', 'Noun'),\n",
       " ('있는', 'Adjective'),\n",
       " ('다양한', 'Adjective'),\n",
       " ('패키지', 'Noun'),\n",
       " ('를', 'Josa'),\n",
       " ('사용', 'Noun'),\n",
       " ('할', 'Verb'),\n",
       " ('수', 'Noun'),\n",
       " ('있는', 'Adjective'),\n",
       " ('언어', 'Noun'),\n",
       " ('이기', 'Noun'),\n",
       " ('때문', 'Noun'),\n",
       " ('입니다', 'Adjective'),\n",
       " ('.', 'Punctuation'),\n",
       " ('\\n', 'Foreign')]"
      ]
     },
     "execution_count": 26,
     "metadata": {},
     "output_type": "execute_result"
    }
   ],
   "source": [
    "t.pos(selected_text)"
   ]
  },
  {
   "cell_type": "code",
   "execution_count": 27,
   "metadata": {},
   "outputs": [
    {
     "data": {
      "text/plain": [
       "{'Adjective': '형용사',\n",
       " 'Adverb': '부사',\n",
       " 'Alpha': '알파벳',\n",
       " 'Conjunction': '접속사',\n",
       " 'Determiner': '관형사',\n",
       " 'Eomi': '어미',\n",
       " 'Exclamation': '감탄사',\n",
       " 'Foreign': '외국어, 한자 및 기타기호',\n",
       " 'Hashtag': '트위터 해쉬태그',\n",
       " 'Josa': '조사',\n",
       " 'KoreanParticle': '(ex: ㅋㅋ)',\n",
       " 'Noun': '명사',\n",
       " 'Number': '숫자',\n",
       " 'PreEomi': '선어말어미',\n",
       " 'Punctuation': '구두점',\n",
       " 'ScreenName': '트위터 아이디',\n",
       " 'Suffix': '접미사',\n",
       " 'Unknown': '미등록어',\n",
       " 'Verb': '동사'}"
      ]
     },
     "execution_count": 27,
     "metadata": {},
     "output_type": "execute_result"
    }
   ],
   "source": [
    "t.tagset"
   ]
  },
  {
   "cell_type": "markdown",
   "metadata": {
    "collapsed": true
   },
   "source": [
    "### <font color='#CC0000'> KoNLPy - Okt </font>"
   ]
  },
  {
   "cell_type": "code",
   "execution_count": 28,
   "metadata": {},
   "outputs": [],
   "source": [
    "from konlpy.tag import Okt"
   ]
  },
  {
   "cell_type": "code",
   "execution_count": 29,
   "metadata": {},
   "outputs": [
    {
     "name": "stdout",
     "output_type": "stream",
     "text": [
      "\n",
      "아름답지만 다소 복잡하기도한 한국어는 전세계에서 13번째로 많이 사용되는 언어입니다.\n",
      "KoNLPy는 파이썬 프로그래밍 언어로 사용할 수 있도록 만들어졌는데, \n",
      "그것은 파이썬이 간결하고 우아한 문법구조, 강력한 스트링 연산 기능을 가지고 있을 뿐 아니라 \n",
      "크롤링, 웹프로그래밍, 그리고 데이터 분석을 수행할 수 있는 다양한 패키지를 사용할 수 있는 언어이기 때문입니다.\n",
      "\n"
     ]
    }
   ],
   "source": [
    "okt = Okt()\n",
    "\n",
    "# selected_text = cool_sentences[0]\n",
    "print(selected_text)"
   ]
  },
  {
   "cell_type": "code",
   "execution_count": 30,
   "metadata": {},
   "outputs": [
    {
     "data": {
      "text/plain": [
       "['다소',\n",
       " '기도',\n",
       " '한국어',\n",
       " '전세계',\n",
       " '번',\n",
       " '사용',\n",
       " '언어',\n",
       " '파이썬',\n",
       " '프로그래밍',\n",
       " '언어',\n",
       " '사용',\n",
       " '수',\n",
       " '그것',\n",
       " '파이썬',\n",
       " '문법',\n",
       " '구조',\n",
       " '스트링',\n",
       " '연산',\n",
       " '기능',\n",
       " '가지',\n",
       " '뿐',\n",
       " '크롤',\n",
       " '링',\n",
       " '웹',\n",
       " '프로그래밍',\n",
       " '데이터',\n",
       " '분석',\n",
       " '수행',\n",
       " '수',\n",
       " '패키지',\n",
       " '사용',\n",
       " '수',\n",
       " '언어',\n",
       " '이기',\n",
       " '때문']"
      ]
     },
     "execution_count": 30,
     "metadata": {},
     "output_type": "execute_result"
    }
   ],
   "source": [
    "okt.nouns(selected_text)"
   ]
  },
  {
   "cell_type": "code",
   "execution_count": 31,
   "metadata": {},
   "outputs": [
    {
     "data": {
      "text/plain": [
       "['다소',\n",
       " '기도',\n",
       " '한국어',\n",
       " '전세계',\n",
       " '13번째',\n",
       " '사용',\n",
       " '사용되는 언어',\n",
       " 'KoNLPy',\n",
       " 'KoNLPy는 파이썬',\n",
       " 'KoNLPy는 파이썬 프로그래밍',\n",
       " 'KoNLPy는 파이썬 프로그래밍 언어',\n",
       " '사용할 수',\n",
       " '그것',\n",
       " '파이썬',\n",
       " '우아한 문법구조',\n",
       " '강력한 스트링',\n",
       " '강력한 스트링 연산',\n",
       " '강력한 스트링 연산 기능',\n",
       " '가지',\n",
       " '있을 뿐',\n",
       " '크롤링',\n",
       " '웹프로그래밍',\n",
       " '데이터',\n",
       " '데이터 분석',\n",
       " '수행',\n",
       " '수행할 수',\n",
       " '수행할 수 있는 다양한 패키지',\n",
       " '사용할 수 있는 언어이기',\n",
       " '사용할 수 있는 언어이기 때문',\n",
       " '13',\n",
       " '번째',\n",
       " '언어',\n",
       " '프로그래밍',\n",
       " '문법',\n",
       " '구조',\n",
       " '스트링',\n",
       " '연산',\n",
       " '기능',\n",
       " '크롤',\n",
       " '분석',\n",
       " '패키지',\n",
       " '이기',\n",
       " '때문']"
      ]
     },
     "execution_count": 31,
     "metadata": {},
     "output_type": "execute_result"
    }
   ],
   "source": [
    "okt.phrases(selected_text)"
   ]
  },
  {
   "cell_type": "code",
   "execution_count": 32,
   "metadata": {},
   "outputs": [
    {
     "data": {
      "text/plain": [
       "['\\n',\n",
       " '아름답지만',\n",
       " '다소',\n",
       " '복잡하',\n",
       " '기도',\n",
       " '한',\n",
       " '한국어',\n",
       " '는',\n",
       " '전세계',\n",
       " '에서',\n",
       " '13',\n",
       " '번',\n",
       " '째',\n",
       " '로',\n",
       " '많이',\n",
       " '사용',\n",
       " '되는',\n",
       " '언어',\n",
       " '입니다',\n",
       " '.',\n",
       " '\\n',\n",
       " 'KoNLPy',\n",
       " '는',\n",
       " '파이썬',\n",
       " '프로그래밍',\n",
       " '언어',\n",
       " '로',\n",
       " '사용',\n",
       " '할',\n",
       " '수',\n",
       " '있도록',\n",
       " '만들어졌는데',\n",
       " ',',\n",
       " '그것',\n",
       " '은',\n",
       " '파이썬',\n",
       " '이',\n",
       " '간결하고',\n",
       " '우아한',\n",
       " '문법',\n",
       " '구조',\n",
       " ',',\n",
       " '강력한',\n",
       " '스트링',\n",
       " '연산',\n",
       " '기능',\n",
       " '을',\n",
       " '가지',\n",
       " '고',\n",
       " '있을',\n",
       " '뿐',\n",
       " '아니라',\n",
       " '크롤',\n",
       " '링',\n",
       " ',',\n",
       " '웹',\n",
       " '프로그래밍',\n",
       " ',',\n",
       " '그리고',\n",
       " '데이터',\n",
       " '분석',\n",
       " '을',\n",
       " '수행',\n",
       " '할',\n",
       " '수',\n",
       " '있는',\n",
       " '다양한',\n",
       " '패키지',\n",
       " '를',\n",
       " '사용',\n",
       " '할',\n",
       " '수',\n",
       " '있는',\n",
       " '언어',\n",
       " '이기',\n",
       " '때문',\n",
       " '입니다',\n",
       " '.',\n",
       " '\\n']"
      ]
     },
     "execution_count": 32,
     "metadata": {},
     "output_type": "execute_result"
    }
   ],
   "source": [
    "okt.morphs(selected_text)"
   ]
  },
  {
   "cell_type": "code",
   "execution_count": 33,
   "metadata": {},
   "outputs": [
    {
     "data": {
      "text/plain": [
       "[('\\n', 'Foreign'),\n",
       " ('아름답지만', 'Adjective'),\n",
       " ('다소', 'Noun'),\n",
       " ('복잡하', 'Adjective'),\n",
       " ('기도', 'Noun'),\n",
       " ('한', 'Josa'),\n",
       " ('한국어', 'Noun'),\n",
       " ('는', 'Josa'),\n",
       " ('전세계', 'Noun'),\n",
       " ('에서', 'Josa'),\n",
       " ('13', 'Number'),\n",
       " ('번', 'Noun'),\n",
       " ('째', 'Suffix'),\n",
       " ('로', 'Josa'),\n",
       " ('많이', 'Adverb'),\n",
       " ('사용', 'Noun'),\n",
       " ('되는', 'Verb'),\n",
       " ('언어', 'Noun'),\n",
       " ('입니다', 'Adjective'),\n",
       " ('.', 'Punctuation'),\n",
       " ('\\n', 'Foreign'),\n",
       " ('KoNLPy', 'Alpha'),\n",
       " ('는', 'Verb'),\n",
       " ('파이썬', 'Noun'),\n",
       " ('프로그래밍', 'Noun'),\n",
       " ('언어', 'Noun'),\n",
       " ('로', 'Josa'),\n",
       " ('사용', 'Noun'),\n",
       " ('할', 'Verb'),\n",
       " ('수', 'Noun'),\n",
       " ('있도록', 'Adjective'),\n",
       " ('만들어졌는데', 'Verb'),\n",
       " (',', 'Punctuation'),\n",
       " ('그것', 'Noun'),\n",
       " ('은', 'Josa'),\n",
       " ('파이썬', 'Noun'),\n",
       " ('이', 'Josa'),\n",
       " ('간결하고', 'Adjective'),\n",
       " ('우아한', 'Adjective'),\n",
       " ('문법', 'Noun'),\n",
       " ('구조', 'Noun'),\n",
       " (',', 'Punctuation'),\n",
       " ('강력한', 'Adjective'),\n",
       " ('스트링', 'Noun'),\n",
       " ('연산', 'Noun'),\n",
       " ('기능', 'Noun'),\n",
       " ('을', 'Josa'),\n",
       " ('가지', 'Noun'),\n",
       " ('고', 'Josa'),\n",
       " ('있을', 'Adjective'),\n",
       " ('뿐', 'Noun'),\n",
       " ('아니라', 'Adjective'),\n",
       " ('크롤', 'Noun'),\n",
       " ('링', 'Noun'),\n",
       " (',', 'Punctuation'),\n",
       " ('웹', 'Noun'),\n",
       " ('프로그래밍', 'Noun'),\n",
       " (',', 'Punctuation'),\n",
       " ('그리고', 'Conjunction'),\n",
       " ('데이터', 'Noun'),\n",
       " ('분석', 'Noun'),\n",
       " ('을', 'Josa'),\n",
       " ('수행', 'Noun'),\n",
       " ('할', 'Verb'),\n",
       " ('수', 'Noun'),\n",
       " ('있는', 'Adjective'),\n",
       " ('다양한', 'Adjective'),\n",
       " ('패키지', 'Noun'),\n",
       " ('를', 'Josa'),\n",
       " ('사용', 'Noun'),\n",
       " ('할', 'Verb'),\n",
       " ('수', 'Noun'),\n",
       " ('있는', 'Adjective'),\n",
       " ('언어', 'Noun'),\n",
       " ('이기', 'Noun'),\n",
       " ('때문', 'Noun'),\n",
       " ('입니다', 'Adjective'),\n",
       " ('.', 'Punctuation'),\n",
       " ('\\n', 'Foreign')]"
      ]
     },
     "execution_count": 33,
     "metadata": {},
     "output_type": "execute_result"
    }
   ],
   "source": [
    "okt.pos(selected_text)"
   ]
  },
  {
   "cell_type": "code",
   "execution_count": 34,
   "metadata": {},
   "outputs": [
    {
     "data": {
      "text/plain": [
       "{'Adjective': '형용사',\n",
       " 'Adverb': '부사',\n",
       " 'Alpha': '알파벳',\n",
       " 'Conjunction': '접속사',\n",
       " 'Determiner': '관형사',\n",
       " 'Eomi': '어미',\n",
       " 'Exclamation': '감탄사',\n",
       " 'Foreign': '외국어, 한자 및 기타기호',\n",
       " 'Hashtag': '트위터 해쉬태그',\n",
       " 'Josa': '조사',\n",
       " 'KoreanParticle': '(ex: ㅋㅋ)',\n",
       " 'Noun': '명사',\n",
       " 'Number': '숫자',\n",
       " 'PreEomi': '선어말어미',\n",
       " 'Punctuation': '구두점',\n",
       " 'ScreenName': '트위터 아이디',\n",
       " 'Suffix': '접미사',\n",
       " 'Unknown': '미등록어',\n",
       " 'Verb': '동사'}"
      ]
     },
     "execution_count": 34,
     "metadata": {},
     "output_type": "execute_result"
    }
   ],
   "source": [
    "okt.tagset"
   ]
  },
  {
   "cell_type": "markdown",
   "metadata": {
    "collapsed": true
   },
   "source": [
    "### <font color='#CC0000'> Performance Test </font>"
   ]
  },
  {
   "cell_type": "code",
   "execution_count": 35,
   "metadata": {},
   "outputs": [],
   "source": [
    "from datetime import datetime"
   ]
  },
  {
   "cell_type": "code",
   "execution_count": 36,
   "metadata": {},
   "outputs": [
    {
     "name": "stdout",
     "output_type": "stream",
     "text": [
      "총 계산 시간: 0:00:00.076017\n",
      "총 계산 시간: 76ms\n"
     ]
    }
   ],
   "source": [
    "start = datetime.now()\n",
    "kkma.pos(selected_text)\n",
    "end = datetime.now()\n",
    "\n",
    "elapsed = end - start\n",
    "print('총 계산 시간: ', end='');   print(elapsed)\n",
    "elapsed_ms = int(elapsed.total_seconds()*1000)\n",
    "print('총 계산 시간: %dms' %elapsed_ms)"
   ]
  },
  {
   "cell_type": "code",
   "execution_count": 37,
   "metadata": {},
   "outputs": [
    {
     "name": "stdout",
     "output_type": "stream",
     "text": [
      "총 계산 시간: 0:00:00.013000\n",
      "총 계산 시간: 13ms\n"
     ]
    }
   ],
   "source": [
    "start = datetime.now()\n",
    "hannanum.pos(selected_text)\n",
    "end = datetime.now()\n",
    "\n",
    "elapsed = end - start\n",
    "print('총 계산 시간: ', end='');   print(elapsed)\n",
    "elapsed_ms = int(elapsed.total_seconds()*1000)\n",
    "print('총 계산 시간: %dms' %elapsed_ms)"
   ]
  },
  {
   "cell_type": "code",
   "execution_count": 38,
   "metadata": {},
   "outputs": [
    {
     "name": "stdout",
     "output_type": "stream",
     "text": [
      "총 계산 시간: 0:00:00.015004\n",
      "총 계산 시간: 15ms\n"
     ]
    }
   ],
   "source": [
    "start = datetime.now()\n",
    "t.pos(selected_text)\n",
    "end = datetime.now()\n",
    "\n",
    "elapsed = end - start\n",
    "print('총 계산 시간: ', end='');   print(elapsed)\n",
    "elapsed_ms = int(elapsed.total_seconds()*1000)\n",
    "print('총 계산 시간: %dms' %elapsed_ms)"
   ]
  },
  {
   "cell_type": "code",
   "execution_count": 39,
   "metadata": {},
   "outputs": [
    {
     "name": "stdout",
     "output_type": "stream",
     "text": [
      "총 계산 시간: 0:00:00.011001\n",
      "총 계산 시간: 11ms\n"
     ]
    }
   ],
   "source": [
    "start = datetime.now()\n",
    "okt.pos(selected_text)\n",
    "end = datetime.now()\n",
    "\n",
    "elapsed = end - start\n",
    "print('총 계산 시간: ', end='');   print(elapsed)\n",
    "elapsed_ms = int(elapsed.total_seconds()*1000)\n",
    "print('총 계산 시간: %dms' %elapsed_ms)"
   ]
  },
  {
   "cell_type": "markdown",
   "metadata": {},
   "source": [
    "<hr>\n",
    "<marquee><font size=3 color='brown'>The BigpyCraft find the information to design valuable society with Technology & Craft.</font></marquee>\n",
    "<div align='right'><font size=2 color='gray'> &lt; The End &gt; </font></div>"
   ]
  },
  {
   "cell_type": "code",
   "execution_count": null,
   "metadata": {},
   "outputs": [],
   "source": []
  }
 ],
 "metadata": {
  "kernelspec": {
   "display_name": "Python 3 (ipykernel)",
   "language": "python",
   "name": "python3"
  },
  "language_info": {
   "codemirror_mode": {
    "name": "ipython",
    "version": 3
   },
   "file_extension": ".py",
   "mimetype": "text/x-python",
   "name": "python",
   "nbconvert_exporter": "python",
   "pygments_lexer": "ipython3",
   "version": "3.9.7"
  }
 },
 "nbformat": 4,
 "nbformat_minor": 2
}
