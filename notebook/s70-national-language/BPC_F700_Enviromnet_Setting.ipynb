{
 "cells": [
  {
   "cell_type": "markdown",
   "metadata": {},
   "source": [
    "<center>\n",
    "<b><font size=6>Industry 4.0 의 중심, BigData</font></b>\n",
    "</center>"
   ]
  },
  {
   "cell_type": "markdown",
   "metadata": {},
   "source": [
    "<div align='right'><font size=2 color='gray'>Data Processing Based Python @ <font color='blue'><a href='https://www.facebook.com/jskim.kr'>FB / jskim.kr</a></font>, 김진수</font></div>\n",
    "<hr>"
   ]
  },
  {
   "cell_type": "markdown",
   "metadata": {},
   "source": [
    "### <font color='brown'>NLP Environment </font>"
   ]
  },
  {
   "cell_type": "markdown",
   "metadata": {},
   "source": [
    "> 설치 목록\n",
    "    * JDK (Java SE Downloads)\n",
    "    * JAVA_HOME 설정\n",
    "    * JPype 설치\n",
    "    * KoNLPy 설치\n",
    "    * Word Cloud 설치"
   ]
  },
  {
   "cell_type": "markdown",
   "metadata": {},
   "source": [
    "> ### 한글 자연어 처리 기초 - KoNLPy 및 필요 모듈의 설치\n",
    "> * KoNLPy : **pip install konlpy**\n",
    "> * JPype1 : **conda install -c conda-forge jpype1** \n",
    "> <br/> - 이후 Jupyter Notebook 재실행 필요\n",
    "> * JDK 설치 : Java JDK로 검색해서 OS에 맞춰 설치\n",
    "> <br/> - JAVA_HOME 설정 : 교재내용 참조\n",
    "> * visual cpp build tools 14.0 download\n",
    "> <br/> - https://www.microsoft.com/ko-kr/download/confirmation.aspx?id=48159"
   ]
  },
  {
   "cell_type": "markdown",
   "metadata": {},
   "source": [
    "### <font color='brown'>Install Package for NLP</font>"
   ]
  },
  {
   "cell_type": "raw",
   "metadata": {},
   "source": [
    "<!--\n",
    "> pip install konlpy\n",
    "> pip install Jpype1\n",
    "\n",
    "> pip install pytagcloud\n",
    "> pip install pygame\n",
    "> pip install simplejson\n",
    "\n",
    "# C:\\Python\\Anaconda3-50\\Lib\\site-packages\\pytagcloud\\fonts\\fonts.json\n",
    "[\n",
    "\t{\n",
    "\t\t\"name\": \"Korean\",\n",
    "\t\t\"ttf\": \"MALGUN.TTF\",\n",
    "\t\t\"web\": \"http://fonts.googleapis.com/css?family=Nobile\"\n",
    "\t},\n",
    "    ...........................\n",
    "]\n",
    "-->\n",
    "\n",
    "<!--\n",
    "import pytagcloud      # requires Korean font support\n",
    "\n",
    "# pytagcloud error 시, pytagcloud githubd에서 다운 받은후\n",
    "# python setup.py install  실행하여 설치\n",
    "-->"
   ]
  },
  {
   "cell_type": "markdown",
   "metadata": {},
   "source": [
    "### <font color='brown'>Download Link</font>"
   ]
  },
  {
   "cell_type": "raw",
   "metadata": {},
   "source": [
    "### <font color='brown'>Install Package for NLP</font>wget for windows\n",
    "https://eternallybored.org/misc/wget/\n",
    "\n",
    "\n",
    "MongoDB download\n",
    "https://www.mongodb.com/download-center\n",
    "https://www.mongodb.com/download-center/community?jmp=homepage\n",
    "\n",
    "윈도우(Windows)에 MongoDB 설치하기\n",
    "http://solarisailab.com/archives/1605\n",
    "\n",
    "\n",
    "\n",
    "error: Microsoft Visual C++ 14.0 is required. Get it with \"Microsoft Visual C++ Build Tools\" : \n",
    "http://landinghub.visualstudio.com/visual-cpp-build-tools\n",
    "\n",
    "visual cpp build tools 14.0 download\n",
    "https://www.microsoft.com/ko-kr/download/confirmation.aspx?id=48159\n",
    "\n",
    "\n",
    "\n"
   ]
  },
  {
   "cell_type": "markdown",
   "metadata": {},
   "source": [
    "### <font color='brown'>Sequence of Install Package for NLP</font>\n",
    ">  \n",
    "> pip install konlpy\n",
    ">\n",
    "> JVMNotFoundException: No JVM shared library file (jvm.dll) found. Try setting up the JAVA_HOME environment variable properly.\n",
    "> \n",
    "> pip install Jpype1\n",
    "\n",
    "> pip install pytagcloud\n",
    "> pip install pygame\n",
    "> pip install simplejson"
   ]
  },
  {
   "cell_type": "markdown",
   "metadata": {},
   "source": [
    "### <font color='brown'>Replace Set</font>"
   ]
  },
  {
   "cell_type": "code",
   "execution_count": 1,
   "metadata": {},
   "outputs": [],
   "source": [
    "# -*- coding: utf-8 -*-\n",
    "from __future__ import absolute_import\n",
    "from __future__ import unicode_literals\n",
    "\n",
    "import io\n",
    "import json\n",
    "import os\n",
    "import re\n",
    "import pprint as pp\n",
    "import sys\n",
    "from threading import Thread\n"
   ]
  },
  {
   "cell_type": "code",
   "execution_count": 6,
   "metadata": {},
   "outputs": [
    {
     "data": {
      "text/plain": [
       "'D:\\\\project\\\\itech_lab\\\\_jbfg-ds22\\\\ds22-ipynb\\\\s70-national-language'"
      ]
     },
     "execution_count": 6,
     "metadata": {},
     "output_type": "execute_result"
    }
   ],
   "source": [
    "__file__ = %pwd\n",
    "__file__"
   ]
  },
  {
   "cell_type": "code",
   "execution_count": 7,
   "metadata": {},
   "outputs": [],
   "source": [
    "installpath = os.path.dirname(os.path.realpath(__file__))\n",
    "replace_set = [\n",
    "    ('·', '/'),     # \\xb7\n",
    "    ('․', '/'),     # \\u2024\n",
    "    ('ㆍ', '/'),    # \\u318d (hangul letter araea)\n",
    "    ('･', '/'),     # \\uff65 (katakana)\n",
    "    ('～', '~'),    # \\uff5e\n",
    "    ('❑', '-'),     # \\u2751\n",
    "    ('‘', \"'\"),     # \\u2018\n",
    "    ('’', \"'\"),     # \\u2019\n",
    "    ('“', '\"'),     # \\u201c\n",
    "    ('”', '\"'),     # \\u201d\n",
    "    ('「', '<'),    # \\u300c\n",
    "    ('」', '>')]    # \\u300d\n",
    "\n",
    "\n",
    "if sys.version_info[0] < 3:\n",
    "    class UnicodePrinter(pp.PrettyPrinter):\n",
    "        def format(self, object, context, maxlevels, level):\n",
    "            \"\"\"Overrided method to enable Unicode pretty print.\"\"\"\n",
    "            if isinstance(object, unicode):\n",
    "                encoding = sys.stdout.encoding or 'utf-8'\n",
    "                return (object.encode(encoding), True, False)\n",
    "            return pp.PrettyPrinter.format(self, object, context, maxlevels, level)\n"
   ]
  },
  {
   "cell_type": "code",
   "execution_count": 9,
   "metadata": {},
   "outputs": [],
   "source": [
    "def select(phrase):\n",
    "    \"\"\"Replaces some ambiguous punctuation marks to simpler ones.\"\"\"\n",
    "    # TODO: document replacements\n",
    "    # TODO: do not replace unless explicitly noticed\n",
    "    # TODO: add 'only hangul' option\n",
    "    for a, b in replace_set:\n",
    "        phrase = phrase.replace(a, b)\n",
    "    return phrase"
   ]
  },
  {
   "cell_type": "code",
   "execution_count": 10,
   "metadata": {},
   "outputs": [
    {
     "data": {
      "text/plain": [
       "'/ | / | / | / | / | ~ | - | \\' | \\' | \" | \" | < | > | '"
      ]
     },
     "execution_count": 10,
     "metadata": {},
     "output_type": "execute_result"
    }
   ],
   "source": [
    "phrase = '· | · | ․ | ㆍ | ･ | ～ | ❑ | ‘ | ’ | “ | ” | 「 | 」 | '\n",
    "\n",
    "ret = select(phrase)\n",
    "ret"
   ]
  },
  {
   "cell_type": "markdown",
   "metadata": {},
   "source": [
    "<hr>\n",
    "<marquee><font size=3 color='brown'>The BigpyCraft find the information to design valuable society with Technology & Craft.</font></marquee>\n",
    "<div align='right'><font size=2 color='gray'> &lt; The End &gt; </font></div>"
   ]
  }
 ],
 "metadata": {
  "kernelspec": {
   "display_name": "Python 3 (ipykernel)",
   "language": "python",
   "name": "python3"
  },
  "language_info": {
   "codemirror_mode": {
    "name": "ipython",
    "version": 3
   },
   "file_extension": ".py",
   "mimetype": "text/x-python",
   "name": "python",
   "nbconvert_exporter": "python",
   "pygments_lexer": "ipython3",
   "version": "3.9.12"
  }
 },
 "nbformat": 4,
 "nbformat_minor": 1
}
