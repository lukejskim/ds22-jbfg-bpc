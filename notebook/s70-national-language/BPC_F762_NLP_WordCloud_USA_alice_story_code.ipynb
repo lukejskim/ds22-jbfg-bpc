{
 "cells": [
  {
   "cell_type": "markdown",
   "metadata": {},
   "source": [
    "# Industry 4.0 의 중심, BigData"
   ]
  },
  {
   "cell_type": "markdown",
   "metadata": {},
   "source": [
    "<div align='right'><font size=2 color='gray'>Data Processing Based Python @ <font color='blue'><a href='https://www.facebook.com/jskim.kr'>FB / jskim.kr</a></font>, [김진수](bigpycraft@gmail.com)</font></div>\n",
    "<hr>"
   ]
  },
  {
   "cell_type": "markdown",
   "metadata": {},
   "source": [
    "## <font color='brown'>워드클라우드 : English Version 2 </font>"
   ]
  },
  {
   "cell_type": "markdown",
   "metadata": {},
   "source": [
    "### <font color='brown'>워드클라우드 : WordCloud with Image Masking </font>"
   ]
  },
  {
   "cell_type": "code",
   "execution_count": null,
   "metadata": {},
   "outputs": [],
   "source": [
    "from wordcloud import WordCloud\n",
    "from wordcloud import STOPWORDS\n",
    "from PIL import Image\n",
    "\n",
    "import matplotlib.pyplot as plt\n",
    "import numpy as np"
   ]
  },
  {
   "cell_type": "code",
   "execution_count": null,
   "metadata": {},
   "outputs": [],
   "source": [
    "with open('wc_docu/alice.txt') as fp:\n",
    "    text = fp.read()"
   ]
  },
  {
   "cell_type": "code",
   "execution_count": null,
   "metadata": {},
   "outputs": [],
   "source": [
    "len(text), text[:1000]"
   ]
  },
  {
   "cell_type": "code",
   "execution_count": null,
   "metadata": {},
   "outputs": [],
   "source": [
    "!dir  images"
   ]
  },
  {
   "cell_type": "code",
   "execution_count": null,
   "metadata": {},
   "outputs": [],
   "source": [
    "# 사진 데이터를 pil 패키지의 Image를 활용해서 0~255 데이터로 읽어왔다.\n",
    "alice_mask = np.array(Image.open('images/alice_shadow.png'))"
   ]
  },
  {
   "cell_type": "code",
   "execution_count": null,
   "metadata": {},
   "outputs": [],
   "source": [
    "alice_mask"
   ]
  },
  {
   "cell_type": "code",
   "execution_count": null,
   "metadata": {},
   "outputs": [],
   "source": [
    "# plt.imshow()는 수치 데이터 -> image데이터로 변환해줌\n",
    "plt.imshow(alice_mask, cmap=plt.cm.gray)\n",
    "plt.axis('on')     # on/off"
   ]
  },
  {
   "cell_type": "code",
   "execution_count": null,
   "metadata": {},
   "outputs": [],
   "source": [
    "# STOPWORDS : 많은 빈도로 나오는 관사, 전치사 모아놓은 데이터\n",
    "stopwords =set(STOPWORDS)\n",
    "stopwords"
   ]
  },
  {
   "cell_type": "code",
   "execution_count": null,
   "metadata": {},
   "outputs": [],
   "source": [
    "params = {\n",
    "    \"width\"  : 800,\n",
    "    \"height\" : 600, \n",
    "    \"max_words\" : 2000,\n",
    "    \"background_color\" :\"white\",\n",
    "    \"mask\"      : alice_mask,\n",
    "    \"stopwords\" : stopwords\n",
    "}\n",
    "\n",
    "# wordcolud_4 = WordCloud(background_color = 'white', max_words=2000, mask=alice_mask, stopwords=stopwords)\n",
    "wordcolud_4 = WordCloud(**params)\n",
    "wordcolud_4 = wordcolud_4.generate(text)\n",
    "wordcolud_4.words_"
   ]
  },
  {
   "cell_type": "code",
   "execution_count": null,
   "metadata": {},
   "outputs": [],
   "source": [
    "save_img = 'wordcloud/alice_story.png'\n",
    "\n",
    "plt.figure(figsize=(24,16))\n",
    "plt.imshow(wordcolud_4)\n",
    "plt.axis('off')\n",
    "plt.savefig(save_img)"
   ]
  },
  {
   "cell_type": "code",
   "execution_count": null,
   "metadata": {},
   "outputs": [],
   "source": [
    "plt.imshow(wordcolud_4)\n",
    "plt.axis('on')"
   ]
  },
  {
   "cell_type": "code",
   "execution_count": null,
   "metadata": {},
   "outputs": [],
   "source": [
    "plt.figure(figsize=(12,12))\n",
    "plt.imshow(wordcolud_4)\n",
    "plt.axis('off')"
   ]
  },
  {
   "cell_type": "code",
   "execution_count": null,
   "metadata": {},
   "outputs": [],
   "source": [
    "params = {\n",
    "    \"width\"  : 800,\n",
    "    \"height\" : 600, \n",
    "    \"max_words\" : 2000,\n",
    "    \"background_color\" :\"white\",\n",
    "    \"mask\"      : alice_mask,\n",
    "    \"stopwords\" : stopwords\n",
    "}\n",
    "\n",
    "# wordcolud_4 = WordCloud(background_color = 'white', max_words=2000, mask=alice_mask, stopwords=stopwords)\n",
    "wordcolud_4 = WordCloud(**params)\n",
    "wordcolud_4 = wordcolud_4.generate(text)\n",
    "wordcolud_4.words_"
   ]
  },
  {
   "cell_type": "markdown",
   "metadata": {},
   "source": [
    "### STOPWORDS 추가"
   ]
  },
  {
   "cell_type": "code",
   "execution_count": null,
   "metadata": {},
   "outputs": [],
   "source": [
    "# with open('wc_docu/alice.txt') as fp:\n",
    "#     text = fp.read()\n",
    "# text = open('alice.txt').read()\n",
    "\n",
    "alice_color = np.array(Image.open('images/alice_color.png'))\n",
    "\n",
    "stopwords = set(STOPWORDS)\n",
    "\n",
    "# 카운팅 하고싶지 않은 단어 추가\n",
    "stopwords.add('said')       \n",
    "stopwords.add('said Alice')"
   ]
  },
  {
   "cell_type": "code",
   "execution_count": null,
   "metadata": {},
   "outputs": [],
   "source": [
    "params = {\n",
    "    \"width\"     : 600,\n",
    "    \"height\"    : 600, \n",
    "    \"max_words\" : 2000,\n",
    "    \"max_font_size\" : 40, \n",
    "    \"random_state\"  : 42,\n",
    "    \"background_color\" :\"white\",\n",
    "    \"mask\"      : alice_color,\n",
    "    \"stopwords\" : stopwords\n",
    "}\n",
    "\n",
    "wordcolud_5 = WordCloud(**params)\n",
    "wordcolud_5 = wordcolud_5.generate(text)\n",
    "# wordcolud_5.words_"
   ]
  },
  {
   "cell_type": "code",
   "execution_count": null,
   "metadata": {},
   "outputs": [],
   "source": [
    "plt.figure(figsize=(1,1))\n",
    "plt.imshow(alice_color)\n",
    "plt.axis('off')"
   ]
  },
  {
   "cell_type": "code",
   "execution_count": null,
   "metadata": {
    "scrolled": true
   },
   "outputs": [],
   "source": [
    "save_img = 'wordcloud/alice_story5.png'\n",
    "\n",
    "plt.figure(figsize=(12, 12))\n",
    "plt.imshow(wordcolud_5)\n",
    "plt.axis('off')\n",
    "plt.savefig(save_img)"
   ]
  },
  {
   "cell_type": "markdown",
   "metadata": {},
   "source": [
    "### 마스크이미지 원본 사진 색 살리기"
   ]
  },
  {
   "cell_type": "code",
   "execution_count": null,
   "metadata": {},
   "outputs": [],
   "source": [
    "from wordcloud import ImageColorGenerator"
   ]
  },
  {
   "cell_type": "code",
   "execution_count": null,
   "metadata": {},
   "outputs": [],
   "source": [
    "alice_color = np.array(Image.open('images/alice_color.png'))\n",
    "image_colors = ImageColorGenerator(alice_color)"
   ]
  },
  {
   "cell_type": "code",
   "execution_count": null,
   "metadata": {},
   "outputs": [],
   "source": [
    "save_img = 'wordcloud/alice_story6.png'\n",
    "plt.figure(figsize=(12,12))\n",
    "# wordcloud_5.recolr(ImageColorGenerator(numpy이미지 파일))\n",
    "plt.imshow(wordcolud_5.recolor(color_func=image_colors))\n",
    "plt.axis('off')\n",
    "plt.savefig(save_img)"
   ]
  },
  {
   "cell_type": "raw",
   "metadata": {},
   "source": [
    "<!--\n",
    "``` python\n",
    "# wordcolud.recolor\n",
    "\n",
    "Signature: wordcolud.recolor(random_state=None, color_func=None, colormap=None)\n",
    "Docstring:\n",
    "Recolor existing layout.\n",
    "\n",
    "Applying a new coloring is much faster than generating the whole\n",
    "wordcloud.\n",
    "```\n",
    "-->"
   ]
  },
  {
   "cell_type": "markdown",
   "metadata": {
    "collapsed": true
   },
   "source": [
    "<hr>\n",
    "<marquee><font size=3 color='brown'>The BigpyCraft find the information to design valuable society with Technology & Craft.</font></marquee>\n",
    "<div align='right'><font size=2 color='gray'> &lt; The End &gt; </font></div>"
   ]
  },
  {
   "cell_type": "code",
   "execution_count": null,
   "metadata": {},
   "outputs": [],
   "source": []
  }
 ],
 "metadata": {
  "kernelspec": {
   "display_name": "Python 3 (ipykernel)",
   "language": "python",
   "name": "python3"
  },
  "language_info": {
   "codemirror_mode": {
    "name": "ipython",
    "version": 3
   },
   "file_extension": ".py",
   "mimetype": "text/x-python",
   "name": "python",
   "nbconvert_exporter": "python",
   "pygments_lexer": "ipython3",
   "version": "3.9.7"
  }
 },
 "nbformat": 4,
 "nbformat_minor": 2
}
