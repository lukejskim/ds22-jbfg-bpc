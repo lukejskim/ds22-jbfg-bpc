{
 "cells": [
  {
   "cell_type": "markdown",
   "metadata": {},
   "source": [
    "# Industry 4.0 의 중심, BigData"
   ]
  },
  {
   "cell_type": "markdown",
   "metadata": {},
   "source": [
    "<div align='right'><font size=2 color='gray'>Data Processing Based Python @ <font color='blue'><a href='https://www.facebook.com/jskim.kr'>FB / jskim.kr</a></font>, [김진수](bigpycraft@gmail.com)</font></div>\n",
    "<hr>"
   ]
  },
  {
   "cell_type": "markdown",
   "metadata": {},
   "source": [
    "## <font color='brown'>KoNLPy : 파이썬 한국어 NLP </font>\n",
    "> 코엔엘파이, 한국어 처리를 위한 파이썬 패키지 \n",
    "> - Hannanum Class\n",
    "> - Kkma Class\n",
    "> - Komoran Class\n",
    "> - Mecab Class\n",
    "> - Twitter Class\n"
   ]
  },
  {
   "cell_type": "code",
   "execution_count": 1,
   "metadata": {},
   "outputs": [],
   "source": [
    "from konlpy.tag import Hannanum\n",
    "from konlpy.tag import Kkma\n",
    "from konlpy.tag import Komoran\n",
    "from konlpy.tag import Mecab\n",
    "from konlpy.tag import Twitter"
   ]
  },
  {
   "cell_type": "markdown",
   "metadata": {},
   "source": [
    "### <font color='blue'> Hannanum </font>"
   ]
  },
  {
   "cell_type": "code",
   "execution_count": 2,
   "metadata": {},
   "outputs": [],
   "source": [
    "text = '자연어처리는 재미있습니다. 그러나 한국어 분석은 쉽지않습니다.'"
   ]
  },
  {
   "cell_type": "code",
   "execution_count": 3,
   "metadata": {},
   "outputs": [],
   "source": [
    "hannanum = Hannanum()"
   ]
  },
  {
   "cell_type": "code",
   "execution_count": 4,
   "metadata": {},
   "outputs": [
    {
     "data": {
      "text/plain": [
       "[[[('자연어처리', 'ncpa'), ('는', 'jxc')],\n",
       "  [('자연어', 'ncn'), ('처리', 'ncpa'), ('는', 'jxc')]],\n",
       " [[('재미있', 'pvg'), ('습니다', 'ef')],\n",
       "  [('재미', 'ncn'), ('있', 'xsmn'), ('습니다', 'ef')]],\n",
       " [[('.', 'sf')], [('.', 'sy')]],\n",
       " [],\n",
       " [[('그러나', 'maj')]],\n",
       " [[('한국어', 'ncn')]],\n",
       " [[('분석', 'ncpa'), ('은', 'jxc')], [('분석', 'ncpa'), ('은', 'ncn')]],\n",
       " [[('쉽', 'paa'), ('지', 'ecx'), ('않', 'px'), ('습니다', 'ef')]],\n",
       " [[('.', 'sf')], [('.', 'sy')]]]"
      ]
     },
     "execution_count": 4,
     "metadata": {},
     "output_type": "execute_result"
    }
   ],
   "source": [
    "hannanum.analyze(text)"
   ]
  },
  {
   "cell_type": "code",
   "execution_count": 5,
   "metadata": {},
   "outputs": [
    {
     "data": {
      "text/plain": [
       "['자연어처리',\n",
       " '는',\n",
       " '재미있',\n",
       " '습니다',\n",
       " '.',\n",
       " '그러나',\n",
       " '한국어',\n",
       " '분석',\n",
       " '은',\n",
       " '쉽',\n",
       " '지',\n",
       " '않',\n",
       " '습니다',\n",
       " '.']"
      ]
     },
     "execution_count": 5,
     "metadata": {},
     "output_type": "execute_result"
    }
   ],
   "source": [
    "hannanum.morphs(text)"
   ]
  },
  {
   "cell_type": "code",
   "execution_count": 6,
   "metadata": {},
   "outputs": [
    {
     "data": {
      "text/plain": [
       "['자연어처리', '한국어', '분석']"
      ]
     },
     "execution_count": 6,
     "metadata": {},
     "output_type": "execute_result"
    }
   ],
   "source": [
    "hannanum.nouns(text)"
   ]
  },
  {
   "cell_type": "code",
   "execution_count": 7,
   "metadata": {},
   "outputs": [
    {
     "data": {
      "text/plain": [
       "[('자연어처리', 'N'),\n",
       " ('는', 'J'),\n",
       " ('재미있', 'P'),\n",
       " ('습니다', 'E'),\n",
       " ('.', 'S'),\n",
       " ('그러나', 'M'),\n",
       " ('한국어', 'N'),\n",
       " ('분석', 'N'),\n",
       " ('은', 'J'),\n",
       " ('쉽', 'P'),\n",
       " ('지', 'E'),\n",
       " ('않', 'P'),\n",
       " ('습니다', 'E'),\n",
       " ('.', 'S')]"
      ]
     },
     "execution_count": 7,
     "metadata": {},
     "output_type": "execute_result"
    }
   ],
   "source": [
    "hannanum.pos(text)"
   ]
  },
  {
   "cell_type": "markdown",
   "metadata": {},
   "source": [
    "### <font color='blue'> Kkma </font> "
   ]
  },
  {
   "cell_type": "code",
   "execution_count": 8,
   "metadata": {},
   "outputs": [],
   "source": [
    "text = '''\n",
    "꼬꼬마 한글 형태소 분석기는 Java 라이브러리로써 jar 파일 형태로 배포한다.\n",
    "사전을 메모리에 적재하기 위한 충분한 힙메모리를 지정해주어야 한다. \n",
    "따라서 512''B이상의 메모리를 지정할 것을 권장한다.\n",
    "'''"
   ]
  },
  {
   "cell_type": "code",
   "execution_count": 9,
   "metadata": {},
   "outputs": [],
   "source": [
    "kkma = Kkma()"
   ]
  },
  {
   "cell_type": "code",
   "execution_count": 10,
   "metadata": {},
   "outputs": [
    {
     "data": {
      "text/plain": [
       "['꼬꼬마',\n",
       " '한글',\n",
       " '형태소',\n",
       " '분석기',\n",
       " '는',\n",
       " 'Java',\n",
       " '라이브러리',\n",
       " '로써',\n",
       " 'jar',\n",
       " '파일',\n",
       " '형태',\n",
       " '로',\n",
       " '배포',\n",
       " '하',\n",
       " 'ㄴ다',\n",
       " '.',\n",
       " '사전',\n",
       " '을',\n",
       " '메모리',\n",
       " '에',\n",
       " '적재',\n",
       " '하',\n",
       " '기',\n",
       " '위하',\n",
       " 'ㄴ',\n",
       " '충분',\n",
       " '하',\n",
       " 'ㄴ',\n",
       " '힙',\n",
       " '메모리',\n",
       " '를',\n",
       " '지정',\n",
       " '하',\n",
       " '어',\n",
       " '주',\n",
       " '어야',\n",
       " '하',\n",
       " 'ㄴ다',\n",
       " '.',\n",
       " '따르',\n",
       " '아서',\n",
       " '512',\n",
       " \"''\",\n",
       " 'B',\n",
       " '이상',\n",
       " '의',\n",
       " '메모리',\n",
       " '를',\n",
       " '지정',\n",
       " '하',\n",
       " 'ㄹ',\n",
       " '것',\n",
       " '을',\n",
       " '권장',\n",
       " '하',\n",
       " 'ㄴ다',\n",
       " '.']"
      ]
     },
     "execution_count": 10,
     "metadata": {},
     "output_type": "execute_result"
    }
   ],
   "source": [
    "kkma.morphs(text)"
   ]
  },
  {
   "cell_type": "code",
   "execution_count": 11,
   "metadata": {},
   "outputs": [
    {
     "data": {
      "text/plain": [
       "['꼬꼬마',\n",
       " '한글',\n",
       " '형태소',\n",
       " '분석기',\n",
       " '라이브러리',\n",
       " '파일',\n",
       " '형태',\n",
       " '배포',\n",
       " '사전',\n",
       " '메모리',\n",
       " '적재',\n",
       " '힙',\n",
       " '힙메모리',\n",
       " '지정',\n",
       " '512',\n",
       " '이상',\n",
       " '권장']"
      ]
     },
     "execution_count": 11,
     "metadata": {},
     "output_type": "execute_result"
    }
   ],
   "source": [
    "kkma.nouns(text)"
   ]
  },
  {
   "cell_type": "code",
   "execution_count": 12,
   "metadata": {},
   "outputs": [
    {
     "data": {
      "text/plain": [
       "[('꼬꼬마', 'NNG'),\n",
       " ('한글', 'NNG'),\n",
       " ('형태소', 'NNG'),\n",
       " ('분석기', 'NNG'),\n",
       " ('는', 'JX'),\n",
       " ('Java', 'OL'),\n",
       " ('라이브러리', 'NNG'),\n",
       " ('로써', 'JKM'),\n",
       " ('jar', 'OL'),\n",
       " ('파일', 'NNG'),\n",
       " ('형태', 'NNG'),\n",
       " ('로', 'JKM'),\n",
       " ('배포', 'NNG'),\n",
       " ('하', 'XSV'),\n",
       " ('ㄴ다', 'EFN'),\n",
       " ('.', 'SF'),\n",
       " ('사전', 'NNG'),\n",
       " ('을', 'JKO'),\n",
       " ('메모리', 'NNG'),\n",
       " ('에', 'JKM'),\n",
       " ('적재', 'NNG'),\n",
       " ('하', 'XSV'),\n",
       " ('기', 'ETN'),\n",
       " ('위하', 'VV'),\n",
       " ('ㄴ', 'ETD'),\n",
       " ('충분', 'XR'),\n",
       " ('하', 'XSA'),\n",
       " ('ㄴ', 'ETD'),\n",
       " ('힙', 'NNG'),\n",
       " ('메모리', 'NNG'),\n",
       " ('를', 'JKO'),\n",
       " ('지정', 'NNG'),\n",
       " ('하', 'XSV'),\n",
       " ('어', 'ECS'),\n",
       " ('주', 'VXV'),\n",
       " ('어야', 'ECD'),\n",
       " ('하', 'VV'),\n",
       " ('ㄴ다', 'EFN'),\n",
       " ('.', 'SF'),\n",
       " ('따르', 'VV'),\n",
       " ('아서', 'ECD'),\n",
       " ('512', 'NR'),\n",
       " (\"''\", 'SW'),\n",
       " ('B', 'OL'),\n",
       " ('이상', 'NNG'),\n",
       " ('의', 'JKG'),\n",
       " ('메모리', 'NNG'),\n",
       " ('를', 'JKO'),\n",
       " ('지정', 'NNG'),\n",
       " ('하', 'XSV'),\n",
       " ('ㄹ', 'ETD'),\n",
       " ('것', 'NNB'),\n",
       " ('을', 'JKO'),\n",
       " ('권장', 'NNG'),\n",
       " ('하', 'XSV'),\n",
       " ('ㄴ다', 'EFN'),\n",
       " ('.', 'SF')]"
      ]
     },
     "execution_count": 12,
     "metadata": {},
     "output_type": "execute_result"
    }
   ],
   "source": [
    "kkma.pos(text)"
   ]
  },
  {
   "cell_type": "code",
   "execution_count": 13,
   "metadata": {},
   "outputs": [
    {
     "data": {
      "text/plain": [
       "['꼬꼬마 한글 형태소 분석기는 Java 라이브러리로써 jar 파일 형태로 배포한다.',\n",
       " '사전을 메모리에 적재하기 위한 충분한 힙 메모리를 지정해 주어야 한다.',\n",
       " \"따라서 512''B 이상의 메모리를 지정할 것을 권장한다.\"]"
      ]
     },
     "execution_count": 13,
     "metadata": {},
     "output_type": "execute_result"
    }
   ],
   "source": [
    "kkma.sentences(text)"
   ]
  },
  {
   "cell_type": "markdown",
   "metadata": {},
   "source": [
    "### <font color='blue'> Komoran </font>  "
   ]
  },
  {
   "cell_type": "code",
   "execution_count": 14,
   "metadata": {},
   "outputs": [],
   "source": [
    "text = '코모란도 오픈소스가 되었어요. 근데 메모리를 너무 먹네요ㅠㅠ'"
   ]
  },
  {
   "cell_type": "code",
   "execution_count": 15,
   "metadata": {},
   "outputs": [],
   "source": [
    "komoran = Komoran()"
   ]
  },
  {
   "cell_type": "code",
   "execution_count": 16,
   "metadata": {},
   "outputs": [
    {
     "data": {
      "text/plain": [
       "['코',\n",
       " '모란',\n",
       " '도',\n",
       " '오픈',\n",
       " '소스',\n",
       " '가',\n",
       " '되',\n",
       " '었',\n",
       " '어요',\n",
       " '.',\n",
       " '근데',\n",
       " '메모리',\n",
       " '를',\n",
       " '너무',\n",
       " '먹네요ㅠㅠ']"
      ]
     },
     "execution_count": 16,
     "metadata": {},
     "output_type": "execute_result"
    }
   ],
   "source": [
    "komoran.morphs(text)"
   ]
  },
  {
   "cell_type": "code",
   "execution_count": 17,
   "metadata": {},
   "outputs": [
    {
     "data": {
      "text/plain": [
       "['코', '모란', '오픈', '소스', '메모리']"
      ]
     },
     "execution_count": 17,
     "metadata": {},
     "output_type": "execute_result"
    }
   ],
   "source": [
    "komoran.nouns(text)"
   ]
  },
  {
   "cell_type": "code",
   "execution_count": 18,
   "metadata": {},
   "outputs": [
    {
     "data": {
      "text/plain": [
       "[('코', 'NNG'),\n",
       " ('모란', 'NNP'),\n",
       " ('도', 'JX'),\n",
       " ('오픈', 'NNP'),\n",
       " ('소스', 'NNP'),\n",
       " ('가', 'JKS'),\n",
       " ('되', 'VV'),\n",
       " ('었', 'EP'),\n",
       " ('어요', 'EF'),\n",
       " ('.', 'SF'),\n",
       " ('근데', 'MAJ'),\n",
       " ('메모리', 'NNP'),\n",
       " ('를', 'JKO'),\n",
       " ('너무', 'MAG'),\n",
       " ('먹네요ㅠㅠ', 'NA')]"
      ]
     },
     "execution_count": 18,
     "metadata": {},
     "output_type": "execute_result"
    }
   ],
   "source": [
    "komoran.pos(text)"
   ]
  },
  {
   "cell_type": "markdown",
   "metadata": {},
   "source": [
    "### <font color='blue'> Twitter → Okt </font>   "
   ]
  },
  {
   "cell_type": "code",
   "execution_count": 19,
   "metadata": {},
   "outputs": [],
   "source": [
    "message_to_sons = '''\n",
    "꿈을 날짜와 함께 적어 놓으면 그것은 목표가 되고, \n",
    "목표를 잘게 나누면 그것은 계획이 되며, \n",
    "그 계획을 실행에 옮기면 꿈은 실현되는 것이다.\n",
    "'''"
   ]
  },
  {
   "cell_type": "code",
   "execution_count": 20,
   "metadata": {},
   "outputs": [
    {
     "name": "stderr",
     "output_type": "stream",
     "text": [
      "C:\\Python\\anaconda3\\lib\\site-packages\\konlpy\\tag\\_okt.py:17: UserWarning: \"Twitter\" has changed to \"Okt\" since KoNLPy v0.4.5.\n",
      "  warn('\"Twitter\" has changed to \"Okt\" since KoNLPy v0.4.5.')\n"
     ]
    }
   ],
   "source": [
    "twitter = Twitter()"
   ]
  },
  {
   "cell_type": "code",
   "execution_count": 21,
   "metadata": {},
   "outputs": [
    {
     "data": {
      "text/plain": [
       "['\\n',\n",
       " '꿈',\n",
       " '을',\n",
       " '날짜',\n",
       " '와',\n",
       " '함께',\n",
       " '적어',\n",
       " '놓으면',\n",
       " '그것',\n",
       " '은',\n",
       " '목표',\n",
       " '가',\n",
       " '되고',\n",
       " ',',\n",
       " '목표',\n",
       " '를',\n",
       " '잘게',\n",
       " '나누면',\n",
       " '그것',\n",
       " '은',\n",
       " '계획',\n",
       " '이',\n",
       " '되며',\n",
       " ',',\n",
       " '그',\n",
       " '계획',\n",
       " '을',\n",
       " '실행',\n",
       " '에',\n",
       " '옮기면',\n",
       " '꿈',\n",
       " '은',\n",
       " '실현',\n",
       " '되는',\n",
       " '것',\n",
       " '이다',\n",
       " '.',\n",
       " '\\n']"
      ]
     },
     "execution_count": 21,
     "metadata": {},
     "output_type": "execute_result"
    }
   ],
   "source": [
    "twitter.morphs(message_to_sons)"
   ]
  },
  {
   "cell_type": "code",
   "execution_count": 22,
   "metadata": {},
   "outputs": [
    {
     "data": {
      "text/plain": [
       "['꿈', '날짜', '그것', '목표', '목표', '그것', '계획', '그', '계획', '실행', '꿈', '실현', '것']"
      ]
     },
     "execution_count": 22,
     "metadata": {},
     "output_type": "execute_result"
    }
   ],
   "source": [
    "twitter.nouns(message_to_sons)"
   ]
  },
  {
   "cell_type": "code",
   "execution_count": 23,
   "metadata": {},
   "outputs": [
    {
     "data": {
      "text/plain": [
       "['날짜', '그것', '목표', '계획', '그 계획', '실행', '실현', '실현되는 것']"
      ]
     },
     "execution_count": 23,
     "metadata": {},
     "output_type": "execute_result"
    }
   ],
   "source": [
    "twitter.phrases(message_to_sons)"
   ]
  },
  {
   "cell_type": "code",
   "execution_count": 24,
   "metadata": {},
   "outputs": [
    {
     "data": {
      "text/plain": [
       "[('\\n', 'Foreign'),\n",
       " ('꿈', 'Noun'),\n",
       " ('을', 'Josa'),\n",
       " ('날짜', 'Noun'),\n",
       " ('와', 'Josa'),\n",
       " ('함께', 'Adverb'),\n",
       " ('적어', 'Verb'),\n",
       " ('놓으면', 'Verb'),\n",
       " ('그것', 'Noun'),\n",
       " ('은', 'Josa'),\n",
       " ('목표', 'Noun'),\n",
       " ('가', 'Josa'),\n",
       " ('되고', 'Verb'),\n",
       " (',', 'Punctuation'),\n",
       " ('목표', 'Noun'),\n",
       " ('를', 'Josa'),\n",
       " ('잘게', 'Verb'),\n",
       " ('나누면', 'Verb'),\n",
       " ('그것', 'Noun'),\n",
       " ('은', 'Josa'),\n",
       " ('계획', 'Noun'),\n",
       " ('이', 'Josa'),\n",
       " ('되며', 'Verb'),\n",
       " (',', 'Punctuation'),\n",
       " ('그', 'Noun'),\n",
       " ('계획', 'Noun'),\n",
       " ('을', 'Josa'),\n",
       " ('실행', 'Noun'),\n",
       " ('에', 'Josa'),\n",
       " ('옮기면', 'Verb'),\n",
       " ('꿈', 'Noun'),\n",
       " ('은', 'Josa'),\n",
       " ('실현', 'Noun'),\n",
       " ('되는', 'Verb'),\n",
       " ('것', 'Noun'),\n",
       " ('이다', 'Josa'),\n",
       " ('.', 'Punctuation'),\n",
       " ('\\n', 'Foreign')]"
      ]
     },
     "execution_count": 24,
     "metadata": {},
     "output_type": "execute_result"
    }
   ],
   "source": [
    "twitter.pos(message_to_sons)"
   ]
  },
  {
   "cell_type": "code",
   "execution_count": 25,
   "metadata": {
    "scrolled": true
   },
   "outputs": [
    {
     "data": {
      "text/plain": [
       "[('\\n', 'Foreign'),\n",
       " ('꿈', 'Noun'),\n",
       " ('을', 'Josa'),\n",
       " ('날짜', 'Noun'),\n",
       " ('와', 'Josa'),\n",
       " ('함께', 'Adverb'),\n",
       " ('적다', 'Verb'),\n",
       " ('놓다', 'Verb'),\n",
       " ('그것', 'Noun'),\n",
       " ('은', 'Josa'),\n",
       " ('목표', 'Noun'),\n",
       " ('가', 'Josa'),\n",
       " ('되다', 'Verb'),\n",
       " (',', 'Punctuation'),\n",
       " ('목표', 'Noun'),\n",
       " ('를', 'Josa'),\n",
       " ('자다', 'Verb'),\n",
       " ('나누다', 'Verb'),\n",
       " ('그것', 'Noun'),\n",
       " ('은', 'Josa'),\n",
       " ('계획', 'Noun'),\n",
       " ('이', 'Josa'),\n",
       " ('되다', 'Verb'),\n",
       " (',', 'Punctuation'),\n",
       " ('그', 'Noun'),\n",
       " ('계획', 'Noun'),\n",
       " ('을', 'Josa'),\n",
       " ('실행', 'Noun'),\n",
       " ('에', 'Josa'),\n",
       " ('옮기다', 'Verb'),\n",
       " ('꿈', 'Noun'),\n",
       " ('은', 'Josa'),\n",
       " ('실현', 'Noun'),\n",
       " ('되다', 'Verb'),\n",
       " ('것', 'Noun'),\n",
       " ('이다', 'Josa'),\n",
       " ('.', 'Punctuation'),\n",
       " ('\\n', 'Foreign')]"
      ]
     },
     "execution_count": 25,
     "metadata": {},
     "output_type": "execute_result"
    }
   ],
   "source": [
    "# stem – If True, stem tokens.\n",
    "twitter.pos(message_to_sons, stem=True)"
   ]
  },
  {
   "cell_type": "code",
   "execution_count": 26,
   "metadata": {},
   "outputs": [
    {
     "name": "stdout",
     "output_type": "stream",
     "text": [
      " stem=False : ('적어', 'Verb') \n",
      " stem=True  : ('적다', 'Verb')    \t=> False \n",
      " ------------------------------\n",
      " stem=False : ('놓으면', 'Verb') \n",
      " stem=True  : ('놓다', 'Verb')    \t=> False \n",
      " ------------------------------\n",
      " stem=False : ('되고', 'Verb') \n",
      " stem=True  : ('되다', 'Verb')    \t=> False \n",
      " ------------------------------\n",
      " stem=False : ('잘게', 'Verb') \n",
      " stem=True  : ('자다', 'Verb')    \t=> False \n",
      " ------------------------------\n",
      " stem=False : ('나누면', 'Verb') \n",
      " stem=True  : ('나누다', 'Verb')    \t=> False \n",
      " ------------------------------\n",
      " stem=False : ('되며', 'Verb') \n",
      " stem=True  : ('되다', 'Verb')    \t=> False \n",
      " ------------------------------\n",
      " stem=False : ('옮기면', 'Verb') \n",
      " stem=True  : ('옮기다', 'Verb')    \t=> False \n",
      " ------------------------------\n",
      " stem=False : ('되는', 'Verb') \n",
      " stem=True  : ('되다', 'Verb')    \t=> False \n",
      " ------------------------------\n"
     ]
    }
   ],
   "source": [
    "for case_f, case_t in zip(twitter.pos(message_to_sons, stem=False), twitter.pos(message_to_sons, stem=True)):\n",
    "    is_compare = case_f[0] == case_t[0]\n",
    "    if not is_compare:\n",
    "        print(\" stem=False : {} \\n stem=True  : {}    \\t=> {} \\n {}\".format(case_f, case_t, is_compare, \"-\"*30))"
   ]
  },
  {
   "cell_type": "code",
   "execution_count": 27,
   "metadata": {
    "scrolled": true
   },
   "outputs": [
    {
     "data": {
      "text/plain": [
       "['\\n/Foreign',\n",
       " '꿈/Noun',\n",
       " '을/Josa',\n",
       " '날짜/Noun',\n",
       " '와/Josa',\n",
       " '함께/Adverb',\n",
       " '적어/Verb',\n",
       " '놓으면/Verb',\n",
       " '그것/Noun',\n",
       " '은/Josa',\n",
       " '목표/Noun',\n",
       " '가/Josa',\n",
       " '되고/Verb',\n",
       " ',/Punctuation',\n",
       " '목표/Noun',\n",
       " '를/Josa',\n",
       " '잘게/Verb',\n",
       " '나누면/Verb',\n",
       " '그것/Noun',\n",
       " '은/Josa',\n",
       " '계획/Noun',\n",
       " '이/Josa',\n",
       " '되며/Verb',\n",
       " ',/Punctuation',\n",
       " '그/Noun',\n",
       " '계획/Noun',\n",
       " '을/Josa',\n",
       " '실행/Noun',\n",
       " '에/Josa',\n",
       " '옮기면/Verb',\n",
       " '꿈/Noun',\n",
       " '은/Josa',\n",
       " '실현/Noun',\n",
       " '되는/Verb',\n",
       " '것/Noun',\n",
       " '이다/Josa',\n",
       " './Punctuation',\n",
       " '\\n/Foreign']"
      ]
     },
     "execution_count": 27,
     "metadata": {},
     "output_type": "execute_result"
    }
   ],
   "source": [
    "# returns joined sets of morph and tag\n",
    "twitter.pos(message_to_sons, join=True)"
   ]
  },
  {
   "cell_type": "markdown",
   "metadata": {},
   "source": [
    "<hr>\n",
    "<marquee><font size=3 color='brown'>The BigpyCraft find the information to design valuable society with Technology & Craft.</font></marquee>\n",
    "<div align='right'><font size=2 color='gray'> &lt; The End &gt; </font></div>"
   ]
  }
 ],
 "metadata": {
  "kernelspec": {
   "display_name": "Python 3 (ipykernel)",
   "language": "python",
   "name": "python3"
  },
  "language_info": {
   "codemirror_mode": {
    "name": "ipython",
    "version": 3
   },
   "file_extension": ".py",
   "mimetype": "text/x-python",
   "name": "python",
   "nbconvert_exporter": "python",
   "pygments_lexer": "ipython3",
   "version": "3.9.7"
  }
 },
 "nbformat": 4,
 "nbformat_minor": 1
}
