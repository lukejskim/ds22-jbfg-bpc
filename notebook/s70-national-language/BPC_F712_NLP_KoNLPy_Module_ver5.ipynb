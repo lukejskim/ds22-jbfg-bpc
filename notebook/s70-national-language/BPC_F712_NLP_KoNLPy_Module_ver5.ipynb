{
 "cells": [
  {
   "cell_type": "markdown",
   "metadata": {},
   "source": [
    "# Industry 4.0 의 중심, BigData"
   ]
  },
  {
   "cell_type": "markdown",
   "metadata": {},
   "source": [
    "<div align='right'><font size=2 color='gray'>Data Processing Based Python @ <font color='blue'><a href='https://www.facebook.com/jskim.kr'>FB / jskim.kr</a></font>, [김진수](bigpycraft@gmail.com)</font></div>\n",
    "<hr>"
   ]
  },
  {
   "cell_type": "markdown",
   "metadata": {},
   "source": [
    "## <font color='brown'>자연어 처리, NLP(Natural Language Processing) </font>"
   ]
  },
  {
   "cell_type": "markdown",
   "metadata": {},
   "source": [
    "### <font color='blue'>  KoNLPy 패키지 </font>\n",
    "> tag Package\n",
    "> * Hannanum Class\n",
    "> * Kkma Class\n",
    "> * Komoran Class\n",
    "> * Mecab Class\n",
    "> * Twitter Class  &nbsp;&nbsp;&nbsp;&nbsp;&nbsp; → &nbsp;&nbsp; Okt"
   ]
  },
  {
   "cell_type": "code",
   "execution_count": 1,
   "metadata": {},
   "outputs": [],
   "source": [
    "from IPython.display import Image as Show"
   ]
  },
  {
   "cell_type": "code",
   "execution_count": 2,
   "metadata": {},
   "outputs": [],
   "source": [
    "import platform\n",
    "\n",
    "import numpy as np\n",
    "import pandas as pd\n",
    "import matplotlib.pyplot as plt\n",
    "import seaborn as sns\n",
    "# sns.set()\n",
    "\n",
    "from matplotlib import font_manager, rc\n",
    "if platform.system() == 'Darwin':\n",
    "    rc('font', family='AppleGothic')\n",
    "elif platform.system() == 'Windows':\n",
    "    font_name = font_manager.FontProperties(fname=\"C:/Windows/Fonts/malgun.ttf\").get_name()\n",
    "    rc('font', family=font_name)\n",
    "else:\n",
    "    print(\"It's unknown system. Hangul fonts are not supported!\")\n",
    "    \n",
    "# plt.rcParams['axes.unicode_minus'] = False\n",
    "plt.rcParams[\"figure.figsize\"] = [12,6]\n",
    "\n",
    "%matplotlib inline"
   ]
  },
  {
   "cell_type": "markdown",
   "metadata": {
    "collapsed": true
   },
   "source": [
    "### <font color='blue'> 한글 자연어 처리 기초 </font>"
   ]
  },
  {
   "cell_type": "code",
   "execution_count": 3,
   "metadata": {},
   "outputs": [],
   "source": [
    "text_0 = u'한국어 분석을 시작합니다. 재미있어요'\n",
    "text_1 = u'나는 이제 너 없이도 너를 좋아할 수 있다.'\n",
    "text_2 = u'순간이 시간이 되고, 시간이 세월이 되고, 세월은 추억이 된다.'\n",
    "text_3 = u'''\n",
    "    자신의 능력을 감추지 마라. \n",
    "    재능은 쓰라고 주어진 것이다. \n",
    "    그늘속의 해시계가 무슨 소용이랴.'\n",
    "'''\n",
    "text_4 = u'''\n",
    "    If I only had an hour to chop down a tree, \n",
    "    I would spend the first 45 minutes sharpening my axe.\n",
    "    만일 내게 나무를 베기 위해 한 시간만 주어진다면, \n",
    "    우선 나는 도끼를 가는데 45분을 쓸 것이다.'\n",
    "    - 에이브러햄 링컨\n",
    "'''\n",
    "text_5 = u'''\n",
    "아름답지만 다소 복잡하기도한 한국어는 전세계에서 13번째로 많이 사용되는 언어입니다.\n",
    "KoNLPy는 파이썬 프로그래밍 언어로 사용할 수 있도록 만들어졌는데, \n",
    "그것은 파이썬이 간결하고 우아한 문법구조, 강력한 스트링 연산 기능을 가지고 있을 뿐 아니라 \n",
    "크롤링, 웹프로그래밍, 그리고 데이터 분석을 수행할 수 있는 다양한 패키지를 사용할 수 있는 언어이기 때문입니다.\n",
    "'''\n",
    "\n",
    "text_6 = u'''\n",
    "하늘아래 땅이있고 그위에 내가있으니\n",
    "어디인들 이내몸 둘곳이야 없으리\n",
    "하루해가 저문다고 울터이냐 그리도 내가 작더냐\n",
    "별이 지는 저 산넘어 내 그리 쉬어 가리라\n",
    "바람아 불어라 이내몸을 날려 주려마\n",
    "하늘아 구름아 내몸 실어 떠나 가련다\n",
    "\n",
    "해가지고 달이뜨고 그안에 내가숨쉬니\n",
    "어디인들 이내몸 갈곳이야 없으리\n",
    "작은것을 사랑하며 살터이다 친구를 사랑하리라\n",
    "말이없는 저들녘에 내님을 그려보련다\n",
    "바람아 불어라 이내몸을 날려주려마\n",
    "하늘아 구름아 내몸실어 떠나가련다\n",
    "바람아 불어라 이내몸을 날려주려마\n",
    "하늘아 구름아 내몸실어 떠나가련다\n",
    "'''\n",
    "\n",
    "cool_sentences = [ text_0, text_1, text_2, text_3, text_4, text_5, text_6 ]"
   ]
  },
  {
   "cell_type": "markdown",
   "metadata": {
    "collapsed": true
   },
   "source": [
    "### <font color='#CC0000'>Sentence Analysis </font>"
   ]
  },
  {
   "cell_type": "code",
   "execution_count": 4,
   "metadata": {},
   "outputs": [
    {
     "name": "stdout",
     "output_type": "stream",
     "text": [
      "하늘아래 땅이있고 그위에 내가있으니\n",
      "어디인들 이내몸 둘곳이야 없으리\n",
      "하루해가 저문다고 울터이냐 그리도 내가 작더냐\n",
      "별이 지는 저 산넘어 내 그리 쉬어 가리라\n",
      "바람아 불어라 이내몸을 날려 주려마\n",
      "하늘아 구름아 내몸 실어 떠나 가련다\n",
      "\n",
      "해가지고 달이뜨고 그안에 내가숨쉬니\n",
      "어디인들 이내몸 갈곳이야 없으리\n",
      "작은것을 사랑하며 살터이다 친구를 사랑하리라\n",
      "말이없는 저들녘에 내님을 그려보련다\n",
      "바람아 불어라 이내몸을 날려주려마\n",
      "하늘아 구름아 내몸실어 떠나가련다\n",
      "바람아 불어라 이내몸을 날려주려마\n",
      "하늘아 구름아 내몸실어 떠나가련다\n"
     ]
    }
   ],
   "source": [
    "selected_text = cool_sentences[-1]\n",
    "print(selected_text.strip())"
   ]
  },
  {
   "cell_type": "code",
   "execution_count": 5,
   "metadata": {},
   "outputs": [
    {
     "data": {
      "text/plain": [
       "'하늘아래 땅이있고 그위에 내가있으니 어디인들 이내몸 둘곳이야 없으리 하루해가 저문다고 울터이냐 그리도 내가 작더냐 별이 지는 저 산넘어 내 그리 쉬어 가리라 바람아 불어라 이내몸을 날려 주려마 하늘아 구름아 내몸 실어 떠나 가련다 해가지고 달이뜨고 그안에 내가숨쉬니 어디인들 이내몸 갈곳이야 없으리 작은것을 사랑하며 살터이다 친구를 사랑하리라 말이없는 저들녘에 내님을 그려보련다 바람아 불어라 이내몸을 날려주려마 하늘아 구름아 내몸실어 떠나가련다 바람아 불어라 이내몸을 날려주려마 하늘아 구름아 내몸실어 떠나가련다'"
      ]
     },
     "execution_count": 5,
     "metadata": {},
     "output_type": "execute_result"
    }
   ],
   "source": [
    "selected_text = selected_text.replace('\\n', ' ')\n",
    "selected_text = selected_text.replace('\\t', ' ')\n",
    "selected_text = selected_text.replace('  ', ' ')\n",
    "selected_text = selected_text.strip()\n",
    "selected_text"
   ]
  },
  {
   "cell_type": "code",
   "execution_count": 6,
   "metadata": {},
   "outputs": [
    {
     "name": "stdout",
     "output_type": "stream",
     "text": [
      "문자열 총 길이 : 287           \n",
      "문자열 총 길이 : 222 (공백제외)\n",
      "문자열 단어 수 : 66           \n"
     ]
    }
   ],
   "source": [
    "print('문자열 총 길이 : {}           '.format(len(selected_text)))\n",
    "print('문자열 총 길이 : {} (공백제외)'.format(len(selected_text.replace(' ',''))))\n",
    "print('문자열 단어 수 : {}           '.format(len(selected_text.split())))"
   ]
  },
  {
   "cell_type": "code",
   "execution_count": 7,
   "metadata": {},
   "outputs": [
    {
     "name": "stdout",
     "output_type": "stream",
     "text": [
      "문자열 단어 발생 빈도 \n"
     ]
    },
    {
     "data": {
      "text/plain": [
       "{'하늘아래': 1,\n",
       " '땅이있고': 1,\n",
       " '그위에': 1,\n",
       " '내가있으니': 1,\n",
       " '어디인들': 2,\n",
       " '이내몸': 2,\n",
       " '둘곳이야': 1,\n",
       " '없으리': 2,\n",
       " '하루해가': 1,\n",
       " '저문다고': 1,\n",
       " '울터이냐': 1,\n",
       " '그리도': 1,\n",
       " '내가': 1,\n",
       " '작더냐': 1,\n",
       " '별이': 1,\n",
       " '지는': 1,\n",
       " '저': 1,\n",
       " '산넘어': 1,\n",
       " '내': 1,\n",
       " '그리': 1,\n",
       " '쉬어': 1,\n",
       " '가리라': 1,\n",
       " '바람아': 3,\n",
       " '불어라': 3,\n",
       " '이내몸을': 3,\n",
       " '날려': 1,\n",
       " '주려마': 1,\n",
       " '하늘아': 3,\n",
       " '구름아': 3,\n",
       " '내몸': 1,\n",
       " '실어': 1,\n",
       " '떠나': 1,\n",
       " '가련다': 1,\n",
       " '해가지고': 1,\n",
       " '달이뜨고': 1,\n",
       " '그안에': 1,\n",
       " '내가숨쉬니': 1,\n",
       " '갈곳이야': 1,\n",
       " '작은것을': 1,\n",
       " '사랑하며': 1,\n",
       " '살터이다': 1,\n",
       " '친구를': 1,\n",
       " '사랑하리라': 1,\n",
       " '말이없는': 1,\n",
       " '저들녘에': 1,\n",
       " '내님을': 1,\n",
       " '그려보련다': 1,\n",
       " '날려주려마': 2,\n",
       " '내몸실어': 2,\n",
       " '떠나가련다': 2}"
      ]
     },
     "execution_count": 7,
     "metadata": {},
     "output_type": "execute_result"
    }
   ],
   "source": [
    "print('문자열 단어 발생 빈도 ')\n",
    "frequency = dict()\n",
    "\n",
    "for word in selected_text.split(' '):\n",
    "    if word in frequency:\n",
    "        frequency[word] += 1\n",
    "    else:\n",
    "        frequency[word] = 1\n",
    "        \n",
    "word = list(frequency.keys())\n",
    "word_cnt = list(frequency.values())\n",
    "\n",
    "frequency"
   ]
  },
  {
   "cell_type": "code",
   "execution_count": 8,
   "metadata": {},
   "outputs": [
    {
     "name": "stdout",
     "output_type": "stream",
     "text": [
      "1 하늘아래\n",
      "1 땅이있고\n",
      "1 그위에\n",
      "1 내가있으니\n",
      "1 둘곳이야\n",
      "1 하루해가\n",
      "1 저문다고\n",
      "1 울터이냐\n",
      "1 그리도\n",
      "1 내가\n",
      "1 작더냐\n",
      "1 별이\n",
      "1 지는\n",
      "1 저\n",
      "1 산넘어\n",
      "1 내\n",
      "1 그리\n",
      "1 쉬어\n",
      "1 가리라\n",
      "1 날려\n",
      "1 주려마\n",
      "1 내몸\n",
      "1 실어\n",
      "1 떠나\n",
      "1 가련다\n",
      "1 해가지고\n",
      "1 달이뜨고\n",
      "1 그안에\n",
      "1 내가숨쉬니\n",
      "1 갈곳이야\n",
      "1 작은것을\n",
      "1 사랑하며\n",
      "1 살터이다\n",
      "1 친구를\n",
      "1 사랑하리라\n",
      "1 말이없는\n",
      "1 저들녘에\n",
      "1 내님을\n",
      "1 그려보련다\n",
      "2 어디인들\n",
      "2 이내몸\n",
      "2 없으리\n",
      "2 날려주려마\n",
      "2 내몸실어\n",
      "2 떠나가련다\n",
      "3 바람아\n",
      "3 불어라\n",
      "3 이내몸을\n",
      "3 하늘아\n",
      "3 구름아\n"
     ]
    }
   ],
   "source": [
    "while bool(word):\n",
    "    m = min(word_cnt)\n",
    "    print(m, end=' ')\n",
    "    print(word.pop(word_cnt.index(m)))\n",
    "    # print(word.pop(word_cnt.index(m)), end=' : ')\n",
    "    # print(word)\n",
    "    word_cnt.remove(m)\n"
   ]
  },
  {
   "cell_type": "markdown",
   "metadata": {},
   "source": [
    "### <font color='#CC0000'> Performance Test </font>"
   ]
  },
  {
   "cell_type": "code",
   "execution_count": 9,
   "metadata": {},
   "outputs": [
    {
     "data": {
      "text/plain": [
       "'하늘아래 땅이있고 그위에 내가있으니 어디인들 이내몸 둘곳이야 없으리 하루해가 저문다고 울터이냐 그리도 내가 작더냐 별이 지는 저 산넘어 내 그리 쉬어 가리라 바람아 불어라 이내몸을 날려 주려마 하늘아 구름아 내몸 실어 떠나 가련다 해가지고 달이뜨고 그안에 내가숨쉬니 어디인들 이내몸 갈곳이야 없으리 작은것을 사랑하며 살터이다 친구를 사랑하리라 말이없는 저들녘에 내님을 그려보련다 바람아 불어라 이내몸을 날려주려마 하늘아 구름아 내몸실어 떠나가련다 바람아 불어라 이내몸을 날려주려마 하늘아 구름아 내몸실어 떠나가련다'"
      ]
     },
     "execution_count": 9,
     "metadata": {},
     "output_type": "execute_result"
    }
   ],
   "source": [
    "selected_text"
   ]
  },
  {
   "cell_type": "code",
   "execution_count": 10,
   "metadata": {},
   "outputs": [],
   "source": [
    "from konlpy.tag import Kkma\n",
    "from konlpy.tag import Hannanum\n",
    "from konlpy.tag import Twitter\n",
    "from konlpy.tag import Okt\n",
    "\n",
    "from datetime import datetime"
   ]
  },
  {
   "cell_type": "code",
   "execution_count": 11,
   "metadata": {},
   "outputs": [],
   "source": [
    "chk_times=  list()"
   ]
  },
  {
   "cell_type": "code",
   "execution_count": 12,
   "metadata": {},
   "outputs": [
    {
     "name": "stdout",
     "output_type": "stream",
     "text": [
      "총 계산 시간: 0:00:04.520729\n",
      "총 계산 시간: 4520ms\n"
     ]
    }
   ],
   "source": [
    "kkma = Kkma()\n",
    "\n",
    "start = datetime.now()\n",
    "kkma.pos(selected_text)\n",
    "end = datetime.now()\n",
    "\n",
    "elapsed = end - start\n",
    "print('총 계산 시간: ', end='');   print(elapsed)\n",
    "elapsed_ms = int(elapsed.total_seconds()*1000)\n",
    "print('총 계산 시간: %dms' %elapsed_ms)\n",
    "\n",
    "chk_times.append(elapsed_ms)"
   ]
  },
  {
   "cell_type": "code",
   "execution_count": 13,
   "metadata": {},
   "outputs": [
    {
     "name": "stdout",
     "output_type": "stream",
     "text": [
      "총 계산 시간: 0:00:00.540119\n",
      "총 계산 시간: 540ms\n"
     ]
    }
   ],
   "source": [
    "hannanum = Hannanum()\n",
    "\n",
    "start = datetime.now()\n",
    "hannanum.pos(selected_text)\n",
    "end = datetime.now()\n",
    "\n",
    "elapsed = end - start\n",
    "print('총 계산 시간: ', end='');   print(elapsed)\n",
    "elapsed_ms = int(elapsed.total_seconds()*1000)\n",
    "print('총 계산 시간: %dms' %elapsed_ms)\n",
    "\n",
    "chk_times.append(elapsed_ms)"
   ]
  },
  {
   "cell_type": "code",
   "execution_count": 14,
   "metadata": {},
   "outputs": [
    {
     "name": "stderr",
     "output_type": "stream",
     "text": [
      "C:\\Python\\anaconda3\\lib\\site-packages\\konlpy\\tag\\_okt.py:17: UserWarning: \"Twitter\" has changed to \"Okt\" since KoNLPy v0.4.5.\n",
      "  warn('\"Twitter\" has changed to \"Okt\" since KoNLPy v0.4.5.')\n"
     ]
    },
    {
     "name": "stdout",
     "output_type": "stream",
     "text": [
      "총 계산 시간: 0:00:02.937667\n",
      "총 계산 시간: 2937ms\n"
     ]
    }
   ],
   "source": [
    "t = Twitter()\n",
    "\n",
    "start = datetime.now()\n",
    "t.pos(selected_text)\n",
    "end = datetime.now()\n",
    "\n",
    "elapsed = end - start\n",
    "print('총 계산 시간: ', end='');   print(elapsed)\n",
    "elapsed_ms = int(elapsed.total_seconds()*1000)\n",
    "print('총 계산 시간: %dms' %elapsed_ms)\n",
    "\n",
    "chk_times.append(elapsed_ms)"
   ]
  },
  {
   "cell_type": "code",
   "execution_count": 15,
   "metadata": {},
   "outputs": [
    {
     "name": "stdout",
     "output_type": "stream",
     "text": [
      "총 계산 시간: 0:00:00.044010\n",
      "총 계산 시간: 44ms\n"
     ]
    }
   ],
   "source": [
    "okt = Okt()\n",
    "\n",
    "start = datetime.now()\n",
    "okt.pos(selected_text)\n",
    "end = datetime.now()\n",
    "\n",
    "elapsed = end - start\n",
    "print('총 계산 시간: ', end='');   print(elapsed)\n",
    "elapsed_ms = int(elapsed.total_seconds()*1000)\n",
    "print('총 계산 시간: %dms' %elapsed_ms)\n",
    "\n",
    "chk_times.append(elapsed_ms)"
   ]
  },
  {
   "cell_type": "code",
   "execution_count": 16,
   "metadata": {},
   "outputs": [],
   "source": [
    "import matplotlib.pyplot as plt"
   ]
  },
  {
   "cell_type": "code",
   "execution_count": 17,
   "metadata": {},
   "outputs": [
    {
     "data": {
      "image/png": "[encoded data removed]",
      "text/plain": [
       "<Figure size 720x288 with 1 Axes>"
      ]
     },
     "metadata": {
      "needs_background": "light"
     },
     "output_type": "display_data"
    }
   ],
   "source": [
    "t = range(len(chk_times))\n",
    "y = chk_times\n",
    "n = [ 'Kkma', 'Hannanum', 'Twitter', 'Okt']\n",
    "\n",
    "\n",
    "plt.figure(figsize=(10,4))\n",
    "plt.bar(t, y, color='g', width=0.3, label='elapsed time [ms]')\n",
    "plt.xlabel('KoNLPy Instance')\n",
    "plt.ylabel('Peromance ')\n",
    "plt.legend()\n",
    "plt.xticks(t,  n)\n",
    "plt.show()"
   ]
  },
  {
   "cell_type": "markdown",
   "metadata": {},
   "source": [
    "<hr>\n",
    "<marquee><font size=3 color='brown'>The BigpyCraft find the information to design valuable society with Technology & Craft.</font></marquee>\n",
    "<div align='right'><font size=2 color='gray'> &lt; The End &gt; </font></div>"
   ]
  }
 ],
 "metadata": {
  "kernelspec": {
   "display_name": "Python 3 (ipykernel)",
   "language": "python",
   "name": "python3"
  },
  "language_info": {
   "codemirror_mode": {
    "name": "ipython",
    "version": 3
   },
   "file_extension": ".py",
   "mimetype": "text/x-python",
   "name": "python",
   "nbconvert_exporter": "python",
   "pygments_lexer": "ipython3",
   "version": "3.9.7"
  }
 },
 "nbformat": 4,
 "nbformat_minor": 2
}
