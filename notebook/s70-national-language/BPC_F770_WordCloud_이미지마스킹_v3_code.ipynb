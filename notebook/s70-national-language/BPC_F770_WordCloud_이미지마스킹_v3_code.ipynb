{
 "cells": [
  {
   "cell_type": "markdown",
   "metadata": {},
   "source": [
    "# Industry 4.0 의 중심, BigData"
   ]
  },
  {
   "cell_type": "markdown",
   "metadata": {},
   "source": [
    "<div align='right'><font size=2 color='gray'>Data Processing Based Python @ <font color='blue'><a href='https://www.facebook.com/jskim.kr'>FB / jskim.kr</a></font>, [김진수](bigpycraft@gmail.com)</font></div>\n",
    "<hr>"
   ]
  },
  {
   "cell_type": "markdown",
   "metadata": {},
   "source": [
    "## <font color='brown'>워드클라우드 : 이미지마스킹 - 한글 버전 </font>"
   ]
  },
  {
   "cell_type": "markdown",
   "metadata": {},
   "source": [
    "#### Kkma 형태소분석기\n",
    "> from konlpy.tag import Kkma\n",
    "> - kkma.pos(phrase, flatten=True) : POS tagger\n",
    "> - kkma.sentences(phrase) : Sentence detection. 문장 검색\n",
    "> - kkma.nouns(phrase) : Noun extractor. 명사 추출기\n",
    "> - kkma.morphs(phrase) : Parse phrase to morphemes. 형태소 분석 문구\n",
    "> - kkma.tagset : dict <br> {'EC': '연결 어미', 'ECD': '의존적 연결 어미', 'ECE': '대등 연결 어미', 'ECS': '보조적 연결 어미', 'EF': '종결 어미', 'EFA':  <...> 체언 접두사', 'XPV': '용언 접두사', 'XR': '어근', 'XSA': '형용사 파생 접미사', 'XSN': '명사파생 접미사', 'XSV': '동사 파생 접미사'}"
   ]
  },
  {
   "cell_type": "code",
   "execution_count": null,
   "metadata": {},
   "outputs": [],
   "source": [
    "import nltk\n",
    "from konlpy.tag import Kkma"
   ]
  },
  {
   "cell_type": "code",
   "execution_count": null,
   "metadata": {},
   "outputs": [],
   "source": [
    "kkma = Kkma()"
   ]
  },
  {
   "cell_type": "raw",
   "metadata": {},
   "source": [
    "<!--\n",
    "text = '''\n",
    "    하늘아래 땅이있고 그위에 내가 있으니\n",
    "    어디인들 이 내몸 둘곳이야 없으리\n",
    "\n",
    "    하루해가 저문다고 울터이냐\n",
    "    그리도 내가 작더냐\n",
    "    별이지는 저 산너머\n",
    "    내 그리 쉬어가리라\n",
    "    바람아 불어라 이 내몸을 날려주려마\n",
    "    하늘아 구름아 내 몸 실어 떠나가련다\n",
    "\n",
    "    해가지고 달이뜨고 그안에 내가 숨쉬니\n",
    "    어디인들 이 내몸 갈 곳이야 없으리\n",
    "\n",
    "    작은것을 사랑하며 살 터이다\n",
    "    친구를 사랑하리라\n",
    "    말이없는 저 들녘에\n",
    "    내님을 그려보련다.\n",
    "\n",
    "    바람아 불어라 이내몸을 날려주려마\n",
    "    하늘아 구름아 내 몸 실어 떠나가련다\n",
    "    바람아 불어라 이 내몸을 날려주려마\n",
    "    하늘아 구름아 내 몸 실어 떠나가련다\n",
    "'''\n",
    "-->"
   ]
  },
  {
   "cell_type": "code",
   "execution_count": null,
   "metadata": {},
   "outputs": [],
   "source": [
    "text = \"\"\"\n",
    "유시민 항소이유서 중 네크라소프의 인용구입니다. \n",
    "슬픔도 노여움도 없이 살아가는 자는 조국을 사랑하고 있지 않다\n",
    "\"\"\""
   ]
  },
  {
   "cell_type": "code",
   "execution_count": null,
   "metadata": {},
   "outputs": [],
   "source": [
    "kkma.sentences(text)"
   ]
  },
  {
   "cell_type": "code",
   "execution_count": null,
   "metadata": {},
   "outputs": [],
   "source": [
    "kkma.nouns(text)"
   ]
  },
  {
   "cell_type": "code",
   "execution_count": null,
   "metadata": {},
   "outputs": [],
   "source": [
    "kkma.morphs(text)"
   ]
  },
  {
   "cell_type": "code",
   "execution_count": null,
   "metadata": {},
   "outputs": [],
   "source": [
    "kkma.pos(text)"
   ]
  },
  {
   "cell_type": "code",
   "execution_count": null,
   "metadata": {},
   "outputs": [],
   "source": [
    "kkma.pos(\"하이, 꼬꼬마 pos로 형태소 분석을 해보자.\")"
   ]
  },
  {
   "cell_type": "code",
   "execution_count": null,
   "metadata": {},
   "outputs": [],
   "source": [
    "text = '안녕하세요? 자연어처리 입문 과정입니다. 문장에서 명사를 빼어 보십시오. 명사만~'"
   ]
  },
  {
   "cell_type": "code",
   "execution_count": null,
   "metadata": {},
   "outputs": [],
   "source": [
    "kkma.nouns(text)"
   ]
  },
  {
   "cell_type": "code",
   "execution_count": null,
   "metadata": {},
   "outputs": [],
   "source": [
    "kkma.sentences(text)"
   ]
  },
  {
   "cell_type": "code",
   "execution_count": null,
   "metadata": {},
   "outputs": [],
   "source": [
    "kkma.pos(text)"
   ]
  },
  {
   "cell_type": "markdown",
   "metadata": {},
   "source": [
    "### <font color='brown'> 대한민국헌법 형태소분석 </font>\n",
    "> from konlpy.tag import Kkma"
   ]
  },
  {
   "cell_type": "code",
   "execution_count": null,
   "metadata": {},
   "outputs": [],
   "source": [
    "with open('wc_docu/대한민국헌법.txt') as fp:\n",
    "    text = fp.read()\n",
    "\n",
    "len(text)"
   ]
  },
  {
   "cell_type": "code",
   "execution_count": null,
   "metadata": {},
   "outputs": [],
   "source": [
    "text"
   ]
  },
  {
   "cell_type": "code",
   "execution_count": null,
   "metadata": {},
   "outputs": [],
   "source": [
    "txt_pos = kkma.pos(text)\n",
    "txt_pos"
   ]
  },
  {
   "cell_type": "code",
   "execution_count": null,
   "metadata": {},
   "outputs": [],
   "source": [
    "txt_nouns = kkma.nouns(text)\n",
    "txt_nouns"
   ]
  },
  {
   "cell_type": "code",
   "execution_count": null,
   "metadata": {},
   "outputs": [],
   "source": [
    "txt_morphs = kkma.morphs(text)\n",
    "txt_morphs"
   ]
  },
  {
   "cell_type": "code",
   "execution_count": null,
   "metadata": {},
   "outputs": [],
   "source": [
    "txt_sentences = kkma.sentences(text)\n",
    "txt_sentences"
   ]
  },
  {
   "cell_type": "code",
   "execution_count": null,
   "metadata": {},
   "outputs": [],
   "source": [
    "result = \"\"\"\n",
    "대한민국헌법 형태소분석 결과입니다. \n",
    "    - POS태그  \\t: {}개 \n",
    "    - 형태소   \\t: {}개 \n",
    "    - 명사갯수 \\t: {}개\n",
    "    - 문장갯수 \\t: {}개\n",
    " \"\"\".format(len(txt_pos), len(txt_morphs), len(txt_nouns), len(txt_sentences))\n",
    "print(result)"
   ]
  },
  {
   "cell_type": "markdown",
   "metadata": {},
   "source": [
    "### <font color='brown'>KoNLPy.tag : Twitter or Okt</font>"
   ]
  },
  {
   "cell_type": "markdown",
   "metadata": {},
   "source": [
    "#### Twitter 형태소분석기\n",
    "> from konlpy.tag import Twitter\n",
    "- twitter.jki(*args, **kwargs)\n",
    "- twitter.pos(phrase, norm=False, stem=False) : POS tagger\n",
    "- twitter.phrases(phrase) : Phrase extractor. 구문 추출기\n",
    "- twitter.nouns(phrase) : Noun extractor. 명사 추출기\n",
    "- twitter.morphs(phrase, norm=False, stem=False) : Parse phrase to morphemes. 형태소 분석 문구\n",
    "- twitter.tagset : dict <br> {'Adjective': '형용사', 'Adverb': '부사', 'Alpha': '알파벳', 'Conjunction': '접속사', 'Determiner': '관형사', ' <...>  'Punctuation': '구두점', 'ScreenName': '트위터 아이디', 'Suffix': '접미사', 'Unknown': '미등록어', 'Verb': '동사'}"
   ]
  },
  {
   "cell_type": "code",
   "execution_count": null,
   "metadata": {},
   "outputs": [],
   "source": [
    "# 대한민국 헌법 내장 데이터\n",
    "from konlpy.corpus import kolaw"
   ]
  },
  {
   "cell_type": "code",
   "execution_count": null,
   "metadata": {},
   "outputs": [],
   "source": [
    "from konlpy.tag import Okt"
   ]
  },
  {
   "cell_type": "code",
   "execution_count": null,
   "metadata": {},
   "outputs": [],
   "source": [
    "okt = Okt()"
   ]
  },
  {
   "cell_type": "code",
   "execution_count": null,
   "metadata": {},
   "outputs": [],
   "source": [
    "constitution = kolaw.open('constitution.txt').read()\n",
    "constitution[:1000]"
   ]
  },
  {
   "cell_type": "code",
   "execution_count": null,
   "metadata": {},
   "outputs": [],
   "source": [
    "# 트위터 형태소 분석 후 명사만 추출\n",
    "constitution_nouns = okt.nouns(constitution)\n",
    "len(constitution_nouns)"
   ]
  },
  {
   "cell_type": "code",
   "execution_count": null,
   "metadata": {},
   "outputs": [],
   "source": [
    "constitution_nouns[:10]"
   ]
  },
  {
   "cell_type": "code",
   "execution_count": null,
   "metadata": {},
   "outputs": [],
   "source": [
    "one_words = []\n",
    "tow_words = []\n",
    "etc_words = []\n",
    "\n",
    "for noun in constitution_nouns:\n",
    "    if len(noun) == 1:\n",
    "        one_words.append(noun)\n",
    "    elif len(noun) == 2:\n",
    "        tow_words.append(noun)\n",
    "    else:\n",
    "        etc_words.append(noun)\n",
    "        \n",
    "len(one_words), len(tow_words), len(etc_words)"
   ]
  },
  {
   "cell_type": "code",
   "execution_count": null,
   "metadata": {},
   "outputs": [],
   "source": [
    "one_words = list(set(one_words))\n",
    "tow_words = list(set(tow_words))\n",
    "etc_words = list(set(etc_words))\n",
    "\n",
    "len(one_words), len(tow_words), len(etc_words)"
   ]
  },
  {
   "cell_type": "code",
   "execution_count": null,
   "metadata": {},
   "outputs": [],
   "source": [
    "for word in one_words:\n",
    "    print(word, end='\\t')"
   ]
  },
  {
   "cell_type": "code",
   "execution_count": null,
   "metadata": {},
   "outputs": [],
   "source": [
    "stop_words = []\n",
    "# stop_words = ['제', '월', '일','조','수','때','그','이','바','및','안']\n",
    "stop_words.extend(one_words)\n",
    "len(stop_words)"
   ]
  },
  {
   "cell_type": "code",
   "execution_count": null,
   "metadata": {},
   "outputs": [],
   "source": [
    "# stop_words.index('법')\n",
    "# stop_words.remove('법')\n",
    "# len(stop_words)"
   ]
  },
  {
   "cell_type": "code",
   "execution_count": null,
   "metadata": {},
   "outputs": [],
   "source": [
    "# stop_words 빼기\n",
    "constitution_nouns = [ word for word in constitution_nouns if word not in stop_words ]\n",
    "len(constitution_nouns)"
   ]
  },
  {
   "cell_type": "code",
   "execution_count": null,
   "metadata": {},
   "outputs": [],
   "source": [
    "constitution_nouns[:10]"
   ]
  },
  {
   "cell_type": "code",
   "execution_count": null,
   "metadata": {},
   "outputs": [],
   "source": [
    "constitution  = nltk.Text(constitution_nouns, name='헌법')\n",
    "type(constitution), len(constitution)"
   ]
  },
  {
   "cell_type": "code",
   "execution_count": null,
   "metadata": {},
   "outputs": [],
   "source": [
    "# 상위 30개 수 \n",
    "constitution.vocab().most_common(30)"
   ]
  },
  {
   "cell_type": "markdown",
   "metadata": {},
   "source": [
    "### <font color='brown'>워드클라우드 한글폰트 설정</font>"
   ]
  },
  {
   "cell_type": "code",
   "execution_count": null,
   "metadata": {},
   "outputs": [],
   "source": [
    "from matplotlib import font_manager, rc\n",
    "\n",
    "font_name = font_manager.FontProperties(fname=\"C:/Windows/Fonts/malgun.ttf\").get_name()\n",
    "rc('font', family=font_name)"
   ]
  },
  {
   "cell_type": "code",
   "execution_count": null,
   "metadata": {},
   "outputs": [],
   "source": [
    "# nltk패키지를 통해 konlpy에서 뽑은 명사들 상위 500개 추출\n",
    "data = constitution.vocab().most_common(500)\n",
    "len(data)"
   ]
  },
  {
   "cell_type": "code",
   "execution_count": null,
   "metadata": {},
   "outputs": [],
   "source": [
    "data[:10]"
   ]
  },
  {
   "cell_type": "code",
   "execution_count": null,
   "metadata": {},
   "outputs": [],
   "source": [
    "# data를 딕셔너리 형태로 변환\n",
    "dict_data = dict(data)\n",
    "len(dict_data)"
   ]
  },
  {
   "cell_type": "code",
   "execution_count": null,
   "metadata": {},
   "outputs": [],
   "source": [
    "%matplotlib inline\n",
    "import matplotlib.pyplot as plt\n",
    "from wordcloud import WordCloud"
   ]
  },
  {
   "cell_type": "code",
   "execution_count": null,
   "metadata": {},
   "outputs": [],
   "source": [
    "wordcloud = WordCloud(font_path='C:/Windows/Fonts/malgun.ttf',\n",
    "                      background_color='white'\n",
    "                     ,relative_scaling =0.2).generate_from_frequencies(dict_data)"
   ]
  },
  {
   "cell_type": "code",
   "execution_count": null,
   "metadata": {},
   "outputs": [],
   "source": [
    "plt.figure(figsize=(20,12))\n",
    "plt.imshow(wordcloud)\n",
    "plt.axis('off')"
   ]
  },
  {
   "cell_type": "code",
   "execution_count": null,
   "metadata": {},
   "outputs": [],
   "source": [
    "params = {\n",
    "    \"width\"            : 800,\n",
    "    \"height\"           : 600,\n",
    "    \"min_font_size\"    : 2**3, \n",
    "    \"max_font_size\"    : 2**7, \n",
    "    \"max_words\"        : 100,\n",
    "    \"relative_scaling\" : 0.2,\n",
    "    # \"font_path\"        : 'C:/Windows/Fonts/malgun.ttf',\n",
    "    \"font_path\"        : 'C:/Windows/Fonts/HMFMMUEX.TTC',\n",
    "    \"background_color\" : 'white',\n",
    "}\n",
    "\n",
    "wordcolud = WordCloud(**params)\n",
    "# wordcolud = wordcolud.generate(text) \n",
    "wordcolud = wordcolud.generate_from_frequencies(dict_data) \n",
    "\n",
    "save_img = 'wordcloud/kor_constitution_1.png'\n",
    "\n",
    "plt.figure(figsize=(24,16))\n",
    "plt.imshow(wordcolud)\n",
    "plt.axis('off')\n",
    "plt.savefig(save_img)"
   ]
  },
  {
   "cell_type": "markdown",
   "metadata": {},
   "source": [
    "### <font color='brown'>사진+워드클라우드</font>"
   ]
  },
  {
   "cell_type": "code",
   "execution_count": null,
   "metadata": {},
   "outputs": [],
   "source": [
    "import numpy as np\n",
    "from PIL import Image\n",
    "from wordcloud import ImageColorGenerator"
   ]
  },
  {
   "cell_type": "code",
   "execution_count": null,
   "metadata": {},
   "outputs": [],
   "source": [
    "# 이미지파일 numpy로 읽기\n",
    "shape_img = np.array(Image.open('images/mask_ahn_palm.jpg'))\n",
    "cloud_img = ImageColorGenerator(shape_img)"
   ]
  },
  {
   "cell_type": "code",
   "execution_count": null,
   "metadata": {},
   "outputs": [],
   "source": [
    "plt.figure(figsize=(12,12))\n",
    "plt.imshow(shape_img)\n",
    "plt.axis('off')"
   ]
  },
  {
   "cell_type": "code",
   "execution_count": null,
   "metadata": {},
   "outputs": [],
   "source": [
    "wordcloud = WordCloud(font_path='C:/Windows/Fonts/malgun.ttf',\n",
    "                     relative_scaling = 0.2,\n",
    "                     mask = shape_img, \n",
    "                     background_color = 'white',\n",
    "                     min_font_size=1, max_font_size=40).generate_from_frequencies(dict_data)"
   ]
  },
  {
   "cell_type": "code",
   "execution_count": null,
   "metadata": {},
   "outputs": [],
   "source": [
    "save_img = 'wordcloud/kor_constitution_2.png'\n",
    "plt.figure(figsize=(12, 12))\n",
    "plt.imshow(wordcloud.recolor(color_func=cloud_img))\n",
    "plt.axis('off')\n",
    "plt.savefig(save_img)"
   ]
  },
  {
   "cell_type": "code",
   "execution_count": null,
   "metadata": {},
   "outputs": [],
   "source": [
    "shape_img = np.array(Image.open('images/mask_ahn_palm.jpg'))\n",
    "shape_img"
   ]
  },
  {
   "cell_type": "code",
   "execution_count": null,
   "metadata": {},
   "outputs": [],
   "source": [
    "shape_img = np.array(Image.open('images/mask_ahn_palm.jpg'))\n",
    "cloud_img = ImageColorGenerator(shape_img)\n",
    "\n",
    "params = {\n",
    "    \"width\"            : 300,\n",
    "    \"height\"           : 400, \n",
    "    \"max_words\"        : 100,\n",
    "    \"relative_scaling\" : 0.2,\n",
    "    \"background_color\" : 'white',\n",
    "    \"font_path\"        : 'C:/Windows/Fonts/malgun.ttf',\n",
    "    \"mask\"             :  shape_img, \n",
    "}\n",
    "\n",
    "wordcolud = WordCloud(**params)\n",
    "# wordcolud = wordcolud.generate(text) \n",
    "wordcolud = wordcolud.generate_from_frequencies(dict_data) \n",
    "\n",
    "save_img = 'wordcloud/kor_constitution_3.png'\n",
    "plt.figure(figsize=(20,20))\n",
    "plt.imshow(wordcloud.recolor(color_func=cloud_img))\n",
    "plt.axis('off')\n",
    "plt.savefig(save_img)"
   ]
  },
  {
   "cell_type": "markdown",
   "metadata": {},
   "source": [
    "<hr>"
   ]
  },
  {
   "cell_type": "markdown",
   "metadata": {},
   "source": [
    "### <font color='brown'>워드클라우드 실습</font>\n",
    "> \n",
    "- KoNLPy를 활용해서 워드클라우드 직접 작성해보기~^^"
   ]
  },
  {
   "cell_type": "code",
   "execution_count": null,
   "metadata": {},
   "outputs": [],
   "source": [
    "import nltk\n",
    "from konlpy.tag import Kkma"
   ]
  },
  {
   "cell_type": "code",
   "execution_count": null,
   "metadata": {},
   "outputs": [],
   "source": [
    "kkma = Kkma()"
   ]
  },
  {
   "cell_type": "code",
   "execution_count": null,
   "metadata": {},
   "outputs": [],
   "source": [
    "# text = open('./wc_docu/pyhthon_kakao_the_love.txt', encoding = 'UTF-8').read()\n",
    "with open('./wc_docu/pyhthon_kakao_the_love.txt', encoding = 'UTF-8') as fp:\n",
    "    text = fp.read()"
   ]
  },
  {
   "cell_type": "code",
   "execution_count": null,
   "metadata": {},
   "outputs": [],
   "source": [
    "kkma.pos(text)"
   ]
  },
  {
   "cell_type": "code",
   "execution_count": null,
   "metadata": {},
   "outputs": [],
   "source": [
    "kkma.nouns(text)"
   ]
  },
  {
   "cell_type": "code",
   "execution_count": null,
   "metadata": {},
   "outputs": [],
   "source": [
    "kakao_nouns = kkma.nouns(text)\n",
    "stop_words  = ['오후','오전','?','[', ']','(이모티콘)','님']\n",
    "kakao_nouns = [ word for word in kakao_nouns if word not in stop_words]\n",
    "kakao_nouns"
   ]
  },
  {
   "cell_type": "code",
   "execution_count": null,
   "metadata": {},
   "outputs": [],
   "source": []
  },
  {
   "cell_type": "code",
   "execution_count": null,
   "metadata": {},
   "outputs": [],
   "source": [
    "# from wordcloud import WordCloud\n",
    "import wordcloud\n",
    "import matplotlib.pyplot as plt"
   ]
  },
  {
   "cell_type": "code",
   "execution_count": null,
   "metadata": {},
   "outputs": [],
   "source": [
    "katalk  = nltk.Text(kakao_nouns)\n",
    "data = katalk.vocab().most_common(400)\n",
    "dict_data = dict(data)"
   ]
  },
  {
   "cell_type": "code",
   "execution_count": null,
   "metadata": {},
   "outputs": [],
   "source": [
    "wc_gen = wordcloud.WordCloud(font_path='C:/Windows/Fonts/malgun.ttf',\n",
    "                             relative_scaling =0.2, width=1600, height=900\n",
    "                            ).generate_from_frequencies(dict_data)\n",
    "plt.figure(figsize=(12,12))\n",
    "plt.imshow(wc_gen)\n",
    "plt.axis('off')\n",
    "plt.savefig('wordcloud/katalk_love.jpg')"
   ]
  },
  {
   "cell_type": "code",
   "execution_count": null,
   "metadata": {},
   "outputs": [],
   "source": [
    "wc_gen = wordcloud.WordCloud(font_path='C:/Windows/Fonts/malgun.ttf',\n",
    "                             relative_scaling =0.5, width=2000, height=2000\n",
    "                            ).generate_from_frequencies(dict_data)\n",
    "plt.figure(figsize=(20,20))\n",
    "plt.imshow(wc_gen)\n",
    "plt.axis('off')\n",
    "plt.savefig('wordcloud/katalk_love_2.jpg')"
   ]
  },
  {
   "cell_type": "code",
   "execution_count": null,
   "metadata": {},
   "outputs": [],
   "source": [
    "%matplotlib inline\n",
    "\n",
    "import matplotlib.pyplot as plt\n",
    "import numpy as np\n",
    "\n",
    "from PIL import Image\n",
    "from wordcloud import WordCloud\n",
    "from wordcloud import ImageColorGenerator"
   ]
  },
  {
   "cell_type": "code",
   "execution_count": null,
   "metadata": {},
   "outputs": [],
   "source": [
    "mask_heart  = np.array(Image.open('images/heart.jpg'))\n",
    "image_color = ImageColorGenerator(mask_heart)\n",
    "plt.figure(figsize=(12,12))\n",
    "plt.imshow(mask_heart)\n",
    "plt.axis('off')"
   ]
  },
  {
   "cell_type": "code",
   "execution_count": null,
   "metadata": {},
   "outputs": [],
   "source": [
    "wordcloud = WordCloud(font_path='C:/Windows/Fonts/malgun.ttf',\n",
    "                        relative_scaling = 0.2,\n",
    "                        mask = mask_heart, \n",
    "                        background_color = 'white',\n",
    "                        min_font_size=1, \n",
    "                        max_font_size=15, \n",
    "                        width=1600, \n",
    "                        height=900).generate_from_frequencies(dict_data)"
   ]
  },
  {
   "cell_type": "code",
   "execution_count": null,
   "metadata": {},
   "outputs": [],
   "source": [
    "plt.figure(figsize=(10,10))\n",
    "plt.imshow(wordcloud.recolor(color_func=image_color))\n",
    "plt.axis('off')\n",
    "plt.savefig('wordcloud/katalk_heart_1.png')\n"
   ]
  },
  {
   "cell_type": "code",
   "execution_count": null,
   "metadata": {},
   "outputs": [],
   "source": [
    "params = {\n",
    "    \"font_path\"         :'C:/Windows/Fonts/malgun.ttf',\n",
    "    \"relative_scaling\"  : 0.2,\n",
    "    \"mask\"              : mask_heart,\n",
    "    \"background_color\"  : 'pink',\n",
    "    \"max_words\"         : 200,\n",
    "    \"min_font_size\"     : 6,\n",
    "    \"max_font_size\"     : 24,\n",
    "    \"width\"             : 1200,\n",
    "    \"height\"            : 900,\n",
    "}\n",
    "\n",
    "wordcloud = WordCloud(**params).generate_from_frequencies(dict_data)\n",
    "\n",
    "plt.figure(figsize=(18,12))\n",
    "plt.imshow(wordcloud.recolor(color_func=image_color))\n",
    "plt.axis('off')\n",
    "plt.savefig('wordcloud/katalk_heart_2.png')"
   ]
  },
  {
   "cell_type": "markdown",
   "metadata": {
    "collapsed": true
   },
   "source": [
    "<hr>\n",
    "<marquee><font size=3 color='brown'>The BigpyCraft find the information to design valuable society with Technology & Craft.</font></marquee>\n",
    "<div align='right'><font size=2 color='gray'> &lt; The End &gt; </font></div>"
   ]
  }
 ],
 "metadata": {
  "kernelspec": {
   "display_name": "Python 3 (ipykernel)",
   "language": "python",
   "name": "python3"
  },
  "language_info": {
   "codemirror_mode": {
    "name": "ipython",
    "version": 3
   },
   "file_extension": ".py",
   "mimetype": "text/x-python",
   "name": "python",
   "nbconvert_exporter": "python",
   "pygments_lexer": "ipython3",
   "version": "3.9.7"
  }
 },
 "nbformat": 4,
 "nbformat_minor": 2
}
