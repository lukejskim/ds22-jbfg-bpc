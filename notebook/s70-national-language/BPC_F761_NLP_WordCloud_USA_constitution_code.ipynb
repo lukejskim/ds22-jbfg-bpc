{
 "cells": [
  {
   "cell_type": "markdown",
   "metadata": {},
   "source": [
    "# Industry 4.0 의 중심, BigData"
   ]
  },
  {
   "cell_type": "markdown",
   "metadata": {},
   "source": [
    "<div align='right'><font size=2 color='gray'>Data Processing Based Python @ <font color='blue'><a href='https://www.facebook.com/jskim.kr'>FB / jskim.kr</a></font>, [김진수](bigpycraft@gmail.com)</font></div>\n",
    "<hr>"
   ]
  },
  {
   "cell_type": "markdown",
   "metadata": {},
   "source": [
    "## <font color='brown'>워드클라우드 : English Version 1</font>"
   ]
  },
  {
   "cell_type": "markdown",
   "metadata": {},
   "source": [
    "### <font color='brown'>워드클라우드 : WordCloud for English </font>"
   ]
  },
  {
   "cell_type": "code",
   "execution_count": null,
   "metadata": {},
   "outputs": [],
   "source": [
    "%matplotlib inline\n",
    "\n",
    "import matplotlib.pyplot as plt\n",
    "from wordcloud import WordCloud"
   ]
  },
  {
   "cell_type": "markdown",
   "metadata": {},
   "source": [
    "### MatplotLib Colormaps\n",
    ">  color example code: colormaps_reference\n",
    "> - https://matplotlib.org/examples/color/colormaps_reference.html\n",
    "> - https://matplotlib.org/tutorials/colors/colormaps.html"
   ]
  },
  {
   "cell_type": "markdown",
   "metadata": {},
   "source": [
    "``` python\n",
    "# Have colormaps separated into categories:\n",
    "# http://matplotlib.org/examples/color/colormaps_reference.html\n",
    "\n",
    "cmaps = [('Perceptually Uniform Sequential', [\n",
    "            'viridis', 'plasma', 'inferno', 'magma']),\n",
    "         ('Sequential', [\n",
    "            'Greys', 'Purples', 'Blues', 'Greens', 'Oranges', 'Reds',\n",
    "            'YlOrBr', 'YlOrRd', 'OrRd', 'PuRd', 'RdPu', 'BuPu',\n",
    "            'GnBu', 'PuBu', 'YlGnBu', 'PuBuGn', 'BuGn', 'YlGn']),\n",
    "         ('Sequential (2)', [\n",
    "            'binary', 'gist_yarg', 'gist_gray', 'gray', 'bone', 'pink',\n",
    "            'spring', 'summer', 'autumn', 'winter', 'cool', 'Wistia',\n",
    "            'hot', 'afmhot', 'gist_heat', 'copper']),\n",
    "         ('Diverging', [\n",
    "            'PiYG', 'PRGn', 'BrBG', 'PuOr', 'RdGy', 'RdBu',\n",
    "            'RdYlBu', 'RdYlGn', 'Spectral', 'coolwarm', 'bwr', 'seismic']),\n",
    "         ('Qualitative', [\n",
    "            'Pastel1', 'Pastel2', 'Paired', 'Accent',\n",
    "            'Dark2', 'Set1', 'Set2', 'Set3',\n",
    "            'tab10', 'tab20', 'tab20b', 'tab20c']),\n",
    "         ('Miscellaneous', [\n",
    "            'flag', 'prism', 'ocean', 'gist_earth', 'terrain', 'gist_stern',\n",
    "            'gnuplot', 'gnuplot2', 'CMRmap', 'cubehelix', 'brg', 'hsv',\n",
    "            'gist_rainbow', 'rainbow', 'jet', 'nipy_spectral', 'gist_ncar'])]\n",
    "```"
   ]
  },
  {
   "cell_type": "markdown",
   "metadata": {},
   "source": [
    "### <font color='brown'>워드클라우드 : USA Constitution </font>"
   ]
  },
  {
   "cell_type": "code",
   "execution_count": null,
   "metadata": {},
   "outputs": [],
   "source": [
    "with open('wc_docu/constitution.txt') as fp:\n",
    "    text = fp.read()"
   ]
  },
  {
   "cell_type": "code",
   "execution_count": null,
   "metadata": {},
   "outputs": [],
   "source": [
    "len(text), text[:1000]"
   ]
  },
  {
   "cell_type": "markdown",
   "metadata": {},
   "source": [
    "<hr>\n",
    "\n",
    "``` python\n",
    "Init signature: WordCloud(font_path=None, width=400, height=200, margin=2, ranks_only=None, prefer_horizontal=0.9, mask=None, scale=1, color_func=None, max_words=200, min_font_size=4, stopwords=None, random_state=None, background_color='black', max_font_size=None, font_step=1, mode='RGB', relative_scaling=0.5, regexp=None, collocations=True, colormap=None, normalize_plurals=True)\n",
    "Docstring:     \n",
    "Word cloud object for generating and drawing.\n",
    "```"
   ]
  },
  {
   "cell_type": "code",
   "execution_count": null,
   "metadata": {},
   "outputs": [],
   "source": [
    "# WordCloud 자체가 형태소 분석하여 빈도수 계산\n",
    "wordcolud_1 = WordCloud().generate(text) \n",
    "type(wordcolud_1)"
   ]
  },
  {
   "cell_type": "code",
   "execution_count": null,
   "metadata": {},
   "outputs": [],
   "source": [
    "wordcolud_1.words_"
   ]
  },
  {
   "cell_type": "code",
   "execution_count": null,
   "metadata": {
    "scrolled": true
   },
   "outputs": [],
   "source": [
    "save_img = 'wordcloud/usa_constitution_1.png'\n",
    "\n",
    "plt.figure(figsize=(12,12))\n",
    "plt.imshow(wordcolud_1)\n",
    "plt.axis('off')\n",
    "plt.savefig(save_img)"
   ]
  },
  {
   "cell_type": "code",
   "execution_count": null,
   "metadata": {},
   "outputs": [],
   "source": [
    "# WordCloud 자체가 형태소 분석하여 빈도수 계산\n",
    "wordcolud_2 = WordCloud(width=800, height=600, background_color=\"purple\")\n",
    "wordcolud_2 = wordcolud_2.generate(text) \n",
    "type(wordcolud_2)"
   ]
  },
  {
   "cell_type": "code",
   "execution_count": null,
   "metadata": {},
   "outputs": [],
   "source": [
    "save_img = 'wordcloud/usa_constitution_2.png'\n",
    "\n",
    "plt.figure(figsize=(24,16))\n",
    "plt.imshow(wordcolud_2)\n",
    "plt.axis('on')\n",
    "plt.savefig(save_img)"
   ]
  },
  {
   "cell_type": "code",
   "execution_count": null,
   "metadata": {},
   "outputs": [],
   "source": [
    "# WordCloud 자체가 형태소 분석하여 빈도수 계산\n",
    "params = {\n",
    "    \"width\"  : 800,\n",
    "    \"height\" : 600, \n",
    "    \"max_words\" : 300,\n",
    "    \"colormap\"  : \"magma\", \n",
    "    \"background_color\" :\"orange\"\n",
    "}\n",
    "\n",
    "wordcolud_3 = WordCloud(**params)\n",
    "wordcolud_3 = wordcolud_3.generate(text) \n",
    "\n",
    "save_img = 'wordcloud/usa_constitution_3.png'\n",
    "plt.figure(figsize=(24,16))\n",
    "plt.imshow(wordcolud_3)\n",
    "plt.axis('off')\n",
    "plt.savefig(save_img)"
   ]
  },
  {
   "cell_type": "markdown",
   "metadata": {
    "collapsed": true
   },
   "source": [
    "<div align='center'><font size=5 color='orange'> To be coninued~~ ^^</font></div>"
   ]
  },
  {
   "cell_type": "markdown",
   "metadata": {
    "collapsed": true
   },
   "source": [
    "<hr>\n",
    "<marquee><font size=3 color='brown'>The BigpyCraft find the information to design valuable society with Technology & Craft.</font></marquee>\n",
    "<div align='right'><font size=2 color='gray'> &lt; The End &gt; </font></div>"
   ]
  }
 ],
 "metadata": {
  "kernelspec": {
   "display_name": "Python 3 (ipykernel)",
   "language": "python",
   "name": "python3"
  },
  "language_info": {
   "codemirror_mode": {
    "name": "ipython",
    "version": 3
   },
   "file_extension": ".py",
   "mimetype": "text/x-python",
   "name": "python",
   "nbconvert_exporter": "python",
   "pygments_lexer": "ipython3",
   "version": "3.9.7"
  }
 },
 "nbformat": 4,
 "nbformat_minor": 2
}
