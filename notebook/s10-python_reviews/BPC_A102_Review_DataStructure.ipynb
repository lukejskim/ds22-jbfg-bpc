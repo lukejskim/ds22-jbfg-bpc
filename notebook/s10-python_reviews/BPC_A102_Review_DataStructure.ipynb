{
 "cells": [
  {
   "cell_type": "markdown",
   "metadata": {
    "collapsed": true
   },
   "source": [
    "# Industry 4.0 의 중심, BigData"
   ]
  },
  {
   "cell_type": "markdown",
   "metadata": {},
   "source": [
    "<div align='right'><font size=2 color='gray'>Data Processing Based Python @ <font color='blue'><a href='https://www.facebook.com/jskim.kr'>FB / jskim.kr</a></font>, 김진수</font></div>\n",
    "<hr>"
   ]
  },
  {
   "cell_type": "markdown",
   "metadata": {},
   "source": [
    "# Python Review : 데이터구조형"
   ]
  },
  {
   "cell_type": "markdown",
   "metadata": {},
   "source": [
    "### <font color='brown'>  데이터 타입에 대한 이해가 중요 !!  </font>\n",
    ">  \n",
    "- 숫자형 : int, float\n",
    "- 문자형 : str\n",
    "- 논리형 : boolean\n",
    "- 구조형 : list, tuple, set, dict ==> 공통점:elements\n",
    "- None\n",
    "- function 도 하나의 데이터 타입이다."
   ]
  },
  {
   "cell_type": "markdown",
   "metadata": {
    "collapsed": true
   },
   "source": [
    "### <font color='brown'> Wrap-up\n",
    ">  \n",
    "- list : elements, order, duplicate \n",
    "- tuple : elements, order, duplicate, 변경 X\n",
    "- set : elements, order X, duplicate X\n",
    "- dict : elements, order X, key, value, key duplicate X"
   ]
  },
  {
   "cell_type": "markdown",
   "metadata": {},
   "source": [
    "### <font color='brown'>1. list - elements O, order O, duplicate O"
   ]
  },
  {
   "cell_type": "code",
   "execution_count": 1,
   "metadata": {},
   "outputs": [],
   "source": [
    "animals = [\"dog\", \"cat\", \"sheep\", \"duck\", \"cow\"]"
   ]
  },
  {
   "cell_type": "code",
   "execution_count": 2,
   "metadata": {},
   "outputs": [
    {
     "data": {
      "text/plain": [
       "'dog'"
      ]
     },
     "execution_count": 2,
     "metadata": {},
     "output_type": "execute_result"
    }
   ],
   "source": [
    "animals[0]"
   ]
  },
  {
   "cell_type": "code",
   "execution_count": 3,
   "metadata": {},
   "outputs": [
    {
     "data": {
      "text/plain": [
       "['cat', 'sheep', 'duck']"
      ]
     },
     "execution_count": 3,
     "metadata": {},
     "output_type": "execute_result"
    }
   ],
   "source": [
    "animals[1:4]"
   ]
  },
  {
   "cell_type": "code",
   "execution_count": 4,
   "metadata": {},
   "outputs": [
    {
     "data": {
      "text/plain": [
       "['dog', 'cat', 'sheep', 'duck', 'cow']"
      ]
     },
     "execution_count": 4,
     "metadata": {},
     "output_type": "execute_result"
    }
   ],
   "source": [
    "animals[:]"
   ]
  },
  {
   "cell_type": "code",
   "execution_count": 5,
   "metadata": {},
   "outputs": [
    {
     "data": {
      "text/plain": [
       "['dog', 'sheep', 'cow']"
      ]
     },
     "execution_count": 5,
     "metadata": {},
     "output_type": "execute_result"
    }
   ],
   "source": [
    "animals[::2]"
   ]
  },
  {
   "cell_type": "code",
   "execution_count": 6,
   "metadata": {},
   "outputs": [
    {
     "data": {
      "text/plain": [
       "'cow'"
      ]
     },
     "execution_count": 6,
     "metadata": {},
     "output_type": "execute_result"
    }
   ],
   "source": [
    "animals[-1]"
   ]
  },
  {
   "cell_type": "code",
   "execution_count": 7,
   "metadata": {},
   "outputs": [
    {
     "data": {
      "text/plain": [
       "['cow', 'duck', 'sheep', 'cat', 'dog']"
      ]
     },
     "execution_count": 7,
     "metadata": {},
     "output_type": "execute_result"
    }
   ],
   "source": [
    "animals[::-1]"
   ]
  },
  {
   "cell_type": "code",
   "execution_count": 8,
   "metadata": {},
   "outputs": [
    {
     "name": "stdout",
     "output_type": "stream",
     "text": [
      "dog\n",
      "cat\n",
      "sheep\n",
      "duck\n",
      "cow\n"
     ]
    }
   ],
   "source": [
    "for animal in animals:  \n",
    "    print(animal)"
   ]
  },
  {
   "cell_type": "code",
   "execution_count": 9,
   "metadata": {},
   "outputs": [
    {
     "name": "stdout",
     "output_type": "stream",
     "text": [
      "dog\n",
      "cat\n",
      "sheep\n",
      "duck\n",
      "cow\n"
     ]
    }
   ],
   "source": [
    "size = len(animals)\n",
    "for i in range(size):\n",
    "    animal = animals[i]\n",
    "    print(animal)"
   ]
  },
  {
   "cell_type": "markdown",
   "metadata": {},
   "source": [
    "### <font color='brown'>2. set (집합) - elements O, order X, duplicate X"
   ]
  },
  {
   "cell_type": "code",
   "execution_count": 10,
   "metadata": {},
   "outputs": [],
   "source": [
    "beast = set([\"lion\", \"tiger\", \"wolf\", \"tiger\", \"lion\" ])"
   ]
  },
  {
   "cell_type": "code",
   "execution_count": 11,
   "metadata": {},
   "outputs": [
    {
     "data": {
      "text/plain": [
       "{'lion', 'tiger', 'wolf'}"
      ]
     },
     "execution_count": 11,
     "metadata": {},
     "output_type": "execute_result"
    }
   ],
   "source": [
    "beast"
   ]
  },
  {
   "cell_type": "code",
   "execution_count": 12,
   "metadata": {},
   "outputs": [
    {
     "data": {
      "text/plain": [
       "{'a', 'b', 'c', 'd', 'r'}"
      ]
     },
     "execution_count": 12,
     "metadata": {},
     "output_type": "execute_result"
    }
   ],
   "source": [
    "data = set('abracadabra')\n",
    "data"
   ]
  },
  {
   "cell_type": "code",
   "execution_count": 13,
   "metadata": {},
   "outputs": [
    {
     "data": {
      "text/plain": [
       "['a', 'b', 'c', 'd', 'r']"
      ]
     },
     "execution_count": 13,
     "metadata": {},
     "output_type": "execute_result"
    }
   ],
   "source": [
    "data = sorted(data)\n",
    "data"
   ]
  },
  {
   "cell_type": "markdown",
   "metadata": {},
   "source": [
    "### <font color='brown'>3. dict - elements O,  (key, value) O "
   ]
  },
  {
   "cell_type": "code",
   "execution_count": 14,
   "metadata": {},
   "outputs": [],
   "source": [
    "customer = {\n",
    "    \"name\"    : \"김진수\",\n",
    "    'gender'  : '남자',\n",
    "    \"email\"   : \"bigpycraft@gmail.com\",\n",
    "    \"company\" : \"빅파이크래프트\",\n",
    "    \"address\" : \"서울시 노원구 월계로\"\n",
    "}"
   ]
  },
  {
   "cell_type": "code",
   "execution_count": 15,
   "metadata": {},
   "outputs": [
    {
     "data": {
      "text/plain": [
       "dict_keys(['name', 'gender', 'email', 'company', 'address'])"
      ]
     },
     "execution_count": 15,
     "metadata": {},
     "output_type": "execute_result"
    }
   ],
   "source": [
    "customer.keys()"
   ]
  },
  {
   "cell_type": "code",
   "execution_count": 16,
   "metadata": {},
   "outputs": [
    {
     "name": "stdout",
     "output_type": "stream",
     "text": [
      "name\n",
      "gender\n",
      "email\n",
      "company\n",
      "address\n"
     ]
    }
   ],
   "source": [
    "for something in customer:\n",
    "    print(something)    # key값"
   ]
  },
  {
   "cell_type": "code",
   "execution_count": 17,
   "metadata": {},
   "outputs": [
    {
     "name": "stdout",
     "output_type": "stream",
     "text": [
      "name ==> 김진수\n",
      "gender ==> 남자\n",
      "email ==> bigpycraft@gmail.com\n",
      "company ==> 빅파이크래프트\n",
      "address ==> 서울시 노원구 월계로\n"
     ]
    }
   ],
   "source": [
    "for key in customer:\n",
    "    value = customer[key]\n",
    "    print(\"%s ==> %s\" % (key, value))"
   ]
  },
  {
   "cell_type": "code",
   "execution_count": 18,
   "metadata": {},
   "outputs": [
    {
     "data": {
      "text/plain": [
       "'hello, 김진수'"
      ]
     },
     "execution_count": 18,
     "metadata": {},
     "output_type": "execute_result"
    }
   ],
   "source": [
    "# String Formatting\n",
    "\"%s, %s\" % (\"hello\", \"김진수\")\n",
    "\n",
    "# pros : 쉽다.\n",
    "# cons : 일단은 내부적으로 치환되는 부분(%) 이 있을때 복잡"
   ]
  },
  {
   "cell_type": "code",
   "execution_count": 19,
   "metadata": {},
   "outputs": [
    {
     "data": {
      "text/plain": [
       "'김진수: 안녕하세요, 김진수'"
      ]
     },
     "execution_count": 19,
     "metadata": {},
     "output_type": "execute_result"
    }
   ],
   "source": [
    "\"{name}: {greeting}, {name}\".format(\n",
    "    greeting = \"안녕하세요\",   # kwargs\n",
    "    name = \"김진수\"\n",
    ")"
   ]
  },
  {
   "cell_type": "code",
   "execution_count": 20,
   "metadata": {},
   "outputs": [
    {
     "name": "stdout",
     "output_type": "stream",
     "text": [
      "name 김진수\n",
      "gender 남자\n",
      "email bigpycraft@gmail.com\n",
      "company 빅파이크래프트\n",
      "address 서울시 노원구 월계로\n"
     ]
    }
   ],
   "source": [
    "for key, value in customer.items():\n",
    "    print(key, value)"
   ]
  },
  {
   "cell_type": "code",
   "execution_count": 21,
   "metadata": {},
   "outputs": [
    {
     "name": "stdout",
     "output_type": "stream",
     "text": [
      "('name', '김진수')\n",
      "('gender', '남자')\n",
      "('email', 'bigpycraft@gmail.com')\n",
      "('company', '빅파이크래프트')\n",
      "('address', '서울시 노원구 월계로')\n"
     ]
    }
   ],
   "source": [
    "for something in customer.items():\n",
    "    print(something)"
   ]
  },
  {
   "cell_type": "code",
   "execution_count": 22,
   "metadata": {},
   "outputs": [
    {
     "name": "stdout",
     "output_type": "stream",
     "text": [
      "name ==> 김진수\n",
      "gender ==> 남자\n",
      "email ==> bigpycraft@gmail.com\n",
      "company ==> 빅파이크래프트\n",
      "address ==> 서울시 노원구 월계로\n"
     ]
    }
   ],
   "source": [
    "for key, value in customer.items():\n",
    "    print(\"{key} ==> {value}\".format(\n",
    "        key   = key,\n",
    "        value = value,\n",
    "    ))"
   ]
  },
  {
   "cell_type": "code",
   "execution_count": 23,
   "metadata": {},
   "outputs": [
    {
     "name": "stdout",
     "output_type": "stream",
     "text": [
      "name     ==> 김진수\n",
      "gender   ==> 남자\n",
      "email    ==> bigpycraft@gmail.com\n",
      "company  ==> 빅파이크래프트\n",
      "address  ==> 서울시 노원구 월계로\n"
     ]
    }
   ],
   "source": [
    "for key, value in customer.items():\n",
    "    print(\"{key} {space} ==> {value}\".format(\n",
    "        key   = key,\n",
    "        space = ' '*(7-len(key)),\n",
    "        value = value,\n",
    "    ))"
   ]
  },
  {
   "cell_type": "code",
   "execution_count": 24,
   "metadata": {},
   "outputs": [
    {
     "data": {
      "text/plain": [
       "dict_items([('name', '김진수'), ('gender', '남자'), ('email', 'bigpycraft@gmail.com'), ('company', '빅파이크래프트'), ('address', '서울시 노원구 월계로')])"
      ]
     },
     "execution_count": 24,
     "metadata": {},
     "output_type": "execute_result"
    }
   ],
   "source": [
    "customer.items()"
   ]
  },
  {
   "cell_type": "markdown",
   "metadata": {},
   "source": [
    "### <font color='brown'>4. tuple - elements O, order O, duplicate O, 변경될 수 있는가? X\n",
    ">  \n",
    "- 변경되지 않는 자료형\n",
    "- 파이썬 내부적으로, 라이브러리 => dict!"
   ]
  },
  {
   "cell_type": "code",
   "execution_count": 25,
   "metadata": {},
   "outputs": [],
   "source": [
    "# 직사각형\n",
    "width = 100\n",
    "height = 200\n",
    "\n",
    "data = (100, 200)"
   ]
  },
  {
   "cell_type": "code",
   "execution_count": 26,
   "metadata": {},
   "outputs": [],
   "source": [
    "width, height = data    # data라고 하는 값 x"
   ]
  },
  {
   "cell_type": "code",
   "execution_count": 27,
   "metadata": {},
   "outputs": [],
   "source": [
    "def getArea(w, h):\n",
    "    area = w * h\n",
    "    return area"
   ]
  },
  {
   "cell_type": "code",
   "execution_count": 28,
   "metadata": {},
   "outputs": [
    {
     "data": {
      "text/plain": [
       "20000"
      ]
     },
     "execution_count": 28,
     "metadata": {},
     "output_type": "execute_result"
    }
   ],
   "source": [
    "area = getArea(*data)\n",
    "area"
   ]
  },
  {
   "cell_type": "markdown",
   "metadata": {},
   "source": [
    "<style type=\"text/css\">\n",
    "<!--\n",
    "hr {color:red;}\n",
    "//-->\n",
    "</style>\n",
    "\n",
    "<hr>\n",
    "<marquee><font size=3 color='brown'>The BigpyCraft find the information to design valuable society with Technology & Craft.</font></marquee>\n",
    "<div align='right'><font size=2 color='gray'> &lt; The End &gt; </font></div>"
   ]
  }
 ],
 "metadata": {
  "anaconda-cloud": {},
  "kernelspec": {
   "display_name": "Python 3",
   "language": "python",
   "name": "python3"
  },
  "language_info": {
   "codemirror_mode": {
    "name": "ipython",
    "version": 3
   },
   "file_extension": ".py",
   "mimetype": "text/x-python",
   "name": "python",
   "nbconvert_exporter": "python",
   "pygments_lexer": "ipython3",
   "version": "3.7.1"
  }
 },
 "nbformat": 4,
 "nbformat_minor": 2
}
