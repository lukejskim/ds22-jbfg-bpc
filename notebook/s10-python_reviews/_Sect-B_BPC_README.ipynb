{
 "cells": [
  {
   "cell_type": "markdown",
   "metadata": {
    "collapsed": true
   },
   "source": [
    "# Data Science Course for JBFG, 2022"
   ]
  },
  {
   "cell_type": "markdown",
   "metadata": {
    "collapsed": true
   },
   "source": [
    "<div align='right'><font size=2 color='gray'>Python For BigData @ <font color='blue'><a href='https://www.facebook.com/jskim.kr'>FB / jskim.kr</a></font>, [김진수](bigpycraft@gmail.com)</font></div>\n",
    "<hr>"
   ]
  },
  {
   "cell_type": "markdown",
   "metadata": {},
   "source": [
    "## JB Financial Group"
   ]
  },
  {
   "cell_type": "markdown",
   "metadata": {},
   "source": [
    "<img src=\"../images/img_main_front.png\">"
   ]
  },
  {
   "cell_type": "markdown",
   "metadata": {},
   "source": [
    "## Innovation Growth Intensive Training\n",
    "- <b>Python Programming Basics</b>\n",
    "- Python Packages and Modules\n",
    "- Data Processing and Analysis\n",
    "- Web Cralwling\n",
    "- Natural Language Processing\n",
    "- Machine Learning\n",
    "- Deep Learning\n",
    "\n",
    "<hr>"
   ]
  },
  {
   "cell_type": "markdown",
   "metadata": {},
   "source": [
    "## Python Programming Reviews"
   ]
  },
  {
   "cell_type": "markdown",
   "metadata": {},
   "source": [
    "- 1-1. [Review : Variable, DataType, Control         ][A1010]\n",
    "- 1-2. [Review : Data Structure                      ][A1020]\n",
    "- 1-3. [Review : Function Basic                      ][A1031]\n",
    "- 1-3. [Review : Function Refactoring                ][A1032]\n",
    "- 1-4. [Review : Lambda Function & Internal Function ][A1040]\n",
    "- 1-5. [Review : Class & Object                      ][A1052]\n",
    "- 1-6. [Review : Exceptions                          ][A1060]\n",
    "\n",
    "[A1010]:  https://htmlpreview.github.io/?https://github.com/bigpycraft/ds22-jbfg-mc/blob/master/notebook/html/BPC_A101_Review_DataType.html                      \"Go A1010\"\n",
    "[A1020]:  https://htmlpreview.github.io/?https://github.com/bigpycraft/ds22-jbfg-mc/blob/master/notebook/html/BPC_A102_Review_DataStructure.html                 \"Go A1020\"\n",
    "[A1031]:  https://htmlpreview.github.io/?https://github.com/bigpycraft/ds22-jbfg-mc/blob/master/notebook/html/BPC_A103_Review_Function1_Basic.html               \"Go A1031\"\n",
    "[A1032]:  https://htmlpreview.github.io/?https://github.com/bigpycraft/ds22-jbfg-mc/blob/master/notebook/html/BPC_A103_Review_Function2_Extension.html           \"Go A1032\"\n",
    "[A1040]:  https://htmlpreview.github.io/?https://github.com/bigpycraft/ds22-jbfg-mc/blob/master/notebook/html/BPC_A104_Lambda_Internal_Functiion.html            \"Go A1040\"\n",
    "[A1051]:  https://htmlpreview.github.io/?https://github.com/bigpycraft/ds22-jbfg-mc/blob/master/notebook/html/BPC_A105_Review_Class1_Basic.html                  \"Go A1051\"\n",
    "[A1052]:  https://htmlpreview.github.io/?https://github.com/bigpycraft/ds22-jbfg-mc/blob/master/notebook/html/BPC_A105_Review_Class2_OOP.html                    \"Go A1052\"\n",
    "[A1060]:  https://htmlpreview.github.io/?https://github.com/bigpycraft/ds22-jbfg-mc/blob/master/notebook/html/BPC_A106_Exceptions.html                           \"Go A1060\"\n"
   ]
  },
  {
   "cell_type": "markdown",
   "metadata": {},
   "source": [
    "<hr>\n",
    "<marquee><font size=3 color='brown'>The BigpyCraft find the information to design valuable society with Technology & Craft.</font></marquee>\n",
    "<div align='right'><font size=2 color='gray'> &lt; The End &gt; </font></div>"
   ]
  }
 ],
 "metadata": {
  "kernelspec": {
   "display_name": "Python 3 (ipykernel)",
   "language": "python",
   "name": "python3"
  },
  "language_info": {
   "codemirror_mode": {
    "name": "ipython",
    "version": 3
   },
   "file_extension": ".py",
   "mimetype": "text/x-python",
   "name": "python",
   "nbconvert_exporter": "python",
   "pygments_lexer": "ipython3",
   "version": "3.9.7"
  }
 },
 "nbformat": 4,
 "nbformat_minor": 2
}
