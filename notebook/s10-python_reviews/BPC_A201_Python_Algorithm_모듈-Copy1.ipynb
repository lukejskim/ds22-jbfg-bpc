{
 "cells": [
  {
   "cell_type": "markdown",
   "metadata": {},
   "source": [
    "# Industry 4.0 의 중심, BigData"
   ]
  },
  {
   "cell_type": "markdown",
   "metadata": {},
   "source": [
    "<div align='right'><font size=2 color='gray'>Data Processing Based Python @ <font color='blue'><a href='https://www.facebook.com/jskim.kr'>FB / jskim.kr</a></font>, 김진수</font></div>\n",
    "<hr>"
   ]
  },
  {
   "cell_type": "markdown",
   "metadata": {},
   "source": [
    "## <font color='brown'>알고리즘, Algorithm</font>\n",
    ">    \n",
    "- 원의 면적\n",
    "- 특정 날짜의 요일 계산"
   ]
  },
  {
   "cell_type": "markdown",
   "metadata": {},
   "source": [
    "### 원의 면적\n",
    ">  \n",
    "- area of circle = pi * radius^2"
   ]
  },
  {
   "cell_type": "code",
   "execution_count": 1,
   "metadata": {},
   "outputs": [],
   "source": [
    "import math"
   ]
  },
  {
   "cell_type": "code",
   "execution_count": 2,
   "metadata": {},
   "outputs": [
    {
     "data": {
      "text/plain": [
       "3.141592653589793"
      ]
     },
     "execution_count": 2,
     "metadata": {},
     "output_type": "execute_result"
    }
   ],
   "source": [
    "math.pi"
   ]
  },
  {
   "cell_type": "code",
   "execution_count": 3,
   "metadata": {},
   "outputs": [
    {
     "data": {
      "text/plain": [
       "3.14"
      ]
     },
     "execution_count": 3,
     "metadata": {},
     "output_type": "execute_result"
    }
   ],
   "source": [
    "PI = round(math.pi, 2)\n",
    "PI"
   ]
  },
  {
   "cell_type": "code",
   "execution_count": 4,
   "metadata": {},
   "outputs": [],
   "source": [
    "# ?round\n",
    "# help(round)"
   ]
  },
  {
   "cell_type": "code",
   "execution_count": 5,
   "metadata": {},
   "outputs": [],
   "source": [
    "def get_circle_area(radius: int)  -> float:\n",
    "    PI = round(math.pi, 2)\n",
    "    area = PI * radius**2\n",
    "    return area"
   ]
  },
  {
   "cell_type": "code",
   "execution_count": 6,
   "metadata": {},
   "outputs": [
    {
     "data": {
      "text/plain": [
       "'반지름이 5미터인 원의 면적은 78.5제곱미터 입니다.'"
      ]
     },
     "execution_count": 6,
     "metadata": {},
     "output_type": "execute_result"
    }
   ],
   "source": [
    "radius   = 5\n",
    "area = get_circle_area(radius)\n",
    "\n",
    "\"반지름이 {}미터인 원의 면적은 {}제곱미터 입니다.\".format(radius, area)"
   ]
  },
  {
   "cell_type": "code",
   "execution_count": null,
   "metadata": {},
   "outputs": [],
   "source": []
  },
  {
   "cell_type": "markdown",
   "metadata": {},
   "source": [
    "### 특정 날짜의 요일 계산\n",
    ">  \n",
    "- 날짜 차이 계산\n",
    "- 미래 요일 계산\n",
    "- 특정 일자의 요일 계산"
   ]
  },
  {
   "cell_type": "code",
   "execution_count": 7,
   "metadata": {},
   "outputs": [],
   "source": [
    "# 날짜 차이 계산\n",
    "def day_difference(day1:int, day2:int)-> int:\n",
    "    diff =   day1 - day2\n",
    "    return abs(diff)"
   ]
  },
  {
   "cell_type": "code",
   "execution_count": 8,
   "metadata": {},
   "outputs": [
    {
     "data": {
      "text/plain": [
       "70"
      ]
     },
     "execution_count": 8,
     "metadata": {},
     "output_type": "execute_result"
    }
   ],
   "source": [
    "day_difference(50,120)"
   ]
  },
  {
   "cell_type": "code",
   "execution_count": 9,
   "metadata": {},
   "outputs": [],
   "source": [
    "# 미래 요일 계산\n",
    "def get_weekday(current_weekday: int, days_ahead: int) -> int:\n",
    "    '''\n",
    "        current_weekday에서 days_ahead만큼 지나면 무슨 요일인지 반환\n",
    "    '''\n",
    "    days_kr = list('일월화수목금토')\n",
    "    day_idx = (days_ahead - current_weekday) % 7\n",
    "    return day_idx, days_kr[day_idx]"
   ]
  },
  {
   "cell_type": "code",
   "execution_count": 10,
   "metadata": {},
   "outputs": [
    {
     "data": {
      "text/plain": [
       "['일', '월', '화', '수', '목', '금', '토']"
      ]
     },
     "execution_count": 10,
     "metadata": {},
     "output_type": "execute_result"
    }
   ],
   "source": [
    "days_kr = list('일월화수목금토')\n",
    "days_kr"
   ]
  },
  {
   "cell_type": "code",
   "execution_count": 11,
   "metadata": {},
   "outputs": [
    {
     "data": {
      "text/plain": [
       "(1, '월')"
      ]
     },
     "execution_count": 11,
     "metadata": {},
     "output_type": "execute_result"
    }
   ],
   "source": [
    "get_weekday(0, 8)"
   ]
  },
  {
   "cell_type": "code",
   "execution_count": 12,
   "metadata": {},
   "outputs": [],
   "source": [
    "# 특정일자의 요일 계산\n",
    "def date_difference(cur_date: int, *arr_date: int) -> int:\n",
    "    '''\n",
    "        cur_date에서 남은 날짜까지의 달수 dates을 통한 남은 날짜 차이 계산\n",
    "    '''\n",
    "    # sum_date = sum(arr_date)\n",
    "    sum_date = int()\n",
    "    for date in arr_date:\n",
    "        sum_date += date\n",
    "    \n",
    "    remain_date = sum_date - cur_date\n",
    "    return remain_date\n"
   ]
  },
  {
   "cell_type": "code",
   "execution_count": 13,
   "metadata": {},
   "outputs": [
    {
     "data": {
      "text/plain": [
       "216"
      ]
     },
     "execution_count": 13,
     "metadata": {},
     "output_type": "execute_result"
    }
   ],
   "source": [
    "cur_date = 23\n",
    "arr_date = 31, 30, 31, 31, 30, 31, 30, 25\n",
    "remain_date = date_difference(cur_date, *arr_date)\n",
    "remain_date"
   ]
  },
  {
   "cell_type": "code",
   "execution_count": 14,
   "metadata": {},
   "outputs": [
    {
     "data": {
      "text/plain": [
       "{'일': 0, '월': 1, '화': 2, '수': 3, '목': 4, '금': 5, '토': 6}"
      ]
     },
     "execution_count": 14,
     "metadata": {},
     "output_type": "execute_result"
    }
   ],
   "source": [
    "days_idx = dict()\n",
    "days_kr = list('일월화수목금토')\n",
    "\n",
    "for idx in range(len(days_kr)):\n",
    "    days_idx[days_kr[idx]] = idx\n",
    "    \n",
    "days_idx"
   ]
  },
  {
   "cell_type": "code",
   "execution_count": 15,
   "metadata": {},
   "outputs": [],
   "source": [
    "def calcurate_date(cur_day, cur_date, *arr_date):\n",
    "    day_idx = days_idx[cur_day]\n",
    "    \n",
    "    remain_date = date_difference(cur_date, *arr_date)\n",
    "    \n",
    "    f_day_idx =(day_idx + remain_date) % 7\n",
    "    f_day_kr  = days_kr[f_day_idx]\n",
    "    \n",
    "    return f_day_kr, remain_date"
   ]
  },
  {
   "cell_type": "code",
   "execution_count": 16,
   "metadata": {},
   "outputs": [
    {
     "data": {
      "text/plain": [
       "'올해의 크리스마스는 일요일이고, 앞으로 216일 남았습니다.'"
      ]
     },
     "execution_count": 16,
     "metadata": {},
     "output_type": "execute_result"
    }
   ],
   "source": [
    "cur_day  = '월'  # 오늘요일\n",
    "cur_date = 23    # 오늘날짜\n",
    "arr_date = 31, 30, 31, 31, 30, 31, 30, 25   # 크리스마스까지 남은 날짜들\n",
    "\n",
    "f_day_kr, remain_date = calcurate_date(cur_day, cur_date, *arr_date)\n",
    "\n",
    "\"올해의 크리스마스는 {}요일이고, 앞으로 {}일 남았습니다.\".format(f_day_kr, remain_date)"
   ]
  },
  {
   "cell_type": "markdown",
   "metadata": {},
   "source": [
    "<hr>\n",
    "<marquee><font size=3 color='brown'>The BigpyCraft find the information to design valuable society with Technology & Craft.</font></marquee>\n",
    "<div align='right'><font size=2 color='gray'> &lt; The End &gt; </font></div>"
   ]
  }
 ],
 "metadata": {
  "kernelspec": {
   "display_name": "Python 3 (ipykernel)",
   "language": "python",
   "name": "python3"
  },
  "language_info": {
   "codemirror_mode": {
    "name": "ipython",
    "version": 3
   },
   "file_extension": ".py",
   "mimetype": "text/x-python",
   "name": "python",
   "nbconvert_exporter": "python",
   "pygments_lexer": "ipython3",
   "version": "3.9.7"
  }
 },
 "nbformat": 4,
 "nbformat_minor": 2
}
