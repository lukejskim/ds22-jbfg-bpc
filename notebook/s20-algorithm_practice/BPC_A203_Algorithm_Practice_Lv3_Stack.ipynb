{
 "cells": [
  {
   "cell_type": "markdown",
   "metadata": {},
   "source": [
    "# Industry 4.0 의 중심, BigData"
   ]
  },
  {
   "cell_type": "markdown",
   "metadata": {},
   "source": [
    "<div align='right'><font size=2 color='gray'>Data Processing Based Python @ <font color='blue'><a href='https://www.facebook.com/jskim.kr'>FB / jskim.kr</a></font>, 김진수</font></div>\n",
    "<hr>"
   ]
  },
  {
   "cell_type": "markdown",
   "metadata": {},
   "source": [
    "## <font color='brown'>알고리즘, Algorithm</font>\n",
    ">    \n",
    "- 피보나치 함수\n",
    "- 자료구조 - **스택(Stack)**\n",
    "- 자료구조 - 큐(Queue)"
   ]
  },
  {
   "cell_type": "raw",
   "metadata": {},
   "source": [
    "<!--\n",
    "from images.util import Figure as _Figure_\n",
    "-->"
   ]
  },
  {
   "cell_type": "code",
   "execution_count": 1,
   "metadata": {},
   "outputs": [],
   "source": [
    "# 파이썬 알고리즘 실습\n",
    "from images.util import Figure as _Figure_"
   ]
  },
  {
   "cell_type": "markdown",
   "metadata": {},
   "source": [
    "### 자료구조 - 스택(Stack)\n",
    "> 파이썬으로 구현한 스택 자료구조\n",
    "- 스택은 push와 pop이라는 기능을 가지고 있습니다.\n",
    "- 스택 자료구조는 말 그대로, 쌓아 올리는 것과 같은 자료구조입니다.\n",
    "- 즉, push은 item을 쌓아올리는 기능이고, pop은 쌓여져 있는 item에서 제일 위의 것을 꺼내는 작업입니다.\n",
    "- 따라서 스택 자료구조는 Last In First Out(LIFO) 와 같은 특성을 가지고 있습니다.\n"
   ]
  },
  {
   "cell_type": "code",
   "execution_count": 2,
   "metadata": {},
   "outputs": [
    {
     "data": {
      "image/png": "[encoded data removed]",
      "text/plain": [
       "<IPython.core.display.Image object>"
      ]
     },
     "execution_count": 2,
     "metadata": {},
     "output_type": "execute_result"
    }
   ],
   "source": [
    "_Figure_(\"스택\")"
   ]
  },
  {
   "cell_type": "markdown",
   "metadata": {},
   "source": [
    "##### 스택 구현\n",
    "- 클래스로 스택(Stack)객체를 만들고, \n",
    "- push와 pop기능을 구현하고 \n",
    "- 해당 스택이 비어있는지 확인하는 isEmpty기능까지 구현합니다.\n",
    "- 또한 스택이 비어있을때 pop기능을 시도하면 에러메세지를 출력하며 False 값을 리턴하게 하겠습니다.\n"
   ]
  },
  {
   "cell_type": "markdown",
   "metadata": {},
   "source": [
    "### <font color='blue'>Quiz. </font>"
   ]
  },
  {
   "cell_type": "code",
   "execution_count": 3,
   "metadata": {},
   "outputs": [],
   "source": [
    "class Stack:\n",
    "    \n",
    "    def __init__(self):\n",
    "        self.stack_items=[]\n",
    "\n",
    "    def pop(self):\n",
    "        # pop 기능 구현\n",
    "        pass\n",
    "\n",
    "    def push(self,x):\n",
    "        # push 기능 구현\n",
    "        pass\n",
    "\n",
    "    def is_empty(self):\n",
    "        # isEmpty 기능 구현\n",
    "        pass\n",
    "\n",
    "    def chk_stack(self):\n",
    "        print(\"Stack = {}\".format(self.stack_items))\n",
    "        "
   ]
  },
  {
   "cell_type": "markdown",
   "metadata": {},
   "source": [
    "### <font color='blue'>Best Practice. </font>"
   ]
  },
  {
   "cell_type": "code",
   "execution_count": 4,
   "metadata": {},
   "outputs": [],
   "source": [
    "class Stack:\n",
    "    \n",
    "    def __init__(self):\n",
    "        self.stack_items = []\n",
    "\n",
    "    # pop 기능 구현\n",
    "    def pop(self):\n",
    "        item_length = len(self.stack_items)\n",
    "\n",
    "        # 스택이 비어있을때는 에러메세지 출력\n",
    "        if item_length < 1:\n",
    "            print(\"Stack is empty!\")\n",
    "            return False\n",
    "\n",
    "        # 가장 위에 있는 item을 반환하며 삭제\n",
    "        result = self.stack_items[item_length - 1]\n",
    "        del self.stack_items[item_length - 1]\n",
    "        return result\n",
    "\n",
    "    # push 기능 구현\n",
    "    def push(self, x):\n",
    "        self.stack_items.append(x)\n",
    "\n",
    "    # is_empty 기능 구현\n",
    "    def is_empty(self):\n",
    "        return not self.stack_items\n",
    "    \n",
    "    # stack 체크 구현\n",
    "    def chk_state(self):\n",
    "        print(\"Stack = {}\".format(self.stack_items))\n",
    "\n"
   ]
  },
  {
   "cell_type": "markdown",
   "metadata": {},
   "source": [
    "### <font color='blue'>Execution Result</font>"
   ]
  },
  {
   "cell_type": "markdown",
   "metadata": {},
   "source": [
    "- execution 1"
   ]
  },
  {
   "cell_type": "code",
   "execution_count": 5,
   "metadata": {},
   "outputs": [
    {
     "name": "stdout",
     "output_type": "stream",
     "text": [
      "Stack = []\n"
     ]
    }
   ],
   "source": [
    "stack = Stack()\n",
    "stack.chk_state()"
   ]
  },
  {
   "cell_type": "code",
   "execution_count": 6,
   "metadata": {},
   "outputs": [
    {
     "data": {
      "text/plain": [
       "True"
      ]
     },
     "execution_count": 6,
     "metadata": {},
     "output_type": "execute_result"
    }
   ],
   "source": [
    "# print(\"is_empty() = {}\".format(stack.is_empty()))\n",
    "stack.is_empty()"
   ]
  },
  {
   "cell_type": "code",
   "execution_count": 7,
   "metadata": {},
   "outputs": [
    {
     "name": "stdout",
     "output_type": "stream",
     "text": [
      "Stack = [1]\n"
     ]
    }
   ],
   "source": [
    "stack.push(1)\n",
    "stack.chk_state()"
   ]
  },
  {
   "cell_type": "code",
   "execution_count": 8,
   "metadata": {},
   "outputs": [
    {
     "data": {
      "text/plain": [
       "False"
      ]
     },
     "execution_count": 8,
     "metadata": {},
     "output_type": "execute_result"
    }
   ],
   "source": [
    "stack.is_empty()"
   ]
  },
  {
   "cell_type": "code",
   "execution_count": 9,
   "metadata": {},
   "outputs": [
    {
     "name": "stdout",
     "output_type": "stream",
     "text": [
      "Stack = [1, 3]\n"
     ]
    }
   ],
   "source": [
    "stack.push(3)\n",
    "stack.chk_state()"
   ]
  },
  {
   "cell_type": "code",
   "execution_count": 10,
   "metadata": {},
   "outputs": [
    {
     "name": "stdout",
     "output_type": "stream",
     "text": [
      "Stack = [1, 3, 5, 7, 9]\n"
     ]
    }
   ],
   "source": [
    "stack.push(5)\n",
    "stack.push(7)\n",
    "stack.push(9)\n",
    "stack.chk_state()"
   ]
  },
  {
   "cell_type": "code",
   "execution_count": 11,
   "metadata": {},
   "outputs": [
    {
     "data": {
      "text/plain": [
       "False"
      ]
     },
     "execution_count": 11,
     "metadata": {},
     "output_type": "execute_result"
    }
   ],
   "source": [
    "stack.is_empty()"
   ]
  },
  {
   "cell_type": "code",
   "execution_count": 12,
   "metadata": {},
   "outputs": [
    {
     "name": "stdout",
     "output_type": "stream",
     "text": [
      "Stack = [1, 3, 5, 7]\n"
     ]
    }
   ],
   "source": [
    "stack.pop()\n",
    "stack.chk_state()"
   ]
  },
  {
   "cell_type": "code",
   "execution_count": 13,
   "metadata": {},
   "outputs": [
    {
     "name": "stdout",
     "output_type": "stream",
     "text": [
      "Stack = [1, 3, 5]\n"
     ]
    }
   ],
   "source": [
    "stack.pop()\n",
    "stack.chk_state()"
   ]
  },
  {
   "cell_type": "code",
   "execution_count": 14,
   "metadata": {},
   "outputs": [
    {
     "name": "stdout",
     "output_type": "stream",
     "text": [
      "Stack = []\n"
     ]
    }
   ],
   "source": [
    "stack.pop()\n",
    "stack.pop()\n",
    "stack.pop()\n",
    "stack.chk_state()"
   ]
  },
  {
   "cell_type": "code",
   "execution_count": 15,
   "metadata": {},
   "outputs": [
    {
     "data": {
      "text/plain": [
       "True"
      ]
     },
     "execution_count": 15,
     "metadata": {},
     "output_type": "execute_result"
    }
   ],
   "source": [
    "stack.is_empty()"
   ]
  },
  {
   "cell_type": "code",
   "execution_count": 16,
   "metadata": {},
   "outputs": [
    {
     "name": "stdout",
     "output_type": "stream",
     "text": [
      "Stack is empty!\n"
     ]
    },
    {
     "data": {
      "text/plain": [
       "False"
      ]
     },
     "execution_count": 16,
     "metadata": {},
     "output_type": "execute_result"
    }
   ],
   "source": [
    "stack.pop()"
   ]
  },
  {
   "cell_type": "code",
   "execution_count": null,
   "metadata": {},
   "outputs": [],
   "source": []
  },
  {
   "cell_type": "markdown",
   "metadata": {},
   "source": [
    "- execution 2"
   ]
  },
  {
   "cell_type": "code",
   "execution_count": 17,
   "metadata": {},
   "outputs": [
    {
     "name": "stdout",
     "output_type": "stream",
     "text": [
      "[]\n",
      "[0]\n",
      "[0, 2]\n",
      "[0, 2, 4, 6, 8]\n",
      "False\n",
      "8\n",
      "6\n",
      "4\n",
      "2\n",
      "0\n",
      "Stack is empty!\n",
      "False\n",
      "True\n"
     ]
    }
   ],
   "source": [
    "# 테스트 코드\n",
    "testStack = Stack()\n",
    "print(testStack.stack_items)\n",
    "testStack.push(0)\n",
    "print(testStack.stack_items)\n",
    "testStack.push(2)\n",
    "print(testStack.stack_items)\n",
    "testStack.push(4)\n",
    "testStack.push(6)\n",
    "testStack.push(8)\n",
    "print(testStack.stack_items)\n",
    "print(testStack.is_empty())\n",
    "print(testStack.pop())\n",
    "print(testStack.pop())\n",
    "print(testStack.pop())\n",
    "print(testStack.pop())\n",
    "print(testStack.pop())\n",
    "print(testStack.pop())\n",
    "print(testStack.is_empty())"
   ]
  },
  {
   "cell_type": "markdown",
   "metadata": {},
   "source": [
    "<hr>\n",
    "<marquee><font size=3 color='brown'>The BigpyCraft find the information to design valuable society with Technology & Craft.</font></marquee>\n",
    "<div align='right'><font size=2 color='gray'> &lt; The End &gt; </font></div>"
   ]
  }
 ],
 "metadata": {
  "kernelspec": {
   "display_name": "Python 3 (ipykernel)",
   "language": "python",
   "name": "python3"
  },
  "language_info": {
   "codemirror_mode": {
    "name": "ipython",
    "version": 3
   },
   "file_extension": ".py",
   "mimetype": "text/x-python",
   "name": "python",
   "nbconvert_exporter": "python",
   "pygments_lexer": "ipython3",
   "version": "3.9.7"
  }
 },
 "nbformat": 4,
 "nbformat_minor": 2
}
