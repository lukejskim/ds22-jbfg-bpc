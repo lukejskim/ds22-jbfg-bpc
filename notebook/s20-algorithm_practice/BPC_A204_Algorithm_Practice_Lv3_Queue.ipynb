{
 "cells": [
  {
   "cell_type": "markdown",
   "metadata": {},
   "source": [
    "# Industry 4.0 의 중심, BigData"
   ]
  },
  {
   "cell_type": "markdown",
   "metadata": {},
   "source": [
    "<div align='right'><font size=2 color='gray'>Data Processing Based Python @ <font color='blue'><a href='https://www.facebook.com/jskim.kr'>FB / jskim.kr</a></font>, 김진수</font></div>\n",
    "<hr>"
   ]
  },
  {
   "cell_type": "markdown",
   "metadata": {},
   "source": [
    "## <font color='brown'>알고리즘, Algorithm</font>\n",
    ">    \n",
    "- 피보나치 함수\n",
    "- 자료구조 - 스택(Stack)\n",
    "- 자료구조 - **큐(Queue)**"
   ]
  },
  {
   "cell_type": "raw",
   "metadata": {},
   "source": [
    "<!--\n",
    "from images.util import Figure as _Figure_\n",
    "-->"
   ]
  },
  {
   "cell_type": "code",
   "execution_count": 1,
   "metadata": {},
   "outputs": [],
   "source": [
    "# 파이썬 알고리즘 실습\n",
    "from images.util import Figure as _Figure_"
   ]
  },
  {
   "cell_type": "markdown",
   "metadata": {},
   "source": [
    "### 자료구조 - 큐(Queue)\n",
    "> 파이썬으로 구현한 큐 자료구조\n",
    "- 큐 자료구조는 요소(item)을 삽입하는 Enqueue 기능과 요소를 빼내는 Dequeue 기능이 있습니다.\n",
    "- 처음에 삽입한 요소가 먼저 빠지게 되는 First In First Out(FIFO) 특징을 가지고 있습니다.\n"
   ]
  },
  {
   "cell_type": "code",
   "execution_count": 2,
   "metadata": {},
   "outputs": [
    {
     "data": {
      "image/png": "[encoded data removed]",
      "text/plain": [
       "<IPython.core.display.Image object>"
      ]
     },
     "execution_count": 2,
     "metadata": {},
     "output_type": "execute_result"
    }
   ],
   "source": [
    "_Figure_(\"큐\")"
   ]
  },
  {
   "cell_type": "markdown",
   "metadata": {},
   "source": [
    "##### 큐 구현\n",
    "- 클래스로 큐(Queue)객체를 만들고, \n",
    "- Dequeue 기능과 Dequeue 기능을 포함한, \n",
    "- 큐가 비어있는지 확인하는 isEmpty 기능을 구현하였으며 \n",
    "- 추가로 큐가 비어있을때 Dequeue를 수행하면 에러메세지와 함께 False 값을 리턴\n"
   ]
  },
  {
   "cell_type": "markdown",
   "metadata": {},
   "source": [
    "### <font color='blue'>Quiz. </font>"
   ]
  },
  {
   "cell_type": "code",
   "execution_count": 3,
   "metadata": {},
   "outputs": [],
   "source": [
    "class Queue:\n",
    "    \n",
    "    def __init__(self):\n",
    "        self.queue_items = []\n",
    "\n",
    "    def enqueue(self, x):\n",
    "        # enqueue 기능 구현\n",
    "        pass\n",
    "\n",
    "    def dequeue(self):\n",
    "        # dequeue 기능 구현\n",
    "        pass\n",
    "\n",
    "    def is_empty(self):\n",
    "        # isEmpty 기능 구현\n",
    "        pass\n",
    "    \n",
    "    def chk_state(self):\n",
    "        print(\"Queue = {}\".format(self.queue_items))\n",
    "        "
   ]
  },
  {
   "cell_type": "markdown",
   "metadata": {},
   "source": [
    "### <font color='blue'>Best Practice. </font>"
   ]
  },
  {
   "cell_type": "code",
   "execution_count": 4,
   "metadata": {},
   "outputs": [],
   "source": [
    "class Queue:\n",
    "    \n",
    "    def __init__(self):\n",
    "        self.queue_items = []\n",
    "\n",
    "    # enqueue 기능 구현\n",
    "    def enqueue(self, x):\n",
    "        self.queue_items.append(x)\n",
    "        return None\n",
    "\n",
    "    # dequeue 기능 구현\n",
    "    def dequeue(self):\n",
    "        item_length = len(self.queue_items)\n",
    "        if item_length < 1:\n",
    "            print(\"Queue is empty!\")\n",
    "            return False\n",
    "        result = self.queue_items[0]\n",
    "        del self.queue_items[0]\n",
    "        return result\n",
    "\n",
    "    # is_empty 기능 구현\n",
    "    def is_empty(self):\n",
    "        return not self.queue_items\n",
    "\n",
    "    # state 체크 구현\n",
    "    def chk_state(self):\n",
    "        print(\"Queue = {}\".format(self.queue_items))"
   ]
  },
  {
   "cell_type": "markdown",
   "metadata": {},
   "source": [
    "### <font color='blue'>Execution Result</font>"
   ]
  },
  {
   "cell_type": "markdown",
   "metadata": {},
   "source": [
    "- execution 1"
   ]
  },
  {
   "cell_type": "code",
   "execution_count": 5,
   "metadata": {},
   "outputs": [
    {
     "name": "stdout",
     "output_type": "stream",
     "text": [
      "Queue = []\n"
     ]
    }
   ],
   "source": [
    "queue = Queue()\n",
    "queue.chk_state()"
   ]
  },
  {
   "cell_type": "code",
   "execution_count": 6,
   "metadata": {},
   "outputs": [
    {
     "data": {
      "text/plain": [
       "True"
      ]
     },
     "execution_count": 6,
     "metadata": {},
     "output_type": "execute_result"
    }
   ],
   "source": [
    "queue.is_empty()"
   ]
  },
  {
   "cell_type": "code",
   "execution_count": 7,
   "metadata": {},
   "outputs": [
    {
     "name": "stdout",
     "output_type": "stream",
     "text": [
      "Queue = [1]\n"
     ]
    }
   ],
   "source": [
    "queue.enqueue(1)\n",
    "queue.chk_state()"
   ]
  },
  {
   "cell_type": "code",
   "execution_count": 8,
   "metadata": {},
   "outputs": [
    {
     "name": "stdout",
     "output_type": "stream",
     "text": [
      "Queue = [1, 2]\n"
     ]
    }
   ],
   "source": [
    "queue.enqueue(2)\n",
    "queue.chk_state()"
   ]
  },
  {
   "cell_type": "code",
   "execution_count": 9,
   "metadata": {},
   "outputs": [
    {
     "name": "stdout",
     "output_type": "stream",
     "text": [
      "Queue = [2]\n"
     ]
    }
   ],
   "source": [
    "queue.dequeue()\n",
    "queue.chk_state()"
   ]
  },
  {
   "cell_type": "code",
   "execution_count": 10,
   "metadata": {},
   "outputs": [
    {
     "name": "stdout",
     "output_type": "stream",
     "text": [
      "Queue = [2, 3, 4, 5]\n"
     ]
    }
   ],
   "source": [
    "queue.enqueue(3)\n",
    "queue.enqueue(4)\n",
    "queue.enqueue(5)\n",
    "queue.chk_state()"
   ]
  },
  {
   "cell_type": "code",
   "execution_count": 11,
   "metadata": {},
   "outputs": [
    {
     "name": "stdout",
     "output_type": "stream",
     "text": [
      "Queue = [4, 5]\n"
     ]
    }
   ],
   "source": [
    "queue.dequeue()\n",
    "queue.dequeue()\n",
    "queue.chk_state()"
   ]
  },
  {
   "cell_type": "code",
   "execution_count": 12,
   "metadata": {},
   "outputs": [
    {
     "data": {
      "text/plain": [
       "False"
      ]
     },
     "execution_count": 12,
     "metadata": {},
     "output_type": "execute_result"
    }
   ],
   "source": [
    "queue.is_empty()"
   ]
  },
  {
   "cell_type": "code",
   "execution_count": 13,
   "metadata": {},
   "outputs": [
    {
     "name": "stdout",
     "output_type": "stream",
     "text": [
      "Queue = []\n"
     ]
    }
   ],
   "source": [
    "queue.dequeue()\n",
    "queue.dequeue()\n",
    "queue.chk_state()"
   ]
  },
  {
   "cell_type": "code",
   "execution_count": 14,
   "metadata": {},
   "outputs": [
    {
     "data": {
      "text/plain": [
       "True"
      ]
     },
     "execution_count": 14,
     "metadata": {},
     "output_type": "execute_result"
    }
   ],
   "source": [
    "queue.is_empty()"
   ]
  },
  {
   "cell_type": "code",
   "execution_count": 15,
   "metadata": {},
   "outputs": [
    {
     "name": "stdout",
     "output_type": "stream",
     "text": [
      "Queue is empty!\n"
     ]
    },
    {
     "data": {
      "text/plain": [
       "False"
      ]
     },
     "execution_count": 15,
     "metadata": {},
     "output_type": "execute_result"
    }
   ],
   "source": [
    "queue.dequeue()"
   ]
  },
  {
   "cell_type": "code",
   "execution_count": null,
   "metadata": {},
   "outputs": [],
   "source": []
  },
  {
   "cell_type": "markdown",
   "metadata": {},
   "source": [
    "- execution 2"
   ]
  },
  {
   "cell_type": "code",
   "execution_count": 16,
   "metadata": {},
   "outputs": [
    {
     "name": "stdout",
     "output_type": "stream",
     "text": [
      "[]\n",
      "['찬영']\n",
      "찬영\n",
      "['준영', '채영', '예영', '민영']\n",
      "준영\n",
      "채영\n",
      "['예영', '민영']\n",
      "예영\n",
      "민영\n",
      "Queue is empty!\n",
      "False\n",
      "True\n"
     ]
    }
   ],
   "source": [
    "# 테스트 코드\n",
    "testQueue = Queue()\n",
    "print(testQueue.queue_items)\n",
    "testQueue.enqueue('찬영')\n",
    "print(testQueue.queue_items)\n",
    "print(testQueue.dequeue())\n",
    "testQueue.enqueue('준영')\n",
    "testQueue.enqueue('채영')\n",
    "testQueue.enqueue('예영')\n",
    "testQueue.enqueue('민영')\n",
    "print(testQueue.queue_items)\n",
    "print(testQueue.dequeue())\n",
    "print(testQueue.dequeue())\n",
    "print(testQueue.queue_items)\n",
    "print(testQueue.dequeue())\n",
    "print(testQueue.dequeue())\n",
    "print(testQueue.dequeue())\n",
    "print(testQueue.is_empty())\n"
   ]
  },
  {
   "cell_type": "markdown",
   "metadata": {},
   "source": [
    "<hr>\n",
    "<marquee><font size=3 color='brown'>The BigpyCraft find the information to design valuable society with Technology & Craft.</font></marquee>\n",
    "<div align='right'><font size=2 color='gray'> &lt; The End &gt; </font></div>"
   ]
  }
 ],
 "metadata": {
  "kernelspec": {
   "display_name": "Python 3 (ipykernel)",
   "language": "python",
   "name": "python3"
  },
  "language_info": {
   "codemirror_mode": {
    "name": "ipython",
    "version": 3
   },
   "file_extension": ".py",
   "mimetype": "text/x-python",
   "name": "python",
   "nbconvert_exporter": "python",
   "pygments_lexer": "ipython3",
   "version": "3.9.7"
  }
 },
 "nbformat": 4,
 "nbformat_minor": 2
}
