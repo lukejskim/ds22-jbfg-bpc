{
 "cells": [
  {
   "cell_type": "markdown",
   "metadata": {},
   "source": [
    "# Industry 4.0 의 중심, BigData"
   ]
  },
  {
   "cell_type": "markdown",
   "metadata": {},
   "source": [
    "<div align='right'><font size=2 color='gray'>Data Processing Based Python @ <font color='blue'><a href='https://www.facebook.com/jskim.kr'>FB / jskim.kr</a></font>, 김진수</font></div>\n",
    "<hr>"
   ]
  },
  {
   "cell_type": "markdown",
   "metadata": {},
   "source": [
    "## <font color='brown'>데이터베이스, DB SQL</font>\n",
    ">  \n",
    "> - 데이터베이스 및 테이블 생성\n",
    "> - 데이터 생성, INSERT\n",
    "> - 데이터 조회, SELECT\n",
    "> - 데이터 갱신, UPDATE\n",
    "> - 데이터 삭제, DELETE"
   ]
  },
  {
   "cell_type": "markdown",
   "metadata": {},
   "source": [
    "## MariaDB"
   ]
  },
  {
   "cell_type": "code",
   "execution_count": 1,
   "metadata": {},
   "outputs": [],
   "source": [
    "import os\n",
    "from os.path import exists"
   ]
  },
  {
   "cell_type": "code",
   "execution_count": 2,
   "metadata": {},
   "outputs": [
    {
     "name": "stdout",
     "output_type": "stream",
     "text": [
      "[database]은(는) 이미 존재합니다.\n"
     ]
    }
   ],
   "source": [
    "dir_name = 'database'\n",
    "\n",
    "if not exists(dir_name):\n",
    "    os.mkdir(dir_name)\n",
    "    print('[%s] 디렉터리를 생성했습니다.' %dir_name)\n",
    "else:\n",
    "    print('[%s]은(는) 이미 존재합니다.' %dir_name)"
   ]
  },
  {
   "cell_type": "code",
   "execution_count": 3,
   "metadata": {},
   "outputs": [],
   "source": [
    "# Database 파일 삭제\n",
    "db_name = './database/book_mgr.db'\n",
    "\n",
    "if exists(db_name):\n",
    "    os.remove(db_name)"
   ]
  },
  {
   "cell_type": "markdown",
   "metadata": {},
   "source": [
    "### <font color='#CC0000'>DB Connection</font>"
   ]
  },
  {
   "cell_type": "code",
   "execution_count": 4,
   "metadata": {},
   "outputs": [],
   "source": [
    "import pymysql\n",
    "\n",
    "db_name = 'bpcdb'\n",
    "\n",
    "dbcon_param = {\n",
    "    'host'    : 'localhost',\n",
    "    'port'    : 3306,### <font color='#CC0000'>DB 모듈 생성</font>\n",
    "    'user'    : 'root',\n",
    "    'passwd'  : 'password',\n",
    "    'db'      : db_name,\n",
    "    'charset' : 'utf8',\n",
    "    'autocommit' : True\n",
    "}"
   ]
  },
  {
   "cell_type": "code",
   "execution_count": 5,
   "metadata": {},
   "outputs": [],
   "source": [
    "# Open database connection\n",
    "# conn = pymysql.connect(host='localhost', port=3306, user='root',\n",
    "# passwd='password', db='bpcdb', charset='utf8', autocommit=True)\n",
    "# conn = pymysql.connect(db=db_name, **dbcon_param)\n",
    "conn = pymysql.connect(**dbcon_param)\n",
    "\n",
    "# prepare a cursor object using cursor() method\n",
    "cursor = conn.cursor()\n",
    "\n",
    "# execute SQL query using execute() method.\n",
    "cursor.execute(\"SELECT VERSION()\")\n",
    "\n",
    "# Fetch a single row using fetchone() method.\n",
    "data = cursor.fetchone()\n",
    "\n",
    "conn.close()"
   ]
  },
  {
   "cell_type": "code",
   "execution_count": 6,
   "metadata": {},
   "outputs": [
    {
     "data": {
      "text/plain": [
       "tuple"
      ]
     },
     "execution_count": 6,
     "metadata": {},
     "output_type": "execute_result"
    }
   ],
   "source": [
    "type(data)"
   ]
  },
  {
   "cell_type": "code",
   "execution_count": 7,
   "metadata": {},
   "outputs": [
    {
     "data": {
      "text/plain": [
       "1"
      ]
     },
     "execution_count": 7,
     "metadata": {},
     "output_type": "execute_result"
    }
   ],
   "source": [
    "len(data)"
   ]
  },
  {
   "cell_type": "code",
   "execution_count": 8,
   "metadata": {},
   "outputs": [
    {
     "data": {
      "text/plain": [
       "'10.5.5-MariaDB'"
      ]
     },
     "execution_count": 8,
     "metadata": {},
     "output_type": "execute_result"
    }
   ],
   "source": [
    "data[0]"
   ]
  },
  {
   "cell_type": "markdown",
   "metadata": {},
   "source": [
    "### <font color='#CC0000'>DB 모듈 생성</font>"
   ]
  },
  {
   "cell_type": "code",
   "execution_count": 9,
   "metadata": {},
   "outputs": [
    {
     "name": "stdout",
     "output_type": "stream",
     "text": [
      "Overwriting ./database/common.py\n"
     ]
    }
   ],
   "source": [
    "%%writefile ./database/common.py\n",
    "import pymysql\n",
    "\n",
    "# dbcon_param = {\n",
    "#     'host'    : 'localhost',\n",
    "#     'port'    : 3306,\n",
    "#     'user'    : 'root',\n",
    "#     'passwd'  : 'password',\n",
    "#     # 'db'      : 'bpcdb',\n",
    "#     'charset' : 'utf8',\n",
    "#     'autocommit' : True\n",
    "# }\n",
    "\n",
    "def get_connection(db_name='bpcdb'):\n",
    "    '''\n",
    "        DB Connection 객체를 생성한다.\n",
    "    '''\n",
    "    \n",
    "    dbcon_param = {\n",
    "        'host'    : 'localhost',\n",
    "        'port'    : 3306,\n",
    "        'user'    : 'root',\n",
    "        'passwd'  : 'password',\n",
    "        'db'      : db_name,\n",
    "        'charset' : 'utf8',\n",
    "        'autocommit' : True\n",
    "    }\n",
    "    \n",
    "    try:\n",
    "        # conn = pymysql.connect(db=db_name, **dbcon_param)\n",
    "        conn = pymysql.connect(**dbcon_param)\n",
    "    except Exception as err:\n",
    "        print('데이터베이스에 접속을 할 수 없습니다.')\n",
    "        print('DB Connection Error : {}'.format(err))\n",
    "\n",
    "    return conn\n",
    "\n",
    "\n"
   ]
  },
  {
   "cell_type": "markdown",
   "metadata": {},
   "source": [
    "### <font color='#CC0000'>DB SQL</font>"
   ]
  },
  {
   "cell_type": "raw",
   "metadata": {},
   "source": [
    "\n",
    "-- TABLE 생성 : books_mgr \n",
    "CREATE TABLE books_mgr (\n",
    "    title text,\n",
    "    published_date text,\n",
    "    publisher text,\n",
    "    pages integer,\n",
    "    recommendation integer\n",
    ")\n",
    "\n",
    "\n",
    "\n"
   ]
  },
  {
   "cell_type": "code",
   "execution_count": 10,
   "metadata": {},
   "outputs": [
    {
     "name": "stdout",
     "output_type": "stream",
     "text": [
      "Help on class Connection in module pymysql.connections:\n",
      "\n",
      "class Connection(builtins.object)\n",
      " |  Connection(*, user=None, password='', host=None, database=None, unix_socket=None, port=0, charset='', sql_mode=None, read_default_file=None, conv=None, use_unicode=True, client_flag=0, cursorclass=<class 'pymysql.cursors.Cursor'>, init_command=None, connect_timeout=10, read_default_group=None, autocommit=False, local_infile=False, max_allowed_packet=16777216, defer_connect=False, auth_plugin_map=None, read_timeout=None, write_timeout=None, bind_address=None, binary_prefix=False, program_name=None, server_public_key=None, ssl=None, ssl_ca=None, ssl_cert=None, ssl_disabled=None, ssl_key=None, ssl_verify_cert=None, ssl_verify_identity=None, compress=None, named_pipe=None, passwd=None, db=None)\n",
      " |  \n",
      " |  Representation of a socket with a mysql server.\n",
      " |  \n",
      " |  The proper way to get an instance of this class is to call\n",
      " |  connect().\n",
      " |  \n",
      " |  Establish a connection to the MySQL database. Accepts several\n",
      " |  arguments:\n",
      " |  \n",
      " |  :param host: Host where the database server is located\n",
      " |  :param user: Username to log in as\n",
      " |  :param password: Password to use.\n",
      " |  :param database: Database to use, None to not use a particular one.\n",
      " |  :param port: MySQL port to use, default is usually OK. (default: 3306)\n",
      " |  :param bind_address: When the client has multiple network interfaces, specify\n",
      " |      the interface from which to connect to the host. Argument can be\n",
      " |      a hostname or an IP address.\n",
      " |  :param unix_socket: Optionally, you can use a unix socket rather than TCP/IP.\n",
      " |  :param read_timeout: The timeout for reading from the connection in seconds (default: None - no timeout)\n",
      " |  :param write_timeout: The timeout for writing to the connection in seconds (default: None - no timeout)\n",
      " |  :param charset: Charset you want to use.\n",
      " |  :param sql_mode: Default SQL_MODE to use.\n",
      " |  :param read_default_file:\n",
      " |      Specifies  my.cnf file to read these parameters from under the [client] section.\n",
      " |  :param conv:\n",
      " |      Conversion dictionary to use instead of the default one.\n",
      " |      This is used to provide custom marshalling and unmarshalling of types.\n",
      " |      See converters.\n",
      " |  :param use_unicode:\n",
      " |      Whether or not to default to unicode strings.\n",
      " |      This option defaults to true.\n",
      " |  :param client_flag: Custom flags to send to MySQL. Find potential values in constants.CLIENT.\n",
      " |  :param cursorclass: Custom cursor class to use.\n",
      " |  :param init_command: Initial SQL statement to run when connection is established.\n",
      " |  :param connect_timeout: Timeout before throwing an exception when connecting.\n",
      " |      (default: 10, min: 1, max: 31536000)\n",
      " |  :param ssl:\n",
      " |      A dict of arguments similar to mysql_ssl_set()'s parameters.\n",
      " |  :param ssl_ca: Path to the file that contains a PEM-formatted CA certificate\n",
      " |  :param ssl_cert: Path to the file that contains a PEM-formatted client certificate\n",
      " |  :param ssl_disabled: A boolean value that disables usage of TLS\n",
      " |  :param ssl_key: Path to the file that contains a PEM-formatted private key for the client certificate\n",
      " |  :param ssl_verify_cert: Set to true to check the validity of server certificates\n",
      " |  :param ssl_verify_identity: Set to true to check the server's identity\n",
      " |  :param read_default_group: Group to read from in the configuration file.\n",
      " |  :param autocommit: Autocommit mode. None means use server default. (default: False)\n",
      " |  :param local_infile: Boolean to enable the use of LOAD DATA LOCAL command. (default: False)\n",
      " |  :param max_allowed_packet: Max size of packet sent to server in bytes. (default: 16MB)\n",
      " |      Only used to limit size of \"LOAD LOCAL INFILE\" data packet smaller than default (16KB).\n",
      " |  :param defer_connect: Don't explicitly connect on construction - wait for connect call.\n",
      " |      (default: False)\n",
      " |  :param auth_plugin_map: A dict of plugin names to a class that processes that plugin.\n",
      " |      The class will take the Connection object as the argument to the constructor.\n",
      " |      The class needs an authenticate method taking an authentication packet as\n",
      " |      an argument.  For the dialog plugin, a prompt(echo, prompt) method can be used\n",
      " |      (if no authenticate method) for returning a string from the user. (experimental)\n",
      " |  :param server_public_key: SHA256 authentication plugin public key value. (default: None)\n",
      " |  :param binary_prefix: Add _binary prefix on bytes and bytearray. (default: False)\n",
      " |  :param compress: Not supported\n",
      " |  :param named_pipe: Not supported\n",
      " |  :param db: **DEPRECATED** Alias for database.\n",
      " |  :param passwd: **DEPRECATED** Alias for password.\n",
      " |  \n",
      " |  See `Connection <https://www.python.org/dev/peps/pep-0249/#connection-objects>`_ in the\n",
      " |  specification.\n",
      " |  \n",
      " |  Methods defined here:\n",
      " |  \n",
      " |  __del__ = _force_close(self)\n",
      " |  \n",
      " |  __enter__(self)\n",
      " |  \n",
      " |  __exit__(self, *exc_info)\n",
      " |  \n",
      " |  __init__(self, *, user=None, password='', host=None, database=None, unix_socket=None, port=0, charset='', sql_mode=None, read_default_file=None, conv=None, use_unicode=True, client_flag=0, cursorclass=<class 'pymysql.cursors.Cursor'>, init_command=None, connect_timeout=10, read_default_group=None, autocommit=False, local_infile=False, max_allowed_packet=16777216, defer_connect=False, auth_plugin_map=None, read_timeout=None, write_timeout=None, bind_address=None, binary_prefix=False, program_name=None, server_public_key=None, ssl=None, ssl_ca=None, ssl_cert=None, ssl_disabled=None, ssl_key=None, ssl_verify_cert=None, ssl_verify_identity=None, compress=None, named_pipe=None, passwd=None, db=None)\n",
      " |      Initialize self.  See help(type(self)) for accurate signature.\n",
      " |  \n",
      " |  affected_rows(self)\n",
      " |  \n",
      " |  autocommit(self, value)\n",
      " |  \n",
      " |  begin(self)\n",
      " |      Begin transaction.\n",
      " |  \n",
      " |  character_set_name(self)\n",
      " |  \n",
      " |  close(self)\n",
      " |      Send the quit message and close the socket.\n",
      " |      \n",
      " |      See `Connection.close() <https://www.python.org/dev/peps/pep-0249/#Connection.close>`_\n",
      " |      in the specification.\n",
      " |      \n",
      " |      :raise Error: If the connection is already closed.\n",
      " |  \n",
      " |  commit(self)\n",
      " |      Commit changes to stable storage.\n",
      " |      \n",
      " |      See `Connection.commit() <https://www.python.org/dev/peps/pep-0249/#commit>`_\n",
      " |      in the specification.\n",
      " |  \n",
      " |  connect(self, sock=None)\n",
      " |  \n",
      " |  cursor(self, cursor=None)\n",
      " |      Create a new cursor to execute queries with.\n",
      " |      \n",
      " |      :param cursor: The type of cursor to create; one of :py:class:`Cursor`,\n",
      " |          :py:class:`SSCursor`, :py:class:`DictCursor`, or :py:class:`SSDictCursor`.\n",
      " |          None means use Cursor.\n",
      " |  \n",
      " |  escape(self, obj, mapping=None)\n",
      " |      Escape whatever value you pass to it.\n",
      " |      \n",
      " |      Non-standard, for internal use; do not use this in your applications.\n",
      " |  \n",
      " |  escape_string(self, s)\n",
      " |  \n",
      " |  get_autocommit(self)\n",
      " |  \n",
      " |  get_host_info(self)\n",
      " |  \n",
      " |  get_proto_info(self)\n",
      " |  \n",
      " |  get_server_info(self)\n",
      " |  \n",
      " |  insert_id(self)\n",
      " |  \n",
      " |  kill(self, thread_id)\n",
      " |  \n",
      " |  literal(self, obj)\n",
      " |      Alias for escape()\n",
      " |      \n",
      " |      Non-standard, for internal use; do not use this in your applications.\n",
      " |  \n",
      " |  next_result(self, unbuffered=False)\n",
      " |  \n",
      " |  ping(self, reconnect=True)\n",
      " |      Check if the server is alive.\n",
      " |      \n",
      " |      :param reconnect: If the connection is closed, reconnect.\n",
      " |      :raise Error: If the connection is closed and reconnect=False.\n",
      " |  \n",
      " |  query(self, sql, unbuffered=False)\n",
      " |      # The following methods are INTERNAL USE ONLY (called from Cursor)\n",
      " |  \n",
      " |  rollback(self)\n",
      " |      Roll back the current transaction.\n",
      " |      \n",
      " |      See `Connection.rollback() <https://www.python.org/dev/peps/pep-0249/#rollback>`_\n",
      " |      in the specification.\n",
      " |  \n",
      " |  select_db(self, db)\n",
      " |      Set current db.\n",
      " |      \n",
      " |      :param db: The name of the db.\n",
      " |  \n",
      " |  set_charset(self, charset)\n",
      " |  \n",
      " |  show_warnings(self)\n",
      " |      Send the \"SHOW WARNINGS\" SQL command.\n",
      " |  \n",
      " |  thread_id(self)\n",
      " |      # _mysql support\n",
      " |  \n",
      " |  write_packet(self, payload)\n",
      " |      Writes an entire \"mysql packet\" in its entirety to the network\n",
      " |      adding its length and sequence number.\n",
      " |  \n",
      " |  ----------------------------------------------------------------------\n",
      " |  Readonly properties defined here:\n",
      " |  \n",
      " |  open\n",
      " |      Return True if the connection is open\n",
      " |  \n",
      " |  ----------------------------------------------------------------------\n",
      " |  Data descriptors defined here:\n",
      " |  \n",
      " |  __dict__\n",
      " |      dictionary for instance variables (if defined)\n",
      " |  \n",
      " |  __weakref__\n",
      " |      list of weak references to the object (if defined)\n",
      " |  \n",
      " |  ----------------------------------------------------------------------\n",
      " |  Data and other attributes defined here:\n",
      " |  \n",
      " |  DataError = <class 'pymysql.err.DataError'>\n",
      " |      Exception raised for errors that are due to problems with the\n",
      " |      processed data like division by zero, numeric value out of range,\n",
      " |      etc.\n",
      " |  \n",
      " |  \n",
      " |  DatabaseError = <class 'pymysql.err.DatabaseError'>\n",
      " |      Exception raised for errors that are related to the\n",
      " |      database.\n",
      " |  \n",
      " |  \n",
      " |  Error = <class 'pymysql.err.Error'>\n",
      " |      Exception that is the base class of all other error exceptions\n",
      " |      (not Warning).\n",
      " |  \n",
      " |  \n",
      " |  IntegrityError = <class 'pymysql.err.IntegrityError'>\n",
      " |      Exception raised when the relational integrity of the database\n",
      " |      is affected, e.g. a foreign key check fails, duplicate key,\n",
      " |      etc.\n",
      " |  \n",
      " |  \n",
      " |  InterfaceError = <class 'pymysql.err.InterfaceError'>\n",
      " |      Exception raised for errors that are related to the database\n",
      " |      interface rather than the database itself.\n",
      " |  \n",
      " |  \n",
      " |  InternalError = <class 'pymysql.err.InternalError'>\n",
      " |      Exception raised when the database encounters an internal\n",
      " |      error, e.g. the cursor is not valid anymore, the transaction is\n",
      " |      out of sync, etc.\n",
      " |  \n",
      " |  \n",
      " |  NotSupportedError = <class 'pymysql.err.NotSupportedError'>\n",
      " |      Exception raised in case a method or database API was used\n",
      " |      which is not supported by the database, e.g. requesting a\n",
      " |      .rollback() on a connection that does not support transaction or\n",
      " |      has transactions turned off.\n",
      " |  \n",
      " |  \n",
      " |  OperationalError = <class 'pymysql.err.OperationalError'>\n",
      " |      Exception raised for errors that are related to the database's\n",
      " |      operation and not necessarily under the control of the programmer,\n",
      " |      e.g. an unexpected disconnect occurs, the data source name is not\n",
      " |      found, a transaction could not be processed, a memory allocation\n",
      " |      error occurred during processing, etc.\n",
      " |  \n",
      " |  \n",
      " |  ProgrammingError = <class 'pymysql.err.ProgrammingError'>\n",
      " |      Exception raised for programming errors, e.g. table not found\n",
      " |      or already exists, syntax error in the SQL statement, wrong number\n",
      " |      of parameters specified, etc.\n",
      " |  \n",
      " |  \n",
      " |  Warning = <class 'pymysql.err.Warning'>\n",
      " |      Exception raised for important warnings like data truncations\n",
      " |      while inserting, etc.\n",
      "\n"
     ]
    }
   ],
   "source": [
    "help(pymysql.connect)"
   ]
  },
  {
   "cell_type": "markdown",
   "metadata": {},
   "source": [
    "<hr>\n",
    "<marquee><font size=3 color='brown'>The BigpyCraft find the information to design valuable society with Technology & Craft.</font></marquee>\n",
    "<div align='right'><font size=2 color='gray'> &lt; The End &gt; </font></div>"
   ]
  }
 ],
 "metadata": {
  "kernelspec": {
   "display_name": "Python 3 (ipykernel)",
   "language": "python",
   "name": "python3"
  },
  "language_info": {
   "codemirror_mode": {
    "name": "ipython",
    "version": 3
   },
   "file_extension": ".py",
   "mimetype": "text/x-python",
   "name": "python",
   "nbconvert_exporter": "python",
   "pygments_lexer": "ipython3",
   "version": "3.9.7"
  }
 },
 "nbformat": 4,
 "nbformat_minor": 2
}
