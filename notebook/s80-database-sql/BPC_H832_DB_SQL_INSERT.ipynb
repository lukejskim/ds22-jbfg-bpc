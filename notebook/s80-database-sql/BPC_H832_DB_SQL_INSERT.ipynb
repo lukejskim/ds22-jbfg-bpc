{
 "cells": [
  {
   "cell_type": "markdown",
   "metadata": {},
   "source": [
    "# Industry 4.0 의 중심, BigData"
   ]
  },
  {
   "cell_type": "markdown",
   "metadata": {},
   "source": [
    "<div align='right'><font size=2 color='gray'>Data Processing Based Python @ <font color='blue'><a href='https://www.facebook.com/jskim.kr'>FB / jskim.kr</a></font>, 김진수</font></div>\n",
    "<hr>"
   ]
  },
  {
   "cell_type": "markdown",
   "metadata": {},
   "source": [
    "## <font color='brown'>데이터베이스, DB SQL</font>\n",
    ">  \n",
    "> - 데이터베이스 및 테이블 생성\n",
    "> - <b><font color='FFAAAA'>데이터 생성, INSERT</font></b>\n",
    "> - 데이터 조회, SELECT\n",
    "> - 데이터 갱신, UPDATE\n",
    "> - 데이터 삭제, DELETE"
   ]
  },
  {
   "cell_type": "markdown",
   "metadata": {},
   "source": [
    "## SQLITE3"
   ]
  },
  {
   "cell_type": "code",
   "execution_count": 1,
   "metadata": {},
   "outputs": [],
   "source": [
    "import sqlite3  \n",
    "\n",
    "db_name = './database/my_books.db'"
   ]
  },
  {
   "cell_type": "markdown",
   "metadata": {},
   "source": [
    "### <font color='#CC0000'>데이터 등록</font>"
   ]
  },
  {
   "cell_type": "code",
   "execution_count": 2,
   "metadata": {},
   "outputs": [],
   "source": [
    "import sqlite3  \n",
    "\n",
    "# 데이터 입력 함수\n",
    "def insert_books(db_name):\n",
    "    \"\"\"\n",
    "    데이터베이스 테이블에 데이터를 등록하는 함수\n",
    "    Args:\n",
    "        db_name : Database Name\n",
    "    Returns : \n",
    "        is_success : Boolean \n",
    "    \"\"\"\n",
    "    is_success = True\n",
    "    \n",
    "    try:\n",
    "        # 데이터베이스 커넥션 생성\n",
    "        conn = sqlite3.connect(db_name) \n",
    "\n",
    "        # 커서 확보\n",
    "        cur = conn.cursor()  \n",
    "\n",
    "        # 데이터 입력 SQL1\n",
    "        db_sql = \"INSERT INTO my_books VALUES ('메가트랜드', '2002.03.02','A', 200, 0)\"\n",
    "        cur.execute(db_sql)\n",
    "\n",
    "        # 데이터 입력 SQL2\n",
    "        db_sql = 'INSERT INTO my_books VALUES (?, ?, ?, ?, ?)'\n",
    "        cur.execute(db_sql, ('인더스트리 4.0', '2016.07.09','B', 584, 1))\n",
    "\n",
    "        # # 데이터 입력 SQL3\n",
    "        books = [\n",
    "            ('유니콘 스타트업', '2011.07.15','A', 248, 1),\n",
    "            ('빅데이터 마케팅', '2012.08.25','A', 296, 1),\n",
    "            ('사물인터넷 전망', '2013.08.22','B', 526, 0)\n",
    "        ]\n",
    "        cur.executemany(db_sql, books)\n",
    "          \n",
    "    except:\n",
    "        is_success = False\n",
    "        print(\"Database Error!\")\n",
    "        \n",
    "    finally :      \n",
    "        if is_success:\n",
    "            # 데이터베이스 반영\n",
    "            conn.commit()  \n",
    "        else:\n",
    "            # 데이터베이스 철회\n",
    "            conn.rollback()\n",
    "            \n",
    "        # 데이터베이스 커넥션 닫기\n",
    "        # print('Finish process of function.')\n",
    "        conn.close()\n",
    "    \n",
    "    return is_success    \n",
    "    "
   ]
  },
  {
   "cell_type": "code",
   "execution_count": 3,
   "metadata": {},
   "outputs": [
    {
     "name": "stdout",
     "output_type": "stream",
     "text": [
      "데이터가 성공적으로 등록되었습니다.\n"
     ]
    }
   ],
   "source": [
    "if insert_books(db_name):\n",
    "    print('데이터가 성공적으로 등록되었습니다.')\n",
    "else :\n",
    "    print('데이터가 등록되지 않았습니다')"
   ]
  },
  {
   "cell_type": "markdown",
   "metadata": {},
   "source": [
    "<hr>\n",
    "<marquee><font size=3 color='brown'>The BigpyCraft find the information to design valuable society with Technology & Craft.</font></marquee>\n",
    "<div align='right'><font size=2 color='gray'> &lt; The End &gt; </font></div>"
   ]
  }
 ],
 "metadata": {
  "kernelspec": {
   "display_name": "Python 3 (ipykernel)",
   "language": "python",
   "name": "python3"
  },
  "language_info": {
   "codemirror_mode": {
    "name": "ipython",
    "version": 3
   },
   "file_extension": ".py",
   "mimetype": "text/x-python",
   "name": "python",
   "nbconvert_exporter": "python",
   "pygments_lexer": "ipython3",
   "version": "3.9.7"
  }
 },
 "nbformat": 4,
 "nbformat_minor": 2
}
