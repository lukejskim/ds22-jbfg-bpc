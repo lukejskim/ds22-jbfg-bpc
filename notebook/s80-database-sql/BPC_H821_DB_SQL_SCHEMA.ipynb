{
 "cells": [
  {
   "cell_type": "markdown",
   "metadata": {},
   "source": [
    "# Industry 4.0 의 중심, BigData"
   ]
  },
  {
   "cell_type": "markdown",
   "metadata": {},
   "source": [
    "<div align='right'><font size=2 color='gray'>Data Processing Based Python @ <font color='blue'><a href='https://www.facebook.com/jskim.kr'>FB / jskim.kr</a></font>, 김진수</font></div>\n",
    "<hr>"
   ]
  },
  {
   "cell_type": "markdown",
   "metadata": {},
   "source": [
    "## <font color='brown'>데이터베이스, DB SQL</font>\n",
    ">  \n",
    "> - <b><font color='FFAAAA'>데이터베이스 및 테이블 생성</font></b>\n",
    "> - 데이터 생성, INSERT\n",
    "> - 데이터 조회, SELECT\n",
    "> - 데이터 갱신, UPDATE\n",
    "> - 데이터 삭제, DELETE"
   ]
  },
  {
   "cell_type": "markdown",
   "metadata": {},
   "source": [
    "## SQLITE3"
   ]
  },
  {
   "cell_type": "code",
   "execution_count": 1,
   "metadata": {},
   "outputs": [],
   "source": [
    "import sqlite3  \n",
    "\n",
    "db_name = './database/my_books.db'"
   ]
  },
  {
   "cell_type": "markdown",
   "metadata": {},
   "source": [
    "### <font color='#CC0000'>테이블 생성</font>"
   ]
  },
  {
   "cell_type": "code",
   "execution_count": 2,
   "metadata": {},
   "outputs": [],
   "source": [
    "def create_table(db_name, db_sql):\n",
    "    \"\"\"\n",
    "    데이터베이스 테이블을 생성하는 함수\n",
    "    Args:\n",
    "        db_name : Database Name\n",
    "        db_sql  : Query for creating Table\n",
    "    Returns : \n",
    "        is_success : Boolean \n",
    "    \"\"\"\n",
    "    is_success = True\n",
    "    \n",
    "    try :\n",
    "        # 데이터베이스 커넥션 생성\n",
    "        conn = sqlite3.connect(db_name)  \n",
    "\n",
    "        # 커서 확보\n",
    "        cur = conn.cursor()  \n",
    "\n",
    "        # 테이블 생성\n",
    "        cur.execute(db_sql)\n",
    "    \n",
    "    # except OperationalError as e:\n",
    "    #     is_success = False\n",
    "    #     print('Error:', e)\n",
    "        \n",
    "    except:\n",
    "        is_success = False\n",
    "        print(\"Database Error!\")\n",
    "        \n",
    "    finally :        \n",
    "        if is_success:\n",
    "            # 데이터베이스 반영\n",
    "            conn.commit()  \n",
    "        else:\n",
    "            # 데이터베이스 철회\n",
    "            conn.rollback()\n",
    "            \n",
    "        # 데이터베이스 커넥션 닫기\n",
    "        # print('Finish process of function.')\n",
    "        conn.close()\n",
    "    \n",
    "    return is_success\n"
   ]
  },
  {
   "cell_type": "code",
   "execution_count": 3,
   "metadata": {},
   "outputs": [],
   "source": [
    "import os\n",
    "from os.path import exists"
   ]
  },
  {
   "cell_type": "code",
   "execution_count": 4,
   "metadata": {},
   "outputs": [
    {
     "name": "stdout",
     "output_type": "stream",
     "text": [
      "[database]은(는) 이미 존재합니다.\n"
     ]
    }
   ],
   "source": [
    "dir_name = 'database'\n",
    "\n",
    "if not exists(dir_name):\n",
    "    os.mkdir(dir_name)\n",
    "    print('[%s] 디렉터리를 생성했습니다.' %dir_name)\n",
    "else:\n",
    "    print('[%s]은(는) 이미 존재합니다.' %dir_name)"
   ]
  },
  {
   "cell_type": "code",
   "execution_count": 5,
   "metadata": {},
   "outputs": [],
   "source": [
    "# Database 파일 삭제\n",
    "db_name = './database/my_books.db'\n",
    "\n",
    "if exists(db_name):\n",
    "    os.remove(db_name)"
   ]
  },
  {
   "cell_type": "code",
   "execution_count": 6,
   "metadata": {},
   "outputs": [
    {
     "name": "stdout",
     "output_type": "stream",
     "text": [
      "테이블이 성공적으로 생성되었습니다.\n"
     ]
    }
   ],
   "source": [
    "db_sql  = '''\n",
    "CREATE TABLE my_books (\n",
    "    title text,\n",
    "    published_date text,\n",
    "    publisher text,\n",
    "    pages integer,\n",
    "    recommendation integer\n",
    ")\n",
    "'''\n",
    "\n",
    "if create_table(db_name, db_sql):\n",
    "    print('테이블이 성공적으로 생성되었습니다.')\n",
    "else :\n",
    "    print('테이블이 생성되지 않았습니다')"
   ]
  },
  {
   "cell_type": "code",
   "execution_count": 7,
   "metadata": {},
   "outputs": [],
   "source": [
    "# %ls database"
   ]
  },
  {
   "cell_type": "markdown",
   "metadata": {},
   "source": [
    "<hr>\n",
    "<marquee><font size=3 color='brown'>The BigpyCraft find the information to design valuable society with Technology & Craft.</font></marquee>\n",
    "<div align='right'><font size=2 color='gray'> &lt; The End &gt; </font></div>"
   ]
  }
 ],
 "metadata": {
  "kernelspec": {
   "display_name": "Python 3 (ipykernel)",
   "language": "python",
   "name": "python3"
  },
  "language_info": {
   "codemirror_mode": {
    "name": "ipython",
    "version": 3
   },
   "file_extension": ".py",
   "mimetype": "text/x-python",
   "name": "python",
   "nbconvert_exporter": "python",
   "pygments_lexer": "ipython3",
   "version": "3.9.12"
  }
 },
 "nbformat": 4,
 "nbformat_minor": 2
}
