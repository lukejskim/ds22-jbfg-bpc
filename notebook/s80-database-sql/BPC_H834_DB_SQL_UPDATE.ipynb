{
 "cells": [
  {
   "cell_type": "markdown",
   "metadata": {},
   "source": [
    "# Industry 4.0 의 중심, BigData"
   ]
  },
  {
   "cell_type": "markdown",
   "metadata": {},
   "source": [
    "<div align='right'><font size=2 color='gray'>Data Processing Based Python @ <font color='blue'><a href='https://www.facebook.com/jskim.kr'>FB / jskim.kr</a></font>, 김진수</font></div>\n",
    "<hr>"
   ]
  },
  {
   "cell_type": "markdown",
   "metadata": {},
   "source": [
    "## <font color='brown'>데이터베이스, DB SQL</font>\n",
    ">  \n",
    "> - 데이터베이스 및 테이블 생성\n",
    "> - 데이터 생성, INSERT\n",
    "> - 데이터 조회, SELECT\n",
    "> - <b><font color='FFAAAA'>데이터 갱신, UPDATE</font></b>\n",
    "> - 데이터 삭제, DELETE"
   ]
  },
  {
   "cell_type": "markdown",
   "metadata": {},
   "source": [
    "## SQLITE3"
   ]
  },
  {
   "cell_type": "code",
   "execution_count": 12,
   "metadata": {},
   "outputs": [],
   "source": [
    "import sqlite3  \n",
    "\n",
    "db_name = './database/my_books.db'"
   ]
  },
  {
   "cell_type": "markdown",
   "metadata": {},
   "source": [
    "### <font color='#CC0000'>데이터 갱신</font>"
   ]
  },
  {
   "cell_type": "code",
   "execution_count": 13,
   "metadata": {},
   "outputs": [],
   "source": [
    "import sqlite3 \n",
    "\n",
    "def update_books(db_name):\n",
    "    \"\"\"\n",
    "    데이터를 수정하는 함수\n",
    "    Args:\n",
    "        db_name : Database Name\n",
    "    Returns : \n",
    "        is_success : Boolean \n",
    "    \"\"\"\n",
    "    is_success = True\n",
    "    \n",
    "    try:\n",
    "        # 데이터베이스 커넥션 생성\n",
    "        conn = sqlite3.connect(db_name) \n",
    "\n",
    "        # 커서 확보\n",
    "        cur = conn.cursor()  \n",
    "\n",
    "        # 데이터 수정 SQL ( 제목이 ? 인 책의 추천 유무를 ? 로 변경하라 )\n",
    "        db_sql = \"UPDATE my_books SET recommendation=? WHERE title=? \"\n",
    "\n",
    "        # 수정 SQL 실행\n",
    "        cur.execute(db_sql, (1, '메가트랜드'))\n",
    "\n",
    "    except:\n",
    "        is_success = False\n",
    "        print(\"Database Error!\")\n",
    "        \n",
    "    finally :      \n",
    "        if is_success:\n",
    "            # 데이터베이스 반영\n",
    "            conn.commit()  \n",
    "        else:\n",
    "            # 데이터베이스 철회\n",
    "            conn.rollback()\n",
    "            \n",
    "        # 데이터베이스 커넥션 닫기\n",
    "        conn.close()\n",
    "    \n",
    "    return is_success   \n"
   ]
  },
  {
   "cell_type": "code",
   "execution_count": 8,
   "metadata": {},
   "outputs": [],
   "source": [
    "import pandas as pd\n",
    "\n",
    "# 1개 조회용 함수\n",
    "def select_one_book(db_name):\n",
    "    \"\"\"\n",
    "    최상단 하나의 데이터를 조회하는 함수\n",
    "    Args:\n",
    "        db_name : Database Name\n",
    "    Returns : \n",
    "        is_success : Boolean \n",
    "        ret_df : DataFrame of books\n",
    "    \"\"\"\n",
    "    ret_df = pd.DataFrame()\n",
    "    is_success = True\n",
    "    \n",
    "    try:\n",
    "        # 데이터베이스 커넥션 생성\n",
    "        conn = sqlite3.connect(db_name) \n",
    "\n",
    "        # 커서 확보\n",
    "        cur = conn.cursor()  \n",
    "\n",
    "        # 조회용 SQL 실행\n",
    "        db_sql = \"SELECT * FROM my_books \"\n",
    "        cur.execute(db_sql) \n",
    "\n",
    "        # 데이터 한개 출력하기\n",
    "        print('[3] 1개 데이터 출력하기')\n",
    "        # print(cur.fetchone())                          \n",
    "        book = cur.fetchone()\n",
    "        books = [book]\n",
    "        ret_df = getBooksDF(books)\n",
    "     \n",
    "    except:\n",
    "        is_success = False\n",
    "        print(\"Database Error!\")\n",
    "        \n",
    "    finally : \n",
    "        # 데이터베이스 커넥션 닫기\n",
    "        conn.close()\n",
    "        \n",
    "    return is_success, ret_df                                      \n"
   ]
  },
  {
   "cell_type": "code",
   "execution_count": 14,
   "metadata": {},
   "outputs": [
    {
     "name": "stdout",
     "output_type": "stream",
     "text": [
      "[3] 1개 데이터 출력하기\n",
      "Database Error!\n",
      "데이터가 성공적으로 수정되었습니다.\n",
      "[3] 1개 데이터 출력하기\n",
      "Database Error!\n"
     ]
    },
    {
     "data": {
      "text/html": [
       "<div>\n",
       "<style scoped>\n",
       "    .dataframe tbody tr th:only-of-type {\n",
       "        vertical-align: middle;\n",
       "    }\n",
       "\n",
       "    .dataframe tbody tr th {\n",
       "        vertical-align: top;\n",
       "    }\n",
       "\n",
       "    .dataframe thead th {\n",
       "        text-align: right;\n",
       "    }\n",
       "</style>\n",
       "<table border=\"1\" class=\"dataframe\">\n",
       "  <thead>\n",
       "    <tr style=\"text-align: right;\">\n",
       "      <th></th>\n",
       "    </tr>\n",
       "    <tr>\n",
       "      <th>update</th>\n",
       "    </tr>\n",
       "  </thead>\n",
       "  <tbody>\n",
       "    <tr>\n",
       "      <th>수정전</th>\n",
       "    </tr>\n",
       "    <tr>\n",
       "      <th>수정후</th>\n",
       "    </tr>\n",
       "  </tbody>\n",
       "</table>\n",
       "</div>"
      ],
      "text/plain": [
       "Empty DataFrame\n",
       "Columns: []\n",
       "Index: [수정전, 수정후]"
      ]
     },
     "execution_count": 14,
     "metadata": {},
     "output_type": "execute_result"
    }
   ],
   "source": [
    "# select_one_book(db_name)\n",
    "# update_books(db_name)\n",
    "# print('[데이터 수정 완료] ================== ')\n",
    "# select_one_book(db_name)\n",
    "\n",
    "is_success, books_df1 = select_one_book(db_name) \n",
    "\n",
    "if update_books(db_name):\n",
    "    print('데이터가 성공적으로 수정되었습니다.')\n",
    "else :\n",
    "    print('데이터가 수정되지 않았습니다')\n",
    "    \n",
    "is_success, books_df2 = select_one_book(db_name) \n",
    "\n",
    "books_df = pd.concat([books_df1, books_df2], axis=0)\n",
    "books_df['update'] = ['수정전', '수정후']\n",
    "books_df.set_index('update', inplace=True)\n",
    "books_df\n"
   ]
  },
  {
   "cell_type": "code",
   "execution_count": 15,
   "metadata": {},
   "outputs": [
    {
     "data": {
      "text/html": [
       "<div>\n",
       "<style scoped>\n",
       "    .dataframe tbody tr th:only-of-type {\n",
       "        vertical-align: middle;\n",
       "    }\n",
       "\n",
       "    .dataframe tbody tr th {\n",
       "        vertical-align: top;\n",
       "    }\n",
       "\n",
       "    .dataframe thead th {\n",
       "        text-align: right;\n",
       "    }\n",
       "</style>\n",
       "<table border=\"1\" class=\"dataframe\">\n",
       "  <thead>\n",
       "    <tr style=\"text-align: right;\">\n",
       "      <th></th>\n",
       "    </tr>\n",
       "  </thead>\n",
       "  <tbody>\n",
       "  </tbody>\n",
       "</table>\n",
       "</div>"
      ],
      "text/plain": [
       "Empty DataFrame\n",
       "Columns: []\n",
       "Index: []"
      ]
     },
     "execution_count": 15,
     "metadata": {},
     "output_type": "execute_result"
    }
   ],
   "source": [
    "books_df1"
   ]
  },
  {
   "cell_type": "markdown",
   "metadata": {},
   "source": [
    "<hr>\n",
    "<marquee><font size=3 color='brown'>The BigpyCraft find the information to design valuable society with Technology & Craft.</font></marquee>\n",
    "<div align='right'><font size=2 color='gray'> &lt; The End &gt; </font></div>"
   ]
  }
 ],
 "metadata": {
  "kernelspec": {
   "display_name": "Python 3 (ipykernel)",
   "language": "python",
   "name": "python3"
  },
  "language_info": {
   "codemirror_mode": {
    "name": "ipython",
    "version": 3
   },
   "file_extension": ".py",
   "mimetype": "text/x-python",
   "name": "python",
   "nbconvert_exporter": "python",
   "pygments_lexer": "ipython3",
   "version": "3.9.7"
  }
 },
 "nbformat": 4,
 "nbformat_minor": 2
}
