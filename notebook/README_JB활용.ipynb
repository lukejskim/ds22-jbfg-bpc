{
 "cells": [
  {
   "cell_type": "markdown",
   "metadata": {
    "collapsed": true
   },
   "source": [
    "# Data Science Course for JBFG, 2022"
   ]
  },
  {
   "cell_type": "markdown",
   "metadata": {
    "collapsed": true
   },
   "source": [
    "<div align='right'><font size=2 color='gray'>Python For BigData @ <font color='blue'><a href='https://www.facebook.com/jskim.kr'>FB / jskim.kr</a></font>, [김진수](bigpycraft@gmail.com)</font></div>\n",
    "<hr>"
   ]
  },
  {
   "cell_type": "markdown",
   "metadata": {},
   "source": [
    "## JB Financial Group"
   ]
  },
  {
   "cell_type": "markdown",
   "metadata": {},
   "source": [
    "<img src=\"./images/img_main_front.png\">"
   ]
  },
  {
   "cell_type": "markdown",
   "metadata": {},
   "source": [
    "## Innovation Growth Intensive Training\n",
    "- <b>Markdown - Make Table</b>\n",
    "- Python Packages and Modules\n",
    "- Data Processing and Analysis\n",
    "- Web Cralwling\n",
    "- Natural Language Processing\n",
    "- Machine Learning\n",
    "- Deep Learning\n",
    "\n",
    "<hr>"
   ]
  },
  {
   "cell_type": "markdown",
   "metadata": {},
   "source": [
    "## <font color='brown'>Markdown - Make Table</font>\n",
    ">     \n",
    "- 마크다운 표(테이블) 만들기\n",
    "- LINK1 : https://inasie.github.io/it%EC%9D%BC%EB%B0%98/%EB%A7%88%ED%81%AC%EB%8B%A4%EC%9A%B4-%ED%91%9C-%EB%A7%8C%EB%93%A4%EA%B8%B0/\n",
    "- LINK2 : https://github.com/adam-p/markdown-here/wiki/Markdown-Cheatsheet"
   ]
  },
  {
   "cell_type": "markdown",
   "metadata": {},
   "source": [
    "#### <font color='blue'>일반적인 표</font>\n",
    "> 문자와 — 문자로 표를 만들 수 있습니다.\n",
    "```python\n",
    "|제목|내용|설명|\n",
    "|------|---|---|\n",
    "|테스트1|테스트2|테스트3|\n",
    "|테스트1|테스트2|테스트3|\n",
    "|테스트1|테스트2|테스트3|\n",
    "```\n",
    "\n",
    "|제목|내용|설명|\n",
    "|------|---|---|\n",
    "|테스트1|테스트2|테스트3|\n",
    "|테스트1|테스트2|테스트3|\n",
    "|테스트1|테스트2|테스트3|\n",
    "\n",
    "<hr>"
   ]
  },
  {
   "cell_type": "markdown",
   "metadata": {},
   "source": [
    "#### <font color='blue'>정렬</font>\n",
    "> : 문자로 정렬을 정의할 수 있습니다.\n",
    "```python\n",
    "|제목|내용|설명|\n",
    "|:---|---:|:---:|\n",
    "|왼쪽정렬|오른쪽정렬|중앙정렬|\n",
    "|왼쪽정렬|오른쪽정렬|중앙정렬|\n",
    "|왼쪽정렬|오른쪽정렬|중앙정렬|\n",
    "```\n",
    "\n",
    "|제목|내용|설명|\n",
    "|:---|---:|:---:|\n",
    "|왼쪽정렬|오른쪽정렬|중앙정렬|\n",
    "|왼쪽정렬|오른쪽정렬|중앙정렬|\n",
    "|왼쪽정렬|오른쪽정렬|중앙정렬|\n",
    "\n",
    "<hr>"
   ]
  },
  {
   "cell_type": "markdown",
   "metadata": {},
   "source": [
    "#### <font color='blue'>셀 확장</font>\n",
    "> 사이가 비어있으면 자동 확장됩니다.\n",
    "```python\n",
    "|제목|내용|설명|\n",
    "|:---|:---:|---:|\n",
    "||중앙에서확장||\n",
    "|||오른쪽에서 확장|\n",
    "|왼쪽에서확장||\n",
    "```\n",
    "\n",
    "|제목|내용|설명|\n",
    "|:---|:---:|---:|\n",
    "||중앙에서확장||\n",
    "|||오른쪽에서 확장|\n",
    "|왼쪽에서확장||\n",
    "\n",
    "<hr>"
   ]
  },
  {
   "cell_type": "markdown",
   "metadata": {},
   "source": [
    "#### <font color='blue'>셀 강조</font>\n",
    "> 일반적인 text와 마찬가지로 * 와 ** 를 통해 이탤릭/강조를 표시할 수 있습니다. span tag를 사용하면 컬러도 표시할 수 있습니다.\n",
    "```python\n",
    "|제목|내용|설명|\n",
    "|---|---|---|\n",
    "|테스트1|*강조1*|테스트3|\n",
    "|테스트1|**강조2**|테스트3|\n",
    "|테스트1|<span style=\"color:red\">강조3</span>|테스트3|\n",
    "```\n",
    "\n",
    "|제목|내용|설명|\n",
    "|---|---|---|\n",
    "|테스트1|*강조1*|테스트3|\n",
    "|테스트1|**강조2**|테스트3|\n",
    "|테스트1|<span style=\"color:red\">강조3</span>|테스트3|\n",
    "\n",
    "<hr>"
   ]
  },
  {
   "cell_type": "markdown",
   "metadata": {},
   "source": [
    "#### <font color='blue'>Horizontal Rule</font>\n",
    "> 수평라인 \n",
    "\n",
    "```python\n",
    "\n",
    "Three or more...\n",
    "\n",
    "- - - : Hyphens\n",
    "\n",
    "* * * : Asterisks\n",
    "\n",
    "_ _ _ : Underscores\n",
    "\n",
    "```\n",
    "\n",
    "* 라인 구분자 표시 \n",
    "\n",
    "---\n",
    "Hyphens\n",
    "\n",
    "\n",
    "***\n",
    "Asterisks\n",
    "\n",
    "___\n",
    "Underscores\n",
    "\n",
    "<hr>"
   ]
  },
  {
   "cell_type": "markdown",
   "metadata": {},
   "source": [
    "### 유튜브 : 마크다운(Markdown) 6분 순삭 정리 + 깃허브 리드미(ReadMe) 파일 작성 팁\n",
    "[![youtube](https://i.ytimg.com/an_webp/kMEb_BzyUqk/mqdefault_6s.webp?du=3000&sqp=CJDNp5QG&rs=AOn4CLD0d3vL1A5uLlu-5W7aRvkXaoCegg)](https://www.youtube.com/watch?v=kMEb_BzyUqk)"
   ]
  },
  {
   "cell_type": "code",
   "execution_count": null,
   "metadata": {},
   "outputs": [],
   "source": []
  },
  {
   "cell_type": "code",
   "execution_count": null,
   "metadata": {},
   "outputs": [],
   "source": []
  },
  {
   "cell_type": "markdown",
   "metadata": {},
   "source": [
    "## <font color='brown'>Markdown - Expander control</font>\n",
    ">     \n",
    "- 마크다운 접기/펼치기 만들기\n",
    "- LINK : https://inasie.github.io/it%EC%9D%BC%EB%B0%98/%EB%A7%88%ED%81%AC%EB%8B%A4%EC%9A%B4-expander-control/"
   ]
  },
  {
   "cell_type": "markdown",
   "metadata": {},
   "source": [
    "#### <font color='blue'>접기/펼치기</font>\n",
    "> 마크다운 자체엔 기능이 없는 듯 하여 html 의 details를 이용합니다.\n",
    "- 마크다운이라쓰고 html이라 읽는다\n",
    "- div markdown=”1” 은 jekyll에서 html사이에 markdown을 인식 하기 위한 코드입니다.\n",
    "- 코드\n",
    "\n",
    "```javascript\n",
    "\n",
    "<details>\n",
    "<summary>접기/펼치기 버튼</summary>\n",
    "<div markdown=\"1\">\n",
    "\n",
    "|제목|내용|\n",
    "|--|--|\n",
    "|1|1|\n",
    "|2|10|\n",
    "\n",
    "</div>\n",
    "</details>\n",
    "\n",
    "```\n"
   ]
  },
  {
   "cell_type": "markdown",
   "metadata": {},
   "source": [
    "\n",
    "<details>\n",
    "<summary>접기/펼치기 버튼</summary>\n",
    "<div markdown=\"1\">\n",
    "\n",
    "|제목|내용|\n",
    "|--|--|\n",
    "|1|1|\n",
    "|2|10|\n",
    "\n",
    "</div>\n",
    "</details>\n",
    "\n",
    "<hr>"
   ]
  },
  {
   "cell_type": "code",
   "execution_count": null,
   "metadata": {},
   "outputs": [],
   "source": []
  },
  {
   "cell_type": "code",
   "execution_count": null,
   "metadata": {},
   "outputs": [],
   "source": []
  },
  {
   "cell_type": "markdown",
   "metadata": {},
   "source": [
    "### <font color='brown'>Magic Command </font>"
   ]
  },
  {
   "cell_type": "markdown",
   "metadata": {},
   "source": [
    "####  1. %matplotlib notebook : 동적 모드로 그래프 작성"
   ]
  },
  {
   "cell_type": "markdown",
   "metadata": {},
   "source": [
    "| 매직 커맨드\t| 의미 | \n",
    "|:--|:--|\n",
    "| %matplotlib inlinevv | show 명령 없이도 바로 그래프 표현 (정적) |\n",
    "| %matplotlib notebook | show 명령 없이도 바로 그래프 표현 (동적) |\n"
   ]
  },
  {
   "cell_type": "markdown",
   "metadata": {},
   "source": [
    "![매직커맨드_활용](./img_readme/magic_cmd_1-1.png)"
   ]
  },
  {
   "cell_type": "markdown",
   "metadata": {},
   "source": [
    "![매직커맨드_활용](./img_readme/magic_cmd_1-2.png)"
   ]
  },
  {
   "cell_type": "markdown",
   "metadata": {},
   "source": [
    "#### 2. %time, %timeit, %%time, %%timeit\n",
    "\n",
    "<!--\n",
    "<table style=\"border-collapse: collapse; width: 100%; height: 100px;\" border=\"1\" data-ke-style=\"style15\">\n",
    "<tbody>\n",
    "<tr style=\"height: 20px;\">\n",
    "<td style=\"width: 15.4651%; height: 20px;\">매직 커맨드</td>\n",
    "<td style=\"width: 11.1628%; height: 20px;\">적용 범위</td>\n",
    "<td style=\"width: 73.2558%; height: 20px;\">의미</td>\n",
    "</tr>\n",
    "<tr style=\"height: 20px;\">\n",
    "<td style=\"width: 15.4651%; height: 20px; text-align: left;\">%time</td>\n",
    "<td style=\"width: 11.1628%; height: 20px; text-align: left;\">라인</td>\n",
    "<td style=\"width: 73.2558%; height: 20px; text-align: left;\"><span style=\"color: #333333;\">명령어 뒤에 한줄 코드가 수행되는데 걸리는 시간을 반환합니다.</span></td>\n",
    "</tr>\n",
    "<tr style=\"height: 20px;\">\n",
    "<td style=\"width: 15.4651%; height: 20px; text-align: left;\">%timeit</td>\n",
    "<td style=\"width: 11.1628%; height: 20px; text-align: left;\">라인</td>\n",
    "<td style=\"width: 73.2558%; height: 20px; text-align: left;\"><span style=\"color: #333333;\">time + iteration 으로 이해하시면 됩니다. 명령어 뒤에 한줄 코드를 몇번 반복 수행 후 평균 시간을 반환합니다.</span></td>\n",
    "</tr>\n",
    "<tr style=\"height: 20px;\">\n",
    "<td style=\"width: 15.4651%; height: 20px; text-align: left;\">%%time</td>\n",
    "<td style=\"width: 11.1628%; height: 20px; text-align: left;\">셀</td>\n",
    "<td style=\"width: 73.2558%; height: 20px; text-align: left;\"><span style=\"color: #333333;\">%를 두개 적으면, Cell 전체에 적용이 됩니다. 즉, Cell 코드를 모두 수행한 후 시간을 측정하여 반환합니다.</span></td>\n",
    "</tr>\n",
    "<tr style=\"height: 20px;\">\n",
    "<td style=\"width: 15.4651%; height: 20px; text-align: left;\">%%timeit</td>\n",
    "<td style=\"width: 11.1628%; height: 20px; text-align: left;\">셀</td>\n",
    "<td style=\"width: 73.2558%; height: 20px; text-align: left;\"><span style=\"color: #333333;\">%를 두개 적으면, Cell 전체에 적용이 됩니다. 즉, Cell 코드를 모두 반복 수행한 후 평균 시간을 측정하여 반환합니다.</span></td>\n",
    "</tr>\n",
    "</tbody>\n",
    "</table>\n",
    "-->"
   ]
  },
  {
   "cell_type": "markdown",
   "metadata": {},
   "source": [
    "| 매직 커맨드 | 적용 범위 | 의미 | \n",
    "|:--|:--:|:--|\n",
    "| %time       | 라인      | 명령어 뒤에 한줄 코드가 수행되는데 걸리는 시간을 반환합니다. | \n",
    "| %timeit     | 라인      | time + iteration 으로 이해하시면 됩니다. 명령어 뒤에 한줄 코드를 몇번 반복 수행 후 평균 시간을 반환합니다. | \n",
    "| %%time      | 셀        | %를 두개 적으면, Cell 전체에 적용이 됩니다. 즉, Cell 코드를 모두 수행한 후 시간을 측정하여 반환합니다. | \n",
    "| %%timeit    | 셀        | %를 두개 적으면, Cell 전체에 적용이 됩니다. 즉, Cell 코드를 모두 반복 수행한 후 평균 시간을 측정하여 반환합니다. | \n"
   ]
  },
  {
   "cell_type": "markdown",
   "metadata": {},
   "source": [
    "![매직커맨드_활용](./img_readme/magic_cmd_2.png)"
   ]
  },
  {
   "cell_type": "markdown",
   "metadata": {},
   "source": [
    "#### 3. %who, %who_ls, %whos\n",
    "> \n",
    "> - %who, %who_ls, %whos 일명 who 시리즈 매직 키워드는 현재 커널 메모리에 할당된 변수 정보를 반환해 줍니다.\n",
    "> - 여기서 변수라 함은 일반적으로 생각하는 int, str, float, list 등 이런 변수 개념 보다 큽니다.\n",
    "> - 특정 이름의 변수에 할당된 모듈, 함수, 등 모든 것이 반환됩니다."
   ]
  },
  {
   "cell_type": "markdown",
   "metadata": {},
   "source": [
    "| 매직 커맨드 | 의미 | \n",
    "|:--|:--|\n",
    "| %who    | 변수명을 tab 으로 단순하게 나열 하여 반환 합니다. | \n",
    "| %who_ls | 변수명을 리스트 형태로 반환합니다.                | \n",
    "| %whos   | 변수명, 유형, 데이터 정보를 상세히 반환합니다.    | \n"
   ]
  },
  {
   "cell_type": "markdown",
   "metadata": {},
   "source": [
    "![매직커맨드_활용](./img_readme/magic_cmd_3.png)"
   ]
  },
  {
   "cell_type": "code",
   "execution_count": null,
   "metadata": {},
   "outputs": [],
   "source": []
  },
  {
   "cell_type": "markdown",
   "metadata": {},
   "source": [
    "<hr>\n",
    "<marquee><font size=3 color='brown'>The BigpyCraft find the information to design valuable society with Technology & Craft.</font></marquee>\n",
    "<div align='right'><font size=2 color='gray'> &lt; The End &gt; </font></div>"
   ]
  }
 ],
 "metadata": {
  "kernelspec": {
   "display_name": "Python 3 (ipykernel)",
   "language": "python",
   "name": "python3"
  },
  "language_info": {
   "codemirror_mode": {
    "name": "ipython",
    "version": 3
   },
   "file_extension": ".py",
   "mimetype": "text/x-python",
   "name": "python",
   "nbconvert_exporter": "python",
   "pygments_lexer": "ipython3",
   "version": "3.9.7"
  }
 },
 "nbformat": 4,
 "nbformat_minor": 2
}
