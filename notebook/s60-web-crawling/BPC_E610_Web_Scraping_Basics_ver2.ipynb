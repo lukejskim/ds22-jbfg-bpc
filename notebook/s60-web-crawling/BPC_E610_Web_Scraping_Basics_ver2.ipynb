{
 "cells": [
  {
   "cell_type": "markdown",
   "metadata": {},
   "source": [
    "# Industry 4.0 의 중심, BigData"
   ]
  },
  {
   "cell_type": "markdown",
   "metadata": {},
   "source": [
    "<div align='right'><font size=2 color='gray'>Data Processing Based Python @ <font color='blue'><a href='https://www.facebook.com/jskim.kr'>FB / jskim.kr</a></font>, [김진수](bigpycraft@gmail.com)</font></div>\n",
    "<hr>"
   ]
  },
  {
   "cell_type": "markdown",
   "metadata": {},
   "source": [
    "## <font color='brown'>웹 스크레이핑을 위한 기본 지식 </font>"
   ]
  },
  {
   "cell_type": "markdown",
   "metadata": {},
   "source": [
    "### HTML의 기본 구조\n",
    ">  \n",
    "- Markup Language는 Tree 구조\n",
    "- 시작태그가 있으면 끝태그가 존재"
   ]
  },
  {
   "cell_type": "code",
   "execution_count": 1,
   "metadata": {},
   "outputs": [],
   "source": [
    "import os\n",
    "from os.path import exists"
   ]
  },
  {
   "cell_type": "code",
   "execution_count": 2,
   "metadata": {},
   "outputs": [
    {
     "name": "stdout",
     "output_type": "stream",
     "text": [
      "[webdocu]은(는) 이미 존재합니다.\n"
     ]
    }
   ],
   "source": [
    "dir_name = 'webdocu'\n",
    "\n",
    "if not exists(dir_name):\n",
    "    os.mkdir(dir_name)\n",
    "    print('[%s] 디렉터리를 생성했습니다.' %dir_name)\n",
    "else:\n",
    "    print('[%s]은(는) 이미 존재합니다.' %dir_name)"
   ]
  },
  {
   "cell_type": "markdown",
   "metadata": {},
   "source": [
    "<hr>\n",
    "\n",
    "#### <font color='#CC0000'>HTML 실습1</font>"
   ]
  },
  {
   "cell_type": "code",
   "execution_count": 3,
   "metadata": {
    "scrolled": true
   },
   "outputs": [
    {
     "name": "stdout",
     "output_type": "stream",
     "text": [
      "Overwriting ./webdocu/html_ex01.html\n"
     ]
    }
   ],
   "source": [
    "%%writefile ./webdocu/html_ex01.html \n",
    "<!doctype html>\n",
    "<html>\n",
    "  <head>\n",
    "    <meta charset=\"utf-8\">\n",
    "    <title>서울산업진흥원 교육과정</title>\n",
    "  </head>\n",
    "  <body>\n",
    "     <h1>빅데이터 사이언스 실무자 양성과정</h1>\n",
    "     <p id=\"subject\">파이썬기반 빅데이터분석</p>\n",
    "     <p id=\"teacher\">김진수</p>\n",
    "     <p id=\"school\">한국IT직업전문학교</p>\n",
    "     <p id=\"semester\">2019</p>\n",
    "  </body>\n",
    "</html>"
   ]
  },
  {
   "cell_type": "markdown",
   "metadata": {},
   "source": [
    "#### <font color='#0000CC'> Markdown 에서 아래와 같이 입력하고, 클릭</font>\n",
    "```html\n",
    "<a href='./webdocu/html_ex01.html'>HTML 코드 1</a>\n",
    "```"
   ]
  },
  {
   "cell_type": "markdown",
   "metadata": {},
   "source": [
    "<hr>\n",
    "\n",
    "#### <font color='#CC0000'>HTML 실습2</font>"
   ]
  },
  {
   "cell_type": "code",
   "execution_count": 4,
   "metadata": {},
   "outputs": [
    {
     "name": "stdout",
     "output_type": "stream",
     "text": [
      "Overwriting ./webdocu/html_ex02.html\n"
     ]
    }
   ],
   "source": [
    "%%writefile ./webdocu/html_ex02.html \n",
    "<!doctype html>\n",
    "<html>\n",
    "  <head>\n",
    "    <meta charset=\"utf-8\">\n",
    "    <title>서울산업진흥원 교육과정</title>\n",
    "  </head>\n",
    "  <body>\n",
    "     <table>\n",
    "        <tr>\n",
    "          <td colspan=2><h2>빅데이터 사이언스 실무자 양성과정</h2></td>\n",
    "        </tr>\n",
    "        <tr>\n",
    "          <td>과목</td>\n",
    "          <td>파이썬기반 빅데이터분석</td>\n",
    "        </tr>\n",
    "        <tr>\n",
    "          <td>강사</td>\n",
    "          <td>김진수</td>\n",
    "        </tr>\n",
    "        <tr>\n",
    "          <td>교육장소</td>\n",
    "          <td>한국IT직업전문학교</td>\n",
    "        </tr>\n",
    "        <tr>\n",
    "          <td>학기</td>\n",
    "          <td>2019년도</td>\n",
    "        </tr>\n",
    "     <table>\n",
    "  </body>\n",
    "</html>"
   ]
  },
  {
   "cell_type": "markdown",
   "metadata": {},
   "source": [
    "#### <font color='#0000CC'> Markdown 에서 아래와 같이 입력하고, 클릭</font>\n",
    "```html\n",
    "<a href='./webdocu/html_ex02.html'>HTML 코드 2</a>\n",
    "```"
   ]
  },
  {
   "cell_type": "markdown",
   "metadata": {},
   "source": [
    "<hr>\n",
    "\n",
    "#### <font color='#CC0000'>HTML 실습3</font>"
   ]
  },
  {
   "cell_type": "code",
   "execution_count": 5,
   "metadata": {},
   "outputs": [
    {
     "name": "stdout",
     "output_type": "stream",
     "text": [
      "Overwriting ./webdocu/html_ex03.html\n"
     ]
    }
   ],
   "source": [
    "%%writefile ./webdocu/html_ex03.html \n",
    "<!doctype html>\n",
    "<html>\n",
    "  <head>\n",
    "    <meta charset=\"utf-8\">\n",
    "    <title>서울산업진흥원 교육과정</title>\n",
    "  </head>\n",
    "  <body>\n",
    "     <table width='800' height='50' border=1 padding=1 bgcolor='#FFFF00'>\n",
    "        <tr>\n",
    "          <td colspan=2><font size=5 color='red'>빅데이터 사이언스 실무자 양성과정</font></td>\n",
    "        </tr>\n",
    "        <tr>\n",
    "          <td width='25%'>과목</td>\n",
    "          <td width='75%'>파이썬기반 빅데이터분석</td>\n",
    "        </tr>\n",
    "        <tr>\n",
    "          <td>강사</td>\n",
    "          <td><b>김진수</b></td>\n",
    "        </tr>\n",
    "        <tr>\n",
    "          <td>교육장소</td>\n",
    "          <td><u>한국IT직업전문학교</u></td>\n",
    "        </tr>\n",
    "        <tr>\n",
    "          <td>학기</td><hr>\n",
    "\n",
    "#### <font color='#CC0000'>HTML 실습1</font>\n",
    "          <td><i>2019년도</i></td>\n",
    "        </tr>\n",
    "     <table>\n",
    "  </body>\n",
    "</html>"
   ]
  },
  {
   "cell_type": "markdown",
   "metadata": {},
   "source": [
    "#### <font color='#0000CC'> Markdown 에서 아래와 같이 입력하고, 클릭</font>\n",
    "```html\n",
    "<a href='./webdocu/html_ex03.html'>HTML 코드 3</a>\n",
    "```"
   ]
  },
  {
   "cell_type": "markdown",
   "metadata": {},
   "source": [
    "<hr>\n",
    "\n",
    "#### <font color='#CC0000'>HTML 실습4</font>"
   ]
  },
  {
   "cell_type": "code",
   "execution_count": 6,
   "metadata": {},
   "outputs": [
    {
     "name": "stdout",
     "output_type": "stream",
     "text": [
      "Overwriting ./webdocu/html_ex04.html\n"
     ]
    }
   ],
   "source": [
    "%%writefile ./webdocu/html_ex04.html \n",
    "<!doctype html>\n",
    "<html>\n",
    "  <head>\n",
    "    <meta charset=\"utf-8\">\n",
    "    <title>서울산업진흥원 교육과정</title>\n",
    "    <style>\n",
    "      table {\n",
    "        width: 100%;\n",
    "        border: 1px solid #333333;\n",
    "      }\n",
    "      td {\n",
    "        padding: 10px;\n",
    "        border: 1px solid #333333;\n",
    "      }\n",
    "      .style_1 {\n",
    "        border-collapse: separate;\n",
    "      }\n",
    "      .style_2 {\n",
    "        border-collapse: collapse;\n",
    "      }\n",
    "      td.type1{\n",
    "           text-align:center; \n",
    "           border:2px solid red; \n",
    "           text-color:gray;\n",
    "           width:100;\n",
    "        }\n",
    "      td.type2{\n",
    "           text-align:right; \n",
    "           border:3px dotted blue; \n",
    "           text-color:gray;\n",
    "           width:100;\n",
    "        }\n",
    "      td.type3{\n",
    "           text-align:left; \n",
    "           border:3px ridge green; \n",
    "           text-color:#FF0000;\n",
    "           width:100;\n",
    "        }\n",
    "    </style>\n",
    "  </head>\n",
    "  <body>\n",
    "     <table class='style_1'>\n",
    "        <tr>\n",
    "          <td colspan=2><h2>빅데이터 사이언스 실무자 양성과정1</h2></td>\n",
    "        </tr>\n",
    "        <tr>\n",
    "          <td class='type1'>과목</td>\n",
    "          <td class='type2'>파이썬기반 빅데이터분석</td>\n",
    "        </tr>\n",
    "        <tr>\n",
    "          <td style=\"border:5px outset pink;\">강사</td>\n",
    "          <td style=\"border:5px outset lightblue;\">김진수</td>\n",
    "        </tr>\n",
    "     <table>\n",
    "     <br/><br/>\n",
    "     <table class='style_2'>\n",
    "        <tr>\n",
    "          <td colspan=2 class='type1'><h2>빅데이터 사이언스 실무자 양성과정2</h2></td>\n",
    "        </tr>\n",
    "        <tr>\n",
    "          <td>교육장소</td>\n",
    "          <td>한국IT직업전문학교</td>\n",
    "        </tr>\n",
    "        <tr>\n",
    "          <td class='type3'>학기</td>\n",
    "          <td class='type3'>2019년도</td>\n",
    "        </tr>\n",
    "     <table>\n",
    "  </body>\n",
    "</html>"
   ]
  },
  {
   "cell_type": "markdown",
   "metadata": {},
   "source": [
    "#### <font color='#0000CC'> Markdown 에서 아래와 같이 입력하고, 클릭</font>\n",
    "```html\n",
    "<a href='./webdocu/html_ex04.html'>HTML 코드 4</a>\n",
    "```"
   ]
  },
  {
   "cell_type": "markdown",
   "metadata": {},
   "source": [
    "<hr>"
   ]
  },
  {
   "cell_type": "markdown",
   "metadata": {},
   "source": [
    "### 웹 페이지의 HTML 소스 갖고 오기"
   ]
  },
  {
   "cell_type": "code",
   "execution_count": 7,
   "metadata": {},
   "outputs": [],
   "source": [
    "import requests"
   ]
  },
  {
   "cell_type": "code",
   "execution_count": 8,
   "metadata": {},
   "outputs": [
    {
     "data": {
      "text/plain": [
       "<Response [200]>"
      ]
     },
     "execution_count": 8,
     "metadata": {},
     "output_type": "execute_result"
    }
   ],
   "source": [
    "url  = \"https://www.naver.com\"\n",
    "html = requests.get(url)\n",
    "html"
   ]
  },
  {
   "cell_type": "code",
   "execution_count": 9,
   "metadata": {},
   "outputs": [
    {
     "data": {
      "text/plain": [
       "'<!doctype html>\\n\\n\\n\\n\\n\\n\\n\\n\\n\\n\\n\\n\\n\\n\\n\\n\\n<html lang=\"ko\">\\n<head>\\n<meta charset=\"utf-8\">\\n<meta name=\"Referrer\" content=\"origin\">\\n<meta http-equiv=\"Content-Script-Type\" content=\"text/javascript\">\\n<meta http-equiv=\"Content-Style-Type\" content=\"text/css\">\\n<meta http-equiv=\"X-UA-Compatible\" content=\"IE=edge\">\\n<meta name=\"viewport\" content=\"width=1100\">\\n<meta name=\"apple-mobile-web-app-title\" content=\"NAVER\" />\\n<meta name=\"robots\" content=\"index,nofollow\"/>\\n<meta name=\"description\" content=\"네이버 메인에서 다양한 정보와 유용한 컨텐츠를 만나 보세요\"/>\\n<meta property=\"og:title\" content=\"네이버\">\\n<meta property=\"og:url\" content=\"https://www.naver.com/\">\\n<meta property=\"og:image\" content=\"https://s.pstatic.net/static/www/mobile/edit/2016/0705/mobile_212852414260.png\">\\n<meta property=\"og:description\" content=\"네이버 메인에서 다양한 정보와 유용한 컨텐츠를 만나 보세요\"/>\\n<meta name=\"twitter:card\" content=\"summary\">\\n<meta name=\"twitter:title\" content=\"\">\\n<meta name=\"twitter:url\" content=\"https://www.naver.com/\">\\n<meta name=\"twitter:image\" content=\"https://s.ps'"
      ]
     },
     "execution_count": 9,
     "metadata": {},
     "output_type": "execute_result"
    }
   ],
   "source": [
    "html.text[0:1000]"
   ]
  },
  {
   "cell_type": "code",
   "execution_count": 10,
   "metadata": {},
   "outputs": [
    {
     "data": {
      "text/plain": [
       "requests.models.Response"
      ]
     },
     "execution_count": 10,
     "metadata": {},
     "output_type": "execute_result"
    }
   ],
   "source": [
    "type(html)"
   ]
  },
  {
   "cell_type": "code",
   "execution_count": 11,
   "metadata": {},
   "outputs": [
    {
     "data": {
      "text/plain": [
       "str"
      ]
     },
     "execution_count": 11,
     "metadata": {},
     "output_type": "execute_result"
    }
   ],
   "source": [
    "type(html.text)"
   ]
  },
  {
   "cell_type": "markdown",
   "metadata": {},
   "source": [
    "### HTML 소스코드를 분석하고 처리하기"
   ]
  },
  {
   "cell_type": "markdown",
   "metadata": {},
   "source": [
    "#### 데이터 찾고 추출하기"
   ]
  },
  {
   "cell_type": "code",
   "execution_count": 12,
   "metadata": {},
   "outputs": [
    {
     "data": {
      "text/plain": [
       "<html>\n",
       "<body>\n",
       "<div>\n",
       "<span>\n",
       "<a href=\"http://www.naver.com\">네이버</a>\n",
       "<a href=\"http://www.google.com\">구글</a>\n",
       "<a href=\"http://www.daum.net\">다음</a>\n",
       "</span>\n",
       "</div></body></html>"
      ]
     },
     "execution_count": 12,
     "metadata": {},
     "output_type": "execute_result"
    }
   ],
   "source": [
    "from bs4 import BeautifulSoup\n",
    "\n",
    "html = \"\"\"\n",
    "<html>\n",
    "<body>\n",
    "<div>\n",
    "<span>\n",
    "    <a href=http://www.naver.com>네이버</a>\n",
    "    <a href=http://www.google.com>구글</a>\n",
    "    <a href=http://www.daum.net>다음</a>\n",
    "</span>\n",
    "</div></body></html>\n",
    "\"\"\" \n",
    "\n",
    "# BeautifulSoup를 이용해 HTML 소스를 파싱\n",
    "soup = BeautifulSoup(html, 'lxml') \n",
    "soup"
   ]
  },
  {
   "cell_type": "code",
   "execution_count": 13,
   "metadata": {},
   "outputs": [
    {
     "name": "stdout",
     "output_type": "stream",
     "text": [
      "<html>\n",
      " <body>\n",
      "  <div>\n",
      "   <span>\n",
      "    <a href=\"http://www.naver.com\">\n",
      "     네이버\n",
      "    </a>\n",
      "    <a href=\"http://www.google.com\">\n",
      "     구글\n",
      "    </a>\n",
      "    <a href=\"http://www.daum.net\">\n",
      "     다음\n",
      "    </a>\n",
      "   </span>\n",
      "  </div>\n",
      " </body>\n",
      "</html>\n",
      "\n"
     ]
    }
   ],
   "source": [
    "print(soup.prettify())"
   ]
  },
  {
   "cell_type": "code",
   "execution_count": 14,
   "metadata": {},
   "outputs": [
    {
     "data": {
      "text/plain": [
       "<a href=\"http://www.naver.com\">네이버</a>"
      ]
     },
     "execution_count": 14,
     "metadata": {},
     "output_type": "execute_result"
    }
   ],
   "source": [
    "soup.find('a')"
   ]
  },
  {
   "cell_type": "code",
   "execution_count": 15,
   "metadata": {},
   "outputs": [
    {
     "data": {
      "text/plain": [
       "'네이버'"
      ]
     },
     "execution_count": 15,
     "metadata": {},
     "output_type": "execute_result"
    }
   ],
   "source": [
    "soup.find('a').get_text()"
   ]
  },
  {
   "cell_type": "code",
   "execution_count": 16,
   "metadata": {},
   "outputs": [
    {
     "data": {
      "text/plain": [
       "[<a href=\"http://www.naver.com\">네이버</a>,\n",
       " <a href=\"http://www.google.com\">구글</a>,\n",
       " <a href=\"http://www.daum.net\">다음</a>]"
      ]
     },
     "execution_count": 16,
     "metadata": {},
     "output_type": "execute_result"
    }
   ],
   "source": [
    "soup.find_all('a')"
   ]
  },
  {
   "cell_type": "code",
   "execution_count": 17,
   "metadata": {},
   "outputs": [
    {
     "data": {
      "text/plain": [
       "[<a href=\"http://www.naver.com\">네이버</a>,\n",
       " <a href=\"http://www.google.com\">구글</a>,\n",
       " <a href=\"http://www.daum.net\">다음</a>]"
      ]
     },
     "execution_count": 17,
     "metadata": {},
     "output_type": "execute_result"
    }
   ],
   "source": [
    "site_names = soup.find_all('a')\n",
    "site_names"
   ]
  },
  {
   "cell_type": "code",
   "execution_count": 18,
   "metadata": {},
   "outputs": [
    {
     "name": "stdout",
     "output_type": "stream",
     "text": [
      "네이버\n",
      "구글\n",
      "다음\n"
     ]
    }
   ],
   "source": [
    "for site_name in site_names:\n",
    "    print(site_name.get_text())"
   ]
  },
  {
   "cell_type": "code",
   "execution_count": 19,
   "metadata": {},
   "outputs": [],
   "source": [
    "from bs4 import BeautifulSoup\n",
    "\n",
    "# 테스트용 HTML 코드\n",
    "html2 = \"\"\"\n",
    "<html>\n",
    " <head>\n",
    "  <title>작품과 작가 모음</title>\n",
    " </head>\n",
    " <body>\n",
    "  <h1>책 정보</h1>\n",
    "  <p class=\"booknm\">역사의역사</p>\n",
    "  <p class=\"author\">유시민</p>\n",
    "  \n",
    "  <p class=\"booknm\">에디톨로지</p>\n",
    "  <p class=\"author\">김정운</p>\n",
    "\n",
    "  <p class=\"booknm\">데이터의 보이지 않는손</p>\n",
    "  <p class=\"author\">야노가즈오</p>\n",
    " </body>\n",
    "</html>\n",
    "\"\"\" \n"
   ]
  },
  {
   "cell_type": "code",
   "execution_count": 20,
   "metadata": {},
   "outputs": [
    {
     "data": {
      "text/plain": [
       "<title>작품과 작가 모음</title>"
      ]
     },
     "execution_count": 20,
     "metadata": {},
     "output_type": "execute_result"
    }
   ],
   "source": [
    "soup2 = BeautifulSoup(html2, \"lxml\")\n",
    "soup2.title"
   ]
  },
  {
   "cell_type": "code",
   "execution_count": 21,
   "metadata": {},
   "outputs": [
    {
     "data": {
      "text/plain": [
       "<body>\n",
       "<h1>책 정보</h1>\n",
       "<p class=\"booknm\">역사의역사</p>\n",
       "<p class=\"author\">유시민</p>\n",
       "<p class=\"booknm\">에디톨로지</p>\n",
       "<p class=\"author\">김정운</p>\n",
       "<p class=\"booknm\">데이터의 보이지 않는손</p>\n",
       "<p class=\"author\">야노가즈오</p>\n",
       "</body>"
      ]
     },
     "execution_count": 21,
     "metadata": {},
     "output_type": "execute_result"
    }
   ],
   "source": [
    "soup2.body"
   ]
  },
  {
   "cell_type": "code",
   "execution_count": 22,
   "metadata": {},
   "outputs": [
    {
     "data": {
      "text/plain": [
       "<h1>책 정보</h1>"
      ]
     },
     "execution_count": 22,
     "metadata": {},
     "output_type": "execute_result"
    }
   ],
   "source": [
    "soup2.body.h1"
   ]
  },
  {
   "cell_type": "code",
   "execution_count": 23,
   "metadata": {},
   "outputs": [
    {
     "data": {
      "text/plain": [
       "<p class=\"booknm\">역사의역사</p>"
      ]
     },
     "execution_count": 23,
     "metadata": {},
     "output_type": "execute_result"
    }
   ],
   "source": [
    "soup2.body.p"
   ]
  },
  {
   "cell_type": "code",
   "execution_count": 24,
   "metadata": {},
   "outputs": [
    {
     "data": {
      "text/plain": [
       "<p class=\"booknm\">역사의역사</p>"
      ]
     },
     "execution_count": 24,
     "metadata": {},
     "output_type": "execute_result"
    }
   ],
   "source": [
    "soup2.find('p')"
   ]
  },
  {
   "cell_type": "code",
   "execution_count": 25,
   "metadata": {},
   "outputs": [
    {
     "data": {
      "text/plain": [
       "[<p class=\"booknm\">역사의역사</p>,\n",
       " <p class=\"author\">유시민</p>,\n",
       " <p class=\"booknm\">에디톨로지</p>,\n",
       " <p class=\"author\">김정운</p>,\n",
       " <p class=\"booknm\">데이터의 보이지 않는손</p>,\n",
       " <p class=\"author\">야노가즈오</p>]"
      ]
     },
     "execution_count": 25,
     "metadata": {},
     "output_type": "execute_result"
    }
   ],
   "source": [
    "soup2.find_all('p')"
   ]
  },
  {
   "cell_type": "code",
   "execution_count": 26,
   "metadata": {},
   "outputs": [
    {
     "data": {
      "text/plain": [
       "<p class=\"booknm\">역사의역사</p>"
      ]
     },
     "execution_count": 26,
     "metadata": {},
     "output_type": "execute_result"
    }
   ],
   "source": [
    "soup2.find('p', 'booknm')"
   ]
  },
  {
   "cell_type": "code",
   "execution_count": 27,
   "metadata": {},
   "outputs": [
    {
     "data": {
      "text/plain": [
       "<p class=\"author\">유시민</p>"
      ]
     },
     "execution_count": 27,
     "metadata": {},
     "output_type": "execute_result"
    }
   ],
   "source": [
    "soup2.find('p', 'author')"
   ]
  },
  {
   "cell_type": "code",
   "execution_count": 28,
   "metadata": {},
   "outputs": [
    {
     "data": {
      "text/plain": [
       "[<p class=\"booknm\">역사의역사</p>,\n",
       " <p class=\"booknm\">에디톨로지</p>,\n",
       " <p class=\"booknm\">데이터의 보이지 않는손</p>]"
      ]
     },
     "execution_count": 28,
     "metadata": {},
     "output_type": "execute_result"
    }
   ],
   "source": [
    "soup2.find_all('p', 'booknm')"
   ]
  },
  {
   "cell_type": "code",
   "execution_count": 29,
   "metadata": {},
   "outputs": [
    {
     "data": {
      "text/plain": [
       "[<p class=\"author\">유시민</p>,\n",
       " <p class=\"author\">김정운</p>,\n",
       " <p class=\"author\">야노가즈오</p>]"
      ]
     },
     "execution_count": 29,
     "metadata": {},
     "output_type": "execute_result"
    }
   ],
   "source": [
    "soup2.find_all('p', 'author')"
   ]
  },
  {
   "cell_type": "code",
   "execution_count": 30,
   "metadata": {
    "scrolled": true
   },
   "outputs": [
    {
     "name": "stdout",
     "output_type": "stream",
     "text": [
      " ♣ 역사의역사 / 유시민 \n",
      " ♣ 에디톨로지 / 김정운 \n",
      " ♣ 데이터의 보이지 않는손 / 야노가즈오 \n"
     ]
    }
   ],
   "source": [
    "from bs4 import BeautifulSoup\n",
    "\n",
    "soup2 = BeautifulSoup(html2, \"lxml\")\n",
    "\n",
    "book_names   = soup2.find_all('p', 'booknm')\n",
    "book_authors = soup2.find_all('p', 'author')\n",
    "\n",
    "for b_names, b_authors in zip(book_names, book_authors):\n",
    "    print(' ♣ {b_n} / {b_a} '.format(\n",
    "        b_n = b_names.get_text(), \n",
    "        b_a = b_authors.get_text()\n",
    "    ))"
   ]
  },
  {
   "cell_type": "code",
   "execution_count": null,
   "metadata": {},
   "outputs": [],
   "source": []
  },
  {
   "cell_type": "markdown",
   "metadata": {},
   "source": [
    "## <font color='brown'>웹 사이트에서 데이터 가져오기 </font>"
   ]
  },
  {
   "cell_type": "markdown",
   "metadata": {},
   "source": [
    "### 웹사이트에서 순위 데이터 가져오기\n"
   ]
  },
  {
   "cell_type": "code",
   "execution_count": 31,
   "metadata": {},
   "outputs": [],
   "source": [
    "import os\n",
    "from os.path import exists\n",
    "\n",
    "import requests  \n",
    "from bs4 import BeautifulSoup "
   ]
  },
  {
   "cell_type": "markdown",
   "metadata": {},
   "source": [
    "#### <font color='#0000CC'>웹 사이트 순위 : Alexa - Top Sites in South Korea</font>"
   ]
  },
  {
   "cell_type": "code",
   "execution_count": 32,
   "metadata": {},
   "outputs": [
    {
     "data": {
      "text/plain": [
       "<title>Alexa - Top Sites in South Korea - Alexa</title>"
      ]
     },
     "execution_count": 32,
     "metadata": {},
     "output_type": "execute_result"
    }
   ],
   "source": [
    "# Alexa - Top Sites in South Korea\n",
    "url = \"https://www.alexa.com/topsites/countries/KR\"\n",
    "\n",
    "html = requests.get(url).text\n",
    "soup = BeautifulSoup(html, \"lxml\")\n",
    "soup.title"
   ]
  },
  {
   "cell_type": "code",
   "execution_count": 33,
   "metadata": {},
   "outputs": [
    {
     "data": {
      "text/plain": [
       "51"
      ]
     },
     "execution_count": 33,
     "metadata": {},
     "output_type": "execute_result"
    }
   ],
   "source": [
    "# p 태그의 요소 안에서 a 태그의 요소를 찾음\n",
    "website_ranking = soup.select('p a')\n",
    "len(website_ranking)"
   ]
  },
  {
   "cell_type": "code",
   "execution_count": 34,
   "metadata": {},
   "outputs": [
    {
     "data": {
      "text/plain": [
       "491"
      ]
     },
     "execution_count": 34,
     "metadata": {},
     "output_type": "execute_result"
    }
   ],
   "source": [
    "top_sites = soup.find_all('div')\n",
    "len(top_sites)"
   ]
  },
  {
   "cell_type": "code",
   "execution_count": 35,
   "metadata": {},
   "outputs": [
    {
     "data": {
      "text/plain": [
       "<div class=\"body-container\">\n",
       "<div class=\"alx-top \">\n",
       "<header class=\"alx-header LoggedOut\" id=\"alx-header\" style=\"position: fixed;\">\n",
       "<ul class=\"alexa-submenu Desktop\">\n",
       "<li><a href=\"/login\">Log in</a></li>\n",
       "<li><a href=\"https://blog.alexa.com\">Blog</a></li>\n",
       "<li><a href=\"https://try.alexa.com/resources\">Guides</a></li>\n",
       "<li><a href=\"https://try.alexa.com/offer/guided-tour\">Take Tour</a></li>\n",
       "</ul>\n",
       "<div class=\"row-fluid\">\n",
       "<section class=\"alexa-logo\" id=\"alexa-logo\">\n",
       "<a class=\"top-nav-link\" href=\"/\" title=\"Go to home page\"><img alt=\"Alexa logo\" src=\"/images/homepage/alexa-logo.png\"/></a>\n",
       "<a class=\"expandabletoggle maxUncanny top-nav-link\" href=\"#\"><i aria-hidden=\"true\" class=\"fa fa-bars\"></i></a>\n",
       "<ul class=\"MobileMenu expandable maxUncanny\" style=\"display:none;\">\n",
       "<li class=\"nomenu\"><a href=\"https://blog.alexa.com\">Blog</a></li>\n",
       "<li class=\"nomenu\"><a href=\"/login\">Log in</a></li>\n",
       "<li><a class=\"top-nav-link\" href=\"https://try.alexa.com/advanced-plan\">For Marketers</a></li>\n",
       "<li><a class=\"top-nav-link\" href=\"https://try.alexa.com/agency-plan\">For Agencies</a></li>\n",
       "<li>\n",
       "<p class=\"expandabletoggle\">Solutions</p>\n",
       "<ul class=\"expandable\" style=\"display:none;\">\n",
       "<li><a class=\"top-nav-link\" href=\"https://try.alexa.com/check-backlinks\">Check Backlinks</a></li>\n",
       "<li><a class=\"top-nav-link\" href=\"https://try.alexa.com/keyword-research\">Keyword Research</a></li>\n",
       "<li><a class=\"top-nav-link\" href=\"https://try.alexa.com/competitive-website-analysis\">Competitive Website Analysis</a></li>\n",
       "<li><a class=\"top-nav-link\" href=\"https://try.alexa.com/seo-analysis\">SEO Analysis</a></li>\n",
       "<li><a class=\"top-nav-link\" href=\"https://try.alexa.com/target-audience-analysis\">Target Audience Analysis</a></li>\n",
       "<li><a class=\"top-nav-link\" href=\"https://aws.amazon.com/marketplace/seller-profile?id=4a9dbf38-88b1-4e87-a459-271154a77d2e\">API</a></li>\n",
       "</ul>\n",
       "</li>\n",
       "<li>\n",
       "<p class=\"expandabletoggle\">Tools</p>\n",
       "<ul class=\"expandable\" style=\"display: none;\">\n",
       "<li>\n",
       "<p class=\"expandabletoggle\">Premium tools</p>\n",
       "<ul class=\"expandable\" style=\"display: none;\">\n",
       "<li><a class=\"top-nav-link\" href=\"https://try.alexa.com/marketing-stack/audience-overlap-tool\">Audience Overlap</a></li>\n",
       "<li><a class=\"top-nav-link\" href=\"https://try.alexa.com/marketing-stack/seo-audit-tool\">SEO Audit Tool</a></li>\n",
       "<li><a class=\"top-nav-link\" href=\"https://try.alexa.com/marketing-stack/competitor-keyword-matrix\">Competitor Keyword Matrix</a></li>\n",
       "<li><a class=\"top-nav-link\" href=\"https://try.alexa.com/marketing-stack/site-comparisons\">Site Comparisons</a></li>\n",
       "<li><a class=\"top-nav-link\" href=\"https://try.alexa.com/marketing-stack/keyword-difficulty-tool\">Keyword Difficulty</a></li>\n",
       "<li><a class=\"top-nav-link\" href=\"https://try.alexa.com/marketing-stack/on-page-seo-checker\">On-Page SEO Checker</a></li>\n",
       "<li><a class=\"top-nav-link\" href=\"https://try.alexa.com/marketing-stack/competitor-backlink-checker\">Competitor Backlink Checker</a></li>\n",
       "</ul>\n",
       "</li>\n",
       "<li>\n",
       "<p class=\"expandabletoggle\">Free tools</p>\n",
       "<ul class=\"expandable\" style=\"display: none;\">\n",
       "<li><a class=\"top-nav-link\" href=\"https://www.alexa.com/siteinfo\">Website Traffic Statistics</a></li>\n",
       "<li><a class=\"top-nav-link\" href=\"https://www.alexa.com/find-similar-sites\">Find Similar Sites</a></li>\n",
       "<li><a class=\"top-nav-link\" href=\"https://www.alexa.com/topsites\">Top Sites</a></li>\n",
       "</ul>\n",
       "</li>\n",
       "</ul>\n",
       "</li>\n",
       "<li><a href=\"https://alexa.com/plans\">Pricing</a></li>\n",
       "<li><a href=\"https://www.alexa.com/plans\" style=\"color:#FF5000;\">START YOUR FREE TRIAL</a></li>\n",
       "</ul>\n",
       "</section>\n",
       "<section class=\"alexa-menu Desktop pull-right\" style=\"display: inline-block;\">\n",
       "<div class=\"menu-tab \">Solutions <i aria-hidden=\"true\" class=\"fa fa-caret-down\"></i>\n",
       "<div class=\"drop-cont\">\n",
       "<div class=\"row-fluid dropDown\">\n",
       "<div class=\"Block\">\n",
       "<p class=\"title top-nav-link\">By need</p>\n",
       "<ul>\n",
       "<li><a class=\"top-nav-link\" href=\"https://try.alexa.com/check-backlinks\">Check Backlinks</a></li>\n",
       "<li><a class=\"top-nav-link\" href=\"https://try.alexa.com/keyword-research\">Keyword Research</a></li>\n",
       "<li><a class=\"top-nav-link\" href=\"https://try.alexa.com/competitive-website-analysis\">Competitive Website Analysis</a></li>\n",
       "<li><a class=\"top-nav-link\" href=\"https://try.alexa.com/seo-analysis\">SEO Analysis</a></li>\n",
       "<li><a class=\"top-nav-link\" href=\"https://try.alexa.com/target-audience-analysis\">Target Audience Analysis</a></li>\n",
       "<li><a class=\"top-nav-link\" href=\"https://aws.amazon.com/marketplace/seller-profile?id=4a9dbf38-88b1-4e87-a459-271154a77d2e\">API</a></li>\n",
       "</ul>\n",
       "</div>\n",
       "<div class=\"Block\">\n",
       "<p class=\"title top-nav-link\">By team</p>\n",
       "<ul class=\"\">\n",
       "<li><a class=\"top-nav-link\" href=\"https://try.alexa.com/advanced-plan\">For Marketers</a></li>\n",
       "<li><a class=\"top-nav-link\" href=\"https://try.alexa.com/agency-plan\">For Agencies</a></li>\n",
       "</ul>\n",
       "</div>\n",
       "<div class=\"Block promo\">\n",
       "<a class=\"top-nav-link\" href=\"https://try.alexa.com/offer/ebook/competitive-analysis-template\" target=\"_blank\"><img src=\"/images/ebook2.png\"/></a>\n",
       "<a class=\"title\" href=\"https://try.alexa.com/offer/ebook/competitive-analysis-template\" target=\"_blank\">Free Competitive Analysis Template</a>\n",
       "<a class=\"btn btn-block btn-large btn-n3 outline top-nav-link\" href=\"https://try.alexa.com/offer/ebook/competitive-analysis-template\" target=\"_blank\">Download your template</a>\n",
       "</div>\n",
       "</div>\n",
       "</div>\n",
       "</div>\n",
       "<div class=\"menu-tab \">Tools <i aria-hidden=\"true\" class=\"fa fa-caret-down\"></i>\n",
       "<div class=\"drop-cont\">\n",
       "<div class=\"row-fluid dropDown\">\n",
       "<div class=\"Block\">\n",
       "<p class=\"title top-nav-link\">Premium Tools</p>\n",
       "<ul>\n",
       "<li><a class=\"top-nav-link\" href=\"https://try.alexa.com/marketing-stack/audience-overlap-tool\">Audience Overlap</a></li>\n",
       "<li><a class=\"top-nav-link\" href=\"https://try.alexa.com/marketing-stack/seo-audit-tool\">SEO Audit Tool</a></li>\n",
       "<li><a class=\"top-nav-link\" href=\"https://try.alexa.com/marketing-stack/competitor-keyword-matrix\">Competitor Keyword Matrix</a></li>\n",
       "<li><a class=\"top-nav-link\" href=\"https://try.alexa.com/marketing-stack/site-comparisons\">Site Comparisons</a></li>\n",
       "<li><a class=\"top-nav-link\" href=\"https://try.alexa.com/marketing-stack/keyword-difficulty-tool\">Keyword Difficulty</a></li>\n",
       "<li><a class=\"top-nav-link\" href=\"https://try.alexa.com/marketing-stack/on-page-seo-checker\">On-Page SEO Checker</a></li>\n",
       "<li><a class=\"top-nav-link\" href=\"https://try.alexa.com/marketing-stack/competitor-backlink-checker\">Competitor Backlink Checker</a></li>\n",
       "</ul>\n",
       "</div>\n",
       "<div class=\"Block\">\n",
       "<p class=\"title top-nav-link\">Free Tools</p>\n",
       "<ul>\n",
       "<li><a class=\"top-nav-link\" href=\"https://www.alexa.com/siteinfo\">Website Traffic Statistics</a></li>\n",
       "<li><a class=\"top-nav-link\" href=\"https://www.alexa.com/find-similar-sites\">Find Similar Sites</a></li>\n",
       "<li><a class=\"top-nav-link\" href=\"https://www.alexa.com/topsites\">Top Sites</a></li>\n",
       "</ul>\n",
       "</div>\n",
       "<div class=\"Block promo\">\n",
       "<a class=\"top-nav-link\" href=\"https://try.alexa.com/offer/ebook/tools-for-complete-marketing-workflow/\" target=\"_blank\"><img src=\"/images/ebook.png\"/></a>\n",
       "<a class=\"title\" href=\"https://try.alexa.com/offer/ebook/tools-for-complete-marketing-workflow/\" target=\"_blank\">6 Tools for a Complete Marketing Workflow</a>\n",
       "<a class=\"btn btn-block btn-large btn-n3 outline top-nav-link\" href=\"https://try.alexa.com/offer/ebook/tools-for-complete-marketing-workflow/\" target=\"_blank\">Download your Ebook</a>\n",
       "</div>\n",
       "</div>\n",
       "</div>\n",
       "</div>\n",
       "<a class=\"menu-tab top-nav-link\" href=\"/plans\">Pricing</a>\n",
       "<!--       <a class=\"menu-tab  top-nav-link\" href=\"/clientlogin\">Log in</a>\n",
       "\t\t\t\t -->\n",
       "<a class=\"Mkbutton Orange navigation top-nav-link\" href=\"/plans\">START YOUR FREE TRIAL</a>\n",
       "</section>\n",
       "</div>\n",
       "</header>\n",
       "<section class=\"alx-content\" id=\"alx-content\">\n",
       "<div class=\"row-fluid\">\n",
       "<section class=\" \">\n",
       "<div class=\"row-fluid TopSites Alexarest\">\n",
       "<section class=\"page-product-top\">\n",
       "<div class=\"content-top\">\n",
       "<div aria-hidden=\"true\" aria-labelledby=\"myModalLabel\" class=\"modal hide fade\" id=\"ExitIntent\" role=\"dialog\" style=\"display:none;\" tabindex=\"-1\">\n",
       "<div class=\"modal-dialog modal-lg\">\n",
       "<div class=\"modal-header\">\n",
       "<button aria-hidden=\"true\" class=\"close\" data-dismiss=\"modal\" type=\"button\"><i aria-hidden=\"true\" class=\"fa fa-times\"></i></button>\n",
       "<h3 class=\"first-slide\" id=\"question-1\">What would you like to accomplish with Alexa?</h3>\n",
       "<h3 class=\"second-slide\" id=\"question-2\" style=\"display:none;\">What is your job function?</h3>\n",
       "<div class=\"third-slide-one\" style=\"display: none;\">\n",
       "<h3><i aria-hidden=\"true\" class=\"fa fa-check-circle\"></i> You'd be a great fit for our Advanced plan</h3>\n",
       "<p>Alexa's Advanced plan makes it easy to increase your website traffic.</p>\n",
       "<ul>\n",
       "<li>Improve SEO</li>\n",
       "<li>Find keyword ideas</li>\n",
       "<li>Find marketing ideas</li>\n",
       "<li>Research competitors</li>\n",
       "</ul>\n",
       "</div>\n",
       "<div class=\"third-slide-two\" style=\"display: none;\">\n",
       "<h3><i aria-hidden=\"true\" class=\"fa fa-check-circle\"></i> You'd be a great fit for our Insight plan</h3>\n",
       "<p>Alexa's Insight plan makes it easy to research and analyze websites.</p>\n",
       "<ul>\n",
       "<li>Get website traffic stats</li>\n",
       "<li>Research competitors</li>\n",
       "<li>Compare websites</li>\n",
       "</ul>\n",
       "</div>\n",
       "<div class=\"third-slide-three\" style=\"display: none;\">\n",
       "<h3><i aria-hidden=\"true\" class=\"fa fa-check-circle\"></i> You'd be a great fit for our Certified Alexa Rank plans</h3>\n",
       "<p>These plans make it easy to measure your website’s popularity.</p>\n",
       "<ul>\n",
       "<li>Get a Certified Alexa Rank</li>\n",
       "<li>Compare websites</li>\n",
       "<li>Research basic website stats</li>\n",
       "</ul>\n",
       "</div>\n",
       "</div>\n",
       "<div class=\"modal-body\">\n",
       "<div class=\"row-fluid first-slide\">\n",
       "<div class=\"span6\">\n",
       "<div class=\"button\" data-choice=\"traffic\" data-question-id=\"question-1\">Increase website traffic</div>\n",
       "<div class=\"button\" data-choice=\"seo\" data-question-id=\"question-1\">Improve SEO</div>\n",
       "<div class=\"button\" data-choice=\"keyword\" data-question-id=\"question-1\">Find keyword ideas</div>\n",
       "<div class=\"button\" data-choice=\"marketing\" data-question-id=\"question-1\">Find marketing ideas</div>\n",
       "</div>\n",
       "<div class=\"span6\">\n",
       "<div class=\"button\" data-choice=\"rank\" data-question-id=\"question-1\">Improve my Alexa Rank</div>\n",
       "<div class=\"button\" data-choice=\"stats\" data-question-id=\"question-1\">Get website traffic stats</div>\n",
       "<div class=\"button\" data-choice=\"competitors\" data-question-id=\"question-1\">Research competitors</div>\n",
       "<div class=\"button\" data-choice=\"compare\" data-question-id=\"question-1\">Compare websites</div>\n",
       "</div>\n",
       "</div>\n",
       "<div class=\"row-fluid second-slide\" style=\"display: none;\">\n",
       "<div class=\"span6\">\n",
       "<div class=\"button\" data-choice=\"marketing\" data-question-id=\"question-2\">Marketing</div>\n",
       "<div class=\"button\" data-choice=\"agency\" data-question-id=\"question-2\">Agency</div>\n",
       "<div class=\"button\" data-choice=\"consultant\" data-question-id=\"question-2\">Consultant</div>\n",
       "<div class=\"button\" data-choice=\"owner\" data-question-id=\"question-2\">Business Owner</div>\n",
       "</div>\n",
       "<div class=\"span6\">\n",
       "<div class=\"button\" data-choice=\"investor\" data-question-id=\"question-2\">Investor</div>\n",
       "<div class=\"button\" data-choice=\"analyst\" data-question-id=\"question-2\">Analyst</div>\n",
       "<div class=\"button\" data-choice=\"sales\" data-question-id=\"question-2\">Sales</div>\n",
       "<div class=\"button\" data-choice=\"other\" data-question-id=\"question-2\">Other</div>\n",
       "</div>\n",
       "</div>\n",
       "<div class=\"row-fluid third-slide-one\" style=\"display: none;\">\n",
       "<a class=\"Mkbutton Orange\" href=\"http://www.alexa.com/plans?tab=marketing\">START MY FREE TRIAL</a>\n",
       "<a class=\"learn\" href=\"https://try.alexa.com/marketing-stack\">Learn More <i aria-hidden=\"true\" class=\"fa fa-chevron-right\"></i></a>\n",
       "</div>\n",
       "<div class=\"row-fluid third-slide-two\" style=\"display: none;\">\n",
       "<a class=\"Mkbutton Orange\" href=\"http://www.alexa.com/plans?tab=analysis\">START MY FREE TRIAL</a>\n",
       "<a class=\"learn\" href=\"https://try.alexa.com/marketing-stack/competitive-analysis-tools\">Learn More <i aria-hidden=\"true\" class=\"fa fa-chevron-right\"></i></a>\n",
       "</div>\n",
       "<div class=\"row-fluid third-slide-three\" style=\"display: none;\">\n",
       "<a class=\"Mkbutton Orange\" href=\"http://www.alexa.com/plans?tab=rank\">START MY FREE TRIAL</a>\n",
       "</div>\n",
       "</div>\n",
       "</div>\n",
       "</div>\n",
       "<section class=\"page-title page-title-only\">\n",
       "<div class=\"row-fluid\">\n",
       "<span class=\"span12\">\n",
       "<h1 class=\"hdr title\">\n",
       "<span class=\"page-title-text\">Top Sites in South Korea</span>\n",
       "<span class=\"WhatsThis top\">\n",
       "<i aria-hidden=\"true\" class=\"fa fa-question-circle\"></i>\n",
       "<span class=\"container\">\n",
       "                The sites in the top sites lists are ordered by their 1 month Alexa traffic             rank.<br/><br/>The 1 month rank is calculated using a combination of average daily             visitors and pageviews over the past  month. The site with the highest combination of             visitors and pageviews is ranked #1\n",
       "              </span>\n",
       "</span>\n",
       "</h1>\n",
       "</span>\n",
       "</div>\n",
       "<div class=\"Foldering\">\n",
       "<div class=\"each \"><a href=\"/topsites\">Global</a></div>\n",
       "<div class=\"each current\"><a href=\"/topsites/countries\">By Country</a></div>\n",
       "<div class=\"each \"><a href=\"/topsites/category\">By Category</a></div>\n",
       "</div>\n",
       "</section>\n",
       "</div>\n",
       "</section> <section class=\"page-product-content summary\">\n",
       "<span class=\"\">\n",
       "<span class=\"\">\n",
       "<div class=\"AlexaTable LightWeightTable\">\n",
       "<div class=\"tableContainer\">\n",
       "<p class=\"pages\">Showing 50 of 500 results</p>\n",
       "<div class=\"row-fluid TopSitesAd\">\n",
       "<div class=\"left\">Want access to the complete list?</div>\n",
       "<div class=\"right\"><a href=\"/plans\">START YOUR FREE TRIAL</a></div>\n",
       "</div> <div class=\"listings table\">\n",
       "<div class=\"thead\">\n",
       "<div class=\"tr\">\n",
       "<div class=\"th number\"></div>\n",
       "<div class=\"th\">Site</div>\n",
       "<div class=\"th right\">\n",
       "<p class=\"headers\">\n",
       "<span>Daily Time on Site</span>\n",
       "<span class=\"WhatsThis top\">\n",
       "<i aria-hidden=\"true\" class=\"fa fa-question-circle\"></i>\n",
       "<span class=\"container\">\n",
       "<b>Daily Time on Site</b><br/><br/>Estimated daily time on site (mm:ss) per visitor to the site. Updated daily based on the trailing 3 months.\n",
       "                        </span>\n",
       "</span>\n",
       "</p>\n",
       "</div>\n",
       "<div class=\"th right\">\n",
       "<p class=\"headers\">\n",
       "<span>Daily Pageviews per Visitor</span>\n",
       "<span class=\"WhatsThis top\">\n",
       "<i aria-hidden=\"true\" class=\"fa fa-question-circle\"></i>\n",
       "<span class=\"container\">\n",
       "<b>Daily Pageviews per Visitor</b><br/><br/>Estimated daily unique pageviews per visitor on the site. Updated daily based on the trailing 3 months.\n",
       "                        </span>\n",
       "</span>\n",
       "</p>\n",
       "</div>\n",
       "<div class=\"th right\">\n",
       "<p class=\"headers\">\n",
       "<span>% of Traffic From Search</span>\n",
       "<span class=\"WhatsThis top\">\n",
       "<i aria-hidden=\"true\" class=\"fa fa-question-circle\"></i>\n",
       "<span class=\"container\">\n",
       "<b>% of Traffic From Search</b><br/><br/>The percentage of all referrals that came from Search engines over the trailing month. Updated daily.\n",
       "                        </span>\n",
       "</span>\n",
       "</p>\n",
       "</div>\n",
       "<div class=\"th right\">\n",
       "<p class=\"headers\">\n",
       "<span>Total Sites Linking In</span>\n",
       "<span class=\"WhatsThis top\">\n",
       "<i aria-hidden=\"true\" class=\"fa fa-question-circle\"></i>\n",
       "<span class=\"container\">\n",
       "<b>Total Sites Linking In</b><br/><br/>The total number of sites that Alexa found that link to this site. For more information please see <a href=\"https://support.alexa.com/hc/en-us/articles/200444340\" target=\"_blank\">this explanation</a> of how Alexa determines the number of sites linking in.\n",
       "                        </span>\n",
       "</span>\n",
       "</p>\n",
       "</div>\n",
       "</div>\n",
       "</div> <div class=\"tr site-listing\">\n",
       "<div class=\"td\">1</div>\n",
       "<div class=\"td DescriptionCell\">\n",
       "<p class=\"\">\n",
       "<a href=\"/siteinfo/google.com\">Google.com</a>\n",
       "</p>\n",
       "<div class=\"description\">\n",
       "                      Enables users to search the world's information, including webpages, images, and videos. Offers<span class=\"trucate\">…<a class=\"moreDesc\">More</a></span><span class=\"remainder\"> unique features and search technology.\n",
       "                          <span class=\"trucate\"> <a class=\"lessDesc\">Less</a></span>\n",
       "</span>\n",
       "</div>\n",
       "</div>\n",
       "<div class=\"td right\"><p>8:52</p></div>\n",
       "<div class=\"td right\"><p>12.74</p></div>\n",
       "<div class=\"td right\"><p>0.50%</p></div>\n",
       "<div class=\"td right\"><p>2,163,333</p></div>\n",
       "</div> <div class=\"tr site-listing\">\n",
       "<div class=\"td\">2</div>\n",
       "<div class=\"td DescriptionCell\">\n",
       "<p class=\"\">\n",
       "<a href=\"/siteinfo/naver.com\">Naver.com</a>\n",
       "</p>\n",
       "<div class=\"description\">\n",
       "                       <span class=\"remainder\">\n",
       "</span>\n",
       "</div>\n",
       "</div>\n",
       "<div class=\"td right\"><p>16:19</p></div>\n",
       "<div class=\"td right\"><p>10.15</p></div>\n",
       "<div class=\"td right\"><p>9.60%</p></div>\n",
       "<div class=\"td right\"><p>63,429</p></div>\n",
       "</div> <div class=\"tr site-listing\">\n",
       "<div class=\"td\">3</div>\n",
       "<div class=\"td DescriptionCell\">\n",
       "<p class=\"\">\n",
       "<a href=\"/siteinfo/youtube.com\">Youtube.com</a>\n",
       "</p>\n",
       "<div class=\"description\">\n",
       "                      YouTube is a way to get your videos to the people who matter to you. Upload, tag and share your<span class=\"trucate\">…<a class=\"moreDesc\">More</a></span><span class=\"remainder\"> videos worldwide!\n",
       "                          <span class=\"trucate\"> <a class=\"lessDesc\">Less</a></span>\n",
       "</span>\n",
       "</div>\n",
       "</div>\n",
       "<div class=\"td right\"><p>8:54</p></div>\n",
       "<div class=\"td right\"><p>5.56</p></div>\n",
       "<div class=\"td right\"><p>11.70%</p></div>\n",
       "<div class=\"td right\"><p>1,688,606</p></div>\n",
       "</div> <div class=\"tr site-listing\">\n",
       "<div class=\"td\">4</div>\n",
       "<div class=\"td DescriptionCell\">\n",
       "<p class=\"\">\n",
       "<a href=\"/siteinfo/daum.net\">Daum.net</a>\n",
       "</p>\n",
       "<div class=\"description\">\n",
       "                      No. 1 우리 인터넷. 무료 이메일 서비스, 온라인 쇼핑, 동호회 서비스<span class=\"remainder\">\n",
       "</span>\n",
       "</div>\n",
       "</div>\n",
       "<div class=\"td right\"><p>10:13</p></div>\n",
       "<div class=\"td right\"><p>8.10</p></div>\n",
       "<div class=\"td right\"><p>9.80%</p></div>\n",
       "<div class=\"td right\"><p>19,725</p></div>\n",
       "</div> <div class=\"tr site-listing\">\n",
       "<div class=\"td\">5</div>\n",
       "<div class=\"td DescriptionCell\">\n",
       "<p class=\"\">\n",
       "<a href=\"/siteinfo/tmall.com\">Tmall.com</a>\n",
       "</p>\n",
       "<div class=\"description\">\n",
       "                      Launched in April 2008, Tmall.com (www.tmall.com) is dedicated to providing a premium shopping <span class=\"trucate\">…<a class=\"moreDesc\">More</a></span><span class=\"remainder\">experience for increasingly sophisticated Chinese consumers in search of top-quality branded merchandise. A large number of international and Chinese brands and retailers have established storefronts on Tmall.com. According to iResearch, Tmall.com was the largest brands and retail platform in China in terms of gross merchandise volume in 2013. Tmall.com is a business within Alibaba Group.\n",
       "                          <span class=\"trucate\"> <a class=\"lessDesc\">Less</a></span>\n",
       "</span>\n",
       "</div>\n",
       "</div>\n",
       "<div class=\"td right\"><p>7:05</p></div>\n",
       "<div class=\"td right\"><p>2.89</p></div>\n",
       "<div class=\"td right\"><p>1.10%</p></div>\n",
       "<div class=\"td right\"><p>4,882</p></div>\n",
       "</div> <div class=\"tr site-listing\">\n",
       "<div class=\"td\">6</div>\n",
       "<div class=\"td DescriptionCell\">\n",
       "<p class=\"\">\n",
       "<a href=\"/siteinfo/google.co.kr\">Google.co.kr</a>\n",
       "</p>\n",
       "<div class=\"description\">\n",
       "                      웹문서, 이미지, 뉴스그룹, 디렉토리 검색, 한글 페이지 검색<span class=\"remainder\">\n",
       "</span>\n",
       "</div>\n",
       "</div>\n",
       "<div class=\"td right\"><p>3:20</p></div>\n",
       "<div class=\"td right\"><p>5.65</p></div>\n",
       "<div class=\"td right\"><p>7.40%</p></div>\n",
       "<div class=\"td right\"><p>2,950</p></div>\n",
       "</div> <div class=\"tr site-listing\">\n",
       "<div class=\"td\">7</div>\n",
       "<div class=\"td DescriptionCell\">\n",
       "<p class=\"\">\n",
       "<a href=\"/siteinfo/tistory.com\">Tistory.com</a>\n",
       "</p>\n",
       "<div class=\"description\">\n",
       "                       <span class=\"remainder\">\n",
       "</span>\n",
       "</div>\n",
       "</div>\n",
       "<div class=\"td right\"><p>3:16</p></div>\n",
       "<div class=\"td right\"><p>2.66</p></div>\n",
       "<div class=\"td right\"><p>48.40%</p></div>\n",
       "<div class=\"td right\"><p>11,562</p></div>\n",
       "</div> <div class=\"tr site-listing\">\n",
       "<div class=\"td\">8</div>\n",
       "<div class=\"td DescriptionCell\">\n",
       "<p class=\"\">\n",
       "<a href=\"/siteinfo/sohu.com\">Sohu.com</a>\n",
       "</p>\n",
       "<div class=\"description\">\n",
       "                      资源导航为主要业务的门户网站，经营综合性业务，社区，无线等增值服务。<span class=\"remainder\">\n",
       "</span>\n",
       "</div>\n",
       "</div>\n",
       "<div class=\"td right\"><p>3:46</p></div>\n",
       "<div class=\"td right\"><p>4.29</p></div>\n",
       "<div class=\"td right\"><p>3.00%</p></div>\n",
       "<div class=\"td right\"><p>29,893</p></div>\n",
       "</div> <div class=\"tr site-listing\">\n",
       "<div class=\"td\">9</div>\n",
       "<div class=\"td DescriptionCell\">\n",
       "<p class=\"\">\n",
       "<a href=\"/siteinfo/qq.com\">Qq.com</a>\n",
       "</p>\n",
       "<div class=\"description\">\n",
       "                      China's largest and most used Internet service portal owned by Tencent, Inc founded in Nov<span class=\"trucate\">…<a class=\"moreDesc\">More</a></span><span class=\"remainder\">ember, 1998. Presently, Tencent is aiming its operations at the strategic goal of providing users with a \"one-stop online life service\". Tencent's Internet platforms QQ, QQ.com, QQ Games, and PaiPai.com have brought together China's largest Internet community. Tencent's communications and information-sharing services include QQ.com, QQ Instant Messenger, QQ Mail, and search engine SOSO. Linked up with heavily used features such as forums, chat rooms, and QQ Groups, Tencent's Qzone has grown into China's largest personal Internet space. These services foster group interaction and resource sharing. Virtual products such as QQ Show, QQ Pet, QQ Game, and QQ Music/Radio/Live have been successful in providing entertainment and customization options to users. Mobile phone users can take advantage of a number of value-added wireless services. Tencent's PaiPai.com is a C2C on-line shopping platform that seamlessly integrates into Tencent's other community platforms.As of June 30th, 2009, the number of registered QQ Instant Messenger users has reached 990.0 million. Active users numbered at 448.0 million. Peak concurrent users have reached 61.30 million. QQ Games platform counted about 6.2 million users simultaneously on-line. QQ.com has become China's most visited Internet portal website. PaiPai.com has also become China's second largest Internet shopping platform.\n",
       "                          <span class=\"trucate\"> <a class=\"lessDesc\">Less</a></span>\n",
       "</span>\n",
       "</div>\n",
       "</div>\n",
       "<div class=\"td right\"><p>3:19</p></div>\n",
       "<div class=\"td right\"><p>3.77</p></div>\n",
       "<div class=\"td right\"><p>7.10%</p></div>\n",
       "<div class=\"td right\"><p>331,020</p></div>\n",
       "</div> <div class=\"tr site-listing\">\n",
       "<div class=\"td\">10</div>\n",
       "<div class=\"td DescriptionCell\">\n",
       "<p class=\"\">\n",
       "<a href=\"/siteinfo/login.tmall.com\">Login.tmall.com</a>\n",
       "</p>\n",
       "<div class=\"description\">\n",
       "                       <span class=\"remainder\">\n",
       "</span>\n",
       "</div>\n",
       "</div>\n",
       "<div class=\"td right\"><p>5:21</p></div>\n",
       "<div class=\"td right\"><p>1.00</p></div>\n",
       "<div class=\"td right\"><p>0.60%</p></div>\n",
       "<div class=\"td right\"><p>58</p></div>\n",
       "</div> <div class=\"tr site-listing\">\n",
       "<div class=\"td\">11</div>\n",
       "<div class=\"td DescriptionCell\">\n",
       "<p class=\"\">\n",
       "<a href=\"/siteinfo/wikipedia.org\">Wikipedia.org</a>\n",
       "</p>\n",
       "<div class=\"description\">\n",
       "                      A free encyclopedia built collaboratively using wiki software. (Creative Commons Attribution-Sh<span class=\"trucate\">…<a class=\"moreDesc\">More</a></span><span class=\"remainder\">areAlike License).\n",
       "                          <span class=\"trucate\"> <a class=\"lessDesc\">Less</a></span>\n",
       "</span>\n",
       "</div>\n",
       "</div>\n",
       "<div class=\"td right\"><p>4:07</p></div>\n",
       "<div class=\"td right\"><p>3.08</p></div>\n",
       "<div class=\"td right\"><p>56.80%</p></div>\n",
       "<div class=\"td right\"><p>1,191,922</p></div>\n",
       "</div> <div class=\"tr site-listing\">\n",
       "<div class=\"td\">12</div>\n",
       "<div class=\"td DescriptionCell\">\n",
       "<p class=\"\">\n",
       "<a href=\"/siteinfo/taobao.com\">Taobao.com</a>\n",
       "</p>\n",
       "<div class=\"description\">\n",
       "                      Launched in May 2003, Taobao Marketplace (www.taobao.com) is the online shopping destination of<span class=\"trucate\">…<a class=\"moreDesc\">More</a></span><span class=\"remainder\"> choice for Chinese consumers looking for wide selection, value and convenience. Shoppers choose from a wide range of products and services on Taobao Marketplace, which features hundreds of millions of product and service listings. Taobao Marketplace was China's largest online shopping destination in terms of gross merchandise volume in 2013, according to iResearch. Taobao Marketplace is a business within Alibaba Group.\n",
       "                          <span class=\"trucate\"> <a class=\"lessDesc\">Less</a></span>\n",
       "</span>\n",
       "</div>\n",
       "</div>\n",
       "<div class=\"td right\"><p>6:20</p></div>\n",
       "<div class=\"td right\"><p>3.69</p></div>\n",
       "<div class=\"td right\"><p>4.30%</p></div>\n",
       "<div class=\"td right\"><p>37,114</p></div>\n",
       "</div> <div class=\"tr site-listing\">\n",
       "<div class=\"td\">13</div>\n",
       "<div class=\"td DescriptionCell\">\n",
       "<p class=\"\">\n",
       "<a href=\"/siteinfo/facebook.com\">Facebook.com</a>\n",
       "</p>\n",
       "<div class=\"description\">\n",
       "                      A social utility that connects people, to keep up with friends, upload photos, share links and <span class=\"trucate\">…<a class=\"moreDesc\">More</a></span><span class=\"remainder\">videos.\n",
       "                          <span class=\"trucate\"> <a class=\"lessDesc\">Less</a></span>\n",
       "</span>\n",
       "</div>\n",
       "</div>\n",
       "<div class=\"td right\"><p>11:47</p></div>\n",
       "<div class=\"td right\"><p>5.59</p></div>\n",
       "<div class=\"td right\"><p>7.80%</p></div>\n",
       "<div class=\"td right\"><p>4,309,547</p></div>\n",
       "</div> <div class=\"tr site-listing\">\n",
       "<div class=\"td\">14</div>\n",
       "<div class=\"td DescriptionCell\">\n",
       "<p class=\"\">\n",
       "<a href=\"/siteinfo/amazon.com\">Amazon.com</a>\n",
       "</p>\n",
       "<div class=\"description\">\n",
       "                      Amazon.com seeks to be Earth's most customer-centric company, where customers can find and disc<span class=\"trucate\">…<a class=\"moreDesc\">More</a></span><span class=\"remainder\">over anything they might want to buy online, and endeavors to offer its customers the lowest possible prices. Site has numerous personalization features and services including one-click buying, extensive customer and editorial product reviews, gift registries, gift certificates, wish lists, restaurant and movie listings, travel, and photo processing.\n",
       "                          <span class=\"trucate\"> <a class=\"lessDesc\">Less</a></span>\n",
       "</span>\n",
       "</div>\n",
       "</div>\n",
       "<div class=\"td right\"><p>8:31</p></div>\n",
       "<div class=\"td right\"><p>8.71</p></div>\n",
       "<div class=\"td right\"><p>21.70%</p></div>\n",
       "<div class=\"td right\"><p>495,256</p></div>\n",
       "</div> <div class=\"tr site-listing\">\n",
       "<div class=\"td\">15</div>\n",
       "<div class=\"td DescriptionCell\">\n",
       "<p class=\"\">\n",
       "<a href=\"/siteinfo/jd.com\">Jd.com</a>\n",
       "</p>\n",
       "<div class=\"description\">\n",
       "                      京东商城是中国最大的综合网络零售商，是中国电子商务领域最受消费者欢迎和最具有影响力的电子商务网站之一，在线销售家电、数码通讯、电脑、家居百货、服装服饰、母婴、图书、食品、在线旅游等12大类数<span class=\"trucate\">…<a class=\"moreDesc\">More</a></span><span class=\"remainder\">万个品牌百万种优质商品。2012年第一季度，京东商城以50.1%的市场占有率在中国自主经营式B2C网站中排名第一\n",
       "                          <span class=\"trucate\"> <a class=\"lessDesc\">Less</a></span>\n",
       "</span>\n",
       "</div>\n",
       "</div>\n",
       "<div class=\"td right\"><p>4:20</p></div>\n",
       "<div class=\"td right\"><p>4.88</p></div>\n",
       "<div class=\"td right\"><p>2.60%</p></div>\n",
       "<div class=\"td right\"><p>11,564</p></div>\n",
       "</div> <div class=\"tr site-listing\">\n",
       "<div class=\"td\">16</div>\n",
       "<div class=\"td DescriptionCell\">\n",
       "<p class=\"\">\n",
       "<a href=\"/siteinfo/namu.wiki\">Namu.wiki</a>\n",
       "</p>\n",
       "<div class=\"description\">\n",
       "                       <span class=\"remainder\">\n",
       "</span>\n",
       "</div>\n",
       "</div>\n",
       "<div class=\"td right\"><p>6:33</p></div>\n",
       "<div class=\"td right\"><p>4.98</p></div>\n",
       "<div class=\"td right\"><p>51.20%</p></div>\n",
       "<div class=\"td right\"><p>93</p></div>\n",
       "</div> <div class=\"tr site-listing\">\n",
       "<div class=\"td\">17</div>\n",
       "<div class=\"td DescriptionCell\">\n",
       "<p class=\"\">\n",
       "<a href=\"/siteinfo/360.cn\">360.cn</a>\n",
       "</p>\n",
       "<div class=\"description\">\n",
       "                       <span class=\"remainder\">\n",
       "</span>\n",
       "</div>\n",
       "</div>\n",
       "<div class=\"td right\"><p>3:24</p></div>\n",
       "<div class=\"td right\"><p>3.86</p></div>\n",
       "<div class=\"td right\"><p>0.50%</p></div>\n",
       "<div class=\"td right\"><p>21,875</p></div>\n",
       "</div> <div class=\"tr site-listing\">\n",
       "<div class=\"td\">18</div>\n",
       "<div class=\"td DescriptionCell\">\n",
       "<p class=\"\">\n",
       "<a href=\"/siteinfo/kakao.com\">Kakao.com</a>\n",
       "</p>\n",
       "<div class=\"description\">\n",
       "                       <span class=\"remainder\">\n",
       "</span>\n",
       "</div>\n",
       "</div>\n",
       "<div class=\"td right\"><p>3:44</p></div>\n",
       "<div class=\"td right\"><p>3.44</p></div>\n",
       "<div class=\"td right\"><p>10.40%</p></div>\n",
       "<div class=\"td right\"><p>14,915</p></div>\n",
       "</div> <div class=\"tr site-listing\">\n",
       "<div class=\"td\">19</div>\n",
       "<div class=\"td DescriptionCell\">\n",
       "<p class=\"\">\n",
       "<a href=\"/siteinfo/baidu.com\">Baidu.com</a>\n",
       "</p>\n",
       "<div class=\"description\">\n",
       "                      The leading Chinese language search engine, provides \"simple and reliable\" search exp<span class=\"trucate\">…<a class=\"moreDesc\">More</a></span><span class=\"remainder\">erience, strong in Chinese language and multi-media content including MP3 music and movies, the first to offer WAP and PDA-based mobile search in China.\n",
       "                          <span class=\"trucate\"> <a class=\"lessDesc\">Less</a></span>\n",
       "</span>\n",
       "</div>\n",
       "</div>\n",
       "<div class=\"td right\"><p>6:52</p></div>\n",
       "<div class=\"td right\"><p>5.03</p></div>\n",
       "<div class=\"td right\"><p>7.10%</p></div>\n",
       "<div class=\"td right\"><p>143,329</p></div>\n",
       "</div> <div class=\"tr site-listing\">\n",
       "<div class=\"td\">20</div>\n",
       "<div class=\"td DescriptionCell\">\n",
       "<p class=\"\">\n",
       "<a href=\"/siteinfo/pages.tmall.com\">Pages.tmall.com</a>\n",
       "</p>\n",
       "<div class=\"description\">\n",
       "                       <span class=\"remainder\">\n",
       "</span>\n",
       "</div>\n",
       "</div>\n",
       "<div class=\"td right\"><p>1:19</p></div>\n",
       "<div class=\"td right\"><p>1.48</p></div>\n",
       "<div class=\"td right\"><p>0.30%</p></div>\n",
       "<div class=\"td right\"><p>79</p></div>\n",
       "</div> <div class=\"tr site-listing\">\n",
       "<div class=\"td\">21</div>\n",
       "<div class=\"td DescriptionCell\">\n",
       "<p class=\"\">\n",
       "<a href=\"/siteinfo/weibo.com\">Weibo.com</a>\n",
       "</p>\n",
       "<div class=\"description\">\n",
       "                      新浪微博是全中国最主流，最具人气，当前最火爆的微博产品。用一句话随意记录生活，用手机随时随地发微博，迅速获取最热最火最快最酷最新的资讯。<span class=\"remainder\">\n",
       "</span>\n",
       "</div>\n",
       "</div>\n",
       "<div class=\"td right\"><p>4:39</p></div>\n",
       "<div class=\"td right\"><p>3.97</p></div>\n",
       "<div class=\"td right\"><p>3.50%</p></div>\n",
       "<div class=\"td right\"><p>107,480</p></div>\n",
       "</div> <div class=\"tr site-listing\">\n",
       "<div class=\"td\">22</div>\n",
       "<div class=\"td DescriptionCell\">\n",
       "<p class=\"\">\n",
       "<a href=\"/siteinfo/gmarket.co.kr\">Gmarket.co.kr</a>\n",
       "</p>\n",
       "<div class=\"description\">\n",
       "                       <span class=\"remainder\">\n",
       "</span>\n",
       "</div>\n",
       "</div>\n",
       "<div class=\"td right\"><p>6:20</p></div>\n",
       "<div class=\"td right\"><p>6.52</p></div>\n",
       "<div class=\"td right\"><p>12.60%</p></div>\n",
       "<div class=\"td right\"><p>2,253</p></div>\n",
       "</div> <div class=\"tr site-listing\">\n",
       "<div class=\"td\">23</div>\n",
       "<div class=\"td DescriptionCell\">\n",
       "<p class=\"\">\n",
       "<a href=\"/siteinfo/netflix.com\">Netflix.com</a>\n",
       "</p>\n",
       "<div class=\"description\">\n",
       "                      Watch TV Shows Online, Watch Movies Online<span class=\"remainder\">\n",
       "</span>\n",
       "</div>\n",
       "</div>\n",
       "<div class=\"td right\"><p>2:27</p></div>\n",
       "<div class=\"td right\"><p>2.36</p></div>\n",
       "<div class=\"td right\"><p>12.30%</p></div>\n",
       "<div class=\"td right\"><p>12,563</p></div>\n",
       "</div> <div class=\"tr site-listing\">\n",
       "<div class=\"td\">24</div>\n",
       "<div class=\"td DescriptionCell\">\n",
       "<p class=\"\">\n",
       "<a href=\"/siteinfo/sina.com.cn\">Sina.com.cn</a>\n",
       "</p>\n",
       "<div class=\"description\">\n",
       "                      China's famouse IM provider.<span class=\"remainder\">\n",
       "</span>\n",
       "</div>\n",
       "</div>\n",
       "<div class=\"td right\"><p>3:01</p></div>\n",
       "<div class=\"td right\"><p>3.28</p></div>\n",
       "<div class=\"td right\"><p>5.20%</p></div>\n",
       "<div class=\"td right\"><p>55,544</p></div>\n",
       "</div> <div class=\"tr site-listing\">\n",
       "<div class=\"td\">25</div>\n",
       "<div class=\"td DescriptionCell\">\n",
       "<p class=\"\">\n",
       "<a href=\"/siteinfo/11st.co.kr\">11st.co.kr</a>\n",
       "</p>\n",
       "<div class=\"description\">\n",
       "                       <span class=\"remainder\">\n",
       "</span>\n",
       "</div>\n",
       "</div>\n",
       "<div class=\"td right\"><p>5:31</p></div>\n",
       "<div class=\"td right\"><p>7.44</p></div>\n",
       "<div class=\"td right\"><p>10.10%</p></div>\n",
       "<div class=\"td right\"><p>1,409</p></div>\n",
       "</div> <div class=\"tr site-listing\">\n",
       "<div class=\"td\">26</div>\n",
       "<div class=\"td DescriptionCell\">\n",
       "<p class=\"\">\n",
       "<a href=\"/siteinfo/blog.me\">Blog.me</a>\n",
       "</p>\n",
       "<div class=\"description\">\n",
       "                       <span class=\"remainder\">\n",
       "</span>\n",
       "</div>\n",
       "</div>\n",
       "<div class=\"td right\"><p>2:04</p></div>\n",
       "<div class=\"td right\"><p>1.57</p></div>\n",
       "<div class=\"td right\"><p>0.40%</p></div>\n",
       "<div class=\"td right\"><p>5,120</p></div>\n",
       "</div> <div class=\"tr site-listing\">\n",
       "<div class=\"td\">27</div>\n",
       "<div class=\"td DescriptionCell\">\n",
       "<p class=\"\">\n",
       "<a href=\"/siteinfo/apple.com\">Apple.com</a>\n",
       "</p>\n",
       "<div class=\"description\">\n",
       "                      Official site, with details of products and services.<span class=\"remainder\">\n",
       "</span>\n",
       "</div>\n",
       "</div>\n",
       "<div class=\"td right\"><p>3:32</p></div>\n",
       "<div class=\"td right\"><p>3.52</p></div>\n",
       "<div class=\"td right\"><p>32.80%</p></div>\n",
       "<div class=\"td right\"><p>281,614</p></div>\n",
       "</div> <div class=\"tr site-listing\">\n",
       "<div class=\"td\">28</div>\n",
       "<div class=\"td DescriptionCell\">\n",
       "<p class=\"\">\n",
       "<a href=\"/siteinfo/coupang.com\">Coupang.com</a>\n",
       "</p>\n",
       "<div class=\"description\">\n",
       "                       <span class=\"remainder\">\n",
       "</span>\n",
       "</div>\n",
       "</div>\n",
       "<div class=\"td right\"><p>7:52</p></div>\n",
       "<div class=\"td right\"><p>6.05</p></div>\n",
       "<div class=\"td right\"><p>12.70%</p></div>\n",
       "<div class=\"td right\"><p>514</p></div>\n",
       "</div> <div class=\"tr site-listing\">\n",
       "<div class=\"td\">29</div>\n",
       "<div class=\"td DescriptionCell\">\n",
       "<p class=\"\">\n",
       "<a href=\"/siteinfo/torrentwal.com\">Torrentwal.com</a>\n",
       "</p>\n",
       "<div class=\"description\">\n",
       "                       <span class=\"remainder\">\n",
       "</span>\n",
       "</div>\n",
       "</div>\n",
       "<div class=\"td right\"><p>3:38</p></div>\n",
       "<div class=\"td right\"><p>5.56</p></div>\n",
       "<div class=\"td right\"><p>30.90%</p></div>\n",
       "<div class=\"td right\"><p>45</p></div>\n",
       "</div> <div class=\"tr site-listing\">\n",
       "<div class=\"td\">30</div>\n",
       "<div class=\"td DescriptionCell\">\n",
       "<p class=\"\">\n",
       "<a href=\"/siteinfo/ntdtv.kr\">Ntdtv.kr</a>\n",
       "</p>\n",
       "<div class=\"description\">\n",
       "                      희망과 행복, 인간애를 공유하는 NTD Television Korea 홈페이지입니다.<span class=\"remainder\">\n",
       "</span>\n",
       "</div>\n",
       "</div>\n",
       "<div class=\"td right\"><p>2:40</p></div>\n",
       "<div class=\"td right\"><p>1.30</p></div>\n",
       "<div class=\"td right\"><p>6.10%</p></div>\n",
       "<div class=\"td right\"><p>341</p></div>\n",
       "</div> <div class=\"tr site-listing\">\n",
       "<div class=\"td\">31</div>\n",
       "<div class=\"td DescriptionCell\">\n",
       "<p class=\"\">\n",
       "<a href=\"/siteinfo/donga.com\">Donga.com</a>\n",
       "</p>\n",
       "<div class=\"description\">\n",
       "                      마이다스동아일보[동아일보뉴스:주요뉴스]<span class=\"remainder\">\n",
       "</span>\n",
       "</div>\n",
       "</div>\n",
       "<div class=\"td right\"><p>6:37</p></div>\n",
       "<div class=\"td right\"><p>8.32</p></div>\n",
       "<div class=\"td right\"><p>13.60%</p></div>\n",
       "<div class=\"td right\"><p>4,872</p></div>\n",
       "</div> <div class=\"tr site-listing\">\n",
       "<div class=\"td\">32</div>\n",
       "<div class=\"td DescriptionCell\">\n",
       "<p class=\"\">\n",
       "<a href=\"/siteinfo/microsoft.com\">Microsoft.com</a>\n",
       "</p>\n",
       "<div class=\"description\">\n",
       "                      Main site for product information, support, and news.<span class=\"remainder\">\n",
       "</span>\n",
       "</div>\n",
       "</div>\n",
       "<div class=\"td right\"><p>2:55</p></div>\n",
       "<div class=\"td right\"><p>2.80</p></div>\n",
       "<div class=\"td right\"><p>26.90%</p></div>\n",
       "<div class=\"td right\"><p>377,910</p></div>\n",
       "</div> <div class=\"tr site-listing\">\n",
       "<div class=\"td\">33</div>\n",
       "<div class=\"td DescriptionCell\">\n",
       "<p class=\"\">\n",
       "<a href=\"/siteinfo/stackoverflow.com\">Stackoverflow.com</a>\n",
       "</p>\n",
       "<div class=\"description\">\n",
       "                      A language-independent collaboratively edited question and answer site for programmers. Questio<span class=\"trucate\">…<a class=\"moreDesc\">More</a></span><span class=\"remainder\">ns and answers displayed by user votes and tags.\n",
       "                          <span class=\"trucate\"> <a class=\"lessDesc\">Less</a></span>\n",
       "</span>\n",
       "</div>\n",
       "</div>\n",
       "<div class=\"td right\"><p>5:31</p></div>\n",
       "<div class=\"td right\"><p>3.64</p></div>\n",
       "<div class=\"td right\"><p>70.70%</p></div>\n",
       "<div class=\"td right\"><p>38,342</p></div>\n",
       "</div> <div class=\"tr site-listing\">\n",
       "<div class=\"td\">34</div>\n",
       "<div class=\"td DescriptionCell\">\n",
       "<p class=\"\">\n",
       "<a href=\"/siteinfo/yahoo.com\">Yahoo.com</a>\n",
       "</p>\n",
       "<div class=\"description\">\n",
       "                      A major internet portal and service provider offering search results, customizable content, cha<span class=\"trucate\">…<a class=\"moreDesc\">More</a></span><span class=\"remainder\">trooms, free e-mail, clubs, and pager.\n",
       "                          <span class=\"trucate\"> <a class=\"lessDesc\">Less</a></span>\n",
       "</span>\n",
       "</div>\n",
       "</div>\n",
       "<div class=\"td right\"><p>3:59</p></div>\n",
       "<div class=\"td right\"><p>4.01</p></div>\n",
       "<div class=\"td right\"><p>7.90%</p></div>\n",
       "<div class=\"td right\"><p>437,720</p></div>\n",
       "</div> <div class=\"tr site-listing\">\n",
       "<div class=\"td\">35</div>\n",
       "<div class=\"td DescriptionCell\">\n",
       "<p class=\"\">\n",
       "<a href=\"/siteinfo/dcinside.com\">Dcinside.com</a>\n",
       "</p>\n",
       "<div class=\"description\">\n",
       "                       <span class=\"remainder\">\n",
       "</span>\n",
       "</div>\n",
       "</div>\n",
       "<div class=\"td right\"><p>21:59</p></div>\n",
       "<div class=\"td right\"><p>4.12</p></div>\n",
       "<div class=\"td right\"><p>11.70%</p></div>\n",
       "<div class=\"td right\"><p>1,021</p></div>\n",
       "</div> <div class=\"tr site-listing\">\n",
       "<div class=\"td\">36</div>\n",
       "<div class=\"td DescriptionCell\">\n",
       "<p class=\"\">\n",
       "<a href=\"/siteinfo/adobe.com\">Adobe.com</a>\n",
       "</p>\n",
       "<div class=\"description\">\n",
       "                      Adobe is changing the world through digital experiences. We help our customers create, deliver,<span class=\"trucate\">…<a class=\"moreDesc\">More</a></span><span class=\"remainder\"> and optimize content and applications.\n",
       "                          <span class=\"trucate\"> <a class=\"lessDesc\">Less</a></span>\n",
       "</span>\n",
       "</div>\n",
       "</div>\n",
       "<div class=\"td right\"><p>2:59</p></div>\n",
       "<div class=\"td right\"><p>3.26</p></div>\n",
       "<div class=\"td right\"><p>21.30%</p></div>\n",
       "<div class=\"td right\"><p>471,414</p></div>\n",
       "</div> <div class=\"tr site-listing\">\n",
       "<div class=\"td\">37</div>\n",
       "<div class=\"td DescriptionCell\">\n",
       "<p class=\"\">\n",
       "<a href=\"/siteinfo/ebay.com\">Ebay.com</a>\n",
       "</p>\n",
       "<div class=\"description\">\n",
       "                      International person to person auction site, with products sorted into categories.<span class=\"remainder\">\n",
       "</span>\n",
       "</div>\n",
       "</div>\n",
       "<div class=\"td right\"><p>8:58</p></div>\n",
       "<div class=\"td right\"><p>7.13</p></div>\n",
       "<div class=\"td right\"><p>16.20%</p></div>\n",
       "<div class=\"td right\"><p>98,148</p></div>\n",
       "</div> <div class=\"tr site-listing\">\n",
       "<div class=\"td\">38</div>\n",
       "<div class=\"td DescriptionCell\">\n",
       "<p class=\"\">\n",
       "<a href=\"/siteinfo/nate.com\">Nate.com</a>\n",
       "</p>\n",
       "<div class=\"description\">\n",
       "                      SKT의 유·무선 종합 포털<span class=\"remainder\">\n",
       "</span>\n",
       "</div>\n",
       "</div>\n",
       "<div class=\"td right\"><p>12:12</p></div>\n",
       "<div class=\"td right\"><p>9.59</p></div>\n",
       "<div class=\"td right\"><p>6.90%</p></div>\n",
       "<div class=\"td right\"><p>3,020</p></div>\n",
       "</div> <div class=\"tr site-listing\">\n",
       "<div class=\"td\">39</div>\n",
       "<div class=\"td DescriptionCell\">\n",
       "<p class=\"\">\n",
       "<a href=\"/siteinfo/twitch.tv\">Twitch.tv</a>\n",
       "</p>\n",
       "<div class=\"description\">\n",
       "                      Platform that allows players to livestream their video game play and viewers can chat in real-t<span class=\"trucate\">…<a class=\"moreDesc\">More</a></span><span class=\"remainder\">ime. Also offers recorded broadcasts. Lists channels by game name and viewer counts.\n",
       "                          <span class=\"trucate\"> <a class=\"lessDesc\">Less</a></span>\n",
       "</span>\n",
       "</div>\n",
       "</div>\n",
       "<div class=\"td right\"><p>5:54</p></div>\n",
       "<div class=\"td right\"><p>2.95</p></div>\n",
       "<div class=\"td right\"><p>5.30%</p></div>\n",
       "<div class=\"td right\"><p>15,073</p></div>\n",
       "</div> <div class=\"tr site-listing\">\n",
       "<div class=\"td\">40</div>\n",
       "<div class=\"td DescriptionCell\">\n",
       "<p class=\"\">\n",
       "<a href=\"/siteinfo/office.com\">Office.com</a>\n",
       "</p>\n",
       "<div class=\"description\">\n",
       "                      Online business resource with industry-specific news and analysis, tools and access to relevant<span class=\"trucate\">…<a class=\"moreDesc\">More</a></span><span class=\"remainder\"> services.\n",
       "                          <span class=\"trucate\"> <a class=\"lessDesc\">Less</a></span>\n",
       "</span>\n",
       "</div>\n",
       "</div>\n",
       "<div class=\"td right\"><p>4:25</p></div>\n",
       "<div class=\"td right\"><p>4.38</p></div>\n",
       "<div class=\"td right\"><p>16.30%</p></div>\n",
       "<div class=\"td right\"><p>7,032</p></div>\n",
       "</div> <div class=\"tr site-listing\">\n",
       "<div class=\"td\">41</div>\n",
       "<div class=\"td DescriptionCell\">\n",
       "<p class=\"\">\n",
       "<a href=\"/siteinfo/auction.co.kr\">Auction.co.kr</a>\n",
       "</p>\n",
       "<div class=\"description\">\n",
       "                      앞으로의 인터넷쇼핑, 옥션<span class=\"remainder\">\n",
       "</span>\n",
       "</div>\n",
       "</div>\n",
       "<div class=\"td right\"><p>6:27</p></div>\n",
       "<div class=\"td right\"><p>6.53</p></div>\n",
       "<div class=\"td right\"><p>7.30%</p></div>\n",
       "<div class=\"td right\"><p>1,525</p></div>\n",
       "</div> <div class=\"tr site-listing\">\n",
       "<div class=\"td\">42</div>\n",
       "<div class=\"td DescriptionCell\">\n",
       "<p class=\"\">\n",
       "<a href=\"/siteinfo/inven.co.kr\">Inven.co.kr</a>\n",
       "</p>\n",
       "<div class=\"description\">\n",
       "                       <span class=\"remainder\">\n",
       "</span>\n",
       "</div>\n",
       "</div>\n",
       "<div class=\"td right\"><p>6:54</p></div>\n",
       "<div class=\"td right\"><p>8.72</p></div>\n",
       "<div class=\"td right\"><p>28.40%</p></div>\n",
       "<div class=\"td right\"><p>883</p></div>\n",
       "</div> <div class=\"tr site-listing\">\n",
       "<div class=\"td\">43</div>\n",
       "<div class=\"td DescriptionCell\">\n",
       "<p class=\"\">\n",
       "<a href=\"/siteinfo/dropbox.com\">Dropbox.com</a>\n",
       "</p>\n",
       "<div class=\"description\">\n",
       "                      Store, synchronize and share files online with public access. Free version offers up to 16 GB. <span class=\"trucate\">…<a class=\"moreDesc\">More</a></span><span class=\"remainder\">Provides a desktop client for Windows, Mac, and Linux, and has apps for iPhone, iPad, Android, and BlackBerry.\n",
       "                          <span class=\"trucate\"> <a class=\"lessDesc\">Less</a></span>\n",
       "</span>\n",
       "</div>\n",
       "</div>\n",
       "<div class=\"td right\"><p>3:52</p></div>\n",
       "<div class=\"td right\"><p>3.47</p></div>\n",
       "<div class=\"td right\"><p>8.60%</p></div>\n",
       "<div class=\"td right\"><p>31,020</p></div>\n",
       "</div> <div class=\"tr site-listing\">\n",
       "<div class=\"td\">44</div>\n",
       "<div class=\"td DescriptionCell\">\n",
       "<p class=\"\">\n",
       "<a href=\"/siteinfo/instagram.com\">Instagram.com</a>\n",
       "</p>\n",
       "<div class=\"description\">\n",
       "                       <span class=\"remainder\">\n",
       "</span>\n",
       "</div>\n",
       "</div>\n",
       "<div class=\"td right\"><p>5:58</p></div>\n",
       "<div class=\"td right\"><p>5.22</p></div>\n",
       "<div class=\"td right\"><p>6.40%</p></div>\n",
       "<div class=\"td right\"><p>1,286,884</p></div>\n",
       "</div> <div class=\"tr site-listing\">\n",
       "<div class=\"td\">45</div>\n",
       "<div class=\"td DescriptionCell\">\n",
       "<p class=\"\">\n",
       "<a href=\"/siteinfo/ruliweb.com\">Ruliweb.com</a>\n",
       "</p>\n",
       "<div class=\"description\">\n",
       "                       <span class=\"remainder\">\n",
       "</span>\n",
       "</div>\n",
       "</div>\n",
       "<div class=\"td right\"><p>14:45</p></div>\n",
       "<div class=\"td right\"><p>15.50</p></div>\n",
       "<div class=\"td right\"><p>15.70%</p></div>\n",
       "<div class=\"td right\"><p>455</p></div>\n",
       "</div> <div class=\"tr site-listing\">\n",
       "<div class=\"td\">46</div>\n",
       "<div class=\"td DescriptionCell\">\n",
       "<p class=\"\">\n",
       "<a href=\"/siteinfo/bing.com\">Bing.com</a>\n",
       "</p>\n",
       "<div class=\"description\">\n",
       "                      Search engine developed by Microsoft. Features web, image, video, local, news, and product sear<span class=\"trucate\">…<a class=\"moreDesc\">More</a></span><span class=\"remainder\">ch.\n",
       "                          <span class=\"trucate\"> <a class=\"lessDesc\">Less</a></span>\n",
       "</span>\n",
       "</div>\n",
       "</div>\n",
       "<div class=\"td right\"><p>2:30</p></div>\n",
       "<div class=\"td right\"><p>2.56</p></div>\n",
       "<div class=\"td right\"><p>4.70%</p></div>\n",
       "<div class=\"td right\"><p>58,479</p></div>\n",
       "</div> <div class=\"tr site-listing\">\n",
       "<div class=\"td\">47</div>\n",
       "<div class=\"td DescriptionCell\">\n",
       "<p class=\"\">\n",
       "<a href=\"/siteinfo/amazon.co.uk\">Amazon.co.uk</a>\n",
       "</p>\n",
       "<div class=\"description\">\n",
       "                      Online retailer of books, movies, music and games along with electronics, toys, apparel, sports<span class=\"trucate\">…<a class=\"moreDesc\">More</a></span><span class=\"remainder\">, tools, groceries and general home and garden items.\n",
       "                          <span class=\"trucate\"> <a class=\"lessDesc\">Less</a></span>\n",
       "</span>\n",
       "</div>\n",
       "</div>\n",
       "<div class=\"td right\"><p>5:33</p></div>\n",
       "<div class=\"td right\"><p>5.91</p></div>\n",
       "<div class=\"td right\"><p>22.80%</p></div>\n",
       "<div class=\"td right\"><p>75,087</p></div>\n",
       "</div> <div class=\"tr site-listing\">\n",
       "<div class=\"td\">48</div>\n",
       "<div class=\"td DescriptionCell\">\n",
       "<p class=\"\">\n",
       "<a href=\"/siteinfo/clien.net\">Clien.net</a>\n",
       "</p>\n",
       "<div class=\"description\">\n",
       "                       <span class=\"remainder\">\n",
       "</span>\n",
       "</div>\n",
       "</div>\n",
       "<div class=\"td right\"><p>8:13</p></div>\n",
       "<div class=\"td right\"><p>10.00</p></div>\n",
       "<div class=\"td right\"><p>20.90%</p></div>\n",
       "<div class=\"td right\"><p>264</p></div>\n",
       "</div> <div class=\"tr site-listing\">\n",
       "<div class=\"td\">49</div>\n",
       "<div class=\"td DescriptionCell\">\n",
       "<p class=\"\">\n",
       "<a href=\"/siteinfo/joins.com\">Joins.com</a>\n",
       "</p>\n",
       "<div class=\"description\">\n",
       "                      중앙일보 (JoongAng Ilbo)<span class=\"remainder\">\n",
       "</span>\n",
       "</div>\n",
       "</div>\n",
       "<div class=\"td right\"><p>4:00</p></div>\n",
       "<div class=\"td right\"><p>2.31</p></div>\n",
       "<div class=\"td right\"><p>17.30%</p></div>\n",
       "<div class=\"td right\"><p>5,873</p></div>\n",
       "</div> <div class=\"tr site-listing\">\n",
       "<div class=\"td\">50</div>\n",
       "<div class=\"td DescriptionCell\">\n",
       "<p class=\"\">\n",
       "<a href=\"/siteinfo/msn.com\">Msn.com</a>\n",
       "</p>\n",
       "<div class=\"description\">\n",
       "                      Portal for shopping, news and money, e-mail, search, and chat.<span class=\"remainder\">\n",
       "</span>\n",
       "</div>\n",
       "</div>\n",
       "<div class=\"td right\"><p>3:20</p></div>\n",
       "<div class=\"td right\"><p>2.80</p></div>\n",
       "<div class=\"td right\"><p>7.20%</p></div>\n",
       "<div class=\"td right\"><p>115,291</p></div>\n",
       "</div> </div>\n",
       "<p class=\"pages\">Showing 50 of 500 results</p>\n",
       "<div class=\"row-fluid TopSitesAd\">\n",
       "<div class=\"left\">Want access to the complete list?</div>\n",
       "<div class=\"right\"><a href=\"/plans\">START YOUR FREE TRIAL</a></div>\n",
       "</div> <a class=\"apilink\" href=\"https://aws.amazon.com/marketplace/pp/B07QK2XWNV?qid=1555346599089&amp;sr=0-1&amp;ref_=srh_res_product_title\"> More extensive \n",
       "                lists of top sites by country or globally are available programmatically through \n",
       "                the Alexa Top Sites service</a>\n",
       "</div>\n",
       "</div>\n",
       "</span>\n",
       "</span>\n",
       "</section>\n",
       "</div>\n",
       "<div class=\"hide-elem\" data-module=\"dialog-waiting\" id=\"waiting-dialog\">\n",
       "<div class=\"text-center\">\n",
       "<i class=\"fa fa-spinner fa-pulse fa-5x fa-fw\"></i>\n",
       "</div>\n",
       "</div> </section>\n",
       "</div>\n",
       "</section>\n",
       "<footer class=\"alx-footer font-1 \" id=\"alx-footer\">\n",
       "<div class=\"Contained\">\n",
       "<section class=\"footer-content row-fluid\" id=\"footer-content\">\n",
       "<div class=\"span3\">\n",
       "<a class=\"title footer-link\" href=\"https://try.alexa.com/marketing-stack/seo-tools\" style=\"cursor:pointer;\">SEO Tools</a>\n",
       "<ul class=\"\">\n",
       "<li><a class=\"footer-link\" href=\"https://try.alexa.com/marketing-stack/keyword-difficulty-tool\">Keyword Difficulty Tool</a></li>\n",
       "<li><a class=\"footer-link\" href=\"https://try.alexa.com/marketing-stack/competitor-keyword-matrix\">Competitor Keyword Matrix</a></li>\n",
       "<li><a class=\"footer-link\" href=\"https://try.alexa.com/marketing-stack/on-page-seo-checker\">On-Page SEO Checker</a></li>\n",
       "<li><a class=\"footer-link\" href=\"https://try.alexa.com/marketing-stack/competitor-backlink-checker\">Competitor Backlink Checker</a></li>\n",
       "<li><a class=\"footer-link\" href=\"https://try.alexa.com/marketing-stack/seo-audit-tool\">SEO Audit Tool</a></li>\n",
       "</ul>\n",
       "</div>\n",
       "<div class=\"span4\">\n",
       "<a class=\"title footer-link\" href=\"https://try.alexa.com/marketing-stack/competitive-analysis-tools\" style=\"cursor:pointer;\">Competitive Analysis Tools</a>\n",
       "<ul class=\"\">\n",
       "<li><a class=\"footer-link\" href=\"https://try.alexa.com/marketing-stack/audience-overlap-tool\">Audience Overlap Tool</a></li>\n",
       "<li><a class=\"footer-link\" href=\"https://try.alexa.com/marketing-stack/site-comparisons\">Site Comparisons</a></li>\n",
       "<li><a class=\"footer-link\" href=\"/siteinfo\">Website Traffic Statistics</a></li>\n",
       "<li><a class=\"footer-link\" href=\"/find-similar-sites\">Find Similar Sites</a></li>\n",
       "<li><a class=\"footer-link\" href=\"/topsites\">Top Sites</a></li>\n",
       "<li><a class=\"footer-link\" href=\"/toolbar\">Alexa Browser Extension</a></li>\n",
       "<li><a class=\"footer-link\" href=\"https://aws.amazon.com/marketplace/seller-profile?id=4a9dbf38-88b1-4e87-a459-271154a77d2e\">API</a></li>\n",
       "</ul>\n",
       "</div>\n",
       "<div class=\"span3\">\n",
       "<p class=\"title footer-link\">Marketing Resources</p>\n",
       "<ul>\n",
       "<li><a class=\"footer-link\" href=\"https://try.alexa.com/resources\">eBooks</a></li>\n",
       "<li><a class=\"footer-link\" href=\"https://try.alexa.com/alexa-tutorials/\">Video Tutorials</a></li>\n",
       "<li><a class=\"footer-link\" href=\"http://blog.alexa.com/\">Blog</a></li>\n",
       "</ul></div>\n",
       "<div class=\"span2\">\n",
       "<p class=\"title\">Company</p>\n",
       "<ul>\n",
       "<li><a class=\"footer-link\" href=\"/about\">About</a></li>\n",
       "<li><a class=\"footer-link\" href=\"/about/management\">Team</a></li>\n",
       "<li><a class=\"footer-link\" href=\"/about/careers\">Careers</a></li>\n",
       "<li><a class=\"footer-link\" href=\"/plans\">Pricing</a></li>\n",
       "<li><a class=\"footer-link\" href=\"/support\">Support</a></li>\n",
       "<li><a class=\"footer-link\" href=\"/contact-us\">Contact Us</a></li>\n",
       "</ul></div>\n",
       "</section>\n",
       "</div>\n",
       "<section class=\"footer-legal loggedout\" id=\"footer-legal\">\n",
       "<div class=\"Contained\">\n",
       "<span class=\"row-fluid\">\n",
       "<section class=\"span8 footer-copy\" id=\"footer-copy\">\n",
       "<span>© Alexa Internet, Inc. 1996 - 2019</span><a href=\"/help/privacy\">Privacy</a><a href=\"/help/terms\">Terms</a>\n",
       "<a class=\"footer-link \" href=\"/contact-us\">Contact</a><a href=\"https://aws.amazon.com/marketplace/seller-profile?id=4a9dbf38-88b1-4e87-a459-271154a77d2e\">API</a>\n",
       "</section>\n",
       "<section class=\"span4 align-right footer-social\" id=\"footer-terms\">\n",
       "<a class=\"blogButton footer-link\" href=\"http://blog.alexa.com/\" target=\"_blank\"><img src=\"/images/icon-alexa-70px.png\" style=\"width: 33px; margin-right: 8px; vertical-align: top; margin-top: 2px;\"/></a>\n",
       "<a class=\"fa fa-facebook footer-link\" href=\"https://www.facebook.com/alexainternet\" target=\"_blank\">\n",
       "</a>\n",
       "<a class=\"fa fa-twitter footer-link\" href=\"https://twitter.com/alexainternet\" target=\"_blank\">\n",
       "</a>\n",
       "<a class=\"fa fa-linkedin footer-link\" href=\"https://www.linkedin.com/company/alexa-internet\" target=\"_blank\">\n",
       "</a>\n",
       "</section>\n",
       "<section class=\"mobile-legal\">\n",
       "<div class=\"row-fluid\">\n",
       "<div class=\"half\"><a class=\"footer-link\" href=\"https://aws.amazon.com/marketplace/seller-profile?id=4a9dbf38-88b1-4e87-a459-271154a77d2e\">API</a></div>\n",
       "<div class=\"half\"><a class=\"footer-link \" href=\"/contact-us\">Contact\n",
       "                  Us</a></div>\n",
       "</div>\n",
       "<div class=\"row-fluid\">\n",
       "<div class=\"half\"><a class=\"footer-link\" href=\"/help/privacy\">Privacy</a></div>\n",
       "<div class=\"half\"><a class=\"footer-link\" href=\"/help/terms\">Terms</a></div>\n",
       "</div>\n",
       "<div class=\"row-fluid\" style=\"text-align:center; color:#667fa7; padding:10px\n",
       "              0; border-bottom:none;\">© Alexa Internet, Inc. 1996 - 2019</div>\n",
       "</section>\n",
       "</span>\n",
       "</div>\n",
       "<div style=\"clear:both;height:0px\"></div>\n",
       "</section> </footer>\n",
       "</div>\n",
       "</div>"
      ]
     },
     "execution_count": 35,
     "metadata": {},
     "output_type": "execute_result"
    }
   ],
   "source": [
    "top_sites[0]"
   ]
  },
  {
   "cell_type": "code",
   "execution_count": 36,
   "metadata": {},
   "outputs": [
    {
     "data": {
      "text/plain": [
       "50"
      ]
     },
     "execution_count": 36,
     "metadata": {},
     "output_type": "execute_result"
    }
   ],
   "source": [
    "top_sites = soup.find_all('div', 'tr site-listing')\n",
    "len(top_sites)"
   ]
  },
  {
   "cell_type": "code",
   "execution_count": 37,
   "metadata": {},
   "outputs": [
    {
     "data": {
      "text/plain": [
       "<div class=\"tr site-listing\">\n",
       "<div class=\"td\">1</div>\n",
       "<div class=\"td DescriptionCell\">\n",
       "<p class=\"\">\n",
       "<a href=\"/siteinfo/google.com\">Google.com</a>\n",
       "</p>\n",
       "<div class=\"description\">\n",
       "                      Enables users to search the world's information, including webpages, images, and videos. Offers<span class=\"trucate\">…<a class=\"moreDesc\">More</a></span><span class=\"remainder\"> unique features and search technology.\n",
       "                          <span class=\"trucate\"> <a class=\"lessDesc\">Less</a></span>\n",
       "</span>\n",
       "</div>\n",
       "</div>\n",
       "<div class=\"td right\"><p>8:52</p></div>\n",
       "<div class=\"td right\"><p>12.74</p></div>\n",
       "<div class=\"td right\"><p>0.50%</p></div>\n",
       "<div class=\"td right\"><p>2,163,333</p></div>\n",
       "</div>"
      ]
     },
     "execution_count": 37,
     "metadata": {},
     "output_type": "execute_result"
    }
   ],
   "source": [
    "tmp = top_sites[0]\n",
    "tmp"
   ]
  },
  {
   "cell_type": "code",
   "execution_count": 38,
   "metadata": {},
   "outputs": [
    {
     "data": {
      "text/plain": [
       "<div class=\"td\">1</div>"
      ]
     },
     "execution_count": 38,
     "metadata": {},
     "output_type": "execute_result"
    }
   ],
   "source": [
    "tmp1 = tmp.find('div', 'td')\n",
    "tmp1"
   ]
  },
  {
   "cell_type": "code",
   "execution_count": 39,
   "metadata": {},
   "outputs": [
    {
     "data": {
      "text/plain": [
       "<a href=\"/siteinfo/google.com\">Google.com</a>"
      ]
     },
     "execution_count": 39,
     "metadata": {},
     "output_type": "execute_result"
    }
   ],
   "source": [
    "tmp2 = tmp.find('a')\n",
    "tmp2"
   ]
  },
  {
   "cell_type": "code",
   "execution_count": 40,
   "metadata": {},
   "outputs": [
    {
     "data": {
      "text/plain": [
       "'1'"
      ]
     },
     "execution_count": 40,
     "metadata": {},
     "output_type": "execute_result"
    }
   ],
   "source": [
    "rank = tmp1.get_text()\n",
    "rank"
   ]
  },
  {
   "cell_type": "code",
   "execution_count": 41,
   "metadata": {},
   "outputs": [
    {
     "data": {
      "text/plain": [
       "'Google.com'"
      ]
     },
     "execution_count": 41,
     "metadata": {},
     "output_type": "execute_result"
    }
   ],
   "source": [
    "site = tmp2.get_text()\n",
    "site"
   ]
  },
  {
   "cell_type": "code",
   "execution_count": 42,
   "metadata": {},
   "outputs": [
    {
     "data": {
      "text/plain": [
       "'/siteinfo/google.com'"
      ]
     },
     "execution_count": 42,
     "metadata": {},
     "output_type": "execute_result"
    }
   ],
   "source": [
    "link = tmp2['href']\n",
    "link"
   ]
  },
  {
   "cell_type": "code",
   "execution_count": 43,
   "metadata": {},
   "outputs": [
    {
     "name": "stdout",
     "output_type": "stream",
     "text": [
      "[Top Sites in South Korea]\n",
      "================================================================================\n",
      "  1위. Google.com           https://www.alexa.com/siteinfo/google.com\n",
      "  2위. Naver.com            https://www.alexa.com/siteinfo/naver.com\n",
      "  3위. Youtube.com          https://www.alexa.com/siteinfo/youtube.com\n",
      "  4위. Daum.net             https://www.alexa.com/siteinfo/daum.net\n",
      "  5위. Tmall.com            https://www.alexa.com/siteinfo/tmall.com\n",
      "  6위. Google.co.kr         https://www.alexa.com/siteinfo/google.co.kr\n",
      "  7위. Tistory.com          https://www.alexa.com/siteinfo/tistory.com\n",
      "  8위. Sohu.com             https://www.alexa.com/siteinfo/sohu.com\n",
      "  9위. Qq.com               https://www.alexa.com/siteinfo/qq.com\n",
      " 10위. Login.tmall.com      https://www.alexa.com/siteinfo/login.tmall.com\n",
      "--------------------------------------------------------------------------------\n",
      " 11위. Wikipedia.org        https://www.alexa.com/siteinfo/wikipedia.org\n",
      " 12위. Taobao.com           https://www.alexa.com/siteinfo/taobao.com\n",
      " 13위. Facebook.com         https://www.alexa.com/siteinfo/facebook.com\n",
      " 14위. Amazon.com           https://www.alexa.com/siteinfo/amazon.com\n",
      " 15위. Jd.com               https://www.alexa.com/siteinfo/jd.com\n",
      " 16위. Namu.wiki            https://www.alexa.com/siteinfo/namu.wiki\n",
      " 17위. 360.cn               https://www.alexa.com/siteinfo/360.cn\n",
      " 18위. Kakao.com            https://www.alexa.com/siteinfo/kakao.com\n",
      " 19위. Baidu.com            https://www.alexa.com/siteinfo/baidu.com\n",
      " 20위. Pages.tmall.com      https://www.alexa.com/siteinfo/pages.tmall.com\n",
      "--------------------------------------------------------------------------------\n",
      " 21위. Weibo.com            https://www.alexa.com/siteinfo/weibo.com\n",
      " 22위. Gmarket.co.kr        https://www.alexa.com/siteinfo/gmarket.co.kr\n",
      " 23위. Netflix.com          https://www.alexa.com/siteinfo/netflix.com\n",
      " 24위. Sina.com.cn          https://www.alexa.com/siteinfo/sina.com.cn\n",
      " 25위. 11st.co.kr           https://www.alexa.com/siteinfo/11st.co.kr\n",
      " 26위. Blog.me              https://www.alexa.com/siteinfo/blog.me\n",
      " 27위. Apple.com            https://www.alexa.com/siteinfo/apple.com\n",
      " 28위. Coupang.com          https://www.alexa.com/siteinfo/coupang.com\n",
      " 29위. Torrentwal.com       https://www.alexa.com/siteinfo/torrentwal.com\n",
      " 30위. Ntdtv.kr             https://www.alexa.com/siteinfo/ntdtv.kr\n",
      "--------------------------------------------------------------------------------\n",
      " 31위. Donga.com            https://www.alexa.com/siteinfo/donga.com\n",
      " 32위. Microsoft.com        https://www.alexa.com/siteinfo/microsoft.com\n",
      " 33위. Stackoverflow.com    https://www.alexa.com/siteinfo/stackoverflow.com\n",
      " 34위. Yahoo.com            https://www.alexa.com/siteinfo/yahoo.com\n",
      " 35위. Dcinside.com         https://www.alexa.com/siteinfo/dcinside.com\n",
      " 36위. Adobe.com            https://www.alexa.com/siteinfo/adobe.com\n",
      " 37위. Ebay.com             https://www.alexa.com/siteinfo/ebay.com\n",
      " 38위. Nate.com             https://www.alexa.com/siteinfo/nate.com\n",
      " 39위. Twitch.tv            https://www.alexa.com/siteinfo/twitch.tv\n",
      " 40위. Office.com           https://www.alexa.com/siteinfo/office.com\n",
      "--------------------------------------------------------------------------------\n",
      " 41위. Auction.co.kr        https://www.alexa.com/siteinfo/auction.co.kr\n",
      " 42위. Inven.co.kr          https://www.alexa.com/siteinfo/inven.co.kr\n",
      " 43위. Dropbox.com          https://www.alexa.com/siteinfo/dropbox.com\n",
      " 44위. Instagram.com        https://www.alexa.com/siteinfo/instagram.com\n",
      " 45위. Ruliweb.com          https://www.alexa.com/siteinfo/ruliweb.com\n",
      " 46위. Bing.com             https://www.alexa.com/siteinfo/bing.com\n",
      " 47위. Amazon.co.uk         https://www.alexa.com/siteinfo/amazon.co.uk\n",
      " 48위. Clien.net            https://www.alexa.com/siteinfo/clien.net\n",
      " 49위. Joins.com            https://www.alexa.com/siteinfo/joins.com\n",
      " 50위. Msn.com              https://www.alexa.com/siteinfo/msn.com\n"
     ]
    }
   ],
   "source": [
    "Rank = []\n",
    "Site = []\n",
    "Link = []\n",
    "\n",
    "url = \"https://www.alexa.com/topsites/countries/KR\"\n",
    "\n",
    "html = requests.get(url).text\n",
    "soup = BeautifulSoup(html, \"lxml\")\n",
    "top_sites = soup.find_all('div', 'tr site-listing')\n",
    "\n",
    "print(\"[Top Sites in South Korea]\")\n",
    "print(\"=\"*80)\n",
    "for idx in range(len(top_sites)):\n",
    "    tmp  = top_sites[idx]\n",
    "    \n",
    "    tmp1 = tmp.find('div', 'td')\n",
    "    tmp2 = tmp.find('a')\n",
    "    rank = tmp1.get_text()\n",
    "    site = tmp2.get_text()\n",
    "    link = tmp2['href']\n",
    "    link = 'https://www.alexa.com' + link\n",
    "    \n",
    "    if idx%10==0 and idx>0:\n",
    "        print(\"-\"*80)\n",
    "        \n",
    "    print(\"{rank}위. {site} {link}\".format(\n",
    "        rank = ' '*(3-len(rank)) + rank, \n",
    "        site = site, \n",
    "        link = ' '*(20-len(site)) + link\n",
    "    ))\n",
    "    \n",
    "    Rank.append(rank)\n",
    "    Site.append(site)\n",
    "    Link.append(link)\n"
   ]
  },
  {
   "cell_type": "code",
   "execution_count": 44,
   "metadata": {},
   "outputs": [
    {
     "data": {
      "text/plain": [
       "['1', '2', '3', '4', '5']"
      ]
     },
     "execution_count": 44,
     "metadata": {},
     "output_type": "execute_result"
    }
   ],
   "source": [
    "Rank[:5]"
   ]
  },
  {
   "cell_type": "code",
   "execution_count": 45,
   "metadata": {},
   "outputs": [
    {
     "data": {
      "text/plain": [
       "['Google.com', 'Naver.com', 'Youtube.com', 'Daum.net', 'Tmall.com']"
      ]
     },
     "execution_count": 45,
     "metadata": {},
     "output_type": "execute_result"
    }
   ],
   "source": [
    "Site[:5]"
   ]
  },
  {
   "cell_type": "code",
   "execution_count": 46,
   "metadata": {},
   "outputs": [
    {
     "data": {
      "text/plain": [
       "['https://www.alexa.com/siteinfo/google.com',\n",
       " 'https://www.alexa.com/siteinfo/naver.com',\n",
       " 'https://www.alexa.com/siteinfo/youtube.com',\n",
       " 'https://www.alexa.com/siteinfo/daum.net',\n",
       " 'https://www.alexa.com/siteinfo/tmall.com']"
      ]
     },
     "execution_count": 46,
     "metadata": {},
     "output_type": "execute_result"
    }
   ],
   "source": [
    "Link[:5]"
   ]
  },
  {
   "cell_type": "code",
   "execution_count": 47,
   "metadata": {},
   "outputs": [],
   "source": [
    "import pandas as pd\n",
    "\n",
    "data = {'Rank':Rank, 'Site':Site, 'Link':Link}\n",
    "df = pd.DataFrame(data)"
   ]
  },
  {
   "cell_type": "code",
   "execution_count": 48,
   "metadata": {},
   "outputs": [
    {
     "data": {
      "text/html": [
       "<div>\n",
       "<style scoped>\n",
       "    .dataframe tbody tr th:only-of-type {\n",
       "        vertical-align: middle;\n",
       "    }\n",
       "\n",
       "    .dataframe tbody tr th {\n",
       "        vertical-align: top;\n",
       "    }\n",
       "\n",
       "    .dataframe thead th {\n",
       "        text-align: right;\n",
       "    }\n",
       "</style>\n",
       "<table border=\"1\" class=\"dataframe\">\n",
       "  <thead>\n",
       "    <tr style=\"text-align: right;\">\n",
       "      <th></th>\n",
       "      <th>Rank</th>\n",
       "      <th>Site</th>\n",
       "      <th>Link</th>\n",
       "    </tr>\n",
       "  </thead>\n",
       "  <tbody>\n",
       "    <tr>\n",
       "      <th>0</th>\n",
       "      <td>1</td>\n",
       "      <td>Google.com</td>\n",
       "      <td>https://www.alexa.com/siteinfo/google.com</td>\n",
       "    </tr>\n",
       "    <tr>\n",
       "      <th>1</th>\n",
       "      <td>2</td>\n",
       "      <td>Naver.com</td>\n",
       "      <td>https://www.alexa.com/siteinfo/naver.com</td>\n",
       "    </tr>\n",
       "    <tr>\n",
       "      <th>2</th>\n",
       "      <td>3</td>\n",
       "      <td>Youtube.com</td>\n",
       "      <td>https://www.alexa.com/siteinfo/youtube.com</td>\n",
       "    </tr>\n",
       "    <tr>\n",
       "      <th>3</th>\n",
       "      <td>4</td>\n",
       "      <td>Daum.net</td>\n",
       "      <td>https://www.alexa.com/siteinfo/daum.net</td>\n",
       "    </tr>\n",
       "    <tr>\n",
       "      <th>4</th>\n",
       "      <td>5</td>\n",
       "      <td>Tmall.com</td>\n",
       "      <td>https://www.alexa.com/siteinfo/tmall.com</td>\n",
       "    </tr>\n",
       "  </tbody>\n",
       "</table>\n",
       "</div>"
      ],
      "text/plain": [
       "  Rank         Site                                        Link\n",
       "0    1   Google.com   https://www.alexa.com/siteinfo/google.com\n",
       "1    2    Naver.com    https://www.alexa.com/siteinfo/naver.com\n",
       "2    3  Youtube.com  https://www.alexa.com/siteinfo/youtube.com\n",
       "3    4     Daum.net     https://www.alexa.com/siteinfo/daum.net\n",
       "4    5    Tmall.com    https://www.alexa.com/siteinfo/tmall.com"
      ]
     },
     "execution_count": 48,
     "metadata": {},
     "output_type": "execute_result"
    }
   ],
   "source": [
    "df.head()"
   ]
  },
  {
   "cell_type": "code",
   "execution_count": 49,
   "metadata": {
    "scrolled": false
   },
   "outputs": [
    {
     "data": {
      "text/html": [
       "<div>\n",
       "<style scoped>\n",
       "    .dataframe tbody tr th:only-of-type {\n",
       "        vertical-align: middle;\n",
       "    }\n",
       "\n",
       "    .dataframe tbody tr th {\n",
       "        vertical-align: top;\n",
       "    }\n",
       "\n",
       "    .dataframe thead th {\n",
       "        text-align: right;\n",
       "    }\n",
       "</style>\n",
       "<table border=\"1\" class=\"dataframe\">\n",
       "  <thead>\n",
       "    <tr style=\"text-align: right;\">\n",
       "      <th></th>\n",
       "      <th>Site</th>\n",
       "      <th>Link</th>\n",
       "    </tr>\n",
       "    <tr>\n",
       "      <th>Rank</th>\n",
       "      <th></th>\n",
       "      <th></th>\n",
       "    </tr>\n",
       "  </thead>\n",
       "  <tbody>\n",
       "    <tr>\n",
       "      <th>1</th>\n",
       "      <td>Google.com</td>\n",
       "      <td>https://www.alexa.com/siteinfo/google.com</td>\n",
       "    </tr>\n",
       "    <tr>\n",
       "      <th>2</th>\n",
       "      <td>Naver.com</td>\n",
       "      <td>https://www.alexa.com/siteinfo/naver.com</td>\n",
       "    </tr>\n",
       "    <tr>\n",
       "      <th>3</th>\n",
       "      <td>Youtube.com</td>\n",
       "      <td>https://www.alexa.com/siteinfo/youtube.com</td>\n",
       "    </tr>\n",
       "    <tr>\n",
       "      <th>4</th>\n",
       "      <td>Daum.net</td>\n",
       "      <td>https://www.alexa.com/siteinfo/daum.net</td>\n",
       "    </tr>\n",
       "    <tr>\n",
       "      <th>5</th>\n",
       "      <td>Tmall.com</td>\n",
       "      <td>https://www.alexa.com/siteinfo/tmall.com</td>\n",
       "    </tr>\n",
       "  </tbody>\n",
       "</table>\n",
       "</div>"
      ],
      "text/plain": [
       "             Site                                        Link\n",
       "Rank                                                         \n",
       "1      Google.com   https://www.alexa.com/siteinfo/google.com\n",
       "2       Naver.com    https://www.alexa.com/siteinfo/naver.com\n",
       "3     Youtube.com  https://www.alexa.com/siteinfo/youtube.com\n",
       "4        Daum.net     https://www.alexa.com/siteinfo/daum.net\n",
       "5       Tmall.com    https://www.alexa.com/siteinfo/tmall.com"
      ]
     },
     "execution_count": 49,
     "metadata": {},
     "output_type": "execute_result"
    }
   ],
   "source": [
    "df.set_index('Rank', inplace=True)\n",
    "df.head()"
   ]
  },
  {
   "cell_type": "code",
   "execution_count": 50,
   "metadata": {},
   "outputs": [],
   "source": [
    "dir_data = 'data'\n",
    "if not exists(dir_data):\n",
    "    os.mkdir(dir_data)"
   ]
  },
  {
   "cell_type": "code",
   "execution_count": 51,
   "metadata": {
    "scrolled": true
   },
   "outputs": [],
   "source": [
    "df.to_csv('./data/top_sites_SKorea_201909.csv')"
   ]
  },
  {
   "cell_type": "code",
   "execution_count": 52,
   "metadata": {},
   "outputs": [],
   "source": [
    "# %more ./data/top_sites_SKorea_201909.csv\n",
    "# !type .\\data\\top_sites_SKorea_201909.csv"
   ]
  },
  {
   "cell_type": "markdown",
   "metadata": {},
   "source": [
    "<hr>\n",
    "\n",
    "#### <font color='#0000CC'>주간 음악 순위 : NAVER MUSIC TOP 100</font>"
   ]
  },
  {
   "cell_type": "code",
   "execution_count": 53,
   "metadata": {},
   "outputs": [],
   "source": [
    "import requests\n",
    "from bs4 import BeautifulSoup\n",
    "\n",
    "url = 'https://music.naver.com/listen/history/index.nhn?type=TOTAL_V2&year=2019&month=08&week=0'\n",
    "\n",
    "html_music = requests.get(url).text\n",
    "soup_music = BeautifulSoup(html_music, \"lxml\")"
   ]
  },
  {
   "cell_type": "markdown",
   "metadata": {},
   "source": [
    "####  # _title 정보"
   ]
  },
  {
   "cell_type": "code",
   "execution_count": 54,
   "metadata": {},
   "outputs": [
    {
     "data": {
      "text/plain": [
       "50"
      ]
     },
     "execution_count": 54,
     "metadata": {},
     "output_type": "execute_result"
    }
   ],
   "source": [
    "# a 태그의 요소 중에서 class 속성값이 \"_title\" 인 것을 찾고\n",
    "# 그 안에서 span 태그의 요소 중에서 class 속성값이 \"ellipsis\"인 요소를 추출\n",
    "titles = soup_music.select('a._title span.ellipsis') \n",
    "len(titles)"
   ]
  },
  {
   "cell_type": "code",
   "execution_count": 55,
   "metadata": {},
   "outputs": [
    {
     "data": {
      "text/plain": [
       "[<span class=\"ellipsis\">그대라는 시</span>,\n",
       " <span class=\"ellipsis\">술이 문제야</span>,\n",
       " <span class=\"ellipsis\">ICY</span>,\n",
       " <span class=\"ellipsis\">헤어져줘서 고마워</span>,\n",
       " <span class=\"ellipsis\">기억해줘요 내 모든 날과 그때를</span>,\n",
       " <span class=\"ellipsis\">2002</span>,\n",
       " <span class=\"ellipsis\">나의 어깨에 기대어요</span>,\n",
       " <span class=\"ellipsis\">니 소식</span>,\n",
       " <span class=\"ellipsis\">사랑에 연습이 있었다면 (Prod. 2soo)</span>,\n",
       " <span class=\"ellipsis\">Snapping</span>]"
      ]
     },
     "execution_count": 55,
     "metadata": {},
     "output_type": "execute_result"
    }
   ],
   "source": [
    "titles[0:10]"
   ]
  },
  {
   "cell_type": "code",
   "execution_count": 56,
   "metadata": {},
   "outputs": [],
   "source": [
    "music_titles = [title.get_text() for title in titles]"
   ]
  },
  {
   "cell_type": "code",
   "execution_count": 57,
   "metadata": {},
   "outputs": [
    {
     "data": {
      "text/plain": [
       "['그대라는 시',\n",
       " '술이 문제야',\n",
       " 'ICY',\n",
       " '헤어져줘서 고마워',\n",
       " '기억해줘요 내 모든 날과 그때를',\n",
       " '2002',\n",
       " '나의 어깨에 기대어요',\n",
       " '니 소식',\n",
       " '사랑에 연습이 있었다면 (Prod. 2soo)',\n",
       " 'Snapping']"
      ]
     },
     "execution_count": 57,
     "metadata": {},
     "output_type": "execute_result"
    }
   ],
   "source": [
    "music_titles[0:10]"
   ]
  },
  {
   "cell_type": "markdown",
   "metadata": {},
   "source": [
    "####  # _artist 정보 "
   ]
  },
  {
   "cell_type": "code",
   "execution_count": 58,
   "metadata": {},
   "outputs": [
    {
     "data": {
      "text/plain": [
       "42"
      ]
     },
     "execution_count": 58,
     "metadata": {},
     "output_type": "execute_result"
    }
   ],
   "source": [
    "# a 태그의 요소 중에서 class 속성값이 \"_artist\" 인 것을 찾고\n",
    "# 그 안에서 span 태그의 요소 중에서 class 속성값이 \"ellipsis\"인 요소를 추출\n",
    "artists = soup_music.select('a._artist span.ellipsis') \n",
    "len(artists)"
   ]
  },
  {
   "cell_type": "code",
   "execution_count": 59,
   "metadata": {},
   "outputs": [
    {
     "data": {
      "text/plain": [
       "'\\r\\n\\t\\t\\t\\r\\n\\t\\t\\t\\r\\n\\t\\t\\t태연 (TAEYEON)\\r\\n\\t\\t'"
      ]
     },
     "execution_count": 59,
     "metadata": {},
     "output_type": "execute_result"
    }
   ],
   "source": [
    "artists[0].get_text()"
   ]
  },
  {
   "cell_type": "code",
   "execution_count": 60,
   "metadata": {},
   "outputs": [
    {
     "data": {
      "text/plain": [
       "'태연 (TAEYEON)'"
      ]
     },
     "execution_count": 60,
     "metadata": {},
     "output_type": "execute_result"
    }
   ],
   "source": [
    "artists[0].get_text().strip()"
   ]
  },
  {
   "cell_type": "code",
   "execution_count": 61,
   "metadata": {},
   "outputs": [],
   "source": [
    "music_artists = [artist.get_text().strip() for artist in artists]"
   ]
  },
  {
   "cell_type": "code",
   "execution_count": 62,
   "metadata": {},
   "outputs": [
    {
     "data": {
      "text/plain": [
       "['잔나비',\n",
       " '헤이즈 (Heize)',\n",
       " 'Shawn Mendes',\n",
       " '볼빨간사춘기',\n",
       " '벤',\n",
       " '전소미',\n",
       " '먼데이키즈(Monday Kiz)',\n",
       " '장범준',\n",
       " 'TWICE(트와이스)',\n",
       " 'IZ*ONE(아이즈원)']"
      ]
     },
     "execution_count": 62,
     "metadata": {},
     "output_type": "execute_result"
    }
   ],
   "source": [
    "music_artists[-10:]"
   ]
  },
  {
   "cell_type": "markdown",
   "metadata": {},
   "source": [
    "####  # _artist 정보 <font color='#FF0000'><i>→ again</i></font>"
   ]
  },
  {
   "cell_type": "code",
   "execution_count": 63,
   "metadata": {},
   "outputs": [
    {
     "data": {
      "text/plain": [
       "50"
      ]
     },
     "execution_count": 63,
     "metadata": {},
     "output_type": "execute_result"
    }
   ],
   "source": [
    "# td 태그의 요소 중에서 class 속성값이 \"_artist\" 인 것을 찾고\n",
    "# 그 안에서 a 태그의 요소를 추출\n",
    "artists = soup_music.select('td._artist a')\n",
    "len(artists)"
   ]
  },
  {
   "cell_type": "code",
   "execution_count": 64,
   "metadata": {},
   "outputs": [
    {
     "data": {
      "text/plain": [
       "<a class=\"_artist NPI=a:artist,r:1,i:35551\" href=\"/artist/home.nhn?artistId=35551\" title=\"태연 (TAEYEON)\">\n",
       "<span class=\"ellipsis\">\n",
       "\t\t\t\n",
       "\t\t\t\n",
       "\t\t\t태연 (TAEYEON)\n",
       "\t\t</span>\n",
       "</a>"
      ]
     },
     "execution_count": 64,
     "metadata": {},
     "output_type": "execute_result"
    }
   ],
   "source": [
    "artists[0]"
   ]
  },
  {
   "cell_type": "code",
   "execution_count": 65,
   "metadata": {},
   "outputs": [
    {
     "data": {
      "text/plain": [
       "<a alt=\"\" class=\"NPI=a:layerbtn,r:11\" href=\"javascript:void(0);\" title=\"\">방탄소년단</a>"
      ]
     },
     "execution_count": 65,
     "metadata": {},
     "output_type": "execute_result"
    }
   ],
   "source": [
    "artists[10]"
   ]
  },
  {
   "cell_type": "code",
   "execution_count": 66,
   "metadata": {},
   "outputs": [
    {
     "data": {
      "text/plain": [
       "'태연 (TAEYEON)'"
      ]
     },
     "execution_count": 66,
     "metadata": {},
     "output_type": "execute_result"
    }
   ],
   "source": [
    "artists[0].get_text().strip()"
   ]
  },
  {
   "cell_type": "code",
   "execution_count": 67,
   "metadata": {},
   "outputs": [
    {
     "data": {
      "text/plain": [
       "'방탄소년단'"
      ]
     },
     "execution_count": 67,
     "metadata": {},
     "output_type": "execute_result"
    }
   ],
   "source": [
    "artists[10].get_text().strip()"
   ]
  },
  {
   "cell_type": "code",
   "execution_count": 68,
   "metadata": {},
   "outputs": [
    {
     "data": {
      "text/plain": [
       "50"
      ]
     },
     "execution_count": 68,
     "metadata": {},
     "output_type": "execute_result"
    }
   ],
   "source": [
    "music_artists = [artist.get_text().strip() for artist in artists]\n",
    "len(music_artists)"
   ]
  },
  {
   "cell_type": "code",
   "execution_count": 69,
   "metadata": {},
   "outputs": [
    {
     "data": {
      "text/plain": [
       "['태연 (TAEYEON)',\n",
       " '장혜진',\n",
       " 'ITZY(있지)',\n",
       " '벤',\n",
       " '거미',\n",
       " 'Anne-Marie',\n",
       " '10cm',\n",
       " '송하예',\n",
       " '임재현',\n",
       " '청하']"
      ]
     },
     "execution_count": 69,
     "metadata": {},
     "output_type": "execute_result"
    }
   ],
   "source": [
    "music_artists[0:10]"
   ]
  },
  {
   "cell_type": "code",
   "execution_count": null,
   "metadata": {},
   "outputs": [],
   "source": []
  },
  {
   "cell_type": "markdown",
   "metadata": {},
   "source": [
    "####  # 한방에 긁어와 볼까^^"
   ]
  },
  {
   "cell_type": "code",
   "execution_count": 70,
   "metadata": {},
   "outputs": [
    {
     "name": "stdout",
     "output_type": "stream",
     "text": [
      "1: 그대라는 시 / 태연 (TAEYEON)\n",
      "2: 술이 문제야 / 장혜진\n",
      "3: ICY / ITZY(있지)\n",
      "4: 헤어져줘서 고마워 / 벤\n",
      "5: 기억해줘요 내 모든 날과 그때를 / 거미\n",
      "6: 나의 어깨에 기대어요 / 10cm\n",
      "7: 니 소식 / 송하예\n",
      "8: 사랑에 연습이 있었다면 (Prod. 2soo) / 임재현\n",
      "9: Snapping / 청하\n",
      "10: 작은 것들을 위한 시 (Boy With Luv) (Feat. Halsey) / 방탄소년단\n"
     ]
    }
   ],
   "source": [
    "import requests\n",
    "from bs4 import BeautifulSoup\n",
    "\n",
    "# url = 'https://music.naver.com/listen/history/index.nhn?type=OVERSEA_V2&year=2019&month=08&week=4'\n",
    "# url = 'https://music.naver.com/listen/history/index.nhn?type=DOMESTIC_V2&year=2019&month=08&week=4'\n",
    "# url = 'https://music.naver.com/listen/history/index.nhn?type=TOTAL_V2&year=2019&month=08&week=0'\n",
    "\n",
    "type_dict = { '종합' : 'TOTAL_V2', \n",
    "              '국내' : 'DOMESTIC_V2', \n",
    "              '해외' : 'OVERSEA_V2'  } \n",
    "\n",
    "url = 'https://music.naver.com/listen/history/index.nhn?type={type}&year={year}&month={month}&week={week}'.format(\n",
    "            type  = type_dict['국내'], \n",
    "            year  = '2019',\n",
    "            month = '08',\n",
    "            week  = '0' ####  # 한방에 긁어와 볼까^^\n",
    "       )\n",
    "\n",
    "html_music = requests.get(url).text\n",
    "soup_music = BeautifulSoup(html_music, \"lxml\")\n",
    "\n",
    "titles  = soup_music.select('a._title span.ellipsis') \n",
    "artists = soup_music.select('td._artist a')\n",
    "\n",
    "music_titles  = [title.get_text() for title in titles]\n",
    "music_artists = [artist.get_text().strip() for artist in artists]\n",
    "\n",
    "for k in range(10):\n",
    "    print(\"{0}: {1} / {2}\".format(k+1, music_titles[k], music_artists[k]))"
   ]
  },
  {
   "cell_type": "code",
   "execution_count": 71,
   "metadata": {},
   "outputs": [],
   "source": [
    "music_titles_artists={}\n",
    "ranking = 0\n",
    "\n",
    "for (music_title, music_artist) in zip(music_titles, music_artists):\n",
    "    ranking += 1\n",
    "    music_titles_artists[ranking] = [music_title, music_artist]"
   ]
  },
  {
   "cell_type": "code",
   "execution_count": 72,
   "metadata": {},
   "outputs": [
    {
     "data": {
      "text/plain": [
       "['그대라는 시', '태연 (TAEYEON)']"
      ]
     },
     "execution_count": 72,
     "metadata": {},
     "output_type": "execute_result"
    }
   ],
   "source": [
    "music_titles_artists[1]"
   ]
  },
  {
   "cell_type": "code",
   "execution_count": 73,
   "metadata": {},
   "outputs": [
    {
     "data": {
      "text/plain": [
       "['작은 것들을 위한 시 (Boy With Luv) (Feat. Halsey)', '방탄소년단']"
      ]
     },
     "execution_count": 73,
     "metadata": {},
     "output_type": "execute_result"
    }
   ],
   "source": [
    "music_titles_artists[10]"
   ]
  },
  {
   "cell_type": "code",
   "execution_count": null,
   "metadata": {},
   "outputs": [],
   "source": []
  },
  {
   "cell_type": "code",
   "execution_count": 74,
   "metadata": {},
   "outputs": [
    {
     "data": {
      "text/plain": [
       "(2019, 9, 5)"
      ]
     },
     "execution_count": 74,
     "metadata": {},
     "output_type": "execute_result"
    }
   ],
   "source": [
    "from datetime import datetime\n",
    " \n",
    "now = datetime.now()\n",
    "now.year, now.month, now.day"
   ]
  },
  {
   "cell_type": "code",
   "execution_count": 75,
   "metadata": {},
   "outputs": [
    {
     "data": {
      "text/plain": [
       "(int, int, int)"
      ]
     },
     "execution_count": 75,
     "metadata": {},
     "output_type": "execute_result"
    }
   ],
   "source": [
    "type(now.year), type(now.month), type(now.day)"
   ]
  },
  {
   "cell_type": "code",
   "execution_count": 76,
   "metadata": {},
   "outputs": [
    {
     "data": {
      "text/plain": [
       "'12'"
      ]
     },
     "execution_count": 76,
     "metadata": {},
     "output_type": "execute_result"
    }
   ],
   "source": [
    "month = now.month\n",
    "month = 12\n",
    "month = str(1) if not str(month).isdigit() else str(month)\n",
    "month = '0'+month if len(month)==1 else month\n",
    "month"
   ]
  },
  {
   "cell_type": "markdown",
   "metadata": {},
   "source": [
    "####  # OK, 문제가 없다면 모듈화"
   ]
  },
  {
   "cell_type": "code",
   "execution_count": 77,
   "metadata": {},
   "outputs": [],
   "source": [
    "import glob\n",
    "import requests\n",
    "import time\n",
    "from bs4 import BeautifulSoup\n",
    "from datetime import datetime\n",
    "\n",
    "type_dict = { '종합' : 'TOTAL_V2', \n",
    "              '국내' : 'DOMESTIC_V2', \n",
    "              '해외' : 'OVERSEA_V2'  } \n",
    "\n",
    "# 네이버 music 주소를 입력하면 노래 제목과 아티스트를 반환\n",
    "# def naver_music(url):\n",
    "def naver_music(type='종합', year=2019, month=1, week=0, page=1):\n",
    "    \n",
    "    now = datetime.now()\n",
    "    year  = str(now.year) if not str(year).isdigit() else str(year)\n",
    "    month = str(1) if not str(month).isdigit() else str(month)\n",
    "    month = '0'+month if len(month)==1 else month\n",
    "    week  = str(0) if not str(week).isdigit() else str(week)\n",
    "    \n",
    "    url = 'https://music.naver.com/listen/history/index.nhn?type={type}&year={year}&month={month}&week={week}&page={page}'\n",
    "    url =  url.format(\n",
    "            type  = type_dict['국내'], \n",
    "            year  = year,\n",
    "            month = month,\n",
    "            week  = week,\n",
    "            page  = page\n",
    "       )\n",
    "    print(url)\n",
    "    \n",
    "    html_music = requests.get(url).text\n",
    "    soup_music = BeautifulSoup(html_music, \"lxml\")\n",
    "\n",
    "    titles = soup_music.select('a._title span.ellipsis') \n",
    "    artists = soup_music.select('td._artist a')\n",
    "\n",
    "    music_titles  = [ title.get_text().strip()  for title  in titles  ]\n",
    "    music_artists = [ artist.get_text().strip() for artist in artists ]\n",
    "    \n",
    "    return music_titles, music_artists\n"
   ]
  },
  {
   "cell_type": "code",
   "execution_count": 78,
   "metadata": {},
   "outputs": [],
   "source": [
    "file_name = './data/NaverMusicTop100.txt'\n",
    "if exists(file_name): os.remove(file_name)"
   ]
  },
  {
   "cell_type": "code",
   "execution_count": 79,
   "metadata": {},
   "outputs": [
    {
     "name": "stdout",
     "output_type": "stream",
     "text": [
      " G 드라이브의 볼륨: Seagate Backup Plus Drive\n",
      " 볼륨 일련 번호: 8EB0-C512\n",
      "\n",
      " G:\\sect_tech\\sba19_seoulit\\s40-web-crawling\\data 디렉터리\n",
      "\n",
      "2019-09-05  오전 02:47    <DIR>          .\n",
      "2019-09-05  오전 02:47    <DIR>          ..\n",
      "2019-09-05  오전 02:47             2,875 top_sites_SKorea_201909.csv\n",
      "               1개 파일               2,875 바이트\n",
      "               2개 디렉터리  716,831,768,576 바이트 남음\n"
     ]
    }
   ],
   "source": [
    "%ls data"
   ]
  },
  {
   "cell_type": "code",
   "execution_count": 80,
   "metadata": {},
   "outputs": [
    {
     "name": "stdout",
     "output_type": "stream",
     "text": [
      "https://music.naver.com/listen/history/index.nhn?type=DOMESTIC_V2&year=2019&month=08&week=0&page=1\n",
      "https://music.naver.com/listen/history/index.nhn?type=DOMESTIC_V2&year=2019&month=08&week=0&page=2\n"
     ]
    },
    {
     "data": {
      "text/plain": [
       "['./data/NaverMusicTop100.txt']"
      ]
     },
     "execution_count": 80,
     "metadata": {},
     "output_type": "execute_result"
    }
   ],
   "source": [
    "# 노래 제목과 아티스트를 저장할 파일 이름을 폴더와 함께 지정\n",
    "file_name = './data/NaverMusicTop100.txt'\n",
    "if exists(file_name): os.remove(file_name)\n",
    "\n",
    "f = open(file_name,'w') # 파일 열기\n",
    "\n",
    "# 각 page에는 50개의 노래 제목과 아티스트가 추출됨\n",
    "for page in [1, 2]:\n",
    "    # naver_music_url_page = naver_music_url + str(page+1)     # page URL\n",
    "    # nave_music_titles, naver_music_artists = naver_music(naver_music_url_page)\n",
    "    nave_music_titles, naver_music_artists = naver_music(type='종합', year=2019, month=8, week=0, page=page)\n",
    "    \n",
    "    # 추출된 노래 제목과 아티스트를 파일에 저장 \n",
    "    for idx in range(len(music_titles_artists)):\n",
    "        ranking = (page-1)*50 + idx + 1 \n",
    "        f.write(\"{0:3d}: {1}/{2}\\n\".format(ranking, nave_music_titles[idx],  naver_music_artists[idx]))\n",
    "    time.sleep(1)\n",
    "\n",
    "f.close() # 파일 닫기\n",
    "\n",
    "glob.glob(file_name) # 생성된 파일 확인"
   ]
  },
  {
   "cell_type": "code",
   "execution_count": 81,
   "metadata": {},
   "outputs": [
    {
     "name": "stdout",
     "output_type": "stream",
     "text": [
      "  1: 그대라는 시/태연 (TAEYEON)\n",
      "  2: 술이 문제야/장혜진\n",
      "  3: ICY/ITZY(있지)\n",
      "  4: 헤어져줘서 고마워/벤\n",
      "  5: 기억해줘요 내 모든 날과 그때를/거미\n",
      "  6: 나의 어깨에 기대어요/10cm\n",
      "  7: 니 소식/송하예\n",
      "  8: 사랑에 연습이 있었다면 (Prod. 2soo)/임재현\n",
      "  9: Snapping/청하\n",
      " 10: 작은 것들을 위한 시 (Boy With Luv) (Feat. Halsey)/방탄소년단\n",
      " 11: 내 맘을 볼 수 있나요/헤이즈 (Heize)\n",
      " 12: 오늘도 빛나는 너에게 (To You My Light) (Feat. 이라온)/마크툽(Maktub)\n",
      " 13: 포장마차/황인욱\n",
      " 14: 너에게 못했던 내 마지막 말은/다비치\n",
      " 15: 솔직하게 말해서 나/김나영\n",
      " 16: 비가 내리는 날에는/윤하\n",
      " 17: 안녕/폴킴\n",
      " 18: Another Day/먼데이키즈(Mon..\n",
      " 19: FANCY/TWICE(트와이스)\n",
      " 20: 사계 (Four Seasons)/태연 (TAEYEON)\n",
      " 21: 인사/멜로망스(Melomance)\n",
      " 22: 너를 만나/폴킴\n",
      " 23: 열대야 (Fever)/여자친구(GFRIEND)\n",
      " 24: 달라달라/ITZY(있지)\n",
      " 25: 벌써 12시/청하\n",
      " 26: 모든 날, 모든 순간 (Every day, Every Moment)/폴킴\n",
      " 27: Goodbye/박효신\n",
      " 28: 그 끝에 그대/청하\n",
      " 29: 짐살라빔 (Zimzalabim)/Red Velvet (레드벨벳)\n",
      " 30: 너만 너만 너만/양다일\n",
      " 31: 그때가 좋았어/케이시(Kassy)\n",
      " 32: 주저하는 연인들을 위해/잔나비\n",
      " 33: We don't talk together (Feat. 기리보이) (Prod. SUGA)/헤이즈 (Heize)\n",
      " 34: 여행/볼빨간사춘기\n",
      " 35: 내 목소리 들리니/벤\n",
      " 36: BAND/창모(CHANGM..\n",
      " 37: BIRTHDAY/전소미\n",
      " 38: 사랑이 식었다고 말해도 돼/먼데이키즈(Monday Kiz)\n",
      " 39: 노래방에서/장범준\n",
      " 40: Dance The Night Away/TWICE(트와이스)\n",
      " 41: 비올레타/IZ*ONE(아이즈원)\n",
      " 42: 아퍼 (Feat. Kid Milli, Lil tachi, 김승민, NO:EL, C JAMM)/기리보이\n",
      " 43: 옥탑방 (Rooftop)/엔플라잉(N.Flying)\n",
      " 44: Kill This Love/BLACKPINK\n",
      " 45: Done For Me/펀치 (Punch)\n",
      " 46: 밤편지/아이유(IU)\n",
      " 47: 나만, 봄/볼빨간사춘기\n",
      " 48: 넘쳐흘러/M.C THE MAX\n",
      " 49: 신청곡 (Feat. SUGA of BTS)/이소라\n",
      " 50: 누구 없소 (NO ONE) (Feat. B.I of iKON)/이하이\n",
      " 51: Way Back Home/숀(SHAUN)\n",
      " 52: 봄날/방탄소년단\n",
      " 53: 서울 밤 (Feat. 빈지노)/어반 자카파(Urban Zakapa)\n",
      " 54: YES or YES/TWICE(트와이스)\n",
      " 55: 소우주 (Mikrokosmos)/방탄소년단\n",
      " 56: 음파음파 (Umpah Umpah)/Red Velvet (레드벨벳)\n",
      " 57: 시든 꽃에 물을 주듯/HYNN(박혜원)\n",
      " 58: BUNGEE (Fall in Love)/오마이걸(OH MY GIRL)\n",
      " 59: 지나오다/닐로(Nilo)\n",
      " 60: 그건 아마 우리의 잘못은 아닐 거야/백예린\n",
      " 61: 고백/양다일\n",
      " 62: 비/폴킴\n",
      " 63: 180도/벤\n",
      " 64: 다섯 번째 계절 (SSFWL)/오마이걸(OH MY GIRL)\n",
      " 65: IDOL/방탄소년단\n",
      " 66: 비워 (Beer) (Prod. Way Ched)/창모(CHANGM..\n",
      " 67: 사월이 지나면 우리 헤어져요 (Beautiful goodbye)/첸(CHEN)\n",
      " 68: U GOT IT/갓츄 (GOT U)\n",
      " 69: 방에 모기가 있어 (Do You Think Of Me?)/10cm\n",
      " 70: Uh-Oh/(여자) 아이들\n",
      " 71: 뜨거운 여름밤은 가고 남은 건 볼품없지만/잔나비\n",
      " 72: 열애중/벤\n",
      " 73: 사계 (하루살이)/M.C THE MAX\n",
      " 74: 뭐해 (What are you up to)/강다니엘\n",
      " 75: 뿜뿜/모모랜드(MOMOLAND)\n",
      " 76: 당신과는 천천히/장범준\n",
      " 77: 초록빛/폴킴\n",
      " 78: 고고베베 (gogobebe)/마마무(Mamamoo)\n",
      " 79: 괜찮아도 괜찮아 (That's okay)/디오 (D.O.)\n",
      " 80: AH YEAH (아예)/WINNER\n",
      " 81: 멍청이(twit)/화사(Hwa Sa)\n",
      " 82: 움직여 (MOVE) (Prod. by ZICO)/SIXC (6 crazy)\n",
      " 83: 어떤 별보다/Red Velvet (레드벨벳)\n",
      " 84: 가라사대/비와이(BewhY)\n",
      " 85: 선물/멜로망스(Melomance)\n",
      " 86: 신용재/하은(라코스테남)\n",
      " 87: Blue (Feat. Crush, SOLE)/다이나믹 듀오\n",
      " 88: Say Goodbye/송하예\n",
      " 89: 우주선/정승환\n",
      " 90: 이뻐이뻐 (Pretty girl)/크레파스\n",
      " 91: 하루도 그대를 사랑하지 않은 적이 없었다/임창정\n",
      " 92: 별 보러 갈래?/볼빨간사춘기\n",
      " 93: 흔한 이별/허각\n",
      " 94: 내 안부/이우\n",
      " 95: 뚜두뚜두 (DDU-DU DDU-DU)/BLACKPINK\n",
      " 96: 파티피플 (Feat. 염따, Uneducated Kid)/기리보이\n",
      " 97: DNA/방탄소년단\n",
      " 98: 진심이 담긴 노래 (True Song)/케이시(Kassy)\n",
      " 99: 그날처럼/장덕철\n",
      "100: 삐삐/아이유(IU)\n"
     ]
    }
   ],
   "source": [
    "!type .\\data\\NaverMusicTop100.txt"
   ]
  },
  {
   "cell_type": "code",
   "execution_count": null,
   "metadata": {},
   "outputs": [],
   "source": []
  },
  {
   "cell_type": "markdown",
   "metadata": {},
   "source": [
    "### 웹 페이지에서 이미지 가져오기"
   ]
  },
  {
   "cell_type": "markdown",
   "metadata": {},
   "source": [
    "#### 하나의 이미지 내려받기"
   ]
  },
  {
   "cell_type": "code",
   "execution_count": 82,
   "metadata": {},
   "outputs": [
    {
     "data": {
      "text/plain": [
       "<Response [200]>"
      ]
     },
     "execution_count": 82,
     "metadata": {},
     "output_type": "execute_result"
    }
   ],
   "source": [
    "import requests  \n",
    "\n",
    "url = 'https://www.python.org/static/img/python-logo.png'\n",
    "html_image = requests.get(url)\n",
    "html_image"
   ]
  },
  {
   "cell_type": "code",
   "execution_count": 83,
   "metadata": {},
   "outputs": [
    {
     "data": {
      "text/plain": [
       "'python-logo.png'"
      ]
     },
     "execution_count": 83,
     "metadata": {},
     "output_type": "execute_result"
    }
   ],
   "source": [
    "import os\n",
    "\n",
    "image_file_name = os.path.basename(url)\n",
    "image_file_name"
   ]
  },
  {
   "cell_type": "code",
   "execution_count": 84,
   "metadata": {},
   "outputs": [],
   "source": [
    "folder = 'download' \n",
    "\n",
    "if not os.path.exists(folder):\n",
    "    os.makedirs(folder)"
   ]
  },
  {
   "cell_type": "code",
   "execution_count": 85,
   "metadata": {},
   "outputs": [
    {
     "data": {
      "text/plain": [
       "'download\\\\python-logo.png'"
      ]
     },
     "execution_count": 85,
     "metadata": {},
     "output_type": "execute_result"
    }
   ],
   "source": [
    "image_path = os.path.join(folder, image_file_name)\n",
    "image_path"
   ]
  },
  {
   "cell_type": "code",
   "execution_count": 86,
   "metadata": {},
   "outputs": [],
   "source": [
    "imageFile = open(image_path, 'wb')"
   ]
  },
  {
   "cell_type": "code",
   "execution_count": 87,
   "metadata": {},
   "outputs": [],
   "source": [
    "# 이미지 데이터를 100000 바이트씩 나눠서 내려받고 파일에 순차적으로 저장\n",
    "chunk_size = 1000000\n",
    "for chunk in html_image.iter_content(chunk_size):\n",
    "    imageFile.write(chunk)\n",
    "imageFile.close()"
   ]
  },
  {
   "cell_type": "code",
   "execution_count": 88,
   "metadata": {},
   "outputs": [
    {
     "data": {
      "text/plain": [
       "['arch-4270853__340.jpg',\n",
       " 'boy-4448370__340.jpg',\n",
       " 'butterfly-4407973__340.jpg',\n",
       " 'europe-4440899__340.jpg',\n",
       " 'light-bulb-4409116__340.jpg',\n",
       " 'mountains-4441978__340.jpg',\n",
       " 'python-logo.png',\n",
       " 'wedding-4395069__340.jpg']"
      ]
     },
     "execution_count": 88,
     "metadata": {},
     "output_type": "execute_result"
    }
   ],
   "source": [
    "os.listdir(folder)"
   ]
  },
  {
   "cell_type": "code",
   "execution_count": 89,
   "metadata": {},
   "outputs": [],
   "source": [
    "import requests  \n",
    "import os\n",
    "\n",
    "url = 'https://www.python.org/static/img/python-logo.png'\n",
    "image_file_name = os.path.basename(url)\n",
    "\n",
    "folder = 'download' \n",
    "\n",
    "if not os.path.exists(folder):\n",
    "    os.makedirs(folder)\n",
    "\n",
    "image_path = os.path.join(folder, image_file_name)\n",
    "\n",
    "imageFile = open(image_path, 'wb')\n",
    "# 이미지 데이터를 100000 바이트씩 나눠서 저장\n",
    "chunk_size = 1000000\n",
    "for chunk in html_image.iter_content(chunk_size):\n",
    "    imageFile.write(chunk)\n",
    "imageFile.close()"
   ]
  },
  {
   "cell_type": "markdown",
   "metadata": {},
   "source": [
    "#### 여러 이미지 내려받기"
   ]
  },
  {
   "cell_type": "code",
   "execution_count": 90,
   "metadata": {},
   "outputs": [
    {
     "data": {
      "text/plain": [
       "[<img alt=\"\" src=\"https://cdn.pixabay.com/photo/2019/08/15/12/40/butterfly-4407973__340.jpg\" srcset=\"https://cdn.pixabay.com/photo/2019/08/15/12/40/butterfly-4407973__340.jpg 1x, https://cdn.pixabay.com/photo/2019/08/15/12/40/butterfly-4407973__480.jpg 2x\"/>,\n",
       " <img alt=\"\" src=\"https://cdn.pixabay.com/photo/2019/06/13/06/41/arch-4270853__340.jpg\" srcset=\"https://cdn.pixabay.com/photo/2019/06/13/06/41/arch-4270853__340.jpg 1x, https://cdn.pixabay.com/photo/2019/06/13/06/41/arch-4270853__480.jpg 2x\"/>,\n",
       " <img alt=\"\" src=\"https://cdn.pixabay.com/photo/2019/08/15/23/55/light-bulb-4409116__340.jpg\" srcset=\"https://cdn.pixabay.com/photo/2019/08/15/23/55/light-bulb-4409116__340.jpg 1x, https://cdn.pixabay.com/photo/2019/08/15/23/55/light-bulb-4409116__480.jpg 2x\"/>]"
      ]
     },
     "execution_count": 90,
     "metadata": {},
     "output_type": "execute_result"
    }
   ],
   "source": [
    "import requests  \n",
    "from bs4 import BeautifulSoup \n",
    "\n",
    "URL = 'https://pixabay.com/ko/photos/?order=popular&cat=animals'\n",
    "\n",
    "html_pixabay_image = requests.get(URL).text\n",
    "soup_pixabay_image = BeautifulSoup(html_pixabay_image, \"lxml\")\n",
    "pixabay_image_elements = soup_pixabay_image.select('img') \n",
    "pixabay_image_elements[0:3]"
   ]
  },
  {
   "cell_type": "code",
   "execution_count": 91,
   "metadata": {},
   "outputs": [
    {
     "data": {
      "text/plain": [
       "'https://cdn.pixabay.com/photo/2019/08/15/12/40/butterfly-4407973__340.jpg'"
      ]
     },
     "execution_count": 91,
     "metadata": {},
     "output_type": "execute_result"
    }
   ],
   "source": [
    "pixabay_image_url = pixabay_image_elements[0].get('src')\n",
    "pixabay_image_url"
   ]
  },
  {
   "cell_type": "code",
   "execution_count": 92,
   "metadata": {},
   "outputs": [],
   "source": [
    "html_image = requests.get(pixabay_image_url)\n",
    "\n",
    "folder = \"download\"\n",
    "    \n",
    "# os.path.basename(URL)는 웹사이트나 폴더가 포함된 파일명에서 파일명만 분리하는 방법    \n",
    "imageFile = open(os.path.join(folder, os.path.basename(pixabay_image_url)), 'wb')\n",
    "\n",
    "# 이미지 데이터를 100000 바이트씩 나눠서 저장하는 방법\n",
    "chunk_size = 1000000 \n",
    "for chunk in html_image.iter_content(chunk_size):\n",
    "    imageFile.write(chunk)\n",
    "imageFile.close()"
   ]
  },
  {
   "cell_type": "code",
   "execution_count": 93,
   "metadata": {
    "scrolled": true
   },
   "outputs": [
    {
     "name": "stdout",
     "output_type": "stream",
     "text": [
      "이미지 파일명: 'butterfly-4407973__340.jpg'. 내려받기 완료!\n",
      "이미지 파일명: 'arch-4270853__340.jpg'. 내려받기 완료!\n",
      "이미지 파일명: 'light-bulb-4409116__340.jpg'. 내려받기 완료!\n",
      "이미지 파일명: 'mountains-4441978__340.jpg'. 내려받기 완료!\n",
      "이미지 파일명: 'wedding-4395069__340.jpg'. 내려받기 완료!\n",
      "이미지 파일명: 'europe-4440899__340.jpg'. 내려받기 완료!\n",
      "이미지 파일명: 'boy-4448370__340.jpg'. 내려받기 완료!\n",
      "================================\n",
      "선택한 모든 이미지 내려받기 완료!\n"
     ]
    }
   ],
   "source": [
    "import requests  \n",
    "from bs4 import BeautifulSoup \n",
    "import os\n",
    "\n",
    "# URL(주소)에서 이미지 주소 추출\n",
    "def get_image_url(url): \n",
    "    html_image_url = requests.get(url).text\n",
    "    soup_image_url = BeautifulSoup(html_image_url, \"lxml\")  \n",
    "    image_elements = soup_image_url.select('img') \n",
    "    if(image_elements != None):\n",
    "        image_urls = []\n",
    "        for image_element in image_elements:\n",
    "            image_urls.append(image_element.get('src'))\n",
    "        return image_urls        \n",
    "    else:\n",
    "        return None\n",
    "    \n",
    "# 폴더를 지정해 이미지 주소에서 이미지 내려받기\n",
    "def download_image(img_folder, img_url):\n",
    "    if(img_url != None):  \n",
    "        html_image = requests.get(img_url)\n",
    "        # os.path.basename(URL)는 웹사이트나 폴더가 포함된 파일명에서 파일명만 분리    \n",
    "        imageFile = open(os.path.join(img_folder, os.path.basename(img_url)), 'wb')\n",
    "\n",
    "        chunk_size = 1000000 # 이미지 데이터를 100000 바이트씩 나눠서 저장\n",
    "        for chunk in html_image.iter_content(chunk_size):\n",
    "            imageFile.write(chunk)\n",
    "            imageFile.close()\n",
    "        print(\"이미지 파일명: '{0}'. 내려받기 완료!\".format(os.path.basename(img_url))) \n",
    "    else:       \n",
    "        print(\"내려받을 이미지가 없습니다.\")\n",
    "        \n",
    "# 웹 사이트의 주소 지정   \n",
    "pixabay_url = 'https://pixabay.com/ko/photos/?order=popular&cat=animals'\n",
    "# pixabay_url= 'https://pixabay.com/ko/photos/?order=popular&cat=animals&pagi=2'\n",
    "\n",
    "figure_folder = \"download\" # 이미지를 내려받을 폴더 지정  \n",
    "\n",
    "pixabay_image_urls = get_image_url(pixabay_url) # 이미지 파일의 주소 가져오기\n",
    "\n",
    "num_of_download_image = 7 # 내려받을 이미지 개수 지정\n",
    "# num_of_download_image = len(pixabay_image_urls)\n",
    "\n",
    "for k in range(num_of_download_image):\n",
    "    download_image(figure_folder,pixabay_image_urls[k])\n",
    "print(\"================================\")\n",
    "print(\"선택한 모든 이미지 내려받기 완료!\")"
   ]
  },
  {
   "cell_type": "code",
   "execution_count": 94,
   "metadata": {},
   "outputs": [
    {
     "data": {
      "text/plain": [
       "37"
      ]
     },
     "execution_count": 94,
     "metadata": {},
     "output_type": "execute_result"
    }
   ],
   "source": [
    "num_of_download_image = len(pixabay_image_urls)\n",
    "num_of_download_image"
   ]
  },
  {
   "cell_type": "markdown",
   "metadata": {},
   "source": [
    "<hr>\n",
    "<marquee><font size=3 color='brown'>The BigpyCraft find the information to design valuable society with Technology & Craft.</font></marquee>\n",
    "<div align='right'><font size=2 color='gray'> &lt; The End &gt; </font></div>"
   ]
  }
 ],
 "metadata": {
  "anaconda-cloud": {},
  "kernelspec": {
   "display_name": "Python 3 (ipykernel)",
   "language": "python",
   "name": "python3"
  },
  "language_info": {
   "codemirror_mode": {
    "name": "ipython",
    "version": 3
   },
   "file_extension": ".py",
   "mimetype": "text/x-python",
   "name": "python",
   "nbconvert_exporter": "python",
   "pygments_lexer": "ipython3",
   "version": "3.9.7"
  },
  "latex_envs": {
   "LaTeX_envs_menu_present": true,
   "autoclose": false,
   "autocomplete": true,
   "bibliofile": "biblio.bib",
   "cite_by": "apalike",
   "current_citInitial": 1,
   "eqLabelWithNumbers": true,
   "eqNumInitial": 1,
   "hotkeys": {
    "equation": "Ctrl-E",
    "itemize": "Ctrl-I"
   },
   "labels_anchors": false,
   "latex_user_defs": false,
   "report_style_numbering": false,
   "user_envs_cfg": false
  },
  "nav_menu": {},
  "toc": {
   "nav_menu": {
    "height": "400px",
    "width": "252px"
   },
   "number_sections": false,
   "sideBar": true,
   "skip_h1_title": false,
   "toc_cell": false,
   "toc_position": {
    "height": "545px",
    "left": "0px",
    "right": "1154px",
    "top": "111px",
    "width": "212px"
   },
   "toc_section_display": "block",
   "toc_window_display": false
  },
  "toc_position": {
   "height": "503px",
   "left": "0px",
   "right": "952.167px",
   "top": "107px",
   "width": "300px"
  }
 },
 "nbformat": 4,
 "nbformat_minor": 1
}
