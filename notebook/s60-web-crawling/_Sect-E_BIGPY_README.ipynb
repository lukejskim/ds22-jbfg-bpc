{
 "cells": [
  {
   "cell_type": "markdown",
   "metadata": {
    "collapsed": true
   },
   "source": [
    "# BigData Science Practical Training Course"
   ]
  },
  {
   "cell_type": "markdown",
   "metadata": {
    "collapsed": true
   },
   "source": [
    "<div align='right'><font size=2 color='gray'>Python For BigData @ <font color='blue'><a href='https://www.facebook.com/jskim.kr'>FB / jskim.kr</a></font>, [김진수](bigpycraft@gmail.com)</font></div>\n",
    "<hr>"
   ]
  },
  {
   "cell_type": "markdown",
   "metadata": {},
   "source": [
    "## SBA 2019, Seoul Business Agency Innovation Growth Intensive Training"
   ]
  },
  {
   "cell_type": "markdown",
   "metadata": {},
   "source": [
    "<img src=\"../images/img_main_front.png\">"
   ]
  },
  {
   "cell_type": "markdown",
   "metadata": {},
   "source": [
    "## Innovation Growth Intensive Training\n",
    "- Python Programming Basics\n",
    "- Python Packages and Modules\n",
    "- Data Processing and Analysis\n",
    "- <b>Web Cralwling</b>\n",
    "- Natural Language Processing\n",
    "- Machine Learning\n",
    "- Deep Learning\n",
    "\n",
    "<hr>"
   ]
  },
  {
   "cell_type": "markdown",
   "metadata": {},
   "source": [
    "## Web Cralwling"
   ]
  },
  {
   "cell_type": "markdown",
   "metadata": {},
   "source": [
    "- 11-1. [Web Scraping Basic1           ][E5111]\n",
    "- 11-2. [Web Scraping Basic2           ][E5112]\n",
    "- 11-3. [Web Scraping Basic3           ][E5113]\n",
    "- 11-4. [Web Scraping Basic4           ][E5114]\n",
    "<br/><br/>\n",
    "- Quiz1. [Web Scraping Practice        ][E5200]\n",
    "<br/><br/>\n",
    "- 12-1. [Web Crawling - 50 Best 1/2    ][E5310]\n",
    "- 12-2. [Web Crawling - 50 Best 2/2    ][E5320]\n",
    "- 12-3. [Web Crawling - McDonalds Idx  ][E5410]\n",
    "- 12-4. [Web Crawling - WikiPedia      ][E5510]\n",
    "<br/><br/>\n",
    "- Quiz2. [Web Crawling Practice A      ][E5300]\n",
    "- Quiz3. [Web Crawling Practice B      ][E5400]\n",
    "<br/><br/>\n",
    "- 13-1. [URL Parsing Tip               ][E5600]\n",
    "- 13-2. [How to use Selenium           ][E5700]\n",
    "- 13-3. [Selenium - StarBucks Idx      ][E5810]\n",
    "<br/><br/>\n",
    "- Quiz4. [Selenium Crawling Practice C ][E5800]\n",
    "<br/><br/>\n",
    "\n",
    "\n",
    "[E5100]:  https://htmlpreview.github.io/?https://github.com/bigpycraft/sba19-seoulit/blob/master/notebook/html/BPC_E510_Web_Scraping_Basics_ver2.html        \"Go E4110\"\n",
    "[E5111]:  https://htmlpreview.github.io/?https://github.com/bigpycraft/sba19-seoulit/blob/master/notebook/html/BPC_E511_Web_Scraping_Basic_1.html            \"Go E4120\"\n",
    "[E5112]:  https://htmlpreview.github.io/?https://github.com/bigpycraft/sba19-seoulit/blob/master/notebook/html/BPC_E511_Web_Scraping_Basic_2.html            \"Go E4130\"\n",
    "[E5113]:  https://htmlpreview.github.io/?https://github.com/bigpycraft/sba19-seoulit/blob/master/notebook/html/BPC_E511_Web_Scraping_Basic_3.html            \"Go E4200\"\n",
    "[E5114]:  https://htmlpreview.github.io/?https://github.com/bigpycraft/sba19-seoulit/blob/master/notebook/html/BPC_E511_Web_Scraping_Basic_4.html            \"Go E4210\"\n",
    "[E5115]:  https://htmlpreview.github.io/?https://github.com/bigpycraft/sba19-seoulit/blob/master/notebook/html/BPC_E511_Web_Scraping_Basic_5.html            \"Go E4220\"\n",
    "[E5200]:  https://htmlpreview.github.io/?https://github.com/bigpycraft/sba19-seoulit/blob/master/notebook/html/BPC_E520_Web_Scraping_Quiz.html               \"Go E4230\"\n",
    "[E5210]:  https://htmlpreview.github.io/?https://github.com/bigpycraft/sba19-seoulit/blob/master/notebook/html/BPC_E521_Crawling_Music_Ranking1_ver4.html    \"Go E4240\"\n",
    "[E5220]:  https://htmlpreview.github.io/?https://github.com/bigpycraft/sba19-seoulit/blob/master/notebook/html/BPC_E522_Crawling_Movie_Ranking2_ver4.html    \"Go E4250\"\n",
    "[E5300]:  https://htmlpreview.github.io/?https://github.com/bigpycraft/sba19-seoulit/blob/master/notebook/html/BPC_E530_Web_Crawling_Quiz.html               \"Go E5300\"\n",
    "[E5310]:  https://htmlpreview.github.io/?https://github.com/bigpycraft/sba19-seoulit/blob/master/notebook/html/BPC_E531_Crawling_ChicagoMag_Main.html        \"Go E5310\"\n",
    "[E5320]:  https://htmlpreview.github.io/?https://github.com/bigpycraft/sba19-seoulit/blob/master/notebook/html/BPC_E532_Crawling_ChicagoMag_Detail.html      \"Go E5320\"\n",
    "[E5400]:  https://htmlpreview.github.io/?https://github.com/bigpycraft/sba19-seoulit/blob/master/notebook/html/BPC_E540_Seoul_McDonalds_idx_Quiz.html        \"Go E5400\"\n",
    "[E5410]:  https://htmlpreview.github.io/?https://github.com/bigpycraft/sba19-seoulit/blob/master/notebook/html/BPC_E541_Seoul_McDonalds_idx_ver4.html        \"Go E5410\"\n",
    "[E5510]:  https://htmlpreview.github.io/?https://github.com/bigpycraft/sba19-seoulit/blob/master/notebook/html/BPC_E551_Wiki_Vivaldi.html                    \"Go E5510\"\n",
    "[E5600]:  https://htmlpreview.github.io/?https://github.com/bigpycraft/sba19-seoulit/blob/master/notebook/html/BPC_E560_WebCollecting.html                   \"Go E5600\"\n",
    "[E5700]:  https://htmlpreview.github.io/?https://github.com/bigpycraft/sba19-seoulit/blob/master/notebook/html/BPC_E570_Selenium_WebDriver_ver3.html         \"Go E5700\"\n",
    "[E5800]:  https://htmlpreview.github.io/?https://github.com/bigpycraft/sba19-seoulit/blob/master/notebook/html/BPC_E580_Selenium_StarbucksIdx_Quiz.html      \"Go E5800\"\n",
    "[E5810]:  https://htmlpreview.github.io/?https://github.com/bigpycraft/sba19-seoulit/blob/master/notebook/html/BPC_E581_Selenium_StarbucksIdx_ver3.html      \"Go E5810\"\n"
   ]
  },
  {
   "cell_type": "markdown",
   "metadata": {},
   "source": [
    "<hr>\n",
    "<marquee><font size=3 color='brown'>The BigpyCraft find the information to design valuable society with Technology & Craft.</font></marquee>\n",
    "<div align='right'><font size=2 color='gray'> &lt; The End &gt; </font></div>"
   ]
  },
  {
   "cell_type": "code",
   "execution_count": 1,
   "metadata": {},
   "outputs": [
    {
     "name": "stdout",
     "output_type": "stream",
     "text": [
      " D 드라이브의 볼륨: Samsung_T5\n",
      " 볼륨 일련 번호: 844F-BA7F\n",
      "\n",
      " D:\\project\\itech_lab\\_jbfg-ds22\\ds22-ipynb\\s60-web-crawling 디렉터리\n",
      "\n",
      "2019-09-08  오후 08:22    <DIR>          .\n",
      "2019-09-08  오후 08:22    <DIR>          ..\n",
      "2019-09-08  오후 08:22    <DIR>          .ipynb_checkpoints\n",
      "2019-09-06  오전 06:51             6,476 _Sect-E_BIGPY_README.ipynb\n",
      "2019-09-06  오전 06:42             6,486 _Sect-E_LUKE_README.ipynb\n",
      "2022-06-03  오후 04:12            31,907 _textbook_ch06_120p.ipynb\n",
      "2022-06-03  오후 04:21             3,784 _textbook_ch07_132p.ipynb\n",
      "2022-06-03  오후 04:40             4,303 _textbook_ch08_148p.ipynb\n",
      "2022-06-03  오후 05:15            13,168 _textbook_ch10_192p.ipynb\n",
      "2022-06-03  오후 04:00            51,196 BPC_E510_Web_Scraping_Basic.ipynb\n",
      "2019-09-05  오전 03:07           142,477 BPC_E510_Web_Scraping_Basics_ver2.ipynb\n",
      "2019-09-05  오전 02:19            10,996 BPC_E511_Web_Scraping_Basic_1.ipynb\n",
      "2019-09-05  오전 02:30            15,125 BPC_E511_Web_Scraping_Basic_2.ipynb\n",
      "2019-09-05  오전 02:45            90,491 BPC_E511_Web_Scraping_Basic_3.ipynb\n",
      "2019-09-05  오전 03:06            25,334 BPC_E511_Web_Scraping_Basic_4.ipynb\n",
      "2019-09-05  오전 03:10            12,311 BPC_E511_Web_Scraping_Basic_5.ipynb\n",
      "2019-09-05  오전 01:50           719,163 BPC_E520_Web_Scraping_Quiz.ipynb\n",
      "2019-09-05  오전 01:51           749,783 BPC_E521_Crawling_Music_Ranking1_ver2.ipynb\n",
      "2019-09-05  오전 03:27           140,272 BPC_E521_Crawling_Music_Ranking1_ver3.ipynb\n",
      "2019-09-05  오전 03:27           140,272 BPC_E521_Crawling_Music_Ranking1_ver4.ipynb\n",
      "2019-05-03  오전 02:54           743,500 BPC_E522_Crawling_Movie_Ranking2_ver2.ipynb\n",
      "2019-05-03  오전 02:54           659,720 BPC_E522_Crawling_Movie_Ranking2_ver3.ipynb\n",
      "2019-09-05  오전 03:29           658,833 BPC_E522_Crawling_Movie_Ranking2_ver4.ipynb\n",
      "2019-09-05  오전 03:16           660,517 BPC_E522_Crawling_Movie_Ranking2_ver4-Copy1.ipynb\n",
      "2019-09-05  오전 03:46         2,056,210 BPC_E530_Crawling_ChicagoMag_Quiz_.ipynb\n",
      "2022-05-31  오후 04:22         1,243,092 BPC_E530_Web_Crawling1_ver3.ipynb\n",
      "2022-05-31  오후 05:24         1,211,299 BPC_E530_Web_Crawling1_ver4.ipynb\n",
      "2022-05-31  오후 05:02         1,001,681 BPC_E530_Web_Crawling2_ver3.ipynb\n",
      "2022-05-31  오후 05:24           973,499 BPC_E530_Web_Crawling2_ver4.ipynb\n",
      "2019-09-06  오전 01:13         1,182,961 BPC_E531_Crawling_ChicagoMag_Main.ipynb\n",
      "2019-09-06  오전 06:07           970,709 BPC_E532_Crawling_ChicagoMag_Detail.ipynb\n",
      "2019-09-05  오전 04:14           765,316 BPC_E540_Seoul_McDonalds_idx_Quiz.ipynb\n",
      "2019-09-05  오전 04:00           977,363 BPC_E541_Seoul_McDonalds_idx_ver2.ipynb\n",
      "2019-09-05  오전 03:49           910,702 BPC_E541_Seoul_McDonalds_idx_ver3.ipynb\n",
      "2019-09-05  오전 04:15           923,645 BPC_E541_Seoul_McDonalds_idx_ver4.ipynb\n",
      "2019-09-06  오전 04:12            28,450 BPC_E551_Wiki_Vivaldi.ipynb\n",
      "2019-09-06  오전 05:44            15,652 BPC_E560_WebCollecting.ipynb\n",
      "2019-09-06  오전 06:13           800,298 BPC_E570_Selenium_WebDriver_ver3.ipynb\n",
      "2019-09-06  오전 06:11         1,738,736 BPC_E580_Selenium_StarbucksIdx_Quiz.ipynb\n",
      "2019-09-06  오전 06:10         1,269,275 BPC_E581_Selenium_StarbucksIdx_ver3.ipynb\n",
      "2019-09-06  오전 05:47         1,840,589 BPC_E581_Selenium_StarbucksIdx_ver4.ipynb\n",
      "2019-09-08  오후 08:22           727,654 BPC_E590_Election_Result_Analysis_ver2.ipynb\n",
      "2019-09-09  오후 05:48    <DIR>          data\n",
      "2019-09-05  오전 01:05    <DIR>          download\n",
      "2019-09-06  오전 06:00    <DIR>          driver\n",
      "2019-09-06  오전 06:14    <DIR>          html\n",
      "2019-09-06  오전 05:20    <DIR>          images\n",
      "2019-09-05  오전 01:43    <DIR>          webdocu\n",
      "2019-09-05  오후 10:54    <DIR>          ztemp\n",
      "              39개 파일          23,523,245 바이트\n",
      "              10개 디렉터리  140,208,635,904 바이트 남음\n"
     ]
    }
   ],
   "source": [
    "%ls"
   ]
  },
  {
   "cell_type": "code",
   "execution_count": null,
   "metadata": {},
   "outputs": [],
   "source": []
  }
 ],
 "metadata": {
  "kernelspec": {
   "display_name": "Python 3 (ipykernel)",
   "language": "python",
   "name": "python3"
  },
  "language_info": {
   "codemirror_mode": {
    "name": "ipython",
    "version": 3
   },
   "file_extension": ".py",
   "mimetype": "text/x-python",
   "name": "python",
   "nbconvert_exporter": "python",
   "pygments_lexer": "ipython3",
   "version": "3.9.12"
  }
 },
 "nbformat": 4,
 "nbformat_minor": 2
}
