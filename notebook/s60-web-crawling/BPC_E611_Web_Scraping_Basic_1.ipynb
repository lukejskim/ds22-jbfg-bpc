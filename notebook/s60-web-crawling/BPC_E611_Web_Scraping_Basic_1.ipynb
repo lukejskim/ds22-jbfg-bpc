{
 "cells": [
  {
   "cell_type": "markdown",
   "metadata": {},
   "source": [
    "# Industry 4.0 의 중심, BigData"
   ]
  },
  {
   "cell_type": "markdown",
   "metadata": {},
   "source": [
    "<div align='right'><font size=2 color='gray'>Data Processing Based Python @ <font color='blue'><a href='https://www.facebook.com/jskim.kr'>FB / jskim.kr</a></font>, [김진수](bigpycraft@gmail.com)</font></div>\n",
    "<hr>"
   ]
  },
  {
   "cell_type": "markdown",
   "metadata": {},
   "source": [
    "## <font color='brown'>웹 스크레이핑을 위한 기본 지식 </font>"
   ]
  },
  {
   "cell_type": "markdown",
   "metadata": {},
   "source": [
    "### HTML의 기본 구조\n",
    ">  \n",
    "> - Markup Language는 Tree 구조\n",
    "> - 시작태그가 있으면 끝태그가 존재"
   ]
  },
  {
   "cell_type": "code",
   "execution_count": 1,
   "metadata": {},
   "outputs": [],
   "source": [
    "import os\n",
    "from os.path import exists"
   ]
  },
  {
   "cell_type": "code",
   "execution_count": 2,
   "metadata": {
    "scrolled": true
   },
   "outputs": [
    {
     "name": "stdout",
     "output_type": "stream",
     "text": [
      "[webdocu] 디렉터리를 생성했습니다.\n"
     ]
    }
   ],
   "source": [
    "dir_name = 'webdocu'\n",
    "\n",
    "if not exists(dir_name):\n",
    "    os.mkdir(dir_name)\n",
    "    print('[%s] 디렉터리를 생성했습니다.' %dir_name)\n",
    "else:\n",
    "    print('[%s]은(는) 이미 존재합니다.' %dir_name)"
   ]
  },
  {
   "cell_type": "markdown",
   "metadata": {},
   "source": [
    "<hr>\n",
    "\n",
    "#### <font color='#CC0000'>HTML 실습1</font>"
   ]
  },
  {
   "cell_type": "code",
   "execution_count": 3,
   "metadata": {},
   "outputs": [
    {
     "name": "stdout",
     "output_type": "stream",
     "text": [
      "Writing ./webdocu/html_ex01.html\n"
     ]
    }
   ],
   "source": [
    "%%writefile ./webdocu/html_ex01.html \n",
    "<!doctype html>\n",
    "<html>\n",
    "  <head>\n",
    "    <meta charset=\"utf-8\">\n",
    "    <title>IT 전문가 교육 과정</title>\n",
    "  </head>\n",
    "  <body>\n",
    "     <h1>데이터분석 과정</h1>\n",
    "     <p id=\"subject\">파이썬기반 빅데이터분석</p>\n",
    "     <p id=\"teacher\">김진수 대표</p>\n",
    "     <p id=\"school\">멀티캠퍼스</p>\n",
    "     <p id=\"semester\">2022</p>\n",
    "  </body>\n",
    "</html>"
   ]
  },
  {
   "cell_type": "markdown",
   "metadata": {},
   "source": [
    "#### <font color='#0000CC'> Markdown 에서 아래와 같이 입력하고, 클릭</font>\n",
    "```html\n",
    "<a href='./webdocu/html_ex01.html'>HTML 코드 1</a>\n",
    "```"
   ]
  },
  {
   "cell_type": "markdown",
   "metadata": {},
   "source": [
    "<hr>\n",
    "\n",
    "#### <font color='#CC0000'>HTML 실습2</font>"
   ]
  },
  {
   "cell_type": "code",
   "execution_count": 4,
   "metadata": {},
   "outputs": [
    {
     "name": "stdout",
     "output_type": "stream",
     "text": [
      "Writing ./webdocu/html_ex02.html\n"
     ]
    }
   ],
   "source": [
    "%%writefile ./webdocu/html_ex02.html \n",
    "<!doctype html>\n",
    "<html>\n",
    "  <head>\n",
    "    <meta charset=\"utf-8\">\n",
    "    <title>IT 전문가 교육 과정</title>\n",
    "  </head>\n",
    "  <body>\n",
    "     <table>\n",
    "        <tr>\n",
    "          <td colspan=2><h2>데이터분석 과정</h2></td>\n",
    "        </tr>\n",
    "        <tr>\n",
    "          <td>과목</td>\n",
    "          <td>파이썬기반 빅데이터분석</td>\n",
    "        </tr>\n",
    "        <tr>\n",
    "          <td>담당강사</td>\n",
    "          <td>김진수 대표</td>\n",
    "        </tr>\n",
    "        <tr>\n",
    "          <td>교육장소</td>\n",
    "          <td>멀티캠퍼스</td>\n",
    "        </tr>\n",
    "        <tr>\n",
    "          <td>학기</td>\n",
    "          <td>2022년도</td>\n",
    "        </tr>\n",
    "     <table>\n",
    "  </body>\n",
    "</html>"
   ]
  },
  {
   "cell_type": "markdown",
   "metadata": {},
   "source": [
    "#### <font color='#0000CC'> Markdown 에서 아래와 같이 입력하고, 클릭</font>\n",
    "```html \n",
    "<a href='./webdocu/html_ex02.html'>HTML 코드 2</a>\n",
    "```"
   ]
  },
  {
   "cell_type": "markdown",
   "metadata": {},
   "source": [
    "<hr>\n",
    "\n",
    "#### <font color='#CC0000'>HTML 실습3</font>"
   ]
  },
  {
   "cell_type": "code",
   "execution_count": 5,
   "metadata": {},
   "outputs": [
    {
     "name": "stdout",
     "output_type": "stream",
     "text": [
      "Writing ./webdocu/html_ex03.html\n"
     ]
    }
   ],
   "source": [
    "%%writefile ./webdocu/html_ex03.html \n",
    "<!doctype html>\n",
    "<html>\n",
    "  <head>\n",
    "    <meta charset=\"utf-8\">\n",
    "    <title>IT 전문가 교육 과정</title>\n",
    "  </head>\n",
    "  <body>\n",
    "     <table width='800' height='50' border=1 padding=1 bgcolor='#FFFF00'>\n",
    "        <tr>\n",
    "          <td colspan=2><font size=5 color='red'>데이터분석 과정</font></td>\n",
    "        </tr>\n",
    "        <tr>\n",
    "          <td width='25%'>과목</td>\n",
    "          <td width='75%'>파이썬기반 빅데이터분석</td>\n",
    "        </tr>\n",
    "        <tr>\n",
    "          <td>담당강사</td>\n",
    "          <td><b>김진수 대표</b></td>\n",
    "        </tr>\n",
    "        <tr>\n",
    "          <td>교육장소</td>\n",
    "          <td><u>멀티캠퍼스</u></td>\n",
    "        </tr>\n",
    "        <tr>\n",
    "          <td>학기</td>\n",
    "          <td><i>2022년도</i></td>\n",
    "        </tr>\n",
    "     <table>\n",
    "  </body>\n",
    "</html>"
   ]
  },
  {
   "cell_type": "markdown",
   "metadata": {},
   "source": [
    "#### <font color='#0000CC'> Markdown 에서 아래와 같이 입력하고, 클릭</font>\n",
    "```html\n",
    "<a href='./webdocu/html_ex03.html'>HTML 코드 3</a>\n",
    "```"
   ]
  },
  {
   "cell_type": "markdown",
   "metadata": {},
   "source": [
    "<hr>\n",
    "\n",
    "#### <font color='#CC0000'>HTML 실습4</font>"
   ]
  },
  {
   "cell_type": "code",
   "execution_count": 6,
   "metadata": {},
   "outputs": [
    {
     "name": "stdout",
     "output_type": "stream",
     "text": [
      "Writing ./webdocu/html_ex04.html\n"
     ]
    }
   ],
   "source": [
    "%%writefile ./webdocu/html_ex04.html \n",
    "<!doctype html>\n",
    "<html>\n",
    "  <head>\n",
    "    <meta charset=\"utf-8\">\n",
    "    <title>IT 전문가 교육 과정</title>\n",
    "    <style>\n",
    "      table {\n",
    "        width: 100%;\n",
    "        border: 1px solid #333333;\n",
    "      }\n",
    "      td {\n",
    "        padding: 10px;\n",
    "        border: 1px solid #333333;\n",
    "      }\n",
    "      .style_1 {\n",
    "        border-collapse: separate;\n",
    "      }\n",
    "      .style_2 {\n",
    "        border-collapse: collapse;\n",
    "      }\n",
    "      td.type1{\n",
    "           text-align:center; \n",
    "           border:2px solid red; \n",
    "           text-color:gray;\n",
    "           width:100;\n",
    "        }\n",
    "      td.type2{\n",
    "           text-align:right; \n",
    "           border:3px dotted blue; \n",
    "           text-color:gray;\n",
    "           width:100;\n",
    "        }\n",
    "      td.type3{\n",
    "           text-align:left; \n",
    "           border:3px ridge green; \n",
    "           text-color:#FF0000;\n",
    "           width:100;\n",
    "        }\n",
    "    </style>\n",
    "  </head>\n",
    "  <body>\n",
    "     <table class='style_1'>\n",
    "        <tr>\n",
    "          <td colspan=2><h2>데이터분석 과정1</h2></td>\n",
    "        </tr>\n",
    "        <tr>\n",
    "          <td class='type1'>과목</td>\n",
    "          <td class='type2'>파이썬기반 빅데이터분석</td>\n",
    "        </tr>\n",
    "        <tr>\n",
    "          <td style=\"border:5px outset pink;\">담당강사</td>\n",
    "          <td style=\"border:5px outset lightblue;\">김진수 대표</td>\n",
    "        </tr>\n",
    "     <table>\n",
    "     <br/><br/>\n",
    "     <table class='style_2'>\n",
    "        <tr>\n",
    "          <td colspan=2 class='type1'><h2>데이터분석 과정2</h2></td>\n",
    "        </tr>\n",
    "        <tr>\n",
    "          <td>교육장소</td>\n",
    "          <td>멀티캠퍼스</td>\n",
    "        </tr>\n",
    "        <tr>\n",
    "          <td class='type3'>학기</td>\n",
    "          <td class='type3'>2022년도</td>\n",
    "        </tr>\n",
    "     <table>\n",
    "  </body>\n",
    "</html>"
   ]
  },
  {
   "cell_type": "markdown",
   "metadata": {},
   "source": [
    "#### <font color='#0000CC'> Markdown 에서 아래와 같이 입력하고, 클릭</font>\n",
    "```html\n",
    "<a href='./webdocu/html_ex04.html'>HTML 코드 4</a>\n",
    "```"
   ]
  },
  {
   "cell_type": "markdown",
   "metadata": {},
   "source": [
    "<hr>\n",
    "<marquee><font size=3 color='brown'>The BigpyCraft find the information to design valuable society with Technology & Craft.</font></marquee>\n",
    "<div align='right'><font size=2 color='gray'> &lt; The End &gt; </font></div>"
   ]
  }
 ],
 "metadata": {
  "anaconda-cloud": {},
  "kernelspec": {
   "display_name": "Python 3 (ipykernel)",
   "language": "python",
   "name": "python3"
  },
  "language_info": {
   "codemirror_mode": {
    "name": "ipython",
    "version": 3
   },
   "file_extension": ".py",
   "mimetype": "text/x-python",
   "name": "python",
   "nbconvert_exporter": "python",
   "pygments_lexer": "ipython3",
   "version": "3.9.7"
  },
  "latex_envs": {
   "LaTeX_envs_menu_present": true,
   "autoclose": false,
   "autocomplete": true,
   "bibliofile": "biblio.bib",
   "cite_by": "apalike",
   "current_citInitial": 1,
   "eqLabelWithNumbers": true,
   "eqNumInitial": 1,
   "hotkeys": {
    "equation": "Ctrl-E",
    "itemize": "Ctrl-I"
   },
   "labels_anchors": false,
   "latex_user_defs": false,
   "report_style_numbering": false,
   "user_envs_cfg": false
  },
  "nav_menu": {},
  "toc": {
   "nav_menu": {
    "height": "400px",
    "width": "252px"
   },
   "number_sections": false,
   "sideBar": true,
   "skip_h1_title": false,
   "toc_cell": false,
   "toc_position": {
    "height": "545px",
    "left": "0px",
    "right": "1154px",
    "top": "111px",
    "width": "212px"
   },
   "toc_section_display": "block",
   "toc_window_display": false
  },
  "toc_position": {
   "height": "503px",
   "left": "0px",
   "right": "952.167px",
   "top": "107px",
   "width": "300px"
  }
 },
 "nbformat": 4,
 "nbformat_minor": 1
}
