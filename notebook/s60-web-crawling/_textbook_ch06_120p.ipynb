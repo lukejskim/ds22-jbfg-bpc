{
 "cells": [
  {
   "cell_type": "markdown",
   "id": "1c695367",
   "metadata": {},
   "source": [
    "# Industry 4.0 의 중심, BigData"
   ]
  },
  {
   "cell_type": "markdown",
   "id": "aed49cd0",
   "metadata": {},
   "source": [
    "<div align='right'><font size=2 color='gray'>Data Processing Based Python @ <font color='blue'><a href='https://www.facebook.com/jskim.kr'>FB / jskim.kr</a></font>, [김진수](bigpycraft@gmail.com)</font></div>\n",
    "<hr>"
   ]
  },
  {
   "cell_type": "markdown",
   "id": "fc39659b",
   "metadata": {},
   "source": [
    "## <font color='brown'>크롤러 만들기 </font>\n",
    "> TextBook. 6장 데이터 수집\n",
    "> - 웹 크롤러 이해\n",
    "> - urllib 패키지, BeautifulSoup 패키지 이해 및 활용"
   ]
  },
  {
   "cell_type": "markdown",
   "id": "846b3d63",
   "metadata": {},
   "source": [
    "### urllib, BeautifulSoup"
   ]
  },
  {
   "cell_type": "code",
   "execution_count": 1,
   "id": "3cbc8fb3",
   "metadata": {},
   "outputs": [],
   "source": [
    "from urllib.request import urlopen\n",
    "from bs4 import BeautifulSoup"
   ]
  },
  {
   "cell_type": "code",
   "execution_count": 2,
   "id": "2aae151d",
   "metadata": {},
   "outputs": [],
   "source": [
    "with urlopen('http://naver.com') as response:\n",
    "    html = response.read()\n",
    "    bs = BeautifulSoup(html, 'html.parser')\n",
    "    \n",
    "    for element in bs.find_all(attrs={'class':'title elss'})[0:2]:\n",
    "        print(element)"
   ]
  },
  {
   "cell_type": "code",
   "execution_count": 3,
   "id": "f9c38006",
   "metadata": {},
   "outputs": [
    {
     "name": "stdout",
     "output_type": "stream",
     "text": [
      "<div id=\"veta_top\"> <div id=\"veta_top_inner\" style=\"height:135px\"> </div> <span class=\"veta_bd_t\"></span> <span class=\"veta_bd_b\"></span> <span class=\"veta_bd_l\"></span> <span class=\"veta_bd_r\"></span> </div>\n"
     ]
    }
   ],
   "source": [
    "with urlopen('http://naver.com') as response:\n",
    "    html = response.read()\n",
    "    bs = BeautifulSoup(html, 'html.parser')\n",
    "    \n",
    "    for element in bs.find_all(id='veta_top')[0:2]:\n",
    "        print(element)\n"
   ]
  },
  {
   "cell_type": "code",
   "execution_count": 4,
   "id": "009284de",
   "metadata": {},
   "outputs": [
    {
     "name": "stdout",
     "output_type": "stream",
     "text": [
      "<div id=\"veta_top\"> <div id=\"veta_top_inner\" style=\"height:135px\"> </div> <span class=\"veta_bd_t\"></span> <span class=\"veta_bd_b\"></span> <span class=\"veta_bd_l\"></span> <span class=\"veta_bd_r\"></span> </div>\n",
      "----------------------------------------------------------------------------------------------------\n"
     ]
    }
   ],
   "source": [
    "with urlopen('http://naver.com') as response:\n",
    "    html = response.read()\n",
    "    bs = BeautifulSoup(html, 'html.parser')\n",
    "    \n",
    "    for element in bs.find_all(id='veta_top')[0:2]:\n",
    "        print(element)\n",
    "    \n",
    "    print('-'*100)\n",
    "    for element in bs.find_all(attrs={'class':'title elss'})[0:2]:\n",
    "        print(element)"
   ]
  },
  {
   "cell_type": "code",
   "execution_count": null,
   "id": "4e5a6d4d",
   "metadata": {},
   "outputs": [],
   "source": []
  },
  {
   "cell_type": "code",
   "execution_count": 5,
   "id": "1747dd9c",
   "metadata": {},
   "outputs": [],
   "source": [
    "with urlopen('http://naver.com') as response:\n",
    "    html = response.read()\n",
    "    bs = BeautifulSoup(html, 'html.parser')\n",
    "    \n",
    "    elements = bs.select('div > a')\n",
    "    # print(elements)"
   ]
  },
  {
   "cell_type": "code",
   "execution_count": 6,
   "id": "e46605bb",
   "metadata": {},
   "outputs": [
    {
     "data": {
      "text/plain": [
       "226"
      ]
     },
     "execution_count": 6,
     "metadata": {},
     "output_type": "execute_result"
    }
   ],
   "source": [
    "len(elements)"
   ]
  },
  {
   "cell_type": "code",
   "execution_count": 7,
   "id": "e7d434e1",
   "metadata": {},
   "outputs": [
    {
     "data": {
      "text/plain": [
       "<a href=\"#newsstand\"><span>뉴스스탠드 바로가기</span></a>"
      ]
     },
     "execution_count": 7,
     "metadata": {},
     "output_type": "execute_result"
    }
   ],
   "source": [
    "elements[0]"
   ]
  },
  {
   "cell_type": "code",
   "execution_count": null,
   "id": "2f233ad6",
   "metadata": {},
   "outputs": [],
   "source": []
  },
  {
   "cell_type": "markdown",
   "id": "38826794",
   "metadata": {},
   "source": [
    "### 네이버 날씨 웹 페이지에서 시간대별 기온 데이터 가져오기"
   ]
  },
  {
   "cell_type": "code",
   "execution_count": 8,
   "id": "f379a035",
   "metadata": {},
   "outputs": [],
   "source": [
    "from urllib.request import urlopen\n",
    "from bs4 import BeautifulSoup"
   ]
  },
  {
   "cell_type": "code",
   "execution_count": 9,
   "id": "cec25b1c",
   "metadata": {},
   "outputs": [],
   "source": [
    "url = 'https://weather.naver.com/today/'"
   ]
  },
  {
   "cell_type": "code",
   "execution_count": 10,
   "id": "668b88c8",
   "metadata": {},
   "outputs": [],
   "source": [
    "# now > div > div.weather_area > div.weather_now > div > strong"
   ]
  },
  {
   "cell_type": "code",
   "execution_count": 11,
   "id": "59a5ff7e",
   "metadata": {},
   "outputs": [],
   "source": [
    "with urlopen(url) as response:\n",
    "    html = response.read()\n",
    "    bs = BeautifulSoup(html, 'html.parser')"
   ]
  },
  {
   "cell_type": "code",
   "execution_count": 12,
   "id": "384d84c0",
   "metadata": {},
   "outputs": [],
   "source": [
    "selector = '#now > div > div.weather_area > div.weather_now > div > strong'"
   ]
  },
  {
   "cell_type": "code",
   "execution_count": 13,
   "id": "509b4e97",
   "metadata": {},
   "outputs": [
    {
     "data": {
      "text/plain": [
       "[<strong class=\"current\">\n",
       " <span class=\"blind\">현재 온도</span>30.1<span class=\"degree\">°</span>\n",
       " </strong>]"
      ]
     },
     "execution_count": 13,
     "metadata": {},
     "output_type": "execute_result"
    }
   ],
   "source": [
    "elements = bs.select(selector)\n",
    "elements"
   ]
  },
  {
   "cell_type": "code",
   "execution_count": 14,
   "id": "3ff30941",
   "metadata": {},
   "outputs": [
    {
     "data": {
      "text/plain": [
       "bs4.element.ResultSet"
      ]
     },
     "execution_count": 14,
     "metadata": {},
     "output_type": "execute_result"
    }
   ],
   "source": [
    "type(elements)"
   ]
  },
  {
   "cell_type": "code",
   "execution_count": 15,
   "id": "4caab939",
   "metadata": {},
   "outputs": [
    {
     "data": {
      "text/plain": [
       "'현재 온도30.1°'"
      ]
     },
     "execution_count": 15,
     "metadata": {},
     "output_type": "execute_result"
    }
   ],
   "source": [
    "temperature = elements[0].get_text()\n",
    "temperature = temperature.strip()\n",
    "temperature"
   ]
  },
  {
   "cell_type": "code",
   "execution_count": null,
   "id": "a02005e3",
   "metadata": {},
   "outputs": [],
   "source": []
  },
  {
   "cell_type": "code",
   "execution_count": 16,
   "id": "30e41321",
   "metadata": {},
   "outputs": [],
   "source": [
    "selector = '#weekly > div.scroll_control.end_left > div > ul'\n",
    "selector = '#weekly > div.scroll_control.end_left > div > ul > li:nth-child(3)'"
   ]
  },
  {
   "cell_type": "code",
   "execution_count": 17,
   "id": "fc26dc7d",
   "metadata": {},
   "outputs": [
    {
     "data": {
      "text/plain": [
       "[<li class=\"week_item\">\n",
       " <div class=\"day_data\">\n",
       " <div class=\"cell_date\">\n",
       " <span class=\"date_inner holiday\">\n",
       " <strong class=\"day\">일</strong><span class=\"date\">6.05.</span>\n",
       " </span>\n",
       " </div>\n",
       " <div class=\"cell_weather\">\n",
       " <span class=\"weather_inner\" data-wetr-cd=\"7\" data-wetr-txt=\"흐림\">\n",
       " <strong class=\"inner_text left\">\n",
       " <span class=\"timeslot\">오전</span>\n",
       " <span class=\"rainfall\"><span class=\"blind\">강수확률</span>30%</span>\n",
       " </strong>\n",
       " <i class=\"ico _cnLazy\" data-ico=\"ico_wt7\"><span class=\"blind\">흐림</span></i>\n",
       " </span>\n",
       " <span class=\"weather_inner\" data-wetr-cd=\"7\" data-wetr-txt=\"흐림\">\n",
       " <i class=\"ico _cnLazy\" data-ico=\"ico_wt7\"><span class=\"blind\">흐림</span></i>\n",
       " <strong class=\"inner_text\">\n",
       " <span class=\"timeslot\">오후</span>\n",
       " <span class=\"rainfall\"><span class=\"blind\">강수확률</span>30%</span>\n",
       " </strong>\n",
       " </span>\n",
       " </div>\n",
       " <div class=\"cell_temperature\">\n",
       " <strong class=\"temperature\">\n",
       " <span class=\"lowest\"><span class=\"blind\">최저기온</span>18°</span>\n",
       " <span class=\"bar\">/</span>\n",
       " <span class=\"highest\"><span class=\"blind\">최고기온</span>28°</span>\n",
       " </strong>\n",
       " </div>\n",
       " </div>\n",
       " </li>]"
      ]
     },
     "execution_count": 17,
     "metadata": {},
     "output_type": "execute_result"
    }
   ],
   "source": [
    "elements = bs.select(selector)\n",
    "elements"
   ]
  },
  {
   "cell_type": "code",
   "execution_count": 18,
   "id": "86508bd4",
   "metadata": {},
   "outputs": [
    {
     "data": {
      "text/plain": [
       "1"
      ]
     },
     "execution_count": 18,
     "metadata": {},
     "output_type": "execute_result"
    }
   ],
   "source": [
    "len(elements)"
   ]
  },
  {
   "cell_type": "code",
   "execution_count": 19,
   "id": "7bacd95d",
   "metadata": {},
   "outputs": [
    {
     "data": {
      "text/plain": [
       "'\\n\\n\\n\\n일6.05.\\n\\n\\n\\n\\n\\n오전\\n강수확률30%\\n\\n흐림\\n\\n\\n흐림\\n\\n오후\\n강수확률30%\\n\\n\\n\\n\\n\\n최저기온18°\\n/\\n최고기온28°\\n\\n\\n\\n'"
      ]
     },
     "execution_count": 19,
     "metadata": {},
     "output_type": "execute_result"
    }
   ],
   "source": [
    "temp = elements[0].get_text()\n",
    "temp"
   ]
  },
  {
   "cell_type": "code",
   "execution_count": 20,
   "id": "e6639b53",
   "metadata": {},
   "outputs": [
    {
     "name": "stdout",
     "output_type": "stream",
     "text": [
      "<li class=\"week_item today tablet_none\">\n",
      "<div class=\"day_data\">\n",
      "<div class=\"cell_date\">\n",
      "<span class=\"date_inner\">\n",
      "<strong class=\"day\">오늘</strong><span class=\"date\">6.03.</span>\n",
      "</span>\n",
      "</div>\n",
      "<div class=\"cell_weather\">\n",
      "<span class=\"weather_inner\" data-wetr-cd=\"5\" data-wetr-txt=\"구름많음\">\n",
      "<strong class=\"inner_text left\">\n",
      "<span class=\"timeslot\">오전</span>\n",
      "<span class=\"rainfall\"><span class=\"blind\">강수확률</span>10%</span>\n",
      "</strong>\n",
      "<i class=\"ico _cnLazy\" data-ico=\"ico_wt5\"><span class=\"blind\">구름많음</span></i>\n",
      "</span>\n",
      "<span class=\"weather_inner\" data-wetr-cd=\"1\" data-wetr-txt=\"맑음\">\n",
      "<i class=\"ico _cnLazy\" data-ico=\"ico_wt1\"><span class=\"blind\">맑음</span></i>\n",
      "<strong class=\"inner_text\">\n",
      "<span class=\"timeslot\">오후</span>\n",
      "<span class=\"rainfall none\"><span class=\"blind\">강수확률</span>0%</span>\n",
      "</strong>\n",
      "</span>\n",
      "</div>\n",
      "<div class=\"cell_temperature\">\n",
      "<strong class=\"temperature\">\n",
      "<span class=\"lowest\"><span class=\"blind\">최저기온</span>19°</span>\n",
      "<span class=\"bar\">/</span>\n",
      "<span class=\"highest\"><span class=\"blind\">최고기온</span>31°</span>\n",
      "</strong>\n",
      "</div>\n",
      "</div>\n",
      "</li>\n",
      "<li class=\"week_item tablet_none\">\n",
      "<div class=\"day_data\">\n",
      "<div class=\"cell_date\">\n",
      "<span class=\"date_inner\">\n",
      "<strong class=\"day\">내일</strong><span class=\"date\">6.04.</span>\n",
      "</span>\n",
      "</div>\n",
      "<div class=\"cell_weather\">\n",
      "<span class=\"weather_inner\" data-wetr-cd=\"5\" data-wetr-txt=\"구름많음\">\n",
      "<strong class=\"inner_text left\">\n",
      "<span class=\"timeslot\">오전</span>\n",
      "<span class=\"rainfall\"><span class=\"blind\">강수확률</span>20%</span>\n",
      "</strong>\n",
      "<i class=\"ico _cnLazy\" data-ico=\"ico_wt5\"><span class=\"blind\">구름많음</span></i>\n",
      "</span>\n",
      "<span class=\"weather_inner\" data-wetr-cd=\"5\" data-wetr-txt=\"구름많음\">\n",
      "<i class=\"ico _cnLazy\" data-ico=\"ico_wt5\"><span class=\"blind\">구름많음</span></i>\n",
      "<strong class=\"inner_text\">\n",
      "<span class=\"timeslot\">오후</span>\n",
      "<span class=\"rainfall\"><span class=\"blind\">강수확률</span>20%</span>\n",
      "</strong>\n",
      "</span>\n",
      "</div>\n",
      "<div class=\"cell_temperature\">\n",
      "<strong class=\"temperature\">\n",
      "<span class=\"lowest\"><span class=\"blind\">최저기온</span>19°</span>\n",
      "<span class=\"bar\">/</span>\n",
      "<span class=\"highest\"><span class=\"blind\">최고기온</span>31°</span>\n",
      "</strong>\n",
      "</div>\n",
      "</div>\n",
      "</li>\n",
      "<li class=\"week_item\">\n",
      "<div class=\"day_data\">\n",
      "<div class=\"cell_date\">\n",
      "<span class=\"date_inner holiday\">\n",
      "<strong class=\"day\">일</strong><span class=\"date\">6.05.</span>\n",
      "</span>\n",
      "</div>\n",
      "<div class=\"cell_weather\">\n",
      "<span class=\"weather_inner\" data-wetr-cd=\"7\" data-wetr-txt=\"흐림\">\n",
      "<strong class=\"inner_text left\">\n",
      "<span class=\"timeslot\">오전</span>\n",
      "<span class=\"rainfall\"><span class=\"blind\">강수확률</span>30%</span>\n",
      "</strong>\n",
      "<i class=\"ico _cnLazy\" data-ico=\"ico_wt7\"><span class=\"blind\">흐림</span></i>\n",
      "</span>\n",
      "<span class=\"weather_inner\" data-wetr-cd=\"7\" data-wetr-txt=\"흐림\">\n",
      "<i class=\"ico _cnLazy\" data-ico=\"ico_wt7\"><span class=\"blind\">흐림</span></i>\n",
      "<strong class=\"inner_text\">\n",
      "<span class=\"timeslot\">오후</span>\n",
      "<span class=\"rainfall\"><span class=\"blind\">강수확률</span>30%</span>\n",
      "</strong>\n",
      "</span>\n",
      "</div>\n",
      "<div class=\"cell_temperature\">\n",
      "<strong class=\"temperature\">\n",
      "<span class=\"lowest\"><span class=\"blind\">최저기온</span>18°</span>\n",
      "<span class=\"bar\">/</span>\n",
      "<span class=\"highest\"><span class=\"blind\">최고기온</span>28°</span>\n",
      "</strong>\n",
      "</div>\n",
      "</div>\n",
      "</li>\n",
      "<li class=\"week_item\">\n",
      "<div class=\"day_data\">\n",
      "<div class=\"cell_date\">\n",
      "<span class=\"date_inner\">\n",
      "<strong class=\"day\">월</strong><span class=\"date\">6.06.</span>\n",
      "</span>\n",
      "</div>\n",
      "<div class=\"cell_weather\">\n",
      "<span class=\"weather_inner\" data-wetr-cd=\"7\" data-wetr-txt=\"흐림\">\n",
      "<strong class=\"inner_text left\">\n",
      "<span class=\"timeslot\">오전</span>\n",
      "<span class=\"rainfall\"><span class=\"blind\">강수확률</span>30%</span>\n",
      "</strong>\n",
      "<i class=\"ico _cnLazy\" data-ico=\"ico_wt7\"><span class=\"blind\">흐림</span></i>\n",
      "</span>\n",
      "<span class=\"weather_inner\" data-wetr-cd=\"7\" data-wetr-txt=\"흐림\">\n",
      "<i class=\"ico _cnLazy\" data-ico=\"ico_wt7\"><span class=\"blind\">흐림</span></i>\n",
      "<strong class=\"inner_text\">\n",
      "<span class=\"timeslot\">오후</span>\n",
      "<span class=\"rainfall\"><span class=\"blind\">강수확률</span>30%</span>\n",
      "</strong>\n",
      "</span>\n",
      "</div>\n",
      "<div class=\"cell_temperature\">\n",
      "<strong class=\"temperature\">\n",
      "<span class=\"lowest\"><span class=\"blind\">최저기온</span>17°</span>\n",
      "<span class=\"bar\">/</span>\n",
      "<span class=\"highest\"><span class=\"blind\">최고기온</span>26°</span>\n",
      "</strong>\n",
      "</div>\n",
      "</div>\n",
      "</li>\n",
      "<li class=\"week_item\">\n",
      "<div class=\"day_data\">\n",
      "<div class=\"cell_date\">\n",
      "<span class=\"date_inner\">\n",
      "<strong class=\"day\">화</strong><span class=\"date\">6.07.</span>\n",
      "</span>\n",
      "</div>\n",
      "<div class=\"cell_weather\">\n",
      "<span class=\"weather_inner\" data-wetr-cd=\"5\" data-wetr-txt=\"구름많음\">\n",
      "<strong class=\"inner_text left\">\n",
      "<span class=\"timeslot\">오전</span>\n",
      "<span class=\"rainfall\"><span class=\"blind\">강수확률</span>30%</span>\n",
      "</strong>\n",
      "<i class=\"ico _cnLazy\" data-ico=\"ico_wt5\"><span class=\"blind\">구름많음</span></i>\n",
      "</span>\n",
      "<span class=\"weather_inner\" data-wetr-cd=\"5\" data-wetr-txt=\"구름많음\">\n",
      "<i class=\"ico _cnLazy\" data-ico=\"ico_wt5\"><span class=\"blind\">구름많음</span></i>\n",
      "<strong class=\"inner_text\">\n",
      "<span class=\"timeslot\">오후</span>\n",
      "<span class=\"rainfall\"><span class=\"blind\">강수확률</span>30%</span>\n",
      "</strong>\n",
      "</span>\n",
      "</div>\n",
      "<div class=\"cell_temperature\">\n",
      "<strong class=\"temperature\">\n",
      "<span class=\"lowest\"><span class=\"blind\">최저기온</span>15°</span>\n",
      "<span class=\"bar\">/</span>\n",
      "<span class=\"highest\"><span class=\"blind\">최고기온</span>26°</span>\n",
      "</strong>\n",
      "</div>\n",
      "</div>\n",
      "</li>\n",
      "<li class=\"week_item\">\n",
      "<div class=\"day_data\">\n",
      "<div class=\"cell_date\">\n",
      "<span class=\"date_inner\">\n",
      "<strong class=\"day\">수</strong><span class=\"date\">6.08.</span>\n",
      "</span>\n",
      "</div>\n",
      "<div class=\"cell_weather\">\n",
      "<span class=\"weather_inner\" data-wetr-cd=\"1\" data-wetr-txt=\"맑음\">\n",
      "<strong class=\"inner_text left\">\n",
      "<span class=\"timeslot\">오전</span>\n",
      "<span class=\"rainfall none\"><span class=\"blind\">강수확률</span>0%</span>\n",
      "</strong>\n",
      "<i class=\"ico _cnLazy\" data-ico=\"ico_wt1\"><span class=\"blind\">맑음</span></i>\n",
      "</span>\n",
      "<span class=\"weather_inner\" data-wetr-cd=\"5\" data-wetr-txt=\"구름많음\">\n",
      "<i class=\"ico _cnLazy\" data-ico=\"ico_wt5\"><span class=\"blind\">구름많음</span></i>\n",
      "<strong class=\"inner_text\">\n",
      "<span class=\"timeslot\">오후</span>\n",
      "<span class=\"rainfall\"><span class=\"blind\">강수확률</span>30%</span>\n",
      "</strong>\n",
      "</span>\n",
      "</div>\n",
      "<div class=\"cell_temperature\">\n",
      "<strong class=\"temperature\">\n",
      "<span class=\"lowest\"><span class=\"blind\">최저기온</span>15°</span>\n",
      "<span class=\"bar\">/</span>\n",
      "<span class=\"highest\"><span class=\"blind\">최고기온</span>27°</span>\n",
      "</strong>\n",
      "</div>\n",
      "</div>\n",
      "</li>\n",
      "<li class=\"week_item\">\n",
      "<div class=\"day_data\">\n",
      "<div class=\"cell_date\">\n",
      "<span class=\"date_inner\">\n",
      "<strong class=\"day\">목</strong><span class=\"date\">6.09.</span>\n",
      "</span>\n",
      "</div>\n",
      "<div class=\"cell_weather\">\n",
      "<span class=\"weather_inner\" data-wetr-cd=\"1\" data-wetr-txt=\"맑음\">\n",
      "<strong class=\"inner_text left\">\n",
      "<span class=\"timeslot\">오전</span>\n",
      "<span class=\"rainfall none\"><span class=\"blind\">강수확률</span>0%</span>\n",
      "</strong>\n",
      "<i class=\"ico _cnLazy\" data-ico=\"ico_wt1\"><span class=\"blind\">맑음</span></i>\n",
      "</span>\n",
      "<span class=\"weather_inner\" data-wetr-cd=\"5\" data-wetr-txt=\"구름많음\">\n",
      "<i class=\"ico _cnLazy\" data-ico=\"ico_wt5\"><span class=\"blind\">구름많음</span></i>\n",
      "<strong class=\"inner_text\">\n",
      "<span class=\"timeslot\">오후</span>\n",
      "<span class=\"rainfall\"><span class=\"blind\">강수확률</span>30%</span>\n",
      "</strong>\n",
      "</span>\n",
      "</div>\n",
      "<div class=\"cell_temperature\">\n",
      "<strong class=\"temperature\">\n",
      "<span class=\"lowest\"><span class=\"blind\">최저기온</span>16°</span>\n",
      "<span class=\"bar\">/</span>\n",
      "<span class=\"highest\"><span class=\"blind\">최고기온</span>28°</span>\n",
      "</strong>\n",
      "</div>\n",
      "</div>\n",
      "</li>\n",
      "<li class=\"week_item type_only\">\n",
      "<div class=\"day_data\">\n",
      "<div class=\"cell_date\">\n",
      "<span class=\"date_inner\">\n",
      "<strong class=\"day\">금</strong><span class=\"date\">6.10.</span>\n",
      "</span>\n",
      "</div>\n",
      "<div class=\"cell_weather\">\n",
      "<span class=\"weather_inner\" data-wetr-cd=\"1\" data-wetr-txt=\"맑음\">\n",
      "<strong class=\"inner_text left\">\n",
      "<span class=\"timeslot\">오전</span>\n",
      "<span class=\"rainfall none\"><span class=\"blind\">강수확률</span>0%</span>\n",
      "</strong>\n",
      "<i class=\"ico _cnLazy\" data-ico=\"ico_wt1\"><span class=\"blind\">맑음</span></i>\n",
      "</span>\n",
      "<span class=\"weather_inner\" data-wetr-cd=\"5\" data-wetr-txt=\"구름많음\">\n",
      "<i class=\"ico _cnLazy\" data-ico=\"ico_wt5\"><span class=\"blind\">구름많음</span></i>\n",
      "<strong class=\"inner_text\">\n",
      "<span class=\"timeslot\">오후</span>\n",
      "<span class=\"rainfall\"><span class=\"blind\">강수확률</span>30%</span>\n",
      "</strong>\n",
      "</span>\n",
      "</div>\n",
      "<div class=\"cell_temperature\">\n",
      "<strong class=\"temperature\">\n",
      "<span class=\"lowest\"><span class=\"blind\">최저기온</span>17°</span>\n",
      "<span class=\"bar\">/</span>\n",
      "<span class=\"highest\"><span class=\"blind\">최고기온</span>29°</span>\n",
      "</strong>\n",
      "</div>\n",
      "</div>\n",
      "</li>\n",
      "<li class=\"week_item type_only\">\n",
      "<div class=\"day_data\">\n",
      "<div class=\"cell_date\">\n",
      "<span class=\"date_inner\">\n",
      "<strong class=\"day\">토</strong><span class=\"date\">6.11.</span>\n",
      "</span>\n",
      "</div>\n",
      "<div class=\"cell_weather\">\n",
      "<span class=\"weather_inner\" data-wetr-cd=\"1\" data-wetr-txt=\"맑음\">\n",
      "<strong class=\"inner_text left\">\n",
      "<span class=\"timeslot\">오전</span>\n",
      "<span class=\"rainfall none\"><span class=\"blind\">강수확률</span>0%</span>\n",
      "</strong>\n",
      "<i class=\"ico _cnLazy\" data-ico=\"ico_wt1\"><span class=\"blind\">맑음</span></i>\n",
      "</span>\n",
      "<span class=\"weather_inner\" data-wetr-cd=\"1\" data-wetr-txt=\"맑음\">\n",
      "<i class=\"ico _cnLazy\" data-ico=\"ico_wt1\"><span class=\"blind\">맑음</span></i>\n",
      "<strong class=\"inner_text\">\n",
      "<span class=\"timeslot\">오후</span>\n",
      "<span class=\"rainfall none\"><span class=\"blind\">강수확률</span>0%</span>\n",
      "</strong>\n",
      "</span>\n",
      "</div>\n",
      "<div class=\"cell_temperature\">\n",
      "<strong class=\"temperature\">\n",
      "<span class=\"lowest\"><span class=\"blind\">최저기온</span>18°</span>\n",
      "<span class=\"bar\">/</span>\n",
      "<span class=\"highest\"><span class=\"blind\">최고기온</span>29°</span>\n",
      "</strong>\n",
      "</div>\n",
      "</div>\n",
      "</li>\n",
      "<li class=\"week_item type_only\">\n",
      "<div class=\"day_data\">\n",
      "<div class=\"cell_date\">\n",
      "<span class=\"date_inner holiday\">\n",
      "<strong class=\"day\">일</strong><span class=\"date\">6.12.</span>\n",
      "</span>\n",
      "</div>\n",
      "<div class=\"cell_weather\">\n",
      "<span class=\"weather_inner\" data-wetr-cd=\"1\" data-wetr-txt=\"맑음\">\n",
      "<strong class=\"inner_text left\">\n",
      "<span class=\"timeslot\">오전</span>\n",
      "<span class=\"rainfall none\"><span class=\"blind\">강수확률</span>0%</span>\n",
      "</strong>\n",
      "<i class=\"ico _cnLazy\" data-ico=\"ico_wt1\"><span class=\"blind\">맑음</span></i>\n",
      "</span>\n",
      "<span class=\"weather_inner\" data-wetr-cd=\"1\" data-wetr-txt=\"맑음\">\n",
      "<i class=\"ico _cnLazy\" data-ico=\"ico_wt1\"><span class=\"blind\">맑음</span></i>\n",
      "<strong class=\"inner_text\">\n",
      "<span class=\"timeslot\">오후</span>\n",
      "<span class=\"rainfall none\"><span class=\"blind\">강수확률</span>0%</span>\n",
      "</strong>\n",
      "</span>\n",
      "</div>\n",
      "<div class=\"cell_temperature\">\n",
      "<strong class=\"temperature\">\n",
      "<span class=\"lowest\"><span class=\"blind\">최저기온</span>18°</span>\n",
      "<span class=\"bar\">/</span>\n",
      "<span class=\"highest\"><span class=\"blind\">최고기온</span>29°</span>\n",
      "</strong>\n",
      "</div>\n",
      "</div>\n",
      "</li>\n",
      "<li class=\"week_item type_only\">\n",
      "<div class=\"day_data\">\n",
      "<div class=\"cell_date\">\n",
      "<span class=\"date_inner\">\n",
      "<strong class=\"day\">월</strong><span class=\"date\">6.13.</span>\n",
      "</span>\n",
      "</div>\n",
      "<div class=\"cell_weather\">\n",
      "<span class=\"weather_inner\" data-wetr-cd=\"1\" data-wetr-txt=\"맑음\">\n",
      "<strong class=\"inner_text left\">\n",
      "<span class=\"timeslot\">오전</span>\n",
      "<span class=\"rainfall none\"><span class=\"blind\">강수확률</span>0%</span>\n",
      "</strong>\n",
      "<i class=\"ico _cnLazy\" data-ico=\"ico_wt1\"><span class=\"blind\">맑음</span></i>\n",
      "</span>\n",
      "<span class=\"weather_inner\" data-wetr-cd=\"1\" data-wetr-txt=\"맑음\">\n",
      "<i class=\"ico _cnLazy\" data-ico=\"ico_wt1\"><span class=\"blind\">맑음</span></i>\n",
      "<strong class=\"inner_text\">\n",
      "<span class=\"timeslot\">오후</span>\n",
      "<span class=\"rainfall none\"><span class=\"blind\">강수확률</span>0%</span>\n",
      "</strong>\n",
      "</span>\n",
      "</div>\n",
      "<div class=\"cell_temperature\">\n",
      "<strong class=\"temperature\">\n",
      "<span class=\"lowest\"><span class=\"blind\">최저기온</span>18°</span>\n",
      "<span class=\"bar\">/</span>\n",
      "<span class=\"highest\"><span class=\"blind\">최고기온</span>30°</span>\n",
      "</strong>\n",
      "</div>\n",
      "</div>\n",
      "</li>\n"
     ]
    }
   ],
   "source": [
    "arr_elements = list()\n",
    "\n",
    "for i in range(100):\n",
    "    selector = '#weekly > div.scroll_control.end_left > div > ul > li:nth-child({n})'.format(n=i)\n",
    "    elements = bs.select(selector)\n",
    "    \n",
    "    if len(elements) > 0:\n",
    "        print(elements[0])\n",
    "        temp_text = elements[0].get_text()\n",
    "        temp_text = temp_text.replace('\\n', ' ')\n",
    "        temp_text = temp_text.strip()\n",
    "        arr_elements.append(temp_text)"
   ]
  },
  {
   "cell_type": "code",
   "execution_count": 21,
   "id": "a0581fa7",
   "metadata": {},
   "outputs": [
    {
     "data": {
      "text/plain": [
       "'오늘6.03.      오전 강수확률10%  구름많음   맑음  오후 강수확률0%      최저기온19° / 최고기온31°'"
      ]
     },
     "execution_count": 21,
     "metadata": {},
     "output_type": "execute_result"
    }
   ],
   "source": [
    "arr_elements[0]"
   ]
  },
  {
   "cell_type": "code",
   "execution_count": 22,
   "id": "3285edc2",
   "metadata": {},
   "outputs": [
    {
     "data": {
      "text/plain": [
       "11"
      ]
     },
     "execution_count": 22,
     "metadata": {},
     "output_type": "execute_result"
    }
   ],
   "source": [
    "len(arr_elements)"
   ]
  },
  {
   "cell_type": "code",
   "execution_count": 23,
   "id": "06383d68",
   "metadata": {},
   "outputs": [
    {
     "name": "stdout",
     "output_type": "stream",
     "text": [
      "오늘6.03.      오전 강수확률10%  구름많음   맑음  오후 강수확률0%      최저기온19° / 최고기온31°\n",
      "내일6.04.      오전 강수확률20%  구름많음   구름많음  오후 강수확률20%      최저기온19° / 최고기온31°\n",
      "일6.05.      오전 강수확률30%  흐림   흐림  오후 강수확률30%      최저기온18° / 최고기온28°\n",
      "월6.06.      오전 강수확률30%  흐림   흐림  오후 강수확률30%      최저기온17° / 최고기온26°\n",
      "화6.07.      오전 강수확률30%  구름많음   구름많음  오후 강수확률30%      최저기온15° / 최고기온26°\n",
      "수6.08.      오전 강수확률0%  맑음   구름많음  오후 강수확률30%      최저기온15° / 최고기온27°\n",
      "목6.09.      오전 강수확률0%  맑음   구름많음  오후 강수확률30%      최저기온16° / 최고기온28°\n",
      "금6.10.      오전 강수확률0%  맑음   구름많음  오후 강수확률30%      최저기온17° / 최고기온29°\n",
      "토6.11.      오전 강수확률0%  맑음   맑음  오후 강수확률0%      최저기온18° / 최고기온29°\n",
      "일6.12.      오전 강수확률0%  맑음   맑음  오후 강수확률0%      최저기온18° / 최고기온29°\n",
      "월6.13.      오전 강수확률0%  맑음   맑음  오후 강수확률0%      최저기온18° / 최고기온30°\n"
     ]
    }
   ],
   "source": [
    "for i in range(len(arr_elements)):\n",
    "    print(arr_elements[i])"
   ]
  },
  {
   "cell_type": "code",
   "execution_count": 24,
   "id": "ab6bd9cc",
   "metadata": {},
   "outputs": [
    {
     "data": {
      "text/plain": [
       "['오늘6.03.',\n",
       " '오전',\n",
       " '강수확률10%',\n",
       " '구름많음',\n",
       " '맑음',\n",
       " '오후',\n",
       " '강수확률0%',\n",
       " '최저기온19°',\n",
       " '/',\n",
       " '최고기온31°']"
      ]
     },
     "execution_count": 24,
     "metadata": {},
     "output_type": "execute_result"
    }
   ],
   "source": [
    "arr_elements[0].split()"
   ]
  },
  {
   "cell_type": "markdown",
   "id": "49f76336",
   "metadata": {},
   "source": [
    "<hr>\n",
    "<marquee><font size=3 color='brown'>The BigpyCraft find the information to design valuable society with Technology & Craft.</font></marquee>\n",
    "<div align='right'><font size=2 color='gray'> &lt; The End &gt; </font></div>"
   ]
  }
 ],
 "metadata": {
  "kernelspec": {
   "display_name": "Python 3 (ipykernel)",
   "language": "python",
   "name": "python3"
  },
  "language_info": {
   "codemirror_mode": {
    "name": "ipython",
    "version": 3
   },
   "file_extension": ".py",
   "mimetype": "text/x-python",
   "name": "python",
   "nbconvert_exporter": "python",
   "pygments_lexer": "ipython3",
   "version": "3.9.7"
  }
 },
 "nbformat": 4,
 "nbformat_minor": 5
}
