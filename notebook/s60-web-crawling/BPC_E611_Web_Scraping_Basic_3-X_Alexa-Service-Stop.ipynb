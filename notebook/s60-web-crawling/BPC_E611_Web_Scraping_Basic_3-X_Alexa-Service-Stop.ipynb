{
 "cells": [
  {
   "cell_type": "markdown",
   "metadata": {},
   "source": [
    "# Industry 4.0 의 중심, BigData"
   ]
  },
  {
   "cell_type": "markdown",
   "metadata": {},
   "source": [
    "<div align='right'><font size=2 color='gray'>Data Processing Based Python @ <font color='blue'><a href='https://www.facebook.com/jskim.kr'>FB / jskim.kr</a></font>, [김진수](bigpycraft@gmail.com)</font></div>\n",
    "<hr>"
   ]
  },
  {
   "cell_type": "markdown",
   "metadata": {},
   "source": [
    "## <font color='brown'>웹 스크레이핑을 위한 기본 지식 </font>"
   ]
  },
  {
   "cell_type": "markdown",
   "metadata": {},
   "source": [
    "### 웹사이트에서 순위 데이터 가져오기\n"
   ]
  },
  {
   "cell_type": "code",
   "execution_count": 1,
   "metadata": {},
   "outputs": [],
   "source": [
    "import os\n",
    "from os.path import exists\n",
    "\n",
    "import requests  \n",
    "from bs4 import BeautifulSoup "
   ]
  },
  {
   "cell_type": "markdown",
   "metadata": {},
   "source": [
    "#### <font color='#0000CC'>웹 사이트 순위 : Alexa - Top Sites in South Korea</font>"
   ]
  },
  {
   "cell_type": "code",
   "execution_count": 2,
   "metadata": {},
   "outputs": [
    {
     "data": {
      "text/plain": [
       "<title>End of Service Notice</title>"
      ]
     },
     "execution_count": 2,
     "metadata": {},
     "output_type": "execute_result"
    }
   ],
   "source": [
    "url = \"https://www.alexa.com/topsites/countries/KR\"\n",
    "\n",
    "html = requests.get(url).text\n",
    "soup = BeautifulSoup(html, \"lxml\")\n",
    "soup.title"
   ]
  },
  {
   "cell_type": "code",
   "execution_count": 3,
   "metadata": {},
   "outputs": [
    {
     "data": {
      "text/plain": [
       "0"
      ]
     },
     "execution_count": 3,
     "metadata": {},
     "output_type": "execute_result"
    }
   ],
   "source": [
    "# p 태그의 요소 안에서 a 태그의 요소를 찾음\n",
    "website_ranking = soup.select('p a')\n",
    "len(website_ranking)"
   ]
  },
  {
   "cell_type": "code",
   "execution_count": 4,
   "metadata": {},
   "outputs": [
    {
     "data": {
      "text/plain": [
       "9"
      ]
     },
     "execution_count": 4,
     "metadata": {},
     "output_type": "execute_result"
    }
   ],
   "source": [
    "top_sites = soup.find_all('div')\n",
    "len(top_sites)"
   ]
  },
  {
   "cell_type": "code",
   "execution_count": 5,
   "metadata": {},
   "outputs": [
    {
     "data": {
      "text/plain": [
       "<div>\n",
       "<div>\n",
       "<header id=\"alx-header\">\n",
       "<div>\n",
       "<section class=\"alexa-logo\" id=\"alexa-logo\">\n",
       "<img alt=\"Alexa logo\" src=\"data:image/png;base64,iVBORw0KGgoAAAANSUhEUgAAAgAAAABiCAYAAAAm22uCAAAE4HpUWHRSYXcgcHJvZmlsZSB0eXBlIGV4aWYAAHjapZZrluQmDEb/s4osAb2QWA7Pc7KDLD8ftqvTU9OTpBP72GBKJYSuJEjrj993+g0XWYmk5lFqKRmXVq3c0Il8X+16U9br/br4Gf1hPBX++JmyoJX7M8rd0mv8pehpqaFnnxTFeH7oP/5Q9dEfb4qeieRYdIyYj6L6KBK+f6BHQbuXlUsN/7yEvu52vhYa95POS/xe90vJ+7c6vDcNg8K8hCTjLfIYIOfhJA0dvd5wB4TuftzjjyVwyFd++rgqLNrHVP1S6J0WfUVLXs5+p6X8iMibk8tH++V4IvuayuX6TzNrPD3+cXze9sGiN++fZ+8Z+1ozpJoWuLo8i3ot8epBrmOKM3UkmFay4zGo8OuuuANRPUBt5pE77kGVGLg2KU1qtGld7aABE5VXYkeHebBcgyHOlYfc/HDTZpcqExxZxoVdhT9soWvamke6ZgvMPAmiTFBGJy6+e6fv/mHvkwpEVyDfXoNdzMfZMOOQO2+IgQHtx6l2Ofh1v1+Hq4CZHS+fFKlwbL9VdKO/KoFcoAWChvZOF/L5KICLMLXBGBIQADUSo0LZmZ0IjgwAajCdRbmDAJnxhJGsIgVsgs/U+IvTJcrGGE4YRzEDCZMiDjZVGmCpGuLHNRBDzcTUzIq5hVVrRYoWK6V4OUWxubgmNy/uHl69hYSGRQmPiBqtchUUTauleo1aa2uYs0Fzw78bBFrr3KVrt9RL9x699jYQPkOHjTJ8xKijTZ4yUT9mmT5j1tkWLYTS0mWrLF+x6mobobYlbd22y/Ydu+72Qe3B+tP9DWr0UOOL1BH0D2oYdX+poJOudpgBGCclEPeDAAHNh1kOUuVD7jDLlZEVxjDSDjNkO4iBoC5i2/Ril/gmesj9L27J9Qdu/F/JpYPum+R+5vYVtXm2oXERu7PwODULsm+7NI7G/WwKVw95+9Gm94F/13LXVbEUzytKo9Z7wka1lWVzaza5W/TeGNtP60BJAW9WlNRTV/MRKTGjyIAnZay1Sgu1drSnL6dtu4VviJfV94L7jioW8G99oc6erzw7PAGPna8RaV4bqZEaijci6PTOHvvdNr0NIFYQutqHO9XWETttyZ4l72amKOi2BipFk4J0ULbeq1id5gnEEaNNZPZKhrCxCTC8bfXWB4KDcGYag3gvbEkzbM5RLq/ZwCKGIxr6NBT/yjkQ6nUsEPddp9cdMQZw0GreBW63zTOv2iy0VSs0Zu40qxECTvtRNRICuA3PwwgWxVzC2NomstV44SQxARfxU1lJpNYlDli7qiNY3RZKKMAK0iRNC+xZMBiQJi0whuXLuCNJbF6uc8yE6mzQL3spHQvvpe2NdO1w7LaE5dZc5vQ9nRxyBeH2dyH8izb9o2DDBIglrBfGbgXLpmv2OQA1ygKNbigsp7Cpjo1xQPAJnlS99Br4E8R8lq6sM6MwKKqz1bp99IIzAWJ8lFVQ8qZuxBFXFB6UGEXA6Gwz2qqFSgkl7YoQDcHM19FgIzxwPLB1TiztbFKKc10gBMgSyi0j+csdkjiSvLLgyQEs7mQB5rf4VepoppX8yQ/EtV3K8n9r06cBkOsxt6LkYcBOFc/NAXkhD9blfSQ78v+XipBD9RhJy+S006XsZZcYFrnnObX+CXSo7J0BdrylAAABhWlDQ1BJQ0MgcHJvZmlsZQAAeJx9kT1Iw1AUhU/TakUqDlYQdchQnSyIijhqFYpQodQKrTqYvPQPmjQkKS6OgmvBwZ/FqoOLs64OroIg+APi6OSk6CIl3pcUWsR44fE+zrvn8N59gFAvM9UMjAOqZhmpeEzMZFfF4CsC8KEfnRiSmKnPJZMJeNbXPfVS3UV5lnffn9Wj5EwG+ETiWaYbFvEG8fSmpXPeJw6zoqQQnxOPGXRB4keuyy6/cS44LPDMsJFOzROHicVCG8ttzIqGSjxFHFFUjfKFjMsK5y3OarnKmvfkLwzltJVlrtMaRhyLWEISImRUUUIZFqK0a6SYSNF5zMM/6PiT5JLJVQIjxwIqUCE5fvA/+D1bMz854SaFYkDHi21/jADBXaBRs+3vY9tunAD+Z+BKa/krdWDmk/RaS4scAb3bwMV1S5P3gMsdYOBJlwzJkfy0hHweeD+jb8oCfbdA95o7t+Y5Th+ANM0qcQMcHAKjBcpe93h3V/vc/u1pzu8HAoJyenskrvYAABGtaVRYdFhNTDpjb20uYWRvYmUueG1wAAAAAAA8P3hwYWNrZXQgYmVnaW49Iu+7vyIgaWQ9Ilc1TTBNcENlaGlIenJlU3pOVGN6a2M5ZCI/Pgo8eDp4bXBtZXRhIHhtbG5zOng9ImFkb2JlOm5zOm1ldGEvIiB4OnhtcHRrPSJYTVAgQ29yZSA0LjQuMC1FeGl2MiI+CiA8cmRmOlJERiB4bWxuczpyZGY9Imh0dHA6Ly93d3cudzMub3JnLzE5OTkvMDIvMjItcmRmLXN5bnRheC1ucyMiPgogIDxyZGY6RGVzY3JpcHRpb24gcmRmOmFib3V0PSIiCiAgICB4bWxuczp4bXBNTT0iaHR0cDovL25zLmFkb2JlLmNvbS94YXAvMS4wL21tLyIKICAgIHhtbG5zOnN0RXZ0PSJodHRwOi8vbnMuYWRvYmUuY29tL3hhcC8xLjAvc1R5cGUvUmVzb3VyY2VFdmVudCMiCiAgICB4bWxuczpkYz0iaHR0cDovL3B1cmwub3JnL2RjL2VsZW1lbnRzLzEuMS8iCiAgICB4bWxuczpleGlmPSJodHRwOi8vbnMuYWRvYmUuY29tL2V4aWYvMS4wLyIKICAgIHhtbG5zOkdJTVA9Imh0dHA6Ly93d3cuZ2ltcC5vcmcveG1wLyIKICAgIHhtbG5zOnBob3Rvc2hvcD0iaHR0cDovL25zLmFkb2JlLmNvbS9waG90b3Nob3AvMS4wLyIKICAgIHhtbG5zOnRpZmY9Imh0dHA6Ly9ucy5hZG9iZS5jb20vdGlmZi8xLjAvIgogICAgeG1sbnM6eG1wPSJodHRwOi8vbnMuYWRvYmUuY29tL3hhcC8xLjAvIgogICB4bXBNTTpEb2N1bWVudElEPSJhZG9iZTpkb2NpZDpwaG90b3Nob3A6NWIyYjIxY2QtZmYwOS0xMTc5LTg0MDgtODc2NThlMGFiMGRiIgogICB4bXBNTTpJbnN0YW5jZUlEPSJ4bXAuaWlkOjcyM2E5MThjLTRiYTctNDJlOC1hYTU5LTAwYTFjMDkxZmM3YyIKICAgeG1wTU06T3JpZ2luYWxEb2N1bWVudElEPSJ4bXAuZGlkOmJmMWE0YzFjLTFlNTAtNGIwOS05NDkyLWRlNTVkZDU0ODk2NyIKICAgZGM6Zm9ybWF0PSJpbWFnZS9wbmciCiAgIGV4aWY6Q29sb3JTcGFjZT0iMSIKICAgZXhpZjpQaXhlbFhEaW1lbnNpb249IjUxMSIKICAgZXhpZjpQaXhlbFlEaW1lbnNpb249Ijk3IgogICBHSU1QOkFQST0iMi4wIgogICBHSU1QOlBsYXRmb3JtPSJNYWMgT1MiCiAgIEdJTVA6VGltZVN0YW1wPSIxNjQ4ODQ3Mjg3ODM2MTAzIgogICBHSU1QOlZlcnNpb249IjIuMTAuMzAiCiAgIHBob3Rvc2hvcDpDb2xvck1vZGU9IjMiCiAgIHRpZmY6T3JpZW50YXRpb249IjEiCiAgIHRpZmY6UmVzb2x1dGlvblVuaXQ9IjIiCiAgIHRpZmY6WFJlc29sdXRpb249IjcyMDAwMC8xMDAwMCIKICAgdGlmZjpZUmVzb2x1dGlvbj0iNzIwMDAwLzEwMDAwIgogICB4bXA6Q3JlYXRlRGF0ZT0iMjAxNi0xMi0wOVQwODozMTozNi0wODowMCIKICAgeG1wOkNyZWF0b3JUb29sPSJHSU1QIDIuMTAiCiAgIHhtcDpNZXRhZGF0YURhdGU9IjIwMTYtMTItMTJUMDg6NDc6MjktMDg6MDAiCiAgIHhtcDpNb2RpZnlEYXRlPSIyMDE2LTEyLTEyVDA4OjQ3OjI5LTA4OjAwIj4KICAgPHhtcE1NOkhpc3Rvcnk+CiAgICA8cmRmOlNlcT4KICAgICA8cmRmOmxpCiAgICAgIHN0RXZ0OmFjdGlvbj0iY3JlYXRlZCIKICAgICAgc3RFdnQ6aW5zdGFuY2VJRD0ieG1wLmlpZDpiZjFhNGMxYy0xZTUwLTRiMDktOTQ5Mi1kZTU1ZGQ1NDg5NjciCiAgICAgIHN0RXZ0OnNvZnR3YXJlQWdlbnQ9IkFkb2JlIFBob3Rvc2hvcCBDQyAyMDE0IChNYWNpbnRvc2gpIgogICAgICBzdEV2dDp3aGVuPSIyMDE2LTEyLTA5VDA4OjMxOjM2LTA4OjAwIi8+CiAgICAgPHJkZjpsaQogICAgICBzdEV2dDphY3Rpb249InNhdmVkIgogICAgICBzdEV2dDpjaGFuZ2VkPSIvIgogICAgICBzdEV2dDppbnN0YW5jZUlEPSJ4bXAuaWlkOjliYThhYmYwLTg1YjktNDViMi04MWIyLWNlMzA3NTAzZmI5ZCIKICAgICAgc3RFdnQ6c29mdHdhcmVBZ2VudD0iQWRvYmUgUGhvdG9zaG9wIENDIDIwMTQgKE1hY2ludG9zaCkiCiAgICAgIHN0RXZ0OndoZW49IjIwMTYtMTItMDlUMDg6NDA6MzgtMDg6MDAiLz4KICAgICA8cmRmOmxpCiAgICAgIHN0RXZ0OmFjdGlvbj0ic2F2ZWQiCiAgICAgIHN0RXZ0OmNoYW5nZWQ9Ii8iCiAgICAgIHN0RXZ0Omluc3RhbmNlSUQ9InhtcC5paWQ6MTlmZmYyM2QtMDA5Ni00OWIxLWJlZDUtNjc0MDM5YTU3ZDExIgogICAgICBzdEV2dDpzb2Z0d2FyZUFnZW50PSJBZG9iZSBQaG90b3Nob3AgQ0MgMjAxNCAoTWFjaW50b3NoKSIKICAgICAgc3RFdnQ6d2hlbj0iMjAxNi0xMi0xMlQwODo0NzoyOS0wODowMCIvPgogICAgIDxyZGY6bGkKICAgICAgc3RFdnQ6YWN0aW9uPSJzYXZlZCIKICAgICAgc3RFdnQ6Y2hhbmdlZD0iLyIKICAgICAgc3RFdnQ6aW5zdGFuY2VJRD0ieG1wLmlpZDo0OWZhNDk5NS0wOTUzLTQzMjAtOGFjOS1hYmE3OTc3Mjk3M2MiCiAgICAgIHN0RXZ0OnNvZnR3YXJlQWdlbnQ9IkdpbXAgMi4xMCAoTWFjIE9TKSIKICAgICAgc3RFdnQ6d2hlbj0iMjAyMi0wNC0wMVQxNDowODowNy0wNzowMCIvPgogICAgPC9yZGY6U2VxPgogICA8L3htcE1NOkhpc3Rvcnk+CiAgPC9yZGY6RGVzY3JpcHRpb24+CiA8L3JkZjpSREY+CjwveDp4bXBtZXRhPgogICAgICAgICAgICAgICAgICAgICAgICAgICAgICAgICAgICAgICAgICAgICAgICAgICAgICAgICAgICAgICAgICAgICAgICAgICAgICAgICAgICAgICAgICAgICAgICAgICAgCiAgICAgICAgICAgICAgICAgICAgICAgICAgICAgICAgICAgICAgICAgICAgICAgICAgICAgICAgICAgICAgICAgICAgICAgICAgICAgICAgICAgICAgICAgICAgICAgICAgICAKICAgICAgICAgICAgICAgICAgICAgICAgICAgICAgICAgICAgICAgICAgICAgICAgICAgICAgICAgICAgICAgICAgICAgICAgICAgICAgICAgICAgICAgICAgICAgICAgICAgIAogICAgICAgICAgICAgICAgICAgICAgICAgICAgICAgICAgICAgICAgICAgICAgICAgICAgICAgICAgICAgICAgICAgICAgICAgICAgICAgICAgICAgICAgICAgICAgICAgICAgCiAgICAgICAgICAgICAgICAgICAgICAgICAgICAgICAgICAgICAgICAgICAgICAgICAgICAgICAgICAgICAgICAgICAgICAgICAgICAgICAgICAgICAgICAgICAgICAgICAgICAKICAgICAgICAgICAgICAgICAgICAgICAgICAgICAgICAgICAgICAgICAgICAgICAgICAgICAgICAgICAgICAgICAgICAgICAgICAgICAgICAgICAgICAgICAgICAgICAgICAgIAogICAgICAgICAgICAgICAgICAgICAgICAgICAgICAgICAgICAgICAgICAgICAgICAgICAgICAgICAgICAgICAgICAgICAgICAgICAgICAgICAgICAgICAgICAgICAgICAgICAgCiAgICAgICAgICAgICAgICAgICAgICAgICAgICAgICAgICAgICAgICAgICAgICAgICAgICAgICAgICAgICAgICAgICAgICAgICAgICAgICAgICAgICAgICAgICAgICAgICAgICAKICAgICAgICAgICAgICAgICAgICAgICAgICAgICAgICAgICAgICAgICAgICAgICAgICAgICAgICAgICAgICAgICAgICAgICAgICAgICAgICAgICAgICAgICAgICAgICAgICAgIAogICAgICAgICAgICAgICAgICAgICAgICAgICAgICAgICAgICAgICAgICAgICAgICAgICAgICAgICAgICAgICAgICAgICAgICAgICAgICAgICAgICAgICAgICAgICAgICAgICAgCiAgICAgICAgICAgICAgICAgICAgICAgICAgICAgICAgICAgICAgICAgICAgICAgICAgICAgICAgICAgICAgICAgICAgICAgICAgICAgICAgICAgICAgICAgICAgICAgICAgICAKICAgICAgICAgICAgICAgICAgICAgICAgICAgICAgICAgICAgICAgICAgICAgICAgICAgICAgICAgICAgICAgICAgICAgICAgICAgICAgICAgICAgICAgICAgICAgICAgICAgIAogICAgICAgICAgICAgICAgICAgICAgICAgICAgICAgICAgICAgICAgICAgICAgICAgICAgICAgICAgICAgICAgICAgICAgICAgICAgICAgICAgICAgICAgICAgICAgICAgICAgCiAgICAgICAgICAgICAgICAgICAgICAgICAgICAgICAgICAgICAgICAgICAgICAgICAgICAgICAgICAgICAgICAgICAgICAgICAgICAgICAgICAgICAgICAgICAgICAgICAgICAKICAgICAgICAgICAgICAgICAgICAgICAgICAgICAgICAgICAgICAgICAgICAgICAgICAgICAgICAgICAgICAgICAgICAgICAgICAgICAgICAgICAgICAgICAgICAgICAgICAgIAogICAgICAgICAgICAgICAgICAgICAgICAgICAgICAgICAgICAgICAgICAgICAgICAgICAgICAgICAgICAgICAgICAgICAgICAgICAgICAgICAgICAgICAgICAgICAgICAgICAgCiAgICAgICAgICAgICAgICAgICAgICAgICAgICAgICAgICAgICAgICAgICAgICAgICAgICAgICAgICAgICAgICAgICAgICAgICAgICAgICAgICAgICAgICAgICAgICAgICAgICAKICAgICAgICAgICAgICAgICAgICAgICAgICAgICAgICAgICAgICAgICAgICAgICAgICAgICAgICAgICAgICAgICAgICAgICAgICAgICAgICAgICAgICAgICAgICAgICAgICAgIAogICAgICAgICAgICAgICAgICAgICAgICAgICAgICAgICAgICAgICAgICAgICAgICAgICAgICAgICAgICAgICAgICAgICAgICAgICAgICAgICAgICAgICAgICAgICAgICAgICAgCiAgICAgICAgICAgICAgICAgICAgICAgICAgICAgICAgICAgICAgICAgICAgICAgICAgICAgICAgICAgICAgICAgICAgICAgICAgICAgICAgICAgICAgICAgICAgICAgICAgICAKICAgICAgICAgICAgICAgICAgICAgICAgICAgCjw/eHBhY2tldCBlbmQ9InciPz7fgNG3AAAABmJLR0QA/wD/AP+gvaeTAAAACXBIWXMAAAsTAAALEwEAmpwYAAAAB3RJTUUH5gQBFQgHDaXtqgAAIABJREFUeNrtnXd4HcXVxn8jt8VmbQyyjbM2nWDAdIgNocYhdEjoTuiEklDzhZLQE0JNQigBAqGFJlrovZrQMc0G00LHY8CIItaGddN8f8y50fr63rtzm3Qlz/s8eq6kOzs7Ozu758wp71F0AySxHgYsCSwOLAE0Ab2A5QADvA/Mk+atQBvwSRBG0/Dw8PDoxtBT9XrAG9GIaIafDY9aoneDCfpewPeANYCNgNHAcPnfUECV0V1rEutpgAbeAZ4BngWmBWE0y996Dw+PboKTgKOBN/1UePQ4BSCJ9abABsDWwHpA3xp02yw/q8vfhwFzgclJrO8BJgL3B2E0xy8DDw+PBsZ0wL+nPHqOApDEelVgP2AzYK1OvN615QfgrSTWTwKXB2H0jF8OHh4eHh5eAaif4P8psC+wfQNc/0rys38S60eA64MwusIvCw8PDw8PrwDURuj3AfYAjqTDJN9oGAeMS2J9FHA1cEEQRjP9EvHw8PDw6Ilo6gThvwPwBHBFAwv/NFYGzgCeTWK9r18iHh4eHh5eAShP8C+fxPoW4HZgTDecm9HAFUmsH0tivaFfKh4eHh4ePQl1cQEksf4tcAqwaB26/wT4BpiGzf1vAtqxqYIDsXwBtbyuTYEnklj/BTgpCKPv/LLx8PDw8PAKwPyCfzhwCbBdDbr7EEvwMxmYBEzBkvx8A8wKwuibvHMvCgSidCwOrAj8QHbyy8rf1eAoYMMk1r8KwugVv3Q8PDx6Kowx/YEVgEQp9bafkZ4JVauOkljvBFyEJeypFFOAm0XgPxaEUVuNxtYXSyy0NrAD8MMquvsOOCIIo3/65ePh4VFv6Kn6cuD0aET0bicqAHcB2wKzgSOUUv/wd8IrAMUE7O+B0ys8vBW4FxskODEIo2/recFJrHsDqwK/ArYAlqmwqwuDMDrULyEPD4+epAAYY0YBb6T+9ZpSajV/J3oeqnYBJLG+FDiggkOnAn8Hrg3CSHfWBQdhNFcsDAcnsQ6B8ViWwNFldnVIEuvlgd1rZanw8PDwaADsJ59zgD7AaGPMWKXUs35qehYqzgJIYt1HovzLFf6fYwME1wzC6KzOFP4FlIE4CKNLsfTDRwLlathbAvcnsR7sl5KHh0d3hzGmCesmBTgLeFl+39HPjrcA5IS/Au7DkueUgwuAMxutSl8QRglwXhLry7BFN44TzdcFY4HnklhvEYTR+915Mch9vQQYUqLZOUEYPdEFYzsQ2Cqj2X+DMDrGP9YeHhVjY+D72FinPwIJlqp9F2PMH5RSM/MUhmHAhcC7SqljjTGrYS2qa4gFYRJwglLqKz+1PUABSGIdYAP1yhH+bwC/DcLovkaeDGH+OyWJ9X2yqNdxPHRF4K4k1usHYRR34/XwQ7ItOnOxxE6djXHATzPaaMArAB4elWNb+XxYKTXHGPOi/L0MtmDbQ3ntVwB2AuYYY97ExnLlv1N+YIzZVin1mZ/exkIlLoArU4vEBZcC6zS68M9TBJ4Lwmhd4LQyDlsVuDuJdb9uvB5+7tBmiyTWQ7tgbK0ObbR/pD08KoMxZlFsnRawBG4AjwDvye97FDisHTBYi+kVskE4H/iJbKIA1gXO9DPczRWAJNanAbu7ridg/yCMDuqu5DlBGJ2A9X1NdzxkY+DG7nitSaz7Az9zaBoCP/aPjodHj8MWWA6VBLgbQCk1B7hNvt/OGDOwwHs+hy+BMUqpI5RSDymlDgVule+2NsYM8lPcTRWAJNa/xPrGXfA1sGVPqKwXhNFtItjfdDxkhyTWp3bDS90Ky6LoAl8jwcOj52Ev+bxfKZXe9PxbPgfTESCYRi6dfCel1Et53+X4AxYDIj/F3VABSGK9Ch3mnCx8AGwehNGDPWWSgjB6C9gcS1TkghOSWO/czS5znzLabiopkB4eHj0AEsw3Tnb0584n3ZV6BnhS/ty1SBftFM6iyikSs7FBgR7dSQFIYt2EDfrr6yj8Nw7C6IWeNlFBGE0VS8Bkx0OuTmK9THe4tiTWI4AflXFIbwr7Az08PLontgUGYM3/KxpjdjDG7C4/44AvpN3mxpjlivQRFvhfXz+13dsCcAGwikO76cB2QRh93FMnKwijL7G5/686NF8ES43cHbAD0L/MY3ZOYt3LP0IeHj0Cu6beW//EBgG2yM/DdJj+++E5AXoMemfsDDcDfu3QjwG2DcLotZ4+YUEYfZLEenNgIjAyo/lWSax/GYTRZQ1+WbtUcMxobJrk8/4x8vDovjDGrERHWvd/gHcKyIZ5svkZjk37+4ufuR6sAEg62yWO/ewWhNHEhWXSgjD6LIn1T4FnyDZxnZfE+s4gjKY34rUksV4d2KTCw/f0CoCHR7fHz4FeWPKfbZRSM4ooCicApwJjjDFrKKUmUcOCch6dj1IugMNwK6F7dhBGNy9sExeE0UvYgkJZ6A+c3cCXUo0vf3spruTh4dF9kUv/vbeY8BfcIZ8K2F5+n+unr4cpAEmshwF/cjj+uSCMju2CXatKYh3k/XS6P1rSHF3KAu+dxPoHDbj7740151WKpXDjDvDw8GhAGGM2B3KV/v5Vqq1S6lU6sgF+bYzplVIAmsSKkI8cpfoiRb736EIU2739BhvsUQpz6IRI8CTWi2B9zath2faWB4ZifVFpBeaLJNYa+Bh4AXgNeEaq/9UTv8Hm0I/IaHcS5TEodgY2AZarso+dsFkiHh4e3Q8ryed/caP4bgE2xHKGRNjg7/bc67pA+6/lczbWxeDRyApAEuvhgEud+98EYfROHQX/D7C56eOwxSmyMIyObIVcOcspSawfAC4IwuiDOlkBZiaxPhhhziqBbZJYb9QVhXRKYNca9LFDEuvvNVqBJw8PDydci+U3eVUp9bVD+4tlg9UOfKaUmmWMWVM2Y+8WsBq8boxZGxso/pGf7sZCIRfAodh80FKYEoTRhfUYUBLr1aXM8DNYH3sx4d/u0N2qwP8BLyWxPrxekxiE0T10sGWVwtGNcuOTWA+ksuj/BS6fwuxgHh4eDQ6l1NdKqceUUq2O7Y1S6nml1AtKqVnyv1eVUpOUUu1FjnlZKfWKUsr4GW9gBSCJ9WK4BbYdViehdBzwEtasPJ95H5uXejiwDbYq1RpYTvrdRSsttcMfjI3G/1cd5/JIYGZGm+2EVbERsIvMSynMBqY69PUL/yh5eHh4dC/kuwD2dBAKjwRh9FiNBf8i2ACU/B3pdOAc4IogjD4vcGiOd+DGJNZ9sJwFv8e6AwphryTWvYIwqnnsQhBGU5NYXwMcnNF0HxqjZK1LUScNHA9cTWnOiDFJrEcvDDwQHh4eHj3SAiAKQBZOrLHw7wXcW0D4Pw+sHYTRWUWEf74AnhOE0XnYgMHnSu1Wk1jXyxR/GvBtRpu9xfzeZUhivRRuuf+PBWHUQjbzYbXZBB4eHh4eXWUBEEKYNTPaTwzC6Jkaj+EqYNO8/32GZRb8vNzOgjDSSay3AZ6iI8I1H6cmsb4+CKOa1o8XK0ALsH+JZkOxtbJv6cL7/lM60nNK4X75fBBYK6PtbkmsT+uErIuGg1if1gJGAUtgS6ouiU2R0ljX0FTgrSCMJtfwvAOAgaJ0lvKvKsAEYfRNjc67mJwv65z9gbYgjL6t8nwrYLNVRgCDsORbI7FpZU3YMrTTZb4/wWYCvRmEUZt/xXt4OCgAWH7nLKFwXo1fnLtSOJXw60qEf0oQf5HEejfglSJN+mHdBcfXYU4vylAAAHbrYgVgL4c2XwCPyO//wgYwliKOWhmbHjRhIRH6/eV69wZ+ACxLdp7zd0ms38daqK6pgSutvyhpgzOEMYBJYn1MEEY3VXnde2E5QrLO1ySCeGuyrWL55+iLtVDtInO7jAh+V7QDU5NYfwQ8ANwdhNEr/nXv4bHgQ5rD1hltNXBrDV+gTcBxRb5eKYn1gVXuxicBd5ZoMk52bjWFMAQ+l9FswyTWi3aR4BqDdZNk7v6l+BFBGL2BDc7Mwp4Lw0OTxHof4GkRLj8HVsCN5GQRbKrqvsCjSawfESW40rX2OTaNaySWlKnUz9LAubJ7r2bnf77j+UYA/wrC6Osyz7EHNh/9QeAAbLDvoArea0uJgnYq8HIS6zuSWHvSKg+PfAVATGzrZrS9NQijWhI5rCMPdzGck8R6VJXnuKbEd8tjzbX1wA0Z3y8pL6euwM8rvIYbHI7ZLon1oJ76sCSxXiGJ9ePAlRlr1xU/wgaw3pTEemQlHQRh9GeyOShyGA6cXsV4TytDGN8ShNElZc7tHfLM1oM1c3vg1iTWtyexXt6/+j08OiwAPyG7qMOdNT736hnfDxDtvRq8iq1iVQhLAIvVaV5vxTIllsLYLhBgAW6lPD+hw/z/P4sA2dwLQ8i2JHVX4b8rNjB14zp0vwvwQhLrSpkif0kH41oWDpJ4n3Kvfz3cKoMCfAocVEbf28jcbt8Jt3IHYGIS6x65Tj08ykEuBmD9jHbTsMQ8tURfhzbbJrFeOgijDys8x+dY+slC5naFWyBcJbuyj5JYPw/8sESzDbrgfm9MNmUxwE351p4gjKYksX4FWDvj2J2wdKE9SfjvI7v+emIocFcS659L5kU56+2zJNaHUdrilVb6zwM2K3N8fy+j7cE595GjYnVjJ9/SwcA9Say3CcLoXi8GLIwxPwM2wgZP98MGrj4K/FspNTOv7Ths0GuCDeQ2WAbWtYAZwB1Kqael7TLyXvg+8D5ws1Lq3SJjGAtsgbUQ98fGIj0hY/gkr+3K8k4rFJCq5GeyUuqZvONWAjaX8ShgEvCAUurjvHbDZEPTH3hfKXWvHLubvEffBlqUUjpjXjcQ5XYdkUl3KaVairQdKnP1I6AZeBG4USk1MdVGyQZyrlJqojFmBSwl/WiR0+fl5kqu4QDp7y3gSqXU/yq49k5ireTAUng6CKOZtX6vurzbZKIrVQDaq/y+GjyYoQCsn8R6sXJ9pFViL8d2xVgNb3FQAH6WxHqpIIx6BO1nEusdOkH4p3F9EuvWIIweKlMJuFZ2teMdmm+axPrXQRhd5DgH++Julr8hCKM7HPvdi4wCNHXGjUms1wzC6N2FXPCviOX6KGSV3Bv4vTFme6XUf6V9f1Haci7UFURpSMdYHCOFhj7FFhBKu45ONsaMV0rdnhpDf+CyIut3V+AkY8xhSqm0sniEg6XpXRlf7jz7Ycvc5/OafG2MOVwplVai9wXOkN/fNsbEwEPMXyfnd8aYcVIaudDc5koopzHeGLMnsGu6+qIxZmOsq3V4+lkFfmuMOVEplSvQtww2BskYY7YG7svb5O1jjBkl43xPFBhE6T/YGLOfUurK3G4gSk9QETxeh3X3tEObGUA19QaauvC5ygqaW5Ta+JFdBVkzbpS9H5S4NzfiFv29cw8R/ss57qprjWulIme5OBzrvnHBSUmsl3CYg0G4VQYFm75bDuX24C6+xYtiWUQXZuEfALdR2iU5CviHMSZnMe0n72awqZdHUrgq6L+wHC+DCmzsLjXGpP//twzldQhwjTEmHSvTt8xr3RO4nMKkZosBV4tlI4e0hXigWDryi+QtAZxS5Hw7poT/PWI5OE3mbivgL6m2I2XjNVwsLweI9eFRaXKq9Ac2mDiXWXMf8BU2tusQ6XsYcKEoE/2xzL27iDIGcL4xZggyEctQ2ERerrAuC0EYvZXE+vyMF8bNQRh91k2frZexftlScQar1Um5KoTdHe4zwHVBGM0rcs/ek+JKWzpYGs7pAe/HG4CwjPaT5YF8nY4yqX1FK98yT7MvhaFy7s3KfKZaJXvmLofmw4CzyU5ZPRf4nuMQDiwnfTcIo/OSWLdjMwuyMEfm9VVRUmdjMy/myUtuOayJddkyFf/Nk1jvEoTRwlrR8jBszZQcrsJmlqwuu9+cwPsRNvvjPazlNGc97S0/X2GL/aQ3Nbl1M1XehaPzBPoKwIti9k9nfT0DnCzvqzPo4HPpI8/SdfL3pdK3AWbJOvhNasdLrq2Y1tPK3pey9ueKUjBU/n+5MWYlqXOQ5jRZUj5nYjPi0jVqNjfGDFVKTU8J9L7AWfLn3Uqp7eT3m4wxT4tCcJAx5myl1HvStlmuZw2lVM6Fdp8x5m4sBf65xpg7ZOxzse6LVmClXHtjTJvcv1yw9/pKqWfluzex/DgDsWm2t/SWByZrF/5JnRbfkVjSlD2KWB2O7q5PlRASTc1QADozGtk1BSqLn+AuBwVgjSTWqwVh9Gp3vX9JrPcE1nNs/pzsAh4Nwmh2ge+vSmIdygvnKLG6ZWHTJNa7B2F0Q5nr7u4k1jfhVulxvyTWFwdh9EKROVgDS13tgn8HYXRnBc/JBUmsZwH/oHAg8lfAP0UwvVtkfnPj7U9HmuVBuNef/yULb0nrL7Bm8hHAf5VS+8r/HzHGbMj8QcPNogDkIxYF4XVR5tJm+TewFV2/BK7P6y9XdC7B+qdHYGO2fqGUej8luP+ROmap3C8i2J5NCd2D8nbobwN/lt+3Zv4id2flXBDGmEvoYLhdGlu2vZAb9AOsdfN1bNDq6NR15BfQW5cOy/rJ6S8kluBNsaxsJnOae6f+PSX8c/iDWAxGYuP1XktZJ/6W1/5WkdfDsfEJz6bO+5ox5hVRokYimnJWPfgp2MCFeghJE4TRnrIozhNt7Z/A/kEYbRqE0RdV9v8l9fXzZ+G9jO+X7iRhtgJu0esvYwNiSuFesosegZsvulGF/4C0eS4DpwRhNDYIo/tLCacgjOIgjM7Fsm3e49j3mTKWcnFQGUp7qd23a+DfNMqI+i8wN5dig6Tyn9X7gDWDMDo2CKM3Ss2v9PNtEEYvBGF0iLwoXZk+N19YUwOVUlfImhya270bY5YwxgxnwUymYmvxEan2N7uAInW1UuoT2VFPyPtutozhFRGmETBcKfW+MWawmKmHuFyHMWZ9rNk7p/S1A7unfOyb5533obxNTRpbFDnNCUqpF5VS32HdJmnkr91czMybFKZSP06E9ZPGmDXocIc9UOAeTUzJks1SlhcKzOksUcgoYgnMxd4NyikAWbuRD+pN7xqE0W1BGB0ZhNEeQRgdGITRFVW8vIcksV4jifV2Sax/TZl+ohojK35hSCeNY2dKF/P5n/YYhJHJuFcfUJxhMY3dJcC0O2L3lEmwFI4JwugPZa71ViwV86MOzZcWzb/c5+lr3FP21k9ifUiB5+iXuHNVHFYDZf1uUQJmpxTNHSoNJg3CaKLs5Ga4yEGyg1t7shKQ8xufaIx5EmuGnob1WadRTKlMU0znZ1al3ydBEWGEUmquvKsPMMY8JFaJ6SwYQGcKCP8Aa/ZOW3xOV0q9LN8r5re2fiuWpbTQdNmYtRYaexHksq3eV0rNKTDntymldlJKvUVH/MXXJTbbOQVgubx5yHfX9slTgvKR+25uTgHIyoVvSB98Euu+SaxHJrHeOon16ULw8bzsYF/E8hZcWGDRdSY+yPi+s9gA93VoMxs3sh8AFzrZZbF+q+6IQx3a3CIkPJUIp7li9frUcTdfyTluxz0d8+wk1iNSz9bi2PgAF9wQhFFNGEKDMLpHlKNrsLVA5lTZ3yt0RHFnYSwLKYwx52DN5adgM5cCUZy+zRK+ebtRWNDt0jtP0UqjKTWG3bDU0Rdhy7wPxroDZpAdeHwR81uyn1RKnZh3nr5540jHiXyd2jWTUv6TEteSlUK+dP41lsBiKUWqGG127l0xssSYKOO7/w0uywytG2WhJrFeIon1LkmszwD+I1riPdgSwDtgfbbDcff91RvTMr4fJL7hes7ZxswfsFIMrwRh5JpxcRtuboBuRw2cxHo1stNiv3NUEkoJpzbgrw5Nx0k2QiU43FGB74/1M+ZwIm4R+l9UOw8F5uW+IIz2yrJElYHL8l7uxbACCyGMMftgA+dyeAfrvlsBG7HuogBUO4aVse7ffql1dQQ2+G8/Srhxhbtg37x37k5FZF36OublCcqmvOe7kDJTjkXzmyI79ELICf2+JWRXWI8NeZPDRfXuygWaxHp4EuvxSazvl939TcDvgDEZWliMjUrtyup0WWaiQdSPjTAHV1+8c7pbEEYf4+bH3tIl1azBsK3Dmq9Vdso/5WVXCkp2xZUI09Yy7v9+Say/n8R6GWxwrgv2r9b0X28EYTSd7LgWcM906EnCXzF/FtY3wBZKqRuUUp8VeL/WK636N3mC7wil1PlCzPNV3ndzUuMfwYIcHeelo/EF7XmbsYD5UxMXY/74hk9TArlSfCCfw4wxTQXmfnljzM7GmMHYODuwLuFirsdcsP6HFSgjJRWALK2utYsE/9pJrP+GTa26HhuYUSpe4RNsnvqpogGOkZ8ZXfiMZT0w8xw1xErnsD9uuf8JCwa1ZMGFQW0gFfiwuxjrO7SpCdOhWAFc3C4bVnGOx7BpTi64vIy2La6EPw2AKQ5tBrPwoRepqHrgc0lJy2GjIkKo1rE9q+X9/UCJtZ8W1IVqU/zKGDPFGHO7MeZ3xpjhSimDdQunFYA1U3/nB4C+VAOLx1vyuSqF03+vxAZMboNNezRyP1YpoCxEdFhxX+hMAQU2IKQzBf/6SaxvwXIPHIlNPSmGN7Fm1I2AtYIw2j0Io5OCMLpVKtjNoE50v90EW+GWez4hCKNyXT3342Za/UV3mSypdpdF0RznvUyqxcMObVaU6pmV4nCyM1JyL9sfObT7FGui7S5wYducuxC+H/JN4cONMRsaY3obY/YvsBYOMMb0qsNc5Qfh7WmM6WWMWYsFg1n3MMaExph+FE5tXkaE6A7Y+I87ZQd+QwFFIZQd+FF531VC/pVvun8Ua9oPmJ/jAGPMmJRy9YpkFTwlfxdyqR2KddMlWIbZmlnlXV4qIzpjJYqp/3IR/DuxIONSGtcDOwZhtHIQRkcFYfRkEZNsX+rkt+om2Nux3S3ldizz/R+Hpj9OYv39bjJf3ye7QuQr1NYq9g7ZhaOWp4qU0SCMvs1/CVWJQ8sh/GkALMybgKJQSs2TTVQO/bGpl09hYyfyd/o/A4al6WsLdZvxdyE8n/f3X7H0wU+wYKbUirKpmIMbSde6wJJKqSkiN3IYi+XvmMj8NNdnKKU+rOBaZhhjFjfGXGyMOUkp1UoH8dAJxpgDjTGLGmN+hKVdBnhMKfWa/P43+dzEGHO5MWaIMabJGHMM1uUNcJrM/eCM+Xa20LjEADR3gvDfSW7Gfg6CakwQRr8Iwui2bvCMtTvMf1Od5nQElu0pC19Rvvm/HMWhdzeyAriUn/68hgFqYKOvP85oswhu5EGllIBH5KVeLa4Mwujf3UzWteNRDCfn/b1oSiBewfyEOJcDrcaYgczvq27O23SlkTbZD8z7LrfJuxCb8pcWYmPl2IeYP5NjAjZ/Pmf6/0L+PhSbPbAtcDDWvP51ytIB1mr1bKqvlZnf/H+PUuq4ImMnb1Oa73poxaZNHgz8QdgEj8K6E5qw9QfewVZZ/T7WOn1EShm7lY6g4P1EMfuADjbBllQtgD4ppTbfGjAvpTQNKCHPB+YOznqZzann6ktifSxwZkazp4HjgzCaUGb3c7rYApCVgvgtbtH0lWDHAg9cITzqWrmtAO6WBzBr1/yzJNan1Fhw1gPLOLSpadBbEEazk1i7mFSXrMHpjsCysi1b4fEf4M4v0EhYmK2AWVaACbIrPQzLhdBLhM91SqmrhNL2GuANpdQpAO1zZirVu/9l2Mp/M7E5+DlMxJrbh2Cj6e/ME95riqWhFXFLKaU+lEI4R2OJbvpg3Uz3A6copdqNMUvI+/QApdRs0z5vEZTa2iRf3N+0yJBC9/eSuV+8FPVafK11pC+UUq1ynqPEmrEu1v3wHLbi3sUF3m+riyD9lPkr4j6EzRZSorwYLHvtq9jg89w7dTPgJGxG1DAR0FcB5yilXs+7F0cZYz6QDdNYLEvuC3Ivzk01/VCUswFYVsB0H3OMMediY5kKxQtcA7TJvUAJbeguJdbIX4MwOqpOwv80LCNSKZwCnFYJGZHsgt+WHVQhjA7CaEq9Hi4p0VqKaW1SEEZr1uncExwtALsEYXRLFee5Grd0v/WKUc46nudCB+HzfBBGY6o4xznMnxJVCO/KmnKxnrkIpl7YuIP+9bxPqWvcFHiswsO3DMLogc4STkms1xGlbE1snnfuBVrO/BrZ6WW5UN4KwmgUDQg9VV8OnB6NqG/VQvGHNymlnJTcefF7Tb3C5dorOE+TUqq9yHeLybM1U9gDS+KbW0etO6/1zV3EatFPNn2zzRz+s/ghC5AIpc/TT5TqecC0YuPJGm+BtgPySyfL/xfHuixm55c1LtC2Dx1ZKdMKEQlVeZ97ifuH3mQHyAyr08O9R4bwfw/YLwijaorlLFVC+HcGlnKwANRjbtfEjfr3E9yi+UvhTkcF4OfUOIK1DnCJd1mezq3hkMPIGlkcJiSxvhj4VZmHXtAZwl84D/bFUreOwaMzrQFflfr+y7+zcq/mof8ys744c7G9591aifCX87SX+M6pPPpXl6NU717nt89479CmsICXWjX9+KvLpz83eH8eLHKeWTiWmXcV/tJ2ZpH/f5myCmT1Mcd1bBXO//+U6CayiX6WT2Ldu8YP+YrYHOhi+BzLBFZtpbyuzkHPMrVOr9N5d3bcnT4sAWLV4FHcguJ2TWLd6MFYzQ08toE17Ou3LBh4VQr/BU6os+APk1ifjs3ZP8EL/8ZDr8GLfYRp/0L1HfzvthuHPfz1Nf3HddVYmvov0Uv1HXyv6jNwDDBg0PhWhfXL2zgy007TosNm+LuWMY/A+xltVqf2nPV/oLh//AtgQ0njqxZdTe+5Usb379f6hCJkf+7Y/Loa7Ci/pEABiwKIRDFpZMxu4LHVLPUqCKPvcKfIBTg7CKNv6ij8x2CzK35P59Fje5SJQb/4euag8a1bAUfQPm+c6t3/4baW5sfbWpoPbGtpHtSpYxn/xdxB41vvGzS+9XlgbFtL85XAooPGt+aIgWbQPm+Kv2vZCkCiOrlbAAAYLUlEQVQWXe0A3OuYuzzsQ7CRmsVwQRBGb9fodD/pqolNYj3MYd7q4dPbCLcgr0k1NOle6Njup/6RaxgcUkbb/WptBUw9J5tgI6OX87ekmygC41vPBzbFBrxtjI1wf7utpfnStpbmn7a1NNeb3ZS2luZN2lqaf9/W0vy2rJ99gOa2lubcpuvxQeNb2/zdKo3eWPNeTOmcyg3oYEeqFhuUONdM5s/VrObFMg4b5dlVWJ1sF8SrdTivK/XrN0ms98MGzlQTzDYbm5c6h+x86+2SWH8vCKNpDfw8NCpqVjMiifWp2JQpV6yPzdSpaTCw+PvvoXiZWY/GVQIeB1Zva2k+DjgemxZ4gPx83NbS/BI2e+sJ2eh8OWh8a0VWrLaW5lza4VhsbMgqee/2/wAHDhrf+lZbS3Mu1fUf/i45vPCCMPowifWHlC6AsgnutcGzUCrSdjrZOdGuOLuL53adjO9j3DjKy3mhDi5jl70RC1J9VgOXVKtFsOyElzfo8+CyY3gHeL0GilO5ismkGq2RUXQQi5SD/0tifVsQRk/V8LourkD4f4otiDIdm9+vMtbkHHm3LeNf93VRBE5va2m+CVtAag+sVXmk/ORoyL8CXm9raZ4iysDX2ADk77BZMLNljSu5p8NkU7EclvhnZaxVM58zZTJwwaDxrZeJojAYGwPwOpbQyMNxx/NqhgKwQRLrRYMwqkVQRSkfXy/ZRSbVnCCJ9TV0fX3vLTK+nyh122uJ7ei6QDZXYbhvAysALpaJu4Iw+r9u/MxfV6GlQwGXJbFeIwijqmMlkljviLuL7lNsOu3DSI51OaWCpXro7/ColxLwDrB3W0vzGfJ87878GVCDsWWGf1gLHRbLNXABcMeg8a3ptbi9KBfbDRrfOs/fGXcF4ElKm46/JyaXCXUWFMNE05tcxYvlWNFEXVCXoK8k1kuRzSn/TB1O3R0Y98YmsV49CKPJDTg2l9oG3bZqXBLrk6tUjEdhi20dW4PhHOzY7jbgV1VWX+yFR2coAm8Cx7a1NJ+CDUTeGEuEU4sU1glYwp6bBo1vLeaOfhRYb9D41vf83ShPAXAR7FvVSAEodXP6AVtXqgAksf4T1h/limWxMRC1xk5kl5KspSkVKeO6YTdYc72wxFONqAB84NBmaBLrpiCMuhW9bBLrsVhSrWpxjLgCnq1iLCNxI6l6JAijHWu05jw6TxH4Dqks2dbS3Iylvl0PS9YzClt+tz/WGjwA66ppl937LKwr7mMsb8jzwDuDxre+7nDej/3sV6YAvIH1Ma5RaneZxPoPNcgbfy7j+8OTWF9eTrGRJNbLYyPR883uV2D9RvsUOXRLKEwUUQMFoBQ+r4MFYEey2eQaBTvLWmq0CmwuWRlryksr7i4PuaSG1tLtclUS6zWDMKrUVbeag4KcYOlpawFPBdx1ykArlifk6dz/2lqa+4oS0IwNlG7HMvJpYMag8a1f+ZnrRAUgCCOTxPqODAUgwvpYbqjmhEEYTUli/RzFiT6GAzclsd4iy9eYxLovtsrZH1mwnvcNQRjtL3SixRSA8UmsTw3C6Ku8fgdgAyTLTiNJYj2a7JryE+rg//9FN1p3o7ARvU822LjexLqFSgmnwTL2h7rRfJ9BgTrjBTBDXsRZOd0ryTN3TIXjWdWhzcs14gIBXwyo0ZSC2dggzul+NroW6ajKexza10ojzwrI2RR4Jon1T4sI2VWTWJ+Irex0QQHh/9cgjMaLwvFiWvvMw5LA46IkkMQ6SGK9D9bsVGk64iFkV/i7qcY7vHXo+qDHcrFPA45pGpaQJgu7dKPd/xgs858LDgL2d2x7dBLrDSoclkscxYs1nIZuG7fh4VF3C4AIyueTWL+MrfBUDBsksV4/CKOqzNfCR/5bOsofFsLawG1JrN8ApmL9swNkfCMpnk1wTBBGf877328pbnJfDXgyifU0bAZCLmBllSTWvw7C6KIyXrYjHHbi06m922HfMtp+Qbb5tVLMw7ohXPrfJol1/xq4lGoGsYS9yPz1wQthu0Ybe5H12Af3EsAvB2F0vRz3BG4popdKVkC5EddzHddprTAKDw+P4gqA4MoMBQBsFPCPqz1xEEbnyAsqqxTwyvKThVex0cJPFTjXs0msTwD+VGw4LMhENg+3vPA0jiebsOWqWtKqJrHuh03/c8Efsb7gfnVUAJbAlvFcPKPtkti4hWtreP5axBQ8QHahnCWxJT5rmlqWxDoKwkjXsMu/UDq9N410VP6huPEOrAr8DTi8yvdOISxdozkdjg1C8/DwyHgQrwNOyxBi45JYbxyE0X9qoASclcT6FSyJRKU5op+L4lIyQDEIo9OSWA/EzW/5LnBAEEbOZVOTWH8Pt6p419b4Hm5KdtXBnHC+qMp0Khe8l8T6ftzqEZSjALgUEqoFBemjWCvN0Ix2xyaxvqtWxDhJrI8GjkpivWcQRg/WoL8xZQjmK4Mwej71rExOYn0pNr4mC4clsb4mCKOJZQzPpSraD2u0HsdTQxZFD4+ehKY8Ifklpav05fDXWg0gCKMHgjDaEBvB/zesD3YmxSN3EywT2PVYf+WaQRgd62KODcLoWGzk/0MsSDY0C1vn/TfAGuUIf8E5ZLOa3RuEUa3pf3d3bHdfJwj/HFoc222TxNp1p+dC0jMqifXqVa7HGPi3Y/O7klivVe1kJbH+K5a5cihwexLrXavsry82A8YFGihEbHQE2ZVCc7gmiXU5GSivO7RZUciCqpmHEXgCIA8PZwsAWA7lLKazdZNY7xOE0VU1VAQeBB4Ut8AQrAlwCNakbGQHOxWbH/qZvKgrUjiAB5JYL4tN6RoCfAO8DHxYSWpTEuvNgd0cmp5Ry5uXxHoJ2UU7CatOXFdPYH24WbUQ+mLdFy4001MdFdozgG2qHP95svvNyh8fDExIYn1kEEZXVnD/1sC6wLZM/XsR4MYk1gMq6VPwJ9yi/gGOLZSREoRRksT6/4AbHfpYCTgZd4KgN+SZzmKPPDOJ9VOVKK5ikbuL2lcy7dEwxgzFcjQMwlL1vqeUeqZI23WAFeT+TxeF8WGl1Hd57fpiqdGblFJPyf/WxmadfQe8ppR6LdV+UXmGh8tm716lVFten4tjuQXeVkq9L//bElheNnOvKaWeLTLufnKNQ7DZbVOBKUqpSQXajgaWUUrdLX+vjs1gGwy8pZS6I9V2Gay7WiulJhc592LY+JqPgclKqS7NUFFFHp5LsUUdSqENWD0Io48W5gdGdj5vy0IqhbuDMNquxuc+xFF4zgRGBWE0tRPn5VrcUhNfCMJoPYf+RmMjw10CDCeIIjAJm9o2V5SDPsCsIIxmOZzvIrJjAdJ4FOuKuic/rTSv38XkxbUv2YWbDiknCFX6X5/iWS/5eDAIoy0y+rufbFrrHMYGYfScwxibROF2sdZ8KhuSu1yoyJNYD8JmmBxfpvB/KwijhgwW1FP15cDp0Yjo3XqexxhzMjYWZMn8dQIcpJT6QNqNxPKuFHqfvQOcopS6LtXvcnRwbKyOJaRKb1zmAScrpU4zxmyBDVwdkfr+fWALpdR/U33+CrgIm5Z+kSjt+da4E5RSp6WO6Y0tOb0fC9aGMMBFSqlD8+Zkkoz5x9L/nwtsdnZWSk03xhwvyvc8YIXcfOX1dxnWcv0s8MNGVQCWlEkPsl56QRiNW8gVgHOx5tIs/DAIo6drfO7HsDEANNp9SmI9HrdUynZg3SCMXnboczI2a8MV3wEfYt09vbCZI08GYbSXw7lGimIXlHnpn2ArZ74uO5Fe8kLohy1ssp6DspjG6cCpLpapJNaLYINhl3fody4wOgijtzL6XAmYghub3hSsS26uw1jPpDxK4bexrpm3ZI7TczsISyO+JrbU+FIVLNmFWgEwxpyIDRIGy7U/RdbsDtjMnkuUUgfLDvY5OgIr76PDVbQbHfEW2yql7pG+lwdek2dpqgj3D7FV/LZOWQr/io1b6QPcK//bOjWmsTmBaYw5Eusy/lx2472Bx6TfcXRkcx2tlPqLHLORnDOnsE/CFovaiA7ull8ppf6RmpdcnZz36AgUvx7rrssFw9+ulPqZMWZlOtxb8ykf0leIrWWxGHCOUuq3Xb22VIkH9DhsQGAWTgnC6A8LqfB3FXLXBWG0R43PvaK8FF2wdxBGV3fy3AwQJdJlF3ZmEEa/d+jzCODcKoc2OQijNRyvYRdqzNlQIX7gEmSXxPpK3PkVTgrC6FTHecjtbFzw9yCMDnPocwTWFbBogzzOC60CYIxJv0uuV0r9IvVdhOVaeVkpdaoxJmcdngvspZRqSbVdDXhEnvkPgVFKqUQsABPpyAw6EfirUuo7OeY/dATwzgR2Uko9IH2egnUvAfxEKfWQ/D/f+rm3Uupq+a5ZFJNcyeCllVIfGWNWFavev5RSE/Pm4AFscao3gLWVUon8/wU6KrveAxyulHpPvktbytdQSk1O9fOiUmrdvHPsKErsHGBNpdTrXb22ShHWnCMv8EwFIIn1NixkSGK9Cm4BkzOpTfGUfLi6E2aktOlOQxBGM3HzHwPsksTaJTXsMtyCAbPmw/Uabq6BwlEt9schJS+J9bgyhP87wFlljOHPcowLDk1ivZ7D3E6lxjExHhUjl70UY4nMOnaISmml1I4i/Jekw613SVr4S9tX6ag3sTTzp4vnnu+/KKX+lIsTkGMeTp1/85zwz20O6KDd3qCIlW/bnPCXPluBo1Jtfij/n6KUOjRf+KfeLYhlo1A20b3Az3LCX3AaHcHkudoWuaymtUS5SWNn+XypEYR/SQVATI4HOfZzR45NbyER/kOB23GrZf77Gud25+BK/nN3EEatXTRVtzq2Wx5rtnNRKvbvzAsIwug3joperRED2wVhdIUDJXZ/3KP+AQ4qp6SvtC0n1/8q4afI6vd04HEvf7scORbRJ5VSpSjKV8G6A9qBq4q0uRkbVA3z++RzLqTrCllf5POj/IBD2YnngkALUVRPy7ka8vAatgYBWNdbIcvHYGPMMLEY9EmNs9BmpEUpNSdvbB9ig/nSCs492DTXJlJxDhK0mCt/fXWj3PimjAf0IdyYxHphU6JG9vQnRV62DxVbVHl4MgijC+owhk1wJ3i5uwun67nUA5KFvVwaBWF0P52c2hWE0YFAZ7q5ngI2CMLI9d6djbvf+/ogjB6tYA7uK/LyLiYoXF0Gu2MDAusFTWO4cRoZOSr1rIDu5VLKaTFL3HdYvzwUDtgtJMQ/yxOi+fhQPucU+K6YG/trCmQOGWN6GWN+Y4y5V77/VD5zCvQ8CqegDyxynvbUcSilvsQSoQHsLoGHOQvBEliL8O3dQgEQHIlbydzh2PS6JXv4w3ILbtHLs4G96zSG8Y7t2qhPtUNXofEtHea9LGwlaY0u/Z4FHI0NBOusazkF63Z5p46n+RbLtLlxEEavOSqDPybPbJuxHqoJPDoutbvLwlFSgjhrXj/FlrGuh5vqTazZ+Bov452QFZHelBK6xYT1PEq72VRGv+Wi4DFKqXn5CoMxpg9wJ9a9vZUoKi/I2nspYwyqDBmaW2+j6CC0+pl83qeUmtYoN7zJ4QGdKQLHpaTmysBj4h/vaTv/KIn147JwXLBPEEbv1WEciwOuAYVPlFNWuU64uYxdiCupEUEY/UVe7uUKjgGVXojsyFcXpbiW9zYBLsWm0Z0UhFG765osc3d7rAjcSq//IzoCslxwYxLrIQ79fhuE0TZYl+MnNZrTf4gV5SM6IsJLYVEWXuTcQVkKeFvqGSrGutmLjuJLM2o0PlWu0mKMGUhHtk2uzZ+wWQUzgQOUUssopdZTSu1IR6G7phqM90FRPgE2l89cifg7GunGNzk++C/iluqW03oeS2K9YQ8S/iOxvp2NHQ85OwijljoNZ0MsWczMEj/fys8/GmD6HgUmy0um1JhnAZtIjrirQHpJBMd6WDP4M9iiUbk5yD/HHKosMhOE0XdBGJ2HjTDeARvn8EbqJeqKT7B8BccBqwRhdFA5LJEyT0eK4pS1FuYAjwRhdEkNLCHnYiO952acdybWLXF4GX1fiiWH2RcbGV4uAdCb2FoXawVh9KsUH0OSsf5m02G2XhiRyy74iTGmVCnoSSkhv1mRNj+iI/PnlU4Y++KSZpiPVVKKSC7gLp22d1kBxaU22opNVcwFA25pjDkUGzvxhVggGga9y3g4LxBBeLRD86HAI0msfxmEUbc2vyWx3hL4F9nc8DncK5TD9cJEEXhJlsYchNGUrp6/IIxmSYT6iAwh2ZsKi/kEYfQC1pRHEutQdnyqgNWqH/BVja7rK3mY70xircQyMFpefsvkNiJ515ergf42MCUIo2rroV8rP3My2vWjtq6LHbEMcInDeeeWOa+fYwPMrpJCPmtjI8qXFsU3XXmwDzbgSsv1TShSmfB2bJxBsfXXRxSBhRX3YYNrF8MWkDogtZMOsEGwbwpRz0tyT44xxkxIs+cZY5YCzk8J3QmdMPbBwBPGmC1z7HvGmEXoKDI3m47c/9z9XzrPWjBErpu89VUNbsYWDFuHjmJ2dyilvmmkG9+7zIfzGCEG2d6heV/g6iTWa2NNj7O721ORxDpNjuGCl4Fd6zmmIIw+oXZm0s5SAlrpiMit97li3Ljma3lOI7ujSZ14zvbOPF/eub+hw2da77V+T42Uta/wKIbbsQG7Y4BfikB8AEuutBvWqvswNu3tOGyQ2/eAJyVP/02sZXKv1K77SKXUrNSGJLfDLmTha8rYhffK+H448LKw7E3BFiIbI9+dLWmByDWNBTY0xpwplqxlZVO7QuocqsC5mzLG1pRnBXhblKWxsvsH9yDaTkMl/o5dKS+y/EjgReHL7y6Cf7TURC9H+E8BtpSYCQ8PD49uAQmY20GUAOT3i7DxHqNE2TtW2j4ggn4mNm7iLyIPfifC/2NsvvxD+XpYbsNdYiNarKBU/xIKwFvynm7C1u84LyX8T1ZKnZhqe4ZYO5DreRC4RIT/SXTECqTHuGjGZrnU95em+nwLSxvcUOhd7gFi0t0emwrnSi87Glvo529Y1rfpjfggSCGio4ATSizGQvgvNmd7un+deHh4dEMl4DNjzIaywdsCm/b2MZan4c50DrxS6hpjzNPYrJh1sUGBX2Hdkzendtw5fCoKwkAKW63ux7rtXiwyvD+LrCnkTp6nlDrZGHOfKCbDZSzXKaUeybvGWcDWxpidsTn5Q7Cpj5copV43xswURSX9Hj8N+IHIu0I4AUtP/kCB724RRSrAxh3Mabj7XqWwvFm0xXLwiWhilwVh9F2DCH6FzXQ4HvcqajlMAjYrVQDGw8PDo1J0VjGg7oQUFfAHSqllG3SMP6fD7L+eUuqFRhtjxSkPQRjNwVIb3lDmocOxgSIvJ7E+WNLaukrw9xI+/8flRpUr/CcAW3jh7+Hh4dE1craBx3awfL7UiMIfKnAB5CkBc4HxSazfwZpCysFKwMXA8Ums78FG/r7UGcGCwlOwFzaYceUKu/kn8GuXymceHh4eHjVFjrp3kQbd/a+LrTIIDUT9W1MFIKUInJjE+lUsbXBY5uEjsAQgBwHPJ7H+Nzbo5D+1VAaEPvcH2PK5W1G5+2MucJTkgnt4eHh4dD5y6XSNyt+QYwCchntRtE6HqmVnUqL2QjrYj6rBf7EczY9jc3wny01vA2aKCyJ97iZskMkA+fw+NgdzLWyqx6o1GNMU4MAgjJ72z5+Hh0dnwMcAFNxhD8AWEftSKTW1Ace3hMidj5RSDRscrurRaRLrk7A1n3vXuOtZohR8ji1IkUsLmYeNtPweNrJzYB0u62LguCCMvvaPn4eHh1cAPLo7etej0yCM/pjE+lYsG9M2Ney6n2h9y3fiHD0LnCSVET08PDw8PHoEmurVcRBGrwVhtC2WSWpSN5ybD4BDgzBa3wt/Dw8PDw+vAJSvCNyErdq2H7ZoSncQ/L8H1gnC6EK/RDw8PDw8vAJQuRLwbRBGV2IZAffEcjA3Gl4ADgVWD8LozCCMvvTLw8PDw8Ojp6J3Z55MCphcC1ybxHo9bNnPTSifgKeWu/2nsBwETwRhNMsvCQ8PDw8PrwDUVxmYCEwUGt5tsAUctsGWVe1Vp9O2Y9ML78TyVj8glc08PDw8PDy8AtDJioDBVpO6O4n1n4ClgPWxRSZGYYtEDAXKpQz+Dlvo4SPgQ9npPwd85Cv2eXh4dCMs3gjvao+eB9XoA5SiQ0vKzxBs+cUBoigY+VFYfoAZWK6AaVjSoPc7g1rYw8PDo17QU/W2wFPRCF9zxMPDw8PDw8PDo0r8PyXIv1wdm70QAAAAAElFTkSuQmCC\"/>\n",
       "</section>\n",
       "</div>\n",
       "</header>\n",
       "<section id=\"alx-content\">\n",
       "<div style=\"min-height:500px;\">\n",
       "<div class=\"EndofLife\">\n",
       "<h3>End of Service Notice</h3>\n",
       "<span>We retired Alexa.com on May 1, 2022, after more than two decades of helping you find, reach, and convert your digital audience.  Thank you for making us your go-to resource for content research, competitive analysis, keyword research, and so much more.</span>\n",
       "<br/>\n",
       "<br/>\n",
       "</div>\n",
       "</div>\n",
       "</section>\n",
       "</div>\n",
       "</div>"
      ]
     },
     "execution_count": 5,
     "metadata": {},
     "output_type": "execute_result"
    }
   ],
   "source": [
    "top_sites[0]"
   ]
  },
  {
   "cell_type": "code",
   "execution_count": 6,
   "metadata": {},
   "outputs": [
    {
     "data": {
      "text/plain": [
       "0"
      ]
     },
     "execution_count": 6,
     "metadata": {},
     "output_type": "execute_result"
    }
   ],
   "source": [
    "top_sites = soup.find_all('div', 'tr site-listing')\n",
    "len(top_sites)"
   ]
  },
  {
   "cell_type": "code",
   "execution_count": 7,
   "metadata": {},
   "outputs": [
    {
     "ename": "IndexError",
     "evalue": "list index out of range",
     "output_type": "error",
     "traceback": [
      "\u001b[1;31m---------------------------------------------------------------------------\u001b[0m",
      "\u001b[1;31mIndexError\u001b[0m                                Traceback (most recent call last)",
      "Input \u001b[1;32mIn [7]\u001b[0m, in \u001b[0;36m<cell line: 1>\u001b[1;34m()\u001b[0m\n\u001b[1;32m----> 1\u001b[0m tmp \u001b[38;5;241m=\u001b[39m \u001b[43mtop_sites\u001b[49m\u001b[43m[\u001b[49m\u001b[38;5;241;43m0\u001b[39;49m\u001b[43m]\u001b[49m\n\u001b[0;32m      2\u001b[0m tmp\n",
      "\u001b[1;31mIndexError\u001b[0m: list index out of range"
     ]
    }
   ],
   "source": [
    "tmp = top_sites[0]\n",
    "tmp"
   ]
  },
  {
   "cell_type": "code",
   "execution_count": 8,
   "metadata": {},
   "outputs": [
    {
     "ename": "NameError",
     "evalue": "name 'tmp' is not defined",
     "output_type": "error",
     "traceback": [
      "\u001b[1;31m---------------------------------------------------------------------------\u001b[0m",
      "\u001b[1;31mNameError\u001b[0m                                 Traceback (most recent call last)",
      "Input \u001b[1;32mIn [8]\u001b[0m, in \u001b[0;36m<cell line: 1>\u001b[1;34m()\u001b[0m\n\u001b[1;32m----> 1\u001b[0m tmp1 \u001b[38;5;241m=\u001b[39m \u001b[43mtmp\u001b[49m\u001b[38;5;241m.\u001b[39mfind(\u001b[38;5;124m'\u001b[39m\u001b[38;5;124mdiv\u001b[39m\u001b[38;5;124m'\u001b[39m, \u001b[38;5;124m'\u001b[39m\u001b[38;5;124mtd\u001b[39m\u001b[38;5;124m'\u001b[39m)\n\u001b[0;32m      2\u001b[0m tmp1\n",
      "\u001b[1;31mNameError\u001b[0m: name 'tmp' is not defined"
     ]
    }
   ],
   "source": [
    "tmp1 = tmp.find('div', 'td')\n",
    "tmp1"
   ]
  },
  {
   "cell_type": "code",
   "execution_count": 9,
   "metadata": {},
   "outputs": [
    {
     "ename": "NameError",
     "evalue": "name 'tmp' is not defined",
     "output_type": "error",
     "traceback": [
      "\u001b[1;31m---------------------------------------------------------------------------\u001b[0m",
      "\u001b[1;31mNameError\u001b[0m                                 Traceback (most recent call last)",
      "Input \u001b[1;32mIn [9]\u001b[0m, in \u001b[0;36m<cell line: 1>\u001b[1;34m()\u001b[0m\n\u001b[1;32m----> 1\u001b[0m tmp2 \u001b[38;5;241m=\u001b[39m \u001b[43mtmp\u001b[49m\u001b[38;5;241m.\u001b[39mfind(\u001b[38;5;124m'\u001b[39m\u001b[38;5;124ma\u001b[39m\u001b[38;5;124m'\u001b[39m)\n\u001b[0;32m      2\u001b[0m tmp2\n",
      "\u001b[1;31mNameError\u001b[0m: name 'tmp' is not defined"
     ]
    }
   ],
   "source": [
    "tmp2 = tmp.find('a')\n",
    "tmp2"
   ]
  },
  {
   "cell_type": "code",
   "execution_count": 10,
   "metadata": {},
   "outputs": [
    {
     "ename": "NameError",
     "evalue": "name 'tmp1' is not defined",
     "output_type": "error",
     "traceback": [
      "\u001b[1;31m---------------------------------------------------------------------------\u001b[0m",
      "\u001b[1;31mNameError\u001b[0m                                 Traceback (most recent call last)",
      "Input \u001b[1;32mIn [10]\u001b[0m, in \u001b[0;36m<cell line: 1>\u001b[1;34m()\u001b[0m\n\u001b[1;32m----> 1\u001b[0m rank \u001b[38;5;241m=\u001b[39m \u001b[43mtmp1\u001b[49m\u001b[38;5;241m.\u001b[39mget_text()\n\u001b[0;32m      2\u001b[0m rank\n",
      "\u001b[1;31mNameError\u001b[0m: name 'tmp1' is not defined"
     ]
    }
   ],
   "source": [
    "rank = tmp1.get_text()\n",
    "rank"
   ]
  },
  {
   "cell_type": "code",
   "execution_count": 11,
   "metadata": {},
   "outputs": [
    {
     "ename": "NameError",
     "evalue": "name 'tmp2' is not defined",
     "output_type": "error",
     "traceback": [
      "\u001b[1;31m---------------------------------------------------------------------------\u001b[0m",
      "\u001b[1;31mNameError\u001b[0m                                 Traceback (most recent call last)",
      "Input \u001b[1;32mIn [11]\u001b[0m, in \u001b[0;36m<cell line: 1>\u001b[1;34m()\u001b[0m\n\u001b[1;32m----> 1\u001b[0m site \u001b[38;5;241m=\u001b[39m \u001b[43mtmp2\u001b[49m\u001b[38;5;241m.\u001b[39mget_text()\n\u001b[0;32m      2\u001b[0m site\n",
      "\u001b[1;31mNameError\u001b[0m: name 'tmp2' is not defined"
     ]
    }
   ],
   "source": [
    "site = tmp2.get_text()\n",
    "site"
   ]
  },
  {
   "cell_type": "code",
   "execution_count": 12,
   "metadata": {},
   "outputs": [
    {
     "ename": "NameError",
     "evalue": "name 'tmp2' is not defined",
     "output_type": "error",
     "traceback": [
      "\u001b[1;31m---------------------------------------------------------------------------\u001b[0m",
      "\u001b[1;31mNameError\u001b[0m                                 Traceback (most recent call last)",
      "Input \u001b[1;32mIn [12]\u001b[0m, in \u001b[0;36m<cell line: 1>\u001b[1;34m()\u001b[0m\n\u001b[1;32m----> 1\u001b[0m link \u001b[38;5;241m=\u001b[39m \u001b[43mtmp2\u001b[49m[\u001b[38;5;124m'\u001b[39m\u001b[38;5;124mhref\u001b[39m\u001b[38;5;124m'\u001b[39m]\n\u001b[0;32m      2\u001b[0m link\n",
      "\u001b[1;31mNameError\u001b[0m: name 'tmp2' is not defined"
     ]
    }
   ],
   "source": [
    "link = tmp2['href']\n",
    "link"
   ]
  },
  {
   "cell_type": "code",
   "execution_count": 13,
   "metadata": {},
   "outputs": [
    {
     "name": "stdout",
     "output_type": "stream",
     "text": [
      "[Top Sites in South Korea]\n",
      "================================================================================\n"
     ]
    }
   ],
   "source": [
    "Rank = []\n",
    "Site = []\n",
    "Link = []\n",
    "\n",
    "url = \"https://www.alexa.com/topsites/countries/KR\"\n",
    "\n",
    "html = requests.get(url).text\n",
    "soup = BeautifulSoup(html, \"lxml\")\n",
    "top_sites = soup.find_all('div', 'tr site-listing')\n",
    "\n",
    "print(\"[Top Sites in South Korea]\")\n",
    "print(\"=\"*80)\n",
    "for idx in range(len(top_sites)):\n",
    "    tmp  = top_sites[idx]\n",
    "    \n",
    "    tmp1 = tmp.find('div', 'td')\n",
    "    tmp2 = tmp.find('a')\n",
    "    rank = tmp1.get_text()\n",
    "    site = tmp2.get_text()\n",
    "    link = tmp2['href']\n",
    "    link = 'https://www.alexa.com' + link\n",
    "    \n",
    "    if idx%10==0 and idx>0:\n",
    "        print(\"-\"*80)\n",
    "        \n",
    "    print(\"{rank}위. {site} {link}\".format(\n",
    "        rank = ' '*(3-len(rank)) + rank, \n",
    "        site = site, \n",
    "        link = ' '*(20-len(site)) + link\n",
    "    ))\n",
    "    \n",
    "    Rank.append(rank)\n",
    "    Site.append(site)\n",
    "    Link.append(link)\n"
   ]
  },
  {
   "cell_type": "code",
   "execution_count": 14,
   "metadata": {},
   "outputs": [
    {
     "data": {
      "text/plain": [
       "[]"
      ]
     },
     "execution_count": 14,
     "metadata": {},
     "output_type": "execute_result"
    }
   ],
   "source": [
    "Rank[:5]"
   ]
  },
  {
   "cell_type": "code",
   "execution_count": 15,
   "metadata": {},
   "outputs": [
    {
     "data": {
      "text/plain": [
       "[]"
      ]
     },
     "execution_count": 15,
     "metadata": {},
     "output_type": "execute_result"
    }
   ],
   "source": [
    "Site[:5]"
   ]
  },
  {
   "cell_type": "code",
   "execution_count": 16,
   "metadata": {},
   "outputs": [
    {
     "data": {
      "text/plain": [
       "[]"
      ]
     },
     "execution_count": 16,
     "metadata": {},
     "output_type": "execute_result"
    }
   ],
   "source": [
    "Link[:5]"
   ]
  },
  {
   "cell_type": "code",
   "execution_count": 17,
   "metadata": {},
   "outputs": [],
   "source": [
    "import pandas as pd\n",
    "\n",
    "data = {'Rank':Rank, 'Site':Site, 'Link':Link}\n",
    "df = pd.DataFrame(data)"
   ]
  },
  {
   "cell_type": "code",
   "execution_count": 18,
   "metadata": {},
   "outputs": [
    {
     "data": {
      "text/html": [
       "<div>\n",
       "<style scoped>\n",
       "    .dataframe tbody tr th:only-of-type {\n",
       "        vertical-align: middle;\n",
       "    }\n",
       "\n",
       "    .dataframe tbody tr th {\n",
       "        vertical-align: top;\n",
       "    }\n",
       "\n",
       "    .dataframe thead th {\n",
       "        text-align: right;\n",
       "    }\n",
       "</style>\n",
       "<table border=\"1\" class=\"dataframe\">\n",
       "  <thead>\n",
       "    <tr style=\"text-align: right;\">\n",
       "      <th></th>\n",
       "      <th>Rank</th>\n",
       "      <th>Site</th>\n",
       "      <th>Link</th>\n",
       "    </tr>\n",
       "  </thead>\n",
       "  <tbody>\n",
       "  </tbody>\n",
       "</table>\n",
       "</div>"
      ],
      "text/plain": [
       "Empty DataFrame\n",
       "Columns: [Rank, Site, Link]\n",
       "Index: []"
      ]
     },
     "execution_count": 18,
     "metadata": {},
     "output_type": "execute_result"
    }
   ],
   "source": [
    "df.head()"
   ]
  },
  {
   "cell_type": "code",
   "execution_count": 19,
   "metadata": {
    "scrolled": false
   },
   "outputs": [
    {
     "data": {
      "text/html": [
       "<div>\n",
       "<style scoped>\n",
       "    .dataframe tbody tr th:only-of-type {\n",
       "        vertical-align: middle;\n",
       "    }\n",
       "\n",
       "    .dataframe tbody tr th {\n",
       "        vertical-align: top;\n",
       "    }\n",
       "\n",
       "    .dataframe thead th {\n",
       "        text-align: right;\n",
       "    }\n",
       "</style>\n",
       "<table border=\"1\" class=\"dataframe\">\n",
       "  <thead>\n",
       "    <tr style=\"text-align: right;\">\n",
       "      <th></th>\n",
       "      <th>Site</th>\n",
       "      <th>Link</th>\n",
       "    </tr>\n",
       "    <tr>\n",
       "      <th>Rank</th>\n",
       "      <th></th>\n",
       "      <th></th>\n",
       "    </tr>\n",
       "  </thead>\n",
       "  <tbody>\n",
       "  </tbody>\n",
       "</table>\n",
       "</div>"
      ],
      "text/plain": [
       "Empty DataFrame\n",
       "Columns: [Site, Link]\n",
       "Index: []"
      ]
     },
     "execution_count": 19,
     "metadata": {},
     "output_type": "execute_result"
    }
   ],
   "source": [
    "df.set_index('Rank', inplace=True)\n",
    "df.head()"
   ]
  },
  {
   "cell_type": "code",
   "execution_count": 20,
   "metadata": {},
   "outputs": [],
   "source": [
    "dir_data = 'data'\n",
    "if not exists(dir_data):\n",
    "    os.mkdir(dir_data)"
   ]
  },
  {
   "cell_type": "code",
   "execution_count": 21,
   "metadata": {
    "scrolled": true
   },
   "outputs": [],
   "source": [
    "df.to_csv('./data/top_sites_SKorea_201909.csv')"
   ]
  },
  {
   "cell_type": "code",
   "execution_count": 22,
   "metadata": {},
   "outputs": [
    {
     "name": "stdout",
     "output_type": "stream",
     "text": [
      "Rank,Site,Link\n"
     ]
    }
   ],
   "source": [
    "!type .\\data\\top_sites_SKorea_201909.csv"
   ]
  },
  {
   "cell_type": "markdown",
   "metadata": {},
   "source": [
    "<hr>\n",
    "<marquee><font size=3 color='brown'>The BigpyCraft find the information to design valuable society with Technology & Craft.</font></marquee>\n",
    "<div align='right'><font size=2 color='gray'> &lt; The End &gt; </font></div>"
   ]
  }
 ],
 "metadata": {
  "anaconda-cloud": {},
  "kernelspec": {
   "display_name": "Python 3 (ipykernel)",
   "language": "python",
   "name": "python3"
  },
  "language_info": {
   "codemirror_mode": {
    "name": "ipython",
    "version": 3
   },
   "file_extension": ".py",
   "mimetype": "text/x-python",
   "name": "python",
   "nbconvert_exporter": "python",
   "pygments_lexer": "ipython3",
   "version": "3.9.7"
  },
  "latex_envs": {
   "LaTeX_envs_menu_present": true,
   "autoclose": false,
   "autocomplete": true,
   "bibliofile": "biblio.bib",
   "cite_by": "apalike",
   "current_citInitial": 1,
   "eqLabelWithNumbers": true,
   "eqNumInitial": 1,
   "hotkeys": {
    "equation": "Ctrl-E",
    "itemize": "Ctrl-I"
   },
   "labels_anchors": false,
   "latex_user_defs": false,
   "report_style_numbering": false,
   "user_envs_cfg": false
  },
  "nav_menu": {},
  "toc": {
   "nav_menu": {
    "height": "400px",
    "width": "252px"
   },
   "number_sections": false,
   "sideBar": true,
   "skip_h1_title": false,
   "toc_cell": false,
   "toc_position": {
    "height": "545px",
    "left": "0px",
    "right": "1154px",
    "top": "111px",
    "width": "212px"
   },
   "toc_section_display": "block",
   "toc_window_display": false
  },
  "toc_position": {
   "height": "503px",
   "left": "0px",
   "right": "952.167px",
   "top": "107px",
   "width": "300px"
  }
 },
 "nbformat": 4,
 "nbformat_minor": 1
}
