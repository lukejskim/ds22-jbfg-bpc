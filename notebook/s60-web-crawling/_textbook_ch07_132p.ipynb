{
 "cells": [
  {
   "cell_type": "markdown",
   "id": "d2d66a89",
   "metadata": {},
   "source": [
    "# Industry 4.0 의 중심, BigData"
   ]
  },
  {
   "cell_type": "markdown",
   "id": "70621679",
   "metadata": {},
   "source": [
    "<div align='right'><font size=2 color='gray'>Data Processing Based Python @ <font color='blue'><a href='https://www.facebook.com/jskim.kr'>FB / jskim.kr</a></font>, [김진수](bigpycraft@gmail.com)</font></div>\n",
    "<hr>"
   ]
  },
  {
   "cell_type": "markdown",
   "id": "eb43ad11",
   "metadata": {},
   "source": [
    "## <font color='brown'>데이터 기획과 수집 </font>\n",
    "> 학습목표\n",
    "> - 프로젝트 기획\n",
    "> - 데이터 수집을 위해 대상 사이트의 구조를 파악\n",
    "> - 데이터 수집을 위해 어떻게 데이터를 가져올지 방법 학습\n",
    "> - 데이터 수집 예제 활용"
   ]
  },
  {
   "cell_type": "markdown",
   "id": "aee2822d",
   "metadata": {},
   "source": [
    "### 프로젝트 기획"
   ]
  },
  {
   "cell_type": "markdown",
   "id": "ec8e8365",
   "metadata": {},
   "source": [
    "#### 1. 팀원들과의 아이디어 도출\n",
    "> - 많은 자료 수집\n",
    "> - 주제 설정\n",
    "> - 과정 기획\n",
    "> - 환경 이해"
   ]
  },
  {
   "cell_type": "markdown",
   "id": "0cc7e850",
   "metadata": {},
   "source": [
    "#### 2. 요구사항 정의\n",
    "> - 범위 정의\n",
    "> - WBS(Work BreakDown Struction) 작성\n",
    "> - 전체 프로젝트 범위 구성 및 정의"
   ]
  },
  {
   "cell_type": "markdown",
   "id": "55ae9fc2",
   "metadata": {},
   "source": [
    "#### 3. 프로젝트 관리\n",
    "> - 프로젝트 범위 기술서에 명시되는 작업을 표시\n",
    "> - 일정 관리 계획 수립\n",
    "> - 작업명세서 작성"
   ]
  },
  {
   "cell_type": "code",
   "execution_count": null,
   "id": "c72692c5",
   "metadata": {},
   "outputs": [],
   "source": []
  },
  {
   "cell_type": "markdown",
   "id": "d29f7956",
   "metadata": {},
   "source": [
    "### 데이터 수집"
   ]
  },
  {
   "cell_type": "code",
   "execution_count": 1,
   "id": "dc795348",
   "metadata": {},
   "outputs": [],
   "source": [
    "from urllib.request import urlopen\n",
    "from bs4 import BeautifulSoup"
   ]
  },
  {
   "cell_type": "code",
   "execution_count": null,
   "id": "481199cb",
   "metadata": {},
   "outputs": [],
   "source": []
  },
  {
   "cell_type": "code",
   "execution_count": null,
   "id": "c8dd4b48",
   "metadata": {},
   "outputs": [],
   "source": []
  },
  {
   "cell_type": "code",
   "execution_count": null,
   "id": "c9a591a1",
   "metadata": {},
   "outputs": [],
   "source": []
  },
  {
   "cell_type": "code",
   "execution_count": null,
   "id": "b888be04",
   "metadata": {},
   "outputs": [],
   "source": []
  },
  {
   "cell_type": "code",
   "execution_count": null,
   "id": "35767018",
   "metadata": {},
   "outputs": [],
   "source": []
  },
  {
   "cell_type": "markdown",
   "id": "d2012507",
   "metadata": {},
   "source": [
    "<hr>\n",
    "<marquee><font size=3 color='brown'>The BigpyCraft find the information to design valuable society with Technology & Craft.</font></marquee>\n",
    "<div align='right'><font size=2 color='gray'> &lt; The End &gt; </font></div>"
   ]
  }
 ],
 "metadata": {
  "kernelspec": {
   "display_name": "Python 3 (ipykernel)",
   "language": "python",
   "name": "python3"
  },
  "language_info": {
   "codemirror_mode": {
    "name": "ipython",
    "version": 3
   },
   "file_extension": ".py",
   "mimetype": "text/x-python",
   "name": "python",
   "nbconvert_exporter": "python",
   "pygments_lexer": "ipython3",
   "version": "3.9.12"
  }
 },
 "nbformat": 4,
 "nbformat_minor": 5
}
