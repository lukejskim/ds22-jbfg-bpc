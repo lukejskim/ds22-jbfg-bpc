{
 "cells": [
  {
   "cell_type": "markdown",
   "id": "d2d66a89",
   "metadata": {},
   "source": [
    "# Industry 4.0 의 중심, BigData"
   ]
  },
  {
   "cell_type": "markdown",
   "id": "70621679",
   "metadata": {},
   "source": [
    "<div align='right'><font size=2 color='gray'>Data Processing Based Python @ <font color='blue'><a href='https://www.facebook.com/jskim.kr'>FB / jskim.kr</a></font>, [김진수](bigpycraft@gmail.com)</font></div>\n",
    "<hr>"
   ]
  },
  {
   "cell_type": "markdown",
   "id": "eb43ad11",
   "metadata": {},
   "source": [
    "## <font color='brown'>NAVER API 이용하기 </font>\n",
    "> 학습목표\n",
    "> - 애플리케이션 등록하는 방법 학습\n",
    "> - API 주소\n",
    "> - REQUESTS 라이브러리 이해하고 활용\n",
    "> - API 호출하는 방법에 대해 이해하고 활용"
   ]
  },
  {
   "cell_type": "markdown",
   "id": "aee2822d",
   "metadata": {},
   "source": [
    "### 네이버 API 등록"
   ]
  },
  {
   "cell_type": "markdown",
   "id": "55ae9fc2",
   "metadata": {},
   "source": [
    "#### STEP1\n",
    "> - 네이버 로그인 한후, Access Token을 가지고 온다 \n",
    "> <br/> 1) API를 사용할 수 있는 서비스\n",
    "> <br/> 2) HTTP 헤더에 클라이언트 아이디와 시크릿(secret) 값만을 얹어 전송하면 되는 비로그인 서비스\n",
    "> <br/>   ---> 네이버 뉴스, 블로그, 카페글 등\n",
    "> <br/><br/>\n",
    "> - 제약 사항\n",
    "> <br/> 1) 하루 검색 기사수 : API 호출이 25,000회/일로 제한, 최대 한번 호출에 100개 검색 \n",
    "> <br/>   ---> 하루 최대 250,000건의 데이터 가져올수 있음\n",
    "> <br/> 2) 검색 포인터 문제 : 데이터 검색시 최대 1,000개의 데이터만 가져올 수 있음"
   ]
  },
  {
   "cell_type": "markdown",
   "id": "ce271dc0",
   "metadata": {},
   "source": [
    "#### 애플리케이션 등록\n",
    "> - 네이버 개발자 센터(https://developers.naver.com/main/) 메뉴에서 Application > 애플리케이션 등록"
   ]
  },
  {
   "cell_type": "code",
   "execution_count": null,
   "id": "1bd3ab85",
   "metadata": {},
   "outputs": [],
   "source": []
  },
  {
   "cell_type": "code",
   "execution_count": null,
   "id": "e7e9aeb7",
   "metadata": {},
   "outputs": [],
   "source": []
  },
  {
   "cell_type": "code",
   "execution_count": null,
   "id": "c72692c5",
   "metadata": {},
   "outputs": [],
   "source": []
  },
  {
   "cell_type": "markdown",
   "id": "d29f7956",
   "metadata": {},
   "source": [
    "### API 주소 알아보기"
   ]
  },
  {
   "cell_type": "code",
   "execution_count": 1,
   "id": "dc795348",
   "metadata": {},
   "outputs": [],
   "source": [
    "from urllib.request import urlopen\n",
    "from bs4 import BeautifulSoup"
   ]
  },
  {
   "cell_type": "code",
   "execution_count": null,
   "id": "481199cb",
   "metadata": {},
   "outputs": [],
   "source": []
  },
  {
   "cell_type": "code",
   "execution_count": null,
   "id": "c8dd4b48",
   "metadata": {},
   "outputs": [],
   "source": []
  },
  {
   "cell_type": "code",
   "execution_count": null,
   "id": "c9a591a1",
   "metadata": {},
   "outputs": [],
   "source": []
  },
  {
   "cell_type": "code",
   "execution_count": null,
   "id": "b888be04",
   "metadata": {},
   "outputs": [],
   "source": []
  },
  {
   "cell_type": "code",
   "execution_count": null,
   "id": "35767018",
   "metadata": {},
   "outputs": [],
   "source": []
  },
  {
   "cell_type": "markdown",
   "id": "d2012507",
   "metadata": {},
   "source": [
    "<hr>\n",
    "<marquee><font size=3 color='brown'>The BigpyCraft find the information to design valuable society with Technology & Craft.</font></marquee>\n",
    "<div align='right'><font size=2 color='gray'> &lt; The End &gt; </font></div>"
   ]
  }
 ],
 "metadata": {
  "kernelspec": {
   "display_name": "Python 3 (ipykernel)",
   "language": "python",
   "name": "python3"
  },
  "language_info": {
   "codemirror_mode": {
    "name": "ipython",
    "version": 3
   },
   "file_extension": ".py",
   "mimetype": "text/x-python",
   "name": "python",
   "nbconvert_exporter": "python",
   "pygments_lexer": "ipython3",
   "version": "3.9.12"
  }
 },
 "nbformat": 4,
 "nbformat_minor": 5
}
