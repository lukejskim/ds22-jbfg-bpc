{
 "cells": [
  {
   "cell_type": "markdown",
   "metadata": {
    "collapsed": true
   },
   "source": [
    "<center>\n",
    "<b><font size=6>Industry 4.0 의 중심, BigData</font></b>\n",
    "</center>"
   ]
  },
  {
   "cell_type": "markdown",
   "metadata": {
    "collapsed": true
   },
   "source": [
    "<div align='right'><font size=2 color='gray'>Data Processing Based Python @ <font color='blue'><a href='https://www.facebook.com/jskim.kr'>FB / jskim.kr</a></font>, 김진수</font></div>\n",
    "<hr>"
   ]
  },
  {
   "cell_type": "markdown",
   "metadata": {},
   "source": [
    "# URL Tip for WebData Crawling"
   ]
  },
  {
   "cell_type": "markdown",
   "metadata": {},
   "source": [
    "### <font color='blue'>urllib.parse : urlsplit </font>"
   ]
  },
  {
   "cell_type": "code",
   "execution_count": 1,
   "metadata": {},
   "outputs": [],
   "source": [
    "from urllib.parse import urlsplit"
   ]
  },
  {
   "cell_type": "code",
   "execution_count": 2,
   "metadata": {},
   "outputs": [
    {
     "name": "stdout",
     "output_type": "stream",
     "text": [
      " urlsplit : SplitResult(scheme='http', netloc='www.Python.org', path='/doc/', query='', fragment=''), \n",
      " geturl() : http://www.Python.org/doc/\n"
     ]
    }
   ],
   "source": [
    "url = 'HTTP://www.Python.org/doc/#'\n",
    "r1 = urlsplit(url)\n",
    "print(\" urlsplit : {}, \\n geturl() : {}\".format(r1, r1.geturl()))\n",
    "# r1, r1.geturl()"
   ]
  },
  {
   "cell_type": "code",
   "execution_count": 3,
   "metadata": {},
   "outputs": [
    {
     "name": "stdout",
     "output_type": "stream",
     "text": [
      " urlsplit : SplitResult(scheme='http', netloc='www.Python.org', path='/doc/', query='', fragment=''), \n",
      " geturl() : http://www.Python.org/doc/\n"
     ]
    }
   ],
   "source": [
    "r2 = urlsplit(r1.geturl())\n",
    "print(\" urlsplit : {}, \\n geturl() : {}\".format(r2, r2.geturl()))\n",
    "# r2, r2.geturl()"
   ]
  },
  {
   "cell_type": "code",
   "execution_count": 4,
   "metadata": {},
   "outputs": [
    {
     "data": {
      "text/plain": [
       "SplitResult(scheme='http', netloc='www.Python.org', path='/doc/', query='', fragment='')"
      ]
     },
     "execution_count": 4,
     "metadata": {},
     "output_type": "execute_result"
    }
   ],
   "source": [
    "r1 = urlsplit(url)\n",
    "r1"
   ]
  },
  {
   "cell_type": "code",
   "execution_count": 5,
   "metadata": {},
   "outputs": [
    {
     "data": {
      "text/plain": [
       "'http://www.Python.org/doc/'"
      ]
     },
     "execution_count": 5,
     "metadata": {},
     "output_type": "execute_result"
    }
   ],
   "source": [
    "r1.geturl()"
   ]
  },
  {
   "cell_type": "code",
   "execution_count": 6,
   "metadata": {},
   "outputs": [
    {
     "data": {
      "text/plain": [
       "'http://www.Python.org/doc/'"
      ]
     },
     "execution_count": 6,
     "metadata": {},
     "output_type": "execute_result"
    }
   ],
   "source": [
    "r2.geturl()"
   ]
  },
  {
   "cell_type": "code",
   "execution_count": null,
   "metadata": {},
   "outputs": [],
   "source": []
  },
  {
   "cell_type": "code",
   "execution_count": 7,
   "metadata": {},
   "outputs": [
    {
     "name": "stdout",
     "output_type": "stream",
     "text": [
      " url_address : https://www.google.com/search?q=%EB%B0%A9%ED%83%84%EC%86%8C%EB%85%84%EB%8B%A8&source=lnms&tbm=nws&sa=X&ved=0ahUKEwi94bn43MLeAhWEfbwKHWs_Cg8Q_AUIECgD&biw=1920&bih=889, \n",
      " r1.geturl() : https://www.google.com/search?q=%EB%B0%A9%ED%83%84%EC%86%8C%EB%85%84%EB%8B%A8&source=lnms&tbm=nws&sa=X&ved=0ahUKEwi94bn43MLeAhWEfbwKHWs_Cg8Q_AUIECgD&biw=1920&bih=889, \n",
      " r2.geturl() : https://www.google.com/search?q=%EB%B0%A9%ED%83%84%EC%86%8C%EB%85%84%EB%8B%A8&source=lnms&tbm=nws&sa=X&ved=0ahUKEwi94bn43MLeAhWEfbwKHWs_Cg8Q_AUIECgD&biw=1920&bih=889\n"
     ]
    }
   ],
   "source": [
    "url = 'https://www.google.com/search?q=%EB%B0%A9%ED%83%84%EC%86%8C%EB%85%84%EB%8B%A8&source=lnms&tbm=nws&sa=X&ved=0ahUKEwi94bn43MLeAhWEfbwKHWs_Cg8Q_AUIECgD&biw=1920&bih=889'\n",
    "r1 = urlsplit(url)\n",
    "r2 = urlsplit(r1.geturl())\n",
    "print(\" url_address : {}, \\n r1.geturl() : {}, \\n r2.geturl() : {}\".format(url, r1.geturl(), r2.geturl()))"
   ]
  },
  {
   "cell_type": "code",
   "execution_count": 8,
   "metadata": {},
   "outputs": [
    {
     "name": "stdout",
     "output_type": "stream",
     "text": [
      " url_address : https://www.google.com/search?q=BTS&hl=ko&source=lnms&tbm=nws&sa=X&ved=0ahUKEwjVucrN3sLeAhVCT7wKHZnTBacQ_AUIECgD&biw=1920&bih=889, \n",
      " r1.geturl() : https://www.google.com/search?q=BTS&hl=ko&source=lnms&tbm=nws&sa=X&ved=0ahUKEwjVucrN3sLeAhVCT7wKHZnTBacQ_AUIECgD&biw=1920&bih=889, \n",
      " r2.geturl() : https://www.google.com/search?q=BTS&hl=ko&source=lnms&tbm=nws&sa=X&ved=0ahUKEwjVucrN3sLeAhVCT7wKHZnTBacQ_AUIECgD&biw=1920&bih=889\n"
     ]
    }
   ],
   "source": [
    "url = 'https://www.google.com/search?q=BTS&hl=ko&source=lnms&tbm=nws&sa=X&ved=0ahUKEwjVucrN3sLeAhVCT7wKHZnTBacQ_AUIECgD&biw=1920&bih=889'\n",
    "r1 = urlsplit(url)\n",
    "r2 = urlsplit(r1.geturl())\n",
    "print(\" url_address : {}, \\n r1.geturl() : {}, \\n r2.geturl() : {}\".format(url, r1.geturl(), r2.geturl()))"
   ]
  },
  {
   "cell_type": "code",
   "execution_count": 9,
   "metadata": {},
   "outputs": [
    {
     "data": {
      "text/plain": [
       "SplitResult(scheme='https', netloc='www.google.com', path='/search', query='q=BTS&hl=ko&source=lnms&tbm=nws&sa=X&ved=0ahUKEwjVucrN3sLeAhVCT7wKHZnTBacQ_AUIECgD&biw=1920&bih=889', fragment='')"
      ]
     },
     "execution_count": 9,
     "metadata": {},
     "output_type": "execute_result"
    }
   ],
   "source": [
    "r1"
   ]
  },
  {
   "cell_type": "code",
   "execution_count": 10,
   "metadata": {},
   "outputs": [
    {
     "data": {
      "text/plain": [
       "('https',\n",
       " 'www.google.com',\n",
       " '/search',\n",
       " 'q=BTS&hl=ko&source=lnms&tbm=nws&sa=X&ved=0ahUKEwjVucrN3sLeAhVCT7wKHZnTBacQ_AUIECgD&biw=1920&bih=889')"
      ]
     },
     "execution_count": 10,
     "metadata": {},
     "output_type": "execute_result"
    }
   ],
   "source": [
    "r1.scheme, r1.netloc, r1.path, r1.query"
   ]
  },
  {
   "cell_type": "markdown",
   "metadata": {},
   "source": [
    "### <font color='blue'>requests : requests </font>"
   ]
  },
  {
   "cell_type": "code",
   "execution_count": 11,
   "metadata": {},
   "outputs": [],
   "source": [
    "import requests\n",
    "from bs4 import BeautifulSoup"
   ]
  },
  {
   "cell_type": "code",
   "execution_count": 12,
   "metadata": {},
   "outputs": [],
   "source": [
    "url = 'https://www.google.co.kr/search'"
   ]
  },
  {
   "cell_type": "code",
   "execution_count": 13,
   "metadata": {},
   "outputs": [],
   "source": [
    "# parameters\n",
    "search_q   = '토착왜구'\n",
    "search_tbm = 'nws'\n",
    "navi_page  = 1"
   ]
  },
  {
   "cell_type": "code",
   "execution_count": 14,
   "metadata": {},
   "outputs": [
    {
     "data": {
      "text/plain": [
       "(<Response [200]>, requests.models.Response)"
      ]
     },
     "execution_count": 14,
     "metadata": {},
     "output_type": "execute_result"
    }
   ],
   "source": [
    "search_start = (navi_page-1)*10\n",
    "\n",
    "params = {\n",
    "    'q'     : search_q,\n",
    "    'tbm'   : search_tbm,\n",
    "    'start' : search_start\n",
    "}\n",
    "response = requests.get(url, params = params)\n",
    "response, type(response)"
   ]
  },
  {
   "cell_type": "code",
   "execution_count": 15,
   "metadata": {},
   "outputs": [],
   "source": [
    "html = response.text\n",
    "soup = BeautifulSoup(html, 'lxml')"
   ]
  },
  {
   "cell_type": "code",
   "execution_count": 16,
   "metadata": {},
   "outputs": [
    {
     "data": {
      "text/plain": [
       "bs4.BeautifulSoup"
      ]
     },
     "execution_count": 16,
     "metadata": {},
     "output_type": "execute_result"
    }
   ],
   "source": [
    "type(soup)"
   ]
  },
  {
   "cell_type": "code",
   "execution_count": 17,
   "metadata": {},
   "outputs": [
    {
     "data": {
      "text/plain": [
       "<div class=\"sd\" id=\"resultStats\">검색결과 약 48,000개</div>"
      ]
     },
     "execution_count": 17,
     "metadata": {},
     "output_type": "execute_result"
    }
   ],
   "source": [
    "s_count = soup.find('div', {'id':'resultStats'})\n",
    "s_count"
   ]
  },
  {
   "cell_type": "code",
   "execution_count": 18,
   "metadata": {},
   "outputs": [
    {
     "data": {
      "text/plain": [
       "'검색결과 약 48,000개'"
      ]
     },
     "execution_count": 18,
     "metadata": {},
     "output_type": "execute_result"
    }
   ],
   "source": [
    "s_count = s_count.get_text()\n",
    "s_count"
   ]
  },
  {
   "cell_type": "markdown",
   "metadata": {},
   "source": [
    "### <font color='brown'> Regular Expression 관련 사이트\n",
    "- <a href=\"http://regexr.com/\"> Text 정보를 re로 테스트 </a>\n",
    "- <a href=\"https://regexper.com/\"> 작성된 re를 다이어그램으로 표현 </a>"
   ]
  },
  {
   "cell_type": "code",
   "execution_count": 19,
   "metadata": {},
   "outputs": [],
   "source": [
    "import re"
   ]
  },
  {
   "cell_type": "code",
   "execution_count": 20,
   "metadata": {},
   "outputs": [
    {
     "data": {
      "text/plain": [
       "['48,000']"
      ]
     },
     "execution_count": 20,
     "metadata": {},
     "output_type": "execute_result"
    }
   ],
   "source": [
    "# pattern = re.compile(\"[\\d+,?]+\")\n",
    "pattern = re.compile(\"[\\d,]+\")\n",
    "\n",
    "total_count = pattern.findall(s_count)\n",
    "total_count"
   ]
  },
  {
   "cell_type": "code",
   "execution_count": 21,
   "metadata": {},
   "outputs": [
    {
     "data": {
      "text/plain": [
       "48000"
      ]
     },
     "execution_count": 21,
     "metadata": {},
     "output_type": "execute_result"
    }
   ],
   "source": [
    "# s_count = re.search(\"[\\d+,?]+\", s_count)\n",
    "s_count = re.search(\"[\\d,]+\", s_count)\n",
    "\n",
    "if s_count is None:\n",
    "    total_count = 0\n",
    "else:\n",
    "    total_count = s_count.group()\n",
    "    total_count = int(total_count.replace(',', ''))\n",
    "    \n",
    "total_count"
   ]
  },
  {
   "cell_type": "code",
   "execution_count": null,
   "metadata": {},
   "outputs": [],
   "source": []
  },
  {
   "cell_type": "code",
   "execution_count": 22,
   "metadata": {},
   "outputs": [],
   "source": [
    "url = 'https://www.google.co.kr/search'\n",
    "search_start = (navi_page-1)*10\n",
    "params = {\n",
    "    'q'     : search_q,\n",
    "    'tbm'   : search_tbm,\n",
    "    'start' : search_start\n",
    "}\n",
    "response = requests.get(url, params = params)\n",
    "\n",
    "html = response.text\n",
    "soup = BeautifulSoup(html, 'lxml')\n",
    "\n",
    "s_count = soup.find('div', {'id':'resultStats'})\n",
    "s_count = s_count.get_text()\n",
    "s_count = re.search(\"[\\d,]+\", s_count)\n",
    "if s_count is None:\n",
    "    total_count = 0\n",
    "else:\n",
    "    total_count = s_count.group()\n",
    "    total_count = int(total_count.replace(',', ''))\n",
    "    \n",
    "    "
   ]
  },
  {
   "cell_type": "code",
   "execution_count": 39,
   "metadata": {},
   "outputs": [
    {
     "name": "stdout",
     "output_type": "stream",
     "text": [
      "https://www.google.co.kr/search?q=BTS&tbm=nws&start=0&\n",
      "검색결과 약 42,400,000개 \n",
      "https://www.google.co.kr/search {'q': 'BTS', 'tbm': 'nws', 'start': 0}\n",
      "full_url : https://www.google.co.kr/search?q=BTS&tbm=nws&start=0&\n"
     ]
    },
    {
     "data": {
      "text/plain": [
       "42400000"
      ]
     },
     "execution_count": 39,
     "metadata": {},
     "output_type": "execute_result"
    }
   ],
   "source": [
    "def get_google_news_count(search_q, search_tbm = 'nws', navi_page  = 1):\n",
    "    url = 'https://www.google.co.kr/search'\n",
    "    search_start = (navi_page-1)*10\n",
    "    params = {\n",
    "        'q'     : search_q,\n",
    "        'tbm'   : search_tbm,\n",
    "        'start' : search_start\n",
    "    }\n",
    "    full_url = get_full_url(url, params)\n",
    "    response = requests.get(url, params = params)\n",
    "\n",
    "    html = response.text\n",
    "    soup = BeautifulSoup(html, 'lxml')\n",
    "\n",
    "    s_count = soup.find('div', {'id':'resultStats'})\n",
    "    \n",
    "    if s_count is not None:\n",
    "        s_count = s_count.get_text()\n",
    "        \n",
    "    print(\"{} \\n{} {}\".format(s_count, url, params))\n",
    "    print(\"full_url : {}\".format(full_url))\n",
    "    \n",
    "    s_count = re.search(\"[\\d,]+\", s_count)\n",
    "    if s_count is None:\n",
    "        total_count = 0\n",
    "    else:\n",
    "        total_count = s_count.group()\n",
    "        total_count = int(total_count.replace(',', ''))\n",
    "    \n",
    "    return total_count\n",
    "\n",
    "\n",
    "def get_full_url(url, params_dict):\n",
    "    fulll_url = ''\n",
    "    \n",
    "    params_str = '' \n",
    "    for key, value in params_dict.items():\n",
    "        param = \"{}={}&\".format(key, value)\n",
    "        params_str += param\n",
    "        \n",
    "    furll_url = url + '?' + params_str\n",
    "    print(furll_url)\n",
    "    return furll_url\n",
    "\n",
    "get_google_news_count('BTS')"
   ]
  },
  {
   "cell_type": "code",
   "execution_count": 41,
   "metadata": {
    "scrolled": true
   },
   "outputs": [],
   "source": [
    "search_q   = '방탄소년단'\n",
    "search_tbm = '뉴스'\n",
    "navi_page  = 1\n",
    "# get_google_news_count(search_q, search_tbm , navi_page)"
   ]
  },
  {
   "cell_type": "code",
   "execution_count": 38,
   "metadata": {},
   "outputs": [
    {
     "data": {
      "text/plain": [
       "re.Match"
      ]
     },
     "execution_count": 38,
     "metadata": {},
     "output_type": "execute_result"
    }
   ],
   "source": [
    "type(s_count)\n",
    "# ? s_count"
   ]
  },
  {
   "cell_type": "code",
   "execution_count": 33,
   "metadata": {},
   "outputs": [
    {
     "name": "stdout",
     "output_type": "stream",
     "text": [
      "https://www.google.co.kr/search?q=BTS&tbm=nws&start=0&\n",
      "검색결과 약 42,400,000개 \n",
      "https://www.google.co.kr/search {'q': 'BTS', 'tbm': 'nws', 'start': 0}\n",
      "full_url : https://www.google.co.kr/search?q=BTS&tbm=nws&start=0&\n"
     ]
    },
    {
     "data": {
      "text/plain": [
       "42400000"
      ]
     },
     "execution_count": 33,
     "metadata": {},
     "output_type": "execute_result"
    }
   ],
   "source": [
    "get_google_news_count('BTS')"
   ]
  },
  {
   "cell_type": "markdown",
   "metadata": {},
   "source": [
    "<hr>\n",
    "<marquee><font size=3 color='brown'>The BigpyCraft find the information to design valuable society with Technology & Craft.</font></marquee>\n",
    "<div align='right'><font size=2 color='gray'> &lt; The End &gt; </font></div>"
   ]
  }
 ],
 "metadata": {
  "kernelspec": {
   "display_name": "Python 3",
   "language": "python",
   "name": "python3"
  },
  "language_info": {
   "codemirror_mode": {
    "name": "ipython",
    "version": 3
   },
   "file_extension": ".py",
   "mimetype": "text/x-python",
   "name": "python",
   "nbconvert_exporter": "python",
   "pygments_lexer": "ipython3",
   "version": "3.8.3"
  }
 },
 "nbformat": 4,
 "nbformat_minor": 2
}
