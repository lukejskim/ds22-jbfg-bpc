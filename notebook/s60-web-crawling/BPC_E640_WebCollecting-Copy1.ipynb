{
 "cells": [
  {
   "cell_type": "markdown",
   "metadata": {
    "collapsed": true
   },
   "source": [
    "<center>\n",
    "<b><font size=6>Industry 4.0 의 중심, BigData</font></b>\n",
    "</center>"
   ]
  },
  {
   "cell_type": "markdown",
   "metadata": {
    "collapsed": true
   },
   "source": [
    "<div align='right'><font size=2 color='gray'>Data Processing Based Python @ <font color='blue'><a href='https://www.facebook.com/jskim.kr'>FB / jskim.kr</a></font>, 김진수</font></div>\n",
    "<hr>"
   ]
  },
  {
   "cell_type": "markdown",
   "metadata": {},
   "source": [
    "# URL Tip for WebData Crawling"
   ]
  },
  {
   "cell_type": "markdown",
   "metadata": {},
   "source": [
    "### <font color='blue'>urllib.parse : urlsplit </font>"
   ]
  },
  {
   "cell_type": "code",
   "execution_count": 1,
   "metadata": {},
   "outputs": [],
   "source": [
    "from urllib.parse import urlsplit"
   ]
  },
  {
   "cell_type": "code",
   "execution_count": 2,
   "metadata": {},
   "outputs": [
    {
     "name": "stdout",
     "output_type": "stream",
     "text": [
      " urlsplit : SplitResult(scheme='http', netloc='www.Python.org', path='/doc/', query='', fragment=''), \n",
      " geturl() : http://www.Python.org/doc/\n"
     ]
    }
   ],
   "source": [
    "url = 'HTTP://www.Python.org/doc/#'\n",
    "r1 = urlsplit(url)\n",
    "print(\" urlsplit : {}, \\n geturl() : {}\".format(r1, r1.geturl()))\n",
    "# r1, r1.geturl()"
   ]
  },
  {
   "cell_type": "code",
   "execution_count": 3,
   "metadata": {},
   "outputs": [
    {
     "name": "stdout",
     "output_type": "stream",
     "text": [
      " urlsplit : SplitResult(scheme='http', netloc='www.Python.org', path='/doc/', query='', fragment=''), \n",
      " geturl() : http://www.Python.org/doc/\n"
     ]
    }
   ],
   "source": [
    "r2 = urlsplit(r1.geturl())\n",
    "print(\" urlsplit : {}, \\n geturl() : {}\".format(r2, r2.geturl()))\n",
    "# r2, r2.geturl()"
   ]
  },
  {
   "cell_type": "code",
   "execution_count": 4,
   "metadata": {},
   "outputs": [
    {
     "data": {
      "text/plain": [
       "SplitResult(scheme='http', netloc='www.Python.org', path='/doc/', query='', fragment='')"
      ]
     },
     "execution_count": 4,
     "metadata": {},
     "output_type": "execute_result"
    }
   ],
   "source": [
    "r1 = urlsplit(url)\n",
    "r1"
   ]
  },
  {
   "cell_type": "code",
   "execution_count": 5,
   "metadata": {},
   "outputs": [
    {
     "data": {
      "text/plain": [
       "'http://www.Python.org/doc/'"
      ]
     },
     "execution_count": 5,
     "metadata": {},
     "output_type": "execute_result"
    }
   ],
   "source": [
    "r1.geturl()"
   ]
  },
  {
   "cell_type": "code",
   "execution_count": 6,
   "metadata": {},
   "outputs": [
    {
     "data": {
      "text/plain": [
       "'http://www.Python.org/doc/'"
      ]
     },
     "execution_count": 6,
     "metadata": {},
     "output_type": "execute_result"
    }
   ],
   "source": [
    "r2.geturl()"
   ]
  },
  {
   "cell_type": "code",
   "execution_count": null,
   "metadata": {},
   "outputs": [],
   "source": []
  },
  {
   "cell_type": "code",
   "execution_count": 7,
   "metadata": {},
   "outputs": [
    {
     "name": "stdout",
     "output_type": "stream",
     "text": [
      " url_address : https://www.google.com/search?q=%EB%B0%A9%ED%83%84%EC%86%8C%EB%85%84%EB%8B%A8&source=lnms&tbm=nws&sa=X&ved=0ahUKEwi94bn43MLeAhWEfbwKHWs_Cg8Q_AUIECgD&biw=1920&bih=889, \n",
      " r1.geturl() : https://www.google.com/search?q=%EB%B0%A9%ED%83%84%EC%86%8C%EB%85%84%EB%8B%A8&source=lnms&tbm=nws&sa=X&ved=0ahUKEwi94bn43MLeAhWEfbwKHWs_Cg8Q_AUIECgD&biw=1920&bih=889, \n",
      " r2.geturl() : https://www.google.com/search?q=%EB%B0%A9%ED%83%84%EC%86%8C%EB%85%84%EB%8B%A8&source=lnms&tbm=nws&sa=X&ved=0ahUKEwi94bn43MLeAhWEfbwKHWs_Cg8Q_AUIECgD&biw=1920&bih=889\n"
     ]
    }
   ],
   "source": [
    "url = 'https://www.google.com/search?q=%EB%B0%A9%ED%83%84%EC%86%8C%EB%85%84%EB%8B%A8&source=lnms&tbm=nws&sa=X&ved=0ahUKEwi94bn43MLeAhWEfbwKHWs_Cg8Q_AUIECgD&biw=1920&bih=889'\n",
    "r1 = urlsplit(url)\n",
    "r2 = urlsplit(r1.geturl())\n",
    "print(\" url_address : {}, \\n r1.geturl() : {}, \\n r2.geturl() : {}\".format(url, r1.geturl(), r2.geturl()))"
   ]
  },
  {
   "cell_type": "code",
   "execution_count": 8,
   "metadata": {},
   "outputs": [
    {
     "name": "stdout",
     "output_type": "stream",
     "text": [
      " url_address : https://www.google.com/search?q=BTS&hl=ko&source=lnms&tbm=nws&sa=X&ved=0ahUKEwjVucrN3sLeAhVCT7wKHZnTBacQ_AUIECgD&biw=1920&bih=889, \n",
      " r1.geturl() : https://www.google.com/search?q=BTS&hl=ko&source=lnms&tbm=nws&sa=X&ved=0ahUKEwjVucrN3sLeAhVCT7wKHZnTBacQ_AUIECgD&biw=1920&bih=889, \n",
      " r2.geturl() : https://www.google.com/search?q=BTS&hl=ko&source=lnms&tbm=nws&sa=X&ved=0ahUKEwjVucrN3sLeAhVCT7wKHZnTBacQ_AUIECgD&biw=1920&bih=889\n"
     ]
    }
   ],
   "source": [
    "url = 'https://www.google.com/search?q=BTS&hl=ko&source=lnms&tbm=nws&sa=X&ved=0ahUKEwjVucrN3sLeAhVCT7wKHZnTBacQ_AUIECgD&biw=1920&bih=889'\n",
    "r1 = urlsplit(url)\n",
    "r2 = urlsplit(r1.geturl())\n",
    "print(\" url_address : {}, \\n r1.geturl() : {}, \\n r2.geturl() : {}\".format(url, r1.geturl(), r2.geturl()))"
   ]
  },
  {
   "cell_type": "code",
   "execution_count": 9,
   "metadata": {},
   "outputs": [
    {
     "data": {
      "text/plain": [
       "SplitResult(scheme='https', netloc='www.google.com', path='/search', query='q=BTS&hl=ko&source=lnms&tbm=nws&sa=X&ved=0ahUKEwjVucrN3sLeAhVCT7wKHZnTBacQ_AUIECgD&biw=1920&bih=889', fragment='')"
      ]
     },
     "execution_count": 9,
     "metadata": {},
     "output_type": "execute_result"
    }
   ],
   "source": [
    "r1"
   ]
  },
  {
   "cell_type": "code",
   "execution_count": 10,
   "metadata": {},
   "outputs": [
    {
     "data": {
      "text/plain": [
       "('https',\n",
       " 'www.google.com',\n",
       " '/search',\n",
       " 'q=BTS&hl=ko&source=lnms&tbm=nws&sa=X&ved=0ahUKEwjVucrN3sLeAhVCT7wKHZnTBacQ_AUIECgD&biw=1920&bih=889')"
      ]
     },
     "execution_count": 10,
     "metadata": {},
     "output_type": "execute_result"
    }
   ],
   "source": [
    "r1.scheme, r1.netloc, r1.path, r1.query"
   ]
  },
  {
   "cell_type": "markdown",
   "metadata": {},
   "source": [
    "### <font color='blue'>requests : requests </font>"
   ]
  },
  {
   "cell_type": "code",
   "execution_count": 113,
   "metadata": {},
   "outputs": [],
   "source": [
    "from bs4 import BeautifulSoup \n",
    "from urllib.request import Request, urlopen\n",
    "from urllib import parse"
   ]
  },
  {
   "cell_type": "code",
   "execution_count": 114,
   "metadata": {},
   "outputs": [],
   "source": [
    "import requests\n",
    "from bs4 import BeautifulSoup"
   ]
  },
  {
   "cell_type": "code",
   "execution_count": 115,
   "metadata": {},
   "outputs": [],
   "source": [
    "url = 'https://www.google.co.kr/search'"
   ]
  },
  {
   "cell_type": "code",
   "execution_count": 116,
   "metadata": {},
   "outputs": [],
   "source": [
    "# parameters\n",
    "search_q   = '코로나19현황'\n",
    "search_tbm = 'nws'\n",
    "navi_page  = 1"
   ]
  },
  {
   "cell_type": "code",
   "execution_count": 117,
   "metadata": {},
   "outputs": [],
   "source": [
    "search_start = (navi_page-1)*10\n",
    "headers = {'Content-Type': 'application/json; charset=utf-8'}\n",
    "params = {\n",
    "    'q'     : search_q,\n",
    "    'tbm'   : search_tbm,\n",
    "    'start' : search_start\n",
    "}\n",
    "# response = requests.get(url, c)\n",
    "# response = requests.get(url, headers=headers, params = params)\n",
    "# response, type(response)"
   ]
  },
  {
   "cell_type": "code",
   "execution_count": 118,
   "metadata": {},
   "outputs": [],
   "source": [
    "def get_read_web(url):    \n",
    "    req = Request(url, headers={'User-Agent': 'Mozilla/5.0'})\n",
    "    html = urlopen(req).read()\n",
    "    soup = BeautifulSoup(html, \"lxml\")    \n",
    "    return soup"
   ]
  },
  {
   "cell_type": "code",
   "execution_count": 119,
   "metadata": {},
   "outputs": [],
   "source": [
    "url = 'https://www.google.com/search?q=BTS&start=10&tbm=nws'"
   ]
  },
  {
   "cell_type": "code",
   "execution_count": 121,
   "metadata": {},
   "outputs": [
    {
     "data": {
      "text/plain": [
       "<title>BTS - Google 검색</title>"
      ]
     },
     "execution_count": 121,
     "metadata": {},
     "output_type": "execute_result"
    }
   ],
   "source": [
    "soup = get_read_web(url)\n",
    "soup.title"
   ]
  },
  {
   "cell_type": "code",
   "execution_count": 123,
   "metadata": {},
   "outputs": [
    {
     "data": {
      "text/plain": [
       "NoneType"
      ]
     },
     "execution_count": 123,
     "metadata": {},
     "output_type": "execute_result"
    }
   ],
   "source": [
    "s_count = soup.find('div', id='result-stats')\n",
    "type(s_count)"
   ]
  },
  {
   "cell_type": "code",
   "execution_count": 130,
   "metadata": {},
   "outputs": [
    {
     "data": {
      "text/plain": [
       "[<div class=\"cOl4Id\"><a href=\"/?sa=X&amp;ved=0ahUKEwikyd_Eu534AhVkp1YBHX6VDgs4ChA7CAI\"><span class=\"V6gwVd\">G</span><span class=\"iWkuvd\">o</span><span class=\"cDrQ7\">o</span><span class=\"V6gwVd\">g</span><span class=\"ntlR9\">l</span><span class=\"iWkuvd tJ3Myc\">e</span></a></div>,\n",
       " <div class=\"bz1lBb\"><form class=\"Pg70bf\" id=\"sf\"><input name=\"tbm\" type=\"hidden\" value=\"nws\"/><div class=\"H0PQec\"><div class=\"sbc esbc\"><input autocapitalize=\"none\" autocomplete=\"off\" class=\"noHIxc\" name=\"q\" spellcheck=\"false\" type=\"text\" value=\"BTS\"/><input name=\"oq\" type=\"hidden\"/><input name=\"aqs\" type=\"hidden\"/><div class=\"x\">×</div><div class=\"sc\"></div></div></div><button id=\"qdClwb\" type=\"submit\"></button></form></div>,\n",
       " <div class=\"H0PQec\"><div class=\"sbc esbc\"><input autocapitalize=\"none\" autocomplete=\"off\" class=\"noHIxc\" name=\"q\" spellcheck=\"false\" type=\"text\" value=\"BTS\"/><input name=\"oq\" type=\"hidden\"/><input name=\"aqs\" type=\"hidden\"/><div class=\"x\">×</div><div class=\"sc\"></div></div></div>,\n",
       " <div class=\"sbc esbc\"><input autocapitalize=\"none\" autocomplete=\"off\" class=\"noHIxc\" name=\"q\" spellcheck=\"false\" type=\"text\" value=\"BTS\"/><input name=\"oq\" type=\"hidden\"/><input name=\"aqs\" type=\"hidden\"/><div class=\"x\">×</div><div class=\"sc\"></div></div>,\n",
       " <div class=\"x\">×</div>,\n",
       " <div class=\"sc\"></div>,\n",
       " <div style=\"display:block\">몇 초 안에 이동하지 않는 경우 <a href=\"/search?q=BTS&amp;start=10&amp;tbm=nws&amp;gbv=1&amp;sei=jmGgYqTKG-TO2roP_qq6WA\">여기</a>를 클릭하세요.</div>,\n",
       " <div id=\"main\"><div><div class=\"KP7LCb\"> <div class=\"bRsWnc\"> <div class=\"N6RWV\"> <div class=\"Pg70bf Uv67qb\"> <a class=\"eZt8xd\" href=\"/search?q=BTS&amp;source=lnms&amp;sa=X&amp;ved=0ahUKEwikyd_Eu534AhVkp1YBHX6VDgs4ChD8BQgFKAA\">전체</a><a class=\"eZt8xd\" href=\"/search?q=BTS&amp;tbm=vid&amp;source=lnms&amp;sa=X&amp;ved=0ahUKEwikyd_Eu534AhVkp1YBHX6VDgs4ChD8BQgGKAE\">동영상</a><a class=\"eZt8xd\" href=\"/search?q=BTS&amp;tbm=isch&amp;source=lnms&amp;sa=X&amp;ved=0ahUKEwikyd_Eu534AhVkp1YBHX6VDgs4ChD8BQgHKAI\">이미지</a><span class=\"OXXup\">뉴스</span> <a href=\"https://maps.google.com/maps?q=BTS&amp;um=1&amp;ie=UTF-8&amp;sa=X&amp;ved=0ahUKEwikyd_Eu534AhVkp1YBHX6VDgs4ChD8BQgJKAQ\">지도</a> <a href=\"/search?q=BTS&amp;tbm=shop&amp;source=lnms&amp;sa=X&amp;ved=0ahUKEwikyd_Eu534AhVkp1YBHX6VDgs4ChD8BQgKKAU\">쇼핑</a> <a href=\"/search?q=BTS&amp;tbm=bks&amp;source=lnms&amp;sa=X&amp;ved=0ahUKEwikyd_Eu534AhVkp1YBHX6VDgs4ChD8BQgLKAY\">도서</a> <div class=\"FElbsf\"><a href=\"/advanced_search\" id=\"st-toggle\" role=\"button\" style=\"white-space:nowrap\">검색 도구</a></div> </div> </div> </div> </div><div class=\"Pg70bf wEsjbd ZINbbc xpd O9g5cc uUPGi\" id=\"st-card\" style=\"display:none\"><style>.wEsjbd{background-color:#fff;height:44px;white-space:nowrap}.coPU8c{height:60px;overflow-scrolling:touch;overflow-x:auto;overflow-y:hidden}.Xj2aue{height:44px;overflow:hidden}.RnNGze{margin:11px 16px}.wEsjbd div,.wEsjbd a,.wEsjbd li{outline-width:0;outline:none}</style><div class=\"Xj2aue\"><div class=\"coPU8c\"><div class=\"RnNGze\"><style>.PA9J5{display:inline-block}.RXaOfd{display:inline-block;height:22px;position:relative;padding-top:0;padding-bottom:0;padding-right:16px;padding-left:0;line-height:22px;cursor:pointer;text-transform:uppercase;font-size:12px;color:#70757a}.sa1toc{display:none;position:absolute;background:#fff;border:1px solid #d6d6d6;box-shadow:0 2px 4px rgba(0,0,0,.3);margin:0;white-space:nowrap;z-index:103;line-height:17px;padding-top:5px;padding-bottom:5px;padding-left:0}.PA9J5:hover .sa1toc{display:block}.mGSy8d a:active,.RXaOfd:active{color:#4285f4}</style><div class=\"PA9J5\"><div class=\"RXaOfd\" role=\"button\" tabindex=\"0\"><style>.TWMOUc{display:inline-block;padding-right:14px;white-space:nowrap}.vQYuGf{font-weight:bold}.OmTIzf{border-color:#909090 transparent;border-style:solid;border-width:4px 4px 0 4px;width:0;height:0;margin-left:-10px;top:50%;margin-top:-2px;position:absolute}.RXaOfd:active .OmTIzf{border-color:#4285f4 transparent}</style><div class=\"TWMOUc\">웹 검색</div><span class=\"OmTIzf\"></span></div><ul class=\"sa1toc ozatM\"><style>.ozatM{font-size:12px;text-transform:uppercase}.ozatM .yNFsl,.ozatM li{list-style-type:none;list-style-position:outside;list-style-image:none}.yNFsl.SkUj4c,.yNFsl a{color:rgba(0,0,0,0.54);text-decoration:none;padding:6px 44px 6px 14px;line-height:17px;display:block}.SkUj4c{background-image:url(//ssl.gstatic.com/ui/v1/menu/checkmark2.png);background-position:right center;background-repeat:no-repeat}.SkUj4c:active{background-color:#f8f9fa}</style><li class=\"yNFsl SkUj4c\">웹 검색</li><li class=\"yNFsl\"><a href=\"/search?q=BTS&amp;tbm=nws&amp;source=lnt&amp;tbs=lr:lang_1ko&amp;lr=lang_ko&amp;sa=X&amp;ved=0ahUKEwikyd_Eu534AhVkp1YBHX6VDgs4ChCnBQgN\">한국어 웹</a></li></ul></div><div class=\"PA9J5\"><div class=\"RXaOfd\" role=\"button\" tabindex=\"0\"><div class=\"TWMOUc\">최근 항목</div><span class=\"OmTIzf\"></span></div><ul class=\"sa1toc ozatM\"><li class=\"yNFsl SkUj4c\">최근 항목</li><li class=\"yNFsl\"><a href=\"/search?q=BTS&amp;tbm=nws&amp;source=lnt&amp;tbs=qdr:h&amp;sa=X&amp;ved=0ahUKEwikyd_Eu534AhVkp1YBHX6VDgs4ChCnBQgP\"> 지난 1시간</a></li><li class=\"yNFsl\"><a href=\"/search?q=BTS&amp;tbm=nws&amp;source=lnt&amp;tbs=qdr:d&amp;sa=X&amp;ved=0ahUKEwikyd_Eu534AhVkp1YBHX6VDgs4ChCnBQgQ\"> 지난 1일</a></li><li class=\"yNFsl\"><a href=\"/search?q=BTS&amp;tbm=nws&amp;source=lnt&amp;tbs=qdr:w&amp;sa=X&amp;ved=0ahUKEwikyd_Eu534AhVkp1YBHX6VDgs4ChCnBQgR\"> 지난 1주</a></li><li class=\"yNFsl\"><a href=\"/search?q=BTS&amp;tbm=nws&amp;source=lnt&amp;tbs=qdr:m&amp;sa=X&amp;ved=0ahUKEwikyd_Eu534AhVkp1YBHX6VDgs4ChCnBQgS\"> 지난 1개월</a></li><li class=\"yNFsl\"><a href=\"/search?q=BTS&amp;tbm=nws&amp;source=lnt&amp;tbs=qdr:y&amp;sa=X&amp;ved=0ahUKEwikyd_Eu534AhVkp1YBHX6VDgs4ChCnBQgT\"> 지난 1년</a></li><li class=\"yNFsl\"><a href=\"/search?q=BTS&amp;tbm=nws&amp;source=lnt&amp;tbs=ar:1&amp;sa=X&amp;ved=0ahUKEwikyd_Eu534AhVkp1YBHX6VDgs4ChCnBQgU\">자료실</a></li></ul></div></div></div></div><script nonce=\"pqKhUeGJWjqGLVGoCUcOTw\">(function(){\n",
       " var a=document.getElementById(\"st-toggle\"),b=document.getElementById(\"st-card\");a&&b&&a.addEventListener(\"click\",function(c){b.style.display=b.style.display?\"\":\"none\";c.preventDefault()},!1);}).call(this);</script></div></div><style>.ZINbbc{background-color:#fff;margin-bottom:30px;box-shadow:0 0 0 1px #dfe1e5;border-radius:8px}.uUPGi{font-size:14px;line-height:22px;}.O9g5cc>*:first-child{border-top-left-radius:8px;border-top-right-radius:8px}.O9g5cc>*:last-child{border-bottom-left-radius:8px;border-bottom-right-radius:8px}.O9g5cc>.qxDOhb>*:first-child{border-top-left-radius:8px;border-top-right-radius:8px}.O9g5cc>.qxDOhb>*:last-child{border-bottom-left-radius:8px;border-bottom-right-radius:8px}.RO6NFd .RO6NFd{box-shadow:none;margin-bottom:0px}.luh4tb{background:transparent !important;box-shadow:none !important;border:none !important}.ZINbbc.luh4tb{margin-top:-12px;margin-bottom:18px}a.fdYsqf{color:#4b11a8}.rl7ilb{display:block;clear:both}.egMi0{margin-bottom:-22px}.kCrYT{padding:12px 16px 12px}.l97dzf{font-weight:400}.zBAuLc{line-height:normal;margin:0;padding:0}.BNeawe{white-space:pre-line;word-wrap:break-word}.vvjwJb{color:#1a0dab;font-size:20px;line-height:26px}a:visited .vvjwJb,.vvjwJb a:visited{color:#4b11a8}.vvjwJb.HrGdeb{color:#fff}a:visited .vvjwJb.HrGdeb,.vvjwJb.HrGdeb a:visited{color:rgba(255,255,255,.70)}.UPmit{font-size:14px;line-height:22px}.UPmit.HrGdeb{color:rgba(255,255,255,.70)}.UPmit.AP7Wnd{color:#0d652d}.lcJF1d{border-radius:8px;margin-left:16px;float:right;}.h1hFNe{display:inline-block;position:relative}.Q6Xouf{overflow:hidden}.G6SP0b{display:inline-block}.eeoFaf{position:relative}.Ap5OSd{padding-bottom:12px}.s3v9rd{font-size:14px;line-height:22px}.s3v9rd.HrGdeb{color:#fff}.s3v9rd.AP7Wnd{color:#202124}.r0bn4c.tr0dw{color:rgba(255,255,255,.70)}.r0bn4c.rQMQod{color:#70757a}.rLshyf,.BmP5tf{padding-top:12px;padding-bottom:12px}.YOx3Ab{padding-left:16px;}.w1C3Le,.BmP5tf,.G5NbBd,.CS4w5b{padding-left:16px;padding-right:16px;}.G5NbBd{padding-bottom:12px}.CS4w5b{padding-top:12px}.qFvlD{display:inline-block;width:40px}.nMymef{display:flex}.G5eFlf{flex:1;display:block}.nMymef span{text-align:center}.SAez4c{margin:0 24px}.EYqSq{margin:6px 4px 9px 0;border-radius:100%;display:inline-block;height:10px;vertical-align:middle;width:10px}.dfB0uf{color:#3c4043;font-weight:bold}</style><div><!--SW_C_X--></div><div></div><div><div class=\"ZINbbc luh4tb xpd O9g5cc uUPGi\"><a href=\"/url?q=https://www.bbc.com/korean/international-61670357&amp;sa=U&amp;ved=2ahUKEwikyd_Eu534AhVkp1YBHX6VDgs4ChDF9AF6BAgEEAI&amp;usg=AOvVaw1Mzl2GwRVPE76X1vrrH_Wv\"><div class=\"egMi0 kCrYT\"><h3 class=\"zBAuLc l97dzf\"><div class=\"BNeawe vvjwJb AP7Wnd\">BTS, 한국 아티스트 최초로 백악관 방문... '증오범죄 근절'</div></h3><div class=\"BNeawe UPmit AP7Wnd\">BBC</div></div><div class=\"kCrYT\"><div class=\"lcJF1d Q6Xouf G6SP0b\"><div style=\"width:120px;height:66px;position:static\"><img alt=\"\" class=\"h1hFNe\" data-deferred=\"1\" id=\"dimg_7\" src=\"data:image/gif;base64,R0lGODlhAQABAIAAAP///////yH5BAEKAAEALAAAAAABAAEAAAICTAEAOw==\" style=\"width:120px;height:66px\"/></div></div><div><div class=\"BNeawe s3v9rd AP7Wnd\"><div><div class=\"BNeawe s3v9rd AP7Wnd\">BTS는 미국 '아시아·하와이 원주민·태평양 제도 주민(AANHPI) 유산의 달' 마지막 날인 이날 조 바이든 미국 대통령과 만나 반(反) 아시안 증오범죄 대응...<br/><span class=\"r0bn4c rQMQod\">6일 전</span></div></div></div></div><div class=\"rl7ilb\"></div></div></a></div></div><div><div class=\"ZINbbc luh4tb xpd O9g5cc uUPGi\"><a href=\"/url?q=https://m.hankookilbo.com/News/Read/A2022060213250001164&amp;sa=U&amp;ved=2ahUKEwikyd_Eu534AhVkp1YBHX6VDgs4ChDF9AF6BAgHEAI&amp;usg=AOvVaw3IOnC36UgmodzsJKUh_Fu1\"><div class=\"egMi0 kCrYT\"><h3 class=\"zBAuLc l97dzf\"><div class=\"BNeawe vvjwJb AP7Wnd\">BTS 백악관 방문 비꼰 미국 보수 방송진행자, '아미' 표적 됐다</div></h3><div class=\"BNeawe UPmit AP7Wnd\">한국일보</div></div><div class=\"kCrYT\"><div class=\"lcJF1d Q6Xouf G6SP0b\"><div style=\"width:120px;height:66px;position:static\"><img alt=\"\" class=\"h1hFNe\" data-deferred=\"1\" id=\"dimg_15\" src=\"data:image/gif;base64,R0lGODlhAQABAIAAAP///////yH5BAEKAAEALAAAAAABAAEAAAICTAEAOw==\" style=\"width:120px;height:66px\"/></div></div><div><div class=\"BNeawe s3v9rd AP7Wnd\"><div><div class=\"BNeawe s3v9rd AP7Wnd\">폭스뉴스 진행자 터커 칼슨. 백악관 방문한 BTS 향해 \"한국 그룹이 미국 인종차별 문제를 논한다니\" BTS 팬덤 아미, \"당신이야말로 미국의 문제\".<br/><span class=\"r0bn4c rQMQod\">6일 전</span></div></div></div></div><div class=\"rl7ilb\"></div></div></a></div></div><div><div class=\"ZINbbc luh4tb xpd O9g5cc uUPGi\"><a href=\"/url?q=https://mnews.jtbc.joins.com/News/Article.aspx%3Fnews_id%3DNB12061137&amp;sa=U&amp;ved=2ahUKEwikyd_Eu534AhVkp1YBHX6VDgs4ChDF9AF6BAgJEAI&amp;usg=AOvVaw15_NiqFKRPzHz-Yv_PplZf\"><div class=\"egMi0 kCrYT\"><h3 class=\"zBAuLc l97dzf\"><div class=\"BNeawe vvjwJb AP7Wnd\">BTS 초청한 백악관에 \"그래, 잘했어\" 조롱한 美 앵커</div></h3><div class=\"BNeawe UPmit AP7Wnd\">JTBC뉴스</div></div><div class=\"kCrYT\"><div class=\"lcJF1d Q6Xouf G6SP0b\"><div style=\"width:120px;height:66px;position:static\"><img alt=\"\" class=\"h1hFNe\" data-deferred=\"1\" id=\"dimg_17\" src=\"data:image/gif;base64,R0lGODlhAQABAIAAAP///////yH5BAEKAAEALAAAAAABAAEAAAICTAEAOw==\" style=\"width:120px;height:66px\"/></div></div><div><div class=\"BNeawe s3v9rd AP7Wnd\"><div><div class=\"BNeawe s3v9rd AP7Wnd\">1일(현지시간) 미국 음악매체 롤링스톤은 '터커 칼슨, 백악관에 초청된 BTS를 모욕해 아미(팬클럽)의 분노를 사다'라는 제목의 기사를 보도했습니다. 터커...<br/><span class=\"r0bn4c rQMQod\">6일 전</span></div></div></div></div><div class=\"rl7ilb\"></div></div></a></div></div><div><div class=\"ZINbbc luh4tb xpd O9g5cc uUPGi\"><a href=\"/url?q=https://www.hankookilbo.com/News/Read/A2022060715390002375&amp;sa=U&amp;ved=2ahUKEwikyd_Eu534AhVkp1YBHX6VDgs4ChDF9AF6BAgIEAI&amp;usg=AOvVaw2owMYiIENW93ogBRajjG-4\"><div class=\"egMi0 kCrYT\"><h3 class=\"zBAuLc l97dzf\"><div class=\"BNeawe vvjwJb AP7Wnd\">\"BTS·에스파 도약 발판\" 빅히트·SM 대표 빌보드 '인디 파워 플레이어 ...</div></h3><div class=\"BNeawe UPmit AP7Wnd\">한국일보</div></div><div class=\"kCrYT\"><div class=\"lcJF1d Q6Xouf G6SP0b\"><div style=\"width:120px;height:78px;position:static\"><img alt=\"\" class=\"h1hFNe\" data-deferred=\"1\" id=\"dimg_18\" src=\"data:image/gif;base64,R0lGODlhAQABAIAAAP///////yH5BAEKAAEALAAAAAABAAEAAAICTAEAOw==\" style=\"width:120px;height:78px\"/></div></div><div><div class=\"BNeawe s3v9rd AP7Wnd\"><div><div class=\"BNeawe s3v9rd AP7Wnd\">\"BTS·에스파 도약 발판\" 빅히트·SM 대표 빌보드 '인디 파워 플레이어' 선정 ... 그룹 방탄소년단의 소속사 빅히트뮤직 신영재 대표이사와 에스파를 제작한...<br/><span class=\"r0bn4c rQMQod\">1일 전</span></div></div></div></div><div class=\"rl7ilb\"></div></div></a></div></div><div><div class=\"ZINbbc luh4tb xpd O9g5cc uUPGi\"><a href=\"/url?q=https://www.nbntv.co.kr/news/articleView.html%3Fidxno%3D976432&amp;sa=U&amp;ved=2ahUKEwikyd_Eu534AhVkp1YBHX6VDgs4ChDF9AF6BAgBEAI&amp;usg=AOvVaw0qVeUwGtrog4v5J0kovEo0\"><div class=\"egMi0 kCrYT\"><h3 class=\"zBAuLc l97dzf\"><div class=\"BNeawe vvjwJb AP7Wnd\">[특징주] 하이브, bts 영향에 주가 전망 밝을까</div></h3><div class=\"BNeawe UPmit AP7Wnd\">내외경제TV</div></div><div class=\"kCrYT\"><div class=\"lcJF1d Q6Xouf G6SP0b\"><div style=\"width:120px;height:66px;position:static\"><img alt=\"\" class=\"h1hFNe\" data-deferred=\"1\" id=\"dimg_1\" src=\"data:image/gif;base64,R0lGODlhAQABAIAAAP///////yH5BAEKAAEALAAAAAABAAEAAAICTAEAOw==\" style=\"width:120px;height:66px\"/></div></div><div><div class=\"BNeawe s3v9rd AP7Wnd\"><div><div class=\"BNeawe s3v9rd AP7Wnd\">방탄소년단(BTS)이 상반기 한국과 미국에서 연 '퍼미션 투 댄스 온 스테이지' 콘서트로 약 946억원(7540만 달러)을 벌며 빌보드 톱 투어 차트 톱 4위...<br/><span class=\"r0bn4c rQMQod\">3시간 전</span></div></div></div></div><div class=\"rl7ilb\"></div></div></a></div></div><div><div class=\"ZINbbc luh4tb xpd O9g5cc uUPGi\"><a href=\"/url?q=https://news.sbs.co.kr/news/endPage.do%3Fnews_id%3DN1006778972&amp;sa=U&amp;ved=2ahUKEwikyd_Eu534AhVkp1YBHX6VDgs4ChDF9AF6BAgGEAI&amp;usg=AOvVaw2jm3PQonwGDtUbw8DDf_Tq\"><div class=\"egMi0 kCrYT\"><h3 class=\"zBAuLc l97dzf\"><div class=\"BNeawe vvjwJb AP7Wnd\">BTS, 2년 만에 국내 음악방송 출연…팬 4천 명과 함께</div></h3><div class=\"BNeawe UPmit AP7Wnd\">SBS 뉴스</div></div><div class=\"kCrYT\"><div class=\"lcJF1d Q6Xouf G6SP0b\"><div style=\"width:120px;height:66px;position:static\"><img alt=\"\" class=\"h1hFNe\" data-deferred=\"1\" id=\"dimg_12\" src=\"data:image/gif;base64,R0lGODlhAQABAIAAAP///////yH5BAEKAAEALAAAAAABAAEAAAICTAEAOw==\" style=\"width:120px;height:66px\"/></div></div><div><div class=\"BNeawe s3v9rd AP7Wnd\"><div><div class=\"BNeawe s3v9rd AP7Wnd\">모레(10일) 새 앨범을 발매하는 그룹 방탄소년단이 활발한 활동을 예고하고 있습니다. 먼저 데뷔 9주년인 13일에 맞춰 유튜브 채널로 신곡 무대를...<br/><span class=\"r0bn4c rQMQod\">3시간 전</span></div></div></div></div><div class=\"rl7ilb\"></div></div></a></div></div><div><div class=\"ZINbbc luh4tb xpd O9g5cc uUPGi\"><a href=\"/url?q=https://www.chosun.com/international/international_general/2022/06/05/LTUV2RPGHNF5LJ5R3MC7G23LAQ/&amp;sa=U&amp;ved=2ahUKEwikyd_Eu534AhVkp1YBHX6VDgs4ChDF9AF6BAgDEAI&amp;usg=AOvVaw0nXqpxzz9m7FQw6eF_EbwN\"><div class=\"egMi0 kCrYT\"><h3 class=\"zBAuLc l97dzf\"><div class=\"BNeawe vvjwJb AP7Wnd\">BTS가 환호했다… 백악관서 마중 나온 바이든이 튼 이 노래 - 조선일보</div></h3><div class=\"BNeawe UPmit AP7Wnd\">조선일보</div></div><div class=\"kCrYT\"><div class=\"lcJF1d Q6Xouf G6SP0b\"><div style=\"width:120px;height:66px;position:static\"><img alt=\"\" class=\"h1hFNe\" data-deferred=\"1\" id=\"dimg_8\" src=\"data:image/gif;base64,R0lGODlhAQABAIAAAP///////yH5BAEKAAEALAAAAAABAAEAAAICTAEAOw==\" style=\"width:120px;height:66px\"/></div></div><div><div class=\"BNeawe s3v9rd AP7Wnd\"><div><div class=\"BNeawe s3v9rd AP7Wnd\">조 바이든 미국 대통령이 백악관 집무실을 찾은 그룹 방탄소년단(BTS) 멤버들에게 BTS의 인기곡 '버터'(Butter)를 들려주는 장면이 공개됐다.<br/><span class=\"r0bn4c rQMQod\">3일 전</span></div></div></div></div><div class=\"rl7ilb\"></div></div></a></div></div><div><div class=\"ZINbbc luh4tb xpd O9g5cc uUPGi\"><a href=\"/url?q=https://www.mk.co.kr/star/movies/view/2022/06/500455/&amp;sa=U&amp;ved=2ahUKEwikyd_Eu534AhVkp1YBHX6VDgs4ChDF9AF6BAgAEAI&amp;usg=AOvVaw00nWALrH6LmpFpOPcJHUY0\"><div class=\"egMi0 kCrYT\"><h3 class=\"zBAuLc l97dzf\"><div class=\"BNeawe vvjwJb AP7Wnd\">[인터뷰②]강동원 \"BTS 뷔, 박효신 통해 친해져...귀여운 동생\"</div></h3><div class=\"BNeawe UPmit AP7Wnd\">매일경제</div></div><div class=\"kCrYT\"><div class=\"lcJF1d Q6Xouf G6SP0b\"><div style=\"width:120px;height:83px;position:static\"><img alt=\"\" class=\"h1hFNe\" data-deferred=\"1\" id=\"dimg_2\" src=\"data:image/gif;base64,R0lGODlhAQABAIAAAP///////yH5BAEKAAEALAAAAAABAAEAAAICTAEAOw==\" style=\"width:120px;height:83px\"/></div></div><div><div class=\"BNeawe s3v9rd AP7Wnd\"><div><div class=\"BNeawe s3v9rd AP7Wnd\">[인터뷰②]강동원 \"BTS 뷔, 박효신 통해 친해져...귀여운 동생\". 한현정 기자. 입력 2022/06/08 07:01. 수정 2022/06/08 09:28.<br/><span class=\"r0bn4c rQMQod\">10시간 전</span></div></div></div></div><div class=\"rl7ilb\"></div></div></a></div></div><div><div class=\"ZINbbc luh4tb xpd O9g5cc uUPGi\"><a href=\"/url?q=https://www.chosun.com/international/international_general/2022/06/01/VOZ537LMSFH2RNWT4QCTZDR4TM/&amp;sa=U&amp;ved=2ahUKEwikyd_Eu534AhVkp1YBHX6VDgs4ChDF9AF6BAgCEAI&amp;usg=AOvVaw23o9nqmVWvjamfeW-Eirua\"><div class=\"egMi0 kCrYT\"><h3 class=\"zBAuLc l97dzf\"><div class=\"BNeawe vvjwJb AP7Wnd\">문 앞까지 BTS 마중 나온 바이든… ‘손가락 하트’도 날렸다 - 조선일보</div></h3><div class=\"BNeawe UPmit AP7Wnd\">조선일보</div></div><div class=\"kCrYT\"><div class=\"lcJF1d Q6Xouf G6SP0b\"><div style=\"width:120px;height:66px;position:static\"><img alt=\"\" class=\"h1hFNe\" data-deferred=\"1\" id=\"dimg_5\" src=\"data:image/gif;base64,R0lGODlhAQABAIAAAP///////yH5BAEKAAEALAAAAAABAAEAAAICTAEAOw==\" style=\"width:120px;height:66px\"/></div></div><div><div class=\"BNeawe s3v9rd AP7Wnd\"><div><div class=\"BNeawe s3v9rd AP7Wnd\">바이든 대통령은 1일(현지 시각) 트위터에 글을 써 BTS 공식 계정을 언급한 뒤 “만나서 반가웠다. 반아시아계 증오범죄와 차별이 증가하는 것에 대한...<br/><span class=\"r0bn4c rQMQod\">1주 전</span></div></div></div></div><div class=\"rl7ilb\"></div></div></a></div></div><div><div class=\"ZINbbc luh4tb xpd O9g5cc uUPGi\"><a href=\"/url?q=https://www.sedaily.com/NewsView/267600ATZL&amp;sa=U&amp;ved=2ahUKEwikyd_Eu534AhVkp1YBHX6VDgs4ChDF9AF6BAgFEAI&amp;usg=AOvVaw38AeefZFFdcjn1LxxlLdRM\"><div class=\"egMi0 kCrYT\"><h3 class=\"zBAuLc l97dzf\"><div class=\"BNeawe vvjwJb AP7Wnd\">[인터뷰②](영상) 나인아이 제원 '연습생 시절 BTS 댄서로…대스타는 ...</div></h3><div class=\"BNeawe UPmit AP7Wnd\">서울경제</div></div><div class=\"kCrYT\"><div class=\"lcJF1d Q6Xouf G6SP0b\"><div style=\"width:120px;height:83px;position:static\"><img alt=\"\" class=\"h1hFNe\" data-deferred=\"1\" id=\"dimg_11\" src=\"data:image/gif;base64,R0lGODlhAQABAIAAAP///////yH5BAEKAAEALAAAAAABAAEAAAICTAEAOw==\" style=\"width:120px;height:83px\"/></div></div><div><div class=\"BNeawe s3v9rd AP7Wnd\"><div><div class=\"BNeawe s3v9rd AP7Wnd\">제원 - BTS 선배님들이 엄청난 대스타이시잖아요. 그래서 전 조금 무서웠거든요. 그런데 댄서분들이 20~30명 정도로 많이 계셨는데 선배님들이 한분 한분...<br/><span class=\"r0bn4c rQMQod\">3시간 전</span></div></div></div></div><div class=\"rl7ilb\"></div></div></a></div></div><footer> <div> <div class=\"ZINbbc xpd O9g5cc uUPGi BmP5tf\"><div class=\"nMymef MUxGbd lyLwlc\"><a aria-label=\"이전 페이지\" class=\"nBDE1b G5eFlf\" href=\"/search?q=BTS&amp;tbm=nws&amp;ei=jmGgYqTKG-TO2roP_qq6WA&amp;start=0&amp;sa=N\" style=\"text-align:right\"><span class=\"qFvlD\">&lt;</span></a><span class=\"SAez4c\">2페이지</span><a aria-label=\"다음 페이지\" class=\"nBDE1b G5eFlf\" href=\"/search?q=BTS&amp;tbm=nws&amp;ei=jmGgYqTKG-TO2roP_qq6WA&amp;start=20&amp;sa=N\" style=\"text-align:left\"><span class=\"qFvlD\">&gt;</span></a></div></div> </div> <div id=\"EOlPnc\"><div class=\"Srfpq\"><div><span class=\"EYqSq unknown_loc\"></span><span class=\"dfB0uf\">135-280 서울특별시</span></div><span>IP 주소 기반</span><span> - </span><a href=\"/url?q=https://support.google.com/websearch%3Fp%3Dws_settings_location%26hl%3Dko&amp;sa=U&amp;ved=0ahUKEwikyd_Eu534AhVkp1YBHX6VDgs4ChC3LghT&amp;usg=AOvVaw1Iouwhp0rSWvcmxiQ0eeO1\">자세히 알아보기</a></div><div><a href=\"/url?q=https://accounts.google.com/ServiceLogin%3Fcontinue%3Dhttps://www.google.com/search%253Fq%253DBTS%2526start%253D10%2526tbm%253Dnws%26hl%3Dko&amp;sa=U&amp;ved=0ahUKEwikyd_Eu534AhVkp1YBHX6VDgs4ChDGzwIIVA&amp;usg=AOvVaw15DZAOua-3Nr1zGbg8mMIa\">로그인</a></div><div><a class=\"xeDNfc\" href=\"https://www.google.com/preferences?hl=ko&amp;fg=1&amp;sa=X&amp;ved=0ahUKEwikyd_Eu534AhVkp1YBHX6VDgs4ChDl9QIIVQ\">설정</a><a class=\"xeDNfc\" href=\"https://policies.google.com/privacy?hl=ko&amp;fg=1\">개인정보처리방침</a><a class=\"xeDNfc\" href=\"https://policies.google.com/terms?hl=ko&amp;fg=1\">약관</a></div></div> </footer><script nonce=\"pqKhUeGJWjqGLVGoCUcOTw\">(function(){var hl='ko';(function(){\n",
       " var f=this||self,g=function(a){return a};\n",
       " var h,k=function(){if(void 0===h){var a=null,b=f.trustedTypes;if(b&&b.createPolicy){try{a=b.createPolicy(\"goog#html\",{createHTML:g,createScript:g,createScriptURL:g})}catch(c){f.console&&f.console.error(c.message)}h=a}else h=a}return h};var p=function(a,b){this.h=a===l&&b||\"\";this.g=m},q=function(a){return a instanceof p&&a.constructor===p&&a.g===m?a.h:\"type_error:Const\"},m={},l={};var t=function(a,b){this.g=b===r?a:\"\"};t.prototype.toString=function(){return this.g+\"\"};var u=function(a){return a instanceof t&&a.constructor===t?a.g:\"type_error:TrustedResourceUrl\"},y=function(){var a={},b=q(new p(l,\"/complete/search\"));if(!v.test(b))throw Error(\"a`\"+b);var c=b.replace(w,function(e,d){if(!Object.prototype.hasOwnProperty.call(a,d))throw Error(\"b`\"+d+\"`\"+b+\"`\"+JSON.stringify(a));e=a[d];return e instanceof p?q(e):encodeURIComponent(String(e))});return x(c)},w=/%{(\\w+)}/g,v=RegExp(\"^((https:)?//[0-9a-z.:[\\\\]-]+/|/[^/\\\\\\\\]|[^:/\\\\\\\\%]+/|[^:/\\\\\\\\%]*[?#]|about:blank#)\",\"i\"),z=/^([^?#]*)(\\?[^#]*)?(#[\\s\\S]*)?/,r={},x=function(a){var b=k();a=b?b.createScriptURL(a):a;return new t(a,r)},A=function(a,b,c){if(null==c)return b;if(\"string\"===typeof c)return c?a+encodeURIComponent(c):\"\";for(var e in c)if(Object.prototype.hasOwnProperty.call(c,e)){var d=c[e];d=Array.isArray(d)?d:[d];for(var n=0;n<d.length;n++){var P=d[n];null!=P&&(b||(b=a),b+=(b.length>a.length?\"&\":\"\")+encodeURIComponent(e)+\"=\"+encodeURIComponent(String(P)))}}return b};var B={},C=function(a,b,c){this.g=c===B?a:\"\"};C.prototype.toString=function(){return this.g.toString()};var D=function(a){var b=k();a=b?b.createHTML(a):a;return new C(a,null,B)};function E(a,b){if(void 0!==a.tagName){if(\"script\"===a.tagName.toLowerCase())throw Error(\"c\");if(\"style\"===a.tagName.toLowerCase())throw Error(\"d\");}a.innerHTML=b instanceof C&&b.constructor===C?b.g:\"type_error:SafeHtml\"};var F=document.querySelector(\".l\"),G=document.querySelector(\"#sf\"),H=G.querySelector(\".sbc\"),I=G.querySelector(\"[type=text]\"),J=G.querySelector(\"[type=submit]\"),K=G.querySelector(\".sc\"),L=G.querySelector(\".x\"),M=I.value,N=[],O=-1,Q=M,R,S,T;M||(L&&(L.style.display=\"none\"),U(!1));function U(a){if(H.classList.contains(\"esbc\")){var b=H.classList.contains(\"chsbc\"),c=H.classList.contains(\"rtlsbc\");a&&(K.style.display=\"block\",b?(G.style.borderRadius=\"20px 20px 0 0\",K.style.borderBottom=\"1px solid #DFE1E5\",J.style.borderRadius=c?\"20px 0 0 0\":\"0 20px 0 0\"):H.style.borderRadius=c?\"0 8px 0 0\":\"8px 0 0 0\");a||(K.style.display=\"none\",b?(G.style.borderRadius=\"20px\",K.style.borderBottom=\"none\",J.style.borderRadius=c?\"20px 0 0 20px\":\"0 20px 20px 0\"):H.style.borderRadius=c?\"0 8px 8px 0\":\"8px 0 0 8px\")}}function V(){G.querySelector(\"[name=oq]\").value=Q;G.querySelector(\"[name=aqs]\").value=\"heirloom-srp.\"+(0<=O?O:\"\")+\".\"+(0<N.length?\"0l\"+N.length:\"\")}\n",
       " function W(){R=null;if(S){var a={client:\"heirloom-srp\",hl:hl,json:\"t\",callback:\"hS\",q:S};\"undefined\"!==typeof ds&&ds&&(a.ds=ds);var b=document;var c=\"SCRIPT\";\"application/xhtml+xml\"===b.contentType&&(c=c.toLowerCase());c=b.createElement(c);b=y();b=z.exec(u(b).toString());var e=b[3]||\"\";a=x(b[1]+A(\"?\",b[2]||\"\",a)+A(\"#\",e));c.src=u(a);var d,n;(d=(a=null==(n=(d=(c.ownerDocument&&c.ownerDocument.defaultView||window).document).querySelector)?void 0:n.call(d,\"script[nonce]\"))?a.nonce||a.getAttribute(\"nonce\")||\n",
       " \"\":\"\")&&c.setAttribute(\"nonce\",d);document.body.appendChild(c);S=null;R=setTimeout(W,500)}}function X(){for(;K.firstChild;)K.removeChild(K.firstChild);N=[];O=-1;U(!1)}function Y(){var a=K.querySelector(\".scs\");a&&(a.className=\"\");0<=O?(a=K.childNodes[O],a.className=\"scs\",M=a.textContent):M=Q;I.value=M}I.addEventListener(\"focus\",function(){F&&(F.style.display=\"none\")},!1);I.addEventListener(\"blur\",function(){X();F&&(F.style.display=\"\")},!1);I.addEventListener(\"keyup\",function(a){M=I.value;T=!1;13===a.which?V():27===a.which?(X(),F&&(F.style.display=\"\"),M=Q,I.value=M):40===a.which?(O++,O>=N.length&&(O=-1),Y()):38===a.which?(O--,-1>O&&(O=N.length-1),Y()):(a=M)?(L&&(L.style.display=\"\"),S=a,R||W(),Q=a):(L&&(L.style.display=\"none\"),U(!1),X(),Q=\"\",T=!0)},!1);J.addEventListener(\"click\",V,!1);L.addEventListener(\"click\",function(){I.value=\"\";L.style.display=\"none\";U(!1)},!1);H.addEventListener(\"click\",function(){I.focus()},!1);window.hS=function(a){if(!T){X();0===a[1].length&&U(!1);for(var b=0;b<a[1].length;b++){var c=a[1][b][0],e=document.createElement(\"div\");E(e,D(c));e.addEventListener(\"mousedown\",function(d){d.preventDefault();return!1},!1);c=c.replace(/<\\/?b>/g,\"\");e.addEventListener(\"click\",function(d){return function(){O=d;V();Y();X();G.submit()}}(b),!1);e.addEventListener(\"mouseover\",function(d){return function(){O!==d&&(O=d,Y())}}(b),!1);K.appendChild(e);U(!0);N.push(c)}}};}).call(this);})();(function(){\n",
       " function b(a){for(a=a.target||a.srcElement;a&&\"A\"!==a.nodeName;)a=a.parentElement;a&&(a.href||\"\").match(/\\/search.*[?&]tbm=isch/)&&(a.href+=\"&biw=\"+document.documentElement.clientWidth,a.href+=\"&bih=\"+document.documentElement.clientHeight)}document.addEventListener(\"click\",b,!1);document.addEventListener(\"touchStart\",b,!1);}).call(this);</script></div>,\n",
       " <div><div class=\"KP7LCb\"> <div class=\"bRsWnc\"> <div class=\"N6RWV\"> <div class=\"Pg70bf Uv67qb\"> <a class=\"eZt8xd\" href=\"/search?q=BTS&amp;source=lnms&amp;sa=X&amp;ved=0ahUKEwikyd_Eu534AhVkp1YBHX6VDgs4ChD8BQgFKAA\">전체</a><a class=\"eZt8xd\" href=\"/search?q=BTS&amp;tbm=vid&amp;source=lnms&amp;sa=X&amp;ved=0ahUKEwikyd_Eu534AhVkp1YBHX6VDgs4ChD8BQgGKAE\">동영상</a><a class=\"eZt8xd\" href=\"/search?q=BTS&amp;tbm=isch&amp;source=lnms&amp;sa=X&amp;ved=0ahUKEwikyd_Eu534AhVkp1YBHX6VDgs4ChD8BQgHKAI\">이미지</a><span class=\"OXXup\">뉴스</span> <a href=\"https://maps.google.com/maps?q=BTS&amp;um=1&amp;ie=UTF-8&amp;sa=X&amp;ved=0ahUKEwikyd_Eu534AhVkp1YBHX6VDgs4ChD8BQgJKAQ\">지도</a> <a href=\"/search?q=BTS&amp;tbm=shop&amp;source=lnms&amp;sa=X&amp;ved=0ahUKEwikyd_Eu534AhVkp1YBHX6VDgs4ChD8BQgKKAU\">쇼핑</a> <a href=\"/search?q=BTS&amp;tbm=bks&amp;source=lnms&amp;sa=X&amp;ved=0ahUKEwikyd_Eu534AhVkp1YBHX6VDgs4ChD8BQgLKAY\">도서</a> <div class=\"FElbsf\"><a href=\"/advanced_search\" id=\"st-toggle\" role=\"button\" style=\"white-space:nowrap\">검색 도구</a></div> </div> </div> </div> </div><div class=\"Pg70bf wEsjbd ZINbbc xpd O9g5cc uUPGi\" id=\"st-card\" style=\"display:none\"><style>.wEsjbd{background-color:#fff;height:44px;white-space:nowrap}.coPU8c{height:60px;overflow-scrolling:touch;overflow-x:auto;overflow-y:hidden}.Xj2aue{height:44px;overflow:hidden}.RnNGze{margin:11px 16px}.wEsjbd div,.wEsjbd a,.wEsjbd li{outline-width:0;outline:none}</style><div class=\"Xj2aue\"><div class=\"coPU8c\"><div class=\"RnNGze\"><style>.PA9J5{display:inline-block}.RXaOfd{display:inline-block;height:22px;position:relative;padding-top:0;padding-bottom:0;padding-right:16px;padding-left:0;line-height:22px;cursor:pointer;text-transform:uppercase;font-size:12px;color:#70757a}.sa1toc{display:none;position:absolute;background:#fff;border:1px solid #d6d6d6;box-shadow:0 2px 4px rgba(0,0,0,.3);margin:0;white-space:nowrap;z-index:103;line-height:17px;padding-top:5px;padding-bottom:5px;padding-left:0}.PA9J5:hover .sa1toc{display:block}.mGSy8d a:active,.RXaOfd:active{color:#4285f4}</style><div class=\"PA9J5\"><div class=\"RXaOfd\" role=\"button\" tabindex=\"0\"><style>.TWMOUc{display:inline-block;padding-right:14px;white-space:nowrap}.vQYuGf{font-weight:bold}.OmTIzf{border-color:#909090 transparent;border-style:solid;border-width:4px 4px 0 4px;width:0;height:0;margin-left:-10px;top:50%;margin-top:-2px;position:absolute}.RXaOfd:active .OmTIzf{border-color:#4285f4 transparent}</style><div class=\"TWMOUc\">웹 검색</div><span class=\"OmTIzf\"></span></div><ul class=\"sa1toc ozatM\"><style>.ozatM{font-size:12px;text-transform:uppercase}.ozatM .yNFsl,.ozatM li{list-style-type:none;list-style-position:outside;list-style-image:none}.yNFsl.SkUj4c,.yNFsl a{color:rgba(0,0,0,0.54);text-decoration:none;padding:6px 44px 6px 14px;line-height:17px;display:block}.SkUj4c{background-image:url(//ssl.gstatic.com/ui/v1/menu/checkmark2.png);background-position:right center;background-repeat:no-repeat}.SkUj4c:active{background-color:#f8f9fa}</style><li class=\"yNFsl SkUj4c\">웹 검색</li><li class=\"yNFsl\"><a href=\"/search?q=BTS&amp;tbm=nws&amp;source=lnt&amp;tbs=lr:lang_1ko&amp;lr=lang_ko&amp;sa=X&amp;ved=0ahUKEwikyd_Eu534AhVkp1YBHX6VDgs4ChCnBQgN\">한국어 웹</a></li></ul></div><div class=\"PA9J5\"><div class=\"RXaOfd\" role=\"button\" tabindex=\"0\"><div class=\"TWMOUc\">최근 항목</div><span class=\"OmTIzf\"></span></div><ul class=\"sa1toc ozatM\"><li class=\"yNFsl SkUj4c\">최근 항목</li><li class=\"yNFsl\"><a href=\"/search?q=BTS&amp;tbm=nws&amp;source=lnt&amp;tbs=qdr:h&amp;sa=X&amp;ved=0ahUKEwikyd_Eu534AhVkp1YBHX6VDgs4ChCnBQgP\"> 지난 1시간</a></li><li class=\"yNFsl\"><a href=\"/search?q=BTS&amp;tbm=nws&amp;source=lnt&amp;tbs=qdr:d&amp;sa=X&amp;ved=0ahUKEwikyd_Eu534AhVkp1YBHX6VDgs4ChCnBQgQ\"> 지난 1일</a></li><li class=\"yNFsl\"><a href=\"/search?q=BTS&amp;tbm=nws&amp;source=lnt&amp;tbs=qdr:w&amp;sa=X&amp;ved=0ahUKEwikyd_Eu534AhVkp1YBHX6VDgs4ChCnBQgR\"> 지난 1주</a></li><li class=\"yNFsl\"><a href=\"/search?q=BTS&amp;tbm=nws&amp;source=lnt&amp;tbs=qdr:m&amp;sa=X&amp;ved=0ahUKEwikyd_Eu534AhVkp1YBHX6VDgs4ChCnBQgS\"> 지난 1개월</a></li><li class=\"yNFsl\"><a href=\"/search?q=BTS&amp;tbm=nws&amp;source=lnt&amp;tbs=qdr:y&amp;sa=X&amp;ved=0ahUKEwikyd_Eu534AhVkp1YBHX6VDgs4ChCnBQgT\"> 지난 1년</a></li><li class=\"yNFsl\"><a href=\"/search?q=BTS&amp;tbm=nws&amp;source=lnt&amp;tbs=ar:1&amp;sa=X&amp;ved=0ahUKEwikyd_Eu534AhVkp1YBHX6VDgs4ChCnBQgU\">자료실</a></li></ul></div></div></div></div><script nonce=\"pqKhUeGJWjqGLVGoCUcOTw\">(function(){\n",
       " var a=document.getElementById(\"st-toggle\"),b=document.getElementById(\"st-card\");a&&b&&a.addEventListener(\"click\",function(c){b.style.display=b.style.display?\"\":\"none\";c.preventDefault()},!1);}).call(this);</script></div></div>,\n",
       " <div class=\"KP7LCb\"> <div class=\"bRsWnc\"> <div class=\"N6RWV\"> <div class=\"Pg70bf Uv67qb\"> <a class=\"eZt8xd\" href=\"/search?q=BTS&amp;source=lnms&amp;sa=X&amp;ved=0ahUKEwikyd_Eu534AhVkp1YBHX6VDgs4ChD8BQgFKAA\">전체</a><a class=\"eZt8xd\" href=\"/search?q=BTS&amp;tbm=vid&amp;source=lnms&amp;sa=X&amp;ved=0ahUKEwikyd_Eu534AhVkp1YBHX6VDgs4ChD8BQgGKAE\">동영상</a><a class=\"eZt8xd\" href=\"/search?q=BTS&amp;tbm=isch&amp;source=lnms&amp;sa=X&amp;ved=0ahUKEwikyd_Eu534AhVkp1YBHX6VDgs4ChD8BQgHKAI\">이미지</a><span class=\"OXXup\">뉴스</span> <a href=\"https://maps.google.com/maps?q=BTS&amp;um=1&amp;ie=UTF-8&amp;sa=X&amp;ved=0ahUKEwikyd_Eu534AhVkp1YBHX6VDgs4ChD8BQgJKAQ\">지도</a> <a href=\"/search?q=BTS&amp;tbm=shop&amp;source=lnms&amp;sa=X&amp;ved=0ahUKEwikyd_Eu534AhVkp1YBHX6VDgs4ChD8BQgKKAU\">쇼핑</a> <a href=\"/search?q=BTS&amp;tbm=bks&amp;source=lnms&amp;sa=X&amp;ved=0ahUKEwikyd_Eu534AhVkp1YBHX6VDgs4ChD8BQgLKAY\">도서</a> <div class=\"FElbsf\"><a href=\"/advanced_search\" id=\"st-toggle\" role=\"button\" style=\"white-space:nowrap\">검색 도구</a></div> </div> </div> </div> </div>,\n",
       " <div class=\"bRsWnc\"> <div class=\"N6RWV\"> <div class=\"Pg70bf Uv67qb\"> <a class=\"eZt8xd\" href=\"/search?q=BTS&amp;source=lnms&amp;sa=X&amp;ved=0ahUKEwikyd_Eu534AhVkp1YBHX6VDgs4ChD8BQgFKAA\">전체</a><a class=\"eZt8xd\" href=\"/search?q=BTS&amp;tbm=vid&amp;source=lnms&amp;sa=X&amp;ved=0ahUKEwikyd_Eu534AhVkp1YBHX6VDgs4ChD8BQgGKAE\">동영상</a><a class=\"eZt8xd\" href=\"/search?q=BTS&amp;tbm=isch&amp;source=lnms&amp;sa=X&amp;ved=0ahUKEwikyd_Eu534AhVkp1YBHX6VDgs4ChD8BQgHKAI\">이미지</a><span class=\"OXXup\">뉴스</span> <a href=\"https://maps.google.com/maps?q=BTS&amp;um=1&amp;ie=UTF-8&amp;sa=X&amp;ved=0ahUKEwikyd_Eu534AhVkp1YBHX6VDgs4ChD8BQgJKAQ\">지도</a> <a href=\"/search?q=BTS&amp;tbm=shop&amp;source=lnms&amp;sa=X&amp;ved=0ahUKEwikyd_Eu534AhVkp1YBHX6VDgs4ChD8BQgKKAU\">쇼핑</a> <a href=\"/search?q=BTS&amp;tbm=bks&amp;source=lnms&amp;sa=X&amp;ved=0ahUKEwikyd_Eu534AhVkp1YBHX6VDgs4ChD8BQgLKAY\">도서</a> <div class=\"FElbsf\"><a href=\"/advanced_search\" id=\"st-toggle\" role=\"button\" style=\"white-space:nowrap\">검색 도구</a></div> </div> </div> </div>,\n",
       " <div class=\"N6RWV\"> <div class=\"Pg70bf Uv67qb\"> <a class=\"eZt8xd\" href=\"/search?q=BTS&amp;source=lnms&amp;sa=X&amp;ved=0ahUKEwikyd_Eu534AhVkp1YBHX6VDgs4ChD8BQgFKAA\">전체</a><a class=\"eZt8xd\" href=\"/search?q=BTS&amp;tbm=vid&amp;source=lnms&amp;sa=X&amp;ved=0ahUKEwikyd_Eu534AhVkp1YBHX6VDgs4ChD8BQgGKAE\">동영상</a><a class=\"eZt8xd\" href=\"/search?q=BTS&amp;tbm=isch&amp;source=lnms&amp;sa=X&amp;ved=0ahUKEwikyd_Eu534AhVkp1YBHX6VDgs4ChD8BQgHKAI\">이미지</a><span class=\"OXXup\">뉴스</span> <a href=\"https://maps.google.com/maps?q=BTS&amp;um=1&amp;ie=UTF-8&amp;sa=X&amp;ved=0ahUKEwikyd_Eu534AhVkp1YBHX6VDgs4ChD8BQgJKAQ\">지도</a> <a href=\"/search?q=BTS&amp;tbm=shop&amp;source=lnms&amp;sa=X&amp;ved=0ahUKEwikyd_Eu534AhVkp1YBHX6VDgs4ChD8BQgKKAU\">쇼핑</a> <a href=\"/search?q=BTS&amp;tbm=bks&amp;source=lnms&amp;sa=X&amp;ved=0ahUKEwikyd_Eu534AhVkp1YBHX6VDgs4ChD8BQgLKAY\">도서</a> <div class=\"FElbsf\"><a href=\"/advanced_search\" id=\"st-toggle\" role=\"button\" style=\"white-space:nowrap\">검색 도구</a></div> </div> </div>,\n",
       " <div class=\"Pg70bf Uv67qb\"> <a class=\"eZt8xd\" href=\"/search?q=BTS&amp;source=lnms&amp;sa=X&amp;ved=0ahUKEwikyd_Eu534AhVkp1YBHX6VDgs4ChD8BQgFKAA\">전체</a><a class=\"eZt8xd\" href=\"/search?q=BTS&amp;tbm=vid&amp;source=lnms&amp;sa=X&amp;ved=0ahUKEwikyd_Eu534AhVkp1YBHX6VDgs4ChD8BQgGKAE\">동영상</a><a class=\"eZt8xd\" href=\"/search?q=BTS&amp;tbm=isch&amp;source=lnms&amp;sa=X&amp;ved=0ahUKEwikyd_Eu534AhVkp1YBHX6VDgs4ChD8BQgHKAI\">이미지</a><span class=\"OXXup\">뉴스</span> <a href=\"https://maps.google.com/maps?q=BTS&amp;um=1&amp;ie=UTF-8&amp;sa=X&amp;ved=0ahUKEwikyd_Eu534AhVkp1YBHX6VDgs4ChD8BQgJKAQ\">지도</a> <a href=\"/search?q=BTS&amp;tbm=shop&amp;source=lnms&amp;sa=X&amp;ved=0ahUKEwikyd_Eu534AhVkp1YBHX6VDgs4ChD8BQgKKAU\">쇼핑</a> <a href=\"/search?q=BTS&amp;tbm=bks&amp;source=lnms&amp;sa=X&amp;ved=0ahUKEwikyd_Eu534AhVkp1YBHX6VDgs4ChD8BQgLKAY\">도서</a> <div class=\"FElbsf\"><a href=\"/advanced_search\" id=\"st-toggle\" role=\"button\" style=\"white-space:nowrap\">검색 도구</a></div> </div>,\n",
       " <div class=\"FElbsf\"><a href=\"/advanced_search\" id=\"st-toggle\" role=\"button\" style=\"white-space:nowrap\">검색 도구</a></div>,\n",
       " <div class=\"Pg70bf wEsjbd ZINbbc xpd O9g5cc uUPGi\" id=\"st-card\" style=\"display:none\"><style>.wEsjbd{background-color:#fff;height:44px;white-space:nowrap}.coPU8c{height:60px;overflow-scrolling:touch;overflow-x:auto;overflow-y:hidden}.Xj2aue{height:44px;overflow:hidden}.RnNGze{margin:11px 16px}.wEsjbd div,.wEsjbd a,.wEsjbd li{outline-width:0;outline:none}</style><div class=\"Xj2aue\"><div class=\"coPU8c\"><div class=\"RnNGze\"><style>.PA9J5{display:inline-block}.RXaOfd{display:inline-block;height:22px;position:relative;padding-top:0;padding-bottom:0;padding-right:16px;padding-left:0;line-height:22px;cursor:pointer;text-transform:uppercase;font-size:12px;color:#70757a}.sa1toc{display:none;position:absolute;background:#fff;border:1px solid #d6d6d6;box-shadow:0 2px 4px rgba(0,0,0,.3);margin:0;white-space:nowrap;z-index:103;line-height:17px;padding-top:5px;padding-bottom:5px;padding-left:0}.PA9J5:hover .sa1toc{display:block}.mGSy8d a:active,.RXaOfd:active{color:#4285f4}</style><div class=\"PA9J5\"><div class=\"RXaOfd\" role=\"button\" tabindex=\"0\"><style>.TWMOUc{display:inline-block;padding-right:14px;white-space:nowrap}.vQYuGf{font-weight:bold}.OmTIzf{border-color:#909090 transparent;border-style:solid;border-width:4px 4px 0 4px;width:0;height:0;margin-left:-10px;top:50%;margin-top:-2px;position:absolute}.RXaOfd:active .OmTIzf{border-color:#4285f4 transparent}</style><div class=\"TWMOUc\">웹 검색</div><span class=\"OmTIzf\"></span></div><ul class=\"sa1toc ozatM\"><style>.ozatM{font-size:12px;text-transform:uppercase}.ozatM .yNFsl,.ozatM li{list-style-type:none;list-style-position:outside;list-style-image:none}.yNFsl.SkUj4c,.yNFsl a{color:rgba(0,0,0,0.54);text-decoration:none;padding:6px 44px 6px 14px;line-height:17px;display:block}.SkUj4c{background-image:url(//ssl.gstatic.com/ui/v1/menu/checkmark2.png);background-position:right center;background-repeat:no-repeat}.SkUj4c:active{background-color:#f8f9fa}</style><li class=\"yNFsl SkUj4c\">웹 검색</li><li class=\"yNFsl\"><a href=\"/search?q=BTS&amp;tbm=nws&amp;source=lnt&amp;tbs=lr:lang_1ko&amp;lr=lang_ko&amp;sa=X&amp;ved=0ahUKEwikyd_Eu534AhVkp1YBHX6VDgs4ChCnBQgN\">한국어 웹</a></li></ul></div><div class=\"PA9J5\"><div class=\"RXaOfd\" role=\"button\" tabindex=\"0\"><div class=\"TWMOUc\">최근 항목</div><span class=\"OmTIzf\"></span></div><ul class=\"sa1toc ozatM\"><li class=\"yNFsl SkUj4c\">최근 항목</li><li class=\"yNFsl\"><a href=\"/search?q=BTS&amp;tbm=nws&amp;source=lnt&amp;tbs=qdr:h&amp;sa=X&amp;ved=0ahUKEwikyd_Eu534AhVkp1YBHX6VDgs4ChCnBQgP\"> 지난 1시간</a></li><li class=\"yNFsl\"><a href=\"/search?q=BTS&amp;tbm=nws&amp;source=lnt&amp;tbs=qdr:d&amp;sa=X&amp;ved=0ahUKEwikyd_Eu534AhVkp1YBHX6VDgs4ChCnBQgQ\"> 지난 1일</a></li><li class=\"yNFsl\"><a href=\"/search?q=BTS&amp;tbm=nws&amp;source=lnt&amp;tbs=qdr:w&amp;sa=X&amp;ved=0ahUKEwikyd_Eu534AhVkp1YBHX6VDgs4ChCnBQgR\"> 지난 1주</a></li><li class=\"yNFsl\"><a href=\"/search?q=BTS&amp;tbm=nws&amp;source=lnt&amp;tbs=qdr:m&amp;sa=X&amp;ved=0ahUKEwikyd_Eu534AhVkp1YBHX6VDgs4ChCnBQgS\"> 지난 1개월</a></li><li class=\"yNFsl\"><a href=\"/search?q=BTS&amp;tbm=nws&amp;source=lnt&amp;tbs=qdr:y&amp;sa=X&amp;ved=0ahUKEwikyd_Eu534AhVkp1YBHX6VDgs4ChCnBQgT\"> 지난 1년</a></li><li class=\"yNFsl\"><a href=\"/search?q=BTS&amp;tbm=nws&amp;source=lnt&amp;tbs=ar:1&amp;sa=X&amp;ved=0ahUKEwikyd_Eu534AhVkp1YBHX6VDgs4ChCnBQgU\">자료실</a></li></ul></div></div></div></div><script nonce=\"pqKhUeGJWjqGLVGoCUcOTw\">(function(){\n",
       " var a=document.getElementById(\"st-toggle\"),b=document.getElementById(\"st-card\");a&&b&&a.addEventListener(\"click\",function(c){b.style.display=b.style.display?\"\":\"none\";c.preventDefault()},!1);}).call(this);</script></div>,\n",
       " <div class=\"Xj2aue\"><div class=\"coPU8c\"><div class=\"RnNGze\"><style>.PA9J5{display:inline-block}.RXaOfd{display:inline-block;height:22px;position:relative;padding-top:0;padding-bottom:0;padding-right:16px;padding-left:0;line-height:22px;cursor:pointer;text-transform:uppercase;font-size:12px;color:#70757a}.sa1toc{display:none;position:absolute;background:#fff;border:1px solid #d6d6d6;box-shadow:0 2px 4px rgba(0,0,0,.3);margin:0;white-space:nowrap;z-index:103;line-height:17px;padding-top:5px;padding-bottom:5px;padding-left:0}.PA9J5:hover .sa1toc{display:block}.mGSy8d a:active,.RXaOfd:active{color:#4285f4}</style><div class=\"PA9J5\"><div class=\"RXaOfd\" role=\"button\" tabindex=\"0\"><style>.TWMOUc{display:inline-block;padding-right:14px;white-space:nowrap}.vQYuGf{font-weight:bold}.OmTIzf{border-color:#909090 transparent;border-style:solid;border-width:4px 4px 0 4px;width:0;height:0;margin-left:-10px;top:50%;margin-top:-2px;position:absolute}.RXaOfd:active .OmTIzf{border-color:#4285f4 transparent}</style><div class=\"TWMOUc\">웹 검색</div><span class=\"OmTIzf\"></span></div><ul class=\"sa1toc ozatM\"><style>.ozatM{font-size:12px;text-transform:uppercase}.ozatM .yNFsl,.ozatM li{list-style-type:none;list-style-position:outside;list-style-image:none}.yNFsl.SkUj4c,.yNFsl a{color:rgba(0,0,0,0.54);text-decoration:none;padding:6px 44px 6px 14px;line-height:17px;display:block}.SkUj4c{background-image:url(//ssl.gstatic.com/ui/v1/menu/checkmark2.png);background-position:right center;background-repeat:no-repeat}.SkUj4c:active{background-color:#f8f9fa}</style><li class=\"yNFsl SkUj4c\">웹 검색</li><li class=\"yNFsl\"><a href=\"/search?q=BTS&amp;tbm=nws&amp;source=lnt&amp;tbs=lr:lang_1ko&amp;lr=lang_ko&amp;sa=X&amp;ved=0ahUKEwikyd_Eu534AhVkp1YBHX6VDgs4ChCnBQgN\">한국어 웹</a></li></ul></div><div class=\"PA9J5\"><div class=\"RXaOfd\" role=\"button\" tabindex=\"0\"><div class=\"TWMOUc\">최근 항목</div><span class=\"OmTIzf\"></span></div><ul class=\"sa1toc ozatM\"><li class=\"yNFsl SkUj4c\">최근 항목</li><li class=\"yNFsl\"><a href=\"/search?q=BTS&amp;tbm=nws&amp;source=lnt&amp;tbs=qdr:h&amp;sa=X&amp;ved=0ahUKEwikyd_Eu534AhVkp1YBHX6VDgs4ChCnBQgP\"> 지난 1시간</a></li><li class=\"yNFsl\"><a href=\"/search?q=BTS&amp;tbm=nws&amp;source=lnt&amp;tbs=qdr:d&amp;sa=X&amp;ved=0ahUKEwikyd_Eu534AhVkp1YBHX6VDgs4ChCnBQgQ\"> 지난 1일</a></li><li class=\"yNFsl\"><a href=\"/search?q=BTS&amp;tbm=nws&amp;source=lnt&amp;tbs=qdr:w&amp;sa=X&amp;ved=0ahUKEwikyd_Eu534AhVkp1YBHX6VDgs4ChCnBQgR\"> 지난 1주</a></li><li class=\"yNFsl\"><a href=\"/search?q=BTS&amp;tbm=nws&amp;source=lnt&amp;tbs=qdr:m&amp;sa=X&amp;ved=0ahUKEwikyd_Eu534AhVkp1YBHX6VDgs4ChCnBQgS\"> 지난 1개월</a></li><li class=\"yNFsl\"><a href=\"/search?q=BTS&amp;tbm=nws&amp;source=lnt&amp;tbs=qdr:y&amp;sa=X&amp;ved=0ahUKEwikyd_Eu534AhVkp1YBHX6VDgs4ChCnBQgT\"> 지난 1년</a></li><li class=\"yNFsl\"><a href=\"/search?q=BTS&amp;tbm=nws&amp;source=lnt&amp;tbs=ar:1&amp;sa=X&amp;ved=0ahUKEwikyd_Eu534AhVkp1YBHX6VDgs4ChCnBQgU\">자료실</a></li></ul></div></div></div></div>,\n",
       " <div class=\"coPU8c\"><div class=\"RnNGze\"><style>.PA9J5{display:inline-block}.RXaOfd{display:inline-block;height:22px;position:relative;padding-top:0;padding-bottom:0;padding-right:16px;padding-left:0;line-height:22px;cursor:pointer;text-transform:uppercase;font-size:12px;color:#70757a}.sa1toc{display:none;position:absolute;background:#fff;border:1px solid #d6d6d6;box-shadow:0 2px 4px rgba(0,0,0,.3);margin:0;white-space:nowrap;z-index:103;line-height:17px;padding-top:5px;padding-bottom:5px;padding-left:0}.PA9J5:hover .sa1toc{display:block}.mGSy8d a:active,.RXaOfd:active{color:#4285f4}</style><div class=\"PA9J5\"><div class=\"RXaOfd\" role=\"button\" tabindex=\"0\"><style>.TWMOUc{display:inline-block;padding-right:14px;white-space:nowrap}.vQYuGf{font-weight:bold}.OmTIzf{border-color:#909090 transparent;border-style:solid;border-width:4px 4px 0 4px;width:0;height:0;margin-left:-10px;top:50%;margin-top:-2px;position:absolute}.RXaOfd:active .OmTIzf{border-color:#4285f4 transparent}</style><div class=\"TWMOUc\">웹 검색</div><span class=\"OmTIzf\"></span></div><ul class=\"sa1toc ozatM\"><style>.ozatM{font-size:12px;text-transform:uppercase}.ozatM .yNFsl,.ozatM li{list-style-type:none;list-style-position:outside;list-style-image:none}.yNFsl.SkUj4c,.yNFsl a{color:rgba(0,0,0,0.54);text-decoration:none;padding:6px 44px 6px 14px;line-height:17px;display:block}.SkUj4c{background-image:url(//ssl.gstatic.com/ui/v1/menu/checkmark2.png);background-position:right center;background-repeat:no-repeat}.SkUj4c:active{background-color:#f8f9fa}</style><li class=\"yNFsl SkUj4c\">웹 검색</li><li class=\"yNFsl\"><a href=\"/search?q=BTS&amp;tbm=nws&amp;source=lnt&amp;tbs=lr:lang_1ko&amp;lr=lang_ko&amp;sa=X&amp;ved=0ahUKEwikyd_Eu534AhVkp1YBHX6VDgs4ChCnBQgN\">한국어 웹</a></li></ul></div><div class=\"PA9J5\"><div class=\"RXaOfd\" role=\"button\" tabindex=\"0\"><div class=\"TWMOUc\">최근 항목</div><span class=\"OmTIzf\"></span></div><ul class=\"sa1toc ozatM\"><li class=\"yNFsl SkUj4c\">최근 항목</li><li class=\"yNFsl\"><a href=\"/search?q=BTS&amp;tbm=nws&amp;source=lnt&amp;tbs=qdr:h&amp;sa=X&amp;ved=0ahUKEwikyd_Eu534AhVkp1YBHX6VDgs4ChCnBQgP\"> 지난 1시간</a></li><li class=\"yNFsl\"><a href=\"/search?q=BTS&amp;tbm=nws&amp;source=lnt&amp;tbs=qdr:d&amp;sa=X&amp;ved=0ahUKEwikyd_Eu534AhVkp1YBHX6VDgs4ChCnBQgQ\"> 지난 1일</a></li><li class=\"yNFsl\"><a href=\"/search?q=BTS&amp;tbm=nws&amp;source=lnt&amp;tbs=qdr:w&amp;sa=X&amp;ved=0ahUKEwikyd_Eu534AhVkp1YBHX6VDgs4ChCnBQgR\"> 지난 1주</a></li><li class=\"yNFsl\"><a href=\"/search?q=BTS&amp;tbm=nws&amp;source=lnt&amp;tbs=qdr:m&amp;sa=X&amp;ved=0ahUKEwikyd_Eu534AhVkp1YBHX6VDgs4ChCnBQgS\"> 지난 1개월</a></li><li class=\"yNFsl\"><a href=\"/search?q=BTS&amp;tbm=nws&amp;source=lnt&amp;tbs=qdr:y&amp;sa=X&amp;ved=0ahUKEwikyd_Eu534AhVkp1YBHX6VDgs4ChCnBQgT\"> 지난 1년</a></li><li class=\"yNFsl\"><a href=\"/search?q=BTS&amp;tbm=nws&amp;source=lnt&amp;tbs=ar:1&amp;sa=X&amp;ved=0ahUKEwikyd_Eu534AhVkp1YBHX6VDgs4ChCnBQgU\">자료실</a></li></ul></div></div></div>,\n",
       " <div class=\"RnNGze\"><style>.PA9J5{display:inline-block}.RXaOfd{display:inline-block;height:22px;position:relative;padding-top:0;padding-bottom:0;padding-right:16px;padding-left:0;line-height:22px;cursor:pointer;text-transform:uppercase;font-size:12px;color:#70757a}.sa1toc{display:none;position:absolute;background:#fff;border:1px solid #d6d6d6;box-shadow:0 2px 4px rgba(0,0,0,.3);margin:0;white-space:nowrap;z-index:103;line-height:17px;padding-top:5px;padding-bottom:5px;padding-left:0}.PA9J5:hover .sa1toc{display:block}.mGSy8d a:active,.RXaOfd:active{color:#4285f4}</style><div class=\"PA9J5\"><div class=\"RXaOfd\" role=\"button\" tabindex=\"0\"><style>.TWMOUc{display:inline-block;padding-right:14px;white-space:nowrap}.vQYuGf{font-weight:bold}.OmTIzf{border-color:#909090 transparent;border-style:solid;border-width:4px 4px 0 4px;width:0;height:0;margin-left:-10px;top:50%;margin-top:-2px;position:absolute}.RXaOfd:active .OmTIzf{border-color:#4285f4 transparent}</style><div class=\"TWMOUc\">웹 검색</div><span class=\"OmTIzf\"></span></div><ul class=\"sa1toc ozatM\"><style>.ozatM{font-size:12px;text-transform:uppercase}.ozatM .yNFsl,.ozatM li{list-style-type:none;list-style-position:outside;list-style-image:none}.yNFsl.SkUj4c,.yNFsl a{color:rgba(0,0,0,0.54);text-decoration:none;padding:6px 44px 6px 14px;line-height:17px;display:block}.SkUj4c{background-image:url(//ssl.gstatic.com/ui/v1/menu/checkmark2.png);background-position:right center;background-repeat:no-repeat}.SkUj4c:active{background-color:#f8f9fa}</style><li class=\"yNFsl SkUj4c\">웹 검색</li><li class=\"yNFsl\"><a href=\"/search?q=BTS&amp;tbm=nws&amp;source=lnt&amp;tbs=lr:lang_1ko&amp;lr=lang_ko&amp;sa=X&amp;ved=0ahUKEwikyd_Eu534AhVkp1YBHX6VDgs4ChCnBQgN\">한국어 웹</a></li></ul></div><div class=\"PA9J5\"><div class=\"RXaOfd\" role=\"button\" tabindex=\"0\"><div class=\"TWMOUc\">최근 항목</div><span class=\"OmTIzf\"></span></div><ul class=\"sa1toc ozatM\"><li class=\"yNFsl SkUj4c\">최근 항목</li><li class=\"yNFsl\"><a href=\"/search?q=BTS&amp;tbm=nws&amp;source=lnt&amp;tbs=qdr:h&amp;sa=X&amp;ved=0ahUKEwikyd_Eu534AhVkp1YBHX6VDgs4ChCnBQgP\"> 지난 1시간</a></li><li class=\"yNFsl\"><a href=\"/search?q=BTS&amp;tbm=nws&amp;source=lnt&amp;tbs=qdr:d&amp;sa=X&amp;ved=0ahUKEwikyd_Eu534AhVkp1YBHX6VDgs4ChCnBQgQ\"> 지난 1일</a></li><li class=\"yNFsl\"><a href=\"/search?q=BTS&amp;tbm=nws&amp;source=lnt&amp;tbs=qdr:w&amp;sa=X&amp;ved=0ahUKEwikyd_Eu534AhVkp1YBHX6VDgs4ChCnBQgR\"> 지난 1주</a></li><li class=\"yNFsl\"><a href=\"/search?q=BTS&amp;tbm=nws&amp;source=lnt&amp;tbs=qdr:m&amp;sa=X&amp;ved=0ahUKEwikyd_Eu534AhVkp1YBHX6VDgs4ChCnBQgS\"> 지난 1개월</a></li><li class=\"yNFsl\"><a href=\"/search?q=BTS&amp;tbm=nws&amp;source=lnt&amp;tbs=qdr:y&amp;sa=X&amp;ved=0ahUKEwikyd_Eu534AhVkp1YBHX6VDgs4ChCnBQgT\"> 지난 1년</a></li><li class=\"yNFsl\"><a href=\"/search?q=BTS&amp;tbm=nws&amp;source=lnt&amp;tbs=ar:1&amp;sa=X&amp;ved=0ahUKEwikyd_Eu534AhVkp1YBHX6VDgs4ChCnBQgU\">자료실</a></li></ul></div></div>,\n",
       " <div class=\"PA9J5\"><div class=\"RXaOfd\" role=\"button\" tabindex=\"0\"><style>.TWMOUc{display:inline-block;padding-right:14px;white-space:nowrap}.vQYuGf{font-weight:bold}.OmTIzf{border-color:#909090 transparent;border-style:solid;border-width:4px 4px 0 4px;width:0;height:0;margin-left:-10px;top:50%;margin-top:-2px;position:absolute}.RXaOfd:active .OmTIzf{border-color:#4285f4 transparent}</style><div class=\"TWMOUc\">웹 검색</div><span class=\"OmTIzf\"></span></div><ul class=\"sa1toc ozatM\"><style>.ozatM{font-size:12px;text-transform:uppercase}.ozatM .yNFsl,.ozatM li{list-style-type:none;list-style-position:outside;list-style-image:none}.yNFsl.SkUj4c,.yNFsl a{color:rgba(0,0,0,0.54);text-decoration:none;padding:6px 44px 6px 14px;line-height:17px;display:block}.SkUj4c{background-image:url(//ssl.gstatic.com/ui/v1/menu/checkmark2.png);background-position:right center;background-repeat:no-repeat}.SkUj4c:active{background-color:#f8f9fa}</style><li class=\"yNFsl SkUj4c\">웹 검색</li><li class=\"yNFsl\"><a href=\"/search?q=BTS&amp;tbm=nws&amp;source=lnt&amp;tbs=lr:lang_1ko&amp;lr=lang_ko&amp;sa=X&amp;ved=0ahUKEwikyd_Eu534AhVkp1YBHX6VDgs4ChCnBQgN\">한국어 웹</a></li></ul></div>,\n",
       " <div class=\"RXaOfd\" role=\"button\" tabindex=\"0\"><style>.TWMOUc{display:inline-block;padding-right:14px;white-space:nowrap}.vQYuGf{font-weight:bold}.OmTIzf{border-color:#909090 transparent;border-style:solid;border-width:4px 4px 0 4px;width:0;height:0;margin-left:-10px;top:50%;margin-top:-2px;position:absolute}.RXaOfd:active .OmTIzf{border-color:#4285f4 transparent}</style><div class=\"TWMOUc\">웹 검색</div><span class=\"OmTIzf\"></span></div>,\n",
       " <div class=\"TWMOUc\">웹 검색</div>,\n",
       " <div class=\"PA9J5\"><div class=\"RXaOfd\" role=\"button\" tabindex=\"0\"><div class=\"TWMOUc\">최근 항목</div><span class=\"OmTIzf\"></span></div><ul class=\"sa1toc ozatM\"><li class=\"yNFsl SkUj4c\">최근 항목</li><li class=\"yNFsl\"><a href=\"/search?q=BTS&amp;tbm=nws&amp;source=lnt&amp;tbs=qdr:h&amp;sa=X&amp;ved=0ahUKEwikyd_Eu534AhVkp1YBHX6VDgs4ChCnBQgP\"> 지난 1시간</a></li><li class=\"yNFsl\"><a href=\"/search?q=BTS&amp;tbm=nws&amp;source=lnt&amp;tbs=qdr:d&amp;sa=X&amp;ved=0ahUKEwikyd_Eu534AhVkp1YBHX6VDgs4ChCnBQgQ\"> 지난 1일</a></li><li class=\"yNFsl\"><a href=\"/search?q=BTS&amp;tbm=nws&amp;source=lnt&amp;tbs=qdr:w&amp;sa=X&amp;ved=0ahUKEwikyd_Eu534AhVkp1YBHX6VDgs4ChCnBQgR\"> 지난 1주</a></li><li class=\"yNFsl\"><a href=\"/search?q=BTS&amp;tbm=nws&amp;source=lnt&amp;tbs=qdr:m&amp;sa=X&amp;ved=0ahUKEwikyd_Eu534AhVkp1YBHX6VDgs4ChCnBQgS\"> 지난 1개월</a></li><li class=\"yNFsl\"><a href=\"/search?q=BTS&amp;tbm=nws&amp;source=lnt&amp;tbs=qdr:y&amp;sa=X&amp;ved=0ahUKEwikyd_Eu534AhVkp1YBHX6VDgs4ChCnBQgT\"> 지난 1년</a></li><li class=\"yNFsl\"><a href=\"/search?q=BTS&amp;tbm=nws&amp;source=lnt&amp;tbs=ar:1&amp;sa=X&amp;ved=0ahUKEwikyd_Eu534AhVkp1YBHX6VDgs4ChCnBQgU\">자료실</a></li></ul></div>,\n",
       " <div class=\"RXaOfd\" role=\"button\" tabindex=\"0\"><div class=\"TWMOUc\">최근 항목</div><span class=\"OmTIzf\"></span></div>,\n",
       " <div class=\"TWMOUc\">최근 항목</div>,\n",
       " <div><!--SW_C_X--></div>,\n",
       " <div></div>,\n",
       " <div><div class=\"ZINbbc luh4tb xpd O9g5cc uUPGi\"><a href=\"/url?q=https://www.bbc.com/korean/international-61670357&amp;sa=U&amp;ved=2ahUKEwikyd_Eu534AhVkp1YBHX6VDgs4ChDF9AF6BAgEEAI&amp;usg=AOvVaw1Mzl2GwRVPE76X1vrrH_Wv\"><div class=\"egMi0 kCrYT\"><h3 class=\"zBAuLc l97dzf\"><div class=\"BNeawe vvjwJb AP7Wnd\">BTS, 한국 아티스트 최초로 백악관 방문... '증오범죄 근절'</div></h3><div class=\"BNeawe UPmit AP7Wnd\">BBC</div></div><div class=\"kCrYT\"><div class=\"lcJF1d Q6Xouf G6SP0b\"><div style=\"width:120px;height:66px;position:static\"><img alt=\"\" class=\"h1hFNe\" data-deferred=\"1\" id=\"dimg_7\" src=\"data:image/gif;base64,R0lGODlhAQABAIAAAP///////yH5BAEKAAEALAAAAAABAAEAAAICTAEAOw==\" style=\"width:120px;height:66px\"/></div></div><div><div class=\"BNeawe s3v9rd AP7Wnd\"><div><div class=\"BNeawe s3v9rd AP7Wnd\">BTS는 미국 '아시아·하와이 원주민·태평양 제도 주민(AANHPI) 유산의 달' 마지막 날인 이날 조 바이든 미국 대통령과 만나 반(反) 아시안 증오범죄 대응...<br/><span class=\"r0bn4c rQMQod\">6일 전</span></div></div></div></div><div class=\"rl7ilb\"></div></div></a></div></div>,\n",
       " <div class=\"ZINbbc luh4tb xpd O9g5cc uUPGi\"><a href=\"/url?q=https://www.bbc.com/korean/international-61670357&amp;sa=U&amp;ved=2ahUKEwikyd_Eu534AhVkp1YBHX6VDgs4ChDF9AF6BAgEEAI&amp;usg=AOvVaw1Mzl2GwRVPE76X1vrrH_Wv\"><div class=\"egMi0 kCrYT\"><h3 class=\"zBAuLc l97dzf\"><div class=\"BNeawe vvjwJb AP7Wnd\">BTS, 한국 아티스트 최초로 백악관 방문... '증오범죄 근절'</div></h3><div class=\"BNeawe UPmit AP7Wnd\">BBC</div></div><div class=\"kCrYT\"><div class=\"lcJF1d Q6Xouf G6SP0b\"><div style=\"width:120px;height:66px;position:static\"><img alt=\"\" class=\"h1hFNe\" data-deferred=\"1\" id=\"dimg_7\" src=\"data:image/gif;base64,R0lGODlhAQABAIAAAP///////yH5BAEKAAEALAAAAAABAAEAAAICTAEAOw==\" style=\"width:120px;height:66px\"/></div></div><div><div class=\"BNeawe s3v9rd AP7Wnd\"><div><div class=\"BNeawe s3v9rd AP7Wnd\">BTS는 미국 '아시아·하와이 원주민·태평양 제도 주민(AANHPI) 유산의 달' 마지막 날인 이날 조 바이든 미국 대통령과 만나 반(反) 아시안 증오범죄 대응...<br/><span class=\"r0bn4c rQMQod\">6일 전</span></div></div></div></div><div class=\"rl7ilb\"></div></div></a></div>,\n",
       " <div class=\"egMi0 kCrYT\"><h3 class=\"zBAuLc l97dzf\"><div class=\"BNeawe vvjwJb AP7Wnd\">BTS, 한국 아티스트 최초로 백악관 방문... '증오범죄 근절'</div></h3><div class=\"BNeawe UPmit AP7Wnd\">BBC</div></div>,\n",
       " <div class=\"BNeawe vvjwJb AP7Wnd\">BTS, 한국 아티스트 최초로 백악관 방문... '증오범죄 근절'</div>,\n",
       " <div class=\"BNeawe UPmit AP7Wnd\">BBC</div>,\n",
       " <div class=\"kCrYT\"><div class=\"lcJF1d Q6Xouf G6SP0b\"><div style=\"width:120px;height:66px;position:static\"><img alt=\"\" class=\"h1hFNe\" data-deferred=\"1\" id=\"dimg_7\" src=\"data:image/gif;base64,R0lGODlhAQABAIAAAP///////yH5BAEKAAEALAAAAAABAAEAAAICTAEAOw==\" style=\"width:120px;height:66px\"/></div></div><div><div class=\"BNeawe s3v9rd AP7Wnd\"><div><div class=\"BNeawe s3v9rd AP7Wnd\">BTS는 미국 '아시아·하와이 원주민·태평양 제도 주민(AANHPI) 유산의 달' 마지막 날인 이날 조 바이든 미국 대통령과 만나 반(反) 아시안 증오범죄 대응...<br/><span class=\"r0bn4c rQMQod\">6일 전</span></div></div></div></div><div class=\"rl7ilb\"></div></div>,\n",
       " <div class=\"lcJF1d Q6Xouf G6SP0b\"><div style=\"width:120px;height:66px;position:static\"><img alt=\"\" class=\"h1hFNe\" data-deferred=\"1\" id=\"dimg_7\" src=\"data:image/gif;base64,R0lGODlhAQABAIAAAP///////yH5BAEKAAEALAAAAAABAAEAAAICTAEAOw==\" style=\"width:120px;height:66px\"/></div></div>,\n",
       " <div style=\"width:120px;height:66px;position:static\"><img alt=\"\" class=\"h1hFNe\" data-deferred=\"1\" id=\"dimg_7\" src=\"data:image/gif;base64,R0lGODlhAQABAIAAAP///////yH5BAEKAAEALAAAAAABAAEAAAICTAEAOw==\" style=\"width:120px;height:66px\"/></div>,\n",
       " <div><div class=\"BNeawe s3v9rd AP7Wnd\"><div><div class=\"BNeawe s3v9rd AP7Wnd\">BTS는 미국 '아시아·하와이 원주민·태평양 제도 주민(AANHPI) 유산의 달' 마지막 날인 이날 조 바이든 미국 대통령과 만나 반(反) 아시안 증오범죄 대응...<br/><span class=\"r0bn4c rQMQod\">6일 전</span></div></div></div></div>,\n",
       " <div class=\"BNeawe s3v9rd AP7Wnd\"><div><div class=\"BNeawe s3v9rd AP7Wnd\">BTS는 미국 '아시아·하와이 원주민·태평양 제도 주민(AANHPI) 유산의 달' 마지막 날인 이날 조 바이든 미국 대통령과 만나 반(反) 아시안 증오범죄 대응...<br/><span class=\"r0bn4c rQMQod\">6일 전</span></div></div></div>,\n",
       " <div><div class=\"BNeawe s3v9rd AP7Wnd\">BTS는 미국 '아시아·하와이 원주민·태평양 제도 주민(AANHPI) 유산의 달' 마지막 날인 이날 조 바이든 미국 대통령과 만나 반(反) 아시안 증오범죄 대응...<br/><span class=\"r0bn4c rQMQod\">6일 전</span></div></div>,\n",
       " <div class=\"BNeawe s3v9rd AP7Wnd\">BTS는 미국 '아시아·하와이 원주민·태평양 제도 주민(AANHPI) 유산의 달' 마지막 날인 이날 조 바이든 미국 대통령과 만나 반(反) 아시안 증오범죄 대응...<br/><span class=\"r0bn4c rQMQod\">6일 전</span></div>,\n",
       " <div class=\"rl7ilb\"></div>,\n",
       " <div><div class=\"ZINbbc luh4tb xpd O9g5cc uUPGi\"><a href=\"/url?q=https://m.hankookilbo.com/News/Read/A2022060213250001164&amp;sa=U&amp;ved=2ahUKEwikyd_Eu534AhVkp1YBHX6VDgs4ChDF9AF6BAgHEAI&amp;usg=AOvVaw3IOnC36UgmodzsJKUh_Fu1\"><div class=\"egMi0 kCrYT\"><h3 class=\"zBAuLc l97dzf\"><div class=\"BNeawe vvjwJb AP7Wnd\">BTS 백악관 방문 비꼰 미국 보수 방송진행자, '아미' 표적 됐다</div></h3><div class=\"BNeawe UPmit AP7Wnd\">한국일보</div></div><div class=\"kCrYT\"><div class=\"lcJF1d Q6Xouf G6SP0b\"><div style=\"width:120px;height:66px;position:static\"><img alt=\"\" class=\"h1hFNe\" data-deferred=\"1\" id=\"dimg_15\" src=\"data:image/gif;base64,R0lGODlhAQABAIAAAP///////yH5BAEKAAEALAAAAAABAAEAAAICTAEAOw==\" style=\"width:120px;height:66px\"/></div></div><div><div class=\"BNeawe s3v9rd AP7Wnd\"><div><div class=\"BNeawe s3v9rd AP7Wnd\">폭스뉴스 진행자 터커 칼슨. 백악관 방문한 BTS 향해 \"한국 그룹이 미국 인종차별 문제를 논한다니\" BTS 팬덤 아미, \"당신이야말로 미국의 문제\".<br/><span class=\"r0bn4c rQMQod\">6일 전</span></div></div></div></div><div class=\"rl7ilb\"></div></div></a></div></div>,\n",
       " <div class=\"ZINbbc luh4tb xpd O9g5cc uUPGi\"><a href=\"/url?q=https://m.hankookilbo.com/News/Read/A2022060213250001164&amp;sa=U&amp;ved=2ahUKEwikyd_Eu534AhVkp1YBHX6VDgs4ChDF9AF6BAgHEAI&amp;usg=AOvVaw3IOnC36UgmodzsJKUh_Fu1\"><div class=\"egMi0 kCrYT\"><h3 class=\"zBAuLc l97dzf\"><div class=\"BNeawe vvjwJb AP7Wnd\">BTS 백악관 방문 비꼰 미국 보수 방송진행자, '아미' 표적 됐다</div></h3><div class=\"BNeawe UPmit AP7Wnd\">한국일보</div></div><div class=\"kCrYT\"><div class=\"lcJF1d Q6Xouf G6SP0b\"><div style=\"width:120px;height:66px;position:static\"><img alt=\"\" class=\"h1hFNe\" data-deferred=\"1\" id=\"dimg_15\" src=\"data:image/gif;base64,R0lGODlhAQABAIAAAP///////yH5BAEKAAEALAAAAAABAAEAAAICTAEAOw==\" style=\"width:120px;height:66px\"/></div></div><div><div class=\"BNeawe s3v9rd AP7Wnd\"><div><div class=\"BNeawe s3v9rd AP7Wnd\">폭스뉴스 진행자 터커 칼슨. 백악관 방문한 BTS 향해 \"한국 그룹이 미국 인종차별 문제를 논한다니\" BTS 팬덤 아미, \"당신이야말로 미국의 문제\".<br/><span class=\"r0bn4c rQMQod\">6일 전</span></div></div></div></div><div class=\"rl7ilb\"></div></div></a></div>,\n",
       " <div class=\"egMi0 kCrYT\"><h3 class=\"zBAuLc l97dzf\"><div class=\"BNeawe vvjwJb AP7Wnd\">BTS 백악관 방문 비꼰 미국 보수 방송진행자, '아미' 표적 됐다</div></h3><div class=\"BNeawe UPmit AP7Wnd\">한국일보</div></div>,\n",
       " <div class=\"BNeawe vvjwJb AP7Wnd\">BTS 백악관 방문 비꼰 미국 보수 방송진행자, '아미' 표적 됐다</div>,\n",
       " <div class=\"BNeawe UPmit AP7Wnd\">한국일보</div>,\n",
       " <div class=\"kCrYT\"><div class=\"lcJF1d Q6Xouf G6SP0b\"><div style=\"width:120px;height:66px;position:static\"><img alt=\"\" class=\"h1hFNe\" data-deferred=\"1\" id=\"dimg_15\" src=\"data:image/gif;base64,R0lGODlhAQABAIAAAP///////yH5BAEKAAEALAAAAAABAAEAAAICTAEAOw==\" style=\"width:120px;height:66px\"/></div></div><div><div class=\"BNeawe s3v9rd AP7Wnd\"><div><div class=\"BNeawe s3v9rd AP7Wnd\">폭스뉴스 진행자 터커 칼슨. 백악관 방문한 BTS 향해 \"한국 그룹이 미국 인종차별 문제를 논한다니\" BTS 팬덤 아미, \"당신이야말로 미국의 문제\".<br/><span class=\"r0bn4c rQMQod\">6일 전</span></div></div></div></div><div class=\"rl7ilb\"></div></div>,\n",
       " <div class=\"lcJF1d Q6Xouf G6SP0b\"><div style=\"width:120px;height:66px;position:static\"><img alt=\"\" class=\"h1hFNe\" data-deferred=\"1\" id=\"dimg_15\" src=\"data:image/gif;base64,R0lGODlhAQABAIAAAP///////yH5BAEKAAEALAAAAAABAAEAAAICTAEAOw==\" style=\"width:120px;height:66px\"/></div></div>,\n",
       " <div style=\"width:120px;height:66px;position:static\"><img alt=\"\" class=\"h1hFNe\" data-deferred=\"1\" id=\"dimg_15\" src=\"data:image/gif;base64,R0lGODlhAQABAIAAAP///////yH5BAEKAAEALAAAAAABAAEAAAICTAEAOw==\" style=\"width:120px;height:66px\"/></div>,\n",
       " <div><div class=\"BNeawe s3v9rd AP7Wnd\"><div><div class=\"BNeawe s3v9rd AP7Wnd\">폭스뉴스 진행자 터커 칼슨. 백악관 방문한 BTS 향해 \"한국 그룹이 미국 인종차별 문제를 논한다니\" BTS 팬덤 아미, \"당신이야말로 미국의 문제\".<br/><span class=\"r0bn4c rQMQod\">6일 전</span></div></div></div></div>,\n",
       " <div class=\"BNeawe s3v9rd AP7Wnd\"><div><div class=\"BNeawe s3v9rd AP7Wnd\">폭스뉴스 진행자 터커 칼슨. 백악관 방문한 BTS 향해 \"한국 그룹이 미국 인종차별 문제를 논한다니\" BTS 팬덤 아미, \"당신이야말로 미국의 문제\".<br/><span class=\"r0bn4c rQMQod\">6일 전</span></div></div></div>,\n",
       " <div><div class=\"BNeawe s3v9rd AP7Wnd\">폭스뉴스 진행자 터커 칼슨. 백악관 방문한 BTS 향해 \"한국 그룹이 미국 인종차별 문제를 논한다니\" BTS 팬덤 아미, \"당신이야말로 미국의 문제\".<br/><span class=\"r0bn4c rQMQod\">6일 전</span></div></div>,\n",
       " <div class=\"BNeawe s3v9rd AP7Wnd\">폭스뉴스 진행자 터커 칼슨. 백악관 방문한 BTS 향해 \"한국 그룹이 미국 인종차별 문제를 논한다니\" BTS 팬덤 아미, \"당신이야말로 미국의 문제\".<br/><span class=\"r0bn4c rQMQod\">6일 전</span></div>,\n",
       " <div class=\"rl7ilb\"></div>,\n",
       " <div><div class=\"ZINbbc luh4tb xpd O9g5cc uUPGi\"><a href=\"/url?q=https://mnews.jtbc.joins.com/News/Article.aspx%3Fnews_id%3DNB12061137&amp;sa=U&amp;ved=2ahUKEwikyd_Eu534AhVkp1YBHX6VDgs4ChDF9AF6BAgJEAI&amp;usg=AOvVaw15_NiqFKRPzHz-Yv_PplZf\"><div class=\"egMi0 kCrYT\"><h3 class=\"zBAuLc l97dzf\"><div class=\"BNeawe vvjwJb AP7Wnd\">BTS 초청한 백악관에 \"그래, 잘했어\" 조롱한 美 앵커</div></h3><div class=\"BNeawe UPmit AP7Wnd\">JTBC뉴스</div></div><div class=\"kCrYT\"><div class=\"lcJF1d Q6Xouf G6SP0b\"><div style=\"width:120px;height:66px;position:static\"><img alt=\"\" class=\"h1hFNe\" data-deferred=\"1\" id=\"dimg_17\" src=\"data:image/gif;base64,R0lGODlhAQABAIAAAP///////yH5BAEKAAEALAAAAAABAAEAAAICTAEAOw==\" style=\"width:120px;height:66px\"/></div></div><div><div class=\"BNeawe s3v9rd AP7Wnd\"><div><div class=\"BNeawe s3v9rd AP7Wnd\">1일(현지시간) 미국 음악매체 롤링스톤은 '터커 칼슨, 백악관에 초청된 BTS를 모욕해 아미(팬클럽)의 분노를 사다'라는 제목의 기사를 보도했습니다. 터커...<br/><span class=\"r0bn4c rQMQod\">6일 전</span></div></div></div></div><div class=\"rl7ilb\"></div></div></a></div></div>,\n",
       " <div class=\"ZINbbc luh4tb xpd O9g5cc uUPGi\"><a href=\"/url?q=https://mnews.jtbc.joins.com/News/Article.aspx%3Fnews_id%3DNB12061137&amp;sa=U&amp;ved=2ahUKEwikyd_Eu534AhVkp1YBHX6VDgs4ChDF9AF6BAgJEAI&amp;usg=AOvVaw15_NiqFKRPzHz-Yv_PplZf\"><div class=\"egMi0 kCrYT\"><h3 class=\"zBAuLc l97dzf\"><div class=\"BNeawe vvjwJb AP7Wnd\">BTS 초청한 백악관에 \"그래, 잘했어\" 조롱한 美 앵커</div></h3><div class=\"BNeawe UPmit AP7Wnd\">JTBC뉴스</div></div><div class=\"kCrYT\"><div class=\"lcJF1d Q6Xouf G6SP0b\"><div style=\"width:120px;height:66px;position:static\"><img alt=\"\" class=\"h1hFNe\" data-deferred=\"1\" id=\"dimg_17\" src=\"data:image/gif;base64,R0lGODlhAQABAIAAAP///////yH5BAEKAAEALAAAAAABAAEAAAICTAEAOw==\" style=\"width:120px;height:66px\"/></div></div><div><div class=\"BNeawe s3v9rd AP7Wnd\"><div><div class=\"BNeawe s3v9rd AP7Wnd\">1일(현지시간) 미국 음악매체 롤링스톤은 '터커 칼슨, 백악관에 초청된 BTS를 모욕해 아미(팬클럽)의 분노를 사다'라는 제목의 기사를 보도했습니다. 터커...<br/><span class=\"r0bn4c rQMQod\">6일 전</span></div></div></div></div><div class=\"rl7ilb\"></div></div></a></div>,\n",
       " <div class=\"egMi0 kCrYT\"><h3 class=\"zBAuLc l97dzf\"><div class=\"BNeawe vvjwJb AP7Wnd\">BTS 초청한 백악관에 \"그래, 잘했어\" 조롱한 美 앵커</div></h3><div class=\"BNeawe UPmit AP7Wnd\">JTBC뉴스</div></div>,\n",
       " <div class=\"BNeawe vvjwJb AP7Wnd\">BTS 초청한 백악관에 \"그래, 잘했어\" 조롱한 美 앵커</div>,\n",
       " <div class=\"BNeawe UPmit AP7Wnd\">JTBC뉴스</div>,\n",
       " <div class=\"kCrYT\"><div class=\"lcJF1d Q6Xouf G6SP0b\"><div style=\"width:120px;height:66px;position:static\"><img alt=\"\" class=\"h1hFNe\" data-deferred=\"1\" id=\"dimg_17\" src=\"data:image/gif;base64,R0lGODlhAQABAIAAAP///////yH5BAEKAAEALAAAAAABAAEAAAICTAEAOw==\" style=\"width:120px;height:66px\"/></div></div><div><div class=\"BNeawe s3v9rd AP7Wnd\"><div><div class=\"BNeawe s3v9rd AP7Wnd\">1일(현지시간) 미국 음악매체 롤링스톤은 '터커 칼슨, 백악관에 초청된 BTS를 모욕해 아미(팬클럽)의 분노를 사다'라는 제목의 기사를 보도했습니다. 터커...<br/><span class=\"r0bn4c rQMQod\">6일 전</span></div></div></div></div><div class=\"rl7ilb\"></div></div>,\n",
       " <div class=\"lcJF1d Q6Xouf G6SP0b\"><div style=\"width:120px;height:66px;position:static\"><img alt=\"\" class=\"h1hFNe\" data-deferred=\"1\" id=\"dimg_17\" src=\"data:image/gif;base64,R0lGODlhAQABAIAAAP///////yH5BAEKAAEALAAAAAABAAEAAAICTAEAOw==\" style=\"width:120px;height:66px\"/></div></div>,\n",
       " <div style=\"width:120px;height:66px;position:static\"><img alt=\"\" class=\"h1hFNe\" data-deferred=\"1\" id=\"dimg_17\" src=\"data:image/gif;base64,R0lGODlhAQABAIAAAP///////yH5BAEKAAEALAAAAAABAAEAAAICTAEAOw==\" style=\"width:120px;height:66px\"/></div>,\n",
       " <div><div class=\"BNeawe s3v9rd AP7Wnd\"><div><div class=\"BNeawe s3v9rd AP7Wnd\">1일(현지시간) 미국 음악매체 롤링스톤은 '터커 칼슨, 백악관에 초청된 BTS를 모욕해 아미(팬클럽)의 분노를 사다'라는 제목의 기사를 보도했습니다. 터커...<br/><span class=\"r0bn4c rQMQod\">6일 전</span></div></div></div></div>,\n",
       " <div class=\"BNeawe s3v9rd AP7Wnd\"><div><div class=\"BNeawe s3v9rd AP7Wnd\">1일(현지시간) 미국 음악매체 롤링스톤은 '터커 칼슨, 백악관에 초청된 BTS를 모욕해 아미(팬클럽)의 분노를 사다'라는 제목의 기사를 보도했습니다. 터커...<br/><span class=\"r0bn4c rQMQod\">6일 전</span></div></div></div>,\n",
       " <div><div class=\"BNeawe s3v9rd AP7Wnd\">1일(현지시간) 미국 음악매체 롤링스톤은 '터커 칼슨, 백악관에 초청된 BTS를 모욕해 아미(팬클럽)의 분노를 사다'라는 제목의 기사를 보도했습니다. 터커...<br/><span class=\"r0bn4c rQMQod\">6일 전</span></div></div>,\n",
       " <div class=\"BNeawe s3v9rd AP7Wnd\">1일(현지시간) 미국 음악매체 롤링스톤은 '터커 칼슨, 백악관에 초청된 BTS를 모욕해 아미(팬클럽)의 분노를 사다'라는 제목의 기사를 보도했습니다. 터커...<br/><span class=\"r0bn4c rQMQod\">6일 전</span></div>,\n",
       " <div class=\"rl7ilb\"></div>,\n",
       " <div><div class=\"ZINbbc luh4tb xpd O9g5cc uUPGi\"><a href=\"/url?q=https://www.hankookilbo.com/News/Read/A2022060715390002375&amp;sa=U&amp;ved=2ahUKEwikyd_Eu534AhVkp1YBHX6VDgs4ChDF9AF6BAgIEAI&amp;usg=AOvVaw2owMYiIENW93ogBRajjG-4\"><div class=\"egMi0 kCrYT\"><h3 class=\"zBAuLc l97dzf\"><div class=\"BNeawe vvjwJb AP7Wnd\">\"BTS·에스파 도약 발판\" 빅히트·SM 대표 빌보드 '인디 파워 플레이어 ...</div></h3><div class=\"BNeawe UPmit AP7Wnd\">한국일보</div></div><div class=\"kCrYT\"><div class=\"lcJF1d Q6Xouf G6SP0b\"><div style=\"width:120px;height:78px;position:static\"><img alt=\"\" class=\"h1hFNe\" data-deferred=\"1\" id=\"dimg_18\" src=\"data:image/gif;base64,R0lGODlhAQABAIAAAP///////yH5BAEKAAEALAAAAAABAAEAAAICTAEAOw==\" style=\"width:120px;height:78px\"/></div></div><div><div class=\"BNeawe s3v9rd AP7Wnd\"><div><div class=\"BNeawe s3v9rd AP7Wnd\">\"BTS·에스파 도약 발판\" 빅히트·SM 대표 빌보드 '인디 파워 플레이어' 선정 ... 그룹 방탄소년단의 소속사 빅히트뮤직 신영재 대표이사와 에스파를 제작한...<br/><span class=\"r0bn4c rQMQod\">1일 전</span></div></div></div></div><div class=\"rl7ilb\"></div></div></a></div></div>,\n",
       " <div class=\"ZINbbc luh4tb xpd O9g5cc uUPGi\"><a href=\"/url?q=https://www.hankookilbo.com/News/Read/A2022060715390002375&amp;sa=U&amp;ved=2ahUKEwikyd_Eu534AhVkp1YBHX6VDgs4ChDF9AF6BAgIEAI&amp;usg=AOvVaw2owMYiIENW93ogBRajjG-4\"><div class=\"egMi0 kCrYT\"><h3 class=\"zBAuLc l97dzf\"><div class=\"BNeawe vvjwJb AP7Wnd\">\"BTS·에스파 도약 발판\" 빅히트·SM 대표 빌보드 '인디 파워 플레이어 ...</div></h3><div class=\"BNeawe UPmit AP7Wnd\">한국일보</div></div><div class=\"kCrYT\"><div class=\"lcJF1d Q6Xouf G6SP0b\"><div style=\"width:120px;height:78px;position:static\"><img alt=\"\" class=\"h1hFNe\" data-deferred=\"1\" id=\"dimg_18\" src=\"data:image/gif;base64,R0lGODlhAQABAIAAAP///////yH5BAEKAAEALAAAAAABAAEAAAICTAEAOw==\" style=\"width:120px;height:78px\"/></div></div><div><div class=\"BNeawe s3v9rd AP7Wnd\"><div><div class=\"BNeawe s3v9rd AP7Wnd\">\"BTS·에스파 도약 발판\" 빅히트·SM 대표 빌보드 '인디 파워 플레이어' 선정 ... 그룹 방탄소년단의 소속사 빅히트뮤직 신영재 대표이사와 에스파를 제작한...<br/><span class=\"r0bn4c rQMQod\">1일 전</span></div></div></div></div><div class=\"rl7ilb\"></div></div></a></div>,\n",
       " <div class=\"egMi0 kCrYT\"><h3 class=\"zBAuLc l97dzf\"><div class=\"BNeawe vvjwJb AP7Wnd\">\"BTS·에스파 도약 발판\" 빅히트·SM 대표 빌보드 '인디 파워 플레이어 ...</div></h3><div class=\"BNeawe UPmit AP7Wnd\">한국일보</div></div>,\n",
       " <div class=\"BNeawe vvjwJb AP7Wnd\">\"BTS·에스파 도약 발판\" 빅히트·SM 대표 빌보드 '인디 파워 플레이어 ...</div>,\n",
       " <div class=\"BNeawe UPmit AP7Wnd\">한국일보</div>,\n",
       " <div class=\"kCrYT\"><div class=\"lcJF1d Q6Xouf G6SP0b\"><div style=\"width:120px;height:78px;position:static\"><img alt=\"\" class=\"h1hFNe\" data-deferred=\"1\" id=\"dimg_18\" src=\"data:image/gif;base64,R0lGODlhAQABAIAAAP///////yH5BAEKAAEALAAAAAABAAEAAAICTAEAOw==\" style=\"width:120px;height:78px\"/></div></div><div><div class=\"BNeawe s3v9rd AP7Wnd\"><div><div class=\"BNeawe s3v9rd AP7Wnd\">\"BTS·에스파 도약 발판\" 빅히트·SM 대표 빌보드 '인디 파워 플레이어' 선정 ... 그룹 방탄소년단의 소속사 빅히트뮤직 신영재 대표이사와 에스파를 제작한...<br/><span class=\"r0bn4c rQMQod\">1일 전</span></div></div></div></div><div class=\"rl7ilb\"></div></div>,\n",
       " <div class=\"lcJF1d Q6Xouf G6SP0b\"><div style=\"width:120px;height:78px;position:static\"><img alt=\"\" class=\"h1hFNe\" data-deferred=\"1\" id=\"dimg_18\" src=\"data:image/gif;base64,R0lGODlhAQABAIAAAP///////yH5BAEKAAEALAAAAAABAAEAAAICTAEAOw==\" style=\"width:120px;height:78px\"/></div></div>,\n",
       " <div style=\"width:120px;height:78px;position:static\"><img alt=\"\" class=\"h1hFNe\" data-deferred=\"1\" id=\"dimg_18\" src=\"data:image/gif;base64,R0lGODlhAQABAIAAAP///////yH5BAEKAAEALAAAAAABAAEAAAICTAEAOw==\" style=\"width:120px;height:78px\"/></div>,\n",
       " <div><div class=\"BNeawe s3v9rd AP7Wnd\"><div><div class=\"BNeawe s3v9rd AP7Wnd\">\"BTS·에스파 도약 발판\" 빅히트·SM 대표 빌보드 '인디 파워 플레이어' 선정 ... 그룹 방탄소년단의 소속사 빅히트뮤직 신영재 대표이사와 에스파를 제작한...<br/><span class=\"r0bn4c rQMQod\">1일 전</span></div></div></div></div>,\n",
       " <div class=\"BNeawe s3v9rd AP7Wnd\"><div><div class=\"BNeawe s3v9rd AP7Wnd\">\"BTS·에스파 도약 발판\" 빅히트·SM 대표 빌보드 '인디 파워 플레이어' 선정 ... 그룹 방탄소년단의 소속사 빅히트뮤직 신영재 대표이사와 에스파를 제작한...<br/><span class=\"r0bn4c rQMQod\">1일 전</span></div></div></div>,\n",
       " <div><div class=\"BNeawe s3v9rd AP7Wnd\">\"BTS·에스파 도약 발판\" 빅히트·SM 대표 빌보드 '인디 파워 플레이어' 선정 ... 그룹 방탄소년단의 소속사 빅히트뮤직 신영재 대표이사와 에스파를 제작한...<br/><span class=\"r0bn4c rQMQod\">1일 전</span></div></div>,\n",
       " <div class=\"BNeawe s3v9rd AP7Wnd\">\"BTS·에스파 도약 발판\" 빅히트·SM 대표 빌보드 '인디 파워 플레이어' 선정 ... 그룹 방탄소년단의 소속사 빅히트뮤직 신영재 대표이사와 에스파를 제작한...<br/><span class=\"r0bn4c rQMQod\">1일 전</span></div>,\n",
       " <div class=\"rl7ilb\"></div>,\n",
       " <div><div class=\"ZINbbc luh4tb xpd O9g5cc uUPGi\"><a href=\"/url?q=https://www.nbntv.co.kr/news/articleView.html%3Fidxno%3D976432&amp;sa=U&amp;ved=2ahUKEwikyd_Eu534AhVkp1YBHX6VDgs4ChDF9AF6BAgBEAI&amp;usg=AOvVaw0qVeUwGtrog4v5J0kovEo0\"><div class=\"egMi0 kCrYT\"><h3 class=\"zBAuLc l97dzf\"><div class=\"BNeawe vvjwJb AP7Wnd\">[특징주] 하이브, bts 영향에 주가 전망 밝을까</div></h3><div class=\"BNeawe UPmit AP7Wnd\">내외경제TV</div></div><div class=\"kCrYT\"><div class=\"lcJF1d Q6Xouf G6SP0b\"><div style=\"width:120px;height:66px;position:static\"><img alt=\"\" class=\"h1hFNe\" data-deferred=\"1\" id=\"dimg_1\" src=\"data:image/gif;base64,R0lGODlhAQABAIAAAP///////yH5BAEKAAEALAAAAAABAAEAAAICTAEAOw==\" style=\"width:120px;height:66px\"/></div></div><div><div class=\"BNeawe s3v9rd AP7Wnd\"><div><div class=\"BNeawe s3v9rd AP7Wnd\">방탄소년단(BTS)이 상반기 한국과 미국에서 연 '퍼미션 투 댄스 온 스테이지' 콘서트로 약 946억원(7540만 달러)을 벌며 빌보드 톱 투어 차트 톱 4위...<br/><span class=\"r0bn4c rQMQod\">3시간 전</span></div></div></div></div><div class=\"rl7ilb\"></div></div></a></div></div>,\n",
       " <div class=\"ZINbbc luh4tb xpd O9g5cc uUPGi\"><a href=\"/url?q=https://www.nbntv.co.kr/news/articleView.html%3Fidxno%3D976432&amp;sa=U&amp;ved=2ahUKEwikyd_Eu534AhVkp1YBHX6VDgs4ChDF9AF6BAgBEAI&amp;usg=AOvVaw0qVeUwGtrog4v5J0kovEo0\"><div class=\"egMi0 kCrYT\"><h3 class=\"zBAuLc l97dzf\"><div class=\"BNeawe vvjwJb AP7Wnd\">[특징주] 하이브, bts 영향에 주가 전망 밝을까</div></h3><div class=\"BNeawe UPmit AP7Wnd\">내외경제TV</div></div><div class=\"kCrYT\"><div class=\"lcJF1d Q6Xouf G6SP0b\"><div style=\"width:120px;height:66px;position:static\"><img alt=\"\" class=\"h1hFNe\" data-deferred=\"1\" id=\"dimg_1\" src=\"data:image/gif;base64,R0lGODlhAQABAIAAAP///////yH5BAEKAAEALAAAAAABAAEAAAICTAEAOw==\" style=\"width:120px;height:66px\"/></div></div><div><div class=\"BNeawe s3v9rd AP7Wnd\"><div><div class=\"BNeawe s3v9rd AP7Wnd\">방탄소년단(BTS)이 상반기 한국과 미국에서 연 '퍼미션 투 댄스 온 스테이지' 콘서트로 약 946억원(7540만 달러)을 벌며 빌보드 톱 투어 차트 톱 4위...<br/><span class=\"r0bn4c rQMQod\">3시간 전</span></div></div></div></div><div class=\"rl7ilb\"></div></div></a></div>,\n",
       " <div class=\"egMi0 kCrYT\"><h3 class=\"zBAuLc l97dzf\"><div class=\"BNeawe vvjwJb AP7Wnd\">[특징주] 하이브, bts 영향에 주가 전망 밝을까</div></h3><div class=\"BNeawe UPmit AP7Wnd\">내외경제TV</div></div>,\n",
       " <div class=\"BNeawe vvjwJb AP7Wnd\">[특징주] 하이브, bts 영향에 주가 전망 밝을까</div>,\n",
       " <div class=\"BNeawe UPmit AP7Wnd\">내외경제TV</div>,\n",
       " <div class=\"kCrYT\"><div class=\"lcJF1d Q6Xouf G6SP0b\"><div style=\"width:120px;height:66px;position:static\"><img alt=\"\" class=\"h1hFNe\" data-deferred=\"1\" id=\"dimg_1\" src=\"data:image/gif;base64,R0lGODlhAQABAIAAAP///////yH5BAEKAAEALAAAAAABAAEAAAICTAEAOw==\" style=\"width:120px;height:66px\"/></div></div><div><div class=\"BNeawe s3v9rd AP7Wnd\"><div><div class=\"BNeawe s3v9rd AP7Wnd\">방탄소년단(BTS)이 상반기 한국과 미국에서 연 '퍼미션 투 댄스 온 스테이지' 콘서트로 약 946억원(7540만 달러)을 벌며 빌보드 톱 투어 차트 톱 4위...<br/><span class=\"r0bn4c rQMQod\">3시간 전</span></div></div></div></div><div class=\"rl7ilb\"></div></div>,\n",
       " <div class=\"lcJF1d Q6Xouf G6SP0b\"><div style=\"width:120px;height:66px;position:static\"><img alt=\"\" class=\"h1hFNe\" data-deferred=\"1\" id=\"dimg_1\" src=\"data:image/gif;base64,R0lGODlhAQABAIAAAP///////yH5BAEKAAEALAAAAAABAAEAAAICTAEAOw==\" style=\"width:120px;height:66px\"/></div></div>,\n",
       " <div style=\"width:120px;height:66px;position:static\"><img alt=\"\" class=\"h1hFNe\" data-deferred=\"1\" id=\"dimg_1\" src=\"data:image/gif;base64,R0lGODlhAQABAIAAAP///////yH5BAEKAAEALAAAAAABAAEAAAICTAEAOw==\" style=\"width:120px;height:66px\"/></div>,\n",
       " <div><div class=\"BNeawe s3v9rd AP7Wnd\"><div><div class=\"BNeawe s3v9rd AP7Wnd\">방탄소년단(BTS)이 상반기 한국과 미국에서 연 '퍼미션 투 댄스 온 스테이지' 콘서트로 약 946억원(7540만 달러)을 벌며 빌보드 톱 투어 차트 톱 4위...<br/><span class=\"r0bn4c rQMQod\">3시간 전</span></div></div></div></div>,\n",
       " <div class=\"BNeawe s3v9rd AP7Wnd\"><div><div class=\"BNeawe s3v9rd AP7Wnd\">방탄소년단(BTS)이 상반기 한국과 미국에서 연 '퍼미션 투 댄스 온 스테이지' 콘서트로 약 946억원(7540만 달러)을 벌며 빌보드 톱 투어 차트 톱 4위...<br/><span class=\"r0bn4c rQMQod\">3시간 전</span></div></div></div>,\n",
       " <div><div class=\"BNeawe s3v9rd AP7Wnd\">방탄소년단(BTS)이 상반기 한국과 미국에서 연 '퍼미션 투 댄스 온 스테이지' 콘서트로 약 946억원(7540만 달러)을 벌며 빌보드 톱 투어 차트 톱 4위...<br/><span class=\"r0bn4c rQMQod\">3시간 전</span></div></div>,\n",
       " <div class=\"BNeawe s3v9rd AP7Wnd\">방탄소년단(BTS)이 상반기 한국과 미국에서 연 '퍼미션 투 댄스 온 스테이지' 콘서트로 약 946억원(7540만 달러)을 벌며 빌보드 톱 투어 차트 톱 4위...<br/><span class=\"r0bn4c rQMQod\">3시간 전</span></div>,\n",
       " <div class=\"rl7ilb\"></div>,\n",
       " <div><div class=\"ZINbbc luh4tb xpd O9g5cc uUPGi\"><a href=\"/url?q=https://news.sbs.co.kr/news/endPage.do%3Fnews_id%3DN1006778972&amp;sa=U&amp;ved=2ahUKEwikyd_Eu534AhVkp1YBHX6VDgs4ChDF9AF6BAgGEAI&amp;usg=AOvVaw2jm3PQonwGDtUbw8DDf_Tq\"><div class=\"egMi0 kCrYT\"><h3 class=\"zBAuLc l97dzf\"><div class=\"BNeawe vvjwJb AP7Wnd\">BTS, 2년 만에 국내 음악방송 출연…팬 4천 명과 함께</div></h3><div class=\"BNeawe UPmit AP7Wnd\">SBS 뉴스</div></div><div class=\"kCrYT\"><div class=\"lcJF1d Q6Xouf G6SP0b\"><div style=\"width:120px;height:66px;position:static\"><img alt=\"\" class=\"h1hFNe\" data-deferred=\"1\" id=\"dimg_12\" src=\"data:image/gif;base64,R0lGODlhAQABAIAAAP///////yH5BAEKAAEALAAAAAABAAEAAAICTAEAOw==\" style=\"width:120px;height:66px\"/></div></div><div><div class=\"BNeawe s3v9rd AP7Wnd\"><div><div class=\"BNeawe s3v9rd AP7Wnd\">모레(10일) 새 앨범을 발매하는 그룹 방탄소년단이 활발한 활동을 예고하고 있습니다. 먼저 데뷔 9주년인 13일에 맞춰 유튜브 채널로 신곡 무대를...<br/><span class=\"r0bn4c rQMQod\">3시간 전</span></div></div></div></div><div class=\"rl7ilb\"></div></div></a></div></div>,\n",
       " <div class=\"ZINbbc luh4tb xpd O9g5cc uUPGi\"><a href=\"/url?q=https://news.sbs.co.kr/news/endPage.do%3Fnews_id%3DN1006778972&amp;sa=U&amp;ved=2ahUKEwikyd_Eu534AhVkp1YBHX6VDgs4ChDF9AF6BAgGEAI&amp;usg=AOvVaw2jm3PQonwGDtUbw8DDf_Tq\"><div class=\"egMi0 kCrYT\"><h3 class=\"zBAuLc l97dzf\"><div class=\"BNeawe vvjwJb AP7Wnd\">BTS, 2년 만에 국내 음악방송 출연…팬 4천 명과 함께</div></h3><div class=\"BNeawe UPmit AP7Wnd\">SBS 뉴스</div></div><div class=\"kCrYT\"><div class=\"lcJF1d Q6Xouf G6SP0b\"><div style=\"width:120px;height:66px;position:static\"><img alt=\"\" class=\"h1hFNe\" data-deferred=\"1\" id=\"dimg_12\" src=\"data:image/gif;base64,R0lGODlhAQABAIAAAP///////yH5BAEKAAEALAAAAAABAAEAAAICTAEAOw==\" style=\"width:120px;height:66px\"/></div></div><div><div class=\"BNeawe s3v9rd AP7Wnd\"><div><div class=\"BNeawe s3v9rd AP7Wnd\">모레(10일) 새 앨범을 발매하는 그룹 방탄소년단이 활발한 활동을 예고하고 있습니다. 먼저 데뷔 9주년인 13일에 맞춰 유튜브 채널로 신곡 무대를...<br/><span class=\"r0bn4c rQMQod\">3시간 전</span></div></div></div></div><div class=\"rl7ilb\"></div></div></a></div>,\n",
       " <div class=\"egMi0 kCrYT\"><h3 class=\"zBAuLc l97dzf\"><div class=\"BNeawe vvjwJb AP7Wnd\">BTS, 2년 만에 국내 음악방송 출연…팬 4천 명과 함께</div></h3><div class=\"BNeawe UPmit AP7Wnd\">SBS 뉴스</div></div>,\n",
       " <div class=\"BNeawe vvjwJb AP7Wnd\">BTS, 2년 만에 국내 음악방송 출연…팬 4천 명과 함께</div>,\n",
       " <div class=\"BNeawe UPmit AP7Wnd\">SBS 뉴스</div>,\n",
       " <div class=\"kCrYT\"><div class=\"lcJF1d Q6Xouf G6SP0b\"><div style=\"width:120px;height:66px;position:static\"><img alt=\"\" class=\"h1hFNe\" data-deferred=\"1\" id=\"dimg_12\" src=\"data:image/gif;base64,R0lGODlhAQABAIAAAP///////yH5BAEKAAEALAAAAAABAAEAAAICTAEAOw==\" style=\"width:120px;height:66px\"/></div></div><div><div class=\"BNeawe s3v9rd AP7Wnd\"><div><div class=\"BNeawe s3v9rd AP7Wnd\">모레(10일) 새 앨범을 발매하는 그룹 방탄소년단이 활발한 활동을 예고하고 있습니다. 먼저 데뷔 9주년인 13일에 맞춰 유튜브 채널로 신곡 무대를...<br/><span class=\"r0bn4c rQMQod\">3시간 전</span></div></div></div></div><div class=\"rl7ilb\"></div></div>,\n",
       " <div class=\"lcJF1d Q6Xouf G6SP0b\"><div style=\"width:120px;height:66px;position:static\"><img alt=\"\" class=\"h1hFNe\" data-deferred=\"1\" id=\"dimg_12\" src=\"data:image/gif;base64,R0lGODlhAQABAIAAAP///////yH5BAEKAAEALAAAAAABAAEAAAICTAEAOw==\" style=\"width:120px;height:66px\"/></div></div>,\n",
       " <div style=\"width:120px;height:66px;position:static\"><img alt=\"\" class=\"h1hFNe\" data-deferred=\"1\" id=\"dimg_12\" src=\"data:image/gif;base64,R0lGODlhAQABAIAAAP///////yH5BAEKAAEALAAAAAABAAEAAAICTAEAOw==\" style=\"width:120px;height:66px\"/></div>,\n",
       " <div><div class=\"BNeawe s3v9rd AP7Wnd\"><div><div class=\"BNeawe s3v9rd AP7Wnd\">모레(10일) 새 앨범을 발매하는 그룹 방탄소년단이 활발한 활동을 예고하고 있습니다. 먼저 데뷔 9주년인 13일에 맞춰 유튜브 채널로 신곡 무대를...<br/><span class=\"r0bn4c rQMQod\">3시간 전</span></div></div></div></div>,\n",
       " <div class=\"BNeawe s3v9rd AP7Wnd\"><div><div class=\"BNeawe s3v9rd AP7Wnd\">모레(10일) 새 앨범을 발매하는 그룹 방탄소년단이 활발한 활동을 예고하고 있습니다. 먼저 데뷔 9주년인 13일에 맞춰 유튜브 채널로 신곡 무대를...<br/><span class=\"r0bn4c rQMQod\">3시간 전</span></div></div></div>,\n",
       " <div><div class=\"BNeawe s3v9rd AP7Wnd\">모레(10일) 새 앨범을 발매하는 그룹 방탄소년단이 활발한 활동을 예고하고 있습니다. 먼저 데뷔 9주년인 13일에 맞춰 유튜브 채널로 신곡 무대를...<br/><span class=\"r0bn4c rQMQod\">3시간 전</span></div></div>,\n",
       " <div class=\"BNeawe s3v9rd AP7Wnd\">모레(10일) 새 앨범을 발매하는 그룹 방탄소년단이 활발한 활동을 예고하고 있습니다. 먼저 데뷔 9주년인 13일에 맞춰 유튜브 채널로 신곡 무대를...<br/><span class=\"r0bn4c rQMQod\">3시간 전</span></div>,\n",
       " <div class=\"rl7ilb\"></div>,\n",
       " <div><div class=\"ZINbbc luh4tb xpd O9g5cc uUPGi\"><a href=\"/url?q=https://www.chosun.com/international/international_general/2022/06/05/LTUV2RPGHNF5LJ5R3MC7G23LAQ/&amp;sa=U&amp;ved=2ahUKEwikyd_Eu534AhVkp1YBHX6VDgs4ChDF9AF6BAgDEAI&amp;usg=AOvVaw0nXqpxzz9m7FQw6eF_EbwN\"><div class=\"egMi0 kCrYT\"><h3 class=\"zBAuLc l97dzf\"><div class=\"BNeawe vvjwJb AP7Wnd\">BTS가 환호했다… 백악관서 마중 나온 바이든이 튼 이 노래 - 조선일보</div></h3><div class=\"BNeawe UPmit AP7Wnd\">조선일보</div></div><div class=\"kCrYT\"><div class=\"lcJF1d Q6Xouf G6SP0b\"><div style=\"width:120px;height:66px;position:static\"><img alt=\"\" class=\"h1hFNe\" data-deferred=\"1\" id=\"dimg_8\" src=\"data:image/gif;base64,R0lGODlhAQABAIAAAP///////yH5BAEKAAEALAAAAAABAAEAAAICTAEAOw==\" style=\"width:120px;height:66px\"/></div></div><div><div class=\"BNeawe s3v9rd AP7Wnd\"><div><div class=\"BNeawe s3v9rd AP7Wnd\">조 바이든 미국 대통령이 백악관 집무실을 찾은 그룹 방탄소년단(BTS) 멤버들에게 BTS의 인기곡 '버터'(Butter)를 들려주는 장면이 공개됐다.<br/><span class=\"r0bn4c rQMQod\">3일 전</span></div></div></div></div><div class=\"rl7ilb\"></div></div></a></div></div>,\n",
       " <div class=\"ZINbbc luh4tb xpd O9g5cc uUPGi\"><a href=\"/url?q=https://www.chosun.com/international/international_general/2022/06/05/LTUV2RPGHNF5LJ5R3MC7G23LAQ/&amp;sa=U&amp;ved=2ahUKEwikyd_Eu534AhVkp1YBHX6VDgs4ChDF9AF6BAgDEAI&amp;usg=AOvVaw0nXqpxzz9m7FQw6eF_EbwN\"><div class=\"egMi0 kCrYT\"><h3 class=\"zBAuLc l97dzf\"><div class=\"BNeawe vvjwJb AP7Wnd\">BTS가 환호했다… 백악관서 마중 나온 바이든이 튼 이 노래 - 조선일보</div></h3><div class=\"BNeawe UPmit AP7Wnd\">조선일보</div></div><div class=\"kCrYT\"><div class=\"lcJF1d Q6Xouf G6SP0b\"><div style=\"width:120px;height:66px;position:static\"><img alt=\"\" class=\"h1hFNe\" data-deferred=\"1\" id=\"dimg_8\" src=\"data:image/gif;base64,R0lGODlhAQABAIAAAP///////yH5BAEKAAEALAAAAAABAAEAAAICTAEAOw==\" style=\"width:120px;height:66px\"/></div></div><div><div class=\"BNeawe s3v9rd AP7Wnd\"><div><div class=\"BNeawe s3v9rd AP7Wnd\">조 바이든 미국 대통령이 백악관 집무실을 찾은 그룹 방탄소년단(BTS) 멤버들에게 BTS의 인기곡 '버터'(Butter)를 들려주는 장면이 공개됐다.<br/><span class=\"r0bn4c rQMQod\">3일 전</span></div></div></div></div><div class=\"rl7ilb\"></div></div></a></div>,\n",
       " <div class=\"egMi0 kCrYT\"><h3 class=\"zBAuLc l97dzf\"><div class=\"BNeawe vvjwJb AP7Wnd\">BTS가 환호했다… 백악관서 마중 나온 바이든이 튼 이 노래 - 조선일보</div></h3><div class=\"BNeawe UPmit AP7Wnd\">조선일보</div></div>,\n",
       " <div class=\"BNeawe vvjwJb AP7Wnd\">BTS가 환호했다… 백악관서 마중 나온 바이든이 튼 이 노래 - 조선일보</div>,\n",
       " <div class=\"BNeawe UPmit AP7Wnd\">조선일보</div>,\n",
       " <div class=\"kCrYT\"><div class=\"lcJF1d Q6Xouf G6SP0b\"><div style=\"width:120px;height:66px;position:static\"><img alt=\"\" class=\"h1hFNe\" data-deferred=\"1\" id=\"dimg_8\" src=\"data:image/gif;base64,R0lGODlhAQABAIAAAP///////yH5BAEKAAEALAAAAAABAAEAAAICTAEAOw==\" style=\"width:120px;height:66px\"/></div></div><div><div class=\"BNeawe s3v9rd AP7Wnd\"><div><div class=\"BNeawe s3v9rd AP7Wnd\">조 바이든 미국 대통령이 백악관 집무실을 찾은 그룹 방탄소년단(BTS) 멤버들에게 BTS의 인기곡 '버터'(Butter)를 들려주는 장면이 공개됐다.<br/><span class=\"r0bn4c rQMQod\">3일 전</span></div></div></div></div><div class=\"rl7ilb\"></div></div>,\n",
       " <div class=\"lcJF1d Q6Xouf G6SP0b\"><div style=\"width:120px;height:66px;position:static\"><img alt=\"\" class=\"h1hFNe\" data-deferred=\"1\" id=\"dimg_8\" src=\"data:image/gif;base64,R0lGODlhAQABAIAAAP///////yH5BAEKAAEALAAAAAABAAEAAAICTAEAOw==\" style=\"width:120px;height:66px\"/></div></div>,\n",
       " <div style=\"width:120px;height:66px;position:static\"><img alt=\"\" class=\"h1hFNe\" data-deferred=\"1\" id=\"dimg_8\" src=\"data:image/gif;base64,R0lGODlhAQABAIAAAP///////yH5BAEKAAEALAAAAAABAAEAAAICTAEAOw==\" style=\"width:120px;height:66px\"/></div>,\n",
       " <div><div class=\"BNeawe s3v9rd AP7Wnd\"><div><div class=\"BNeawe s3v9rd AP7Wnd\">조 바이든 미국 대통령이 백악관 집무실을 찾은 그룹 방탄소년단(BTS) 멤버들에게 BTS의 인기곡 '버터'(Butter)를 들려주는 장면이 공개됐다.<br/><span class=\"r0bn4c rQMQod\">3일 전</span></div></div></div></div>,\n",
       " <div class=\"BNeawe s3v9rd AP7Wnd\"><div><div class=\"BNeawe s3v9rd AP7Wnd\">조 바이든 미국 대통령이 백악관 집무실을 찾은 그룹 방탄소년단(BTS) 멤버들에게 BTS의 인기곡 '버터'(Butter)를 들려주는 장면이 공개됐다.<br/><span class=\"r0bn4c rQMQod\">3일 전</span></div></div></div>,\n",
       " <div><div class=\"BNeawe s3v9rd AP7Wnd\">조 바이든 미국 대통령이 백악관 집무실을 찾은 그룹 방탄소년단(BTS) 멤버들에게 BTS의 인기곡 '버터'(Butter)를 들려주는 장면이 공개됐다.<br/><span class=\"r0bn4c rQMQod\">3일 전</span></div></div>,\n",
       " <div class=\"BNeawe s3v9rd AP7Wnd\">조 바이든 미국 대통령이 백악관 집무실을 찾은 그룹 방탄소년단(BTS) 멤버들에게 BTS의 인기곡 '버터'(Butter)를 들려주는 장면이 공개됐다.<br/><span class=\"r0bn4c rQMQod\">3일 전</span></div>,\n",
       " <div class=\"rl7ilb\"></div>,\n",
       " <div><div class=\"ZINbbc luh4tb xpd O9g5cc uUPGi\"><a href=\"/url?q=https://www.mk.co.kr/star/movies/view/2022/06/500455/&amp;sa=U&amp;ved=2ahUKEwikyd_Eu534AhVkp1YBHX6VDgs4ChDF9AF6BAgAEAI&amp;usg=AOvVaw00nWALrH6LmpFpOPcJHUY0\"><div class=\"egMi0 kCrYT\"><h3 class=\"zBAuLc l97dzf\"><div class=\"BNeawe vvjwJb AP7Wnd\">[인터뷰②]강동원 \"BTS 뷔, 박효신 통해 친해져...귀여운 동생\"</div></h3><div class=\"BNeawe UPmit AP7Wnd\">매일경제</div></div><div class=\"kCrYT\"><div class=\"lcJF1d Q6Xouf G6SP0b\"><div style=\"width:120px;height:83px;position:static\"><img alt=\"\" class=\"h1hFNe\" data-deferred=\"1\" id=\"dimg_2\" src=\"data:image/gif;base64,R0lGODlhAQABAIAAAP///////yH5BAEKAAEALAAAAAABAAEAAAICTAEAOw==\" style=\"width:120px;height:83px\"/></div></div><div><div class=\"BNeawe s3v9rd AP7Wnd\"><div><div class=\"BNeawe s3v9rd AP7Wnd\">[인터뷰②]강동원 \"BTS 뷔, 박효신 통해 친해져...귀여운 동생\". 한현정 기자. 입력 2022/06/08 07:01. 수정 2022/06/08 09:28.<br/><span class=\"r0bn4c rQMQod\">10시간 전</span></div></div></div></div><div class=\"rl7ilb\"></div></div></a></div></div>,\n",
       " <div class=\"ZINbbc luh4tb xpd O9g5cc uUPGi\"><a href=\"/url?q=https://www.mk.co.kr/star/movies/view/2022/06/500455/&amp;sa=U&amp;ved=2ahUKEwikyd_Eu534AhVkp1YBHX6VDgs4ChDF9AF6BAgAEAI&amp;usg=AOvVaw00nWALrH6LmpFpOPcJHUY0\"><div class=\"egMi0 kCrYT\"><h3 class=\"zBAuLc l97dzf\"><div class=\"BNeawe vvjwJb AP7Wnd\">[인터뷰②]강동원 \"BTS 뷔, 박효신 통해 친해져...귀여운 동생\"</div></h3><div class=\"BNeawe UPmit AP7Wnd\">매일경제</div></div><div class=\"kCrYT\"><div class=\"lcJF1d Q6Xouf G6SP0b\"><div style=\"width:120px;height:83px;position:static\"><img alt=\"\" class=\"h1hFNe\" data-deferred=\"1\" id=\"dimg_2\" src=\"data:image/gif;base64,R0lGODlhAQABAIAAAP///////yH5BAEKAAEALAAAAAABAAEAAAICTAEAOw==\" style=\"width:120px;height:83px\"/></div></div><div><div class=\"BNeawe s3v9rd AP7Wnd\"><div><div class=\"BNeawe s3v9rd AP7Wnd\">[인터뷰②]강동원 \"BTS 뷔, 박효신 통해 친해져...귀여운 동생\". 한현정 기자. 입력 2022/06/08 07:01. 수정 2022/06/08 09:28.<br/><span class=\"r0bn4c rQMQod\">10시간 전</span></div></div></div></div><div class=\"rl7ilb\"></div></div></a></div>,\n",
       " <div class=\"egMi0 kCrYT\"><h3 class=\"zBAuLc l97dzf\"><div class=\"BNeawe vvjwJb AP7Wnd\">[인터뷰②]강동원 \"BTS 뷔, 박효신 통해 친해져...귀여운 동생\"</div></h3><div class=\"BNeawe UPmit AP7Wnd\">매일경제</div></div>,\n",
       " <div class=\"BNeawe vvjwJb AP7Wnd\">[인터뷰②]강동원 \"BTS 뷔, 박효신 통해 친해져...귀여운 동생\"</div>,\n",
       " <div class=\"BNeawe UPmit AP7Wnd\">매일경제</div>,\n",
       " <div class=\"kCrYT\"><div class=\"lcJF1d Q6Xouf G6SP0b\"><div style=\"width:120px;height:83px;position:static\"><img alt=\"\" class=\"h1hFNe\" data-deferred=\"1\" id=\"dimg_2\" src=\"data:image/gif;base64,R0lGODlhAQABAIAAAP///////yH5BAEKAAEALAAAAAABAAEAAAICTAEAOw==\" style=\"width:120px;height:83px\"/></div></div><div><div class=\"BNeawe s3v9rd AP7Wnd\"><div><div class=\"BNeawe s3v9rd AP7Wnd\">[인터뷰②]강동원 \"BTS 뷔, 박효신 통해 친해져...귀여운 동생\". 한현정 기자. 입력 2022/06/08 07:01. 수정 2022/06/08 09:28.<br/><span class=\"r0bn4c rQMQod\">10시간 전</span></div></div></div></div><div class=\"rl7ilb\"></div></div>,\n",
       " <div class=\"lcJF1d Q6Xouf G6SP0b\"><div style=\"width:120px;height:83px;position:static\"><img alt=\"\" class=\"h1hFNe\" data-deferred=\"1\" id=\"dimg_2\" src=\"data:image/gif;base64,R0lGODlhAQABAIAAAP///////yH5BAEKAAEALAAAAAABAAEAAAICTAEAOw==\" style=\"width:120px;height:83px\"/></div></div>,\n",
       " <div style=\"width:120px;height:83px;position:static\"><img alt=\"\" class=\"h1hFNe\" data-deferred=\"1\" id=\"dimg_2\" src=\"data:image/gif;base64,R0lGODlhAQABAIAAAP///////yH5BAEKAAEALAAAAAABAAEAAAICTAEAOw==\" style=\"width:120px;height:83px\"/></div>,\n",
       " <div><div class=\"BNeawe s3v9rd AP7Wnd\"><div><div class=\"BNeawe s3v9rd AP7Wnd\">[인터뷰②]강동원 \"BTS 뷔, 박효신 통해 친해져...귀여운 동생\". 한현정 기자. 입력 2022/06/08 07:01. 수정 2022/06/08 09:28.<br/><span class=\"r0bn4c rQMQod\">10시간 전</span></div></div></div></div>,\n",
       " <div class=\"BNeawe s3v9rd AP7Wnd\"><div><div class=\"BNeawe s3v9rd AP7Wnd\">[인터뷰②]강동원 \"BTS 뷔, 박효신 통해 친해져...귀여운 동생\". 한현정 기자. 입력 2022/06/08 07:01. 수정 2022/06/08 09:28.<br/><span class=\"r0bn4c rQMQod\">10시간 전</span></div></div></div>,\n",
       " <div><div class=\"BNeawe s3v9rd AP7Wnd\">[인터뷰②]강동원 \"BTS 뷔, 박효신 통해 친해져...귀여운 동생\". 한현정 기자. 입력 2022/06/08 07:01. 수정 2022/06/08 09:28.<br/><span class=\"r0bn4c rQMQod\">10시간 전</span></div></div>,\n",
       " <div class=\"BNeawe s3v9rd AP7Wnd\">[인터뷰②]강동원 \"BTS 뷔, 박효신 통해 친해져...귀여운 동생\". 한현정 기자. 입력 2022/06/08 07:01. 수정 2022/06/08 09:28.<br/><span class=\"r0bn4c rQMQod\">10시간 전</span></div>,\n",
       " <div class=\"rl7ilb\"></div>,\n",
       " <div><div class=\"ZINbbc luh4tb xpd O9g5cc uUPGi\"><a href=\"/url?q=https://www.chosun.com/international/international_general/2022/06/01/VOZ537LMSFH2RNWT4QCTZDR4TM/&amp;sa=U&amp;ved=2ahUKEwikyd_Eu534AhVkp1YBHX6VDgs4ChDF9AF6BAgCEAI&amp;usg=AOvVaw23o9nqmVWvjamfeW-Eirua\"><div class=\"egMi0 kCrYT\"><h3 class=\"zBAuLc l97dzf\"><div class=\"BNeawe vvjwJb AP7Wnd\">문 앞까지 BTS 마중 나온 바이든… ‘손가락 하트’도 날렸다 - 조선일보</div></h3><div class=\"BNeawe UPmit AP7Wnd\">조선일보</div></div><div class=\"kCrYT\"><div class=\"lcJF1d Q6Xouf G6SP0b\"><div style=\"width:120px;height:66px;position:static\"><img alt=\"\" class=\"h1hFNe\" data-deferred=\"1\" id=\"dimg_5\" src=\"data:image/gif;base64,R0lGODlhAQABAIAAAP///////yH5BAEKAAEALAAAAAABAAEAAAICTAEAOw==\" style=\"width:120px;height:66px\"/></div></div><div><div class=\"BNeawe s3v9rd AP7Wnd\"><div><div class=\"BNeawe s3v9rd AP7Wnd\">바이든 대통령은 1일(현지 시각) 트위터에 글을 써 BTS 공식 계정을 언급한 뒤 “만나서 반가웠다. 반아시아계 증오범죄와 차별이 증가하는 것에 대한...<br/><span class=\"r0bn4c rQMQod\">1주 전</span></div></div></div></div><div class=\"rl7ilb\"></div></div></a></div></div>,\n",
       " <div class=\"ZINbbc luh4tb xpd O9g5cc uUPGi\"><a href=\"/url?q=https://www.chosun.com/international/international_general/2022/06/01/VOZ537LMSFH2RNWT4QCTZDR4TM/&amp;sa=U&amp;ved=2ahUKEwikyd_Eu534AhVkp1YBHX6VDgs4ChDF9AF6BAgCEAI&amp;usg=AOvVaw23o9nqmVWvjamfeW-Eirua\"><div class=\"egMi0 kCrYT\"><h3 class=\"zBAuLc l97dzf\"><div class=\"BNeawe vvjwJb AP7Wnd\">문 앞까지 BTS 마중 나온 바이든… ‘손가락 하트’도 날렸다 - 조선일보</div></h3><div class=\"BNeawe UPmit AP7Wnd\">조선일보</div></div><div class=\"kCrYT\"><div class=\"lcJF1d Q6Xouf G6SP0b\"><div style=\"width:120px;height:66px;position:static\"><img alt=\"\" class=\"h1hFNe\" data-deferred=\"1\" id=\"dimg_5\" src=\"data:image/gif;base64,R0lGODlhAQABAIAAAP///////yH5BAEKAAEALAAAAAABAAEAAAICTAEAOw==\" style=\"width:120px;height:66px\"/></div></div><div><div class=\"BNeawe s3v9rd AP7Wnd\"><div><div class=\"BNeawe s3v9rd AP7Wnd\">바이든 대통령은 1일(현지 시각) 트위터에 글을 써 BTS 공식 계정을 언급한 뒤 “만나서 반가웠다. 반아시아계 증오범죄와 차별이 증가하는 것에 대한...<br/><span class=\"r0bn4c rQMQod\">1주 전</span></div></div></div></div><div class=\"rl7ilb\"></div></div></a></div>,\n",
       " <div class=\"egMi0 kCrYT\"><h3 class=\"zBAuLc l97dzf\"><div class=\"BNeawe vvjwJb AP7Wnd\">문 앞까지 BTS 마중 나온 바이든… ‘손가락 하트’도 날렸다 - 조선일보</div></h3><div class=\"BNeawe UPmit AP7Wnd\">조선일보</div></div>,\n",
       " <div class=\"BNeawe vvjwJb AP7Wnd\">문 앞까지 BTS 마중 나온 바이든… ‘손가락 하트’도 날렸다 - 조선일보</div>,\n",
       " <div class=\"BNeawe UPmit AP7Wnd\">조선일보</div>,\n",
       " <div class=\"kCrYT\"><div class=\"lcJF1d Q6Xouf G6SP0b\"><div style=\"width:120px;height:66px;position:static\"><img alt=\"\" class=\"h1hFNe\" data-deferred=\"1\" id=\"dimg_5\" src=\"data:image/gif;base64,R0lGODlhAQABAIAAAP///////yH5BAEKAAEALAAAAAABAAEAAAICTAEAOw==\" style=\"width:120px;height:66px\"/></div></div><div><div class=\"BNeawe s3v9rd AP7Wnd\"><div><div class=\"BNeawe s3v9rd AP7Wnd\">바이든 대통령은 1일(현지 시각) 트위터에 글을 써 BTS 공식 계정을 언급한 뒤 “만나서 반가웠다. 반아시아계 증오범죄와 차별이 증가하는 것에 대한...<br/><span class=\"r0bn4c rQMQod\">1주 전</span></div></div></div></div><div class=\"rl7ilb\"></div></div>,\n",
       " <div class=\"lcJF1d Q6Xouf G6SP0b\"><div style=\"width:120px;height:66px;position:static\"><img alt=\"\" class=\"h1hFNe\" data-deferred=\"1\" id=\"dimg_5\" src=\"data:image/gif;base64,R0lGODlhAQABAIAAAP///////yH5BAEKAAEALAAAAAABAAEAAAICTAEAOw==\" style=\"width:120px;height:66px\"/></div></div>,\n",
       " <div style=\"width:120px;height:66px;position:static\"><img alt=\"\" class=\"h1hFNe\" data-deferred=\"1\" id=\"dimg_5\" src=\"data:image/gif;base64,R0lGODlhAQABAIAAAP///////yH5BAEKAAEALAAAAAABAAEAAAICTAEAOw==\" style=\"width:120px;height:66px\"/></div>,\n",
       " <div><div class=\"BNeawe s3v9rd AP7Wnd\"><div><div class=\"BNeawe s3v9rd AP7Wnd\">바이든 대통령은 1일(현지 시각) 트위터에 글을 써 BTS 공식 계정을 언급한 뒤 “만나서 반가웠다. 반아시아계 증오범죄와 차별이 증가하는 것에 대한...<br/><span class=\"r0bn4c rQMQod\">1주 전</span></div></div></div></div>,\n",
       " <div class=\"BNeawe s3v9rd AP7Wnd\"><div><div class=\"BNeawe s3v9rd AP7Wnd\">바이든 대통령은 1일(현지 시각) 트위터에 글을 써 BTS 공식 계정을 언급한 뒤 “만나서 반가웠다. 반아시아계 증오범죄와 차별이 증가하는 것에 대한...<br/><span class=\"r0bn4c rQMQod\">1주 전</span></div></div></div>,\n",
       " <div><div class=\"BNeawe s3v9rd AP7Wnd\">바이든 대통령은 1일(현지 시각) 트위터에 글을 써 BTS 공식 계정을 언급한 뒤 “만나서 반가웠다. 반아시아계 증오범죄와 차별이 증가하는 것에 대한...<br/><span class=\"r0bn4c rQMQod\">1주 전</span></div></div>,\n",
       " <div class=\"BNeawe s3v9rd AP7Wnd\">바이든 대통령은 1일(현지 시각) 트위터에 글을 써 BTS 공식 계정을 언급한 뒤 “만나서 반가웠다. 반아시아계 증오범죄와 차별이 증가하는 것에 대한...<br/><span class=\"r0bn4c rQMQod\">1주 전</span></div>,\n",
       " <div class=\"rl7ilb\"></div>,\n",
       " <div><div class=\"ZINbbc luh4tb xpd O9g5cc uUPGi\"><a href=\"/url?q=https://www.sedaily.com/NewsView/267600ATZL&amp;sa=U&amp;ved=2ahUKEwikyd_Eu534AhVkp1YBHX6VDgs4ChDF9AF6BAgFEAI&amp;usg=AOvVaw38AeefZFFdcjn1LxxlLdRM\"><div class=\"egMi0 kCrYT\"><h3 class=\"zBAuLc l97dzf\"><div class=\"BNeawe vvjwJb AP7Wnd\">[인터뷰②](영상) 나인아이 제원 '연습생 시절 BTS 댄서로…대스타는 ...</div></h3><div class=\"BNeawe UPmit AP7Wnd\">서울경제</div></div><div class=\"kCrYT\"><div class=\"lcJF1d Q6Xouf G6SP0b\"><div style=\"width:120px;height:83px;position:static\"><img alt=\"\" class=\"h1hFNe\" data-deferred=\"1\" id=\"dimg_11\" src=\"data:image/gif;base64,R0lGODlhAQABAIAAAP///////yH5BAEKAAEALAAAAAABAAEAAAICTAEAOw==\" style=\"width:120px;height:83px\"/></div></div><div><div class=\"BNeawe s3v9rd AP7Wnd\"><div><div class=\"BNeawe s3v9rd AP7Wnd\">제원 - BTS 선배님들이 엄청난 대스타이시잖아요. 그래서 전 조금 무서웠거든요. 그런데 댄서분들이 20~30명 정도로 많이 계셨는데 선배님들이 한분 한분...<br/><span class=\"r0bn4c rQMQod\">3시간 전</span></div></div></div></div><div class=\"rl7ilb\"></div></div></a></div></div>,\n",
       " <div class=\"ZINbbc luh4tb xpd O9g5cc uUPGi\"><a href=\"/url?q=https://www.sedaily.com/NewsView/267600ATZL&amp;sa=U&amp;ved=2ahUKEwikyd_Eu534AhVkp1YBHX6VDgs4ChDF9AF6BAgFEAI&amp;usg=AOvVaw38AeefZFFdcjn1LxxlLdRM\"><div class=\"egMi0 kCrYT\"><h3 class=\"zBAuLc l97dzf\"><div class=\"BNeawe vvjwJb AP7Wnd\">[인터뷰②](영상) 나인아이 제원 '연습생 시절 BTS 댄서로…대스타는 ...</div></h3><div class=\"BNeawe UPmit AP7Wnd\">서울경제</div></div><div class=\"kCrYT\"><div class=\"lcJF1d Q6Xouf G6SP0b\"><div style=\"width:120px;height:83px;position:static\"><img alt=\"\" class=\"h1hFNe\" data-deferred=\"1\" id=\"dimg_11\" src=\"data:image/gif;base64,R0lGODlhAQABAIAAAP///////yH5BAEKAAEALAAAAAABAAEAAAICTAEAOw==\" style=\"width:120px;height:83px\"/></div></div><div><div class=\"BNeawe s3v9rd AP7Wnd\"><div><div class=\"BNeawe s3v9rd AP7Wnd\">제원 - BTS 선배님들이 엄청난 대스타이시잖아요. 그래서 전 조금 무서웠거든요. 그런데 댄서분들이 20~30명 정도로 많이 계셨는데 선배님들이 한분 한분...<br/><span class=\"r0bn4c rQMQod\">3시간 전</span></div></div></div></div><div class=\"rl7ilb\"></div></div></a></div>,\n",
       " <div class=\"egMi0 kCrYT\"><h3 class=\"zBAuLc l97dzf\"><div class=\"BNeawe vvjwJb AP7Wnd\">[인터뷰②](영상) 나인아이 제원 '연습생 시절 BTS 댄서로…대스타는 ...</div></h3><div class=\"BNeawe UPmit AP7Wnd\">서울경제</div></div>,\n",
       " <div class=\"BNeawe vvjwJb AP7Wnd\">[인터뷰②](영상) 나인아이 제원 '연습생 시절 BTS 댄서로…대스타는 ...</div>,\n",
       " <div class=\"BNeawe UPmit AP7Wnd\">서울경제</div>,\n",
       " <div class=\"kCrYT\"><div class=\"lcJF1d Q6Xouf G6SP0b\"><div style=\"width:120px;height:83px;position:static\"><img alt=\"\" class=\"h1hFNe\" data-deferred=\"1\" id=\"dimg_11\" src=\"data:image/gif;base64,R0lGODlhAQABAIAAAP///////yH5BAEKAAEALAAAAAABAAEAAAICTAEAOw==\" style=\"width:120px;height:83px\"/></div></div><div><div class=\"BNeawe s3v9rd AP7Wnd\"><div><div class=\"BNeawe s3v9rd AP7Wnd\">제원 - BTS 선배님들이 엄청난 대스타이시잖아요. 그래서 전 조금 무서웠거든요. 그런데 댄서분들이 20~30명 정도로 많이 계셨는데 선배님들이 한분 한분...<br/><span class=\"r0bn4c rQMQod\">3시간 전</span></div></div></div></div><div class=\"rl7ilb\"></div></div>,\n",
       " <div class=\"lcJF1d Q6Xouf G6SP0b\"><div style=\"width:120px;height:83px;position:static\"><img alt=\"\" class=\"h1hFNe\" data-deferred=\"1\" id=\"dimg_11\" src=\"data:image/gif;base64,R0lGODlhAQABAIAAAP///////yH5BAEKAAEALAAAAAABAAEAAAICTAEAOw==\" style=\"width:120px;height:83px\"/></div></div>,\n",
       " <div style=\"width:120px;height:83px;position:static\"><img alt=\"\" class=\"h1hFNe\" data-deferred=\"1\" id=\"dimg_11\" src=\"data:image/gif;base64,R0lGODlhAQABAIAAAP///////yH5BAEKAAEALAAAAAABAAEAAAICTAEAOw==\" style=\"width:120px;height:83px\"/></div>,\n",
       " <div><div class=\"BNeawe s3v9rd AP7Wnd\"><div><div class=\"BNeawe s3v9rd AP7Wnd\">제원 - BTS 선배님들이 엄청난 대스타이시잖아요. 그래서 전 조금 무서웠거든요. 그런데 댄서분들이 20~30명 정도로 많이 계셨는데 선배님들이 한분 한분...<br/><span class=\"r0bn4c rQMQod\">3시간 전</span></div></div></div></div>,\n",
       " <div class=\"BNeawe s3v9rd AP7Wnd\"><div><div class=\"BNeawe s3v9rd AP7Wnd\">제원 - BTS 선배님들이 엄청난 대스타이시잖아요. 그래서 전 조금 무서웠거든요. 그런데 댄서분들이 20~30명 정도로 많이 계셨는데 선배님들이 한분 한분...<br/><span class=\"r0bn4c rQMQod\">3시간 전</span></div></div></div>,\n",
       " <div><div class=\"BNeawe s3v9rd AP7Wnd\">제원 - BTS 선배님들이 엄청난 대스타이시잖아요. 그래서 전 조금 무서웠거든요. 그런데 댄서분들이 20~30명 정도로 많이 계셨는데 선배님들이 한분 한분...<br/><span class=\"r0bn4c rQMQod\">3시간 전</span></div></div>,\n",
       " <div class=\"BNeawe s3v9rd AP7Wnd\">제원 - BTS 선배님들이 엄청난 대스타이시잖아요. 그래서 전 조금 무서웠거든요. 그런데 댄서분들이 20~30명 정도로 많이 계셨는데 선배님들이 한분 한분...<br/><span class=\"r0bn4c rQMQod\">3시간 전</span></div>,\n",
       " <div class=\"rl7ilb\"></div>,\n",
       " <div> <div class=\"ZINbbc xpd O9g5cc uUPGi BmP5tf\"><div class=\"nMymef MUxGbd lyLwlc\"><a aria-label=\"이전 페이지\" class=\"nBDE1b G5eFlf\" href=\"/search?q=BTS&amp;tbm=nws&amp;ei=jmGgYqTKG-TO2roP_qq6WA&amp;start=0&amp;sa=N\" style=\"text-align:right\"><span class=\"qFvlD\">&lt;</span></a><span class=\"SAez4c\">2페이지</span><a aria-label=\"다음 페이지\" class=\"nBDE1b G5eFlf\" href=\"/search?q=BTS&amp;tbm=nws&amp;ei=jmGgYqTKG-TO2roP_qq6WA&amp;start=20&amp;sa=N\" style=\"text-align:left\"><span class=\"qFvlD\">&gt;</span></a></div></div> </div>,\n",
       " <div class=\"ZINbbc xpd O9g5cc uUPGi BmP5tf\"><div class=\"nMymef MUxGbd lyLwlc\"><a aria-label=\"이전 페이지\" class=\"nBDE1b G5eFlf\" href=\"/search?q=BTS&amp;tbm=nws&amp;ei=jmGgYqTKG-TO2roP_qq6WA&amp;start=0&amp;sa=N\" style=\"text-align:right\"><span class=\"qFvlD\">&lt;</span></a><span class=\"SAez4c\">2페이지</span><a aria-label=\"다음 페이지\" class=\"nBDE1b G5eFlf\" href=\"/search?q=BTS&amp;tbm=nws&amp;ei=jmGgYqTKG-TO2roP_qq6WA&amp;start=20&amp;sa=N\" style=\"text-align:left\"><span class=\"qFvlD\">&gt;</span></a></div></div>,\n",
       " <div class=\"nMymef MUxGbd lyLwlc\"><a aria-label=\"이전 페이지\" class=\"nBDE1b G5eFlf\" href=\"/search?q=BTS&amp;tbm=nws&amp;ei=jmGgYqTKG-TO2roP_qq6WA&amp;start=0&amp;sa=N\" style=\"text-align:right\"><span class=\"qFvlD\">&lt;</span></a><span class=\"SAez4c\">2페이지</span><a aria-label=\"다음 페이지\" class=\"nBDE1b G5eFlf\" href=\"/search?q=BTS&amp;tbm=nws&amp;ei=jmGgYqTKG-TO2roP_qq6WA&amp;start=20&amp;sa=N\" style=\"text-align:left\"><span class=\"qFvlD\">&gt;</span></a></div>,\n",
       " <div id=\"EOlPnc\"><div class=\"Srfpq\"><div><span class=\"EYqSq unknown_loc\"></span><span class=\"dfB0uf\">135-280 서울특별시</span></div><span>IP 주소 기반</span><span> - </span><a href=\"/url?q=https://support.google.com/websearch%3Fp%3Dws_settings_location%26hl%3Dko&amp;sa=U&amp;ved=0ahUKEwikyd_Eu534AhVkp1YBHX6VDgs4ChC3LghT&amp;usg=AOvVaw1Iouwhp0rSWvcmxiQ0eeO1\">자세히 알아보기</a></div><div><a href=\"/url?q=https://accounts.google.com/ServiceLogin%3Fcontinue%3Dhttps://www.google.com/search%253Fq%253DBTS%2526start%253D10%2526tbm%253Dnws%26hl%3Dko&amp;sa=U&amp;ved=0ahUKEwikyd_Eu534AhVkp1YBHX6VDgs4ChDGzwIIVA&amp;usg=AOvVaw15DZAOua-3Nr1zGbg8mMIa\">로그인</a></div><div><a class=\"xeDNfc\" href=\"https://www.google.com/preferences?hl=ko&amp;fg=1&amp;sa=X&amp;ved=0ahUKEwikyd_Eu534AhVkp1YBHX6VDgs4ChDl9QIIVQ\">설정</a><a class=\"xeDNfc\" href=\"https://policies.google.com/privacy?hl=ko&amp;fg=1\">개인정보처리방침</a><a class=\"xeDNfc\" href=\"https://policies.google.com/terms?hl=ko&amp;fg=1\">약관</a></div></div>,\n",
       " <div class=\"Srfpq\"><div><span class=\"EYqSq unknown_loc\"></span><span class=\"dfB0uf\">135-280 서울특별시</span></div><span>IP 주소 기반</span><span> - </span><a href=\"/url?q=https://support.google.com/websearch%3Fp%3Dws_settings_location%26hl%3Dko&amp;sa=U&amp;ved=0ahUKEwikyd_Eu534AhVkp1YBHX6VDgs4ChC3LghT&amp;usg=AOvVaw1Iouwhp0rSWvcmxiQ0eeO1\">자세히 알아보기</a></div>,\n",
       " <div><span class=\"EYqSq unknown_loc\"></span><span class=\"dfB0uf\">135-280 서울특별시</span></div>,\n",
       " <div><a href=\"/url?q=https://accounts.google.com/ServiceLogin%3Fcontinue%3Dhttps://www.google.com/search%253Fq%253DBTS%2526start%253D10%2526tbm%253Dnws%26hl%3Dko&amp;sa=U&amp;ved=0ahUKEwikyd_Eu534AhVkp1YBHX6VDgs4ChDGzwIIVA&amp;usg=AOvVaw15DZAOua-3Nr1zGbg8mMIa\">로그인</a></div>,\n",
       " <div><a class=\"xeDNfc\" href=\"https://www.google.com/preferences?hl=ko&amp;fg=1&amp;sa=X&amp;ved=0ahUKEwikyd_Eu534AhVkp1YBHX6VDgs4ChDl9QIIVQ\">설정</a><a class=\"xeDNfc\" href=\"https://policies.google.com/privacy?hl=ko&amp;fg=1\">개인정보처리방침</a><a class=\"xeDNfc\" href=\"https://policies.google.com/terms?hl=ko&amp;fg=1\">약관</a></div>]"
      ]
     },
     "execution_count": 130,
     "metadata": {},
     "output_type": "execute_result"
    }
   ],
   "source": [
    "soup.find_all('div')"
   ]
  },
  {
   "cell_type": "code",
   "execution_count": 131,
   "metadata": {},
   "outputs": [
    {
     "data": {
      "text/plain": [
       "[<div class=\"cOl4Id\"><a href=\"/?sa=X&amp;ved=0ahUKEwikyd_Eu534AhVkp1YBHX6VDgs4ChA7CAI\"><span class=\"V6gwVd\">G</span><span class=\"iWkuvd\">o</span><span class=\"cDrQ7\">o</span><span class=\"V6gwVd\">g</span><span class=\"ntlR9\">l</span><span class=\"iWkuvd tJ3Myc\">e</span></a></div>]"
      ]
     },
     "execution_count": 131,
     "metadata": {},
     "output_type": "execute_result"
    }
   ],
   "source": [
    "soup.find_all('div', attrs={ 'class' : 'cOl4Id' })"
   ]
  },
  {
   "cell_type": "code",
   "execution_count": 129,
   "metadata": {},
   "outputs": [
    {
     "data": {
      "text/plain": [
       "[]"
      ]
     },
     "execution_count": 129,
     "metadata": {},
     "output_type": "execute_result"
    }
   ],
   "source": [
    "soup.find_all('div', attrs={ 'id' : 'result-stats' })"
   ]
  },
  {
   "cell_type": "code",
   "execution_count": 128,
   "metadata": {},
   "outputs": [
    {
     "name": "stdout",
     "output_type": "stream",
     "text": [
      "Help on method find_all in module bs4.element:\n",
      "\n",
      "find_all(name=None, attrs={}, recursive=True, string=None, limit=None, **kwargs) method of bs4.BeautifulSoup instance\n",
      "    Look in the children of this PageElement and find all\n",
      "    PageElements that match the given criteria.\n",
      "    \n",
      "    All find_* methods take a common set of arguments. See the online\n",
      "    documentation for detailed explanations.\n",
      "    \n",
      "    :param name: A filter on tag name.\n",
      "    :param attrs: A dictionary of filters on attribute values.\n",
      "    :param recursive: If this is True, find_all() will perform a\n",
      "        recursive search of this PageElement's children. Otherwise,\n",
      "        only the direct children will be considered.\n",
      "    :param limit: Stop looking after finding this many results.\n",
      "    :kwargs: A dictionary of filters on attribute values.\n",
      "    :return: A ResultSet of PageElements.\n",
      "    :rtype: bs4.element.ResultSet\n",
      "\n"
     ]
    }
   ],
   "source": [
    "help(soup.find_all)"
   ]
  },
  {
   "cell_type": "code",
   "execution_count": null,
   "metadata": {},
   "outputs": [],
   "source": []
  },
  {
   "cell_type": "code",
   "execution_count": null,
   "metadata": {},
   "outputs": [],
   "source": []
  },
  {
   "cell_type": "code",
   "execution_count": 101,
   "metadata": {},
   "outputs": [
    {
     "data": {
      "text/plain": [
       "(<Response [200]>, requests.models.Response)"
      ]
     },
     "execution_count": 101,
     "metadata": {},
     "output_type": "execute_result"
    }
   ],
   "source": [
    "response = requests.get(url)\n",
    "response, type(response)"
   ]
  },
  {
   "cell_type": "code",
   "execution_count": 91,
   "metadata": {},
   "outputs": [],
   "source": [
    "html = response.text\n",
    "soup = BeautifulSoup(html, 'lxml')"
   ]
  },
  {
   "cell_type": "code",
   "execution_count": 92,
   "metadata": {},
   "outputs": [
    {
     "data": {
      "text/plain": [
       "str"
      ]
     },
     "execution_count": 92,
     "metadata": {},
     "output_type": "execute_result"
    }
   ],
   "source": [
    "type(html)"
   ]
  },
  {
   "cell_type": "code",
   "execution_count": 93,
   "metadata": {},
   "outputs": [
    {
     "data": {
      "text/plain": [
       "<title>BTS - Google 검색</title>"
      ]
     },
     "execution_count": 93,
     "metadata": {},
     "output_type": "execute_result"
    }
   ],
   "source": [
    "soup.title"
   ]
  },
  {
   "cell_type": "code",
   "execution_count": 94,
   "metadata": {},
   "outputs": [
    {
     "data": {
      "text/plain": [
       "'BTS - Google 검색Google×몇 초 안에 이동하지 않는 경우 여기를 클릭하세요.    전체동영상이미지뉴스 지도 쇼핑 도서 검색 도구    웹 검색웹 검색한국어 웹최근 항'"
      ]
     },
     "execution_count": 94,
     "metadata": {},
     "output_type": "execute_result"
    }
   ],
   "source": [
    "soup.text[:100]"
   ]
  },
  {
   "cell_type": "code",
   "execution_count": null,
   "metadata": {},
   "outputs": [],
   "source": []
  },
  {
   "cell_type": "code",
   "execution_count": 95,
   "metadata": {},
   "outputs": [],
   "source": [
    "soup.find('div', id='result-stats')"
   ]
  },
  {
   "cell_type": "code",
   "execution_count": 96,
   "metadata": {},
   "outputs": [],
   "source": [
    "s_count = soup.find('div', 'LHJvCe')\n",
    "s_count"
   ]
  },
  {
   "cell_type": "code",
   "execution_count": 97,
   "metadata": {},
   "outputs": [],
   "source": [
    "s_count = soup.find('div', attrs={ 'id' : 'result-stats' })\n",
    "s_count"
   ]
  },
  {
   "cell_type": "code",
   "execution_count": 98,
   "metadata": {},
   "outputs": [
    {
     "data": {
      "text/plain": [
       "NoneType"
      ]
     },
     "execution_count": 98,
     "metadata": {},
     "output_type": "execute_result"
    }
   ],
   "source": [
    "type(s_count)"
   ]
  },
  {
   "cell_type": "code",
   "execution_count": 99,
   "metadata": {},
   "outputs": [
    {
     "name": "stdout",
     "output_type": "stream",
     "text": [
      "Help on method find in module bs4.element:\n",
      "\n",
      "find(name=None, attrs={}, recursive=True, string=None, **kwargs) method of bs4.BeautifulSoup instance\n",
      "    Look in the children of this PageElement and find the first\n",
      "    PageElement that matches the given criteria.\n",
      "    \n",
      "    All find_* methods take a common set of arguments. See the online\n",
      "    documentation for detailed explanations.\n",
      "    \n",
      "    :param name: A filter on tag name.\n",
      "    :param attrs: A dictionary of filters on attribute values.\n",
      "    :param recursive: If this is True, find() will perform a\n",
      "        recursive search of this PageElement's children. Otherwise,\n",
      "        only the direct children will be considered.\n",
      "    :param limit: Stop looking after finding this many results.\n",
      "    :kwargs: A dictionary of filters on attribute values.\n",
      "    :return: A PageElement.\n",
      "    :rtype: bs4.element.Tag | bs4.element.NavigableString\n",
      "\n"
     ]
    }
   ],
   "source": [
    "help(soup.find)"
   ]
  },
  {
   "cell_type": "code",
   "execution_count": null,
   "metadata": {},
   "outputs": [],
   "source": []
  },
  {
   "cell_type": "code",
   "execution_count": 55,
   "metadata": {},
   "outputs": [
    {
     "data": {
      "text/plain": [
       "[]"
      ]
     },
     "execution_count": 55,
     "metadata": {},
     "output_type": "execute_result"
    }
   ],
   "source": [
    "#result-stats\n",
    "s_count = soup.select('#result-stats')\n",
    "s_count "
   ]
  },
  {
   "cell_type": "code",
   "execution_count": null,
   "metadata": {},
   "outputs": [],
   "source": []
  },
  {
   "cell_type": "code",
   "execution_count": 52,
   "metadata": {},
   "outputs": [
    {
     "data": {
      "text/plain": [
       "NoneType"
      ]
     },
     "execution_count": 52,
     "metadata": {},
     "output_type": "execute_result"
    }
   ],
   "source": [
    "type(s_count)"
   ]
  },
  {
   "cell_type": "code",
   "execution_count": 41,
   "metadata": {},
   "outputs": [
    {
     "ename": "AttributeError",
     "evalue": "'NoneType' object has no attribute 'get_text'",
     "output_type": "error",
     "traceback": [
      "\u001b[1;31m---------------------------------------------------------------------------\u001b[0m",
      "\u001b[1;31mAttributeError\u001b[0m                            Traceback (most recent call last)",
      "Input \u001b[1;32mIn [41]\u001b[0m, in \u001b[0;36m<cell line: 1>\u001b[1;34m()\u001b[0m\n\u001b[1;32m----> 1\u001b[0m s_count \u001b[38;5;241m=\u001b[39m \u001b[43ms_count\u001b[49m\u001b[38;5;241;43m.\u001b[39;49m\u001b[43mget_text\u001b[49m()\n\u001b[0;32m      2\u001b[0m s_count\n",
      "\u001b[1;31mAttributeError\u001b[0m: 'NoneType' object has no attribute 'get_text'"
     ]
    }
   ],
   "source": [
    "s_count = s_count.get_text()\n",
    "s_count"
   ]
  },
  {
   "cell_type": "markdown",
   "metadata": {},
   "source": [
    "### <font color='brown'> Regular Expression 관련 사이트\n",
    "- <a href=\"http://regexr.com/\"> Text 정보를 re로 테스트 </a>\n",
    "- <a href=\"https://regexper.com/\"> 작성된 re를 다이어그램으로 표현 </a>"
   ]
  },
  {
   "cell_type": "code",
   "execution_count": 19,
   "metadata": {},
   "outputs": [],
   "source": [
    "import re"
   ]
  },
  {
   "cell_type": "code",
   "execution_count": 20,
   "metadata": {},
   "outputs": [
    {
     "data": {
      "text/plain": [
       "['48,000']"
      ]
     },
     "execution_count": 20,
     "metadata": {},
     "output_type": "execute_result"
    }
   ],
   "source": [
    "# pattern = re.compile(\"[\\d+,?]+\")\n",
    "pattern = re.compile(\"[\\d,]+\")\n",
    "\n",
    "total_count = pattern.findall(s_count)\n",
    "total_count"
   ]
  },
  {
   "cell_type": "code",
   "execution_count": 21,
   "metadata": {},
   "outputs": [
    {
     "data": {
      "text/plain": [
       "48000"
      ]
     },
     "execution_count": 21,
     "metadata": {},
     "output_type": "execute_result"
    }
   ],
   "source": [
    "# s_count = re.search(\"[\\d+,?]+\", s_count)\n",
    "s_count = re.search(\"[\\d,]+\", s_count)\n",
    "\n",
    "if s_count is None:\n",
    "    total_count = 0\n",
    "else:\n",
    "    total_count = s_count.group()\n",
    "    total_count = int(total_count.replace(',', ''))\n",
    "    \n",
    "total_count"
   ]
  },
  {
   "cell_type": "code",
   "execution_count": null,
   "metadata": {},
   "outputs": [],
   "source": []
  },
  {
   "cell_type": "code",
   "execution_count": 22,
   "metadata": {},
   "outputs": [],
   "source": [
    "url = 'https://www.google.co.kr/search'\n",
    "search_start = (navi_page-1)*10\n",
    "params = {\n",
    "    'q'     : search_q,\n",
    "    'tbm'   : search_tbm,\n",
    "    'start' : search_start\n",
    "}\n",
    "response = requests.get(url, params = params)\n",
    "\n",
    "html = response.text\n",
    "soup = BeautifulSoup(html, 'lxml')\n",
    "\n",
    "s_count = soup.find('div', {'id':'resultStats'})\n",
    "s_count = s_count.get_text()\n",
    "s_count = re.search(\"[\\d,]+\", s_count)\n",
    "if s_count is None:\n",
    "    total_count = 0\n",
    "else:\n",
    "    total_count = s_count.group()\n",
    "    total_count = int(total_count.replace(',', ''))\n",
    "    \n",
    "    "
   ]
  },
  {
   "cell_type": "code",
   "execution_count": 39,
   "metadata": {},
   "outputs": [
    {
     "name": "stdout",
     "output_type": "stream",
     "text": [
      "https://www.google.co.kr/search?q=BTS&tbm=nws&start=0&\n",
      "검색결과 약 42,400,000개 \n",
      "https://www.google.co.kr/search {'q': 'BTS', 'tbm': 'nws', 'start': 0}\n",
      "full_url : https://www.google.co.kr/search?q=BTS&tbm=nws&start=0&\n"
     ]
    },
    {
     "data": {
      "text/plain": [
       "42400000"
      ]
     },
     "execution_count": 39,
     "metadata": {},
     "output_type": "execute_result"
    }
   ],
   "source": [
    "def get_google_news_count(search_q, search_tbm = 'nws', navi_page  = 1):\n",
    "    url = 'https://www.google.co.kr/search'\n",
    "    search_start = (navi_page-1)*10\n",
    "    params = {\n",
    "        'q'     : search_q,\n",
    "        'tbm'   : search_tbm,\n",
    "        'start' : search_start\n",
    "    }\n",
    "    full_url = get_full_url(url, params)\n",
    "    response = requests.get(url, params = params)\n",
    "\n",
    "    html = response.text\n",
    "    soup = BeautifulSoup(html, 'lxml')\n",
    "\n",
    "    s_count = soup.find('div', {'id':'resultStats'})\n",
    "    \n",
    "    if s_count is not None:\n",
    "        s_count = s_count.get_text()\n",
    "        \n",
    "    print(\"{} \\n{} {}\".format(s_count, url, params))\n",
    "    print(\"full_url : {}\".format(full_url))\n",
    "    \n",
    "    s_count = re.search(\"[\\d,]+\", s_count)\n",
    "    if s_count is None:\n",
    "        total_count = 0\n",
    "    else:\n",
    "        total_count = s_count.group()\n",
    "        total_count = int(total_count.replace(',', ''))\n",
    "    \n",
    "    return total_count\n",
    "\n",
    "\n",
    "def get_full_url(url, params_dict):\n",
    "    fulll_url = ''\n",
    "    \n",
    "    params_str = '' \n",
    "    for key, value in params_dict.items():\n",
    "        param = \"{}={}&\".format(key, value)\n",
    "        params_str += param\n",
    "        \n",
    "    furll_url = url + '?' + params_str\n",
    "    print(furll_url)\n",
    "    return furll_url\n",
    "\n",
    "get_google_news_count('BTS')"
   ]
  },
  {
   "cell_type": "code",
   "execution_count": 41,
   "metadata": {
    "scrolled": true
   },
   "outputs": [],
   "source": [
    "search_q   = '방탄소년단'\n",
    "search_tbm = '뉴스'\n",
    "navi_page  = 1\n",
    "# get_google_news_count(search_q, search_tbm , navi_page)"
   ]
  },
  {
   "cell_type": "code",
   "execution_count": 38,
   "metadata": {},
   "outputs": [
    {
     "data": {
      "text/plain": [
       "re.Match"
      ]
     },
     "execution_count": 38,
     "metadata": {},
     "output_type": "execute_result"
    }
   ],
   "source": [
    "type(s_count)\n",
    "# ? s_count"
   ]
  },
  {
   "cell_type": "code",
   "execution_count": 33,
   "metadata": {},
   "outputs": [
    {
     "name": "stdout",
     "output_type": "stream",
     "text": [
      "https://www.google.co.kr/search?q=BTS&tbm=nws&start=0&\n",
      "검색결과 약 42,400,000개 \n",
      "https://www.google.co.kr/search {'q': 'BTS', 'tbm': 'nws', 'start': 0}\n",
      "full_url : https://www.google.co.kr/search?q=BTS&tbm=nws&start=0&\n"
     ]
    },
    {
     "data": {
      "text/plain": [
       "42400000"
      ]
     },
     "execution_count": 33,
     "metadata": {},
     "output_type": "execute_result"
    }
   ],
   "source": [
    "get_google_news_count('BTS')"
   ]
  },
  {
   "cell_type": "markdown",
   "metadata": {},
   "source": [
    "<hr>\n",
    "<marquee><font size=3 color='brown'>The BigpyCraft find the information to design valuable society with Technology & Craft.</font></marquee>\n",
    "<div align='right'><font size=2 color='gray'> &lt; The End &gt; </font></div>"
   ]
  }
 ],
 "metadata": {
  "kernelspec": {
   "display_name": "Python 3 (ipykernel)",
   "language": "python",
   "name": "python3"
  },
  "language_info": {
   "codemirror_mode": {
    "name": "ipython",
    "version": 3
   },
   "file_extension": ".py",
   "mimetype": "text/x-python",
   "name": "python",
   "nbconvert_exporter": "python",
   "pygments_lexer": "ipython3",
   "version": "3.9.12"
  }
 },
 "nbformat": 4,
 "nbformat_minor": 2
}
