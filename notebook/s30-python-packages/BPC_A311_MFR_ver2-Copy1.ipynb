{
 "cells": [
  {
   "cell_type": "markdown",
   "metadata": {},
   "source": [
    "# Industry 4.0 의 중심, BigData"
   ]
  },
  {
   "cell_type": "markdown",
   "metadata": {},
   "source": [
    "<div align='right'><font size=2 color='gray'>Data Processing Based Python @ <font color='blue'><a href='https://www.facebook.com/jskim.kr'>FB / jskim.kr</a></font>, [김진수](bigpycraft@gmail.com)</font></div>\n",
    "<hr>"
   ]
  },
  {
   "cell_type": "markdown",
   "metadata": {},
   "source": [
    "### <font color='blue'>실습. Histogram 함수 작성해보기</font>\n",
    "> 리스트를 받아서, 히스토그램을 그리는 함수\n",
    ">  - 입력값 : [\"cat\", \"cat\", \"cat\", \"sheep\", \"sheep\", \"duck\", \"duck\", \"duck\", \"duck\" ]\n"
   ]
  },
  {
   "cell_type": "markdown",
   "metadata": {
    "collapsed": true
   },
   "source": [
    "\n",
    "```python\n",
    "# 1. 히스토그램을 그리는 함수 \n",
    "  input: {'cat': 3, 'duck': 4, 'sheep': 2} => output : 그림으로 나타낸다.\n",
    "\n",
    "# 2. 리스트를 받아서, 숫자를 세는 함수\n",
    "  input: list => output: histogram dict\n",
    "```"
   ]
  },
  {
   "cell_type": "code",
   "execution_count": 1,
   "metadata": {},
   "outputs": [],
   "source": [
    "from functools import *\n",
    "\n",
    "data = [\"cat\", \"cat\", \"cat\", \"sheep\", \"sheep\", \"duck\", \"duck\", \"duck\", \"duck\" ]"
   ]
  },
  {
   "cell_type": "code",
   "execution_count": 2,
   "metadata": {},
   "outputs": [
    {
     "name": "stdout",
     "output_type": "stream",
     "text": [
      "{'cat': 3, 'duck': 4, 'sheep': 2}\n",
      "---------------------------------------- \n",
      "  cat    ===\n",
      "  sheep  ==\n",
      "  duck   ====\n",
      "\n"
     ]
    }
   ],
   "source": [
    "result_dict = {'cat': 3, 'duck': 4, 'sheep': 2}\n",
    "result_hist = \"\"\"\n",
    "  cat    ===\n",
    "  sheep  ==\n",
    "  duck   ====\n",
    "\"\"\"\n",
    "\n",
    "print(result_dict)\n",
    "print('-'*40, result_hist)"
   ]
  },
  {
   "cell_type": "code",
   "execution_count": null,
   "metadata": {},
   "outputs": [],
   "source": []
  },
  {
   "cell_type": "code",
   "execution_count": null,
   "metadata": {},
   "outputs": [],
   "source": []
  },
  {
   "cell_type": "code",
   "execution_count": null,
   "metadata": {},
   "outputs": [],
   "source": []
  },
  {
   "cell_type": "code",
   "execution_count": null,
   "metadata": {},
   "outputs": [],
   "source": []
  },
  {
   "cell_type": "code",
   "execution_count": null,
   "metadata": {},
   "outputs": [],
   "source": []
  },
  {
   "cell_type": "code",
   "execution_count": null,
   "metadata": {},
   "outputs": [],
   "source": []
  },
  {
   "cell_type": "code",
   "execution_count": null,
   "metadata": {},
   "outputs": [],
   "source": []
  },
  {
   "cell_type": "code",
   "execution_count": null,
   "metadata": {},
   "outputs": [],
   "source": []
  },
  {
   "cell_type": "code",
   "execution_count": null,
   "metadata": {},
   "outputs": [],
   "source": []
  },
  {
   "cell_type": "code",
   "execution_count": 25,
   "metadata": {},
   "outputs": [],
   "source": [
    "# %pwd"
   ]
  },
  {
   "cell_type": "code",
   "execution_count": null,
   "metadata": {},
   "outputs": [],
   "source": [
    "reduce(\n",
    "    모듈, \n",
    "    데이터,\n",
    "    초기값\n",
    ")"
   ]
  },
  {
   "cell_type": "code",
   "execution_count": null,
   "metadata": {},
   "outputs": [],
   "source": []
  },
  {
   "cell_type": "code",
   "execution_count": null,
   "metadata": {},
   "outputs": [],
   "source": []
  },
  {
   "cell_type": "code",
   "execution_count": null,
   "metadata": {},
   "outputs": [],
   "source": []
  },
  {
   "cell_type": "markdown",
   "metadata": {},
   "source": [
    "### # 각자 reduce를 활용하여  아래와 같은 Histogram이 출력되도록 함수를 구현해보세요 !!!"
   ]
  },
  {
   "cell_type": "code",
   "execution_count": 9,
   "metadata": {},
   "outputs": [],
   "source": [
    "def get_count(result, element):\n",
    "    \n",
    "    if result.get(element):\n",
    "        result[element] += 1\n",
    "    else:\n",
    "        result[element] = 1\n",
    "    \n",
    "    print(element, '\\t:', result)\n",
    "    \n",
    "    return result"
   ]
  },
  {
   "cell_type": "code",
   "execution_count": 7,
   "metadata": {},
   "outputs": [
    {
     "data": {
      "text/plain": [
       "{'cat': 2, 'dog': 1}"
      ]
     },
     "execution_count": 7,
     "metadata": {},
     "output_type": "execute_result"
    }
   ],
   "source": [
    "# result = dict() \n",
    "element = 'dog'\n",
    "\n",
    "result = get_count(result, element)\n",
    "result\n"
   ]
  },
  {
   "cell_type": "code",
   "execution_count": 10,
   "metadata": {},
   "outputs": [
    {
     "name": "stdout",
     "output_type": "stream",
     "text": [
      "result \t: {} \n",
      "--------------------------------------------\n",
      "cat \t: {'cat': 1}\n",
      "cat \t: {'cat': 2}\n",
      "cat \t: {'cat': 3}\n",
      "sheep \t: {'cat': 3, 'sheep': 1}\n",
      "sheep \t: {'cat': 3, 'sheep': 2}\n",
      "duck \t: {'cat': 3, 'sheep': 2, 'duck': 1}\n",
      "duck \t: {'cat': 3, 'sheep': 2, 'duck': 2}\n",
      "duck \t: {'cat': 3, 'sheep': 2, 'duck': 3}\n",
      "duck \t: {'cat': 3, 'sheep': 2, 'duck': 4}\n"
     ]
    },
    {
     "data": {
      "text/plain": [
       "{'cat': 3, 'sheep': 2, 'duck': 4}"
      ]
     },
     "execution_count": 10,
     "metadata": {},
     "output_type": "execute_result"
    }
   ],
   "source": [
    "print('result \\t:', {}, '\\n--------------------------------------------')\n",
    "\n",
    "reduce(\n",
    "    get_count,\n",
    "    data,\n",
    "    dict()\n",
    ")"
   ]
  },
  {
   "cell_type": "code",
   "execution_count": 38,
   "metadata": {},
   "outputs": [],
   "source": [
    "def get_histogram_dict(data):\n",
    "    def get_count(result, element):\n",
    "        if result.get(element):\n",
    "            result[element] += 1\n",
    "        else:\n",
    "            result[element] = 1\n",
    "        return result\n",
    "\n",
    "    return reduce( get_count, data, dict() )\n",
    "\n",
    "def print_histogram(histogram_dict):    \n",
    "    rows = []\n",
    "    for key, value in histogram_dict.items():\n",
    "        row = \"{key}{spaces}{value_count}\".format(\n",
    "            key         =  key,\n",
    "            spaces      =  \" \" * (7 - len(key)),\n",
    "            value_count =  \"=\" * value,\n",
    "        )\n",
    "        rows.append(row)\n",
    "    print(\"\\n\".join(rows))\n",
    "    \n",
    "def draw_histogram(data):\n",
    "    histogram_dict = get_histogram_dict(data)\n",
    "    print_histogram(histogram_dict)\n"
   ]
  },
  {
   "cell_type": "code",
   "execution_count": 39,
   "metadata": {},
   "outputs": [
    {
     "data": {
      "text/plain": [
       "{'cat': 3, 'sheep': 2, 'duck': 4}"
      ]
     },
     "execution_count": 39,
     "metadata": {},
     "output_type": "execute_result"
    }
   ],
   "source": [
    "data = [\"cat\", \"cat\", \"cat\", \"sheep\", \"sheep\", \"duck\", \"duck\", \"duck\", \"duck\" ]\n",
    "histogram_dict = get_histogram_dict(data)\n",
    "histogram_dict"
   ]
  },
  {
   "cell_type": "code",
   "execution_count": 13,
   "metadata": {},
   "outputs": [
    {
     "name": "stdout",
     "output_type": "stream",
     "text": [
      "cat    ===\n",
      "sheep  ==\n",
      "duck   ====\n"
     ]
    }
   ],
   "source": [
    "print_histogram(histogram_dict)"
   ]
  },
  {
   "cell_type": "code",
   "execution_count": null,
   "metadata": {},
   "outputs": [],
   "source": []
  },
  {
   "cell_type": "markdown",
   "metadata": {},
   "source": [
    "### # 투표 결과 Random Histogram !!!"
   ]
  },
  {
   "cell_type": "code",
   "execution_count": 15,
   "metadata": {},
   "outputs": [],
   "source": [
    "from random import *\n",
    "\n",
    "candidate = ['빨강생 후보', '노랑색 후보', '파랑색 후보', '초록색 후보', '하얀색 후보']\n",
    "num_of_voters = 100"
   ]
  },
  {
   "cell_type": "code",
   "execution_count": 37,
   "metadata": {},
   "outputs": [
    {
     "name": "stdout",
     "output_type": "stream",
     "text": [
      "파랑색 후보 ================\n",
      "초록색 후보 ===========================\n",
      "빨강생 후보 ================\n",
      "노랑색 후보 =====================\n",
      "하얀색 후보 ====================\n"
     ]
    }
   ],
   "source": [
    "voting_result = list()\n",
    "for _ in range(num_of_voters):\n",
    "    c_num = randint(0, 4)\n",
    "    voting_result.append(candidate[c_num])\n",
    "\n",
    "draw_histogram(voting_result)"
   ]
  },
  {
   "cell_type": "code",
   "execution_count": 10,
   "metadata": {},
   "outputs": [
    {
     "name": "stdout",
     "output_type": "stream",
     "text": [
      "하얀색 후보 ==================\n",
      "초록색 후보 =====================\n",
      "노랑색 후보 ========================\n",
      "파랑색 후보 =======================\n",
      "빨강생 후보 ==============\n"
     ]
    }
   ],
   "source": [
    "voting_result = list()\n",
    "for _ in range(num_of_voters):\n",
    "    c_num = randint(0, 4)\n",
    "    voting_result.append(candidate[c_num])\n",
    "\n",
    "draw_histogram(voting_result)"
   ]
  },
  {
   "cell_type": "markdown",
   "metadata": {},
   "source": [
    "<hr>\n",
    "<marquee><font size=3 color='brown'>The BigpyCraft find the information to design valuable society with Technology & Craft.</font></marquee>\n",
    "<div align='right'><font size=2 color='gray'> &lt; The End &gt; </font></div>"
   ]
  },
  {
   "cell_type": "code",
   "execution_count": 1,
   "metadata": {},
   "outputs": [],
   "source": [
    "from functools import reduce"
   ]
  },
  {
   "cell_type": "code",
   "execution_count": 14,
   "metadata": {},
   "outputs": [],
   "source": [
    "def histo(histo_dict,data):\n",
    "    key = data\n",
    "    print(\"type : \".format(type(histo_dict)))\n",
    "    if key in list(histo_dict.keys()):\n",
    "        histo_dict[key] = histo_dict[key] + 1\n",
    "    else:\n",
    "        histo_dict[key] = 1\n",
    "    # print(histo_dict)    \n",
    "    return histo_dict"
   ]
  },
  {
   "cell_type": "code",
   "execution_count": 15,
   "metadata": {},
   "outputs": [
    {
     "name": "stdout",
     "output_type": "stream",
     "text": [
      "type : \n"
     ]
    },
    {
     "ename": "AttributeError",
     "evalue": "'str' object has no attribute 'keys'",
     "output_type": "error",
     "traceback": [
      "\u001b[1;31m---------------------------------------------------------------------------\u001b[0m",
      "\u001b[1;31mAttributeError\u001b[0m                            Traceback (most recent call last)",
      "Input \u001b[1;32mIn [15]\u001b[0m, in \u001b[0;36m<cell line: 2>\u001b[1;34m()\u001b[0m\n\u001b[0;32m      1\u001b[0m data \u001b[38;5;241m=\u001b[39m [\u001b[38;5;124m\"\u001b[39m\u001b[38;5;124mcat\u001b[39m\u001b[38;5;124m\"\u001b[39m, \u001b[38;5;124m\"\u001b[39m\u001b[38;5;124mcat\u001b[39m\u001b[38;5;124m\"\u001b[39m, \u001b[38;5;124m\"\u001b[39m\u001b[38;5;124mcat\u001b[39m\u001b[38;5;124m\"\u001b[39m, \u001b[38;5;124m\"\u001b[39m\u001b[38;5;124msheep\u001b[39m\u001b[38;5;124m\"\u001b[39m, \u001b[38;5;124m\"\u001b[39m\u001b[38;5;124msheep\u001b[39m\u001b[38;5;124m\"\u001b[39m, \u001b[38;5;124m\"\u001b[39m\u001b[38;5;124mduck\u001b[39m\u001b[38;5;124m\"\u001b[39m, \u001b[38;5;124m\"\u001b[39m\u001b[38;5;124mduck\u001b[39m\u001b[38;5;124m\"\u001b[39m, \u001b[38;5;124m\"\u001b[39m\u001b[38;5;124mduck\u001b[39m\u001b[38;5;124m\"\u001b[39m, \u001b[38;5;124m\"\u001b[39m\u001b[38;5;124mduck\u001b[39m\u001b[38;5;124m\"\u001b[39m ]\n\u001b[1;32m----> 2\u001b[0m result1 \u001b[38;5;241m=\u001b[39m \u001b[43mreduce\u001b[49m\u001b[43m \u001b[49m\u001b[43m(\u001b[49m\n\u001b[0;32m      3\u001b[0m \u001b[43m    \u001b[49m\u001b[43mhisto\u001b[49m\u001b[43m,\u001b[49m\n\u001b[0;32m      4\u001b[0m \u001b[43m    \u001b[49m\u001b[43mdata\u001b[49m\u001b[43m,\u001b[49m\n\u001b[0;32m      5\u001b[0m \u001b[43m    \u001b[49m\u001b[38;5;124;43m\"\u001b[39;49m\u001b[38;5;124;43m\"\u001b[39;49m\n\u001b[0;32m      6\u001b[0m \u001b[43m)\u001b[49m\n",
      "Input \u001b[1;32mIn [14]\u001b[0m, in \u001b[0;36mhisto\u001b[1;34m(histo_dict, data)\u001b[0m\n\u001b[0;32m      2\u001b[0m key \u001b[38;5;241m=\u001b[39m data\n\u001b[0;32m      3\u001b[0m \u001b[38;5;28mprint\u001b[39m(\u001b[38;5;124m\"\u001b[39m\u001b[38;5;124mtype : \u001b[39m\u001b[38;5;124m\"\u001b[39m\u001b[38;5;241m.\u001b[39mformat(\u001b[38;5;28mtype\u001b[39m(histo_dict)))\n\u001b[1;32m----> 4\u001b[0m \u001b[38;5;28;01mif\u001b[39;00m key \u001b[38;5;129;01min\u001b[39;00m \u001b[38;5;28mlist\u001b[39m(\u001b[43mhisto_dict\u001b[49m\u001b[38;5;241;43m.\u001b[39;49m\u001b[43mkeys\u001b[49m()):\n\u001b[0;32m      5\u001b[0m     histo_dict[key] \u001b[38;5;241m=\u001b[39m histo_dict[key] \u001b[38;5;241m+\u001b[39m \u001b[38;5;241m1\u001b[39m\n\u001b[0;32m      6\u001b[0m \u001b[38;5;28;01melse\u001b[39;00m:\n",
      "\u001b[1;31mAttributeError\u001b[0m: 'str' object has no attribute 'keys'"
     ]
    }
   ],
   "source": [
    "data = [\"cat\", \"cat\", \"cat\", \"sheep\", \"sheep\", \"duck\", \"duck\", \"duck\", \"duck\" ]\n",
    "result1 = reduce (\n",
    "    histo,\n",
    "    data,\n",
    "    \"\"\n",
    ")"
   ]
  },
  {
   "cell_type": "code",
   "execution_count": 4,
   "metadata": {},
   "outputs": [
    {
     "data": {
      "text/plain": [
       "{'cat': 3, 'sheep': 2, 'duck': 4}"
      ]
     },
     "execution_count": 4,
     "metadata": {},
     "output_type": "execute_result"
    }
   ],
   "source": [
    "result1"
   ]
  },
  {
   "cell_type": "code",
   "execution_count": 5,
   "metadata": {},
   "outputs": [],
   "source": [
    "def histo(histo_dict,data):\n",
    "    key = data\n",
    "    if key in list(histo_dict.keys()):\n",
    "        histo_dict[key] += 1*'='  \n",
    "    else:\n",
    "        histo_dict[key] = 1*'='\n",
    "#     print(histo_dict)    \n",
    "    return histo_dict"
   ]
  },
  {
   "cell_type": "code",
   "execution_count": 6,
   "metadata": {},
   "outputs": [],
   "source": [
    "data = [\"cat\", \"cat\", \"cat\", \"sheep\", \"sheep\", \"duck\", \"duck\", \"duck\", \"duck\" ]\n",
    "\n",
    "result1 = reduce (\n",
    "    histo,\n",
    "    data,\n",
    "    dict()\n",
    ")"
   ]
  },
  {
   "cell_type": "code",
   "execution_count": 7,
   "metadata": {},
   "outputs": [
    {
     "data": {
      "text/plain": [
       "{'cat': '===', 'sheep': '==', 'duck': '===='}"
      ]
     },
     "execution_count": 7,
     "metadata": {},
     "output_type": "execute_result"
    }
   ],
   "source": [
    "result1"
   ]
  }
 ],
 "metadata": {
  "kernelspec": {
   "display_name": "Python 3 (ipykernel)",
   "language": "python",
   "name": "python3"
  },
  "language_info": {
   "codemirror_mode": {
    "name": "ipython",
    "version": 3
   },
   "file_extension": ".py",
   "mimetype": "text/x-python",
   "name": "python",
   "nbconvert_exporter": "python",
   "pygments_lexer": "ipython3",
   "version": "3.9.12"
  }
 },
 "nbformat": 4,
 "nbformat_minor": 1
}
