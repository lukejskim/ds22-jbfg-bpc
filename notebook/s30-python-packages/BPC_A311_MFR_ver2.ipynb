{
 "cells": [
  {
   "cell_type": "markdown",
   "metadata": {},
   "source": [
    "# Industry 4.0 의 중심, BigData"
   ]
  },
  {
   "cell_type": "markdown",
   "metadata": {},
   "source": [
    "<div align='right'><font size=2 color='gray'>Data Processing Based Python @ <font color='blue'><a href='https://www.facebook.com/jskim.kr'>FB / jskim.kr</a></font>, [김진수](bigpycraft@gmail.com)</font></div>\n",
    "<hr>"
   ]
  },
  {
   "cell_type": "markdown",
   "metadata": {},
   "source": [
    "### <font color='blue'>실습. Histogram 함수 작성해보기</font>\n",
    "> 리스트를 받아서, 히스토그램을 그리는 함수\n",
    ">  - 입력값 : [\"cat\", \"cat\", \"cat\", \"sheep\", \"sheep\", \"duck\", \"duck\", \"duck\", \"duck\" ]\n"
   ]
  },
  {
   "cell_type": "markdown",
   "metadata": {
    "collapsed": true
   },
   "source": [
    "\n",
    "```python\n",
    "# 1. 히스토그램을 그리는 함수 \n",
    "  input: {'cat': 3, 'duck': 4, 'sheep': 2} => output : 그림으로 나타낸다.\n",
    "\n",
    "# 2. 리스트를 받아서, 숫자를 세는 함수\n",
    "  input: list => output: histogram dict\n",
    "```"
   ]
  },
  {
   "cell_type": "code",
   "execution_count": 1,
   "metadata": {},
   "outputs": [],
   "source": [
    "from functools import *\n",
    "\n",
    "data = [\"cat\", \"cat\", \"cat\", \"sheep\", \"sheep\", \"duck\", \"duck\", \"duck\", \"duck\" ]"
   ]
  },
  {
   "cell_type": "code",
   "execution_count": 2,
   "metadata": {},
   "outputs": [],
   "source": [
    "result_dict = {'cat': 3, 'duck': 4, 'sheep': 2}\n",
    "result_hist = \"\"\"\n",
    "  cat    ===\n",
    "  sheep  ==\n",
    "  duck   ====\n",
    "\"\"\"\n",
    "\n",
    "print(result_dict)\n",
    "print('-'*40, result_hist)"
   ]
  },
  {
   "cell_type": "markdown",
   "metadata": {},
   "source": [
    "### # 각자 reduce를 활용하여  아래와 같은 Histogram이 출력되도록 함수를 구현해보세요 !!!"
   ]
  },
  {
   "cell_type": "code",
   "execution_count": 3,
   "metadata": {},
   "outputs": [],
   "source": [
    "def get_count(result, element):\n",
    "    \n",
    "    if result.get(element):\n",
    "        result[element] += 1\n",
    "    else:\n",
    "        result[element] = 1\n",
    "    \n",
    "    # check process\n",
    "    print(element, '\\t:', result)\n",
    "    \n",
    "    return result\n"
   ]
  },
  {
   "cell_type": "code",
   "execution_count": 4,
   "metadata": {},
   "outputs": [],
   "source": [
    "print('result \\t:', {}, '\\n--------------------------------------------')\n",
    "\n",
    "reduce(\n",
    "    get_count,\n",
    "    data,\n",
    "    {}\n",
    ")"
   ]
  },
  {
   "cell_type": "code",
   "execution_count": 5,
   "metadata": {},
   "outputs": [],
   "source": [
    "def get_histogram_dict(data):\n",
    "    def get_count(result, element):\n",
    "        if result.get(element):\n",
    "            result[element] += 1\n",
    "        else:\n",
    "            result[element] = 1\n",
    "        return result\n",
    "\n",
    "    return reduce(\n",
    "        get_count,\n",
    "        data,\n",
    "        {},\n",
    "    )\n",
    "\n",
    "def print_histogram(histogram_dict):    \n",
    "    rows = []\n",
    "    for key, value in histogram_dict.items():\n",
    "        row = \"{key}{spaces}{value_count}\".format(\n",
    "            key         =  key,\n",
    "            spaces      =  \" \" * (7 - len(key)),\n",
    "            value_count =  \"=\" * value,\n",
    "        )\n",
    "        rows.append(row)\n",
    "        \n",
    "    print(\"\\n\".join(rows))\n",
    "    \n",
    "\n",
    "def draw_histogram(data):\n",
    "    histogram_dict = get_histogram_dict(data)\n",
    "    print_histogram(histogram_dict)\n"
   ]
  },
  {
   "cell_type": "code",
   "execution_count": 6,
   "metadata": {},
   "outputs": [],
   "source": [
    "data = [\"cat\", \"cat\", \"cat\", \"sheep\", \"sheep\", \"duck\", \"duck\", \"duck\", \"duck\" ]\n",
    "histogram_dict = get_histogram_dict(data)\n",
    "histogram_dict"
   ]
  },
  {
   "cell_type": "code",
   "execution_count": 7,
   "metadata": {},
   "outputs": [
    {
     "name": "stdout",
     "output_type": "stream",
     "text": [
      "cat    ===\n",
      "sheep  ==\n",
      "duck   ====\n"
     ]
    }
   ],
   "source": [
    "print_histogram(histogram_dict)"
   ]
  },
  {
   "cell_type": "code",
   "execution_count": null,
   "metadata": {},
   "outputs": [],
   "source": []
  },
  {
   "cell_type": "markdown",
   "metadata": {},
   "source": [
    "### # 투표 결과 Random Histogram !!!"
   ]
  },
  {
   "cell_type": "code",
   "execution_count": 8,
   "metadata": {},
   "outputs": [],
   "source": [
    "from random import *\n",
    "\n",
    "candidate = ['빨강생 후보', '노랑색 후보', '파랑색 후보', '초록색 후보', '하얀색 후보']\n",
    "num_of_voters = 100"
   ]
  },
  {
   "cell_type": "code",
   "execution_count": 9,
   "metadata": {},
   "outputs": [
    {
     "name": "stdout",
     "output_type": "stream",
     "text": [
      "노랑색 후보 =======================\n",
      "파랑색 후보 ==================\n",
      "하얀색 후보 ==================\n",
      "초록색 후보 ==========================\n",
      "빨강생 후보 ===============\n"
     ]
    }
   ],
   "source": [
    "voting_result = list()\n",
    "for _ in range(num_of_voters):\n",
    "    c_num = randint(0, 4)\n",
    "    voting_result.append(candidate[c_num])\n",
    "\n",
    "draw_histogram(voting_result)"
   ]
  },
  {
   "cell_type": "code",
   "execution_count": 10,
   "metadata": {},
   "outputs": [
    {
     "name": "stdout",
     "output_type": "stream",
     "text": [
      "초록색 후보 ================\n",
      "빨강생 후보 ============================\n",
      "하얀색 후보 ===================\n",
      "노랑색 후보 ======================\n",
      "파랑색 후보 ===============\n"
     ]
    }
   ],
   "source": [
    "voting_result = list()\n",
    "for _ in range(num_of_voters):\n",
    "    c_num = randint(0, 4)\n",
    "    voting_result.append(candidate[c_num])\n",
    "\n",
    "draw_histogram(voting_result)"
   ]
  },
  {
   "cell_type": "markdown",
   "metadata": {},
   "source": [
    "<hr>\n",
    "<marquee><font size=3 color='brown'>The BigpyCraft find the information to design valuable society with Technology & Craft.</font></marquee>\n",
    "<div align='right'><font size=2 color='gray'> &lt; The End &gt; </font></div>"
   ]
  }
 ],
 "metadata": {
  "kernelspec": {
   "display_name": "Python 3 (ipykernel)",
   "language": "python",
   "name": "python3"
  },
  "language_info": {
   "codemirror_mode": {
    "name": "ipython",
    "version": 3
   },
   "file_extension": ".py",
   "mimetype": "text/x-python",
   "name": "python",
   "nbconvert_exporter": "python",
   "pygments_lexer": "ipython3",
   "version": "3.9.12"
  }
 },
 "nbformat": 4,
 "nbformat_minor": 1
}
