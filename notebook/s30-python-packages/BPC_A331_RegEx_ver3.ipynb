{
 "cells": [
  {
   "cell_type": "markdown",
   "metadata": {},
   "source": [
    "<center>\n",
    "<b><font size=6>Industry 4.0 의 중심, BigData</font></b>\n",
    "</center>"
   ]
  },
  {
   "cell_type": "markdown",
   "metadata": {},
   "source": [
    "<div align='right'><font size=2 color='gray'>Data Processing Based Python @ <font color='blue'><a href='https://www.facebook.com/jskim.kr'>FB / jskim.kr</a></font>, 김진수</font></div>\n",
    "<hr>"
   ]
  },
  {
   "cell_type": "markdown",
   "metadata": {
    "collapsed": true
   },
   "source": [
    "# 정규표현식, RegEx ( Regular Expression )\n"
   ]
  },
  {
   "cell_type": "markdown",
   "metadata": {},
   "source": [
    "### <font color='brown'> Regular Expression 관련 사이트\n",
    "- <a href=\"http://regexr.com/\"> Text 정보를 re로 테스트 </a>\n",
    "- <a href=\"https://regexper.com/\"> 작성된 re를 다이어그램으로 표현 </a>"
   ]
  },
  {
   "cell_type": "code",
   "execution_count": 1,
   "metadata": {},
   "outputs": [],
   "source": [
    "import re "
   ]
  },
  {
   "cell_type": "markdown",
   "metadata": {},
   "source": [
    "### <font color='brown'>문자열에서 특정이름 찾아내기</font>"
   ]
  },
  {
   "cell_type": "code",
   "execution_count": 2,
   "metadata": {},
   "outputs": [],
   "source": [
    "# \\w ( 1 char )\n",
    "# \\d ( 1 decimal )\n",
    "# \\s ( 1 space )\n",
    "\n",
    "# + ( 1, ..., N )\n",
    "# ? ( 0, 1 )\n",
    "# * ( 0, 1, .. N )\n",
    "\n",
    "# \\d{N} ( 숫자가 N개 나온다. )\n",
    "# \\d{N,M} ( 숫자가 N~M개 나온다 )"
   ]
  },
  {
   "cell_type": "code",
   "execution_count": 3,
   "metadata": {},
   "outputs": [],
   "source": [
    "text = \"\"\"\n",
    "옛날 옛적에 김진수라는 사람이 살았습니다.\n",
    "그에게는 5형제가 있었는데, 김진수, 김진구, 김진용, 김진태, 김진욱 이렇게 5명 있었습니다.\n",
    "그리고 그는 결혼을 해서 김찬영, 김준영, 김채영 3남매를 낳고 행복하게 잘 살았습니다.\n",
    "\"\"\"\n",
    "# 형제 : 김진O\n",
    "# 자녀 : 김O영"
   ]
  },
  {
   "cell_type": "code",
   "execution_count": 4,
   "metadata": {},
   "outputs": [],
   "source": [
    "pattern = re.compile(\"김진\\w\")"
   ]
  },
  {
   "cell_type": "code",
   "execution_count": 5,
   "metadata": {},
   "outputs": [
    {
     "data": {
      "text/plain": [
       "['김진수', '김진수', '김진구', '김진용', '김진태', '김진욱']"
      ]
     },
     "execution_count": 5,
     "metadata": {},
     "output_type": "execute_result"
    }
   ],
   "source": [
    "brother = pattern.findall(text)\n",
    "brother"
   ]
  },
  {
   "cell_type": "code",
   "execution_count": 6,
   "metadata": {},
   "outputs": [],
   "source": [
    "pattern = re.compile(\"김.영\")\n",
    "pattern = re.compile(\"김\\w영\")"
   ]
  },
  {
   "cell_type": "code",
   "execution_count": 7,
   "metadata": {},
   "outputs": [
    {
     "data": {
      "text/plain": [
       "['김찬영', '김준영', '김채영']"
      ]
     },
     "execution_count": 7,
     "metadata": {},
     "output_type": "execute_result"
    }
   ],
   "source": [
    "children = pattern.findall(text)\n",
    "children"
   ]
  },
  {
   "cell_type": "code",
   "execution_count": 8,
   "metadata": {},
   "outputs": [
    {
     "data": {
      "text/plain": [
       "{'김진구', '김진수', '김진용', '김진욱', '김진태'}"
      ]
     },
     "execution_count": 8,
     "metadata": {},
     "output_type": "execute_result"
    }
   ],
   "source": [
    "brother = set(brother)\n",
    "brother"
   ]
  },
  {
   "cell_type": "code",
   "execution_count": 9,
   "metadata": {},
   "outputs": [],
   "source": [
    "# ...fly => dragonfly, butterfly"
   ]
  },
  {
   "cell_type": "code",
   "execution_count": 10,
   "metadata": {},
   "outputs": [],
   "source": [
    "text = \"A sky, a dragonfly and a butterfly!!!!!\""
   ]
  },
  {
   "cell_type": "code",
   "execution_count": 11,
   "metadata": {},
   "outputs": [
    {
     "data": {
      "text/plain": [
       "['dragonfly', 'butterfly']"
      ]
     },
     "execution_count": 11,
     "metadata": {},
     "output_type": "execute_result"
    }
   ],
   "source": [
    "pattern = re.compile(\"\\w+fly\")\n",
    "pattern.findall(text)"
   ]
  },
  {
   "cell_type": "markdown",
   "metadata": {},
   "source": [
    "### <font color='brown'> 주민등록번호에 대한 파싱 </font>\n",
    ">  개인정보보호를 위해 일부정보 숨김\n",
    "> - 주민등록번호 : 숫자 6자리 - 숫자 7자리 \n",
    "> - 데이터에서 주민등록번호만 찾아서, 뒷자리를 암호화(*******)"
   ]
  },
  {
   "cell_type": "code",
   "execution_count": 12,
   "metadata": {},
   "outputs": [],
   "source": [
    "text = \"\"\"\n",
    "    김찬영 020822-3069110\n",
    "    김준영 040825-3069115\n",
    "    김채영 110715-4063111\n",
    "\"\"\""
   ]
  },
  {
   "cell_type": "code",
   "execution_count": 13,
   "metadata": {},
   "outputs": [],
   "source": [
    "pattern = re.compile(\"\\d{6}-?\\d{7}\")"
   ]
  },
  {
   "cell_type": "code",
   "execution_count": 14,
   "metadata": {},
   "outputs": [
    {
     "data": {
      "text/plain": [
       "['020822-3069110', '040825-3069115', '110715-4063111']"
      ]
     },
     "execution_count": 14,
     "metadata": {},
     "output_type": "execute_result"
    }
   ],
   "source": [
    "pattern.findall(text)"
   ]
  },
  {
   "cell_type": "code",
   "execution_count": 15,
   "metadata": {},
   "outputs": [],
   "source": [
    "pattern = re.compile(\"\\d{6}-\\d{7}\")\n",
    "# 정규표현식 GROUP\n",
    "# 1. 생년월일 그룹 <birth>\n",
    "# 2. 주민등록번호 뒷자리 그룹 <secret>"
   ]
  },
  {
   "cell_type": "code",
   "execution_count": 16,
   "metadata": {},
   "outputs": [],
   "source": [
    "pattern = re.compile(\"(?P<birth>\\d{6})-(?P<secret>\\d{7})\")\n",
    "\n",
    "# 김채영 110715-******* => 김채영(110715-*******)"
   ]
  },
  {
   "cell_type": "code",
   "execution_count": 17,
   "metadata": {},
   "outputs": [
    {
     "data": {
      "text/plain": [
       "[('020822', '3069110'), ('040825', '3069115'), ('110715', '4063111')]"
      ]
     },
     "execution_count": 17,
     "metadata": {},
     "output_type": "execute_result"
    }
   ],
   "source": [
    "pattern.findall(text)"
   ]
  },
  {
   "cell_type": "code",
   "execution_count": 18,
   "metadata": {},
   "outputs": [
    {
     "name": "stdout",
     "output_type": "stream",
     "text": [
      "\n",
      "    김찬영 020822-*******\n",
      "    김준영 040825-*******\n",
      "    김채영 110715-*******\n",
      "\n"
     ]
    }
   ],
   "source": [
    "result = pattern.sub(\"\\g<birth>-*******\", text)\n",
    "print(result)"
   ]
  },
  {
   "cell_type": "code",
   "execution_count": 19,
   "metadata": {},
   "outputs": [
    {
     "name": "stdout",
     "output_type": "stream",
     "text": [
      "\n",
      "    김찬영 020822-*******\n",
      "    김준영 040825-*******\n",
      "    김채영 110715-*******\n",
      "\n"
     ]
    }
   ],
   "source": [
    "result = pattern.sub(\"\\g<birth>-*******\", text)\n",
    "print(result)"
   ]
  },
  {
   "cell_type": "code",
   "execution_count": null,
   "metadata": {},
   "outputs": [],
   "source": []
  },
  {
   "cell_type": "code",
   "execution_count": 20,
   "metadata": {},
   "outputs": [],
   "source": [
    "pattern = re.compile(\"(?P<name>\\w{3}) (?P<birth>\\d{6})-(?P<secret>\\d{7})\")"
   ]
  },
  {
   "cell_type": "code",
   "execution_count": 21,
   "metadata": {},
   "outputs": [
    {
     "data": {
      "text/plain": [
       "[('김찬영', '020822', '3069110'),\n",
       " ('김준영', '040825', '3069115'),\n",
       " ('김채영', '110715', '4063111')]"
      ]
     },
     "execution_count": 21,
     "metadata": {},
     "output_type": "execute_result"
    }
   ],
   "source": [
    "pattern.findall(text)"
   ]
  },
  {
   "cell_type": "code",
   "execution_count": 22,
   "metadata": {},
   "outputs": [
    {
     "name": "stdout",
     "output_type": "stream",
     "text": [
      "\n",
      "    김찬영 020822-3069110\n",
      "    김준영 040825-3069115\n",
      "    김채영 110715-4063111\n",
      "\n"
     ]
    }
   ],
   "source": [
    "print(text)"
   ]
  },
  {
   "cell_type": "code",
   "execution_count": 23,
   "metadata": {},
   "outputs": [],
   "source": [
    "pattern = re.compile(\"(?P<name>\\w{3}) (?P<birth>\\d{6})-(?P<secret>\\d{7})\")"
   ]
  },
  {
   "cell_type": "code",
   "execution_count": 24,
   "metadata": {},
   "outputs": [
    {
     "data": {
      "text/plain": [
       "[('김찬영', '020822', '3069110'),\n",
       " ('김준영', '040825', '3069115'),\n",
       " ('김채영', '110715', '4063111')]"
      ]
     },
     "execution_count": 24,
     "metadata": {},
     "output_type": "execute_result"
    }
   ],
   "source": [
    "pattern.findall(text)"
   ]
  },
  {
   "cell_type": "code",
   "execution_count": 25,
   "metadata": {},
   "outputs": [
    {
     "name": "stdout",
     "output_type": "stream",
     "text": [
      "\n",
      "    김찬영(020822-*******)\n",
      "    김준영(040825-*******)\n",
      "    김채영(110715-*******)\n",
      "\n"
     ]
    }
   ],
   "source": [
    "result = pattern.sub(\"\\g<name>(\\g<birth>-*******)\", text)\n",
    "print(result)"
   ]
  },
  {
   "cell_type": "code",
   "execution_count": 26,
   "metadata": {},
   "outputs": [
    {
     "name": "stdout",
     "output_type": "stream",
     "text": [
      "\n",
      "    김찬영(020822-*******)\n",
      "    김준영(040825-*******)\n",
      "    김채영(110715-*******)\n",
      "\n"
     ]
    }
   ],
   "source": [
    "result = pattern.sub(\"\\g<name>(\\g<birth>-*******)\", text)\n",
    "print(result)"
   ]
  },
  {
   "cell_type": "code",
   "execution_count": 27,
   "metadata": {},
   "outputs": [
    {
     "data": {
      "text/plain": [
       "['',\n",
       " '    김찬영(020822-*******)',\n",
       " '    김준영(040825-*******)',\n",
       " '    김채영(110715-*******)',\n",
       " '']"
      ]
     },
     "execution_count": 27,
     "metadata": {},
     "output_type": "execute_result"
    }
   ],
   "source": [
    "result = result.split('\\n')\n",
    "result"
   ]
  },
  {
   "cell_type": "code",
   "execution_count": 28,
   "metadata": {},
   "outputs": [
    {
     "data": {
      "text/plain": [
       "['    김찬영(020822-*******)',\n",
       " '    김준영(040825-*******)',\n",
       " '    김채영(110715-*******)',\n",
       " '']"
      ]
     },
     "execution_count": 28,
     "metadata": {},
     "output_type": "execute_result"
    }
   ],
   "source": [
    "result.pop(0)\n",
    "result"
   ]
  },
  {
   "cell_type": "code",
   "execution_count": 29,
   "metadata": {},
   "outputs": [
    {
     "data": {
      "text/plain": [
       "['    김찬영(020822-*******)',\n",
       " '    김준영(040825-*******)',\n",
       " '    김채영(110715-*******)']"
      ]
     },
     "execution_count": 29,
     "metadata": {},
     "output_type": "execute_result"
    }
   ],
   "source": [
    "result.pop(-1)\n",
    "result"
   ]
  },
  {
   "cell_type": "code",
   "execution_count": 30,
   "metadata": {},
   "outputs": [
    {
     "name": "stdout",
     "output_type": "stream",
     "text": [
      "0 김찬영(020822-*******)\n",
      "1 김준영(040825-*******)\n",
      "2 김채영(110715-*******)\n"
     ]
    }
   ],
   "source": [
    "for idx, val in enumerate(result):\n",
    "    val = val.replace(\" \", \"\")\n",
    "    # val[2] = \"O\"\n",
    "    # val.pop(2)\n",
    "    # val.insert(2, \"O\")\n",
    "    print(idx, val)"
   ]
  },
  {
   "cell_type": "markdown",
   "metadata": {},
   "source": [
    "<hr>"
   ]
  },
  {
   "cell_type": "markdown",
   "metadata": {},
   "source": [
    "### <font color='brown'> 텍스트 문자 정제 </font>\n",
    "> 특수 문자 제거\n",
    "> - 텍스트에 포함되어 있는 특수 문자 제거\n",
    "> - 특수문자 : [-=+,#/\\?:^$.@*\\\"※~&%ㆍ!』\\\\‘|\\(\\)\\[\\]\\<\\>`\\'…》]"
   ]
  },
  {
   "cell_type": "code",
   "execution_count": 31,
   "metadata": {},
   "outputs": [],
   "source": [
    "#텍스트 정제(전처리)\n",
    "def cleanText(readData):\n",
    "    #텍스트에 포함되어 있는 특수 문자 제거\n",
    "    text = re.sub('[-=+,#/\\?:^$.@*\\\"※~&%ㆍ!』\\\\‘|\\(\\)\\[\\]\\<\\>`\\'…》]', '', readData)\n",
    "    return text\n"
   ]
  },
  {
   "cell_type": "code",
   "execution_count": 32,
   "metadata": {},
   "outputs": [],
   "source": [
    "sample_text = \"!@#abcdefghijklmn!@#$%^&*()\""
   ]
  },
  {
   "cell_type": "code",
   "execution_count": 33,
   "metadata": {},
   "outputs": [],
   "source": [
    "clean_text = cleanText(sample_text)"
   ]
  },
  {
   "cell_type": "code",
   "execution_count": 34,
   "metadata": {},
   "outputs": [
    {
     "data": {
      "text/plain": [
       "'abcdefghijklmn'"
      ]
     },
     "execution_count": 34,
     "metadata": {},
     "output_type": "execute_result"
    }
   ],
   "source": [
    "clean_text"
   ]
  },
  {
   "cell_type": "markdown",
   "metadata": {},
   "source": [
    "<hr>"
   ]
  },
  {
   "cell_type": "markdown",
   "metadata": {},
   "source": [
    "### <font color='red'> QUIZ </font>"
   ]
  },
  {
   "cell_type": "markdown",
   "metadata": {},
   "source": [
    "### <font color='brown'> 이메일에 대한 파싱 </font>\n",
    ">  \n",
    "- E-mail Pattern : ID + @ + URL\n",
    "- 이메일을 추출하여 이메일리스트 파일로 저장"
   ]
  },
  {
   "cell_type": "code",
   "execution_count": null,
   "metadata": {},
   "outputs": [],
   "source": []
  },
  {
   "cell_type": "markdown",
   "metadata": {
    "collapsed": true
   },
   "source": [
    "<hr>\n",
    "<marquee><font size=3 color='brown'>The BigpyCraft find the information to design valuable society with Technology & Craft.</font></marquee>\n",
    "<div align='right'><font size=2 color='gray'> &lt; The End &gt; </font></div>"
   ]
  }
 ],
 "metadata": {
  "kernelspec": {
   "display_name": "Python 3 (ipykernel)",
   "language": "python",
   "name": "python3"
  },
  "language_info": {
   "codemirror_mode": {
    "name": "ipython",
    "version": 3
   },
   "file_extension": ".py",
   "mimetype": "text/x-python",
   "name": "python",
   "nbconvert_exporter": "python",
   "pygments_lexer": "ipython3",
   "version": "3.9.7"
  }
 },
 "nbformat": 4,
 "nbformat_minor": 1
}
