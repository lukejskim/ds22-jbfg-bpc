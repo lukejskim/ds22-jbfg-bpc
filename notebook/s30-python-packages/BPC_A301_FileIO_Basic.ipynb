{
 "cells": [
  {
   "cell_type": "markdown",
   "metadata": {},
   "source": [
    "# Industry 4.0 의 중심, BigData"
   ]
  },
  {
   "cell_type": "markdown",
   "metadata": {},
   "source": [
    "<div align='right'><font size=2 color='gray'>Data Processing Based Python @ <font color='blue'><a href='https://www.facebook.com/jskim.kr'>FB / jskim.kr</a></font>, 김진수</font></div>\n",
    "<hr>"
   ]
  },
  {
   "cell_type": "markdown",
   "metadata": {},
   "source": [
    "## <font color='brown'>파일 입출력, File I/O</font>"
   ]
  },
  {
   "cell_type": "code",
   "execution_count": 1,
   "metadata": {},
   "outputs": [],
   "source": [
    "fp = open('./data/hello.txt', 'r')"
   ]
  },
  {
   "cell_type": "code",
   "execution_count": 2,
   "metadata": {},
   "outputs": [
    {
     "data": {
      "text/plain": [
       "'Hello, Jupyter World!!!'"
      ]
     },
     "execution_count": 2,
     "metadata": {},
     "output_type": "execute_result"
    }
   ],
   "source": [
    "fp.read()"
   ]
  },
  {
   "cell_type": "code",
   "execution_count": 3,
   "metadata": {},
   "outputs": [],
   "source": [
    "fp.close()"
   ]
  },
  {
   "cell_type": "code",
   "execution_count": 4,
   "metadata": {},
   "outputs": [
    {
     "ename": "ValueError",
     "evalue": "I/O operation on closed file.",
     "output_type": "error",
     "traceback": [
      "\u001b[1;31m---------------------------------------------------------------------------\u001b[0m",
      "\u001b[1;31mValueError\u001b[0m                                Traceback (most recent call last)",
      "\u001b[1;32mC:\\Users\\Public\\Documents\\ESTsoft\\CreatorTemp/ipykernel_15664/3668392485.py\u001b[0m in \u001b[0;36m<module>\u001b[1;34m\u001b[0m\n\u001b[1;32m----> 1\u001b[1;33m \u001b[0mfp\u001b[0m\u001b[1;33m.\u001b[0m\u001b[0mread\u001b[0m\u001b[1;33m(\u001b[0m\u001b[1;33m)\u001b[0m\u001b[1;33m\u001b[0m\u001b[1;33m\u001b[0m\u001b[0m\n\u001b[0m",
      "\u001b[1;31mValueError\u001b[0m: I/O operation on closed file."
     ]
    }
   ],
   "source": [
    "fp.read()"
   ]
  },
  {
   "cell_type": "code",
   "execution_count": 5,
   "metadata": {},
   "outputs": [
    {
     "name": "stdout",
     "output_type": "stream",
     "text": [
      "Hello, Jupyter World!!!\n"
     ]
    }
   ],
   "source": [
    "with open('./data/hello.txt', 'r') as fp:\n",
    "    data = fp.read()\n",
    "    print(data)"
   ]
  },
  {
   "cell_type": "code",
   "execution_count": 6,
   "metadata": {},
   "outputs": [
    {
     "data": {
      "text/plain": [
       "'Hello, Jupyter World!!!'"
      ]
     },
     "execution_count": 6,
     "metadata": {},
     "output_type": "execute_result"
    }
   ],
   "source": [
    "data"
   ]
  },
  {
   "cell_type": "code",
   "execution_count": 7,
   "metadata": {},
   "outputs": [],
   "source": [
    "with open('./data/subject.txt', 'w') as fp:\n",
    "    data = '파이썬을 이용한 빅데이터 분석!!'\n",
    "    fp.write(data)"
   ]
  },
  {
   "cell_type": "code",
   "execution_count": 8,
   "metadata": {},
   "outputs": [
    {
     "name": "stdout",
     "output_type": "stream",
     "text": [
      "파이썬을 이용한 빅데이터 분석!!\n"
     ]
    }
   ],
   "source": [
    "with open('./data/subject.txt', 'r') as fp:\n",
    "    data = fp.read()\n",
    "    print(data)"
   ]
  },
  {
   "cell_type": "raw",
   "metadata": {},
   "source": [
    "<!--\n",
    "# students.csv\n",
    "김태희,서울대,thkim@gmail.com\n",
    "신민아,성균관대,sma@gmial.com\n",
    "전지현,중앙대,jhjeon@gmail.com\n",
    "이영애,숭실대,janggumi@gamil.com\n",
    "//-->"
   ]
  },
  {
   "cell_type": "markdown",
   "metadata": {},
   "source": [
    "> <font color='blue'>FileName : students.csv</font>\n",
    "- 김태희,서울대,thkim@gmail.com\n",
    "- 신민아,성균관대,sma@gmial.com\n",
    "- 전지현,중앙대,jhjeon@gmail.com\n",
    "- 이영애,숭실대,janggumi@gamil.com"
   ]
  },
  {
   "cell_type": "code",
   "execution_count": 9,
   "metadata": {},
   "outputs": [],
   "source": [
    "def read_csv(filepath):\n",
    "    \n",
    "    fp = open(filepath, 'r', encoding='utf-8')\n",
    "    data = fp.read()\n",
    "    fp.close()\n",
    "    \n",
    "    # return dataL\n",
    "    elements = []\n",
    "    \n",
    "    rows = data.split(\"\\n\")\n",
    "    # print(rows)\n",
    "    for row in rows:        \n",
    "        \n",
    "        fields = row.split(\",\")\n",
    "        # print(fields)\n",
    "        \n",
    "        element = {   \n",
    "            \"name\"   : fields[0],\n",
    "            \"school\" : fields[1],\n",
    "            \"email\"  : fields[2],\n",
    "        }\n",
    "        elements.append(element)\n",
    "    return elements"
   ]
  },
  {
   "cell_type": "code",
   "execution_count": 10,
   "metadata": {},
   "outputs": [
    {
     "data": {
      "text/plain": [
       "[{'name': '김태희', 'school': '서울대', 'email': 'thkim@gmail.com'},\n",
       " {'name': '신민아', 'school': '성균관대', 'email': 'sma@gmial.com'},\n",
       " {'name': '전지현', 'school': '중앙대', 'email': 'jhjeon@gmail.com'},\n",
       " {'name': '이영애', 'school': '숭실대', 'email': 'janggumi@gamil.com'}]"
      ]
     },
     "execution_count": 10,
     "metadata": {},
     "output_type": "execute_result"
    }
   ],
   "source": [
    "filepath = 'data/students.csv'\n",
    "read_csv(filepath)"
   ]
  },
  {
   "cell_type": "raw",
   "metadata": {},
   "source": [
    "<!--\n",
    "# company.csv\n",
    "랭킹, 회사이름, 영문명, 창업자\n",
    "1, 애플, Apple, 스티브잡스\n",
    "2, 구글, Google, 세르게이브린 & 레리페이지\n",
    "3, 마이크로소프트, Microsoft, 빌게이츠 & 폴앨런\n",
    "4, 페이스북, Facebook, 마크쥬크버그\n",
    "5, 에어비엔비, Airbnb, 브라이언체크키 & 조게비어\n",
    "//-->"
   ]
  },
  {
   "cell_type": "markdown",
   "metadata": {},
   "source": [
    "> <font color='blue'>FileName : company.csv</font>\n",
    "<br>\n",
    "<br> 랭킹, 회사이름, 영문명, 창업자\n",
    "<br> 1, 애플, Apple, 스티브잡스\n",
    "<br> 2, 구글, Google, 세르게이브린 & 레리페이지\n",
    "<br> 3, 마이크로소프트, Microsoft, 빌게이츠 & 폴앨런\n",
    "<br> 4, 페이스북, Facebook, 마크쥬크버그\n",
    "<br> 5, 에어비엔비, Airbnb, 브라이언체크키 & 조게비어"
   ]
  },
  {
   "cell_type": "raw",
   "metadata": {
    "collapsed": true
   },
   "source": [
    "<!--\n",
    "# 어떤 헤더가 있는 CSV 파일이든지 읽을 수 있는 함수\n",
    "# \",\" 말고 다른 어떤 seperator 가 들어가더라도, \n",
    "# CSV 읽을 수 있는 함수\n",
    "# \"\\t\", \"::\", \"|\" 이 모든 sep 에 대한 함수!\n",
    "\n",
    "def read_csv(filepath):         \n",
    "    \n",
    "    pass\n",
    "\n",
    " -->"
   ]
  },
  {
   "cell_type": "code",
   "execution_count": 11,
   "metadata": {},
   "outputs": [],
   "source": [
    "def read_csv(filename):\n",
    "\n",
    "    fp = open(filename, \"r\", encoding=\"utf-8\")\n",
    "    data = fp.read()\n",
    "    fp.close()\n",
    "\n",
    "    elements = []\n",
    "\n",
    "    rows = data.split(\"\\n\")\n",
    "    # print(rows)\n",
    "\n",
    "    keys = rows[0].split(\",\")                         # 첫번째줄을 콤마로 구분하여 리스트에 담기. 컬럼명이 키값으로 사용하기 위함\n",
    "    keys = [ key.replace(\" \", \"\") for key in keys ]   # 리스트에 담긴 컬럼값들의 빈칸을 공백으로 바꾼다\n",
    "    print(\"kyes = \", keys)\n",
    "    for row in rows[1:]:                   # 2번째줄부터가 데이터이므로\n",
    "        fields = row.split(\",\")\n",
    "        # print(fields)\n",
    "\n",
    "        if len(keys) != len(fields):\n",
    "            continue\n",
    "\n",
    "        element = {}\n",
    "        for idx in range(len(keys)):\n",
    "            key = keys[idx]\n",
    "            field = fields[idx].strip()\n",
    "            element[key] = field\n",
    "\n",
    "        elements.append(element)\n",
    "\n",
    "    return elements\n"
   ]
  },
  {
   "cell_type": "code",
   "execution_count": 12,
   "metadata": {},
   "outputs": [
    {
     "name": "stdout",
     "output_type": "stream",
     "text": [
      "kyes =  ['랭킹', '회사이름', '영문명', '창업자']\n"
     ]
    },
    {
     "data": {
      "text/plain": [
       "[{'랭킹': '1', '회사이름': '애플', '영문명': 'Apple', '창업자': '스티브잡스'},\n",
       " {'랭킹': '2', '회사이름': '구글', '영문명': 'Google', '창업자': '세르게이브린 & 레리페이지'},\n",
       " {'랭킹': '3', '회사이름': '마이크로소프트', '영문명': 'Microsoft', '창업자': '빌게이츠 & 폴앨런'},\n",
       " {'랭킹': '4', '회사이름': '페이스북', '영문명': 'Facebook', '창업자': '마크쥬크버그'},\n",
       " {'랭킹': '5', '회사이름': '에어비엔비', '영문명': 'Airbnb', '창업자': '브라이언체크키 & 조게비어'}]"
      ]
     },
     "execution_count": 12,
     "metadata": {},
     "output_type": "execute_result"
    }
   ],
   "source": [
    "filepath = 'data/company.csv'\n",
    "read_csv(filepath)"
   ]
  },
  {
   "cell_type": "code",
   "execution_count": 13,
   "metadata": {},
   "outputs": [
    {
     "name": "stdout",
     "output_type": "stream",
     "text": [
      "kyes =  ['회사명', '설립일', '대표이사', '업종', '대표전화', '회사소개']\n"
     ]
    },
    {
     "data": {
      "text/plain": [
       "[{'회사명': '전북은행',\n",
       "  '설립일': '1969.12.10',\n",
       "  '대표이사': '서한국',\n",
       "  '업종': '은행업',\n",
       "  '대표전화': '1588-4477',\n",
       "  '회사소개': '누구에게나 따뜻한 금융'},\n",
       " {'회사명': '광주은행',\n",
       "  '설립일': '1968.11.20',\n",
       "  '대표이사': '송종욱',\n",
       "  '업종': '은행업',\n",
       "  '대표전화': '1588-3388',\n",
       "  '회사소개': '광주&전남 대표은행'},\n",
       " {'회사명': 'JB우리캐피탈',\n",
       "  '설립일': '1995.12.07',\n",
       "  '대표이사': '박춘원',\n",
       "  '업종': '할부금융업',\n",
       "  '대표전화': '1688-2300',\n",
       "  '회사소개': '21C 초우량 여신전문 금융회사'},\n",
       " {'회사명': 'JB자산운용',\n",
       "  '설립일': '2008.07.14',\n",
       "  '대표이사': '최원철',\n",
       "  '업종': '자산운용회사',\n",
       "  '대표전화': '02-3782-5000',\n",
       "  '회사소개': '국내 해외자원 펀드 업계1위'},\n",
       " {'회사명': 'PPCBank',\n",
       "  '설립일': '2008.09.01',\n",
       "  '대표이사': '백종일',\n",
       "  '업종': '은행업',\n",
       "  '대표전화': '-',\n",
       "  '회사소개': '동남아시아의 선두 은행'},\n",
       " {'회사명': 'JB Capital Myanmar',\n",
       "  '설립일': '2016.09.21',\n",
       "  '대표이사': '윤방환',\n",
       "  '업종': '소액대출업',\n",
       "  '대표전화': '-',\n",
       "  '회사소개': '미얀마 현지 국민들에게 사랑받는 리딩 소액대출회사'},\n",
       " {'회사명': 'JB Securities Vietnam',\n",
       "  '설립일': '2006.12.29',\n",
       "  '대표이사': '김두윤',\n",
       "  '업종': '증권사',\n",
       "  '대표전화': '+84-24-3942-9775',\n",
       "  '회사소개': '아시아 최고 수준의 증권 서비스 제공'}]"
      ]
     },
     "execution_count": 13,
     "metadata": {},
     "output_type": "execute_result"
    }
   ],
   "source": [
    "filename = \"./data/JB_Finance_Group.csv\"\n",
    "all_data = read_csv(filename)\n",
    "all_data"
   ]
  },
  {
   "cell_type": "markdown",
   "metadata": {},
   "source": [
    "<hr>\n",
    "<marquee><font size=3 color='brown'>The BigpyCraft find the information to design valuable society with Technology & Craft.</font></marquee>\n",
    "<div align='right'><font size=2 color='gray'> &lt; The End &gt; </font></div>"
   ]
  }
 ],
 "metadata": {
  "kernelspec": {
   "display_name": "Python 3 (ipykernel)",
   "language": "python",
   "name": "python3"
  },
  "language_info": {
   "codemirror_mode": {
    "name": "ipython",
    "version": 3
   },
   "file_extension": ".py",
   "mimetype": "text/x-python",
   "name": "python",
   "nbconvert_exporter": "python",
   "pygments_lexer": "ipython3",
   "version": "3.9.7"
  }
 },
 "nbformat": 4,
 "nbformat_minor": 2
}
