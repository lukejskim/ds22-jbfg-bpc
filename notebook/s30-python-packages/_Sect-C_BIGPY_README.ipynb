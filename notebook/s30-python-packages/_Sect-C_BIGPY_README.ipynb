{
 "cells": [
  {
   "cell_type": "markdown",
   "metadata": {
    "collapsed": true
   },
   "source": [
    "# BigData Science Practical Training Course"
   ]
  },
  {
   "cell_type": "markdown",
   "metadata": {
    "collapsed": true
   },
   "source": [
    "<div align='right'><font size=2 color='gray'>Python For BigData @ <font color='blue'><a href='https://www.facebook.com/jskim.kr'>FB / jskim.kr</a></font>, [김진수](bigpycraft@gmail.com)</font></div>\n",
    "<hr>"
   ]
  },
  {
   "cell_type": "markdown",
   "metadata": {},
   "source": [
    "## SBA 2019, Seoul Business Agency Innovation Growth Intensive Training"
   ]
  },
  {
   "cell_type": "markdown",
   "metadata": {},
   "source": [
    "<img src=\"../images/img_main_front.png\">"
   ]
  },
  {
   "cell_type": "markdown",
   "metadata": {},
   "source": [
    "## Innovation Growth Intensive Training\n",
    "- Python Programming Basics\n",
    "- <b>Python Packages and Modules</b>\n",
    "- Data Processing and Analysis\n",
    "- Web Cralwling\n",
    "- Natural Language Processing\n",
    "- Machine Learning\n",
    "- Deep Learning\n",
    "\n",
    "<hr>"
   ]
  },
  {
   "cell_type": "markdown",
   "metadata": {},
   "source": [
    "## Python Packages and Modules"
   ]
  },
  {
   "cell_type": "markdown",
   "metadata": {},
   "source": [
    "- 2-1. [FileIO Basic           ][A2010]\n",
    "- 2-2. [FileIO OS-CMD          ][A2020]\n",
    "- 2-3. [Module1                ][A2030]\n",
    "- 2-4. [Module2                ][A2040]\n",
    "<br/><br/>\n",
    "- 2-5. [DateTIme1              ][A2051]\n",
    "- 2-6. [Map, Filter, Reduce    ][A2101]\n",
    "- 2-6. [MFR Quiz               ][A2113]\n",
    "<br/><br/>\n",
    "- 2-7. [JSON Handle            ][A2200]\n",
    "- 2-8. [Regular Expression     ][A2300]\n",
    "<br/><br/>\n",
    "- <font color='#CC0000'> [실습문제] 파이썬프로그래밍 실습3 </font> ─────▶ [[클릭]][p-ex3]\n",
    "- <font color='#CC0000'> [실습문제] 파이썬프로그래밍 실습4 </font> ─────▶ [[클릭]][p-ex4]\n",
    "<br/><br/>\n",
    "- 3-1. [NumPy1                 ][B3100]\n",
    "- 3-2. [NumPy2                 ][B3120]\n",
    "<br/><br/>\n",
    "- 4-1. [Pandas1                ][B3200]\n",
    "- 4-2. [Pandas2                ][B3220]\n",
    "- 4-3. [Pandas3                ][B3230]\n",
    "- 4-4. [Pandas4                ][B3240]\n",
    "<br/><br/>\n",
    "- 5-1. [MatplotLib.Pyplot      ][B3300]\n",
    "- <font color='#CC0000'> [실습문제] 영화 평점 시각화 실습</font> ─────▶ [[클릭]][B3301]\n",
    "<br/><br/>\n",
    "- 5-2. [Basic Chart            ][B3310]\n",
    "- 5-3. [Color & Style          ][B3320]\n",
    "- 5-4. [Annotation             ][B3330]\n",
    "- 5-5. [Seabron                ][B3340]\n",
    "\n",
    "\n",
    "[A2010]:  https://htmlpreview.github.io/?https://github.com/bigpycraft/sba19-seoulit/blob/master/notebook/html/BPC_A201_FileIO_Basic.html             \"Go A2010\"\n",
    "[A2020]:  https://htmlpreview.github.io/?https://github.com/bigpycraft/sba19-seoulit/blob/master/notebook/html/BPC_A202_FileIO_OS-CMD.html            \"Go A2020\"\n",
    "[A2030]:  https://htmlpreview.github.io/?https://github.com/bigpycraft/sba19-seoulit/blob/master/notebook/html/BPC_A203_Module_ver1.html              \"Go A2030\"\n",
    "[A2040]:  https://htmlpreview.github.io/?https://github.com/bigpycraft/sba19-seoulit/blob/master/notebook/html/BPC_A204_Module_ver2.html              \"Go A2040\"\n",
    "[A2051]:  https://htmlpreview.github.io/?https://github.com/bigpycraft/sba19-seoulit/blob/master/notebook/html/BPC_A205_DateTIme_ver1.html            \"Go A2051\"\n",
    "[A2052]:  https://htmlpreview.github.io/?https://github.com/bigpycraft/sba19-seoulit/blob/master/notebook/html/BPC_A205_DateTIme_ver2.html            \"Go A2052\"\n",
    "[A2101]:  https://htmlpreview.github.io/?https://github.com/bigpycraft/sba19-seoulit/blob/master/notebook/html/BPC_A210_MFR.html                      \"Go A2101\"\n",
    "[A2112]:  https://htmlpreview.github.io/?https://github.com/bigpycraft/sba19-seoulit/blob/master/notebook/html/BPC_A211_MFR_ver2.html                 \"Go A2112\"\n",
    "[A2113]:  https://htmlpreview.github.io/?https://github.com/bigpycraft/sba19-seoulit/blob/master/notebook/html/BPC_A211_MFR_ver3.html                 \"Go A2113\"\n",
    "[A2200]:  https://htmlpreview.github.io/?https://github.com/bigpycraft/sba19-seoulit/blob/master/notebook/html/BPC_A220_JSON.html                     \"Go A2200\"\n",
    "[A2300]:  https://htmlpreview.github.io/?https://github.com/bigpycraft/sba19-seoulit/blob/master/notebook/html/BPC_A230_RegEx.html                    \"Go A2300\"\n",
    "\n",
    "[B3100]:  https://htmlpreview.github.io/?https://github.com/bigpycraft/sba19-seoulit/blob/master/notebook/html/BPC_B310_NumPy.html                    \"Go A3100\"\n",
    "[B3110]:  https://htmlpreview.github.io/?https://github.com/bigpycraft/sba19-seoulit/blob/master/notebook/html/BPC_B311_NumPy.html                    \"Go A3110\"\n",
    "[B3120]:  https://htmlpreview.github.io/?https://github.com/bigpycraft/sba19-seoulit/blob/master/notebook/html/BPC_B312_NumPy.html                    \"Go A3120\"\n",
    "[B3130]:  https://htmlpreview.github.io/?https://github.com/bigpycraft/sba19-seoulit/blob/master/notebook/html/BPC_B313_NumPy.html                    \"Go A3130\"\n",
    "[B3200]:  https://htmlpreview.github.io/?https://github.com/bigpycraft/sba19-seoulit/blob/master/notebook/html/BPC_B320_Pandas.html                   \"Go A3200\"\n",
    "[B3210]:  https://htmlpreview.github.io/?https://github.com/bigpycraft/sba19-seoulit/blob/master/notebook/html/BPC_B321_Pandas.html                   \"Go A3210\"\n",
    "[B3220]:  https://htmlpreview.github.io/?https://github.com/bigpycraft/sba19-seoulit/blob/master/notebook/html/BPC_B322_Pandas.html                   \"Go A3220\"\n",
    "[B3230]:  https://htmlpreview.github.io/?https://github.com/bigpycraft/sba19-seoulit/blob/master/notebook/html/BPC_B323_Pandas.html                   \"Go A3230\"\n",
    "[B3240]:  https://htmlpreview.github.io/?https://github.com/bigpycraft/sba19-seoulit/blob/master/notebook/html/BPC_B324_Pandas.html                   \"Go A3240\"\n",
    "[B3250]:  https://htmlpreview.github.io/?https://github.com/bigpycraft/sba19-seoulit/blob/master/notebook/html/BPC_B325_Pandas.html                   \"Go A3250\"\n",
    "[B3260]:  https://htmlpreview.github.io/?https://github.com/bigpycraft/sba19-seoulit/blob/master/notebook/html/BPC_B326_Pandas.html                   \"Go A3260\"\n",
    "[B3300]:  https://htmlpreview.github.io/?https://github.com/bigpycraft/sba19-seoulit/blob/master/notebook/html/BPC_B330_Matplotlib.html               \"Go A3300\"\n",
    "[B3310]:  https://htmlpreview.github.io/?https://github.com/bigpycraft/sba19-seoulit/blob/master/notebook/html/BPC_B331_Matplotlib_Basic_Chart.html   \"Go A3310\"\n",
    "[B3320]:  https://htmlpreview.github.io/?https://github.com/bigpycraft/sba19-seoulit/blob/master/notebook/html/BPC_B332_Matplotlib_Color_Style.html   \"Go A3320\"\n",
    "[B3330]:  https://htmlpreview.github.io/?https://github.com/bigpycraft/sba19-seoulit/blob/master/notebook/html/BPC_B333_Matplotlib_Annotattion.html   \"Go A3330\"\n",
    "[B3340]:  https://htmlpreview.github.io/?https://github.com/bigpycraft/sba19-seoulit/blob/master/notebook/html/BPC_B334_Matplotlib_Seaborn.html       \"Go A3340\"\n",
    "[B3301]:  https://htmlpreview.github.io/?https://github.com/bigpycraft/sba19-seoulit/blob/master/notebook/html/BPC_B335_Matplotlib_Quiz_mission.html  \"Go B3301\"\n",
    "\n",
    "[p-ex1]: ../practice/P01_파이썬프로그래밍_실습.pdf                     \"Go Practice-ex1\"\n",
    "[p-ex2]: ../practice/P02_파이썬프로그래밍_실습.pdf                     \"Go Practice-ex2\"\n",
    "[p-ex3]: ../practice/P03_파이썬프로그래밍_실습.pdf                     \"Go Practice-ex3\"\n",
    "[p-ex4]: ../practice/P04_파이썬프로그래밍_실습.pdf                     \"Go Practice-ex4\"\n",
    "\n"
   ]
  },
  {
   "cell_type": "markdown",
   "metadata": {},
   "source": [
    "<hr>\n",
    "<marquee><font size=3 color='brown'>The BigpyCraft find the information to design valuable society with Technology & Craft.</font></marquee>\n",
    "<div align='right'><font size=2 color='gray'> &lt; The End &gt; </font></div>"
   ]
  }
 ],
 "metadata": {
  "kernelspec": {
   "display_name": "Python 3",
   "language": "python",
   "name": "python3"
  },
  "language_info": {
   "codemirror_mode": {
    "name": "ipython",
    "version": 3
   },
   "file_extension": ".py",
   "mimetype": "text/x-python",
   "name": "python",
   "nbconvert_exporter": "python",
   "pygments_lexer": "ipython3",
   "version": "3.7.1"
  }
 },
 "nbformat": 4,
 "nbformat_minor": 2
}
