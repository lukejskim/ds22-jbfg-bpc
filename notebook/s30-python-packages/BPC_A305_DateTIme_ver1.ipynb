{
 "cells": [
  {
   "cell_type": "markdown",
   "metadata": {},
   "source": [
    "# Industry 4.0 의 중심, BigData"
   ]
  },
  {
   "cell_type": "markdown",
   "metadata": {
    "collapsed": true
   },
   "source": [
    "<div align='right'><font size=2 color='gray'>Data Processing Based Python @ <font color='blue'><a href='https://www.facebook.com/jskim.kr'>FB / jskim.kr</a></font>, 김진수</font></div>\n",
    "<hr>"
   ]
  },
  {
   "cell_type": "markdown",
   "metadata": {},
   "source": [
    "# <font color='brown'>Date, Time </font> \n"
   ]
  },
  {
   "cell_type": "markdown",
   "metadata": {},
   "source": [
    "### <font color='blue'>시간 정보</font>"
   ]
  },
  {
   "cell_type": "code",
   "execution_count": 1,
   "metadata": {},
   "outputs": [],
   "source": [
    "# 현재 시간을 년-월-일 시:분:초로 출력하기(localtime, strftime)\n",
    "from time import localtime, strftime\n",
    "\n",
    "def writelog(logfile, log):\n",
    "    time_stamp = strftime('%Y-%m-%d %X\\t', localtime())\n",
    "    log = time_stamp + log + '\\n'\n",
    "\n",
    "    with open(logfile, 'a') as f:\n",
    "        f.writelines(log)\n",
    "\n",
    "logfile = 'test.log'\n",
    "# ! rm $logfile\n",
    "! del test.log \n",
    "\n",
    "writelog(logfile, '첫번째 로깅 문장입니다.')\n"
   ]
  },
  {
   "cell_type": "code",
   "execution_count": 2,
   "metadata": {},
   "outputs": [
    {
     "name": "stdout",
     "output_type": "stream",
     "text": [
      "2019-08-22 00:00:16\t첫번째 로깅 문장입니다.\n"
     ]
    }
   ],
   "source": [
    "# ! cat $logfile\n",
    "! type test.log"
   ]
  },
  {
   "cell_type": "code",
   "execution_count": 3,
   "metadata": {},
   "outputs": [
    {
     "name": "stdout",
     "output_type": "stream",
     "text": [
      "time.struct_time(tm_year=2019, tm_mon=8, tm_mday=22, tm_hour=0, tm_min=0, tm_sec=16, tm_wday=3, tm_yday=234, tm_isdst=0)\n",
      "오늘은 [2019-01-01]이후 [234]일째 되는 날입니다.\n"
     ]
    }
   ],
   "source": [
    "# 올해 경과된 날짜수 계산하기(localtime)\n",
    "from time import localtime\n",
    "\n",
    "t = localtime()\n",
    "print(t)\n",
    "\n",
    "start_day = '%d-01-01' % (t.tm_year)\n",
    "elapsed_day = t.tm_yday\n",
    "\n",
    "print('오늘은 [%s]이후 [%d]일째 되는 날입니다.' %(start_day, elapsed_day))\n"
   ]
  },
  {
   "cell_type": "code",
   "execution_count": 4,
   "metadata": {},
   "outputs": [
    {
     "data": {
      "text/plain": [
       "'2019-8-22'"
      ]
     },
     "execution_count": 4,
     "metadata": {},
     "output_type": "execute_result"
    }
   ],
   "source": [
    "today = '{yy}-{mm}-{dd}'.format(\n",
    "    yy = t.tm_year,\n",
    "    mm = t.tm_mon,\n",
    "    dd = t.tm_mday,\n",
    ")\n",
    "today"
   ]
  },
  {
   "cell_type": "code",
   "execution_count": 5,
   "metadata": {},
   "outputs": [
    {
     "data": {
      "text/plain": [
       "'2019-8-22'"
      ]
     },
     "execution_count": 5,
     "metadata": {},
     "output_type": "execute_result"
    }
   ],
   "source": [
    "today = '{yy}-{mm}-{dd}'.format(\n",
    "    yy = t.tm_year,\n",
    "    mm = t.tm_mon,\n",
    "    dd = t.tm_mday,\n",
    ")\n",
    "today"
   ]
  },
  {
   "cell_type": "code",
   "execution_count": 6,
   "metadata": {},
   "outputs": [
    {
     "data": {
      "text/plain": [
       "'2002-3-2'"
      ]
     },
     "execution_count": 6,
     "metadata": {},
     "output_type": "execute_result"
    }
   ],
   "source": [
    "mem_day = '{yy}-{mm}-{dd}'.format(\n",
    "    yy = 2002,\n",
    "    mm = 3,\n",
    "    dd = 2\n",
    ")\n",
    "mem_day"
   ]
  },
  {
   "cell_type": "code",
   "execution_count": 7,
   "metadata": {},
   "outputs": [
    {
     "data": {
      "text/plain": [
       "time.struct_time"
      ]
     },
     "execution_count": 7,
     "metadata": {},
     "output_type": "execute_result"
    }
   ],
   "source": [
    "type(t)"
   ]
  },
  {
   "cell_type": "code",
   "execution_count": 8,
   "metadata": {},
   "outputs": [
    {
     "name": "stdout",
     "output_type": "stream",
     "text": [
      "[2019-8-22] 오늘은 [목요일]입니다.\n"
     ]
    }
   ],
   "source": [
    "# 오늘의 요일 계산하기(localtime)\n",
    "from time import localtime\n",
    "\n",
    "weekdays = ['월요일', '화요일', '수요일', '목요일', '금요일', '토요일', '일요일']\n",
    "\n",
    "t = localtime()\n",
    "today = '%d-%d-%d' %(t.tm_year, t.tm_mon, t.tm_mday)\n",
    "week = weekdays[t.tm_wday]\n",
    "\n",
    "print('[%s] 오늘은 [%s]입니다.' %(today, week))\n"
   ]
  },
  {
   "cell_type": "code",
   "execution_count": 9,
   "metadata": {},
   "outputs": [
    {
     "name": "stdout",
     "output_type": "stream",
     "text": [
      "1에서 백만까지 더합니다.\n",
      "1에서 백만까지 더한 결과: 499999500000\n",
      "총 계산 시간: 0:00:00.165611\n",
      "총 계산 시간: 165ms\n"
     ]
    }
   ],
   "source": [
    "# 프로그램 실행 시간 계산하기(datetimenow)\n",
    "from datetime import datetime, timedelta\n",
    "\n",
    "start = datetime.now()\n",
    "print('1에서 백만까지 더합니다.')\n",
    "\n",
    "ret = 0\n",
    "for i in range(1000000):\n",
    "    ret += i\n",
    "\n",
    "print('1에서 백만까지 더한 결과: %d' %ret)\n",
    "end = datetime.now()\n",
    "\n",
    "elapsed = end - start\n",
    "print('총 계산 시간: ', end='');   print(elapsed)\n",
    "elapsed_ms = int(elapsed.total_seconds()*1000)\n",
    "print('총 계산 시간: %dms' %elapsed_ms)\n"
   ]
  },
  {
   "cell_type": "code",
   "execution_count": 10,
   "metadata": {},
   "outputs": [
    {
     "data": {
      "text/plain": [
       "datetime.datetime"
      ]
     },
     "execution_count": 10,
     "metadata": {},
     "output_type": "execute_result"
    }
   ],
   "source": [
    "type(start)"
   ]
  },
  {
   "cell_type": "markdown",
   "metadata": {},
   "source": [
    "```python\n",
    "# datetime.datetime\n",
    "datetime(year, month, day[, hour[, minute[, second[, microsecond[,tzinfo]]]]])\n",
    "```"
   ]
  },
  {
   "cell_type": "code",
   "execution_count": 11,
   "metadata": {},
   "outputs": [
    {
     "name": "stdout",
     "output_type": "stream",
     "text": [
      "2019-08-22 00:00:17.164404\n",
      "2019-08-22\n",
      "00:00:17\n",
      "2019-08-22 00:00:17\n"
     ]
    }
   ],
   "source": [
    "from datetime import datetime\n",
    " \n",
    "now = datetime.now()\n",
    "print(now)          # yyyy-MM-dd hh:mm:ss\n",
    " \n",
    "nowDate = now.strftime('%Y-%m-%d')\n",
    "print(nowDate)      # yyyy-MM-dd \n",
    " \n",
    "nowTime = now.strftime('%H:%M:%S')\n",
    "print(nowTime)      # 1hh:mm:ss\n",
    " \n",
    "nowDatetime = now.strftime('%Y-%m-%d %H:%M:%S')\n",
    "print(nowDatetime)  # yyyy-MM-dd hh:mm:ss"
   ]
  },
  {
   "cell_type": "code",
   "execution_count": 12,
   "metadata": {},
   "outputs": [
    {
     "data": {
      "text/plain": [
       "datetime.datetime"
      ]
     },
     "execution_count": 12,
     "metadata": {},
     "output_type": "execute_result"
    }
   ],
   "source": [
    "type(now)"
   ]
  },
  {
   "cell_type": "code",
   "execution_count": 13,
   "metadata": {},
   "outputs": [
    {
     "data": {
      "text/plain": [
       "datetime.datetime(2002, 3, 2, 0, 0)"
      ]
     },
     "execution_count": 13,
     "metadata": {},
     "output_type": "execute_result"
    }
   ],
   "source": [
    "m_day = datetime(2002, 3, 2)\n",
    "# m_day = m_day.strftime('%Y-%m-%d')\n",
    "m_day"
   ]
  },
  {
   "cell_type": "code",
   "execution_count": 14,
   "metadata": {},
   "outputs": [
    {
     "data": {
      "text/plain": [
       "datetime.datetime(2019, 8, 22, 0, 0, 17, 203430)"
      ]
     },
     "execution_count": 14,
     "metadata": {},
     "output_type": "execute_result"
    }
   ],
   "source": [
    "today = datetime.now()\n",
    "today"
   ]
  },
  {
   "cell_type": "code",
   "execution_count": 15,
   "metadata": {},
   "outputs": [
    {
     "data": {
      "text/plain": [
       "datetime.timedelta(days=6382, seconds=17, microseconds=203430)"
      ]
     },
     "execution_count": 15,
     "metadata": {},
     "output_type": "execute_result"
    }
   ],
   "source": [
    "elapsed = today - m_day\n",
    "elapsed"
   ]
  },
  {
   "cell_type": "markdown",
   "metadata": {},
   "source": [
    "``` python\n",
    "# timedelta에 들어갈 수 있는 인자값은 아래와 같다.\n",
    "----------------------------------------------------------\n",
    "– 1주   : datetime.timedelta(weeks=1)\n",
    "– 1일   : datetime.timedelta(days=1)\n",
    "– 1시간 : datetime.timedelta(hours=1)\n",
    "– 1분   : datetime.timedelta(minutes=1)\n",
    "– 1초   : datetime.timedelta(seconds=1)\n",
    "– 1밀리초 : datetime.timedelta(milliseconds=1)\n",
    "– 1마이크로초 : datetime.timedelta(microseconds=1)\n",
    "```"
   ]
  },
  {
   "cell_type": "code",
   "execution_count": 16,
   "metadata": {},
   "outputs": [
    {
     "data": {
      "text/plain": [
       "(6382, 17, 203430)"
      ]
     },
     "execution_count": 16,
     "metadata": {},
     "output_type": "execute_result"
    }
   ],
   "source": [
    "elapsed.days, elapsed.seconds, elapsed.microseconds"
   ]
  },
  {
   "cell_type": "code",
   "execution_count": 17,
   "metadata": {},
   "outputs": [
    {
     "data": {
      "text/plain": [
       "'러블리~ 우리 함께한지 벌써 6382일이나 지났고, 월수는 212개월, 년수는 17년이 지났네~!!'"
      ]
     },
     "execution_count": 17,
     "metadata": {},
     "output_type": "execute_result"
    }
   ],
   "source": [
    "elapsed_day   = elapsed.days\n",
    "elapsed_month = elapsed_day / 30\n",
    "elapsed_year  = elapsed_day / 365\n",
    "\n",
    "'러블리~ 우리 함께한지 벌써 {e_dd}일이나 지났고, 월수는 {e_mm}개월, 년수는 {e_yy}년이 지났네~!!'.format(\n",
    "    e_dd = elapsed_day,\n",
    "    e_mm = int(elapsed_month),\n",
    "    e_yy = int(elapsed_year)\n",
    ")"
   ]
  },
  {
   "cell_type": "markdown",
   "metadata": {},
   "source": [
    "### <font color='blue'>미션, 기념일 계산</font>\n",
    ">  getMemorialDay(year, month, day, mem_day)\n",
    "- 특정기념일로 부터 얼마나 경과되었는지 알려주는 함수를 만드시오.\n",
    "- 경과일자가 1000일이 넘는경우, 천단위로 (,)를 붙혀서 출력해보기\n",
    "- 1234일 -> 1,234일"
   ]
  },
  {
   "cell_type": "code",
   "execution_count": 18,
   "metadata": {},
   "outputs": [],
   "source": [
    "from datetime import datetime\n",
    "\n",
    "def getMemorialDay(year, month, day, mem_day='기념일', is_msg=True):\n",
    "    \n",
    "    pass\n",
    "\n"
   ]
  },
  {
   "cell_type": "markdown",
   "metadata": {
    "collapsed": true
   },
   "source": [
    "```python\n",
    "pass\n",
    "```\n",
    "<!--\n",
    "from datetime import datetime\n",
    "\n",
    "def getMemorialDay(year, month, day, mem_day='기념일', is_msg=True):\n",
    "    m_day = datetime(year, month, day)\n",
    "    today = datetime.now()\n",
    "    elapsed = today - m_day\n",
    "\n",
    "    elapsed_day   = elapsed.days\n",
    "    elapsed_month = int(elapsed_day / 30)\n",
    "    elapsed_year  = int(elapsed_day /365)\n",
    "    \n",
    "    # print('check: ', type(elapsed_day), elapsed_day, getCommaSeperatedNumber(elapsed_day)) \n",
    "\n",
    "    msg = '오늘은 \"{mday}\"로부터 {e_dd}일 경과되었고, 달 수로는 {e_mm}개월째, 연 수로는 {e_yy}년째 되었습니다!!'.format(\n",
    "        mday = mem_day,\n",
    "        e_dd = getCSN(elapsed_day),\n",
    "        # e_dd = elapsed_day,\n",
    "        e_mm = elapsed_month,\n",
    "        e_yy = elapsed_year\n",
    "    )\n",
    "    if is_msg: print(msg)\n",
    "        \n",
    "    return elapsed_year, elapsed_month, elapsed_day\n",
    "\n",
    "\n",
    "def getCSN(num):\n",
    "    return getCommaSeperatedNumber(num)\n",
    "\n",
    "def getCommaSeperatedNumber(num):\n",
    "    num = str(num)\n",
    "    if num.isdigit():\n",
    "        num = num[::-1]\n",
    "        ret = ''\n",
    "        for i, c in enumerate(num):\n",
    "            i += 1\n",
    "            if i != len(num) and i%3 == 0:\n",
    "                ret += (c + ',')\n",
    "            else:\n",
    "                ret += c\n",
    "        ret = ret[::-1]\n",
    "        # print(ret)\n",
    "    else:\n",
    "        # print('입력한 내용 [%s]: 숫자가 아닙니다.' %num)\n",
    "        ret = None\n",
    "\n",
    "    return ret\n",
    "-->"
   ]
  },
  {
   "cell_type": "code",
   "execution_count": 20,
   "metadata": {},
   "outputs": [
    {
     "name": "stdout",
     "output_type": "stream",
     "text": [
      "오늘은 \"밀레니엄일\"로부터 7,173일 경과되었고, 달 수로는 239개월째, 연 수로는 19년째 되었습니다!!\n"
     ]
    },
    {
     "data": {
      "text/plain": [
       "(19, 239, 7173)"
      ]
     },
     "execution_count": 20,
     "metadata": {},
     "output_type": "execute_result"
    }
   ],
   "source": [
    "getMemorialDay(2000,1,1, '밀레니엄일')"
   ]
  },
  {
   "cell_type": "code",
   "execution_count": 21,
   "metadata": {},
   "outputs": [
    {
     "name": "stdout",
     "output_type": "stream",
     "text": [
      "오늘은 \"세월호침몰사고일\"로부터 1,954일 경과되었고, 달 수로는 65개월째, 연 수로는 5년째 되었습니다!!\n"
     ]
    },
    {
     "data": {
      "text/plain": [
       "(5, 65, 1954)"
      ]
     },
     "execution_count": 21,
     "metadata": {},
     "output_type": "execute_result"
    }
   ],
   "source": [
    "getMemorialDay(2014,4,16, '세월호침몰사고일')"
   ]
  },
  {
   "cell_type": "code",
   "execution_count": 22,
   "metadata": {},
   "outputs": [
    {
     "data": {
      "text/plain": [
       "'크리스마스까지는 125일 남았습니다!!'"
      ]
     },
     "execution_count": 22,
     "metadata": {},
     "output_type": "execute_result"
    }
   ],
   "source": [
    "_y, _m, elapsed_day = getMemorialDay(2019, 12, 25, '크리스마스', False)\n",
    "'크리스마스까지는 %d일 남았습니다!!' % -elapsed_day"
   ]
  },
  {
   "cell_type": "markdown",
   "metadata": {},
   "source": [
    "<hr>\n",
    "<marquee><font size=3 color='brown'>The BigpyCraft find the information to design valuable society with Technology & Craft.</font></marquee>\n",
    "<div align='right'><font size=2 color='gray'> &lt; The End &gt; </font></div>"
   ]
  }
 ],
 "metadata": {
  "kernelspec": {
   "display_name": "Python 3 (ipykernel)",
   "language": "python",
   "name": "python3"
  },
  "language_info": {
   "codemirror_mode": {
    "name": "ipython",
    "version": 3
   },
   "file_extension": ".py",
   "mimetype": "text/x-python",
   "name": "python",
   "nbconvert_exporter": "python",
   "pygments_lexer": "ipython3",
   "version": "3.9.7"
  }
 },
 "nbformat": 4,
 "nbformat_minor": 2
}
