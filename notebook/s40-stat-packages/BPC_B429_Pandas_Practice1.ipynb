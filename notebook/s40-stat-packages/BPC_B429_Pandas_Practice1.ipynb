{
 "cells": [
  {
   "cell_type": "markdown",
   "metadata": {},
   "source": [
    "# Industry 4.0 의 중심, BigData"
   ]
  },
  {
   "cell_type": "markdown",
   "metadata": {},
   "source": [
    "<div align='right'><font size=2 color='gray'>Data Processing Based Python @ <font color='blue'><a href='https://www.facebook.com/jskim.kr'>FB / jskim.kr</a></font>, [김진수](bigpycraft@gmail.com)</font></div>\n",
    "<hr>"
   ]
  },
  {
   "cell_type": "markdown",
   "metadata": {},
   "source": [
    "# Pandas Advanced "
   ]
  },
  {
   "cell_type": "markdown",
   "metadata": {},
   "source": [
    "> ### INDEX\n",
    "> - Object Creation (객체 생성)\n",
    "> - Viewing Data (데이터 확인하기)\n",
    "> - Selection (선택)\n",
    "> - Missing Data (결측치)\n",
    "> - Operation (연산)"
   ]
  },
  {
   "cell_type": "markdown",
   "metadata": {},
   "source": [
    "## 1. Object Creation (객체 생성)"
   ]
  },
  {
   "cell_type": "markdown",
   "metadata": {},
   "source": [
    "> - 데이터 구조 섹션 참조\n",
    "> - Pandas는 값을 가지고 있는 리스트를 통해 Series를 만들고, \n",
    "<br/> 정수로 만들어진 인덱스를 기본값으로 불러올 것입니다."
   ]
  },
  {
   "cell_type": "code",
   "execution_count": 1,
   "metadata": {},
   "outputs": [],
   "source": [
    "import numpy as np\n",
    "import pandas as pd"
   ]
  },
  {
   "cell_type": "code",
   "execution_count": 2,
   "metadata": {},
   "outputs": [
    {
     "data": {
      "text/plain": [
       "0    1.0\n",
       "1    3.0\n",
       "2    5.0\n",
       "3    NaN\n",
       "4    6.0\n",
       "5    8.0\n",
       "dtype: float64"
      ]
     },
     "execution_count": 2,
     "metadata": {},
     "output_type": "execute_result"
    }
   ],
   "source": [
    "s = pd.Series([1, 3, 5, np.nan, 6, 8])\n",
    "s"
   ]
  },
  {
   "cell_type": "code",
   "execution_count": 3,
   "metadata": {},
   "outputs": [
    {
     "data": {
      "text/plain": [
       "DatetimeIndex(['2022-06-01', '2022-06-02', '2022-06-03', '2022-06-04',\n",
       "               '2022-06-05', '2022-06-06'],\n",
       "              dtype='datetime64[ns]', freq='D')"
      ]
     },
     "execution_count": 3,
     "metadata": {},
     "output_type": "execute_result"
    }
   ],
   "source": [
    "dates = pd.date_range(\"20220601\", periods=6)\n",
    "dates"
   ]
  },
  {
   "cell_type": "code",
   "execution_count": 4,
   "metadata": {},
   "outputs": [
    {
     "data": {
      "text/html": [
       "<div>\n",
       "<style scoped>\n",
       "    .dataframe tbody tr th:only-of-type {\n",
       "        vertical-align: middle;\n",
       "    }\n",
       "\n",
       "    .dataframe tbody tr th {\n",
       "        vertical-align: top;\n",
       "    }\n",
       "\n",
       "    .dataframe thead th {\n",
       "        text-align: right;\n",
       "    }\n",
       "</style>\n",
       "<table border=\"1\" class=\"dataframe\">\n",
       "  <thead>\n",
       "    <tr style=\"text-align: right;\">\n",
       "      <th></th>\n",
       "      <th>A</th>\n",
       "      <th>B</th>\n",
       "      <th>C</th>\n",
       "      <th>D</th>\n",
       "    </tr>\n",
       "  </thead>\n",
       "  <tbody>\n",
       "    <tr>\n",
       "      <th>2022-06-01</th>\n",
       "      <td>-0.795554</td>\n",
       "      <td>-0.638544</td>\n",
       "      <td>-0.432497</td>\n",
       "      <td>-0.339563</td>\n",
       "    </tr>\n",
       "    <tr>\n",
       "      <th>2022-06-02</th>\n",
       "      <td>0.526383</td>\n",
       "      <td>-3.130227</td>\n",
       "      <td>-0.347309</td>\n",
       "      <td>1.203816</td>\n",
       "    </tr>\n",
       "    <tr>\n",
       "      <th>2022-06-03</th>\n",
       "      <td>-2.484921</td>\n",
       "      <td>-0.767825</td>\n",
       "      <td>-0.153918</td>\n",
       "      <td>0.858601</td>\n",
       "    </tr>\n",
       "    <tr>\n",
       "      <th>2022-06-04</th>\n",
       "      <td>0.918227</td>\n",
       "      <td>-0.280356</td>\n",
       "      <td>1.916277</td>\n",
       "      <td>-1.074678</td>\n",
       "    </tr>\n",
       "    <tr>\n",
       "      <th>2022-06-05</th>\n",
       "      <td>-0.905480</td>\n",
       "      <td>1.253570</td>\n",
       "      <td>0.254604</td>\n",
       "      <td>0.192972</td>\n",
       "    </tr>\n",
       "    <tr>\n",
       "      <th>2022-06-06</th>\n",
       "      <td>0.196703</td>\n",
       "      <td>0.285102</td>\n",
       "      <td>1.328384</td>\n",
       "      <td>-1.410239</td>\n",
       "    </tr>\n",
       "  </tbody>\n",
       "</table>\n",
       "</div>"
      ],
      "text/plain": [
       "                   A         B         C         D\n",
       "2022-06-01 -0.795554 -0.638544 -0.432497 -0.339563\n",
       "2022-06-02  0.526383 -3.130227 -0.347309  1.203816\n",
       "2022-06-03 -2.484921 -0.767825 -0.153918  0.858601\n",
       "2022-06-04  0.918227 -0.280356  1.916277 -1.074678\n",
       "2022-06-05 -0.905480  1.253570  0.254604  0.192972\n",
       "2022-06-06  0.196703  0.285102  1.328384 -1.410239"
      ]
     },
     "execution_count": 4,
     "metadata": {},
     "output_type": "execute_result"
    }
   ],
   "source": [
    "df = pd.DataFrame(np.random.randn(6, 4), index=dates, columns=list(\"ABCD\"))\n",
    "df"
   ]
  },
  {
   "cell_type": "code",
   "execution_count": 5,
   "metadata": {},
   "outputs": [
    {
     "data": {
      "text/html": [
       "<div>\n",
       "<style scoped>\n",
       "    .dataframe tbody tr th:only-of-type {\n",
       "        vertical-align: middle;\n",
       "    }\n",
       "\n",
       "    .dataframe tbody tr th {\n",
       "        vertical-align: top;\n",
       "    }\n",
       "\n",
       "    .dataframe thead th {\n",
       "        text-align: right;\n",
       "    }\n",
       "</style>\n",
       "<table border=\"1\" class=\"dataframe\">\n",
       "  <thead>\n",
       "    <tr style=\"text-align: right;\">\n",
       "      <th></th>\n",
       "      <th>A</th>\n",
       "      <th>B</th>\n",
       "      <th>C</th>\n",
       "      <th>D</th>\n",
       "      <th>E</th>\n",
       "      <th>F</th>\n",
       "    </tr>\n",
       "  </thead>\n",
       "  <tbody>\n",
       "    <tr>\n",
       "      <th>0</th>\n",
       "      <td>1.0</td>\n",
       "      <td>2022-06-01</td>\n",
       "      <td>1.0</td>\n",
       "      <td>3</td>\n",
       "      <td>JB_Bank</td>\n",
       "      <td>BigpyCraft</td>\n",
       "    </tr>\n",
       "    <tr>\n",
       "      <th>1</th>\n",
       "      <td>1.0</td>\n",
       "      <td>2022-06-01</td>\n",
       "      <td>1.0</td>\n",
       "      <td>3</td>\n",
       "      <td>KJ_Bank</td>\n",
       "      <td>BigpyCraft</td>\n",
       "    </tr>\n",
       "    <tr>\n",
       "      <th>2</th>\n",
       "      <td>1.0</td>\n",
       "      <td>2022-06-01</td>\n",
       "      <td>1.0</td>\n",
       "      <td>3</td>\n",
       "      <td>JB_Bank</td>\n",
       "      <td>BigpyCraft</td>\n",
       "    </tr>\n",
       "    <tr>\n",
       "      <th>3</th>\n",
       "      <td>1.0</td>\n",
       "      <td>2022-06-01</td>\n",
       "      <td>1.0</td>\n",
       "      <td>3</td>\n",
       "      <td>KJ_Bank</td>\n",
       "      <td>BigpyCraft</td>\n",
       "    </tr>\n",
       "  </tbody>\n",
       "</table>\n",
       "</div>"
      ],
      "text/plain": [
       "     A          B    C  D        E           F\n",
       "0  1.0 2022-06-01  1.0  3  JB_Bank  BigpyCraft\n",
       "1  1.0 2022-06-01  1.0  3  KJ_Bank  BigpyCraft\n",
       "2  1.0 2022-06-01  1.0  3  JB_Bank  BigpyCraft\n",
       "3  1.0 2022-06-01  1.0  3  KJ_Bank  BigpyCraft"
      ]
     },
     "execution_count": 5,
     "metadata": {},
     "output_type": "execute_result"
    }
   ],
   "source": [
    "df2 = pd.DataFrame(\n",
    "    {\n",
    "        \"A\": 1.0,\n",
    "        \"B\": pd.Timestamp(\"20220601\"),\n",
    "        \"C\": pd.Series(1, index=list(range(4)), dtype=\"float32\"),\n",
    "        \"D\": np.array([3] * 4, dtype=\"int32\"),\n",
    "        \"E\": pd.Categorical([\"JB_Bank\", \"KJ_Bank\", \"JB_Bank\", \"KJ_Bank\"]),\n",
    "        \"F\": \"BigpyCraft\",\n",
    "    }\n",
    ")\n",
    "df2"
   ]
  },
  {
   "cell_type": "code",
   "execution_count": 6,
   "metadata": {},
   "outputs": [
    {
     "data": {
      "text/plain": [
       "A           float64\n",
       "B    datetime64[ns]\n",
       "C           float32\n",
       "D             int32\n",
       "E          category\n",
       "F            object\n",
       "dtype: object"
      ]
     },
     "execution_count": 6,
     "metadata": {},
     "output_type": "execute_result"
    }
   ],
   "source": [
    "df2.dtypes"
   ]
  },
  {
   "cell_type": "code",
   "execution_count": 7,
   "metadata": {},
   "outputs": [
    {
     "name": "stdout",
     "output_type": "stream",
     "text": [
      "<class 'pandas.core.frame.DataFrame'>\n",
      "Int64Index: 4 entries, 0 to 3\n",
      "Data columns (total 6 columns):\n",
      " #   Column  Non-Null Count  Dtype         \n",
      "---  ------  --------------  -----         \n",
      " 0   A       4 non-null      float64       \n",
      " 1   B       4 non-null      datetime64[ns]\n",
      " 2   C       4 non-null      float32       \n",
      " 3   D       4 non-null      int32         \n",
      " 4   E       4 non-null      category      \n",
      " 5   F       4 non-null      object        \n",
      "dtypes: category(1), datetime64[ns](1), float32(1), float64(1), int32(1), object(1)\n",
      "memory usage: 288.0+ bytes\n"
     ]
    }
   ],
   "source": [
    "df2.info()"
   ]
  },
  {
   "cell_type": "markdown",
   "metadata": {},
   "source": [
    "### Tap 키 : 자동완성 기능\n",
    "> df2.\\<TAB\\> "
   ]
  },
  {
   "cell_type": "markdown",
   "metadata": {},
   "source": [
    "```python\n",
    "df2.<TAB>  # noqa: E225, E999\n",
    "df2.A                  df2.bool\n",
    "df2.abs                df2.boxplot\n",
    "df2.add                df2.C\n",
    "df2.add_prefix         df2.clip\n",
    "df2.add_suffix         df2.columns\n",
    "df2.align              df2.copy\n",
    "df2.all                df2.count\n",
    "df2.any                df2.combine\n",
    "df2.append             df2.D\n",
    "df2.apply              df2.describe\n",
    "df2.applymap           df2.diff\n",
    "df2.B                  df2.duplicated\n",
    "```"
   ]
  },
  {
   "cell_type": "code",
   "execution_count": null,
   "metadata": {},
   "outputs": [],
   "source": []
  },
  {
   "cell_type": "markdown",
   "metadata": {},
   "source": [
    "## 2. Viewing Data (데이터 확인하기)"
   ]
  },
  {
   "cell_type": "code",
   "execution_count": 8,
   "metadata": {},
   "outputs": [
    {
     "data": {
      "text/html": [
       "<div>\n",
       "<style scoped>\n",
       "    .dataframe tbody tr th:only-of-type {\n",
       "        vertical-align: middle;\n",
       "    }\n",
       "\n",
       "    .dataframe tbody tr th {\n",
       "        vertical-align: top;\n",
       "    }\n",
       "\n",
       "    .dataframe thead th {\n",
       "        text-align: right;\n",
       "    }\n",
       "</style>\n",
       "<table border=\"1\" class=\"dataframe\">\n",
       "  <thead>\n",
       "    <tr style=\"text-align: right;\">\n",
       "      <th></th>\n",
       "      <th>A</th>\n",
       "      <th>B</th>\n",
       "      <th>C</th>\n",
       "      <th>D</th>\n",
       "    </tr>\n",
       "  </thead>\n",
       "  <tbody>\n",
       "    <tr>\n",
       "      <th>2022-06-01</th>\n",
       "      <td>-0.795554</td>\n",
       "      <td>-0.638544</td>\n",
       "      <td>-0.432497</td>\n",
       "      <td>-0.339563</td>\n",
       "    </tr>\n",
       "    <tr>\n",
       "      <th>2022-06-02</th>\n",
       "      <td>0.526383</td>\n",
       "      <td>-3.130227</td>\n",
       "      <td>-0.347309</td>\n",
       "      <td>1.203816</td>\n",
       "    </tr>\n",
       "    <tr>\n",
       "      <th>2022-06-03</th>\n",
       "      <td>-2.484921</td>\n",
       "      <td>-0.767825</td>\n",
       "      <td>-0.153918</td>\n",
       "      <td>0.858601</td>\n",
       "    </tr>\n",
       "    <tr>\n",
       "      <th>2022-06-04</th>\n",
       "      <td>0.918227</td>\n",
       "      <td>-0.280356</td>\n",
       "      <td>1.916277</td>\n",
       "      <td>-1.074678</td>\n",
       "    </tr>\n",
       "    <tr>\n",
       "      <th>2022-06-05</th>\n",
       "      <td>-0.905480</td>\n",
       "      <td>1.253570</td>\n",
       "      <td>0.254604</td>\n",
       "      <td>0.192972</td>\n",
       "    </tr>\n",
       "  </tbody>\n",
       "</table>\n",
       "</div>"
      ],
      "text/plain": [
       "                   A         B         C         D\n",
       "2022-06-01 -0.795554 -0.638544 -0.432497 -0.339563\n",
       "2022-06-02  0.526383 -3.130227 -0.347309  1.203816\n",
       "2022-06-03 -2.484921 -0.767825 -0.153918  0.858601\n",
       "2022-06-04  0.918227 -0.280356  1.916277 -1.074678\n",
       "2022-06-05 -0.905480  1.253570  0.254604  0.192972"
      ]
     },
     "execution_count": 8,
     "metadata": {},
     "output_type": "execute_result"
    }
   ],
   "source": [
    "df.head()"
   ]
  },
  {
   "cell_type": "code",
   "execution_count": 9,
   "metadata": {},
   "outputs": [
    {
     "data": {
      "text/html": [
       "<div>\n",
       "<style scoped>\n",
       "    .dataframe tbody tr th:only-of-type {\n",
       "        vertical-align: middle;\n",
       "    }\n",
       "\n",
       "    .dataframe tbody tr th {\n",
       "        vertical-align: top;\n",
       "    }\n",
       "\n",
       "    .dataframe thead th {\n",
       "        text-align: right;\n",
       "    }\n",
       "</style>\n",
       "<table border=\"1\" class=\"dataframe\">\n",
       "  <thead>\n",
       "    <tr style=\"text-align: right;\">\n",
       "      <th></th>\n",
       "      <th>A</th>\n",
       "      <th>B</th>\n",
       "      <th>C</th>\n",
       "      <th>D</th>\n",
       "    </tr>\n",
       "  </thead>\n",
       "  <tbody>\n",
       "    <tr>\n",
       "      <th>2022-06-02</th>\n",
       "      <td>0.526383</td>\n",
       "      <td>-3.130227</td>\n",
       "      <td>-0.347309</td>\n",
       "      <td>1.203816</td>\n",
       "    </tr>\n",
       "    <tr>\n",
       "      <th>2022-06-03</th>\n",
       "      <td>-2.484921</td>\n",
       "      <td>-0.767825</td>\n",
       "      <td>-0.153918</td>\n",
       "      <td>0.858601</td>\n",
       "    </tr>\n",
       "    <tr>\n",
       "      <th>2022-06-04</th>\n",
       "      <td>0.918227</td>\n",
       "      <td>-0.280356</td>\n",
       "      <td>1.916277</td>\n",
       "      <td>-1.074678</td>\n",
       "    </tr>\n",
       "    <tr>\n",
       "      <th>2022-06-05</th>\n",
       "      <td>-0.905480</td>\n",
       "      <td>1.253570</td>\n",
       "      <td>0.254604</td>\n",
       "      <td>0.192972</td>\n",
       "    </tr>\n",
       "    <tr>\n",
       "      <th>2022-06-06</th>\n",
       "      <td>0.196703</td>\n",
       "      <td>0.285102</td>\n",
       "      <td>1.328384</td>\n",
       "      <td>-1.410239</td>\n",
       "    </tr>\n",
       "  </tbody>\n",
       "</table>\n",
       "</div>"
      ],
      "text/plain": [
       "                   A         B         C         D\n",
       "2022-06-02  0.526383 -3.130227 -0.347309  1.203816\n",
       "2022-06-03 -2.484921 -0.767825 -0.153918  0.858601\n",
       "2022-06-04  0.918227 -0.280356  1.916277 -1.074678\n",
       "2022-06-05 -0.905480  1.253570  0.254604  0.192972\n",
       "2022-06-06  0.196703  0.285102  1.328384 -1.410239"
      ]
     },
     "execution_count": 9,
     "metadata": {},
     "output_type": "execute_result"
    }
   ],
   "source": [
    "df.tail()"
   ]
  },
  {
   "cell_type": "code",
   "execution_count": 10,
   "metadata": {},
   "outputs": [
    {
     "data": {
      "text/html": [
       "<div>\n",
       "<style scoped>\n",
       "    .dataframe tbody tr th:only-of-type {\n",
       "        vertical-align: middle;\n",
       "    }\n",
       "\n",
       "    .dataframe tbody tr th {\n",
       "        vertical-align: top;\n",
       "    }\n",
       "\n",
       "    .dataframe thead th {\n",
       "        text-align: right;\n",
       "    }\n",
       "</style>\n",
       "<table border=\"1\" class=\"dataframe\">\n",
       "  <thead>\n",
       "    <tr style=\"text-align: right;\">\n",
       "      <th></th>\n",
       "      <th>A</th>\n",
       "      <th>B</th>\n",
       "      <th>C</th>\n",
       "      <th>D</th>\n",
       "    </tr>\n",
       "  </thead>\n",
       "  <tbody>\n",
       "    <tr>\n",
       "      <th>2022-06-04</th>\n",
       "      <td>0.918227</td>\n",
       "      <td>-0.280356</td>\n",
       "      <td>1.916277</td>\n",
       "      <td>-1.074678</td>\n",
       "    </tr>\n",
       "    <tr>\n",
       "      <th>2022-06-05</th>\n",
       "      <td>-0.905480</td>\n",
       "      <td>1.253570</td>\n",
       "      <td>0.254604</td>\n",
       "      <td>0.192972</td>\n",
       "    </tr>\n",
       "    <tr>\n",
       "      <th>2022-06-06</th>\n",
       "      <td>0.196703</td>\n",
       "      <td>0.285102</td>\n",
       "      <td>1.328384</td>\n",
       "      <td>-1.410239</td>\n",
       "    </tr>\n",
       "  </tbody>\n",
       "</table>\n",
       "</div>"
      ],
      "text/plain": [
       "                   A         B         C         D\n",
       "2022-06-04  0.918227 -0.280356  1.916277 -1.074678\n",
       "2022-06-05 -0.905480  1.253570  0.254604  0.192972\n",
       "2022-06-06  0.196703  0.285102  1.328384 -1.410239"
      ]
     },
     "execution_count": 10,
     "metadata": {},
     "output_type": "execute_result"
    }
   ],
   "source": [
    "df.tail(3)"
   ]
  },
  {
   "cell_type": "code",
   "execution_count": 11,
   "metadata": {},
   "outputs": [
    {
     "data": {
      "text/plain": [
       "DatetimeIndex(['2022-06-01', '2022-06-02', '2022-06-03', '2022-06-04',\n",
       "               '2022-06-05', '2022-06-06'],\n",
       "              dtype='datetime64[ns]', freq='D')"
      ]
     },
     "execution_count": 11,
     "metadata": {},
     "output_type": "execute_result"
    }
   ],
   "source": [
    "df.index"
   ]
  },
  {
   "cell_type": "code",
   "execution_count": 12,
   "metadata": {},
   "outputs": [
    {
     "data": {
      "text/plain": [
       "Index(['A', 'B', 'C', 'D'], dtype='object')"
      ]
     },
     "execution_count": 12,
     "metadata": {},
     "output_type": "execute_result"
    }
   ],
   "source": [
    "df.columns"
   ]
  },
  {
   "cell_type": "code",
   "execution_count": 13,
   "metadata": {},
   "outputs": [
    {
     "data": {
      "text/plain": [
       "array([[-0.79555384, -0.63854385, -0.43249749, -0.33956308],\n",
       "       [ 0.52638284, -3.13022737, -0.34730942,  1.20381557],\n",
       "       [-2.48492146, -0.76782514, -0.15391762,  0.85860061],\n",
       "       [ 0.91822694, -0.28035637,  1.91627677, -1.07467808],\n",
       "       [-0.90548023,  1.2535703 ,  0.25460371,  0.19297158],\n",
       "       [ 0.19670285,  0.28510249,  1.3283838 , -1.41023871]])"
      ]
     },
     "execution_count": 13,
     "metadata": {},
     "output_type": "execute_result"
    }
   ],
   "source": [
    "df.values"
   ]
  },
  {
   "cell_type": "code",
   "execution_count": 14,
   "metadata": {},
   "outputs": [
    {
     "data": {
      "text/plain": [
       "<bound method DataFrame.value_counts of                    A         B         C         D\n",
       "2022-06-01 -0.795554 -0.638544 -0.432497 -0.339563\n",
       "2022-06-02  0.526383 -3.130227 -0.347309  1.203816\n",
       "2022-06-03 -2.484921 -0.767825 -0.153918  0.858601\n",
       "2022-06-04  0.918227 -0.280356  1.916277 -1.074678\n",
       "2022-06-05 -0.905480  1.253570  0.254604  0.192972\n",
       "2022-06-06  0.196703  0.285102  1.328384 -1.410239>"
      ]
     },
     "execution_count": 14,
     "metadata": {},
     "output_type": "execute_result"
    }
   ],
   "source": [
    "df.value_counts"
   ]
  },
  {
   "cell_type": "code",
   "execution_count": 15,
   "metadata": {},
   "outputs": [
    {
     "data": {
      "text/html": [
       "<div>\n",
       "<style scoped>\n",
       "    .dataframe tbody tr th:only-of-type {\n",
       "        vertical-align: middle;\n",
       "    }\n",
       "\n",
       "    .dataframe tbody tr th {\n",
       "        vertical-align: top;\n",
       "    }\n",
       "\n",
       "    .dataframe thead th {\n",
       "        text-align: right;\n",
       "    }\n",
       "</style>\n",
       "<table border=\"1\" class=\"dataframe\">\n",
       "  <thead>\n",
       "    <tr style=\"text-align: right;\">\n",
       "      <th></th>\n",
       "      <th>A</th>\n",
       "      <th>B</th>\n",
       "      <th>C</th>\n",
       "      <th>D</th>\n",
       "    </tr>\n",
       "  </thead>\n",
       "  <tbody>\n",
       "    <tr>\n",
       "      <th>2022-06-01</th>\n",
       "      <td>-0.795554</td>\n",
       "      <td>-0.638544</td>\n",
       "      <td>-0.432497</td>\n",
       "      <td>-0.339563</td>\n",
       "    </tr>\n",
       "    <tr>\n",
       "      <th>2022-06-02</th>\n",
       "      <td>0.526383</td>\n",
       "      <td>-3.130227</td>\n",
       "      <td>-0.347309</td>\n",
       "      <td>1.203816</td>\n",
       "    </tr>\n",
       "    <tr>\n",
       "      <th>2022-06-03</th>\n",
       "      <td>-2.484921</td>\n",
       "      <td>-0.767825</td>\n",
       "      <td>-0.153918</td>\n",
       "      <td>0.858601</td>\n",
       "    </tr>\n",
       "    <tr>\n",
       "      <th>2022-06-04</th>\n",
       "      <td>0.918227</td>\n",
       "      <td>-0.280356</td>\n",
       "      <td>1.916277</td>\n",
       "      <td>-1.074678</td>\n",
       "    </tr>\n",
       "    <tr>\n",
       "      <th>2022-06-05</th>\n",
       "      <td>-0.905480</td>\n",
       "      <td>1.253570</td>\n",
       "      <td>0.254604</td>\n",
       "      <td>0.192972</td>\n",
       "    </tr>\n",
       "    <tr>\n",
       "      <th>2022-06-06</th>\n",
       "      <td>0.196703</td>\n",
       "      <td>0.285102</td>\n",
       "      <td>1.328384</td>\n",
       "      <td>-1.410239</td>\n",
       "    </tr>\n",
       "  </tbody>\n",
       "</table>\n",
       "</div>"
      ],
      "text/plain": [
       "                   A         B         C         D\n",
       "2022-06-01 -0.795554 -0.638544 -0.432497 -0.339563\n",
       "2022-06-02  0.526383 -3.130227 -0.347309  1.203816\n",
       "2022-06-03 -2.484921 -0.767825 -0.153918  0.858601\n",
       "2022-06-04  0.918227 -0.280356  1.916277 -1.074678\n",
       "2022-06-05 -0.905480  1.253570  0.254604  0.192972\n",
       "2022-06-06  0.196703  0.285102  1.328384 -1.410239"
      ]
     },
     "execution_count": 15,
     "metadata": {},
     "output_type": "execute_result"
    }
   ],
   "source": [
    "df"
   ]
  },
  {
   "cell_type": "markdown",
   "metadata": {},
   "source": [
    "-  describe() : 데이터의 대략적인 통계적 정보 요약"
   ]
  },
  {
   "cell_type": "code",
   "execution_count": 16,
   "metadata": {},
   "outputs": [
    {
     "data": {
      "text/html": [
       "<div>\n",
       "<style scoped>\n",
       "    .dataframe tbody tr th:only-of-type {\n",
       "        vertical-align: middle;\n",
       "    }\n",
       "\n",
       "    .dataframe tbody tr th {\n",
       "        vertical-align: top;\n",
       "    }\n",
       "\n",
       "    .dataframe thead th {\n",
       "        text-align: right;\n",
       "    }\n",
       "</style>\n",
       "<table border=\"1\" class=\"dataframe\">\n",
       "  <thead>\n",
       "    <tr style=\"text-align: right;\">\n",
       "      <th></th>\n",
       "      <th>A</th>\n",
       "      <th>B</th>\n",
       "      <th>C</th>\n",
       "      <th>D</th>\n",
       "    </tr>\n",
       "  </thead>\n",
       "  <tbody>\n",
       "    <tr>\n",
       "      <th>count</th>\n",
       "      <td>6.000000</td>\n",
       "      <td>6.000000</td>\n",
       "      <td>6.000000</td>\n",
       "      <td>6.000000</td>\n",
       "    </tr>\n",
       "    <tr>\n",
       "      <th>mean</th>\n",
       "      <td>-0.424107</td>\n",
       "      <td>-0.546380</td>\n",
       "      <td>0.427590</td>\n",
       "      <td>-0.094849</td>\n",
       "    </tr>\n",
       "    <tr>\n",
       "      <th>std</th>\n",
       "      <td>1.241559</td>\n",
       "      <td>1.465316</td>\n",
       "      <td>0.973233</td>\n",
       "      <td>1.041982</td>\n",
       "    </tr>\n",
       "    <tr>\n",
       "      <th>min</th>\n",
       "      <td>-2.484921</td>\n",
       "      <td>-3.130227</td>\n",
       "      <td>-0.432497</td>\n",
       "      <td>-1.410239</td>\n",
       "    </tr>\n",
       "    <tr>\n",
       "      <th>25%</th>\n",
       "      <td>-0.877999</td>\n",
       "      <td>-0.735505</td>\n",
       "      <td>-0.298961</td>\n",
       "      <td>-0.890899</td>\n",
       "    </tr>\n",
       "    <tr>\n",
       "      <th>50%</th>\n",
       "      <td>-0.299425</td>\n",
       "      <td>-0.459450</td>\n",
       "      <td>0.050343</td>\n",
       "      <td>-0.073296</td>\n",
       "    </tr>\n",
       "    <tr>\n",
       "      <th>75%</th>\n",
       "      <td>0.443963</td>\n",
       "      <td>0.143738</td>\n",
       "      <td>1.059939</td>\n",
       "      <td>0.692193</td>\n",
       "    </tr>\n",
       "    <tr>\n",
       "      <th>max</th>\n",
       "      <td>0.918227</td>\n",
       "      <td>1.253570</td>\n",
       "      <td>1.916277</td>\n",
       "      <td>1.203816</td>\n",
       "    </tr>\n",
       "  </tbody>\n",
       "</table>\n",
       "</div>"
      ],
      "text/plain": [
       "              A         B         C         D\n",
       "count  6.000000  6.000000  6.000000  6.000000\n",
       "mean  -0.424107 -0.546380  0.427590 -0.094849\n",
       "std    1.241559  1.465316  0.973233  1.041982\n",
       "min   -2.484921 -3.130227 -0.432497 -1.410239\n",
       "25%   -0.877999 -0.735505 -0.298961 -0.890899\n",
       "50%   -0.299425 -0.459450  0.050343 -0.073296\n",
       "75%    0.443963  0.143738  1.059939  0.692193\n",
       "max    0.918227  1.253570  1.916277  1.203816"
      ]
     },
     "execution_count": 16,
     "metadata": {},
     "output_type": "execute_result"
    }
   ],
   "source": [
    "df.describe()"
   ]
  },
  {
   "cell_type": "code",
   "execution_count": 17,
   "metadata": {},
   "outputs": [
    {
     "data": {
      "text/html": [
       "<div>\n",
       "<style scoped>\n",
       "    .dataframe tbody tr th:only-of-type {\n",
       "        vertical-align: middle;\n",
       "    }\n",
       "\n",
       "    .dataframe tbody tr th {\n",
       "        vertical-align: top;\n",
       "    }\n",
       "\n",
       "    .dataframe thead th {\n",
       "        text-align: right;\n",
       "    }\n",
       "</style>\n",
       "<table border=\"1\" class=\"dataframe\">\n",
       "  <thead>\n",
       "    <tr style=\"text-align: right;\">\n",
       "      <th></th>\n",
       "      <th>2022-06-01</th>\n",
       "      <th>2022-06-02</th>\n",
       "      <th>2022-06-03</th>\n",
       "      <th>2022-06-04</th>\n",
       "      <th>2022-06-05</th>\n",
       "      <th>2022-06-06</th>\n",
       "    </tr>\n",
       "  </thead>\n",
       "  <tbody>\n",
       "    <tr>\n",
       "      <th>A</th>\n",
       "      <td>-0.795554</td>\n",
       "      <td>0.526383</td>\n",
       "      <td>-2.484921</td>\n",
       "      <td>0.918227</td>\n",
       "      <td>-0.905480</td>\n",
       "      <td>0.196703</td>\n",
       "    </tr>\n",
       "    <tr>\n",
       "      <th>B</th>\n",
       "      <td>-0.638544</td>\n",
       "      <td>-3.130227</td>\n",
       "      <td>-0.767825</td>\n",
       "      <td>-0.280356</td>\n",
       "      <td>1.253570</td>\n",
       "      <td>0.285102</td>\n",
       "    </tr>\n",
       "    <tr>\n",
       "      <th>C</th>\n",
       "      <td>-0.432497</td>\n",
       "      <td>-0.347309</td>\n",
       "      <td>-0.153918</td>\n",
       "      <td>1.916277</td>\n",
       "      <td>0.254604</td>\n",
       "      <td>1.328384</td>\n",
       "    </tr>\n",
       "    <tr>\n",
       "      <th>D</th>\n",
       "      <td>-0.339563</td>\n",
       "      <td>1.203816</td>\n",
       "      <td>0.858601</td>\n",
       "      <td>-1.074678</td>\n",
       "      <td>0.192972</td>\n",
       "      <td>-1.410239</td>\n",
       "    </tr>\n",
       "  </tbody>\n",
       "</table>\n",
       "</div>"
      ],
      "text/plain": [
       "   2022-06-01  2022-06-02  2022-06-03  2022-06-04  2022-06-05  2022-06-06\n",
       "A   -0.795554    0.526383   -2.484921    0.918227   -0.905480    0.196703\n",
       "B   -0.638544   -3.130227   -0.767825   -0.280356    1.253570    0.285102\n",
       "C   -0.432497   -0.347309   -0.153918    1.916277    0.254604    1.328384\n",
       "D   -0.339563    1.203816    0.858601   -1.074678    0.192972   -1.410239"
      ]
     },
     "execution_count": 17,
     "metadata": {},
     "output_type": "execute_result"
    }
   ],
   "source": [
    "# 데이터 전치\n",
    "df.T"
   ]
  },
  {
   "cell_type": "code",
   "execution_count": 18,
   "metadata": {},
   "outputs": [
    {
     "data": {
      "text/html": [
       "<div>\n",
       "<style scoped>\n",
       "    .dataframe tbody tr th:only-of-type {\n",
       "        vertical-align: middle;\n",
       "    }\n",
       "\n",
       "    .dataframe tbody tr th {\n",
       "        vertical-align: top;\n",
       "    }\n",
       "\n",
       "    .dataframe thead th {\n",
       "        text-align: right;\n",
       "    }\n",
       "</style>\n",
       "<table border=\"1\" class=\"dataframe\">\n",
       "  <thead>\n",
       "    <tr style=\"text-align: right;\">\n",
       "      <th></th>\n",
       "      <th>D</th>\n",
       "      <th>C</th>\n",
       "      <th>B</th>\n",
       "      <th>A</th>\n",
       "    </tr>\n",
       "  </thead>\n",
       "  <tbody>\n",
       "    <tr>\n",
       "      <th>2022-06-01</th>\n",
       "      <td>-0.339563</td>\n",
       "      <td>-0.432497</td>\n",
       "      <td>-0.638544</td>\n",
       "      <td>-0.795554</td>\n",
       "    </tr>\n",
       "    <tr>\n",
       "      <th>2022-06-02</th>\n",
       "      <td>1.203816</td>\n",
       "      <td>-0.347309</td>\n",
       "      <td>-3.130227</td>\n",
       "      <td>0.526383</td>\n",
       "    </tr>\n",
       "    <tr>\n",
       "      <th>2022-06-03</th>\n",
       "      <td>0.858601</td>\n",
       "      <td>-0.153918</td>\n",
       "      <td>-0.767825</td>\n",
       "      <td>-2.484921</td>\n",
       "    </tr>\n",
       "    <tr>\n",
       "      <th>2022-06-04</th>\n",
       "      <td>-1.074678</td>\n",
       "      <td>1.916277</td>\n",
       "      <td>-0.280356</td>\n",
       "      <td>0.918227</td>\n",
       "    </tr>\n",
       "    <tr>\n",
       "      <th>2022-06-05</th>\n",
       "      <td>0.192972</td>\n",
       "      <td>0.254604</td>\n",
       "      <td>1.253570</td>\n",
       "      <td>-0.905480</td>\n",
       "    </tr>\n",
       "    <tr>\n",
       "      <th>2022-06-06</th>\n",
       "      <td>-1.410239</td>\n",
       "      <td>1.328384</td>\n",
       "      <td>0.285102</td>\n",
       "      <td>0.196703</td>\n",
       "    </tr>\n",
       "  </tbody>\n",
       "</table>\n",
       "</div>"
      ],
      "text/plain": [
       "                   D         C         B         A\n",
       "2022-06-01 -0.339563 -0.432497 -0.638544 -0.795554\n",
       "2022-06-02  1.203816 -0.347309 -3.130227  0.526383\n",
       "2022-06-03  0.858601 -0.153918 -0.767825 -2.484921\n",
       "2022-06-04 -1.074678  1.916277 -0.280356  0.918227\n",
       "2022-06-05  0.192972  0.254604  1.253570 -0.905480\n",
       "2022-06-06 -1.410239  1.328384  0.285102  0.196703"
      ]
     },
     "execution_count": 18,
     "metadata": {},
     "output_type": "execute_result"
    }
   ],
   "source": [
    "df.sort_index(axis=1, ascending=False)"
   ]
  },
  {
   "cell_type": "code",
   "execution_count": 19,
   "metadata": {},
   "outputs": [
    {
     "data": {
      "text/html": [
       "<div>\n",
       "<style scoped>\n",
       "    .dataframe tbody tr th:only-of-type {\n",
       "        vertical-align: middle;\n",
       "    }\n",
       "\n",
       "    .dataframe tbody tr th {\n",
       "        vertical-align: top;\n",
       "    }\n",
       "\n",
       "    .dataframe thead th {\n",
       "        text-align: right;\n",
       "    }\n",
       "</style>\n",
       "<table border=\"1\" class=\"dataframe\">\n",
       "  <thead>\n",
       "    <tr style=\"text-align: right;\">\n",
       "      <th></th>\n",
       "      <th>A</th>\n",
       "      <th>B</th>\n",
       "      <th>C</th>\n",
       "      <th>D</th>\n",
       "    </tr>\n",
       "  </thead>\n",
       "  <tbody>\n",
       "    <tr>\n",
       "      <th>2022-06-02</th>\n",
       "      <td>0.526383</td>\n",
       "      <td>-3.130227</td>\n",
       "      <td>-0.347309</td>\n",
       "      <td>1.203816</td>\n",
       "    </tr>\n",
       "    <tr>\n",
       "      <th>2022-06-03</th>\n",
       "      <td>-2.484921</td>\n",
       "      <td>-0.767825</td>\n",
       "      <td>-0.153918</td>\n",
       "      <td>0.858601</td>\n",
       "    </tr>\n",
       "    <tr>\n",
       "      <th>2022-06-01</th>\n",
       "      <td>-0.795554</td>\n",
       "      <td>-0.638544</td>\n",
       "      <td>-0.432497</td>\n",
       "      <td>-0.339563</td>\n",
       "    </tr>\n",
       "    <tr>\n",
       "      <th>2022-06-04</th>\n",
       "      <td>0.918227</td>\n",
       "      <td>-0.280356</td>\n",
       "      <td>1.916277</td>\n",
       "      <td>-1.074678</td>\n",
       "    </tr>\n",
       "    <tr>\n",
       "      <th>2022-06-06</th>\n",
       "      <td>0.196703</td>\n",
       "      <td>0.285102</td>\n",
       "      <td>1.328384</td>\n",
       "      <td>-1.410239</td>\n",
       "    </tr>\n",
       "    <tr>\n",
       "      <th>2022-06-05</th>\n",
       "      <td>-0.905480</td>\n",
       "      <td>1.253570</td>\n",
       "      <td>0.254604</td>\n",
       "      <td>0.192972</td>\n",
       "    </tr>\n",
       "  </tbody>\n",
       "</table>\n",
       "</div>"
      ],
      "text/plain": [
       "                   A         B         C         D\n",
       "2022-06-02  0.526383 -3.130227 -0.347309  1.203816\n",
       "2022-06-03 -2.484921 -0.767825 -0.153918  0.858601\n",
       "2022-06-01 -0.795554 -0.638544 -0.432497 -0.339563\n",
       "2022-06-04  0.918227 -0.280356  1.916277 -1.074678\n",
       "2022-06-06  0.196703  0.285102  1.328384 -1.410239\n",
       "2022-06-05 -0.905480  1.253570  0.254604  0.192972"
      ]
     },
     "execution_count": 19,
     "metadata": {},
     "output_type": "execute_result"
    }
   ],
   "source": [
    "df.sort_values(by='B')"
   ]
  },
  {
   "cell_type": "code",
   "execution_count": null,
   "metadata": {},
   "outputs": [],
   "source": []
  },
  {
   "cell_type": "markdown",
   "metadata": {},
   "source": [
    "## 3. Selection (선택)"
   ]
  },
  {
   "cell_type": "markdown",
   "metadata": {},
   "source": [
    "- Getting (데이터 얻기)"
   ]
  },
  {
   "cell_type": "code",
   "execution_count": 20,
   "metadata": {},
   "outputs": [
    {
     "data": {
      "text/plain": [
       "2022-06-01   -0.795554\n",
       "2022-06-02    0.526383\n",
       "2022-06-03   -2.484921\n",
       "2022-06-04    0.918227\n",
       "2022-06-05   -0.905480\n",
       "2022-06-06    0.196703\n",
       "Freq: D, Name: A, dtype: float64"
      ]
     },
     "execution_count": 20,
     "metadata": {},
     "output_type": "execute_result"
    }
   ],
   "source": [
    "df['A']"
   ]
  },
  {
   "cell_type": "code",
   "execution_count": 21,
   "metadata": {},
   "outputs": [
    {
     "data": {
      "text/html": [
       "<div>\n",
       "<style scoped>\n",
       "    .dataframe tbody tr th:only-of-type {\n",
       "        vertical-align: middle;\n",
       "    }\n",
       "\n",
       "    .dataframe tbody tr th {\n",
       "        vertical-align: top;\n",
       "    }\n",
       "\n",
       "    .dataframe thead th {\n",
       "        text-align: right;\n",
       "    }\n",
       "</style>\n",
       "<table border=\"1\" class=\"dataframe\">\n",
       "  <thead>\n",
       "    <tr style=\"text-align: right;\">\n",
       "      <th></th>\n",
       "      <th>A</th>\n",
       "      <th>B</th>\n",
       "      <th>C</th>\n",
       "      <th>D</th>\n",
       "    </tr>\n",
       "  </thead>\n",
       "  <tbody>\n",
       "    <tr>\n",
       "      <th>2022-06-02</th>\n",
       "      <td>0.526383</td>\n",
       "      <td>-3.130227</td>\n",
       "      <td>-0.347309</td>\n",
       "      <td>1.203816</td>\n",
       "    </tr>\n",
       "    <tr>\n",
       "      <th>2022-06-03</th>\n",
       "      <td>-2.484921</td>\n",
       "      <td>-0.767825</td>\n",
       "      <td>-0.153918</td>\n",
       "      <td>0.858601</td>\n",
       "    </tr>\n",
       "    <tr>\n",
       "      <th>2022-06-04</th>\n",
       "      <td>0.918227</td>\n",
       "      <td>-0.280356</td>\n",
       "      <td>1.916277</td>\n",
       "      <td>-1.074678</td>\n",
       "    </tr>\n",
       "  </tbody>\n",
       "</table>\n",
       "</div>"
      ],
      "text/plain": [
       "                   A         B         C         D\n",
       "2022-06-02  0.526383 -3.130227 -0.347309  1.203816\n",
       "2022-06-03 -2.484921 -0.767825 -0.153918  0.858601\n",
       "2022-06-04  0.918227 -0.280356  1.916277 -1.074678"
      ]
     },
     "execution_count": 21,
     "metadata": {},
     "output_type": "execute_result"
    }
   ],
   "source": [
    "df[1:4]"
   ]
  },
  {
   "cell_type": "code",
   "execution_count": 22,
   "metadata": {},
   "outputs": [
    {
     "data": {
      "text/html": [
       "<div>\n",
       "<style scoped>\n",
       "    .dataframe tbody tr th:only-of-type {\n",
       "        vertical-align: middle;\n",
       "    }\n",
       "\n",
       "    .dataframe tbody tr th {\n",
       "        vertical-align: top;\n",
       "    }\n",
       "\n",
       "    .dataframe thead th {\n",
       "        text-align: right;\n",
       "    }\n",
       "</style>\n",
       "<table border=\"1\" class=\"dataframe\">\n",
       "  <thead>\n",
       "    <tr style=\"text-align: right;\">\n",
       "      <th></th>\n",
       "      <th>A</th>\n",
       "      <th>B</th>\n",
       "      <th>C</th>\n",
       "      <th>D</th>\n",
       "    </tr>\n",
       "  </thead>\n",
       "  <tbody>\n",
       "    <tr>\n",
       "      <th>2022-06-01</th>\n",
       "      <td>-0.795554</td>\n",
       "      <td>-0.638544</td>\n",
       "      <td>-0.432497</td>\n",
       "      <td>-0.339563</td>\n",
       "    </tr>\n",
       "    <tr>\n",
       "      <th>2022-06-02</th>\n",
       "      <td>0.526383</td>\n",
       "      <td>-3.130227</td>\n",
       "      <td>-0.347309</td>\n",
       "      <td>1.203816</td>\n",
       "    </tr>\n",
       "    <tr>\n",
       "      <th>2022-06-03</th>\n",
       "      <td>-2.484921</td>\n",
       "      <td>-0.767825</td>\n",
       "      <td>-0.153918</td>\n",
       "      <td>0.858601</td>\n",
       "    </tr>\n",
       "    <tr>\n",
       "      <th>2022-06-04</th>\n",
       "      <td>0.918227</td>\n",
       "      <td>-0.280356</td>\n",
       "      <td>1.916277</td>\n",
       "      <td>-1.074678</td>\n",
       "    </tr>\n",
       "    <tr>\n",
       "      <th>2022-06-05</th>\n",
       "      <td>-0.905480</td>\n",
       "      <td>1.253570</td>\n",
       "      <td>0.254604</td>\n",
       "      <td>0.192972</td>\n",
       "    </tr>\n",
       "  </tbody>\n",
       "</table>\n",
       "</div>"
      ],
      "text/plain": [
       "                   A         B         C         D\n",
       "2022-06-01 -0.795554 -0.638544 -0.432497 -0.339563\n",
       "2022-06-02  0.526383 -3.130227 -0.347309  1.203816\n",
       "2022-06-03 -2.484921 -0.767825 -0.153918  0.858601\n",
       "2022-06-04  0.918227 -0.280356  1.916277 -1.074678\n",
       "2022-06-05 -0.905480  1.253570  0.254604  0.192972"
      ]
     },
     "execution_count": 22,
     "metadata": {},
     "output_type": "execute_result"
    }
   ],
   "source": [
    "df['20220601' :'20220605']"
   ]
  },
  {
   "cell_type": "markdown",
   "metadata": {},
   "source": [
    "- Selection by Label (Label 을 통한 선택)"
   ]
  },
  {
   "cell_type": "code",
   "execution_count": 23,
   "metadata": {},
   "outputs": [
    {
     "data": {
      "text/plain": [
       "A   -0.795554\n",
       "B   -0.638544\n",
       "C   -0.432497\n",
       "D   -0.339563\n",
       "Name: 2022-06-01 00:00:00, dtype: float64"
      ]
     },
     "execution_count": 23,
     "metadata": {},
     "output_type": "execute_result"
    }
   ],
   "source": [
    "df.loc[dates[0]]"
   ]
  },
  {
   "cell_type": "code",
   "execution_count": 24,
   "metadata": {},
   "outputs": [
    {
     "data": {
      "text/plain": [
       "-0.7955538361468891"
      ]
     },
     "execution_count": 24,
     "metadata": {},
     "output_type": "execute_result"
    }
   ],
   "source": [
    "df.loc[dates[0],'A']"
   ]
  },
  {
   "cell_type": "code",
   "execution_count": 25,
   "metadata": {},
   "outputs": [
    {
     "data": {
      "text/plain": [
       "A   -0.795554\n",
       "B   -0.638544\n",
       "Name: 2022-06-01 00:00:00, dtype: float64"
      ]
     },
     "execution_count": 25,
     "metadata": {},
     "output_type": "execute_result"
    }
   ],
   "source": [
    "df.loc['20220601',['A','B']]"
   ]
  },
  {
   "cell_type": "code",
   "execution_count": 26,
   "metadata": {},
   "outputs": [
    {
     "data": {
      "text/html": [
       "<div>\n",
       "<style scoped>\n",
       "    .dataframe tbody tr th:only-of-type {\n",
       "        vertical-align: middle;\n",
       "    }\n",
       "\n",
       "    .dataframe tbody tr th {\n",
       "        vertical-align: top;\n",
       "    }\n",
       "\n",
       "    .dataframe thead th {\n",
       "        text-align: right;\n",
       "    }\n",
       "</style>\n",
       "<table border=\"1\" class=\"dataframe\">\n",
       "  <thead>\n",
       "    <tr style=\"text-align: right;\">\n",
       "      <th></th>\n",
       "      <th>A</th>\n",
       "      <th>B</th>\n",
       "    </tr>\n",
       "  </thead>\n",
       "  <tbody>\n",
       "    <tr>\n",
       "      <th>2022-06-01</th>\n",
       "      <td>-0.795554</td>\n",
       "      <td>-0.638544</td>\n",
       "    </tr>\n",
       "    <tr>\n",
       "      <th>2022-06-02</th>\n",
       "      <td>0.526383</td>\n",
       "      <td>-3.130227</td>\n",
       "    </tr>\n",
       "    <tr>\n",
       "      <th>2022-06-03</th>\n",
       "      <td>-2.484921</td>\n",
       "      <td>-0.767825</td>\n",
       "    </tr>\n",
       "    <tr>\n",
       "      <th>2022-06-04</th>\n",
       "      <td>0.918227</td>\n",
       "      <td>-0.280356</td>\n",
       "    </tr>\n",
       "    <tr>\n",
       "      <th>2022-06-05</th>\n",
       "      <td>-0.905480</td>\n",
       "      <td>1.253570</td>\n",
       "    </tr>\n",
       "    <tr>\n",
       "      <th>2022-06-06</th>\n",
       "      <td>0.196703</td>\n",
       "      <td>0.285102</td>\n",
       "    </tr>\n",
       "  </tbody>\n",
       "</table>\n",
       "</div>"
      ],
      "text/plain": [
       "                   A         B\n",
       "2022-06-01 -0.795554 -0.638544\n",
       "2022-06-02  0.526383 -3.130227\n",
       "2022-06-03 -2.484921 -0.767825\n",
       "2022-06-04  0.918227 -0.280356\n",
       "2022-06-05 -0.905480  1.253570\n",
       "2022-06-06  0.196703  0.285102"
      ]
     },
     "execution_count": 26,
     "metadata": {},
     "output_type": "execute_result"
    }
   ],
   "source": [
    "df.loc[:,['A','B']]"
   ]
  },
  {
   "cell_type": "code",
   "execution_count": 27,
   "metadata": {},
   "outputs": [
    {
     "data": {
      "text/html": [
       "<div>\n",
       "<style scoped>\n",
       "    .dataframe tbody tr th:only-of-type {\n",
       "        vertical-align: middle;\n",
       "    }\n",
       "\n",
       "    .dataframe tbody tr th {\n",
       "        vertical-align: top;\n",
       "    }\n",
       "\n",
       "    .dataframe thead th {\n",
       "        text-align: right;\n",
       "    }\n",
       "</style>\n",
       "<table border=\"1\" class=\"dataframe\">\n",
       "  <thead>\n",
       "    <tr style=\"text-align: right;\">\n",
       "      <th></th>\n",
       "      <th>A</th>\n",
       "      <th>B</th>\n",
       "    </tr>\n",
       "  </thead>\n",
       "  <tbody>\n",
       "    <tr>\n",
       "      <th>2022-06-01</th>\n",
       "      <td>-0.795554</td>\n",
       "      <td>-0.638544</td>\n",
       "    </tr>\n",
       "    <tr>\n",
       "      <th>2022-06-02</th>\n",
       "      <td>0.526383</td>\n",
       "      <td>-3.130227</td>\n",
       "    </tr>\n",
       "    <tr>\n",
       "      <th>2022-06-03</th>\n",
       "      <td>-2.484921</td>\n",
       "      <td>-0.767825</td>\n",
       "    </tr>\n",
       "  </tbody>\n",
       "</table>\n",
       "</div>"
      ],
      "text/plain": [
       "                   A         B\n",
       "2022-06-01 -0.795554 -0.638544\n",
       "2022-06-02  0.526383 -3.130227\n",
       "2022-06-03 -2.484921 -0.767825"
      ]
     },
     "execution_count": 27,
     "metadata": {},
     "output_type": "execute_result"
    }
   ],
   "source": [
    "df.loc['20220601':'20220603', ['A','B']]"
   ]
  },
  {
   "cell_type": "markdown",
   "metadata": {},
   "source": [
    "- Selection by Position (위치로 선택하기)"
   ]
  },
  {
   "cell_type": "code",
   "execution_count": 28,
   "metadata": {},
   "outputs": [
    {
     "data": {
      "text/plain": [
       "A    0.918227\n",
       "B   -0.280356\n",
       "C    1.916277\n",
       "D   -1.074678\n",
       "Name: 2022-06-04 00:00:00, dtype: float64"
      ]
     },
     "execution_count": 28,
     "metadata": {},
     "output_type": "execute_result"
    }
   ],
   "source": [
    "df.iloc[3]"
   ]
  },
  {
   "cell_type": "code",
   "execution_count": 29,
   "metadata": {},
   "outputs": [
    {
     "data": {
      "text/html": [
       "<div>\n",
       "<style scoped>\n",
       "    .dataframe tbody tr th:only-of-type {\n",
       "        vertical-align: middle;\n",
       "    }\n",
       "\n",
       "    .dataframe tbody tr th {\n",
       "        vertical-align: top;\n",
       "    }\n",
       "\n",
       "    .dataframe thead th {\n",
       "        text-align: right;\n",
       "    }\n",
       "</style>\n",
       "<table border=\"1\" class=\"dataframe\">\n",
       "  <thead>\n",
       "    <tr style=\"text-align: right;\">\n",
       "      <th></th>\n",
       "      <th>A</th>\n",
       "      <th>C</th>\n",
       "    </tr>\n",
       "  </thead>\n",
       "  <tbody>\n",
       "    <tr>\n",
       "      <th>2022-06-02</th>\n",
       "      <td>0.526383</td>\n",
       "      <td>-0.347309</td>\n",
       "    </tr>\n",
       "    <tr>\n",
       "      <th>2022-06-03</th>\n",
       "      <td>-2.484921</td>\n",
       "      <td>-0.153918</td>\n",
       "    </tr>\n",
       "    <tr>\n",
       "      <th>2022-06-05</th>\n",
       "      <td>-0.905480</td>\n",
       "      <td>0.254604</td>\n",
       "    </tr>\n",
       "  </tbody>\n",
       "</table>\n",
       "</div>"
      ],
      "text/plain": [
       "                   A         C\n",
       "2022-06-02  0.526383 -0.347309\n",
       "2022-06-03 -2.484921 -0.153918\n",
       "2022-06-05 -0.905480  0.254604"
      ]
     },
     "execution_count": 29,
     "metadata": {},
     "output_type": "execute_result"
    }
   ],
   "source": [
    "df.iloc[[1,2,4],[0,2]]"
   ]
  },
  {
   "cell_type": "code",
   "execution_count": 30,
   "metadata": {},
   "outputs": [
    {
     "data": {
      "text/html": [
       "<div>\n",
       "<style scoped>\n",
       "    .dataframe tbody tr th:only-of-type {\n",
       "        vertical-align: middle;\n",
       "    }\n",
       "\n",
       "    .dataframe tbody tr th {\n",
       "        vertical-align: top;\n",
       "    }\n",
       "\n",
       "    .dataframe thead th {\n",
       "        text-align: right;\n",
       "    }\n",
       "</style>\n",
       "<table border=\"1\" class=\"dataframe\">\n",
       "  <thead>\n",
       "    <tr style=\"text-align: right;\">\n",
       "      <th></th>\n",
       "      <th>B</th>\n",
       "      <th>C</th>\n",
       "    </tr>\n",
       "  </thead>\n",
       "  <tbody>\n",
       "    <tr>\n",
       "      <th>2022-06-02</th>\n",
       "      <td>-3.130227</td>\n",
       "      <td>-0.347309</td>\n",
       "    </tr>\n",
       "    <tr>\n",
       "      <th>2022-06-03</th>\n",
       "      <td>-0.767825</td>\n",
       "      <td>-0.153918</td>\n",
       "    </tr>\n",
       "  </tbody>\n",
       "</table>\n",
       "</div>"
      ],
      "text/plain": [
       "                   B         C\n",
       "2022-06-02 -3.130227 -0.347309\n",
       "2022-06-03 -0.767825 -0.153918"
      ]
     },
     "execution_count": 30,
     "metadata": {},
     "output_type": "execute_result"
    }
   ],
   "source": [
    "df.iloc[1:3,1:3]"
   ]
  },
  {
   "cell_type": "code",
   "execution_count": 31,
   "metadata": {},
   "outputs": [
    {
     "data": {
      "text/plain": [
       "-3.1302273684679567"
      ]
     },
     "execution_count": 31,
     "metadata": {},
     "output_type": "execute_result"
    }
   ],
   "source": [
    "df.iloc[1,1]"
   ]
  },
  {
   "cell_type": "code",
   "execution_count": 32,
   "metadata": {},
   "outputs": [
    {
     "data": {
      "text/plain": [
       "-3.1302273684679567"
      ]
     },
     "execution_count": 32,
     "metadata": {},
     "output_type": "execute_result"
    }
   ],
   "source": [
    "df.iat[1,1]     # 스칼라 값을 빠르게 얻는 방법입니다 (위의 방식과 동일합니다)."
   ]
  },
  {
   "cell_type": "code",
   "execution_count": 33,
   "metadata": {},
   "outputs": [],
   "source": [
    "# ? df.iat"
   ]
  },
  {
   "cell_type": "markdown",
   "metadata": {},
   "source": [
    "- Boolean Indexing"
   ]
  },
  {
   "cell_type": "code",
   "execution_count": 34,
   "metadata": {},
   "outputs": [
    {
     "data": {
      "text/html": [
       "<div>\n",
       "<style scoped>\n",
       "    .dataframe tbody tr th:only-of-type {\n",
       "        vertical-align: middle;\n",
       "    }\n",
       "\n",
       "    .dataframe tbody tr th {\n",
       "        vertical-align: top;\n",
       "    }\n",
       "\n",
       "    .dataframe thead th {\n",
       "        text-align: right;\n",
       "    }\n",
       "</style>\n",
       "<table border=\"1\" class=\"dataframe\">\n",
       "  <thead>\n",
       "    <tr style=\"text-align: right;\">\n",
       "      <th></th>\n",
       "      <th>A</th>\n",
       "      <th>B</th>\n",
       "      <th>C</th>\n",
       "      <th>D</th>\n",
       "    </tr>\n",
       "  </thead>\n",
       "  <tbody>\n",
       "    <tr>\n",
       "      <th>2022-06-01</th>\n",
       "      <td>-0.795554</td>\n",
       "      <td>-0.638544</td>\n",
       "      <td>-0.432497</td>\n",
       "      <td>-0.339563</td>\n",
       "    </tr>\n",
       "    <tr>\n",
       "      <th>2022-06-02</th>\n",
       "      <td>0.526383</td>\n",
       "      <td>-3.130227</td>\n",
       "      <td>-0.347309</td>\n",
       "      <td>1.203816</td>\n",
       "    </tr>\n",
       "    <tr>\n",
       "      <th>2022-06-03</th>\n",
       "      <td>-2.484921</td>\n",
       "      <td>-0.767825</td>\n",
       "      <td>-0.153918</td>\n",
       "      <td>0.858601</td>\n",
       "    </tr>\n",
       "    <tr>\n",
       "      <th>2022-06-04</th>\n",
       "      <td>0.918227</td>\n",
       "      <td>-0.280356</td>\n",
       "      <td>1.916277</td>\n",
       "      <td>-1.074678</td>\n",
       "    </tr>\n",
       "    <tr>\n",
       "      <th>2022-06-05</th>\n",
       "      <td>-0.905480</td>\n",
       "      <td>1.253570</td>\n",
       "      <td>0.254604</td>\n",
       "      <td>0.192972</td>\n",
       "    </tr>\n",
       "    <tr>\n",
       "      <th>2022-06-06</th>\n",
       "      <td>0.196703</td>\n",
       "      <td>0.285102</td>\n",
       "      <td>1.328384</td>\n",
       "      <td>-1.410239</td>\n",
       "    </tr>\n",
       "  </tbody>\n",
       "</table>\n",
       "</div>"
      ],
      "text/plain": [
       "                   A         B         C         D\n",
       "2022-06-01 -0.795554 -0.638544 -0.432497 -0.339563\n",
       "2022-06-02  0.526383 -3.130227 -0.347309  1.203816\n",
       "2022-06-03 -2.484921 -0.767825 -0.153918  0.858601\n",
       "2022-06-04  0.918227 -0.280356  1.916277 -1.074678\n",
       "2022-06-05 -0.905480  1.253570  0.254604  0.192972\n",
       "2022-06-06  0.196703  0.285102  1.328384 -1.410239"
      ]
     },
     "execution_count": 34,
     "metadata": {},
     "output_type": "execute_result"
    }
   ],
   "source": [
    "df"
   ]
  },
  {
   "cell_type": "code",
   "execution_count": 35,
   "metadata": {},
   "outputs": [
    {
     "data": {
      "text/html": [
       "<div>\n",
       "<style scoped>\n",
       "    .dataframe tbody tr th:only-of-type {\n",
       "        vertical-align: middle;\n",
       "    }\n",
       "\n",
       "    .dataframe tbody tr th {\n",
       "        vertical-align: top;\n",
       "    }\n",
       "\n",
       "    .dataframe thead th {\n",
       "        text-align: right;\n",
       "    }\n",
       "</style>\n",
       "<table border=\"1\" class=\"dataframe\">\n",
       "  <thead>\n",
       "    <tr style=\"text-align: right;\">\n",
       "      <th></th>\n",
       "      <th>A</th>\n",
       "      <th>B</th>\n",
       "      <th>C</th>\n",
       "      <th>D</th>\n",
       "    </tr>\n",
       "  </thead>\n",
       "  <tbody>\n",
       "    <tr>\n",
       "      <th>2022-06-02</th>\n",
       "      <td>0.526383</td>\n",
       "      <td>-3.130227</td>\n",
       "      <td>-0.347309</td>\n",
       "      <td>1.203816</td>\n",
       "    </tr>\n",
       "    <tr>\n",
       "      <th>2022-06-04</th>\n",
       "      <td>0.918227</td>\n",
       "      <td>-0.280356</td>\n",
       "      <td>1.916277</td>\n",
       "      <td>-1.074678</td>\n",
       "    </tr>\n",
       "    <tr>\n",
       "      <th>2022-06-06</th>\n",
       "      <td>0.196703</td>\n",
       "      <td>0.285102</td>\n",
       "      <td>1.328384</td>\n",
       "      <td>-1.410239</td>\n",
       "    </tr>\n",
       "  </tbody>\n",
       "</table>\n",
       "</div>"
      ],
      "text/plain": [
       "                   A         B         C         D\n",
       "2022-06-02  0.526383 -3.130227 -0.347309  1.203816\n",
       "2022-06-04  0.918227 -0.280356  1.916277 -1.074678\n",
       "2022-06-06  0.196703  0.285102  1.328384 -1.410239"
      ]
     },
     "execution_count": 35,
     "metadata": {},
     "output_type": "execute_result"
    }
   ],
   "source": [
    "df[df.A > 0]"
   ]
  },
  {
   "cell_type": "code",
   "execution_count": 36,
   "metadata": {},
   "outputs": [
    {
     "data": {
      "text/html": [
       "<div>\n",
       "<style scoped>\n",
       "    .dataframe tbody tr th:only-of-type {\n",
       "        vertical-align: middle;\n",
       "    }\n",
       "\n",
       "    .dataframe tbody tr th {\n",
       "        vertical-align: top;\n",
       "    }\n",
       "\n",
       "    .dataframe thead th {\n",
       "        text-align: right;\n",
       "    }\n",
       "</style>\n",
       "<table border=\"1\" class=\"dataframe\">\n",
       "  <thead>\n",
       "    <tr style=\"text-align: right;\">\n",
       "      <th></th>\n",
       "      <th>A</th>\n",
       "      <th>B</th>\n",
       "      <th>C</th>\n",
       "      <th>D</th>\n",
       "    </tr>\n",
       "  </thead>\n",
       "  <tbody>\n",
       "    <tr>\n",
       "      <th>2022-06-01</th>\n",
       "      <td>NaN</td>\n",
       "      <td>NaN</td>\n",
       "      <td>NaN</td>\n",
       "      <td>NaN</td>\n",
       "    </tr>\n",
       "    <tr>\n",
       "      <th>2022-06-02</th>\n",
       "      <td>0.526383</td>\n",
       "      <td>NaN</td>\n",
       "      <td>NaN</td>\n",
       "      <td>1.203816</td>\n",
       "    </tr>\n",
       "    <tr>\n",
       "      <th>2022-06-03</th>\n",
       "      <td>NaN</td>\n",
       "      <td>NaN</td>\n",
       "      <td>NaN</td>\n",
       "      <td>0.858601</td>\n",
       "    </tr>\n",
       "    <tr>\n",
       "      <th>2022-06-04</th>\n",
       "      <td>0.918227</td>\n",
       "      <td>NaN</td>\n",
       "      <td>1.916277</td>\n",
       "      <td>NaN</td>\n",
       "    </tr>\n",
       "    <tr>\n",
       "      <th>2022-06-05</th>\n",
       "      <td>NaN</td>\n",
       "      <td>1.253570</td>\n",
       "      <td>0.254604</td>\n",
       "      <td>0.192972</td>\n",
       "    </tr>\n",
       "    <tr>\n",
       "      <th>2022-06-06</th>\n",
       "      <td>0.196703</td>\n",
       "      <td>0.285102</td>\n",
       "      <td>1.328384</td>\n",
       "      <td>NaN</td>\n",
       "    </tr>\n",
       "  </tbody>\n",
       "</table>\n",
       "</div>"
      ],
      "text/plain": [
       "                   A         B         C         D\n",
       "2022-06-01       NaN       NaN       NaN       NaN\n",
       "2022-06-02  0.526383       NaN       NaN  1.203816\n",
       "2022-06-03       NaN       NaN       NaN  0.858601\n",
       "2022-06-04  0.918227       NaN  1.916277       NaN\n",
       "2022-06-05       NaN  1.253570  0.254604  0.192972\n",
       "2022-06-06  0.196703  0.285102  1.328384       NaN"
      ]
     },
     "execution_count": 36,
     "metadata": {},
     "output_type": "execute_result"
    }
   ],
   "source": [
    "df[df > 0]"
   ]
  },
  {
   "cell_type": "code",
   "execution_count": 37,
   "metadata": {},
   "outputs": [
    {
     "data": {
      "text/html": [
       "<div>\n",
       "<style scoped>\n",
       "    .dataframe tbody tr th:only-of-type {\n",
       "        vertical-align: middle;\n",
       "    }\n",
       "\n",
       "    .dataframe tbody tr th {\n",
       "        vertical-align: top;\n",
       "    }\n",
       "\n",
       "    .dataframe thead th {\n",
       "        text-align: right;\n",
       "    }\n",
       "</style>\n",
       "<table border=\"1\" class=\"dataframe\">\n",
       "  <thead>\n",
       "    <tr style=\"text-align: right;\">\n",
       "      <th></th>\n",
       "      <th>A</th>\n",
       "      <th>B</th>\n",
       "      <th>C</th>\n",
       "      <th>D</th>\n",
       "    </tr>\n",
       "  </thead>\n",
       "  <tbody>\n",
       "    <tr>\n",
       "      <th>2022-06-01</th>\n",
       "      <td>-0.795554</td>\n",
       "      <td>-0.638544</td>\n",
       "      <td>-0.432497</td>\n",
       "      <td>-0.339563</td>\n",
       "    </tr>\n",
       "    <tr>\n",
       "      <th>2022-06-02</th>\n",
       "      <td>0.526383</td>\n",
       "      <td>-3.130227</td>\n",
       "      <td>-0.347309</td>\n",
       "      <td>1.203816</td>\n",
       "    </tr>\n",
       "    <tr>\n",
       "      <th>2022-06-03</th>\n",
       "      <td>-2.484921</td>\n",
       "      <td>-0.767825</td>\n",
       "      <td>-0.153918</td>\n",
       "      <td>0.858601</td>\n",
       "    </tr>\n",
       "    <tr>\n",
       "      <th>2022-06-04</th>\n",
       "      <td>0.918227</td>\n",
       "      <td>-0.280356</td>\n",
       "      <td>1.916277</td>\n",
       "      <td>-1.074678</td>\n",
       "    </tr>\n",
       "    <tr>\n",
       "      <th>2022-06-05</th>\n",
       "      <td>-0.905480</td>\n",
       "      <td>1.253570</td>\n",
       "      <td>0.254604</td>\n",
       "      <td>0.192972</td>\n",
       "    </tr>\n",
       "    <tr>\n",
       "      <th>2022-06-06</th>\n",
       "      <td>0.196703</td>\n",
       "      <td>0.285102</td>\n",
       "      <td>1.328384</td>\n",
       "      <td>-1.410239</td>\n",
       "    </tr>\n",
       "  </tbody>\n",
       "</table>\n",
       "</div>"
      ],
      "text/plain": [
       "                   A         B         C         D\n",
       "2022-06-01 -0.795554 -0.638544 -0.432497 -0.339563\n",
       "2022-06-02  0.526383 -3.130227 -0.347309  1.203816\n",
       "2022-06-03 -2.484921 -0.767825 -0.153918  0.858601\n",
       "2022-06-04  0.918227 -0.280356  1.916277 -1.074678\n",
       "2022-06-05 -0.905480  1.253570  0.254604  0.192972\n",
       "2022-06-06  0.196703  0.285102  1.328384 -1.410239"
      ]
     },
     "execution_count": 37,
     "metadata": {},
     "output_type": "execute_result"
    }
   ],
   "source": [
    "df2 = df.copy()\n",
    "df2"
   ]
  },
  {
   "cell_type": "code",
   "execution_count": 38,
   "metadata": {},
   "outputs": [],
   "source": [
    "df2['E'] = ['one', 'one', 'two', 'three', 'four', 'three']"
   ]
  },
  {
   "cell_type": "code",
   "execution_count": 39,
   "metadata": {},
   "outputs": [
    {
     "data": {
      "text/html": [
       "<div>\n",
       "<style scoped>\n",
       "    .dataframe tbody tr th:only-of-type {\n",
       "        vertical-align: middle;\n",
       "    }\n",
       "\n",
       "    .dataframe tbody tr th {\n",
       "        vertical-align: top;\n",
       "    }\n",
       "\n",
       "    .dataframe thead th {\n",
       "        text-align: right;\n",
       "    }\n",
       "</style>\n",
       "<table border=\"1\" class=\"dataframe\">\n",
       "  <thead>\n",
       "    <tr style=\"text-align: right;\">\n",
       "      <th></th>\n",
       "      <th>A</th>\n",
       "      <th>B</th>\n",
       "      <th>C</th>\n",
       "      <th>D</th>\n",
       "      <th>E</th>\n",
       "    </tr>\n",
       "  </thead>\n",
       "  <tbody>\n",
       "    <tr>\n",
       "      <th>2022-06-01</th>\n",
       "      <td>-0.795554</td>\n",
       "      <td>-0.638544</td>\n",
       "      <td>-0.432497</td>\n",
       "      <td>-0.339563</td>\n",
       "      <td>one</td>\n",
       "    </tr>\n",
       "    <tr>\n",
       "      <th>2022-06-02</th>\n",
       "      <td>0.526383</td>\n",
       "      <td>-3.130227</td>\n",
       "      <td>-0.347309</td>\n",
       "      <td>1.203816</td>\n",
       "      <td>one</td>\n",
       "    </tr>\n",
       "    <tr>\n",
       "      <th>2022-06-03</th>\n",
       "      <td>-2.484921</td>\n",
       "      <td>-0.767825</td>\n",
       "      <td>-0.153918</td>\n",
       "      <td>0.858601</td>\n",
       "      <td>two</td>\n",
       "    </tr>\n",
       "    <tr>\n",
       "      <th>2022-06-04</th>\n",
       "      <td>0.918227</td>\n",
       "      <td>-0.280356</td>\n",
       "      <td>1.916277</td>\n",
       "      <td>-1.074678</td>\n",
       "      <td>three</td>\n",
       "    </tr>\n",
       "    <tr>\n",
       "      <th>2022-06-05</th>\n",
       "      <td>-0.905480</td>\n",
       "      <td>1.253570</td>\n",
       "      <td>0.254604</td>\n",
       "      <td>0.192972</td>\n",
       "      <td>four</td>\n",
       "    </tr>\n",
       "    <tr>\n",
       "      <th>2022-06-06</th>\n",
       "      <td>0.196703</td>\n",
       "      <td>0.285102</td>\n",
       "      <td>1.328384</td>\n",
       "      <td>-1.410239</td>\n",
       "      <td>three</td>\n",
       "    </tr>\n",
       "  </tbody>\n",
       "</table>\n",
       "</div>"
      ],
      "text/plain": [
       "                   A         B         C         D      E\n",
       "2022-06-01 -0.795554 -0.638544 -0.432497 -0.339563    one\n",
       "2022-06-02  0.526383 -3.130227 -0.347309  1.203816    one\n",
       "2022-06-03 -2.484921 -0.767825 -0.153918  0.858601    two\n",
       "2022-06-04  0.918227 -0.280356  1.916277 -1.074678  three\n",
       "2022-06-05 -0.905480  1.253570  0.254604  0.192972   four\n",
       "2022-06-06  0.196703  0.285102  1.328384 -1.410239  three"
      ]
     },
     "execution_count": 39,
     "metadata": {},
     "output_type": "execute_result"
    }
   ],
   "source": [
    "df2"
   ]
  },
  {
   "cell_type": "code",
   "execution_count": 40,
   "metadata": {},
   "outputs": [
    {
     "data": {
      "text/html": [
       "<div>\n",
       "<style scoped>\n",
       "    .dataframe tbody tr th:only-of-type {\n",
       "        vertical-align: middle;\n",
       "    }\n",
       "\n",
       "    .dataframe tbody tr th {\n",
       "        vertical-align: top;\n",
       "    }\n",
       "\n",
       "    .dataframe thead th {\n",
       "        text-align: right;\n",
       "    }\n",
       "</style>\n",
       "<table border=\"1\" class=\"dataframe\">\n",
       "  <thead>\n",
       "    <tr style=\"text-align: right;\">\n",
       "      <th></th>\n",
       "      <th>A</th>\n",
       "      <th>B</th>\n",
       "      <th>C</th>\n",
       "      <th>D</th>\n",
       "      <th>E</th>\n",
       "    </tr>\n",
       "  </thead>\n",
       "  <tbody>\n",
       "    <tr>\n",
       "      <th>2022-06-03</th>\n",
       "      <td>-2.484921</td>\n",
       "      <td>-0.767825</td>\n",
       "      <td>-0.153918</td>\n",
       "      <td>0.858601</td>\n",
       "      <td>two</td>\n",
       "    </tr>\n",
       "    <tr>\n",
       "      <th>2022-06-05</th>\n",
       "      <td>-0.905480</td>\n",
       "      <td>1.253570</td>\n",
       "      <td>0.254604</td>\n",
       "      <td>0.192972</td>\n",
       "      <td>four</td>\n",
       "    </tr>\n",
       "  </tbody>\n",
       "</table>\n",
       "</div>"
      ],
      "text/plain": [
       "                   A         B         C         D     E\n",
       "2022-06-03 -2.484921 -0.767825 -0.153918  0.858601   two\n",
       "2022-06-05 -0.905480  1.253570  0.254604  0.192972  four"
      ]
     },
     "execution_count": 40,
     "metadata": {},
     "output_type": "execute_result"
    }
   ],
   "source": [
    "df2[df2['E'].isin(['two','four'])]"
   ]
  },
  {
   "cell_type": "markdown",
   "metadata": {},
   "source": [
    "- Setting (설정)"
   ]
  },
  {
   "cell_type": "code",
   "execution_count": 41,
   "metadata": {},
   "outputs": [
    {
     "data": {
      "text/plain": [
       "2022-06-01    1\n",
       "2022-06-02    2\n",
       "2022-06-03    3\n",
       "2022-06-04    4\n",
       "2022-06-05    5\n",
       "2022-06-06    6\n",
       "Freq: D, dtype: int64"
      ]
     },
     "execution_count": 41,
     "metadata": {},
     "output_type": "execute_result"
    }
   ],
   "source": [
    "# s1 = pd.Series([1,2,3,4,5,6], index=pd.date_range('20220601', periods=6))\n",
    "s1 = pd.Series(range(1,7), index=pd.date_range('20220601', periods=6))\n",
    "s1"
   ]
  },
  {
   "cell_type": "code",
   "execution_count": 42,
   "metadata": {},
   "outputs": [],
   "source": [
    "df['F'] = s1"
   ]
  },
  {
   "cell_type": "code",
   "execution_count": 43,
   "metadata": {},
   "outputs": [
    {
     "data": {
      "text/html": [
       "<div>\n",
       "<style scoped>\n",
       "    .dataframe tbody tr th:only-of-type {\n",
       "        vertical-align: middle;\n",
       "    }\n",
       "\n",
       "    .dataframe tbody tr th {\n",
       "        vertical-align: top;\n",
       "    }\n",
       "\n",
       "    .dataframe thead th {\n",
       "        text-align: right;\n",
       "    }\n",
       "</style>\n",
       "<table border=\"1\" class=\"dataframe\">\n",
       "  <thead>\n",
       "    <tr style=\"text-align: right;\">\n",
       "      <th></th>\n",
       "      <th>A</th>\n",
       "      <th>B</th>\n",
       "      <th>C</th>\n",
       "      <th>D</th>\n",
       "      <th>F</th>\n",
       "    </tr>\n",
       "  </thead>\n",
       "  <tbody>\n",
       "    <tr>\n",
       "      <th>2022-06-01</th>\n",
       "      <td>-0.795554</td>\n",
       "      <td>-0.638544</td>\n",
       "      <td>-0.432497</td>\n",
       "      <td>-0.339563</td>\n",
       "      <td>1</td>\n",
       "    </tr>\n",
       "    <tr>\n",
       "      <th>2022-06-02</th>\n",
       "      <td>0.526383</td>\n",
       "      <td>-3.130227</td>\n",
       "      <td>-0.347309</td>\n",
       "      <td>1.203816</td>\n",
       "      <td>2</td>\n",
       "    </tr>\n",
       "    <tr>\n",
       "      <th>2022-06-03</th>\n",
       "      <td>-2.484921</td>\n",
       "      <td>-0.767825</td>\n",
       "      <td>-0.153918</td>\n",
       "      <td>0.858601</td>\n",
       "      <td>3</td>\n",
       "    </tr>\n",
       "    <tr>\n",
       "      <th>2022-06-04</th>\n",
       "      <td>0.918227</td>\n",
       "      <td>-0.280356</td>\n",
       "      <td>1.916277</td>\n",
       "      <td>-1.074678</td>\n",
       "      <td>4</td>\n",
       "    </tr>\n",
       "    <tr>\n",
       "      <th>2022-06-05</th>\n",
       "      <td>-0.905480</td>\n",
       "      <td>1.253570</td>\n",
       "      <td>0.254604</td>\n",
       "      <td>0.192972</td>\n",
       "      <td>5</td>\n",
       "    </tr>\n",
       "    <tr>\n",
       "      <th>2022-06-06</th>\n",
       "      <td>0.196703</td>\n",
       "      <td>0.285102</td>\n",
       "      <td>1.328384</td>\n",
       "      <td>-1.410239</td>\n",
       "      <td>6</td>\n",
       "    </tr>\n",
       "  </tbody>\n",
       "</table>\n",
       "</div>"
      ],
      "text/plain": [
       "                   A         B         C         D  F\n",
       "2022-06-01 -0.795554 -0.638544 -0.432497 -0.339563  1\n",
       "2022-06-02  0.526383 -3.130227 -0.347309  1.203816  2\n",
       "2022-06-03 -2.484921 -0.767825 -0.153918  0.858601  3\n",
       "2022-06-04  0.918227 -0.280356  1.916277 -1.074678  4\n",
       "2022-06-05 -0.905480  1.253570  0.254604  0.192972  5\n",
       "2022-06-06  0.196703  0.285102  1.328384 -1.410239  6"
      ]
     },
     "execution_count": 43,
     "metadata": {},
     "output_type": "execute_result"
    }
   ],
   "source": [
    "df"
   ]
  },
  {
   "cell_type": "code",
   "execution_count": 44,
   "metadata": {},
   "outputs": [
    {
     "data": {
      "text/plain": [
       "Timestamp('2022-06-01 00:00:00', freq='D')"
      ]
     },
     "execution_count": 44,
     "metadata": {},
     "output_type": "execute_result"
    }
   ],
   "source": [
    "dates[0]"
   ]
  },
  {
   "cell_type": "code",
   "execution_count": 45,
   "metadata": {},
   "outputs": [
    {
     "data": {
      "text/html": [
       "<div>\n",
       "<style scoped>\n",
       "    .dataframe tbody tr th:only-of-type {\n",
       "        vertical-align: middle;\n",
       "    }\n",
       "\n",
       "    .dataframe tbody tr th {\n",
       "        vertical-align: top;\n",
       "    }\n",
       "\n",
       "    .dataframe thead th {\n",
       "        text-align: right;\n",
       "    }\n",
       "</style>\n",
       "<table border=\"1\" class=\"dataframe\">\n",
       "  <thead>\n",
       "    <tr style=\"text-align: right;\">\n",
       "      <th></th>\n",
       "      <th>A</th>\n",
       "      <th>B</th>\n",
       "      <th>C</th>\n",
       "      <th>D</th>\n",
       "      <th>F</th>\n",
       "    </tr>\n",
       "  </thead>\n",
       "  <tbody>\n",
       "    <tr>\n",
       "      <th>2022-06-01</th>\n",
       "      <td>0.000000</td>\n",
       "      <td>-0.638544</td>\n",
       "      <td>-0.432497</td>\n",
       "      <td>-0.339563</td>\n",
       "      <td>1</td>\n",
       "    </tr>\n",
       "    <tr>\n",
       "      <th>2022-06-02</th>\n",
       "      <td>0.526383</td>\n",
       "      <td>-3.130227</td>\n",
       "      <td>-0.347309</td>\n",
       "      <td>1.203816</td>\n",
       "      <td>2</td>\n",
       "    </tr>\n",
       "    <tr>\n",
       "      <th>2022-06-03</th>\n",
       "      <td>-2.484921</td>\n",
       "      <td>-0.767825</td>\n",
       "      <td>-0.153918</td>\n",
       "      <td>0.858601</td>\n",
       "      <td>3</td>\n",
       "    </tr>\n",
       "    <tr>\n",
       "      <th>2022-06-04</th>\n",
       "      <td>0.918227</td>\n",
       "      <td>-0.280356</td>\n",
       "      <td>1.916277</td>\n",
       "      <td>-1.074678</td>\n",
       "      <td>4</td>\n",
       "    </tr>\n",
       "    <tr>\n",
       "      <th>2022-06-05</th>\n",
       "      <td>-0.905480</td>\n",
       "      <td>1.253570</td>\n",
       "      <td>0.254604</td>\n",
       "      <td>0.192972</td>\n",
       "      <td>5</td>\n",
       "    </tr>\n",
       "    <tr>\n",
       "      <th>2022-06-06</th>\n",
       "      <td>0.196703</td>\n",
       "      <td>0.285102</td>\n",
       "      <td>1.328384</td>\n",
       "      <td>-1.410239</td>\n",
       "      <td>6</td>\n",
       "    </tr>\n",
       "  </tbody>\n",
       "</table>\n",
       "</div>"
      ],
      "text/plain": [
       "                   A         B         C         D  F\n",
       "2022-06-01  0.000000 -0.638544 -0.432497 -0.339563  1\n",
       "2022-06-02  0.526383 -3.130227 -0.347309  1.203816  2\n",
       "2022-06-03 -2.484921 -0.767825 -0.153918  0.858601  3\n",
       "2022-06-04  0.918227 -0.280356  1.916277 -1.074678  4\n",
       "2022-06-05 -0.905480  1.253570  0.254604  0.192972  5\n",
       "2022-06-06  0.196703  0.285102  1.328384 -1.410239  6"
      ]
     },
     "execution_count": 45,
     "metadata": {},
     "output_type": "execute_result"
    }
   ],
   "source": [
    "# 라벨에 의해 값 설정\n",
    "df.at[dates[0],'A'] = 0\n",
    "df"
   ]
  },
  {
   "cell_type": "code",
   "execution_count": 46,
   "metadata": {},
   "outputs": [
    {
     "data": {
      "text/html": [
       "<div>\n",
       "<style scoped>\n",
       "    .dataframe tbody tr th:only-of-type {\n",
       "        vertical-align: middle;\n",
       "    }\n",
       "\n",
       "    .dataframe tbody tr th {\n",
       "        vertical-align: top;\n",
       "    }\n",
       "\n",
       "    .dataframe thead th {\n",
       "        text-align: right;\n",
       "    }\n",
       "</style>\n",
       "<table border=\"1\" class=\"dataframe\">\n",
       "  <thead>\n",
       "    <tr style=\"text-align: right;\">\n",
       "      <th></th>\n",
       "      <th>A</th>\n",
       "      <th>B</th>\n",
       "      <th>C</th>\n",
       "      <th>D</th>\n",
       "      <th>F</th>\n",
       "    </tr>\n",
       "  </thead>\n",
       "  <tbody>\n",
       "    <tr>\n",
       "      <th>2022-06-01</th>\n",
       "      <td>0.000000</td>\n",
       "      <td>0.000000</td>\n",
       "      <td>-0.432497</td>\n",
       "      <td>-0.339563</td>\n",
       "      <td>1</td>\n",
       "    </tr>\n",
       "    <tr>\n",
       "      <th>2022-06-02</th>\n",
       "      <td>0.526383</td>\n",
       "      <td>-3.130227</td>\n",
       "      <td>-0.347309</td>\n",
       "      <td>1.203816</td>\n",
       "      <td>2</td>\n",
       "    </tr>\n",
       "    <tr>\n",
       "      <th>2022-06-03</th>\n",
       "      <td>-2.484921</td>\n",
       "      <td>-0.767825</td>\n",
       "      <td>-0.153918</td>\n",
       "      <td>0.858601</td>\n",
       "      <td>3</td>\n",
       "    </tr>\n",
       "    <tr>\n",
       "      <th>2022-06-04</th>\n",
       "      <td>0.918227</td>\n",
       "      <td>-0.280356</td>\n",
       "      <td>1.916277</td>\n",
       "      <td>-1.074678</td>\n",
       "      <td>4</td>\n",
       "    </tr>\n",
       "    <tr>\n",
       "      <th>2022-06-05</th>\n",
       "      <td>-0.905480</td>\n",
       "      <td>1.253570</td>\n",
       "      <td>0.254604</td>\n",
       "      <td>0.192972</td>\n",
       "      <td>5</td>\n",
       "    </tr>\n",
       "    <tr>\n",
       "      <th>2022-06-06</th>\n",
       "      <td>0.196703</td>\n",
       "      <td>0.285102</td>\n",
       "      <td>1.328384</td>\n",
       "      <td>-1.410239</td>\n",
       "      <td>6</td>\n",
       "    </tr>\n",
       "  </tbody>\n",
       "</table>\n",
       "</div>"
      ],
      "text/plain": [
       "                   A         B         C         D  F\n",
       "2022-06-01  0.000000  0.000000 -0.432497 -0.339563  1\n",
       "2022-06-02  0.526383 -3.130227 -0.347309  1.203816  2\n",
       "2022-06-03 -2.484921 -0.767825 -0.153918  0.858601  3\n",
       "2022-06-04  0.918227 -0.280356  1.916277 -1.074678  4\n",
       "2022-06-05 -0.905480  1.253570  0.254604  0.192972  5\n",
       "2022-06-06  0.196703  0.285102  1.328384 -1.410239  6"
      ]
     },
     "execution_count": 46,
     "metadata": {},
     "output_type": "execute_result"
    }
   ],
   "source": [
    "# 위치에 의해 값 설정\n",
    "df.iat[0,1] = 0\n",
    "df"
   ]
  },
  {
   "cell_type": "code",
   "execution_count": 47,
   "metadata": {},
   "outputs": [
    {
     "data": {
      "text/html": [
       "<div>\n",
       "<style scoped>\n",
       "    .dataframe tbody tr th:only-of-type {\n",
       "        vertical-align: middle;\n",
       "    }\n",
       "\n",
       "    .dataframe tbody tr th {\n",
       "        vertical-align: top;\n",
       "    }\n",
       "\n",
       "    .dataframe thead th {\n",
       "        text-align: right;\n",
       "    }\n",
       "</style>\n",
       "<table border=\"1\" class=\"dataframe\">\n",
       "  <thead>\n",
       "    <tr style=\"text-align: right;\">\n",
       "      <th></th>\n",
       "      <th>A</th>\n",
       "      <th>B</th>\n",
       "      <th>C</th>\n",
       "      <th>D</th>\n",
       "      <th>F</th>\n",
       "    </tr>\n",
       "  </thead>\n",
       "  <tbody>\n",
       "    <tr>\n",
       "      <th>2022-06-01</th>\n",
       "      <td>0.000000</td>\n",
       "      <td>0.000000</td>\n",
       "      <td>-0.432497</td>\n",
       "      <td>5</td>\n",
       "      <td>1</td>\n",
       "    </tr>\n",
       "    <tr>\n",
       "      <th>2022-06-02</th>\n",
       "      <td>0.526383</td>\n",
       "      <td>-3.130227</td>\n",
       "      <td>-0.347309</td>\n",
       "      <td>5</td>\n",
       "      <td>2</td>\n",
       "    </tr>\n",
       "    <tr>\n",
       "      <th>2022-06-03</th>\n",
       "      <td>-2.484921</td>\n",
       "      <td>-0.767825</td>\n",
       "      <td>-0.153918</td>\n",
       "      <td>5</td>\n",
       "      <td>3</td>\n",
       "    </tr>\n",
       "    <tr>\n",
       "      <th>2022-06-04</th>\n",
       "      <td>0.918227</td>\n",
       "      <td>-0.280356</td>\n",
       "      <td>1.916277</td>\n",
       "      <td>5</td>\n",
       "      <td>4</td>\n",
       "    </tr>\n",
       "    <tr>\n",
       "      <th>2022-06-05</th>\n",
       "      <td>-0.905480</td>\n",
       "      <td>1.253570</td>\n",
       "      <td>0.254604</td>\n",
       "      <td>5</td>\n",
       "      <td>5</td>\n",
       "    </tr>\n",
       "    <tr>\n",
       "      <th>2022-06-06</th>\n",
       "      <td>0.196703</td>\n",
       "      <td>0.285102</td>\n",
       "      <td>1.328384</td>\n",
       "      <td>5</td>\n",
       "      <td>6</td>\n",
       "    </tr>\n",
       "  </tbody>\n",
       "</table>\n",
       "</div>"
      ],
      "text/plain": [
       "                   A         B         C  D  F\n",
       "2022-06-01  0.000000  0.000000 -0.432497  5  1\n",
       "2022-06-02  0.526383 -3.130227 -0.347309  5  2\n",
       "2022-06-03 -2.484921 -0.767825 -0.153918  5  3\n",
       "2022-06-04  0.918227 -0.280356  1.916277  5  4\n",
       "2022-06-05 -0.905480  1.253570  0.254604  5  5\n",
       "2022-06-06  0.196703  0.285102  1.328384  5  6"
      ]
     },
     "execution_count": 47,
     "metadata": {},
     "output_type": "execute_result"
    }
   ],
   "source": [
    "# Numpy 배열을 사용한 할당에 의해 값을 설정\n",
    "df.loc[:,'D'] = np.array([5] * len(df))\n",
    "df"
   ]
  },
  {
   "cell_type": "code",
   "execution_count": 48,
   "metadata": {},
   "outputs": [
    {
     "data": {
      "text/html": [
       "<div>\n",
       "<style scoped>\n",
       "    .dataframe tbody tr th:only-of-type {\n",
       "        vertical-align: middle;\n",
       "    }\n",
       "\n",
       "    .dataframe tbody tr th {\n",
       "        vertical-align: top;\n",
       "    }\n",
       "\n",
       "    .dataframe thead th {\n",
       "        text-align: right;\n",
       "    }\n",
       "</style>\n",
       "<table border=\"1\" class=\"dataframe\">\n",
       "  <thead>\n",
       "    <tr style=\"text-align: right;\">\n",
       "      <th></th>\n",
       "      <th>A</th>\n",
       "      <th>B</th>\n",
       "      <th>C</th>\n",
       "      <th>D</th>\n",
       "      <th>F</th>\n",
       "    </tr>\n",
       "  </thead>\n",
       "  <tbody>\n",
       "    <tr>\n",
       "      <th>2022-06-01</th>\n",
       "      <td>0.000000</td>\n",
       "      <td>0.000000</td>\n",
       "      <td>-0.432497</td>\n",
       "      <td>5</td>\n",
       "      <td>1</td>\n",
       "    </tr>\n",
       "    <tr>\n",
       "      <th>2022-06-02</th>\n",
       "      <td>0.526383</td>\n",
       "      <td>-3.130227</td>\n",
       "      <td>-0.347309</td>\n",
       "      <td>5</td>\n",
       "      <td>2</td>\n",
       "    </tr>\n",
       "    <tr>\n",
       "      <th>2022-06-03</th>\n",
       "      <td>-2.484921</td>\n",
       "      <td>-0.767825</td>\n",
       "      <td>-0.153918</td>\n",
       "      <td>5</td>\n",
       "      <td>3</td>\n",
       "    </tr>\n",
       "    <tr>\n",
       "      <th>2022-06-04</th>\n",
       "      <td>0.918227</td>\n",
       "      <td>-0.280356</td>\n",
       "      <td>1.916277</td>\n",
       "      <td>5</td>\n",
       "      <td>4</td>\n",
       "    </tr>\n",
       "    <tr>\n",
       "      <th>2022-06-05</th>\n",
       "      <td>-0.905480</td>\n",
       "      <td>1.253570</td>\n",
       "      <td>0.254604</td>\n",
       "      <td>5</td>\n",
       "      <td>5</td>\n",
       "    </tr>\n",
       "    <tr>\n",
       "      <th>2022-06-06</th>\n",
       "      <td>0.196703</td>\n",
       "      <td>0.285102</td>\n",
       "      <td>1.328384</td>\n",
       "      <td>5</td>\n",
       "      <td>6</td>\n",
       "    </tr>\n",
       "  </tbody>\n",
       "</table>\n",
       "</div>"
      ],
      "text/plain": [
       "                   A         B         C  D  F\n",
       "2022-06-01  0.000000  0.000000 -0.432497  5  1\n",
       "2022-06-02  0.526383 -3.130227 -0.347309  5  2\n",
       "2022-06-03 -2.484921 -0.767825 -0.153918  5  3\n",
       "2022-06-04  0.918227 -0.280356  1.916277  5  4\n",
       "2022-06-05 -0.905480  1.253570  0.254604  5  5\n",
       "2022-06-06  0.196703  0.285102  1.328384  5  6"
      ]
     },
     "execution_count": 48,
     "metadata": {},
     "output_type": "execute_result"
    }
   ],
   "source": [
    "# where 연산을 설정\n",
    "df2 = df.copy()\n",
    "df2"
   ]
  },
  {
   "cell_type": "code",
   "execution_count": 49,
   "metadata": {},
   "outputs": [
    {
     "data": {
      "text/html": [
       "<div>\n",
       "<style scoped>\n",
       "    .dataframe tbody tr th:only-of-type {\n",
       "        vertical-align: middle;\n",
       "    }\n",
       "\n",
       "    .dataframe tbody tr th {\n",
       "        vertical-align: top;\n",
       "    }\n",
       "\n",
       "    .dataframe thead th {\n",
       "        text-align: right;\n",
       "    }\n",
       "</style>\n",
       "<table border=\"1\" class=\"dataframe\">\n",
       "  <thead>\n",
       "    <tr style=\"text-align: right;\">\n",
       "      <th></th>\n",
       "      <th>A</th>\n",
       "      <th>B</th>\n",
       "      <th>C</th>\n",
       "      <th>D</th>\n",
       "      <th>F</th>\n",
       "    </tr>\n",
       "  </thead>\n",
       "  <tbody>\n",
       "    <tr>\n",
       "      <th>2022-06-01</th>\n",
       "      <td>0.000000</td>\n",
       "      <td>0.000000</td>\n",
       "      <td>-0.432497</td>\n",
       "      <td>-5</td>\n",
       "      <td>-1</td>\n",
       "    </tr>\n",
       "    <tr>\n",
       "      <th>2022-06-02</th>\n",
       "      <td>-0.526383</td>\n",
       "      <td>-3.130227</td>\n",
       "      <td>-0.347309</td>\n",
       "      <td>-5</td>\n",
       "      <td>-2</td>\n",
       "    </tr>\n",
       "    <tr>\n",
       "      <th>2022-06-03</th>\n",
       "      <td>-2.484921</td>\n",
       "      <td>-0.767825</td>\n",
       "      <td>-0.153918</td>\n",
       "      <td>-5</td>\n",
       "      <td>-3</td>\n",
       "    </tr>\n",
       "    <tr>\n",
       "      <th>2022-06-04</th>\n",
       "      <td>-0.918227</td>\n",
       "      <td>-0.280356</td>\n",
       "      <td>-1.916277</td>\n",
       "      <td>-5</td>\n",
       "      <td>-4</td>\n",
       "    </tr>\n",
       "    <tr>\n",
       "      <th>2022-06-05</th>\n",
       "      <td>-0.905480</td>\n",
       "      <td>-1.253570</td>\n",
       "      <td>-0.254604</td>\n",
       "      <td>-5</td>\n",
       "      <td>-5</td>\n",
       "    </tr>\n",
       "    <tr>\n",
       "      <th>2022-06-06</th>\n",
       "      <td>-0.196703</td>\n",
       "      <td>-0.285102</td>\n",
       "      <td>-1.328384</td>\n",
       "      <td>-5</td>\n",
       "      <td>-6</td>\n",
       "    </tr>\n",
       "  </tbody>\n",
       "</table>\n",
       "</div>"
      ],
      "text/plain": [
       "                   A         B         C  D  F\n",
       "2022-06-01  0.000000  0.000000 -0.432497 -5 -1\n",
       "2022-06-02 -0.526383 -3.130227 -0.347309 -5 -2\n",
       "2022-06-03 -2.484921 -0.767825 -0.153918 -5 -3\n",
       "2022-06-04 -0.918227 -0.280356 -1.916277 -5 -4\n",
       "2022-06-05 -0.905480 -1.253570 -0.254604 -5 -5\n",
       "2022-06-06 -0.196703 -0.285102 -1.328384 -5 -6"
      ]
     },
     "execution_count": 49,
     "metadata": {},
     "output_type": "execute_result"
    }
   ],
   "source": [
    "df2[df2 > 0] = -df2\n",
    "df2"
   ]
  },
  {
   "cell_type": "code",
   "execution_count": null,
   "metadata": {},
   "outputs": [],
   "source": []
  },
  {
   "cell_type": "markdown",
   "metadata": {},
   "source": [
    "## 4. Missing Data (결측치)"
   ]
  },
  {
   "cell_type": "markdown",
   "metadata": {},
   "source": [
    "> - Pandas는 결측치를 표현하기 위해 주로 np.nan 값을 사용합니다. \n",
    "<br/>이 방법은 기본 설정값이지만 계산에는 포함되지 않습니다. \n",
    "<br/>Missing data section을 참조\n",
    "> - Reindexing으로 지정된 축 상의 인덱스를 변경 / 추가 / 삭제할 수 있습니다. \n",
    "<br/>Reindexing은 데이터의 복사본을 반환합니다."
   ]
  },
  {
   "cell_type": "code",
   "execution_count": 50,
   "metadata": {},
   "outputs": [
    {
     "data": {
      "text/html": [
       "<div>\n",
       "<style scoped>\n",
       "    .dataframe tbody tr th:only-of-type {\n",
       "        vertical-align: middle;\n",
       "    }\n",
       "\n",
       "    .dataframe tbody tr th {\n",
       "        vertical-align: top;\n",
       "    }\n",
       "\n",
       "    .dataframe thead th {\n",
       "        text-align: right;\n",
       "    }\n",
       "</style>\n",
       "<table border=\"1\" class=\"dataframe\">\n",
       "  <thead>\n",
       "    <tr style=\"text-align: right;\">\n",
       "      <th></th>\n",
       "      <th>A</th>\n",
       "      <th>B</th>\n",
       "      <th>C</th>\n",
       "      <th>D</th>\n",
       "      <th>F</th>\n",
       "    </tr>\n",
       "  </thead>\n",
       "  <tbody>\n",
       "    <tr>\n",
       "      <th>2022-06-01</th>\n",
       "      <td>0.000000</td>\n",
       "      <td>0.000000</td>\n",
       "      <td>-0.432497</td>\n",
       "      <td>5</td>\n",
       "      <td>1</td>\n",
       "    </tr>\n",
       "    <tr>\n",
       "      <th>2022-06-02</th>\n",
       "      <td>0.526383</td>\n",
       "      <td>-3.130227</td>\n",
       "      <td>-0.347309</td>\n",
       "      <td>5</td>\n",
       "      <td>2</td>\n",
       "    </tr>\n",
       "    <tr>\n",
       "      <th>2022-06-03</th>\n",
       "      <td>-2.484921</td>\n",
       "      <td>-0.767825</td>\n",
       "      <td>-0.153918</td>\n",
       "      <td>5</td>\n",
       "      <td>3</td>\n",
       "    </tr>\n",
       "    <tr>\n",
       "      <th>2022-06-04</th>\n",
       "      <td>0.918227</td>\n",
       "      <td>-0.280356</td>\n",
       "      <td>1.916277</td>\n",
       "      <td>5</td>\n",
       "      <td>4</td>\n",
       "    </tr>\n",
       "    <tr>\n",
       "      <th>2022-06-05</th>\n",
       "      <td>-0.905480</td>\n",
       "      <td>1.253570</td>\n",
       "      <td>0.254604</td>\n",
       "      <td>5</td>\n",
       "      <td>5</td>\n",
       "    </tr>\n",
       "    <tr>\n",
       "      <th>2022-06-06</th>\n",
       "      <td>0.196703</td>\n",
       "      <td>0.285102</td>\n",
       "      <td>1.328384</td>\n",
       "      <td>5</td>\n",
       "      <td>6</td>\n",
       "    </tr>\n",
       "  </tbody>\n",
       "</table>\n",
       "</div>"
      ],
      "text/plain": [
       "                   A         B         C  D  F\n",
       "2022-06-01  0.000000  0.000000 -0.432497  5  1\n",
       "2022-06-02  0.526383 -3.130227 -0.347309  5  2\n",
       "2022-06-03 -2.484921 -0.767825 -0.153918  5  3\n",
       "2022-06-04  0.918227 -0.280356  1.916277  5  4\n",
       "2022-06-05 -0.905480  1.253570  0.254604  5  5\n",
       "2022-06-06  0.196703  0.285102  1.328384  5  6"
      ]
     },
     "execution_count": 50,
     "metadata": {},
     "output_type": "execute_result"
    }
   ],
   "source": [
    "df"
   ]
  },
  {
   "cell_type": "code",
   "execution_count": 51,
   "metadata": {},
   "outputs": [
    {
     "data": {
      "text/plain": [
       "['A', 'B', 'C', 'D', 'F', 'E']"
      ]
     },
     "execution_count": 51,
     "metadata": {},
     "output_type": "execute_result"
    }
   ],
   "source": [
    "columns = list(df.columns) + ['E']\n",
    "columns"
   ]
  },
  {
   "cell_type": "code",
   "execution_count": 52,
   "metadata": {},
   "outputs": [
    {
     "data": {
      "text/html": [
       "<div>\n",
       "<style scoped>\n",
       "    .dataframe tbody tr th:only-of-type {\n",
       "        vertical-align: middle;\n",
       "    }\n",
       "\n",
       "    .dataframe tbody tr th {\n",
       "        vertical-align: top;\n",
       "    }\n",
       "\n",
       "    .dataframe thead th {\n",
       "        text-align: right;\n",
       "    }\n",
       "</style>\n",
       "<table border=\"1\" class=\"dataframe\">\n",
       "  <thead>\n",
       "    <tr style=\"text-align: right;\">\n",
       "      <th></th>\n",
       "      <th>A</th>\n",
       "      <th>B</th>\n",
       "      <th>C</th>\n",
       "      <th>D</th>\n",
       "      <th>F</th>\n",
       "      <th>E</th>\n",
       "    </tr>\n",
       "  </thead>\n",
       "  <tbody>\n",
       "    <tr>\n",
       "      <th>2022-06-01</th>\n",
       "      <td>0.000000</td>\n",
       "      <td>0.000000</td>\n",
       "      <td>-0.432497</td>\n",
       "      <td>5</td>\n",
       "      <td>1</td>\n",
       "      <td>NaN</td>\n",
       "    </tr>\n",
       "    <tr>\n",
       "      <th>2022-06-02</th>\n",
       "      <td>0.526383</td>\n",
       "      <td>-3.130227</td>\n",
       "      <td>-0.347309</td>\n",
       "      <td>5</td>\n",
       "      <td>2</td>\n",
       "      <td>NaN</td>\n",
       "    </tr>\n",
       "    <tr>\n",
       "      <th>2022-06-03</th>\n",
       "      <td>-2.484921</td>\n",
       "      <td>-0.767825</td>\n",
       "      <td>-0.153918</td>\n",
       "      <td>5</td>\n",
       "      <td>3</td>\n",
       "      <td>NaN</td>\n",
       "    </tr>\n",
       "    <tr>\n",
       "      <th>2022-06-04</th>\n",
       "      <td>0.918227</td>\n",
       "      <td>-0.280356</td>\n",
       "      <td>1.916277</td>\n",
       "      <td>5</td>\n",
       "      <td>4</td>\n",
       "      <td>NaN</td>\n",
       "    </tr>\n",
       "  </tbody>\n",
       "</table>\n",
       "</div>"
      ],
      "text/plain": [
       "                   A         B         C  D  F   E\n",
       "2022-06-01  0.000000  0.000000 -0.432497  5  1 NaN\n",
       "2022-06-02  0.526383 -3.130227 -0.347309  5  2 NaN\n",
       "2022-06-03 -2.484921 -0.767825 -0.153918  5  3 NaN\n",
       "2022-06-04  0.918227 -0.280356  1.916277  5  4 NaN"
      ]
     },
     "execution_count": 52,
     "metadata": {},
     "output_type": "execute_result"
    }
   ],
   "source": [
    "df1 = df.reindex(index=dates[0:4], columns=columns)\n",
    "df1"
   ]
  },
  {
   "cell_type": "code",
   "execution_count": 53,
   "metadata": {},
   "outputs": [
    {
     "data": {
      "text/html": [
       "<div>\n",
       "<style scoped>\n",
       "    .dataframe tbody tr th:only-of-type {\n",
       "        vertical-align: middle;\n",
       "    }\n",
       "\n",
       "    .dataframe tbody tr th {\n",
       "        vertical-align: top;\n",
       "    }\n",
       "\n",
       "    .dataframe thead th {\n",
       "        text-align: right;\n",
       "    }\n",
       "</style>\n",
       "<table border=\"1\" class=\"dataframe\">\n",
       "  <thead>\n",
       "    <tr style=\"text-align: right;\">\n",
       "      <th></th>\n",
       "      <th>A</th>\n",
       "      <th>B</th>\n",
       "      <th>C</th>\n",
       "      <th>D</th>\n",
       "      <th>F</th>\n",
       "      <th>E</th>\n",
       "    </tr>\n",
       "  </thead>\n",
       "  <tbody>\n",
       "    <tr>\n",
       "      <th>2022-06-01</th>\n",
       "      <td>0.000000</td>\n",
       "      <td>0.000000</td>\n",
       "      <td>-0.432497</td>\n",
       "      <td>5</td>\n",
       "      <td>1</td>\n",
       "      <td>1.0</td>\n",
       "    </tr>\n",
       "    <tr>\n",
       "      <th>2022-06-02</th>\n",
       "      <td>0.526383</td>\n",
       "      <td>-3.130227</td>\n",
       "      <td>-0.347309</td>\n",
       "      <td>5</td>\n",
       "      <td>2</td>\n",
       "      <td>1.0</td>\n",
       "    </tr>\n",
       "    <tr>\n",
       "      <th>2022-06-03</th>\n",
       "      <td>-2.484921</td>\n",
       "      <td>-0.767825</td>\n",
       "      <td>-0.153918</td>\n",
       "      <td>5</td>\n",
       "      <td>3</td>\n",
       "      <td>NaN</td>\n",
       "    </tr>\n",
       "    <tr>\n",
       "      <th>2022-06-04</th>\n",
       "      <td>0.918227</td>\n",
       "      <td>-0.280356</td>\n",
       "      <td>1.916277</td>\n",
       "      <td>5</td>\n",
       "      <td>4</td>\n",
       "      <td>NaN</td>\n",
       "    </tr>\n",
       "  </tbody>\n",
       "</table>\n",
       "</div>"
      ],
      "text/plain": [
       "                   A         B         C  D  F    E\n",
       "2022-06-01  0.000000  0.000000 -0.432497  5  1  1.0\n",
       "2022-06-02  0.526383 -3.130227 -0.347309  5  2  1.0\n",
       "2022-06-03 -2.484921 -0.767825 -0.153918  5  3  NaN\n",
       "2022-06-04  0.918227 -0.280356  1.916277  5  4  NaN"
      ]
     },
     "execution_count": 53,
     "metadata": {},
     "output_type": "execute_result"
    }
   ],
   "source": [
    "df1.loc[dates[0]:dates[1],'E'] = 1\n",
    "df1"
   ]
  },
  {
   "cell_type": "markdown",
   "metadata": {},
   "source": [
    "- 결측치 행들에 대한 처리 : Drop / Fiil"
   ]
  },
  {
   "cell_type": "code",
   "execution_count": 54,
   "metadata": {},
   "outputs": [
    {
     "data": {
      "text/html": [
       "<div>\n",
       "<style scoped>\n",
       "    .dataframe tbody tr th:only-of-type {\n",
       "        vertical-align: middle;\n",
       "    }\n",
       "\n",
       "    .dataframe tbody tr th {\n",
       "        vertical-align: top;\n",
       "    }\n",
       "\n",
       "    .dataframe thead th {\n",
       "        text-align: right;\n",
       "    }\n",
       "</style>\n",
       "<table border=\"1\" class=\"dataframe\">\n",
       "  <thead>\n",
       "    <tr style=\"text-align: right;\">\n",
       "      <th></th>\n",
       "      <th>A</th>\n",
       "      <th>B</th>\n",
       "      <th>C</th>\n",
       "      <th>D</th>\n",
       "      <th>F</th>\n",
       "      <th>E</th>\n",
       "    </tr>\n",
       "  </thead>\n",
       "  <tbody>\n",
       "    <tr>\n",
       "      <th>2022-06-01</th>\n",
       "      <td>0.000000</td>\n",
       "      <td>0.000000</td>\n",
       "      <td>-0.432497</td>\n",
       "      <td>5</td>\n",
       "      <td>1</td>\n",
       "      <td>1.0</td>\n",
       "    </tr>\n",
       "    <tr>\n",
       "      <th>2022-06-02</th>\n",
       "      <td>0.526383</td>\n",
       "      <td>-3.130227</td>\n",
       "      <td>-0.347309</td>\n",
       "      <td>5</td>\n",
       "      <td>2</td>\n",
       "      <td>1.0</td>\n",
       "    </tr>\n",
       "  </tbody>\n",
       "</table>\n",
       "</div>"
      ],
      "text/plain": [
       "                   A         B         C  D  F    E\n",
       "2022-06-01  0.000000  0.000000 -0.432497  5  1  1.0\n",
       "2022-06-02  0.526383 -3.130227 -0.347309  5  2  1.0"
      ]
     },
     "execution_count": 54,
     "metadata": {},
     "output_type": "execute_result"
    }
   ],
   "source": [
    "df1.dropna(how='any')"
   ]
  },
  {
   "cell_type": "code",
   "execution_count": 55,
   "metadata": {},
   "outputs": [
    {
     "data": {
      "text/html": [
       "<div>\n",
       "<style scoped>\n",
       "    .dataframe tbody tr th:only-of-type {\n",
       "        vertical-align: middle;\n",
       "    }\n",
       "\n",
       "    .dataframe tbody tr th {\n",
       "        vertical-align: top;\n",
       "    }\n",
       "\n",
       "    .dataframe thead th {\n",
       "        text-align: right;\n",
       "    }\n",
       "</style>\n",
       "<table border=\"1\" class=\"dataframe\">\n",
       "  <thead>\n",
       "    <tr style=\"text-align: right;\">\n",
       "      <th></th>\n",
       "      <th>A</th>\n",
       "      <th>B</th>\n",
       "      <th>C</th>\n",
       "      <th>D</th>\n",
       "      <th>F</th>\n",
       "      <th>E</th>\n",
       "    </tr>\n",
       "  </thead>\n",
       "  <tbody>\n",
       "    <tr>\n",
       "      <th>2022-06-01</th>\n",
       "      <td>0.000000</td>\n",
       "      <td>0.000000</td>\n",
       "      <td>-0.432497</td>\n",
       "      <td>5</td>\n",
       "      <td>1</td>\n",
       "      <td>1.0</td>\n",
       "    </tr>\n",
       "    <tr>\n",
       "      <th>2022-06-02</th>\n",
       "      <td>0.526383</td>\n",
       "      <td>-3.130227</td>\n",
       "      <td>-0.347309</td>\n",
       "      <td>5</td>\n",
       "      <td>2</td>\n",
       "      <td>1.0</td>\n",
       "    </tr>\n",
       "    <tr>\n",
       "      <th>2022-06-03</th>\n",
       "      <td>-2.484921</td>\n",
       "      <td>-0.767825</td>\n",
       "      <td>-0.153918</td>\n",
       "      <td>5</td>\n",
       "      <td>3</td>\n",
       "      <td>5.0</td>\n",
       "    </tr>\n",
       "    <tr>\n",
       "      <th>2022-06-04</th>\n",
       "      <td>0.918227</td>\n",
       "      <td>-0.280356</td>\n",
       "      <td>1.916277</td>\n",
       "      <td>5</td>\n",
       "      <td>4</td>\n",
       "      <td>5.0</td>\n",
       "    </tr>\n",
       "  </tbody>\n",
       "</table>\n",
       "</div>"
      ],
      "text/plain": [
       "                   A         B         C  D  F    E\n",
       "2022-06-01  0.000000  0.000000 -0.432497  5  1  1.0\n",
       "2022-06-02  0.526383 -3.130227 -0.347309  5  2  1.0\n",
       "2022-06-03 -2.484921 -0.767825 -0.153918  5  3  5.0\n",
       "2022-06-04  0.918227 -0.280356  1.916277  5  4  5.0"
      ]
     },
     "execution_count": 55,
     "metadata": {},
     "output_type": "execute_result"
    }
   ],
   "source": [
    "df1.fillna(value=5)"
   ]
  },
  {
   "cell_type": "code",
   "execution_count": 56,
   "metadata": {},
   "outputs": [
    {
     "data": {
      "text/html": [
       "<div>\n",
       "<style scoped>\n",
       "    .dataframe tbody tr th:only-of-type {\n",
       "        vertical-align: middle;\n",
       "    }\n",
       "\n",
       "    .dataframe tbody tr th {\n",
       "        vertical-align: top;\n",
       "    }\n",
       "\n",
       "    .dataframe thead th {\n",
       "        text-align: right;\n",
       "    }\n",
       "</style>\n",
       "<table border=\"1\" class=\"dataframe\">\n",
       "  <thead>\n",
       "    <tr style=\"text-align: right;\">\n",
       "      <th></th>\n",
       "      <th>A</th>\n",
       "      <th>B</th>\n",
       "      <th>C</th>\n",
       "      <th>D</th>\n",
       "      <th>F</th>\n",
       "      <th>E</th>\n",
       "    </tr>\n",
       "  </thead>\n",
       "  <tbody>\n",
       "    <tr>\n",
       "      <th>2022-06-01</th>\n",
       "      <td>False</td>\n",
       "      <td>False</td>\n",
       "      <td>False</td>\n",
       "      <td>False</td>\n",
       "      <td>False</td>\n",
       "      <td>False</td>\n",
       "    </tr>\n",
       "    <tr>\n",
       "      <th>2022-06-02</th>\n",
       "      <td>False</td>\n",
       "      <td>False</td>\n",
       "      <td>False</td>\n",
       "      <td>False</td>\n",
       "      <td>False</td>\n",
       "      <td>False</td>\n",
       "    </tr>\n",
       "    <tr>\n",
       "      <th>2022-06-03</th>\n",
       "      <td>False</td>\n",
       "      <td>False</td>\n",
       "      <td>False</td>\n",
       "      <td>False</td>\n",
       "      <td>False</td>\n",
       "      <td>True</td>\n",
       "    </tr>\n",
       "    <tr>\n",
       "      <th>2022-06-04</th>\n",
       "      <td>False</td>\n",
       "      <td>False</td>\n",
       "      <td>False</td>\n",
       "      <td>False</td>\n",
       "      <td>False</td>\n",
       "      <td>True</td>\n",
       "    </tr>\n",
       "  </tbody>\n",
       "</table>\n",
       "</div>"
      ],
      "text/plain": [
       "                A      B      C      D      F      E\n",
       "2022-06-01  False  False  False  False  False  False\n",
       "2022-06-02  False  False  False  False  False  False\n",
       "2022-06-03  False  False  False  False  False   True\n",
       "2022-06-04  False  False  False  False  False   True"
      ]
     },
     "execution_count": 56,
     "metadata": {},
     "output_type": "execute_result"
    }
   ],
   "source": [
    "pd.isna(df1)"
   ]
  },
  {
   "cell_type": "code",
   "execution_count": null,
   "metadata": {},
   "outputs": [],
   "source": []
  },
  {
   "cell_type": "markdown",
   "metadata": {},
   "source": [
    "## 5. Operation (연산)"
   ]
  },
  {
   "cell_type": "markdown",
   "metadata": {},
   "source": [
    "> Stats (통계)\n",
    "> - 일반적으로 결측치를 제외한 후 연산됩니다.\n",
    "> - 기술통계를 수행합니다."
   ]
  },
  {
   "cell_type": "code",
   "execution_count": 57,
   "metadata": {},
   "outputs": [
    {
     "data": {
      "text/html": [
       "<div>\n",
       "<style scoped>\n",
       "    .dataframe tbody tr th:only-of-type {\n",
       "        vertical-align: middle;\n",
       "    }\n",
       "\n",
       "    .dataframe tbody tr th {\n",
       "        vertical-align: top;\n",
       "    }\n",
       "\n",
       "    .dataframe thead th {\n",
       "        text-align: right;\n",
       "    }\n",
       "</style>\n",
       "<table border=\"1\" class=\"dataframe\">\n",
       "  <thead>\n",
       "    <tr style=\"text-align: right;\">\n",
       "      <th></th>\n",
       "      <th>A</th>\n",
       "      <th>B</th>\n",
       "      <th>C</th>\n",
       "      <th>D</th>\n",
       "      <th>F</th>\n",
       "    </tr>\n",
       "  </thead>\n",
       "  <tbody>\n",
       "    <tr>\n",
       "      <th>2022-06-01</th>\n",
       "      <td>0.000000</td>\n",
       "      <td>0.000000</td>\n",
       "      <td>-0.432497</td>\n",
       "      <td>5</td>\n",
       "      <td>1</td>\n",
       "    </tr>\n",
       "    <tr>\n",
       "      <th>2022-06-02</th>\n",
       "      <td>0.526383</td>\n",
       "      <td>-3.130227</td>\n",
       "      <td>-0.347309</td>\n",
       "      <td>5</td>\n",
       "      <td>2</td>\n",
       "    </tr>\n",
       "    <tr>\n",
       "      <th>2022-06-03</th>\n",
       "      <td>-2.484921</td>\n",
       "      <td>-0.767825</td>\n",
       "      <td>-0.153918</td>\n",
       "      <td>5</td>\n",
       "      <td>3</td>\n",
       "    </tr>\n",
       "    <tr>\n",
       "      <th>2022-06-04</th>\n",
       "      <td>0.918227</td>\n",
       "      <td>-0.280356</td>\n",
       "      <td>1.916277</td>\n",
       "      <td>5</td>\n",
       "      <td>4</td>\n",
       "    </tr>\n",
       "    <tr>\n",
       "      <th>2022-06-05</th>\n",
       "      <td>-0.905480</td>\n",
       "      <td>1.253570</td>\n",
       "      <td>0.254604</td>\n",
       "      <td>5</td>\n",
       "      <td>5</td>\n",
       "    </tr>\n",
       "    <tr>\n",
       "      <th>2022-06-06</th>\n",
       "      <td>0.196703</td>\n",
       "      <td>0.285102</td>\n",
       "      <td>1.328384</td>\n",
       "      <td>5</td>\n",
       "      <td>6</td>\n",
       "    </tr>\n",
       "  </tbody>\n",
       "</table>\n",
       "</div>"
      ],
      "text/plain": [
       "                   A         B         C  D  F\n",
       "2022-06-01  0.000000  0.000000 -0.432497  5  1\n",
       "2022-06-02  0.526383 -3.130227 -0.347309  5  2\n",
       "2022-06-03 -2.484921 -0.767825 -0.153918  5  3\n",
       "2022-06-04  0.918227 -0.280356  1.916277  5  4\n",
       "2022-06-05 -0.905480  1.253570  0.254604  5  5\n",
       "2022-06-06  0.196703  0.285102  1.328384  5  6"
      ]
     },
     "execution_count": 57,
     "metadata": {},
     "output_type": "execute_result"
    }
   ],
   "source": [
    "df"
   ]
  },
  {
   "cell_type": "code",
   "execution_count": 58,
   "metadata": {},
   "outputs": [
    {
     "data": {
      "text/plain": [
       "A   -0.291515\n",
       "B   -0.439956\n",
       "C    0.427590\n",
       "D    5.000000\n",
       "F    3.500000\n",
       "dtype: float64"
      ]
     },
     "execution_count": 58,
     "metadata": {},
     "output_type": "execute_result"
    }
   ],
   "source": [
    "df.mean()"
   ]
  },
  {
   "cell_type": "code",
   "execution_count": 59,
   "metadata": {},
   "outputs": [
    {
     "data": {
      "text/plain": [
       "2022-06-01    1.113501\n",
       "2022-06-02    0.809769\n",
       "2022-06-03    0.918667\n",
       "2022-06-04    2.310829\n",
       "2022-06-05    2.120539\n",
       "2022-06-06    2.562038\n",
       "Freq: D, dtype: float64"
      ]
     },
     "execution_count": 59,
     "metadata": {},
     "output_type": "execute_result"
    }
   ],
   "source": [
    "df.mean(1)"
   ]
  },
  {
   "cell_type": "code",
   "execution_count": 60,
   "metadata": {},
   "outputs": [
    {
     "data": {
      "text/plain": [
       "2022-06-01    NaN\n",
       "2022-06-02    NaN\n",
       "2022-06-03    1.0\n",
       "2022-06-04    3.0\n",
       "2022-06-05    5.0\n",
       "2022-06-06    NaN\n",
       "Freq: D, dtype: float64"
      ]
     },
     "execution_count": 60,
     "metadata": {},
     "output_type": "execute_result"
    }
   ],
   "source": [
    "s = pd.Series([1,3,5,np.nan,6,8], index=dates).shift(2)\n",
    "s"
   ]
  },
  {
   "cell_type": "code",
   "execution_count": 61,
   "metadata": {},
   "outputs": [
    {
     "data": {
      "text/html": [
       "<div>\n",
       "<style scoped>\n",
       "    .dataframe tbody tr th:only-of-type {\n",
       "        vertical-align: middle;\n",
       "    }\n",
       "\n",
       "    .dataframe tbody tr th {\n",
       "        vertical-align: top;\n",
       "    }\n",
       "\n",
       "    .dataframe thead th {\n",
       "        text-align: right;\n",
       "    }\n",
       "</style>\n",
       "<table border=\"1\" class=\"dataframe\">\n",
       "  <thead>\n",
       "    <tr style=\"text-align: right;\">\n",
       "      <th></th>\n",
       "      <th>A</th>\n",
       "      <th>B</th>\n",
       "      <th>C</th>\n",
       "      <th>D</th>\n",
       "      <th>F</th>\n",
       "    </tr>\n",
       "  </thead>\n",
       "  <tbody>\n",
       "    <tr>\n",
       "      <th>2022-06-01</th>\n",
       "      <td>NaN</td>\n",
       "      <td>NaN</td>\n",
       "      <td>NaN</td>\n",
       "      <td>NaN</td>\n",
       "      <td>NaN</td>\n",
       "    </tr>\n",
       "    <tr>\n",
       "      <th>2022-06-02</th>\n",
       "      <td>NaN</td>\n",
       "      <td>NaN</td>\n",
       "      <td>NaN</td>\n",
       "      <td>NaN</td>\n",
       "      <td>NaN</td>\n",
       "    </tr>\n",
       "    <tr>\n",
       "      <th>2022-06-03</th>\n",
       "      <td>-3.484921</td>\n",
       "      <td>-1.767825</td>\n",
       "      <td>-1.153918</td>\n",
       "      <td>4.0</td>\n",
       "      <td>2.0</td>\n",
       "    </tr>\n",
       "    <tr>\n",
       "      <th>2022-06-04</th>\n",
       "      <td>-2.081773</td>\n",
       "      <td>-3.280356</td>\n",
       "      <td>-1.083723</td>\n",
       "      <td>2.0</td>\n",
       "      <td>1.0</td>\n",
       "    </tr>\n",
       "    <tr>\n",
       "      <th>2022-06-05</th>\n",
       "      <td>-5.905480</td>\n",
       "      <td>-3.746430</td>\n",
       "      <td>-4.745396</td>\n",
       "      <td>0.0</td>\n",
       "      <td>0.0</td>\n",
       "    </tr>\n",
       "    <tr>\n",
       "      <th>2022-06-06</th>\n",
       "      <td>NaN</td>\n",
       "      <td>NaN</td>\n",
       "      <td>NaN</td>\n",
       "      <td>NaN</td>\n",
       "      <td>NaN</td>\n",
       "    </tr>\n",
       "  </tbody>\n",
       "</table>\n",
       "</div>"
      ],
      "text/plain": [
       "                   A         B         C    D    F\n",
       "2022-06-01       NaN       NaN       NaN  NaN  NaN\n",
       "2022-06-02       NaN       NaN       NaN  NaN  NaN\n",
       "2022-06-03 -3.484921 -1.767825 -1.153918  4.0  2.0\n",
       "2022-06-04 -2.081773 -3.280356 -1.083723  2.0  1.0\n",
       "2022-06-05 -5.905480 -3.746430 -4.745396  0.0  0.0\n",
       "2022-06-06       NaN       NaN       NaN  NaN  NaN"
      ]
     },
     "execution_count": 61,
     "metadata": {},
     "output_type": "execute_result"
    }
   ],
   "source": [
    "df.sub(s, axis='index')"
   ]
  },
  {
   "cell_type": "code",
   "execution_count": null,
   "metadata": {},
   "outputs": [],
   "source": []
  },
  {
   "cell_type": "markdown",
   "metadata": {},
   "source": [
    "> Apply (적용)\n",
    "> - 데이터에 함수를 적용합니다."
   ]
  },
  {
   "cell_type": "code",
   "execution_count": 62,
   "metadata": {},
   "outputs": [
    {
     "data": {
      "text/html": [
       "<div>\n",
       "<style scoped>\n",
       "    .dataframe tbody tr th:only-of-type {\n",
       "        vertical-align: middle;\n",
       "    }\n",
       "\n",
       "    .dataframe tbody tr th {\n",
       "        vertical-align: top;\n",
       "    }\n",
       "\n",
       "    .dataframe thead th {\n",
       "        text-align: right;\n",
       "    }\n",
       "</style>\n",
       "<table border=\"1\" class=\"dataframe\">\n",
       "  <thead>\n",
       "    <tr style=\"text-align: right;\">\n",
       "      <th></th>\n",
       "      <th>A</th>\n",
       "      <th>B</th>\n",
       "      <th>C</th>\n",
       "      <th>D</th>\n",
       "      <th>F</th>\n",
       "    </tr>\n",
       "  </thead>\n",
       "  <tbody>\n",
       "    <tr>\n",
       "      <th>2022-06-01</th>\n",
       "      <td>0.000000</td>\n",
       "      <td>0.000000</td>\n",
       "      <td>-0.432497</td>\n",
       "      <td>5</td>\n",
       "      <td>1</td>\n",
       "    </tr>\n",
       "    <tr>\n",
       "      <th>2022-06-02</th>\n",
       "      <td>0.526383</td>\n",
       "      <td>-3.130227</td>\n",
       "      <td>-0.347309</td>\n",
       "      <td>5</td>\n",
       "      <td>2</td>\n",
       "    </tr>\n",
       "    <tr>\n",
       "      <th>2022-06-03</th>\n",
       "      <td>-2.484921</td>\n",
       "      <td>-0.767825</td>\n",
       "      <td>-0.153918</td>\n",
       "      <td>5</td>\n",
       "      <td>3</td>\n",
       "    </tr>\n",
       "    <tr>\n",
       "      <th>2022-06-04</th>\n",
       "      <td>0.918227</td>\n",
       "      <td>-0.280356</td>\n",
       "      <td>1.916277</td>\n",
       "      <td>5</td>\n",
       "      <td>4</td>\n",
       "    </tr>\n",
       "    <tr>\n",
       "      <th>2022-06-05</th>\n",
       "      <td>-0.905480</td>\n",
       "      <td>1.253570</td>\n",
       "      <td>0.254604</td>\n",
       "      <td>5</td>\n",
       "      <td>5</td>\n",
       "    </tr>\n",
       "    <tr>\n",
       "      <th>2022-06-06</th>\n",
       "      <td>0.196703</td>\n",
       "      <td>0.285102</td>\n",
       "      <td>1.328384</td>\n",
       "      <td>5</td>\n",
       "      <td>6</td>\n",
       "    </tr>\n",
       "  </tbody>\n",
       "</table>\n",
       "</div>"
      ],
      "text/plain": [
       "                   A         B         C  D  F\n",
       "2022-06-01  0.000000  0.000000 -0.432497  5  1\n",
       "2022-06-02  0.526383 -3.130227 -0.347309  5  2\n",
       "2022-06-03 -2.484921 -0.767825 -0.153918  5  3\n",
       "2022-06-04  0.918227 -0.280356  1.916277  5  4\n",
       "2022-06-05 -0.905480  1.253570  0.254604  5  5\n",
       "2022-06-06  0.196703  0.285102  1.328384  5  6"
      ]
     },
     "execution_count": 62,
     "metadata": {},
     "output_type": "execute_result"
    }
   ],
   "source": [
    "df"
   ]
  },
  {
   "cell_type": "code",
   "execution_count": 63,
   "metadata": {},
   "outputs": [
    {
     "data": {
      "text/html": [
       "<div>\n",
       "<style scoped>\n",
       "    .dataframe tbody tr th:only-of-type {\n",
       "        vertical-align: middle;\n",
       "    }\n",
       "\n",
       "    .dataframe tbody tr th {\n",
       "        vertical-align: top;\n",
       "    }\n",
       "\n",
       "    .dataframe thead th {\n",
       "        text-align: right;\n",
       "    }\n",
       "</style>\n",
       "<table border=\"1\" class=\"dataframe\">\n",
       "  <thead>\n",
       "    <tr style=\"text-align: right;\">\n",
       "      <th></th>\n",
       "      <th>A</th>\n",
       "      <th>B</th>\n",
       "      <th>C</th>\n",
       "      <th>D</th>\n",
       "      <th>F</th>\n",
       "    </tr>\n",
       "  </thead>\n",
       "  <tbody>\n",
       "    <tr>\n",
       "      <th>2022-06-01</th>\n",
       "      <td>0.000000</td>\n",
       "      <td>0.000000</td>\n",
       "      <td>-0.432497</td>\n",
       "      <td>5</td>\n",
       "      <td>1</td>\n",
       "    </tr>\n",
       "    <tr>\n",
       "      <th>2022-06-02</th>\n",
       "      <td>0.526383</td>\n",
       "      <td>-3.130227</td>\n",
       "      <td>-0.779807</td>\n",
       "      <td>10</td>\n",
       "      <td>3</td>\n",
       "    </tr>\n",
       "    <tr>\n",
       "      <th>2022-06-03</th>\n",
       "      <td>-1.958539</td>\n",
       "      <td>-3.898053</td>\n",
       "      <td>-0.933725</td>\n",
       "      <td>15</td>\n",
       "      <td>6</td>\n",
       "    </tr>\n",
       "    <tr>\n",
       "      <th>2022-06-04</th>\n",
       "      <td>-1.040312</td>\n",
       "      <td>-4.178409</td>\n",
       "      <td>0.982552</td>\n",
       "      <td>20</td>\n",
       "      <td>10</td>\n",
       "    </tr>\n",
       "    <tr>\n",
       "      <th>2022-06-05</th>\n",
       "      <td>-1.945792</td>\n",
       "      <td>-2.924839</td>\n",
       "      <td>1.237156</td>\n",
       "      <td>25</td>\n",
       "      <td>15</td>\n",
       "    </tr>\n",
       "    <tr>\n",
       "      <th>2022-06-06</th>\n",
       "      <td>-1.749089</td>\n",
       "      <td>-2.639736</td>\n",
       "      <td>2.565540</td>\n",
       "      <td>30</td>\n",
       "      <td>21</td>\n",
       "    </tr>\n",
       "  </tbody>\n",
       "</table>\n",
       "</div>"
      ],
      "text/plain": [
       "                   A         B         C   D   F\n",
       "2022-06-01  0.000000  0.000000 -0.432497   5   1\n",
       "2022-06-02  0.526383 -3.130227 -0.779807  10   3\n",
       "2022-06-03 -1.958539 -3.898053 -0.933725  15   6\n",
       "2022-06-04 -1.040312 -4.178409  0.982552  20  10\n",
       "2022-06-05 -1.945792 -2.924839  1.237156  25  15\n",
       "2022-06-06 -1.749089 -2.639736  2.565540  30  21"
      ]
     },
     "execution_count": 63,
     "metadata": {},
     "output_type": "execute_result"
    }
   ],
   "source": [
    "df.apply(np.cumsum)"
   ]
  },
  {
   "cell_type": "code",
   "execution_count": 64,
   "metadata": {},
   "outputs": [
    {
     "data": {
      "text/plain": [
       "A    3.403148\n",
       "B    4.383798\n",
       "C    2.348774\n",
       "D    0.000000\n",
       "F    5.000000\n",
       "dtype: float64"
      ]
     },
     "execution_count": 64,
     "metadata": {},
     "output_type": "execute_result"
    }
   ],
   "source": [
    "df.apply(lambda x: x.max() - x.min())"
   ]
  },
  {
   "cell_type": "markdown",
   "metadata": {},
   "source": [
    "> Histogramming (히스토그래밍)\n",
    "> - 도수분포표를 그래프로 나타낸 것\n",
    "> - 즉, 표로 되어 있는 도수 분포를 정보 그림으로 나타낸 것"
   ]
  },
  {
   "cell_type": "code",
   "execution_count": 65,
   "metadata": {},
   "outputs": [
    {
     "data": {
      "text/plain": [
       "0    1\n",
       "1    2\n",
       "2    5\n",
       "3    5\n",
       "4    1\n",
       "5    5\n",
       "6    4\n",
       "7    6\n",
       "8    4\n",
       "9    5\n",
       "dtype: int32"
      ]
     },
     "execution_count": 65,
     "metadata": {},
     "output_type": "execute_result"
    }
   ],
   "source": [
    "s = pd.Series(np.random.randint(1, 7, size=10))\n",
    "s"
   ]
  },
  {
   "cell_type": "code",
   "execution_count": 66,
   "metadata": {},
   "outputs": [
    {
     "data": {
      "text/plain": [
       "5    4\n",
       "1    2\n",
       "4    2\n",
       "2    1\n",
       "6    1\n",
       "dtype: int64"
      ]
     },
     "execution_count": 66,
     "metadata": {},
     "output_type": "execute_result"
    }
   ],
   "source": [
    "s.value_counts()"
   ]
  },
  {
   "cell_type": "markdown",
   "metadata": {},
   "source": [
    "> String Methods (문자열 메소드)\n",
    "> - Series는 다음의 코드와 같이 문자열 처리 메소드 모음 (set)을 가지고 있습니다.\n",
    "<br/>이 모음은 배열의 각 요소를 쉽게 조작할 수 있도록 만들어주는 문자열의 속성에 포함되어 있습니다.\n",
    "> - 문자열의 패턴 일치 확인은 기본적으로 정규 표현식을 사용하며, 몇몇 경우에는 항상 정규 표현식을 사용함에 유의하십시오.\n",
    "> - 좀 더 자세한 내용은 벡터화된 문자열 메소드 부분에서 확인할 수 있습니다."
   ]
  },
  {
   "cell_type": "code",
   "execution_count": 67,
   "metadata": {},
   "outputs": [
    {
     "data": {
      "text/plain": [
       "0       A\n",
       "1       B\n",
       "2       C\n",
       "3    Aaba\n",
       "4    Baca\n",
       "5     NaN\n",
       "6    CABA\n",
       "7     dog\n",
       "8     cat\n",
       "dtype: object"
      ]
     },
     "execution_count": 67,
     "metadata": {},
     "output_type": "execute_result"
    }
   ],
   "source": [
    "s = pd.Series(['A', 'B', 'C', 'Aaba', 'Baca', np.nan, 'CABA', 'dog', 'cat'])\n",
    "s"
   ]
  },
  {
   "cell_type": "code",
   "execution_count": 68,
   "metadata": {},
   "outputs": [
    {
     "data": {
      "text/plain": [
       "0       a\n",
       "1       b\n",
       "2       c\n",
       "3    aaba\n",
       "4    baca\n",
       "5     NaN\n",
       "6    caba\n",
       "7     dog\n",
       "8     cat\n",
       "dtype: object"
      ]
     },
     "execution_count": 68,
     "metadata": {},
     "output_type": "execute_result"
    }
   ],
   "source": [
    "s.str.lower()"
   ]
  },
  {
   "cell_type": "code",
   "execution_count": 69,
   "metadata": {},
   "outputs": [
    {
     "data": {
      "text/plain": [
       "0       A\n",
       "1       B\n",
       "2       C\n",
       "3    AABA\n",
       "4    BACA\n",
       "5     NaN\n",
       "6    CABA\n",
       "7     DOG\n",
       "8     CAT\n",
       "dtype: object"
      ]
     },
     "execution_count": 69,
     "metadata": {},
     "output_type": "execute_result"
    }
   ],
   "source": [
    "s.str.upper()"
   ]
  },
  {
   "cell_type": "code",
   "execution_count": 70,
   "metadata": {},
   "outputs": [
    {
     "data": {
      "text/plain": [
       "0       a\n",
       "1       b\n",
       "2       c\n",
       "3    aABA\n",
       "4    bACA\n",
       "5     NaN\n",
       "6    caba\n",
       "7     DOG\n",
       "8     CAT\n",
       "dtype: object"
      ]
     },
     "execution_count": 70,
     "metadata": {},
     "output_type": "execute_result"
    }
   ],
   "source": [
    "s.str.swapcase()"
   ]
  },
  {
   "cell_type": "markdown",
   "metadata": {},
   "source": [
    "<hr>\n",
    "<marquee><font size=3 color='brown'>The BigpyCraft find the information to design valuable society with Technology & Craft.</font></marquee>\n",
    "<div align='right'><font size=2 color='gray'> &lt; The End &gt; </font></div>"
   ]
  }
 ],
 "metadata": {
  "anaconda-cloud": {},
  "kernelspec": {
   "display_name": "Python 3 (ipykernel)",
   "language": "python",
   "name": "python3"
  },
  "language_info": {
   "codemirror_mode": {
    "name": "ipython",
    "version": 3
   },
   "file_extension": ".py",
   "mimetype": "text/x-python",
   "name": "python",
   "nbconvert_exporter": "python",
   "pygments_lexer": "ipython3",
   "version": "3.9.7"
  }
 },
 "nbformat": 4,
 "nbformat_minor": 1
}
