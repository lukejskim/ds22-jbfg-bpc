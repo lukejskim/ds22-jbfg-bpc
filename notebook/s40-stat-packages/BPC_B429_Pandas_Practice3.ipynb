{
 "cells": [
  {
   "cell_type": "markdown",
   "metadata": {},
   "source": [
    "# Industry 4.0 의 중심, BigData"
   ]
  },
  {
   "cell_type": "markdown",
   "metadata": {},
   "source": [
    "<div align='right'><font size=2 color='gray'>Data Processing Based Python @ <font color='blue'><a href='https://www.facebook.com/jskim.kr'>FB / jskim.kr</a></font>, [김진수](bigpycraft@gmail.com)</font></div>\n",
    "<hr>"
   ]
  },
  {
   "cell_type": "markdown",
   "metadata": {},
   "source": [
    "# Pandas Advanced "
   ]
  },
  {
   "cell_type": "markdown",
   "metadata": {},
   "source": [
    "> ### INDEX\n",
    "> - Plotting (그래프)\n",
    "> - Getting Data In / Out (데이터 입 / 출력)\n",
    "> - Gotchas (잡았다!)"
   ]
  },
  {
   "cell_type": "code",
   "execution_count": 1,
   "metadata": {},
   "outputs": [],
   "source": [
    "import numpy as np\n",
    "import pandas as pd\n",
    "import matplotlib.pyplot as plt"
   ]
  },
  {
   "cell_type": "markdown",
   "metadata": {},
   "source": [
    "## 11. Plotting (그래프)"
   ]
  },
  {
   "cell_type": "markdown",
   "metadata": {},
   "source": [
    "> - 데이터프레임에서 plot() 메소드는 라벨이 존재하는 모든 열을 그릴 때 편리합니다."
   ]
  },
  {
   "cell_type": "code",
   "execution_count": 2,
   "metadata": {
    "scrolled": true
   },
   "outputs": [
    {
     "data": {
      "text/plain": [
       "2020-01-01    2.171264\n",
       "2020-01-02   -0.947730\n",
       "2020-01-03   -1.449293\n",
       "2020-01-04   -0.001280\n",
       "2020-01-05    1.814985\n",
       "                ...   \n",
       "2022-09-22    0.813036\n",
       "2022-09-23    0.233741\n",
       "2022-09-24    0.733935\n",
       "2022-09-25   -1.642543\n",
       "2022-09-26   -1.248156\n",
       "Freq: D, Length: 1000, dtype: float64"
      ]
     },
     "execution_count": 2,
     "metadata": {},
     "output_type": "execute_result"
    }
   ],
   "source": [
    "ts = pd.Series(np.random.randn(1000), index=pd.date_range('1/1/2020', periods=1000))\n",
    "ts"
   ]
  },
  {
   "cell_type": "code",
   "execution_count": 3,
   "metadata": {},
   "outputs": [
    {
     "data": {
      "text/plain": [
       "pandas.core.series.Series"
      ]
     },
     "execution_count": 3,
     "metadata": {},
     "output_type": "execute_result"
    }
   ],
   "source": [
    "type(ts)"
   ]
  },
  {
   "cell_type": "code",
   "execution_count": 4,
   "metadata": {},
   "outputs": [
    {
     "data": {
      "text/plain": [
       "2020-01-01    2.171264\n",
       "2020-01-02   -0.947730\n",
       "2020-01-03   -1.449293\n",
       "2020-01-04   -0.001280\n",
       "2020-01-05    1.814985\n",
       "Freq: D, dtype: float64"
      ]
     },
     "execution_count": 4,
     "metadata": {},
     "output_type": "execute_result"
    }
   ],
   "source": [
    "ts.head()"
   ]
  },
  {
   "cell_type": "code",
   "execution_count": 5,
   "metadata": {},
   "outputs": [
    {
     "data": {
      "text/plain": [
       "2020-01-01    2.171264\n",
       "2020-01-02    1.223535\n",
       "2020-01-03   -0.225758\n",
       "2020-01-04   -0.227038\n",
       "2020-01-05    1.587947\n",
       "                ...   \n",
       "2022-09-22   -5.274001\n",
       "2022-09-23   -5.040260\n",
       "2022-09-24   -4.306325\n",
       "2022-09-25   -5.948868\n",
       "2022-09-26   -7.197024\n",
       "Freq: D, Length: 1000, dtype: float64"
      ]
     },
     "execution_count": 5,
     "metadata": {},
     "output_type": "execute_result"
    }
   ],
   "source": [
    "ts = ts.cumsum()\n",
    "ts"
   ]
  },
  {
   "cell_type": "code",
   "execution_count": 6,
   "metadata": {},
   "outputs": [
    {
     "data": {
      "text/plain": [
       "<AxesSubplot:>"
      ]
     },
     "execution_count": 6,
     "metadata": {},
     "output_type": "execute_result"
    },
    {
     "data": {
      "image/png": "[encoded data removed]",
      "text/plain": [
       "<Figure size 432x288 with 1 Axes>"
      ]
     },
     "metadata": {
      "needs_background": "light"
     },
     "output_type": "display_data"
    }
   ],
   "source": [
    "ts.plot()"
   ]
  },
  {
   "cell_type": "code",
   "execution_count": 7,
   "metadata": {},
   "outputs": [
    {
     "data": {
      "text/html": [
       "<div>\n",
       "<style scoped>\n",
       "    .dataframe tbody tr th:only-of-type {\n",
       "        vertical-align: middle;\n",
       "    }\n",
       "\n",
       "    .dataframe tbody tr th {\n",
       "        vertical-align: top;\n",
       "    }\n",
       "\n",
       "    .dataframe thead th {\n",
       "        text-align: right;\n",
       "    }\n",
       "</style>\n",
       "<table border=\"1\" class=\"dataframe\">\n",
       "  <thead>\n",
       "    <tr style=\"text-align: right;\">\n",
       "      <th></th>\n",
       "      <th>A</th>\n",
       "      <th>B</th>\n",
       "      <th>C</th>\n",
       "      <th>D</th>\n",
       "    </tr>\n",
       "  </thead>\n",
       "  <tbody>\n",
       "    <tr>\n",
       "      <th>2020-01-01</th>\n",
       "      <td>0.296207</td>\n",
       "      <td>-0.010417</td>\n",
       "      <td>-0.224054</td>\n",
       "      <td>-0.004909</td>\n",
       "    </tr>\n",
       "    <tr>\n",
       "      <th>2020-01-02</th>\n",
       "      <td>-1.241740</td>\n",
       "      <td>-2.110385</td>\n",
       "      <td>-0.843597</td>\n",
       "      <td>-1.449004</td>\n",
       "    </tr>\n",
       "    <tr>\n",
       "      <th>2020-01-03</th>\n",
       "      <td>0.895009</td>\n",
       "      <td>-1.085535</td>\n",
       "      <td>-1.666529</td>\n",
       "      <td>-0.871635</td>\n",
       "    </tr>\n",
       "    <tr>\n",
       "      <th>2020-01-04</th>\n",
       "      <td>0.185353</td>\n",
       "      <td>-0.423882</td>\n",
       "      <td>0.218918</td>\n",
       "      <td>0.722138</td>\n",
       "    </tr>\n",
       "    <tr>\n",
       "      <th>2020-01-05</th>\n",
       "      <td>-0.103646</td>\n",
       "      <td>-0.193937</td>\n",
       "      <td>0.747776</td>\n",
       "      <td>-0.192003</td>\n",
       "    </tr>\n",
       "    <tr>\n",
       "      <th>...</th>\n",
       "      <td>...</td>\n",
       "      <td>...</td>\n",
       "      <td>...</td>\n",
       "      <td>...</td>\n",
       "    </tr>\n",
       "    <tr>\n",
       "      <th>2022-09-22</th>\n",
       "      <td>0.239589</td>\n",
       "      <td>-0.133321</td>\n",
       "      <td>0.456411</td>\n",
       "      <td>-0.429524</td>\n",
       "    </tr>\n",
       "    <tr>\n",
       "      <th>2022-09-23</th>\n",
       "      <td>-0.656487</td>\n",
       "      <td>-0.243409</td>\n",
       "      <td>1.227130</td>\n",
       "      <td>0.699845</td>\n",
       "    </tr>\n",
       "    <tr>\n",
       "      <th>2022-09-24</th>\n",
       "      <td>0.205564</td>\n",
       "      <td>-0.055943</td>\n",
       "      <td>1.626650</td>\n",
       "      <td>1.199557</td>\n",
       "    </tr>\n",
       "    <tr>\n",
       "      <th>2022-09-25</th>\n",
       "      <td>-0.386050</td>\n",
       "      <td>-0.663372</td>\n",
       "      <td>-0.519518</td>\n",
       "      <td>-1.461882</td>\n",
       "    </tr>\n",
       "    <tr>\n",
       "      <th>2022-09-26</th>\n",
       "      <td>-0.245571</td>\n",
       "      <td>0.734236</td>\n",
       "      <td>-1.670070</td>\n",
       "      <td>1.257378</td>\n",
       "    </tr>\n",
       "  </tbody>\n",
       "</table>\n",
       "<p>1000 rows × 4 columns</p>\n",
       "</div>"
      ],
      "text/plain": [
       "                   A         B         C         D\n",
       "2020-01-01  0.296207 -0.010417 -0.224054 -0.004909\n",
       "2020-01-02 -1.241740 -2.110385 -0.843597 -1.449004\n",
       "2020-01-03  0.895009 -1.085535 -1.666529 -0.871635\n",
       "2020-01-04  0.185353 -0.423882  0.218918  0.722138\n",
       "2020-01-05 -0.103646 -0.193937  0.747776 -0.192003\n",
       "...              ...       ...       ...       ...\n",
       "2022-09-22  0.239589 -0.133321  0.456411 -0.429524\n",
       "2022-09-23 -0.656487 -0.243409  1.227130  0.699845\n",
       "2022-09-24  0.205564 -0.055943  1.626650  1.199557\n",
       "2022-09-25 -0.386050 -0.663372 -0.519518 -1.461882\n",
       "2022-09-26 -0.245571  0.734236 -1.670070  1.257378\n",
       "\n",
       "[1000 rows x 4 columns]"
      ]
     },
     "execution_count": 7,
     "metadata": {},
     "output_type": "execute_result"
    }
   ],
   "source": [
    "df = pd.DataFrame(np.random.randn(1000, 4), index=ts.index,\n",
    "                  columns=['A', 'B', 'C', 'D']) \n",
    "df"
   ]
  },
  {
   "cell_type": "code",
   "execution_count": 8,
   "metadata": {},
   "outputs": [
    {
     "data": {
      "text/html": [
       "<div>\n",
       "<style scoped>\n",
       "    .dataframe tbody tr th:only-of-type {\n",
       "        vertical-align: middle;\n",
       "    }\n",
       "\n",
       "    .dataframe tbody tr th {\n",
       "        vertical-align: top;\n",
       "    }\n",
       "\n",
       "    .dataframe thead th {\n",
       "        text-align: right;\n",
       "    }\n",
       "</style>\n",
       "<table border=\"1\" class=\"dataframe\">\n",
       "  <thead>\n",
       "    <tr style=\"text-align: right;\">\n",
       "      <th></th>\n",
       "      <th>A</th>\n",
       "      <th>B</th>\n",
       "      <th>C</th>\n",
       "      <th>D</th>\n",
       "    </tr>\n",
       "  </thead>\n",
       "  <tbody>\n",
       "    <tr>\n",
       "      <th>2020-01-01</th>\n",
       "      <td>0.296207</td>\n",
       "      <td>-0.010417</td>\n",
       "      <td>-0.224054</td>\n",
       "      <td>-0.004909</td>\n",
       "    </tr>\n",
       "    <tr>\n",
       "      <th>2020-01-02</th>\n",
       "      <td>-0.945534</td>\n",
       "      <td>-2.120802</td>\n",
       "      <td>-1.067651</td>\n",
       "      <td>-1.453913</td>\n",
       "    </tr>\n",
       "    <tr>\n",
       "      <th>2020-01-03</th>\n",
       "      <td>-0.050525</td>\n",
       "      <td>-3.206337</td>\n",
       "      <td>-2.734181</td>\n",
       "      <td>-2.325548</td>\n",
       "    </tr>\n",
       "    <tr>\n",
       "      <th>2020-01-04</th>\n",
       "      <td>0.134828</td>\n",
       "      <td>-3.630219</td>\n",
       "      <td>-2.515263</td>\n",
       "      <td>-1.603409</td>\n",
       "    </tr>\n",
       "    <tr>\n",
       "      <th>2020-01-05</th>\n",
       "      <td>0.031182</td>\n",
       "      <td>-3.824156</td>\n",
       "      <td>-1.767487</td>\n",
       "      <td>-1.795413</td>\n",
       "    </tr>\n",
       "    <tr>\n",
       "      <th>...</th>\n",
       "      <td>...</td>\n",
       "      <td>...</td>\n",
       "      <td>...</td>\n",
       "      <td>...</td>\n",
       "    </tr>\n",
       "    <tr>\n",
       "      <th>2022-09-22</th>\n",
       "      <td>-18.899409</td>\n",
       "      <td>0.491772</td>\n",
       "      <td>26.284700</td>\n",
       "      <td>13.149420</td>\n",
       "    </tr>\n",
       "    <tr>\n",
       "      <th>2022-09-23</th>\n",
       "      <td>-19.555896</td>\n",
       "      <td>0.248363</td>\n",
       "      <td>27.511830</td>\n",
       "      <td>13.849265</td>\n",
       "    </tr>\n",
       "    <tr>\n",
       "      <th>2022-09-24</th>\n",
       "      <td>-19.350332</td>\n",
       "      <td>0.192420</td>\n",
       "      <td>29.138479</td>\n",
       "      <td>15.048823</td>\n",
       "    </tr>\n",
       "    <tr>\n",
       "      <th>2022-09-25</th>\n",
       "      <td>-19.736382</td>\n",
       "      <td>-0.470953</td>\n",
       "      <td>28.618961</td>\n",
       "      <td>13.586941</td>\n",
       "    </tr>\n",
       "    <tr>\n",
       "      <th>2022-09-26</th>\n",
       "      <td>-19.981952</td>\n",
       "      <td>0.263284</td>\n",
       "      <td>26.948891</td>\n",
       "      <td>14.844319</td>\n",
       "    </tr>\n",
       "  </tbody>\n",
       "</table>\n",
       "<p>1000 rows × 4 columns</p>\n",
       "</div>"
      ],
      "text/plain": [
       "                    A         B          C          D\n",
       "2020-01-01   0.296207 -0.010417  -0.224054  -0.004909\n",
       "2020-01-02  -0.945534 -2.120802  -1.067651  -1.453913\n",
       "2020-01-03  -0.050525 -3.206337  -2.734181  -2.325548\n",
       "2020-01-04   0.134828 -3.630219  -2.515263  -1.603409\n",
       "2020-01-05   0.031182 -3.824156  -1.767487  -1.795413\n",
       "...               ...       ...        ...        ...\n",
       "2022-09-22 -18.899409  0.491772  26.284700  13.149420\n",
       "2022-09-23 -19.555896  0.248363  27.511830  13.849265\n",
       "2022-09-24 -19.350332  0.192420  29.138479  15.048823\n",
       "2022-09-25 -19.736382 -0.470953  28.618961  13.586941\n",
       "2022-09-26 -19.981952  0.263284  26.948891  14.844319\n",
       "\n",
       "[1000 rows x 4 columns]"
      ]
     },
     "execution_count": 8,
     "metadata": {},
     "output_type": "execute_result"
    }
   ],
   "source": [
    "df = df.cumsum()\n",
    "df"
   ]
  },
  {
   "cell_type": "code",
   "execution_count": 9,
   "metadata": {},
   "outputs": [
    {
     "data": {
      "text/plain": [
       "<matplotlib.legend.Legend at 0x2745849ad90>"
      ]
     },
     "execution_count": 9,
     "metadata": {},
     "output_type": "execute_result"
    },
    {
     "data": {
      "text/plain": [
       "<Figure size 432x288 with 0 Axes>"
      ]
     },
     "metadata": {},
     "output_type": "display_data"
    },
    {
     "data": {
      "image/png": "[encoded data removed]",
      "text/plain": [
       "<Figure size 432x288 with 1 Axes>"
      ]
     },
     "metadata": {
      "needs_background": "light"
     },
     "output_type": "display_data"
    }
   ],
   "source": [
    "plt.figure()\n",
    "df.plot()\n",
    "plt.legend(loc='best')"
   ]
  },
  {
   "cell_type": "code",
   "execution_count": null,
   "metadata": {},
   "outputs": [],
   "source": []
  },
  {
   "cell_type": "markdown",
   "metadata": {},
   "source": [
    "## 12. Getting Data In / Out (데이터 입 / 출력)"
   ]
  },
  {
   "cell_type": "markdown",
   "metadata": {},
   "source": [
    "> - 파일 저장\n",
    "> - 파일 로딩"
   ]
  },
  {
   "cell_type": "code",
   "execution_count": 10,
   "metadata": {},
   "outputs": [
    {
     "data": {
      "text/html": [
       "<div>\n",
       "<style scoped>\n",
       "    .dataframe tbody tr th:only-of-type {\n",
       "        vertical-align: middle;\n",
       "    }\n",
       "\n",
       "    .dataframe tbody tr th {\n",
       "        vertical-align: top;\n",
       "    }\n",
       "\n",
       "    .dataframe thead th {\n",
       "        text-align: right;\n",
       "    }\n",
       "</style>\n",
       "<table border=\"1\" class=\"dataframe\">\n",
       "  <thead>\n",
       "    <tr style=\"text-align: right;\">\n",
       "      <th></th>\n",
       "      <th>A</th>\n",
       "      <th>B</th>\n",
       "      <th>C</th>\n",
       "      <th>D</th>\n",
       "    </tr>\n",
       "  </thead>\n",
       "  <tbody>\n",
       "    <tr>\n",
       "      <th>2020-01-01</th>\n",
       "      <td>0.296207</td>\n",
       "      <td>-0.010417</td>\n",
       "      <td>-0.224054</td>\n",
       "      <td>-0.004909</td>\n",
       "    </tr>\n",
       "    <tr>\n",
       "      <th>2020-01-02</th>\n",
       "      <td>-0.945534</td>\n",
       "      <td>-2.120802</td>\n",
       "      <td>-1.067651</td>\n",
       "      <td>-1.453913</td>\n",
       "    </tr>\n",
       "    <tr>\n",
       "      <th>2020-01-03</th>\n",
       "      <td>-0.050525</td>\n",
       "      <td>-3.206337</td>\n",
       "      <td>-2.734181</td>\n",
       "      <td>-2.325548</td>\n",
       "    </tr>\n",
       "    <tr>\n",
       "      <th>2020-01-04</th>\n",
       "      <td>0.134828</td>\n",
       "      <td>-3.630219</td>\n",
       "      <td>-2.515263</td>\n",
       "      <td>-1.603409</td>\n",
       "    </tr>\n",
       "    <tr>\n",
       "      <th>2020-01-05</th>\n",
       "      <td>0.031182</td>\n",
       "      <td>-3.824156</td>\n",
       "      <td>-1.767487</td>\n",
       "      <td>-1.795413</td>\n",
       "    </tr>\n",
       "    <tr>\n",
       "      <th>...</th>\n",
       "      <td>...</td>\n",
       "      <td>...</td>\n",
       "      <td>...</td>\n",
       "      <td>...</td>\n",
       "    </tr>\n",
       "    <tr>\n",
       "      <th>2022-09-22</th>\n",
       "      <td>-18.899409</td>\n",
       "      <td>0.491772</td>\n",
       "      <td>26.284700</td>\n",
       "      <td>13.149420</td>\n",
       "    </tr>\n",
       "    <tr>\n",
       "      <th>2022-09-23</th>\n",
       "      <td>-19.555896</td>\n",
       "      <td>0.248363</td>\n",
       "      <td>27.511830</td>\n",
       "      <td>13.849265</td>\n",
       "    </tr>\n",
       "    <tr>\n",
       "      <th>2022-09-24</th>\n",
       "      <td>-19.350332</td>\n",
       "      <td>0.192420</td>\n",
       "      <td>29.138479</td>\n",
       "      <td>15.048823</td>\n",
       "    </tr>\n",
       "    <tr>\n",
       "      <th>2022-09-25</th>\n",
       "      <td>-19.736382</td>\n",
       "      <td>-0.470953</td>\n",
       "      <td>28.618961</td>\n",
       "      <td>13.586941</td>\n",
       "    </tr>\n",
       "    <tr>\n",
       "      <th>2022-09-26</th>\n",
       "      <td>-19.981952</td>\n",
       "      <td>0.263284</td>\n",
       "      <td>26.948891</td>\n",
       "      <td>14.844319</td>\n",
       "    </tr>\n",
       "  </tbody>\n",
       "</table>\n",
       "<p>1000 rows × 4 columns</p>\n",
       "</div>"
      ],
      "text/plain": [
       "                    A         B          C          D\n",
       "2020-01-01   0.296207 -0.010417  -0.224054  -0.004909\n",
       "2020-01-02  -0.945534 -2.120802  -1.067651  -1.453913\n",
       "2020-01-03  -0.050525 -3.206337  -2.734181  -2.325548\n",
       "2020-01-04   0.134828 -3.630219  -2.515263  -1.603409\n",
       "2020-01-05   0.031182 -3.824156  -1.767487  -1.795413\n",
       "...               ...       ...        ...        ...\n",
       "2022-09-22 -18.899409  0.491772  26.284700  13.149420\n",
       "2022-09-23 -19.555896  0.248363  27.511830  13.849265\n",
       "2022-09-24 -19.350332  0.192420  29.138479  15.048823\n",
       "2022-09-25 -19.736382 -0.470953  28.618961  13.586941\n",
       "2022-09-26 -19.981952  0.263284  26.948891  14.844319\n",
       "\n",
       "[1000 rows x 4 columns]"
      ]
     },
     "execution_count": 10,
     "metadata": {},
     "output_type": "execute_result"
    }
   ],
   "source": [
    "df"
   ]
  },
  {
   "cell_type": "code",
   "execution_count": 11,
   "metadata": {},
   "outputs": [
    {
     "name": "stdout",
     "output_type": "stream",
     "text": [
      "<class 'pandas.core.frame.DataFrame'>\n",
      "DatetimeIndex: 1000 entries, 2020-01-01 to 2022-09-26\n",
      "Freq: D\n",
      "Data columns (total 4 columns):\n",
      " #   Column  Non-Null Count  Dtype  \n",
      "---  ------  --------------  -----  \n",
      " 0   A       1000 non-null   float64\n",
      " 1   B       1000 non-null   float64\n",
      " 2   C       1000 non-null   float64\n",
      " 3   D       1000 non-null   float64\n",
      "dtypes: float64(4)\n",
      "memory usage: 39.1 KB\n"
     ]
    }
   ],
   "source": [
    "df.info()"
   ]
  },
  {
   "cell_type": "markdown",
   "metadata": {},
   "source": [
    "- csv 파일"
   ]
  },
  {
   "cell_type": "code",
   "execution_count": 12,
   "metadata": {},
   "outputs": [],
   "source": [
    "df.to_csv('data/foo.csv')"
   ]
  },
  {
   "cell_type": "code",
   "execution_count": 13,
   "metadata": {},
   "outputs": [],
   "source": [
    "csv_df = pd.read_csv('data/foo.csv')"
   ]
  },
  {
   "cell_type": "code",
   "execution_count": 14,
   "metadata": {},
   "outputs": [
    {
     "data": {
      "text/html": [
       "<div>\n",
       "<style scoped>\n",
       "    .dataframe tbody tr th:only-of-type {\n",
       "        vertical-align: middle;\n",
       "    }\n",
       "\n",
       "    .dataframe tbody tr th {\n",
       "        vertical-align: top;\n",
       "    }\n",
       "\n",
       "    .dataframe thead th {\n",
       "        text-align: right;\n",
       "    }\n",
       "</style>\n",
       "<table border=\"1\" class=\"dataframe\">\n",
       "  <thead>\n",
       "    <tr style=\"text-align: right;\">\n",
       "      <th></th>\n",
       "      <th>Unnamed: 0</th>\n",
       "      <th>A</th>\n",
       "      <th>B</th>\n",
       "      <th>C</th>\n",
       "      <th>D</th>\n",
       "    </tr>\n",
       "  </thead>\n",
       "  <tbody>\n",
       "    <tr>\n",
       "      <th>0</th>\n",
       "      <td>2020-01-01</td>\n",
       "      <td>0.296207</td>\n",
       "      <td>-0.010417</td>\n",
       "      <td>-0.224054</td>\n",
       "      <td>-0.004909</td>\n",
       "    </tr>\n",
       "    <tr>\n",
       "      <th>1</th>\n",
       "      <td>2020-01-02</td>\n",
       "      <td>-0.945534</td>\n",
       "      <td>-2.120802</td>\n",
       "      <td>-1.067651</td>\n",
       "      <td>-1.453913</td>\n",
       "    </tr>\n",
       "    <tr>\n",
       "      <th>2</th>\n",
       "      <td>2020-01-03</td>\n",
       "      <td>-0.050525</td>\n",
       "      <td>-3.206337</td>\n",
       "      <td>-2.734181</td>\n",
       "      <td>-2.325548</td>\n",
       "    </tr>\n",
       "    <tr>\n",
       "      <th>3</th>\n",
       "      <td>2020-01-04</td>\n",
       "      <td>0.134828</td>\n",
       "      <td>-3.630219</td>\n",
       "      <td>-2.515263</td>\n",
       "      <td>-1.603409</td>\n",
       "    </tr>\n",
       "    <tr>\n",
       "      <th>4</th>\n",
       "      <td>2020-01-05</td>\n",
       "      <td>0.031182</td>\n",
       "      <td>-3.824156</td>\n",
       "      <td>-1.767487</td>\n",
       "      <td>-1.795413</td>\n",
       "    </tr>\n",
       "    <tr>\n",
       "      <th>5</th>\n",
       "      <td>2020-01-06</td>\n",
       "      <td>-0.778969</td>\n",
       "      <td>-4.379880</td>\n",
       "      <td>-3.043958</td>\n",
       "      <td>-1.674438</td>\n",
       "    </tr>\n",
       "    <tr>\n",
       "      <th>6</th>\n",
       "      <td>2020-01-07</td>\n",
       "      <td>0.097895</td>\n",
       "      <td>-3.840333</td>\n",
       "      <td>-3.254557</td>\n",
       "      <td>-1.499508</td>\n",
       "    </tr>\n",
       "    <tr>\n",
       "      <th>7</th>\n",
       "      <td>2020-01-08</td>\n",
       "      <td>1.561631</td>\n",
       "      <td>-5.904219</td>\n",
       "      <td>-3.963814</td>\n",
       "      <td>-0.850323</td>\n",
       "    </tr>\n",
       "    <tr>\n",
       "      <th>8</th>\n",
       "      <td>2020-01-09</td>\n",
       "      <td>0.206824</td>\n",
       "      <td>-6.246815</td>\n",
       "      <td>-2.424278</td>\n",
       "      <td>0.404180</td>\n",
       "    </tr>\n",
       "    <tr>\n",
       "      <th>9</th>\n",
       "      <td>2020-01-10</td>\n",
       "      <td>0.396278</td>\n",
       "      <td>-4.173847</td>\n",
       "      <td>-1.301606</td>\n",
       "      <td>1.459633</td>\n",
       "    </tr>\n",
       "  </tbody>\n",
       "</table>\n",
       "</div>"
      ],
      "text/plain": [
       "   Unnamed: 0         A         B         C         D\n",
       "0  2020-01-01  0.296207 -0.010417 -0.224054 -0.004909\n",
       "1  2020-01-02 -0.945534 -2.120802 -1.067651 -1.453913\n",
       "2  2020-01-03 -0.050525 -3.206337 -2.734181 -2.325548\n",
       "3  2020-01-04  0.134828 -3.630219 -2.515263 -1.603409\n",
       "4  2020-01-05  0.031182 -3.824156 -1.767487 -1.795413\n",
       "5  2020-01-06 -0.778969 -4.379880 -3.043958 -1.674438\n",
       "6  2020-01-07  0.097895 -3.840333 -3.254557 -1.499508\n",
       "7  2020-01-08  1.561631 -5.904219 -3.963814 -0.850323\n",
       "8  2020-01-09  0.206824 -6.246815 -2.424278  0.404180\n",
       "9  2020-01-10  0.396278 -4.173847 -1.301606  1.459633"
      ]
     },
     "execution_count": 14,
     "metadata": {},
     "output_type": "execute_result"
    }
   ],
   "source": [
    "csv_df.head(10)"
   ]
  },
  {
   "cell_type": "markdown",
   "metadata": {},
   "source": [
    "- HDF5 파일"
   ]
  },
  {
   "cell_type": "raw",
   "metadata": {},
   "source": [
    "<!--\n",
    "HDF(Hierarchical Data Format)\n",
    "- 이름 그대로 계층적으로 구조화된 다차원 배열 데이터를 저장하기 위하여 HDF Gruop에 의해 만들어진 파일 형식\n",
    "- HDF는 다양한 데이터 타입들을 제공하고 확정성 있고 효울적인 파일 입출, 대용량의 복잡한 데이터를 저장하고 관리하기위하여 설계되었으며 다양한 언어로 된 라이브러리 및 툴들을 제공한다.\n",
    "- 파일 형식으로는 HDF4(이전 표준 형식)와 HDF5(최근 표준 형식)가 사용된\n",
    "-->"
   ]
  },
  {
   "cell_type": "code",
   "execution_count": 15,
   "metadata": {},
   "outputs": [],
   "source": [
    "df.to_hdf('data/foo.h5','df')"
   ]
  },
  {
   "cell_type": "code",
   "execution_count": 16,
   "metadata": {},
   "outputs": [],
   "source": [
    "h5_df = pd.read_hdf('data/foo.h5','df')"
   ]
  },
  {
   "cell_type": "code",
   "execution_count": 17,
   "metadata": {},
   "outputs": [
    {
     "data": {
      "text/html": [
       "<div>\n",
       "<style scoped>\n",
       "    .dataframe tbody tr th:only-of-type {\n",
       "        vertical-align: middle;\n",
       "    }\n",
       "\n",
       "    .dataframe tbody tr th {\n",
       "        vertical-align: top;\n",
       "    }\n",
       "\n",
       "    .dataframe thead th {\n",
       "        text-align: right;\n",
       "    }\n",
       "</style>\n",
       "<table border=\"1\" class=\"dataframe\">\n",
       "  <thead>\n",
       "    <tr style=\"text-align: right;\">\n",
       "      <th></th>\n",
       "      <th>A</th>\n",
       "      <th>B</th>\n",
       "      <th>C</th>\n",
       "      <th>D</th>\n",
       "    </tr>\n",
       "  </thead>\n",
       "  <tbody>\n",
       "    <tr>\n",
       "      <th>2020-01-01</th>\n",
       "      <td>0.296207</td>\n",
       "      <td>-0.010417</td>\n",
       "      <td>-0.224054</td>\n",
       "      <td>-0.004909</td>\n",
       "    </tr>\n",
       "    <tr>\n",
       "      <th>2020-01-02</th>\n",
       "      <td>-0.945534</td>\n",
       "      <td>-2.120802</td>\n",
       "      <td>-1.067651</td>\n",
       "      <td>-1.453913</td>\n",
       "    </tr>\n",
       "    <tr>\n",
       "      <th>2020-01-03</th>\n",
       "      <td>-0.050525</td>\n",
       "      <td>-3.206337</td>\n",
       "      <td>-2.734181</td>\n",
       "      <td>-2.325548</td>\n",
       "    </tr>\n",
       "    <tr>\n",
       "      <th>2020-01-04</th>\n",
       "      <td>0.134828</td>\n",
       "      <td>-3.630219</td>\n",
       "      <td>-2.515263</td>\n",
       "      <td>-1.603409</td>\n",
       "    </tr>\n",
       "    <tr>\n",
       "      <th>2020-01-05</th>\n",
       "      <td>0.031182</td>\n",
       "      <td>-3.824156</td>\n",
       "      <td>-1.767487</td>\n",
       "      <td>-1.795413</td>\n",
       "    </tr>\n",
       "  </tbody>\n",
       "</table>\n",
       "</div>"
      ],
      "text/plain": [
       "                   A         B         C         D\n",
       "2020-01-01  0.296207 -0.010417 -0.224054 -0.004909\n",
       "2020-01-02 -0.945534 -2.120802 -1.067651 -1.453913\n",
       "2020-01-03 -0.050525 -3.206337 -2.734181 -2.325548\n",
       "2020-01-04  0.134828 -3.630219 -2.515263 -1.603409\n",
       "2020-01-05  0.031182 -3.824156 -1.767487 -1.795413"
      ]
     },
     "execution_count": 17,
     "metadata": {},
     "output_type": "execute_result"
    }
   ],
   "source": [
    "h5_df.head()"
   ]
  },
  {
   "cell_type": "markdown",
   "metadata": {},
   "source": [
    "- Excel 파일"
   ]
  },
  {
   "cell_type": "code",
   "execution_count": 18,
   "metadata": {},
   "outputs": [],
   "source": [
    "df.to_excel('data/foo.xlsx', sheet_name='Sheet1')"
   ]
  },
  {
   "cell_type": "code",
   "execution_count": 19,
   "metadata": {},
   "outputs": [],
   "source": [
    "excel_df = pd.read_excel('data/foo.xlsx', 'Sheet1', index_col=None, na_values=['NA'])"
   ]
  },
  {
   "cell_type": "code",
   "execution_count": 20,
   "metadata": {},
   "outputs": [
    {
     "data": {
      "text/html": [
       "<div>\n",
       "<style scoped>\n",
       "    .dataframe tbody tr th:only-of-type {\n",
       "        vertical-align: middle;\n",
       "    }\n",
       "\n",
       "    .dataframe tbody tr th {\n",
       "        vertical-align: top;\n",
       "    }\n",
       "\n",
       "    .dataframe thead th {\n",
       "        text-align: right;\n",
       "    }\n",
       "</style>\n",
       "<table border=\"1\" class=\"dataframe\">\n",
       "  <thead>\n",
       "    <tr style=\"text-align: right;\">\n",
       "      <th></th>\n",
       "      <th>Unnamed: 0</th>\n",
       "      <th>A</th>\n",
       "      <th>B</th>\n",
       "      <th>C</th>\n",
       "      <th>D</th>\n",
       "    </tr>\n",
       "  </thead>\n",
       "  <tbody>\n",
       "    <tr>\n",
       "      <th>0</th>\n",
       "      <td>2020-01-01</td>\n",
       "      <td>0.296207</td>\n",
       "      <td>-0.010417</td>\n",
       "      <td>-0.224054</td>\n",
       "      <td>-0.004909</td>\n",
       "    </tr>\n",
       "    <tr>\n",
       "      <th>1</th>\n",
       "      <td>2020-01-02</td>\n",
       "      <td>-0.945534</td>\n",
       "      <td>-2.120802</td>\n",
       "      <td>-1.067651</td>\n",
       "      <td>-1.453913</td>\n",
       "    </tr>\n",
       "    <tr>\n",
       "      <th>2</th>\n",
       "      <td>2020-01-03</td>\n",
       "      <td>-0.050525</td>\n",
       "      <td>-3.206337</td>\n",
       "      <td>-2.734181</td>\n",
       "      <td>-2.325548</td>\n",
       "    </tr>\n",
       "    <tr>\n",
       "      <th>3</th>\n",
       "      <td>2020-01-04</td>\n",
       "      <td>0.134828</td>\n",
       "      <td>-3.630219</td>\n",
       "      <td>-2.515263</td>\n",
       "      <td>-1.603409</td>\n",
       "    </tr>\n",
       "    <tr>\n",
       "      <th>4</th>\n",
       "      <td>2020-01-05</td>\n",
       "      <td>0.031182</td>\n",
       "      <td>-3.824156</td>\n",
       "      <td>-1.767487</td>\n",
       "      <td>-1.795413</td>\n",
       "    </tr>\n",
       "  </tbody>\n",
       "</table>\n",
       "</div>"
      ],
      "text/plain": [
       "  Unnamed: 0         A         B         C         D\n",
       "0 2020-01-01  0.296207 -0.010417 -0.224054 -0.004909\n",
       "1 2020-01-02 -0.945534 -2.120802 -1.067651 -1.453913\n",
       "2 2020-01-03 -0.050525 -3.206337 -2.734181 -2.325548\n",
       "3 2020-01-04  0.134828 -3.630219 -2.515263 -1.603409\n",
       "4 2020-01-05  0.031182 -3.824156 -1.767487 -1.795413"
      ]
     },
     "execution_count": 20,
     "metadata": {},
     "output_type": "execute_result"
    }
   ],
   "source": [
    "excel_df.head()"
   ]
  },
  {
   "cell_type": "code",
   "execution_count": 21,
   "metadata": {},
   "outputs": [
    {
     "data": {
      "text/html": [
       "<div>\n",
       "<style scoped>\n",
       "    .dataframe tbody tr th:only-of-type {\n",
       "        vertical-align: middle;\n",
       "    }\n",
       "\n",
       "    .dataframe tbody tr th {\n",
       "        vertical-align: top;\n",
       "    }\n",
       "\n",
       "    .dataframe thead th {\n",
       "        text-align: right;\n",
       "    }\n",
       "</style>\n",
       "<table border=\"1\" class=\"dataframe\">\n",
       "  <thead>\n",
       "    <tr style=\"text-align: right;\">\n",
       "      <th></th>\n",
       "      <th>A</th>\n",
       "      <th>B</th>\n",
       "      <th>C</th>\n",
       "      <th>D</th>\n",
       "    </tr>\n",
       "  </thead>\n",
       "  <tbody>\n",
       "    <tr>\n",
       "      <th>2020-01-01</th>\n",
       "      <td>0.296207</td>\n",
       "      <td>-0.010417</td>\n",
       "      <td>-0.224054</td>\n",
       "      <td>-0.004909</td>\n",
       "    </tr>\n",
       "    <tr>\n",
       "      <th>2020-01-02</th>\n",
       "      <td>-0.945534</td>\n",
       "      <td>-2.120802</td>\n",
       "      <td>-1.067651</td>\n",
       "      <td>-1.453913</td>\n",
       "    </tr>\n",
       "    <tr>\n",
       "      <th>2020-01-03</th>\n",
       "      <td>-0.050525</td>\n",
       "      <td>-3.206337</td>\n",
       "      <td>-2.734181</td>\n",
       "      <td>-2.325548</td>\n",
       "    </tr>\n",
       "    <tr>\n",
       "      <th>2020-01-04</th>\n",
       "      <td>0.134828</td>\n",
       "      <td>-3.630219</td>\n",
       "      <td>-2.515263</td>\n",
       "      <td>-1.603409</td>\n",
       "    </tr>\n",
       "    <tr>\n",
       "      <th>2020-01-05</th>\n",
       "      <td>0.031182</td>\n",
       "      <td>-3.824156</td>\n",
       "      <td>-1.767487</td>\n",
       "      <td>-1.795413</td>\n",
       "    </tr>\n",
       "  </tbody>\n",
       "</table>\n",
       "</div>"
      ],
      "text/plain": [
       "                   A         B         C         D\n",
       "2020-01-01  0.296207 -0.010417 -0.224054 -0.004909\n",
       "2020-01-02 -0.945534 -2.120802 -1.067651 -1.453913\n",
       "2020-01-03 -0.050525 -3.206337 -2.734181 -2.325548\n",
       "2020-01-04  0.134828 -3.630219 -2.515263 -1.603409\n",
       "2020-01-05  0.031182 -3.824156 -1.767487 -1.795413"
      ]
     },
     "execution_count": 21,
     "metadata": {},
     "output_type": "execute_result"
    }
   ],
   "source": [
    "df.head()"
   ]
  },
  {
   "cell_type": "markdown",
   "metadata": {},
   "source": [
    "## 13. Gotchas (잡았다!)"
   ]
  },
  {
   "cell_type": "markdown",
   "metadata": {},
   "source": [
    "```python\n",
    "\n",
    "# 연산 수행 시 다음과 같은 예외 상황을 볼 수도 있습니다.\n",
    "if pd.Series([False, True, False]):\n",
    "    print(\"I was true\")\n",
    "   \n",
    "---------------------------------------------------------------------------\n",
    "ValueError                                Traceback (most recent call last)\n",
    "Input In [30], in <cell line: 2>()\n",
    "      1 # 연산 수행 시 다음과 같은 예외 상황을 볼 수도 있습니다.\n",
    "----> 2 if pd.Series([False, True, False]):\n",
    "      3     print(\"I was true\")\n",
    "\n",
    "File C:\\Python\\anaconda3\\lib\\site-packages\\pandas\\core\\generic.py:1527, in NDFrame.__nonzero__(self)\n",
    "   1525 @final\n",
    "   1526 def __nonzero__(self):\n",
    "-> 1527     raise ValueError(\n",
    "   1528         f\"The truth value of a {type(self).__name__} is ambiguous. \"\n",
    "   1529         \"Use a.empty, a.bool(), a.item(), a.any() or a.all().\"\n",
    "   1530     )\n",
    "\n",
    "ValueError: The truth value of a Series is ambiguous. Use a.empty, a.bool(), a.item(), a.any() or a.all().\n",
    "    \n",
    "   \n",
    "```"
   ]
  },
  {
   "cell_type": "code",
   "execution_count": 22,
   "metadata": {},
   "outputs": [
    {
     "name": "stdout",
     "output_type": "stream",
     "text": [
      "I was not None\n"
     ]
    }
   ],
   "source": [
    "# 이러한 경우에는 any(), all(), empty 등을 사용해서 무엇을 원하는지를 선택 (반영)해주어야 합니다.\n",
    "\n",
    "if pd.Series([False, True, False])is not None:\n",
    "      print(\"I was not None\")"
   ]
  },
  {
   "cell_type": "code",
   "execution_count": 23,
   "metadata": {},
   "outputs": [
    {
     "data": {
      "text/plain": [
       "0    False\n",
       "1     True\n",
       "2    False\n",
       "dtype: bool"
      ]
     },
     "execution_count": 23,
     "metadata": {},
     "output_type": "execute_result"
    }
   ],
   "source": [
    "bools = pd.Series([False, True, False])\n",
    "bools"
   ]
  },
  {
   "cell_type": "code",
   "execution_count": 24,
   "metadata": {},
   "outputs": [
    {
     "data": {
      "text/plain": [
       "False"
      ]
     },
     "execution_count": 24,
     "metadata": {},
     "output_type": "execute_result"
    }
   ],
   "source": [
    "bools.all()"
   ]
  },
  {
   "cell_type": "code",
   "execution_count": 25,
   "metadata": {},
   "outputs": [
    {
     "data": {
      "text/plain": [
       "True"
      ]
     },
     "execution_count": 25,
     "metadata": {},
     "output_type": "execute_result"
    }
   ],
   "source": [
    "bools.any()"
   ]
  },
  {
   "cell_type": "code",
   "execution_count": 26,
   "metadata": {},
   "outputs": [
    {
     "data": {
      "text/plain": [
       "False"
      ]
     },
     "execution_count": 26,
     "metadata": {},
     "output_type": "execute_result"
    }
   ],
   "source": [
    "bools.empty"
   ]
  },
  {
   "cell_type": "code",
   "execution_count": 27,
   "metadata": {},
   "outputs": [],
   "source": [
    "bools = pd.Series([ True, True, True ])"
   ]
  },
  {
   "cell_type": "code",
   "execution_count": 28,
   "metadata": {},
   "outputs": [
    {
     "data": {
      "text/plain": [
       "(True, True, False)"
      ]
     },
     "execution_count": 28,
     "metadata": {},
     "output_type": "execute_result"
    }
   ],
   "source": [
    "bools.all(), bools.any(), bools.empty"
   ]
  },
  {
   "cell_type": "code",
   "execution_count": 29,
   "metadata": {},
   "outputs": [
    {
     "data": {
      "text/plain": [
       "(False, False, False)"
      ]
     },
     "execution_count": 29,
     "metadata": {},
     "output_type": "execute_result"
    }
   ],
   "source": [
    "bools = pd.Series([ False, False, False ])\n",
    "bools.all(), bools.any(), bools.empty"
   ]
  },
  {
   "cell_type": "markdown",
   "metadata": {},
   "source": [
    "<hr>\n",
    "<marquee><font size=3 color='brown'>The BigpyCraft find the information to design valuable society with Technology & Craft.</font></marquee>\n",
    "<div align='right'><font size=2 color='gray'> &lt; The End &gt; </font></div>"
   ]
  }
 ],
 "metadata": {
  "anaconda-cloud": {},
  "kernelspec": {
   "display_name": "Python 3 (ipykernel)",
   "language": "python",
   "name": "python3"
  },
  "language_info": {
   "codemirror_mode": {
    "name": "ipython",
    "version": 3
   },
   "file_extension": ".py",
   "mimetype": "text/x-python",
   "name": "python",
   "nbconvert_exporter": "python",
   "pygments_lexer": "ipython3",
   "version": "3.9.7"
  }
 },
 "nbformat": 4,
 "nbformat_minor": 1
}
