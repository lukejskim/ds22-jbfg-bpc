{
 "cells": [
  {
   "cell_type": "markdown",
   "metadata": {},
   "source": [
    "# Industry 4.0 의 중심, BigData"
   ]
  },
  {
   "cell_type": "markdown",
   "metadata": {},
   "source": [
    "<div align='right'><font size=2 color='gray'>Data Processing Based Python @ <font color='blue'><a href='https://www.facebook.com/jskim.kr'>FB / jskim.kr</a></font>, [김진수](bigpycraft@gmail.com)</font></div>\n",
    "<hr>"
   ]
  },
  {
   "cell_type": "markdown",
   "metadata": {},
   "source": [
    "# Pandas Basic VI"
   ]
  },
  {
   "cell_type": "code",
   "execution_count": 1,
   "metadata": {},
   "outputs": [],
   "source": [
    "# Pandas Basics\n",
    "from IPython.display import Image \n",
    "\n",
    "from pandas import Series, DataFrame\n",
    "import pandas as pd\n",
    "import numpy as np"
   ]
  },
  {
   "cell_type": "markdown",
   "metadata": {},
   "source": [
    "## 6. Other pandas topics\n",
    "> pandas와 관련된 기타 주제"
   ]
  },
  {
   "cell_type": "markdown",
   "metadata": {},
   "source": [
    "### <font color='brown'> Integer indexing </font>\n",
    "> 정수 색인\n",
    "> - pandas 객체를 정수로 색인해서 사용하는 일은 파이썬에서 리스트나 튜플 같은 기본 자료 구조에서 사용하는 색인의 의미와 약간 달라서 종종 실수를 할 수 있으므로 주의한다 !!"
   ]
  },
  {
   "cell_type": "code",
   "execution_count": 2,
   "metadata": {},
   "outputs": [
    {
     "data": {
      "text/plain": [
       "0    0.0\n",
       "1    1.0\n",
       "2    2.0\n",
       "dtype: float64"
      ]
     },
     "execution_count": 2,
     "metadata": {},
     "output_type": "execute_result"
    }
   ],
   "source": [
    "ser = Series(np.arange(3.))\n",
    "ser"
   ]
  },
  {
   "cell_type": "code",
   "execution_count": 3,
   "metadata": {},
   "outputs": [
    {
     "data": {
      "text/plain": [
       "2.0"
      ]
     },
     "execution_count": 3,
     "metadata": {},
     "output_type": "execute_result"
    }
   ],
   "source": [
    "ser.iloc[-1]"
   ]
  },
  {
   "cell_type": "code",
   "execution_count": 4,
   "metadata": {},
   "outputs": [
    {
     "data": {
      "text/plain": [
       "a    0.0\n",
       "b    1.0\n",
       "c    2.0\n",
       "dtype: float64"
      ]
     },
     "execution_count": 4,
     "metadata": {},
     "output_type": "execute_result"
    }
   ],
   "source": [
    "ser2 = Series(np.arange(3.), index=['a', 'b', 'c'])\n",
    "ser2"
   ]
  },
  {
   "cell_type": "code",
   "execution_count": 5,
   "metadata": {},
   "outputs": [
    {
     "data": {
      "text/plain": [
       "2.0"
      ]
     },
     "execution_count": 5,
     "metadata": {},
     "output_type": "execute_result"
    }
   ],
   "source": [
    "ser2[-1]"
   ]
  },
  {
   "cell_type": "code",
   "execution_count": 6,
   "metadata": {},
   "outputs": [
    {
     "data": {
      "text/plain": [
       "0    0.0\n",
       "1    1.0\n",
       "dtype: float64"
      ]
     },
     "execution_count": 6,
     "metadata": {},
     "output_type": "execute_result"
    }
   ],
   "source": [
    "# ser.ix[:1]\n",
    "ser.loc[:1]"
   ]
  },
  {
   "cell_type": "code",
   "execution_count": 7,
   "metadata": {},
   "outputs": [
    {
     "data": {
      "text/plain": [
       "0    0.0\n",
       "1    1.0\n",
       "dtype: float64"
      ]
     },
     "execution_count": 7,
     "metadata": {},
     "output_type": "execute_result"
    }
   ],
   "source": [
    "ser.loc[:1]"
   ]
  },
  {
   "cell_type": "code",
   "execution_count": 8,
   "metadata": {},
   "outputs": [
    {
     "data": {
      "text/plain": [
       "0    0.0\n",
       "dtype: float64"
      ]
     },
     "execution_count": 8,
     "metadata": {},
     "output_type": "execute_result"
    }
   ],
   "source": [
    "ser.iloc[:1]"
   ]
  },
  {
   "cell_type": "code",
   "execution_count": null,
   "metadata": {},
   "outputs": [],
   "source": []
  },
  {
   "cell_type": "code",
   "execution_count": 9,
   "metadata": {},
   "outputs": [
    {
     "data": {
      "text/plain": [
       "-5    0\n",
       " 1    1\n",
       " 3    2\n",
       "dtype: int64"
      ]
     },
     "execution_count": 9,
     "metadata": {},
     "output_type": "execute_result"
    }
   ],
   "source": [
    "ser3 = Series(range(3), index=[-5, 1, 3])\n",
    "ser3"
   ]
  },
  {
   "cell_type": "code",
   "execution_count": 10,
   "metadata": {},
   "outputs": [
    {
     "data": {
      "text/plain": [
       "2"
      ]
     },
     "execution_count": 10,
     "metadata": {},
     "output_type": "execute_result"
    }
   ],
   "source": [
    "ser3.iloc[2]"
   ]
  },
  {
   "cell_type": "code",
   "execution_count": 11,
   "metadata": {},
   "outputs": [
    {
     "data": {
      "text/html": [
       "<div>\n",
       "<style scoped>\n",
       "    .dataframe tbody tr th:only-of-type {\n",
       "        vertical-align: middle;\n",
       "    }\n",
       "\n",
       "    .dataframe tbody tr th {\n",
       "        vertical-align: top;\n",
       "    }\n",
       "\n",
       "    .dataframe thead th {\n",
       "        text-align: right;\n",
       "    }\n",
       "</style>\n",
       "<table border=\"1\" class=\"dataframe\">\n",
       "  <thead>\n",
       "    <tr style=\"text-align: right;\">\n",
       "      <th></th>\n",
       "      <th>0</th>\n",
       "      <th>1</th>\n",
       "    </tr>\n",
       "  </thead>\n",
       "  <tbody>\n",
       "    <tr>\n",
       "      <th>2</th>\n",
       "      <td>0</td>\n",
       "      <td>1</td>\n",
       "    </tr>\n",
       "    <tr>\n",
       "      <th>0</th>\n",
       "      <td>2</td>\n",
       "      <td>3</td>\n",
       "    </tr>\n",
       "    <tr>\n",
       "      <th>1</th>\n",
       "      <td>4</td>\n",
       "      <td>5</td>\n",
       "    </tr>\n",
       "  </tbody>\n",
       "</table>\n",
       "</div>"
      ],
      "text/plain": [
       "   0  1\n",
       "2  0  1\n",
       "0  2  3\n",
       "1  4  5"
      ]
     },
     "execution_count": 11,
     "metadata": {},
     "output_type": "execute_result"
    }
   ],
   "source": [
    "frame = DataFrame(np.arange(6).reshape((3, 2)), index=[2, 0, 1])\n",
    "frame"
   ]
  },
  {
   "cell_type": "code",
   "execution_count": 12,
   "metadata": {},
   "outputs": [
    {
     "data": {
      "text/plain": [
       "0    0\n",
       "1    1\n",
       "Name: 2, dtype: int32"
      ]
     },
     "execution_count": 12,
     "metadata": {},
     "output_type": "execute_result"
    }
   ],
   "source": [
    "frame.iloc[0]"
   ]
  },
  {
   "cell_type": "markdown",
   "metadata": {},
   "source": [
    "### <font color='gray'> Panel data :</font>   <font color='red'> is no longer supported in Pandas </font>\n",
    "> Panel 데이터\n",
    "> - Panel : DataFrame 객체를 담고 있는 사전이나 3차원 ndarray를 통해 생성할 수 있다.\n",
    "> - Panel은 DataFrame의 3차원 버전이라고 이해 !!\n",
    "> - pandas 개발은 스프레드시트 형식의 데이터를 다루는 데 초점을 맞추고 있고,\n",
    "> - 계층적 색인을 이용하면 대개의 경우 N차원 배열은 불필요하다."
   ]
  },
  {
   "cell_type": "code",
   "execution_count": 13,
   "metadata": {},
   "outputs": [
    {
     "data": {
      "text/plain": [
       "'현재 사용중인 pandas의 버전은 1.3.4 입니다'"
      ]
     },
     "execution_count": 13,
     "metadata": {},
     "output_type": "execute_result"
    }
   ],
   "source": [
    "\"현재 사용중인 pandas의 버전은 {} 입니다\".format(pd.__version__)"
   ]
  },
  {
   "cell_type": "raw",
   "metadata": {},
   "source": [
    "<!--\n",
    "import pandas_datareader as web\n",
    "\n",
    "출처: https://wendys.tistory.com/176?category=769564 [웬디의 기묘한 이야기:티스토리]\n",
    "\n",
    "https://wendys.tistory.com/173 - Pandas를 이용하여 주식 종목 코드 가져오기\n",
    "https://wendys.tistory.com/174 - pandas_datareader를 이용하여 주식 데이터 가져오기! Yahoo Finance\n",
    "\n",
    "\n",
    "예제로 배우는 파이썬 프로그래밍\n",
    "http://pythonstudy.xyz/\n",
    "- Python GUI\n",
    "- Python Data\n",
    "- Django 기초\n",
    "- Python 활용\n",
    "- Python TIP\n",
    "\n",
    "-->"
   ]
  },
  {
   "cell_type": "markdown",
   "metadata": {},
   "source": [
    "#### 상장법인목록 다운\n",
    "> - 한국거래소에서 상장법인목록을 엑셀로 다운로드하는 링크\n",
    "> - [ [상장법인목록 다운로드] ](http://kind.krx.co.kr/corpgeneral/corpList.do?method=download)"
   ]
  },
  {
   "cell_type": "raw",
   "metadata": {},
   "source": [
    "<!--\n",
    "CASE1\n",
    "# excel 파일을 다운로드하는거와 동시에 pandas에 load하기\n",
    "# 흔히 사용하는 df라는 변수는 data frame을 의미합니다.\n",
    "df = pd.read_html('http://kind.krx.co.kr/corpgeneral/corpList.do?method=download', header=0)\n",
    "\n",
    "\n",
    "CASE2\n",
    "df = pd.read_html('./data/상장법인목록.xls', header=0)[0]\n",
    "df.head()\n",
    "-->"
   ]
  },
  {
   "cell_type": "markdown",
   "metadata": {},
   "source": [
    "#### Case1. Download Excel Loading "
   ]
  },
  {
   "cell_type": "code",
   "execution_count": 14,
   "metadata": {},
   "outputs": [],
   "source": [
    "# excel 파일을 다운로드하는거와 동시에 pandas에 load하기\n",
    "# 흔히 사용하는 df라는 변수는 data frame을 의미합니다.\n",
    "download = pd.read_html('http://kind.krx.co.kr/corpgeneral/corpList.do?method=download', header=0)"
   ]
  },
  {
   "cell_type": "code",
   "execution_count": 15,
   "metadata": {},
   "outputs": [
    {
     "data": {
      "text/plain": [
       "list"
      ]
     },
     "execution_count": 15,
     "metadata": {},
     "output_type": "execute_result"
    }
   ],
   "source": [
    "type(download)"
   ]
  },
  {
   "cell_type": "code",
   "execution_count": 16,
   "metadata": {},
   "outputs": [
    {
     "data": {
      "text/plain": [
       "1"
      ]
     },
     "execution_count": 16,
     "metadata": {},
     "output_type": "execute_result"
    }
   ],
   "source": [
    "len(download)"
   ]
  },
  {
   "cell_type": "code",
   "execution_count": 17,
   "metadata": {},
   "outputs": [
    {
     "data": {
      "text/plain": [
       "pandas.core.frame.DataFrame"
      ]
     },
     "execution_count": 17,
     "metadata": {},
     "output_type": "execute_result"
    }
   ],
   "source": [
    "type(download[0])"
   ]
  },
  {
   "cell_type": "code",
   "execution_count": 18,
   "metadata": {},
   "outputs": [
    {
     "data": {
      "text/html": [
       "<div>\n",
       "<style scoped>\n",
       "    .dataframe tbody tr th:only-of-type {\n",
       "        vertical-align: middle;\n",
       "    }\n",
       "\n",
       "    .dataframe tbody tr th {\n",
       "        vertical-align: top;\n",
       "    }\n",
       "\n",
       "    .dataframe thead th {\n",
       "        text-align: right;\n",
       "    }\n",
       "</style>\n",
       "<table border=\"1\" class=\"dataframe\">\n",
       "  <thead>\n",
       "    <tr style=\"text-align: right;\">\n",
       "      <th></th>\n",
       "      <th>회사명</th>\n",
       "      <th>종목코드</th>\n",
       "      <th>업종</th>\n",
       "      <th>주요제품</th>\n",
       "      <th>상장일</th>\n",
       "      <th>결산월</th>\n",
       "      <th>대표자명</th>\n",
       "      <th>홈페이지</th>\n",
       "      <th>지역</th>\n",
       "    </tr>\n",
       "  </thead>\n",
       "  <tbody>\n",
       "    <tr>\n",
       "      <th>0</th>\n",
       "      <td>DL</td>\n",
       "      <td>210</td>\n",
       "      <td>기타 금융업</td>\n",
       "      <td>지주회사</td>\n",
       "      <td>1976-02-02</td>\n",
       "      <td>12월</td>\n",
       "      <td>전병욱</td>\n",
       "      <td>http://www.dlholdings.co.kr</td>\n",
       "      <td>서울특별시</td>\n",
       "    </tr>\n",
       "    <tr>\n",
       "      <th>1</th>\n",
       "      <td>DRB동일</td>\n",
       "      <td>4840</td>\n",
       "      <td>고무제품 제조업</td>\n",
       "      <td>고무벨트(V벨트,콘베이어벨트,평벨트),프라스틱제품 제조,판매</td>\n",
       "      <td>1976-05-21</td>\n",
       "      <td>12월</td>\n",
       "      <td>류영식</td>\n",
       "      <td>http://drbworld.com</td>\n",
       "      <td>부산광역시</td>\n",
       "    </tr>\n",
       "    <tr>\n",
       "      <th>2</th>\n",
       "      <td>DSR</td>\n",
       "      <td>155660</td>\n",
       "      <td>1차 비철금속 제조업</td>\n",
       "      <td>합섬섬유로프</td>\n",
       "      <td>2013-05-15</td>\n",
       "      <td>12월</td>\n",
       "      <td>홍석빈</td>\n",
       "      <td>http://www.dsr.com</td>\n",
       "      <td>부산광역시</td>\n",
       "    </tr>\n",
       "    <tr>\n",
       "      <th>3</th>\n",
       "      <td>GS</td>\n",
       "      <td>78930</td>\n",
       "      <td>기타 금융업</td>\n",
       "      <td>지주회사/부동산 임대</td>\n",
       "      <td>2004-08-05</td>\n",
       "      <td>12월</td>\n",
       "      <td>허태수, 홍순기 (각자 대표이사)</td>\n",
       "      <td>NaN</td>\n",
       "      <td>서울특별시</td>\n",
       "    </tr>\n",
       "    <tr>\n",
       "      <th>4</th>\n",
       "      <td>KG케미칼</td>\n",
       "      <td>1390</td>\n",
       "      <td>기초 화학물질 제조업</td>\n",
       "      <td>콘크리트혼화제, 비료, 친환경농자재, 수처리제</td>\n",
       "      <td>1989-08-25</td>\n",
       "      <td>12월</td>\n",
       "      <td>곽정현, 김재익</td>\n",
       "      <td>http://www.kgchem.co.kr</td>\n",
       "      <td>울산광역시</td>\n",
       "    </tr>\n",
       "  </tbody>\n",
       "</table>\n",
       "</div>"
      ],
      "text/plain": [
       "     회사명    종목코드           업종                               주요제품         상장일  \\\n",
       "0     DL     210       기타 금융업                               지주회사  1976-02-02   \n",
       "1  DRB동일    4840     고무제품 제조업  고무벨트(V벨트,콘베이어벨트,평벨트),프라스틱제품 제조,판매  1976-05-21   \n",
       "2    DSR  155660  1차 비철금속 제조업                             합섬섬유로프  2013-05-15   \n",
       "3     GS   78930       기타 금융업                        지주회사/부동산 임대  2004-08-05   \n",
       "4  KG케미칼    1390  기초 화학물질 제조업          콘크리트혼화제, 비료, 친환경농자재, 수처리제  1989-08-25   \n",
       "\n",
       "   결산월                대표자명                         홈페이지     지역  \n",
       "0  12월                 전병욱  http://www.dlholdings.co.kr  서울특별시  \n",
       "1  12월                 류영식          http://drbworld.com  부산광역시  \n",
       "2  12월                 홍석빈           http://www.dsr.com  부산광역시  \n",
       "3  12월  허태수, 홍순기 (각자 대표이사)                          NaN  서울특별시  \n",
       "4  12월            곽정현, 김재익      http://www.kgchem.co.kr  울산광역시  "
      ]
     },
     "execution_count": 18,
     "metadata": {},
     "output_type": "execute_result"
    }
   ],
   "source": [
    "corp_df = download[0]\n",
    "corp_df.head()"
   ]
  },
  {
   "cell_type": "code",
   "execution_count": 19,
   "metadata": {},
   "outputs": [
    {
     "data": {
      "text/plain": [
       "2498"
      ]
     },
     "execution_count": 19,
     "metadata": {},
     "output_type": "execute_result"
    }
   ],
   "source": [
    "len(corp_df)"
   ]
  },
  {
   "cell_type": "code",
   "execution_count": 20,
   "metadata": {},
   "outputs": [
    {
     "data": {
      "text/html": [
       "<div>\n",
       "<style scoped>\n",
       "    .dataframe tbody tr th:only-of-type {\n",
       "        vertical-align: middle;\n",
       "    }\n",
       "\n",
       "    .dataframe tbody tr th {\n",
       "        vertical-align: top;\n",
       "    }\n",
       "\n",
       "    .dataframe thead th {\n",
       "        text-align: right;\n",
       "    }\n",
       "</style>\n",
       "<table border=\"1\" class=\"dataframe\">\n",
       "  <thead>\n",
       "    <tr style=\"text-align: right;\">\n",
       "      <th></th>\n",
       "      <th>회사명</th>\n",
       "      <th>종목코드</th>\n",
       "      <th>업종</th>\n",
       "      <th>주요제품</th>\n",
       "      <th>상장일</th>\n",
       "      <th>결산월</th>\n",
       "      <th>대표자명</th>\n",
       "      <th>홈페이지</th>\n",
       "      <th>지역</th>\n",
       "    </tr>\n",
       "  </thead>\n",
       "  <tbody>\n",
       "    <tr>\n",
       "      <th>2493</th>\n",
       "      <td>타임기술</td>\n",
       "      <td>318660</td>\n",
       "      <td>소프트웨어 개발 및 공급업</td>\n",
       "      <td>ILS(종합군수지원), IETM(전자식기술교범), CBT(전자식교보재), 기술번역</td>\n",
       "      <td>2021-06-24</td>\n",
       "      <td>12월</td>\n",
       "      <td>주양효</td>\n",
       "      <td>http://timett.co.kr</td>\n",
       "      <td>경상남도</td>\n",
       "    </tr>\n",
       "    <tr>\n",
       "      <th>2494</th>\n",
       "      <td>틸론</td>\n",
       "      <td>217880</td>\n",
       "      <td>소프트웨어 개발 및 공급업</td>\n",
       "      <td>Cloud Solution (D,A,E,Rstation)</td>\n",
       "      <td>2015-05-28</td>\n",
       "      <td>12월</td>\n",
       "      <td>최백준</td>\n",
       "      <td>http://www.tilon.co.kr</td>\n",
       "      <td>서울특별시</td>\n",
       "    </tr>\n",
       "    <tr>\n",
       "      <th>2495</th>\n",
       "      <td>플럼라인생명과학</td>\n",
       "      <td>222670</td>\n",
       "      <td>자연과학 및 공학 연구개발업</td>\n",
       "      <td>강아지암치료제,돼지DNA테라피</td>\n",
       "      <td>2015-07-28</td>\n",
       "      <td>12월</td>\n",
       "      <td>김앤토니경태</td>\n",
       "      <td>http://www.plsdna.com</td>\n",
       "      <td>서울특별시</td>\n",
       "    </tr>\n",
       "    <tr>\n",
       "      <th>2496</th>\n",
       "      <td>한국미라클피플사</td>\n",
       "      <td>331660</td>\n",
       "      <td>기타 화학제품 제조업</td>\n",
       "      <td>은나노스텝, 닥터오렌지 등</td>\n",
       "      <td>2019-10-28</td>\n",
       "      <td>12월</td>\n",
       "      <td>이호경</td>\n",
       "      <td>http://www.kmpc.co.kr</td>\n",
       "      <td>경기도</td>\n",
       "    </tr>\n",
       "    <tr>\n",
       "      <th>2497</th>\n",
       "      <td>휴벡셀</td>\n",
       "      <td>212310</td>\n",
       "      <td>의료용 기기 제조업</td>\n",
       "      <td>척추용 임플란트 등</td>\n",
       "      <td>2016-07-26</td>\n",
       "      <td>12월</td>\n",
       "      <td>박정민, 허성규(각자대표)</td>\n",
       "      <td>http://huvexel.com</td>\n",
       "      <td>경기도</td>\n",
       "    </tr>\n",
       "  </tbody>\n",
       "</table>\n",
       "</div>"
      ],
      "text/plain": [
       "           회사명    종목코드               업종  \\\n",
       "2493      타임기술  318660   소프트웨어 개발 및 공급업   \n",
       "2494        틸론  217880   소프트웨어 개발 및 공급업   \n",
       "2495  플럼라인생명과학  222670  자연과학 및 공학 연구개발업   \n",
       "2496  한국미라클피플사  331660      기타 화학제품 제조업   \n",
       "2497       휴벡셀  212310       의료용 기기 제조업   \n",
       "\n",
       "                                               주요제품         상장일  결산월  \\\n",
       "2493  ILS(종합군수지원), IETM(전자식기술교범), CBT(전자식교보재), 기술번역  2021-06-24  12월   \n",
       "2494                Cloud Solution (D,A,E,Rstation)  2015-05-28  12월   \n",
       "2495                               강아지암치료제,돼지DNA테라피  2015-07-28  12월   \n",
       "2496                                 은나노스텝, 닥터오렌지 등  2019-10-28  12월   \n",
       "2497                                     척추용 임플란트 등  2016-07-26  12월   \n",
       "\n",
       "                대표자명                    홈페이지     지역  \n",
       "2493             주양효     http://timett.co.kr   경상남도  \n",
       "2494             최백준  http://www.tilon.co.kr  서울특별시  \n",
       "2495          김앤토니경태   http://www.plsdna.com  서울특별시  \n",
       "2496             이호경   http://www.kmpc.co.kr    경기도  \n",
       "2497  박정민, 허성규(각자대표)      http://huvexel.com    경기도  "
      ]
     },
     "execution_count": 20,
     "metadata": {},
     "output_type": "execute_result"
    }
   ],
   "source": [
    "corp_df.tail()"
   ]
  },
  {
   "cell_type": "code",
   "execution_count": null,
   "metadata": {},
   "outputs": [],
   "source": []
  },
  {
   "cell_type": "markdown",
   "metadata": {},
   "source": [
    "#### Case2. Download Excel Loading "
   ]
  },
  {
   "cell_type": "code",
   "execution_count": 21,
   "metadata": {},
   "outputs": [
    {
     "data": {
      "text/html": [
       "<div>\n",
       "<style scoped>\n",
       "    .dataframe tbody tr th:only-of-type {\n",
       "        vertical-align: middle;\n",
       "    }\n",
       "\n",
       "    .dataframe tbody tr th {\n",
       "        vertical-align: top;\n",
       "    }\n",
       "\n",
       "    .dataframe thead th {\n",
       "        text-align: right;\n",
       "    }\n",
       "</style>\n",
       "<table border=\"1\" class=\"dataframe\">\n",
       "  <thead>\n",
       "    <tr style=\"text-align: right;\">\n",
       "      <th></th>\n",
       "      <th>회사명</th>\n",
       "      <th>종목코드</th>\n",
       "      <th>업종</th>\n",
       "      <th>주요제품</th>\n",
       "      <th>상장일</th>\n",
       "      <th>결산월</th>\n",
       "      <th>대표자명</th>\n",
       "      <th>홈페이지</th>\n",
       "      <th>지역</th>\n",
       "    </tr>\n",
       "  </thead>\n",
       "  <tbody>\n",
       "    <tr>\n",
       "      <th>0</th>\n",
       "      <td>DL</td>\n",
       "      <td>210</td>\n",
       "      <td>기타 금융업</td>\n",
       "      <td>지주회사</td>\n",
       "      <td>1976-02-02</td>\n",
       "      <td>12월</td>\n",
       "      <td>전병욱</td>\n",
       "      <td>http://www.dlholdings.co.kr</td>\n",
       "      <td>서울특별시</td>\n",
       "    </tr>\n",
       "    <tr>\n",
       "      <th>1</th>\n",
       "      <td>DRB동일</td>\n",
       "      <td>4840</td>\n",
       "      <td>고무제품 제조업</td>\n",
       "      <td>고무벨트(V벨트,콘베이어벨트,평벨트),프라스틱제품 제조,판매</td>\n",
       "      <td>1976-05-21</td>\n",
       "      <td>12월</td>\n",
       "      <td>류영식</td>\n",
       "      <td>http://drbworld.com</td>\n",
       "      <td>부산광역시</td>\n",
       "    </tr>\n",
       "    <tr>\n",
       "      <th>2</th>\n",
       "      <td>DSR</td>\n",
       "      <td>155660</td>\n",
       "      <td>1차 비철금속 제조업</td>\n",
       "      <td>합섬섬유로프</td>\n",
       "      <td>2013-05-15</td>\n",
       "      <td>12월</td>\n",
       "      <td>홍석빈</td>\n",
       "      <td>http://www.dsr.com</td>\n",
       "      <td>부산광역시</td>\n",
       "    </tr>\n",
       "    <tr>\n",
       "      <th>3</th>\n",
       "      <td>GS</td>\n",
       "      <td>78930</td>\n",
       "      <td>기타 금융업</td>\n",
       "      <td>지주회사/부동산 임대</td>\n",
       "      <td>2004-08-05</td>\n",
       "      <td>12월</td>\n",
       "      <td>허태수, 홍순기 (각자 대표이사)</td>\n",
       "      <td>NaN</td>\n",
       "      <td>서울특별시</td>\n",
       "    </tr>\n",
       "    <tr>\n",
       "      <th>4</th>\n",
       "      <td>KG케미칼</td>\n",
       "      <td>1390</td>\n",
       "      <td>기초 화학물질 제조업</td>\n",
       "      <td>콘크리트혼화제, 비료, 친환경농자재, 수처리제</td>\n",
       "      <td>1989-08-25</td>\n",
       "      <td>12월</td>\n",
       "      <td>곽정현, 김재익</td>\n",
       "      <td>http://www.kgchem.co.kr</td>\n",
       "      <td>울산광역시</td>\n",
       "    </tr>\n",
       "  </tbody>\n",
       "</table>\n",
       "</div>"
      ],
      "text/plain": [
       "     회사명    종목코드           업종                               주요제품        상장일  \\\n",
       "0     DL     210       기타 금융업                               지주회사 1976-02-02   \n",
       "1  DRB동일    4840     고무제품 제조업  고무벨트(V벨트,콘베이어벨트,평벨트),프라스틱제품 제조,판매 1976-05-21   \n",
       "2    DSR  155660  1차 비철금속 제조업                             합섬섬유로프 2013-05-15   \n",
       "3     GS   78930       기타 금융업                        지주회사/부동산 임대 2004-08-05   \n",
       "4  KG케미칼    1390  기초 화학물질 제조업          콘크리트혼화제, 비료, 친환경농자재, 수처리제 1989-08-25   \n",
       "\n",
       "   결산월                대표자명                         홈페이지     지역  \n",
       "0  12월                 전병욱  http://www.dlholdings.co.kr  서울특별시  \n",
       "1  12월                 류영식          http://drbworld.com  부산광역시  \n",
       "2  12월                 홍석빈           http://www.dsr.com  부산광역시  \n",
       "3  12월  허태수, 홍순기 (각자 대표이사)                          NaN  서울특별시  \n",
       "4  12월            곽정현, 김재익      http://www.kgchem.co.kr  울산광역시  "
      ]
     },
     "execution_count": 21,
     "metadata": {},
     "output_type": "execute_result"
    }
   ],
   "source": [
    "df = pd.read_excel('./data/Stock_Corporations.xlsx')\n",
    "df.head()"
   ]
  },
  {
   "cell_type": "code",
   "execution_count": 22,
   "metadata": {},
   "outputs": [
    {
     "data": {
      "text/plain": [
       "2499"
      ]
     },
     "execution_count": 22,
     "metadata": {},
     "output_type": "execute_result"
    }
   ],
   "source": [
    "len(df)"
   ]
  },
  {
   "cell_type": "code",
   "execution_count": 23,
   "metadata": {},
   "outputs": [
    {
     "data": {
      "text/html": [
       "<div>\n",
       "<style scoped>\n",
       "    .dataframe tbody tr th:only-of-type {\n",
       "        vertical-align: middle;\n",
       "    }\n",
       "\n",
       "    .dataframe tbody tr th {\n",
       "        vertical-align: top;\n",
       "    }\n",
       "\n",
       "    .dataframe thead th {\n",
       "        text-align: right;\n",
       "    }\n",
       "</style>\n",
       "<table border=\"1\" class=\"dataframe\">\n",
       "  <thead>\n",
       "    <tr style=\"text-align: right;\">\n",
       "      <th></th>\n",
       "      <th>회사명</th>\n",
       "      <th>종목코드</th>\n",
       "      <th>업종</th>\n",
       "      <th>주요제품</th>\n",
       "      <th>상장일</th>\n",
       "      <th>결산월</th>\n",
       "      <th>대표자명</th>\n",
       "      <th>홈페이지</th>\n",
       "      <th>지역</th>\n",
       "    </tr>\n",
       "  </thead>\n",
       "  <tbody>\n",
       "    <tr>\n",
       "      <th>2494</th>\n",
       "      <td>타임기술</td>\n",
       "      <td>318660</td>\n",
       "      <td>소프트웨어 개발 및 공급업</td>\n",
       "      <td>ILS(종합군수지원), IETM(전자식기술교범), CBT(전자식교보재), 기술번역</td>\n",
       "      <td>2021-06-24</td>\n",
       "      <td>12월</td>\n",
       "      <td>주양효</td>\n",
       "      <td>http://timett.co.kr</td>\n",
       "      <td>경상남도</td>\n",
       "    </tr>\n",
       "    <tr>\n",
       "      <th>2495</th>\n",
       "      <td>틸론</td>\n",
       "      <td>217880</td>\n",
       "      <td>소프트웨어 개발 및 공급업</td>\n",
       "      <td>Cloud Solution (D,A,E,Rstation)</td>\n",
       "      <td>2015-05-28</td>\n",
       "      <td>12월</td>\n",
       "      <td>최백준</td>\n",
       "      <td>http://www.tilon.co.kr</td>\n",
       "      <td>서울특별시</td>\n",
       "    </tr>\n",
       "    <tr>\n",
       "      <th>2496</th>\n",
       "      <td>플럼라인생명과학</td>\n",
       "      <td>222670</td>\n",
       "      <td>자연과학 및 공학 연구개발업</td>\n",
       "      <td>강아지암치료제,돼지DNA테라피</td>\n",
       "      <td>2015-07-28</td>\n",
       "      <td>12월</td>\n",
       "      <td>김앤토니경태</td>\n",
       "      <td>http://www.plsdna.com</td>\n",
       "      <td>서울특별시</td>\n",
       "    </tr>\n",
       "    <tr>\n",
       "      <th>2497</th>\n",
       "      <td>한국미라클피플사</td>\n",
       "      <td>331660</td>\n",
       "      <td>기타 화학제품 제조업</td>\n",
       "      <td>은나노스텝, 닥터오렌지 등</td>\n",
       "      <td>2019-10-28</td>\n",
       "      <td>12월</td>\n",
       "      <td>이호경</td>\n",
       "      <td>http://www.kmpc.co.kr</td>\n",
       "      <td>경기도</td>\n",
       "    </tr>\n",
       "    <tr>\n",
       "      <th>2498</th>\n",
       "      <td>휴벡셀</td>\n",
       "      <td>212310</td>\n",
       "      <td>의료용 기기 제조업</td>\n",
       "      <td>척추용 임플란트 등</td>\n",
       "      <td>2016-07-26</td>\n",
       "      <td>12월</td>\n",
       "      <td>박정민, 허성규(각자대표)</td>\n",
       "      <td>http://huvexel.com</td>\n",
       "      <td>경기도</td>\n",
       "    </tr>\n",
       "  </tbody>\n",
       "</table>\n",
       "</div>"
      ],
      "text/plain": [
       "           회사명    종목코드               업종  \\\n",
       "2494      타임기술  318660   소프트웨어 개발 및 공급업   \n",
       "2495        틸론  217880   소프트웨어 개발 및 공급업   \n",
       "2496  플럼라인생명과학  222670  자연과학 및 공학 연구개발업   \n",
       "2497  한국미라클피플사  331660      기타 화학제품 제조업   \n",
       "2498       휴벡셀  212310       의료용 기기 제조업   \n",
       "\n",
       "                                               주요제품        상장일  결산월  \\\n",
       "2494  ILS(종합군수지원), IETM(전자식기술교범), CBT(전자식교보재), 기술번역 2021-06-24  12월   \n",
       "2495                Cloud Solution (D,A,E,Rstation) 2015-05-28  12월   \n",
       "2496                               강아지암치료제,돼지DNA테라피 2015-07-28  12월   \n",
       "2497                                 은나노스텝, 닥터오렌지 등 2019-10-28  12월   \n",
       "2498                                     척추용 임플란트 등 2016-07-26  12월   \n",
       "\n",
       "                대표자명                    홈페이지     지역  \n",
       "2494             주양효     http://timett.co.kr   경상남도  \n",
       "2495             최백준  http://www.tilon.co.kr  서울특별시  \n",
       "2496          김앤토니경태   http://www.plsdna.com  서울특별시  \n",
       "2497             이호경   http://www.kmpc.co.kr    경기도  \n",
       "2498  박정민, 허성규(각자대표)      http://huvexel.com    경기도  "
      ]
     },
     "execution_count": 23,
     "metadata": {},
     "output_type": "execute_result"
    }
   ],
   "source": [
    "df.tail()"
   ]
  },
  {
   "cell_type": "code",
   "execution_count": 24,
   "metadata": {},
   "outputs": [
    {
     "data": {
      "text/html": [
       "<div>\n",
       "<style scoped>\n",
       "    .dataframe tbody tr th:only-of-type {\n",
       "        vertical-align: middle;\n",
       "    }\n",
       "\n",
       "    .dataframe tbody tr th {\n",
       "        vertical-align: top;\n",
       "    }\n",
       "\n",
       "    .dataframe thead th {\n",
       "        text-align: right;\n",
       "    }\n",
       "</style>\n",
       "<table border=\"1\" class=\"dataframe\">\n",
       "  <thead>\n",
       "    <tr style=\"text-align: right;\">\n",
       "      <th></th>\n",
       "      <th>회사명</th>\n",
       "      <th>종목코드</th>\n",
       "      <th>업종</th>\n",
       "      <th>주요제품</th>\n",
       "      <th>상장일</th>\n",
       "      <th>결산월</th>\n",
       "      <th>대표자명</th>\n",
       "      <th>홈페이지</th>\n",
       "      <th>지역</th>\n",
       "    </tr>\n",
       "  </thead>\n",
       "  <tbody>\n",
       "    <tr>\n",
       "      <th>1572</th>\n",
       "      <td>경방</td>\n",
       "      <td>50</td>\n",
       "      <td>종합 소매업</td>\n",
       "      <td>섬유류(면사,면혼방사,면직물,면혼방직물,화섬사,화섬직물) 제조,도매,수출입</td>\n",
       "      <td>1956-03-03</td>\n",
       "      <td>12월</td>\n",
       "      <td>김준, 김담</td>\n",
       "      <td>http://www.kyungbang.co.kr</td>\n",
       "      <td>서울특별시</td>\n",
       "    </tr>\n",
       "    <tr>\n",
       "      <th>2218</th>\n",
       "      <td>유수홀딩스</td>\n",
       "      <td>700</td>\n",
       "      <td>회사 본부 및 경영 컨설팅 서비스업</td>\n",
       "      <td>지주사업</td>\n",
       "      <td>1956-03-03</td>\n",
       "      <td>12월</td>\n",
       "      <td>송영규</td>\n",
       "      <td>http://www.eusu-holdings.com</td>\n",
       "      <td>서울특별시</td>\n",
       "    </tr>\n",
       "    <tr>\n",
       "      <th>1021</th>\n",
       "      <td>한진중공업홀딩스</td>\n",
       "      <td>3480</td>\n",
       "      <td>연료용 가스 제조 및 배관공급업</td>\n",
       "      <td>지주회사</td>\n",
       "      <td>1956-03-03</td>\n",
       "      <td>12월</td>\n",
       "      <td>조남호, 조원국</td>\n",
       "      <td>http://www.hhic-holdings.com</td>\n",
       "      <td>경기도</td>\n",
       "    </tr>\n",
       "    <tr>\n",
       "      <th>1596</th>\n",
       "      <td>메리츠화재</td>\n",
       "      <td>60</td>\n",
       "      <td>보험업</td>\n",
       "      <td>손해보험(화재,해상,운송보험)</td>\n",
       "      <td>1956-07-02</td>\n",
       "      <td>12월</td>\n",
       "      <td>김용범</td>\n",
       "      <td>http://www.meritzfire.com</td>\n",
       "      <td>서울특별시</td>\n",
       "    </tr>\n",
       "    <tr>\n",
       "      <th>920</th>\n",
       "      <td>CJ대한통운</td>\n",
       "      <td>120</td>\n",
       "      <td>도로 화물 운송업</td>\n",
       "      <td>Contract Logistics, 포워딩, 항만하역, 해운, 택배국제특송, SCM...</td>\n",
       "      <td>1956-07-02</td>\n",
       "      <td>12월</td>\n",
       "      <td>강신호,민영학(각자대표)</td>\n",
       "      <td>http://www.cjlogistics.com</td>\n",
       "      <td>서울특별시</td>\n",
       "    </tr>\n",
       "  </tbody>\n",
       "</table>\n",
       "</div>"
      ],
      "text/plain": [
       "           회사명  종목코드                   업종  \\\n",
       "1572        경방    50               종합 소매업   \n",
       "2218     유수홀딩스   700  회사 본부 및 경영 컨설팅 서비스업   \n",
       "1021  한진중공업홀딩스  3480    연료용 가스 제조 및 배관공급업   \n",
       "1596     메리츠화재    60                  보험업   \n",
       "920     CJ대한통운   120            도로 화물 운송업   \n",
       "\n",
       "                                                   주요제품        상장일  결산월  \\\n",
       "1572          섬유류(면사,면혼방사,면직물,면혼방직물,화섬사,화섬직물) 제조,도매,수출입 1956-03-03  12월   \n",
       "2218                                               지주사업 1956-03-03  12월   \n",
       "1021                                               지주회사 1956-03-03  12월   \n",
       "1596                                   손해보험(화재,해상,운송보험) 1956-07-02  12월   \n",
       "920   Contract Logistics, 포워딩, 항만하역, 해운, 택배국제특송, SCM... 1956-07-02  12월   \n",
       "\n",
       "               대표자명                          홈페이지     지역  \n",
       "1572         김준, 김담    http://www.kyungbang.co.kr  서울특별시  \n",
       "2218            송영규  http://www.eusu-holdings.com  서울특별시  \n",
       "1021       조남호, 조원국  http://www.hhic-holdings.com    경기도  \n",
       "1596            김용범     http://www.meritzfire.com  서울특별시  \n",
       "920   강신호,민영학(각자대표)    http://www.cjlogistics.com  서울특별시  "
      ]
     },
     "execution_count": 24,
     "metadata": {},
     "output_type": "execute_result"
    }
   ],
   "source": [
    "# pandas data frame을 '상장일' 기준으로 정렬 (ascending=[True], [False]로 오름차순, 내림차순 정렬)\n",
    "df = df.sort_values(['상장일'], ascending=True) \n",
    "df.head()"
   ]
  },
  {
   "cell_type": "code",
   "execution_count": 25,
   "metadata": {},
   "outputs": [
    {
     "data": {
      "text/plain": [
       "array(['서울특별시', '경기도', '인천광역시', '부산광역시', '제주특별자치도', '경상남도', '충청북도',\n",
       "       '광주광역시', '대구광역시', '충청남도', '경상북도', '울산광역시', '전라북도', '전라남도', '대전광역시',\n",
       "       '강원도', '세종특별자치시', '케이맨 제도', '미국', '홍콩', '일본', '싱가포르'], dtype=object)"
      ]
     },
     "execution_count": 25,
     "metadata": {},
     "output_type": "execute_result"
    }
   ],
   "source": [
    "df.지역.unique()"
   ]
  },
  {
   "cell_type": "code",
   "execution_count": 26,
   "metadata": {},
   "outputs": [
    {
     "data": {
      "text/html": [
       "<div>\n",
       "<style scoped>\n",
       "    .dataframe tbody tr th:only-of-type {\n",
       "        vertical-align: middle;\n",
       "    }\n",
       "\n",
       "    .dataframe tbody tr th {\n",
       "        vertical-align: top;\n",
       "    }\n",
       "\n",
       "    .dataframe thead th {\n",
       "        text-align: right;\n",
       "    }\n",
       "</style>\n",
       "<table border=\"1\" class=\"dataframe\">\n",
       "  <thead>\n",
       "    <tr style=\"text-align: right;\">\n",
       "      <th></th>\n",
       "      <th>회사명</th>\n",
       "      <th>종목코드</th>\n",
       "      <th>업종</th>\n",
       "      <th>주요제품</th>\n",
       "      <th>상장일</th>\n",
       "      <th>결산월</th>\n",
       "      <th>대표자명</th>\n",
       "      <th>홈페이지</th>\n",
       "      <th>지역</th>\n",
       "    </tr>\n",
       "  </thead>\n",
       "  <tbody>\n",
       "    <tr>\n",
       "      <th>2215</th>\n",
       "      <td>우리종금</td>\n",
       "      <td>10050</td>\n",
       "      <td>기타 금융업</td>\n",
       "      <td>종합금융,주택할부금융,부동산</td>\n",
       "      <td>1974-09-11</td>\n",
       "      <td>12월</td>\n",
       "      <td>김종득</td>\n",
       "      <td>http://wooriib.com</td>\n",
       "      <td>광주광역시</td>\n",
       "    </tr>\n",
       "    <tr>\n",
       "      <th>2178</th>\n",
       "      <td>대유플러스</td>\n",
       "      <td>300</td>\n",
       "      <td>통신 및 방송 장비 제조업</td>\n",
       "      <td>유,무선 통신장비</td>\n",
       "      <td>1975-06-09</td>\n",
       "      <td>12월</td>\n",
       "      <td>박상민</td>\n",
       "      <td>http://www.dayouplus.co.kr</td>\n",
       "      <td>광주광역시</td>\n",
       "    </tr>\n",
       "    <tr>\n",
       "      <th>1584</th>\n",
       "      <td>대유에이텍</td>\n",
       "      <td>2880</td>\n",
       "      <td>자동차 신품 부품 제조업</td>\n",
       "      <td>자동차부품(자동차용 시트)제조</td>\n",
       "      <td>1977-02-18</td>\n",
       "      <td>12월</td>\n",
       "      <td>권의경</td>\n",
       "      <td>http://www.dayouat.co.kr</td>\n",
       "      <td>광주광역시</td>\n",
       "    </tr>\n",
       "    <tr>\n",
       "      <th>1374</th>\n",
       "      <td>대신정보통신</td>\n",
       "      <td>20180</td>\n",
       "      <td>컴퓨터 프로그래밍, 시스템 통합 및 관리업</td>\n",
       "      <td>디지털서비스, SI서비스, 산업용 PDA</td>\n",
       "      <td>1995-10-06</td>\n",
       "      <td>03월</td>\n",
       "      <td>이재원, 최현택 (각자 대표이사)</td>\n",
       "      <td>http://www.dsic.co.kr</td>\n",
       "      <td>광주광역시</td>\n",
       "    </tr>\n",
       "    <tr>\n",
       "      <th>425</th>\n",
       "      <td>화천기공</td>\n",
       "      <td>850</td>\n",
       "      <td>특수 목적용 기계 제조업</td>\n",
       "      <td>CNC선반,CNC밀링,연마기(금속공작기계),MC공작기계,COPY밀링기계,주방품 제조,도매</td>\n",
       "      <td>1999-11-18</td>\n",
       "      <td>12월</td>\n",
       "      <td>각자대표이사 권영두, 권영렬</td>\n",
       "      <td>http://www.hwacheon.com</td>\n",
       "      <td>광주광역시</td>\n",
       "    </tr>\n",
       "  </tbody>\n",
       "</table>\n",
       "</div>"
      ],
      "text/plain": [
       "         회사명   종목코드                       업종  \\\n",
       "2215    우리종금  10050                   기타 금융업   \n",
       "2178   대유플러스    300           통신 및 방송 장비 제조업   \n",
       "1584   대유에이텍   2880            자동차 신품 부품 제조업   \n",
       "1374  대신정보통신  20180  컴퓨터 프로그래밍, 시스템 통합 및 관리업   \n",
       "425     화천기공    850            특수 목적용 기계 제조업   \n",
       "\n",
       "                                                   주요제품        상장일  결산월  \\\n",
       "2215                                    종합금융,주택할부금융,부동산 1974-09-11  12월   \n",
       "2178                                          유,무선 통신장비 1975-06-09  12월   \n",
       "1584                                   자동차부품(자동차용 시트)제조 1977-02-18  12월   \n",
       "1374                             디지털서비스, SI서비스, 산업용 PDA 1995-10-06  03월   \n",
       "425   CNC선반,CNC밀링,연마기(금속공작기계),MC공작기계,COPY밀링기계,주방품 제조,도매 1999-11-18  12월   \n",
       "\n",
       "                    대표자명                        홈페이지     지역  \n",
       "2215                 김종득          http://wooriib.com  광주광역시  \n",
       "2178                 박상민  http://www.dayouplus.co.kr  광주광역시  \n",
       "1584                 권의경    http://www.dayouat.co.kr  광주광역시  \n",
       "1374  이재원, 최현택 (각자 대표이사)       http://www.dsic.co.kr  광주광역시  \n",
       "425      각자대표이사 권영두, 권영렬     http://www.hwacheon.com  광주광역시  "
      ]
     },
     "execution_count": 26,
     "metadata": {},
     "output_type": "execute_result"
    }
   ],
   "source": [
    "df[df.지역 == '광주광역시'].head()"
   ]
  },
  {
   "cell_type": "code",
   "execution_count": 27,
   "metadata": {},
   "outputs": [],
   "source": [
    "mask = (df.지역 == '광주광역시') | (df.지역 == '전라북도' ) | (df.지역 == '전라남도' )"
   ]
  },
  {
   "cell_type": "code",
   "execution_count": 28,
   "metadata": {},
   "outputs": [
    {
     "data": {
      "text/html": [
       "<div>\n",
       "<style scoped>\n",
       "    .dataframe tbody tr th:only-of-type {\n",
       "        vertical-align: middle;\n",
       "    }\n",
       "\n",
       "    .dataframe tbody tr th {\n",
       "        vertical-align: top;\n",
       "    }\n",
       "\n",
       "    .dataframe thead th {\n",
       "        text-align: right;\n",
       "    }\n",
       "</style>\n",
       "<table border=\"1\" class=\"dataframe\">\n",
       "  <thead>\n",
       "    <tr style=\"text-align: right;\">\n",
       "      <th></th>\n",
       "      <th>회사명</th>\n",
       "      <th>종목코드</th>\n",
       "      <th>업종</th>\n",
       "      <th>주요제품</th>\n",
       "      <th>상장일</th>\n",
       "      <th>결산월</th>\n",
       "      <th>대표자명</th>\n",
       "      <th>홈페이지</th>\n",
       "      <th>지역</th>\n",
       "    </tr>\n",
       "  </thead>\n",
       "  <tbody>\n",
       "    <tr>\n",
       "      <th>2215</th>\n",
       "      <td>우리종금</td>\n",
       "      <td>10050</td>\n",
       "      <td>기타 금융업</td>\n",
       "      <td>종합금융,주택할부금융,부동산</td>\n",
       "      <td>1974-09-11</td>\n",
       "      <td>12월</td>\n",
       "      <td>김종득</td>\n",
       "      <td>http://wooriib.com</td>\n",
       "      <td>광주광역시</td>\n",
       "    </tr>\n",
       "    <tr>\n",
       "      <th>2178</th>\n",
       "      <td>대유플러스</td>\n",
       "      <td>300</td>\n",
       "      <td>통신 및 방송 장비 제조업</td>\n",
       "      <td>유,무선 통신장비</td>\n",
       "      <td>1975-06-09</td>\n",
       "      <td>12월</td>\n",
       "      <td>박상민</td>\n",
       "      <td>http://www.dayouplus.co.kr</td>\n",
       "      <td>광주광역시</td>\n",
       "    </tr>\n",
       "    <tr>\n",
       "      <th>1273</th>\n",
       "      <td>백광산업</td>\n",
       "      <td>1340</td>\n",
       "      <td>기초 화학물질 제조업</td>\n",
       "      <td>가성소다,합성염산 제조,판매</td>\n",
       "      <td>1976-06-10</td>\n",
       "      <td>12월</td>\n",
       "      <td>김성훈</td>\n",
       "      <td>http://www.pkic.co.kr</td>\n",
       "      <td>전라북도</td>\n",
       "    </tr>\n",
       "    <tr>\n",
       "      <th>1011</th>\n",
       "      <td>페이퍼코리아</td>\n",
       "      <td>1020</td>\n",
       "      <td>펄프, 종이 및 판지 제조업</td>\n",
       "      <td>제지(신문용지,중질지),합판 제조,건설,석유류 판매</td>\n",
       "      <td>1976-06-26</td>\n",
       "      <td>12월</td>\n",
       "      <td>권육상</td>\n",
       "      <td>http://www.papercorea.co.kr</td>\n",
       "      <td>전라북도</td>\n",
       "    </tr>\n",
       "    <tr>\n",
       "      <th>349</th>\n",
       "      <td>금호건설</td>\n",
       "      <td>2990</td>\n",
       "      <td>건물 건설업</td>\n",
       "      <td>종합건설/여객운송,관광/부동산 임대,분양</td>\n",
       "      <td>1976-06-26</td>\n",
       "      <td>12월</td>\n",
       "      <td>서재환</td>\n",
       "      <td>http://www.kumhoenc.com</td>\n",
       "      <td>전라남도</td>\n",
       "    </tr>\n",
       "  </tbody>\n",
       "</table>\n",
       "</div>"
      ],
      "text/plain": [
       "         회사명   종목코드               업종                          주요제품        상장일  \\\n",
       "2215    우리종금  10050           기타 금융업               종합금융,주택할부금융,부동산 1974-09-11   \n",
       "2178   대유플러스    300   통신 및 방송 장비 제조업                     유,무선 통신장비 1975-06-09   \n",
       "1273    백광산업   1340      기초 화학물질 제조업               가성소다,합성염산 제조,판매 1976-06-10   \n",
       "1011  페이퍼코리아   1020  펄프, 종이 및 판지 제조업  제지(신문용지,중질지),합판 제조,건설,석유류 판매 1976-06-26   \n",
       "349     금호건설   2990           건물 건설업        종합건설/여객운송,관광/부동산 임대,분양 1976-06-26   \n",
       "\n",
       "      결산월 대표자명                         홈페이지     지역  \n",
       "2215  12월  김종득           http://wooriib.com  광주광역시  \n",
       "2178  12월  박상민   http://www.dayouplus.co.kr  광주광역시  \n",
       "1273  12월  김성훈        http://www.pkic.co.kr   전라북도  \n",
       "1011  12월  권육상  http://www.papercorea.co.kr   전라북도  \n",
       "349   12월  서재환      http://www.kumhoenc.com   전라남도  "
      ]
     },
     "execution_count": 28,
     "metadata": {},
     "output_type": "execute_result"
    }
   ],
   "source": [
    "honam_df = df[mask]\n",
    "honam_df.head()"
   ]
  },
  {
   "cell_type": "code",
   "execution_count": 29,
   "metadata": {},
   "outputs": [
    {
     "data": {
      "text/plain": [
       "73"
      ]
     },
     "execution_count": 29,
     "metadata": {},
     "output_type": "execute_result"
    }
   ],
   "source": [
    "len(honam_df)"
   ]
  },
  {
   "cell_type": "code",
   "execution_count": 30,
   "metadata": {},
   "outputs": [
    {
     "data": {
      "text/html": [
       "<div>\n",
       "<style scoped>\n",
       "    .dataframe tbody tr th:only-of-type {\n",
       "        vertical-align: middle;\n",
       "    }\n",
       "\n",
       "    .dataframe tbody tr th {\n",
       "        vertical-align: top;\n",
       "    }\n",
       "\n",
       "    .dataframe thead th {\n",
       "        text-align: right;\n",
       "    }\n",
       "</style>\n",
       "<table border=\"1\" class=\"dataframe\">\n",
       "  <thead>\n",
       "    <tr style=\"text-align: right;\">\n",
       "      <th></th>\n",
       "      <th>회사명</th>\n",
       "      <th>종목코드</th>\n",
       "    </tr>\n",
       "  </thead>\n",
       "  <tbody>\n",
       "    <tr>\n",
       "      <th>2215</th>\n",
       "      <td>우리종금</td>\n",
       "      <td>10050</td>\n",
       "    </tr>\n",
       "    <tr>\n",
       "      <th>2178</th>\n",
       "      <td>대유플러스</td>\n",
       "      <td>300</td>\n",
       "    </tr>\n",
       "    <tr>\n",
       "      <th>1273</th>\n",
       "      <td>백광산업</td>\n",
       "      <td>1340</td>\n",
       "    </tr>\n",
       "    <tr>\n",
       "      <th>1011</th>\n",
       "      <td>페이퍼코리아</td>\n",
       "      <td>1020</td>\n",
       "    </tr>\n",
       "    <tr>\n",
       "      <th>349</th>\n",
       "      <td>금호건설</td>\n",
       "      <td>2990</td>\n",
       "    </tr>\n",
       "    <tr>\n",
       "      <th>...</th>\n",
       "      <td>...</td>\n",
       "      <td>...</td>\n",
       "    </tr>\n",
       "    <tr>\n",
       "      <th>33</th>\n",
       "      <td>두산퓨얼셀</td>\n",
       "      <td>336260</td>\n",
       "    </tr>\n",
       "    <tr>\n",
       "      <th>1832</th>\n",
       "      <td>피피아이</td>\n",
       "      <td>62970</td>\n",
       "    </tr>\n",
       "    <tr>\n",
       "      <th>787</th>\n",
       "      <td>박셀바이오</td>\n",
       "      <td>323990</td>\n",
       "    </tr>\n",
       "    <tr>\n",
       "      <th>2009</th>\n",
       "      <td>비나텍</td>\n",
       "      <td>126340</td>\n",
       "    </tr>\n",
       "    <tr>\n",
       "      <th>2228</th>\n",
       "      <td>일진하이솔루스</td>\n",
       "      <td>271940</td>\n",
       "    </tr>\n",
       "  </tbody>\n",
       "</table>\n",
       "<p>73 rows × 2 columns</p>\n",
       "</div>"
      ],
      "text/plain": [
       "          회사명    종목코드\n",
       "2215     우리종금   10050\n",
       "2178    대유플러스     300\n",
       "1273     백광산업    1340\n",
       "1011   페이퍼코리아    1020\n",
       "349      금호건설    2990\n",
       "...       ...     ...\n",
       "33      두산퓨얼셀  336260\n",
       "1832     피피아이   62970\n",
       "787     박셀바이오  323990\n",
       "2009      비나텍  126340\n",
       "2228  일진하이솔루스  271940\n",
       "\n",
       "[73 rows x 2 columns]"
      ]
     },
     "execution_count": 30,
     "metadata": {},
     "output_type": "execute_result"
    }
   ],
   "source": [
    "honam_corp = honam_df[['회사명', '종목코드']]\n",
    "honam_corp"
   ]
  },
  {
   "cell_type": "code",
   "execution_count": 31,
   "metadata": {},
   "outputs": [
    {
     "data": {
      "text/html": [
       "<div>\n",
       "<style scoped>\n",
       "    .dataframe tbody tr th:only-of-type {\n",
       "        vertical-align: middle;\n",
       "    }\n",
       "\n",
       "    .dataframe tbody tr th {\n",
       "        vertical-align: top;\n",
       "    }\n",
       "\n",
       "    .dataframe thead th {\n",
       "        text-align: right;\n",
       "    }\n",
       "</style>\n",
       "<table border=\"1\" class=\"dataframe\">\n",
       "  <thead>\n",
       "    <tr style=\"text-align: right;\">\n",
       "      <th></th>\n",
       "      <th>Corp.Honam</th>\n",
       "      <th>Code.KS</th>\n",
       "    </tr>\n",
       "  </thead>\n",
       "  <tbody>\n",
       "    <tr>\n",
       "      <th>2215</th>\n",
       "      <td>우리종금</td>\n",
       "      <td>10050</td>\n",
       "    </tr>\n",
       "    <tr>\n",
       "      <th>2178</th>\n",
       "      <td>대유플러스</td>\n",
       "      <td>300</td>\n",
       "    </tr>\n",
       "    <tr>\n",
       "      <th>1273</th>\n",
       "      <td>백광산업</td>\n",
       "      <td>1340</td>\n",
       "    </tr>\n",
       "    <tr>\n",
       "      <th>1011</th>\n",
       "      <td>페이퍼코리아</td>\n",
       "      <td>1020</td>\n",
       "    </tr>\n",
       "    <tr>\n",
       "      <th>349</th>\n",
       "      <td>금호건설</td>\n",
       "      <td>2990</td>\n",
       "    </tr>\n",
       "  </tbody>\n",
       "</table>\n",
       "</div>"
      ],
      "text/plain": [
       "     Corp.Honam  Code.KS\n",
       "2215       우리종금    10050\n",
       "2178      대유플러스      300\n",
       "1273       백광산업     1340\n",
       "1011     페이퍼코리아     1020\n",
       "349        금호건설     2990"
      ]
     },
     "execution_count": 31,
     "metadata": {},
     "output_type": "execute_result"
    }
   ],
   "source": [
    "honam_corp = honam_corp.rename(columns={'회사명': 'Corp.Honam', '종목코드': 'Code.KS'})\n",
    "honam_corp.head()"
   ]
  },
  {
   "cell_type": "raw",
   "metadata": {},
   "source": [
    "<!--\n",
    "df = df[['회사명', '종목코드']]\n",
    "df.head()\n",
    "\n",
    "df = df.rename(columns={'회사명': 'name', '종목코드': 'code'})\n",
    "df.head()\n",
    "-->"
   ]
  },
  {
   "cell_type": "code",
   "execution_count": null,
   "metadata": {},
   "outputs": [],
   "source": []
  },
  {
   "cell_type": "markdown",
   "metadata": {},
   "source": [
    "#### Pandas Data Reader를 통해서 Yahoo Finace의 데이터를 가져오기위해서는 두 가지 방법이 존재\n",
    "> \n",
    "> - 방법1 : DataReader API를 통해서 yahoo finance의 주식 종목 데이터를 가져온다.\n",
    "> - 방법2 : get_data_yahoo API를 통해서 yahho finance의 주식 종목 데이터를 가져온다."
   ]
  },
  {
   "cell_type": "code",
   "execution_count": 32,
   "metadata": {},
   "outputs": [],
   "source": [
    "# import pandas.io.data as web\n",
    "import pandas_datareader as web\n",
    "from datetime import datetime"
   ]
  },
  {
   "cell_type": "code",
   "execution_count": 33,
   "metadata": {},
   "outputs": [
    {
     "data": {
      "text/html": [
       "<div>\n",
       "<style scoped>\n",
       "    .dataframe tbody tr th:only-of-type {\n",
       "        vertical-align: middle;\n",
       "    }\n",
       "\n",
       "    .dataframe tbody tr th {\n",
       "        vertical-align: top;\n",
       "    }\n",
       "\n",
       "    .dataframe thead th {\n",
       "        text-align: right;\n",
       "    }\n",
       "</style>\n",
       "<table border=\"1\" class=\"dataframe\">\n",
       "  <thead>\n",
       "    <tr style=\"text-align: right;\">\n",
       "      <th></th>\n",
       "      <th>High</th>\n",
       "      <th>Low</th>\n",
       "      <th>Open</th>\n",
       "      <th>Close</th>\n",
       "      <th>Volume</th>\n",
       "      <th>Adj Close</th>\n",
       "    </tr>\n",
       "    <tr>\n",
       "      <th>Date</th>\n",
       "      <th></th>\n",
       "      <th></th>\n",
       "      <th></th>\n",
       "      <th></th>\n",
       "      <th></th>\n",
       "      <th></th>\n",
       "    </tr>\n",
       "  </thead>\n",
       "  <tbody>\n",
       "    <tr>\n",
       "      <th>2017-05-31</th>\n",
       "      <td>4.0000</td>\n",
       "      <td>4.0000</td>\n",
       "      <td>4.0000</td>\n",
       "      <td>4.0000</td>\n",
       "      <td>0.0</td>\n",
       "      <td>9.376454</td>\n",
       "    </tr>\n",
       "    <tr>\n",
       "      <th>2017-06-01</th>\n",
       "      <td>3.9520</td>\n",
       "      <td>3.9520</td>\n",
       "      <td>3.9520</td>\n",
       "      <td>3.9520</td>\n",
       "      <td>0.0</td>\n",
       "      <td>9.263937</td>\n",
       "    </tr>\n",
       "    <tr>\n",
       "      <th>2017-06-02</th>\n",
       "      <td>3.9130</td>\n",
       "      <td>3.9130</td>\n",
       "      <td>3.9130</td>\n",
       "      <td>3.9130</td>\n",
       "      <td>0.0</td>\n",
       "      <td>9.172517</td>\n",
       "    </tr>\n",
       "    <tr>\n",
       "      <th>2017-06-05</th>\n",
       "      <td>3.9130</td>\n",
       "      <td>3.9130</td>\n",
       "      <td>3.9130</td>\n",
       "      <td>3.9130</td>\n",
       "      <td>0.0</td>\n",
       "      <td>9.172517</td>\n",
       "    </tr>\n",
       "    <tr>\n",
       "      <th>2017-06-06</th>\n",
       "      <td>3.9320</td>\n",
       "      <td>3.9250</td>\n",
       "      <td>3.9250</td>\n",
       "      <td>3.9320</td>\n",
       "      <td>0.0</td>\n",
       "      <td>9.217055</td>\n",
       "    </tr>\n",
       "    <tr>\n",
       "      <th>...</th>\n",
       "      <td>...</td>\n",
       "      <td>...</td>\n",
       "      <td>...</td>\n",
       "      <td>...</td>\n",
       "      <td>...</td>\n",
       "      <td>...</td>\n",
       "    </tr>\n",
       "    <tr>\n",
       "      <th>2022-05-24</th>\n",
       "      <td>3.0780</td>\n",
       "      <td>3.0780</td>\n",
       "      <td>3.0780</td>\n",
       "      <td>3.0780</td>\n",
       "      <td>0.0</td>\n",
       "      <td>3.078000</td>\n",
       "    </tr>\n",
       "    <tr>\n",
       "      <th>2022-05-25</th>\n",
       "      <td>3.0230</td>\n",
       "      <td>3.0230</td>\n",
       "      <td>3.0230</td>\n",
       "      <td>3.0230</td>\n",
       "      <td>0.0</td>\n",
       "      <td>3.023000</td>\n",
       "    </tr>\n",
       "    <tr>\n",
       "      <th>2022-05-26</th>\n",
       "      <td>3.0355</td>\n",
       "      <td>3.0355</td>\n",
       "      <td>3.0355</td>\n",
       "      <td>3.0355</td>\n",
       "      <td>0.0</td>\n",
       "      <td>3.035500</td>\n",
       "    </tr>\n",
       "    <tr>\n",
       "      <th>2022-05-27</th>\n",
       "      <td>2.9925</td>\n",
       "      <td>2.9925</td>\n",
       "      <td>2.9925</td>\n",
       "      <td>2.9925</td>\n",
       "      <td>0.0</td>\n",
       "      <td>2.992500</td>\n",
       "    </tr>\n",
       "    <tr>\n",
       "      <th>2022-05-30</th>\n",
       "      <td>3.0640</td>\n",
       "      <td>3.0640</td>\n",
       "      <td>3.0640</td>\n",
       "      <td>3.0640</td>\n",
       "      <td>0.0</td>\n",
       "      <td>3.064000</td>\n",
       "    </tr>\n",
       "  </tbody>\n",
       "</table>\n",
       "<p>1267 rows × 6 columns</p>\n",
       "</div>"
      ],
      "text/plain": [
       "              High     Low    Open   Close  Volume  Adj Close\n",
       "Date                                                         \n",
       "2017-05-31  4.0000  4.0000  4.0000  4.0000     0.0   9.376454\n",
       "2017-06-01  3.9520  3.9520  3.9520  3.9520     0.0   9.263937\n",
       "2017-06-02  3.9130  3.9130  3.9130  3.9130     0.0   9.172517\n",
       "2017-06-05  3.9130  3.9130  3.9130  3.9130     0.0   9.172517\n",
       "2017-06-06  3.9320  3.9250  3.9250  3.9320     0.0   9.217055\n",
       "...            ...     ...     ...     ...     ...        ...\n",
       "2022-05-24  3.0780  3.0780  3.0780  3.0780     0.0   3.078000\n",
       "2022-05-25  3.0230  3.0230  3.0230  3.0230     0.0   3.023000\n",
       "2022-05-26  3.0355  3.0355  3.0355  3.0355     0.0   3.035500\n",
       "2022-05-27  2.9925  2.9925  2.9925  2.9925     0.0   2.992500\n",
       "2022-05-30  3.0640  3.0640  3.0640  3.0640     0.0   3.064000\n",
       "\n",
       "[1267 rows x 6 columns]"
      ]
     },
     "execution_count": 33,
     "metadata": {},
     "output_type": "execute_result"
    }
   ],
   "source": [
    "web.get_data_yahoo('YOJ.SG')"
   ]
  },
  {
   "cell_type": "code",
   "execution_count": 34,
   "metadata": {},
   "outputs": [
    {
     "data": {
      "text/html": [
       "<div>\n",
       "<style scoped>\n",
       "    .dataframe tbody tr th:only-of-type {\n",
       "        vertical-align: middle;\n",
       "    }\n",
       "\n",
       "    .dataframe tbody tr th {\n",
       "        vertical-align: top;\n",
       "    }\n",
       "\n",
       "    .dataframe thead th {\n",
       "        text-align: right;\n",
       "    }\n",
       "</style>\n",
       "<table border=\"1\" class=\"dataframe\">\n",
       "  <thead>\n",
       "    <tr style=\"text-align: right;\">\n",
       "      <th></th>\n",
       "      <th>High</th>\n",
       "      <th>Low</th>\n",
       "      <th>Open</th>\n",
       "      <th>Close</th>\n",
       "      <th>Volume</th>\n",
       "      <th>Adj Close</th>\n",
       "    </tr>\n",
       "    <tr>\n",
       "      <th>Date</th>\n",
       "      <th></th>\n",
       "      <th></th>\n",
       "      <th></th>\n",
       "      <th></th>\n",
       "      <th></th>\n",
       "      <th></th>\n",
       "    </tr>\n",
       "  </thead>\n",
       "  <tbody>\n",
       "    <tr>\n",
       "      <th>2017-05-31</th>\n",
       "      <td>4.000</td>\n",
       "      <td>4.000</td>\n",
       "      <td>4.000</td>\n",
       "      <td>4.000</td>\n",
       "      <td>0.0</td>\n",
       "      <td>9.376455</td>\n",
       "    </tr>\n",
       "    <tr>\n",
       "      <th>2017-06-01</th>\n",
       "      <td>3.952</td>\n",
       "      <td>3.952</td>\n",
       "      <td>3.952</td>\n",
       "      <td>3.952</td>\n",
       "      <td>0.0</td>\n",
       "      <td>9.263937</td>\n",
       "    </tr>\n",
       "    <tr>\n",
       "      <th>2017-06-02</th>\n",
       "      <td>3.913</td>\n",
       "      <td>3.913</td>\n",
       "      <td>3.913</td>\n",
       "      <td>3.913</td>\n",
       "      <td>0.0</td>\n",
       "      <td>9.172518</td>\n",
       "    </tr>\n",
       "    <tr>\n",
       "      <th>2017-06-05</th>\n",
       "      <td>3.913</td>\n",
       "      <td>3.913</td>\n",
       "      <td>3.913</td>\n",
       "      <td>3.913</td>\n",
       "      <td>0.0</td>\n",
       "      <td>9.172518</td>\n",
       "    </tr>\n",
       "    <tr>\n",
       "      <th>2017-06-06</th>\n",
       "      <td>3.932</td>\n",
       "      <td>3.925</td>\n",
       "      <td>3.925</td>\n",
       "      <td>3.932</td>\n",
       "      <td>0.0</td>\n",
       "      <td>9.217054</td>\n",
       "    </tr>\n",
       "  </tbody>\n",
       "</table>\n",
       "</div>"
      ],
      "text/plain": [
       "             High    Low   Open  Close  Volume  Adj Close\n",
       "Date                                                     \n",
       "2017-05-31  4.000  4.000  4.000  4.000     0.0   9.376455\n",
       "2017-06-01  3.952  3.952  3.952  3.952     0.0   9.263937\n",
       "2017-06-02  3.913  3.913  3.913  3.913     0.0   9.172518\n",
       "2017-06-05  3.913  3.913  3.913  3.913     0.0   9.172518\n",
       "2017-06-06  3.932  3.925  3.925  3.932     0.0   9.217054"
      ]
     },
     "execution_count": 34,
     "metadata": {},
     "output_type": "execute_result"
    }
   ],
   "source": [
    "# 방법1 \n",
    "# df = web.DataReader('주식 종목코드')\n",
    "# df = web.DataReader('AAPL')\n",
    "df = web.get_data_yahoo('YOJ.SG')\n",
    "df.head()"
   ]
  },
  {
   "cell_type": "code",
   "execution_count": 35,
   "metadata": {},
   "outputs": [
    {
     "data": {
      "text/html": [
       "<div>\n",
       "<style scoped>\n",
       "    .dataframe tbody tr th:only-of-type {\n",
       "        vertical-align: middle;\n",
       "    }\n",
       "\n",
       "    .dataframe tbody tr th {\n",
       "        vertical-align: top;\n",
       "    }\n",
       "\n",
       "    .dataframe thead th {\n",
       "        text-align: right;\n",
       "    }\n",
       "</style>\n",
       "<table border=\"1\" class=\"dataframe\">\n",
       "  <thead>\n",
       "    <tr style=\"text-align: right;\">\n",
       "      <th></th>\n",
       "      <th>High</th>\n",
       "      <th>Low</th>\n",
       "      <th>Open</th>\n",
       "      <th>Close</th>\n",
       "      <th>Volume</th>\n",
       "      <th>Adj Close</th>\n",
       "    </tr>\n",
       "    <tr>\n",
       "      <th>Date</th>\n",
       "      <th></th>\n",
       "      <th></th>\n",
       "      <th></th>\n",
       "      <th></th>\n",
       "      <th></th>\n",
       "      <th></th>\n",
       "    </tr>\n",
       "  </thead>\n",
       "  <tbody>\n",
       "    <tr>\n",
       "      <th>2020-01-02</th>\n",
       "      <td>31127.228516</td>\n",
       "      <td>30623.552734</td>\n",
       "      <td>31026.494141</td>\n",
       "      <td>30724.287109</td>\n",
       "      <td>1196436.0</td>\n",
       "      <td>30697.591797</td>\n",
       "    </tr>\n",
       "    <tr>\n",
       "      <th>2020-01-03</th>\n",
       "      <td>31227.964844</td>\n",
       "      <td>30422.082031</td>\n",
       "      <td>30925.757812</td>\n",
       "      <td>30724.287109</td>\n",
       "      <td>1562748.0</td>\n",
       "      <td>30697.591797</td>\n",
       "    </tr>\n",
       "    <tr>\n",
       "      <th>2020-01-06</th>\n",
       "      <td>31227.964844</td>\n",
       "      <td>30220.611328</td>\n",
       "      <td>30321.345703</td>\n",
       "      <td>31127.228516</td>\n",
       "      <td>1954204.0</td>\n",
       "      <td>31100.181641</td>\n",
       "    </tr>\n",
       "    <tr>\n",
       "      <th>2020-01-07</th>\n",
       "      <td>32235.318359</td>\n",
       "      <td>31127.228516</td>\n",
       "      <td>31227.964844</td>\n",
       "      <td>32235.318359</td>\n",
       "      <td>4170263.0</td>\n",
       "      <td>32207.308594</td>\n",
       "    </tr>\n",
       "    <tr>\n",
       "      <th>2020-01-08</th>\n",
       "      <td>32638.259766</td>\n",
       "      <td>31530.169922</td>\n",
       "      <td>31933.111328</td>\n",
       "      <td>32134.582031</td>\n",
       "      <td>4227010.0</td>\n",
       "      <td>32106.660156</td>\n",
       "    </tr>\n",
       "  </tbody>\n",
       "</table>\n",
       "</div>"
      ],
      "text/plain": [
       "                    High           Low          Open         Close     Volume  \\\n",
       "Date                                                                            \n",
       "2020-01-02  31127.228516  30623.552734  31026.494141  30724.287109  1196436.0   \n",
       "2020-01-03  31227.964844  30422.082031  30925.757812  30724.287109  1562748.0   \n",
       "2020-01-06  31227.964844  30220.611328  30321.345703  31127.228516  1954204.0   \n",
       "2020-01-07  32235.318359  31127.228516  31227.964844  32235.318359  4170263.0   \n",
       "2020-01-08  32638.259766  31530.169922  31933.111328  32134.582031  4227010.0   \n",
       "\n",
       "               Adj Close  \n",
       "Date                      \n",
       "2020-01-02  30697.591797  \n",
       "2020-01-03  30697.591797  \n",
       "2020-01-06  31100.181641  \n",
       "2020-01-07  32207.308594  \n",
       "2020-01-08  32106.660156  "
      ]
     },
     "execution_count": 35,
     "metadata": {},
     "output_type": "execute_result"
    }
   ],
   "source": [
    "# 방법2 : 기간정보(yyyy-mm-dd)\n",
    "df = web.get_data_yahoo('035720.KS', start='2020-01-01')    # 카카오. 035720\n",
    "df.head()"
   ]
  },
  {
   "cell_type": "code",
   "execution_count": 36,
   "metadata": {},
   "outputs": [],
   "source": [
    "# 방법3 : 기간정보(datetime)\n",
    "start = datetime(2022,1,1)\n",
    "end   = datetime(2022,5,31)"
   ]
  },
  {
   "cell_type": "code",
   "execution_count": 37,
   "metadata": {},
   "outputs": [
    {
     "data": {
      "text/html": [
       "<div>\n",
       "<style scoped>\n",
       "    .dataframe tbody tr th:only-of-type {\n",
       "        vertical-align: middle;\n",
       "    }\n",
       "\n",
       "    .dataframe tbody tr th {\n",
       "        vertical-align: top;\n",
       "    }\n",
       "\n",
       "    .dataframe thead th {\n",
       "        text-align: right;\n",
       "    }\n",
       "</style>\n",
       "<table border=\"1\" class=\"dataframe\">\n",
       "  <thead>\n",
       "    <tr style=\"text-align: right;\">\n",
       "      <th></th>\n",
       "      <th>High</th>\n",
       "      <th>Low</th>\n",
       "      <th>Open</th>\n",
       "      <th>Close</th>\n",
       "      <th>Volume</th>\n",
       "      <th>Adj Close</th>\n",
       "    </tr>\n",
       "    <tr>\n",
       "      <th>Date</th>\n",
       "      <th></th>\n",
       "      <th></th>\n",
       "      <th></th>\n",
       "      <th></th>\n",
       "      <th></th>\n",
       "      <th></th>\n",
       "    </tr>\n",
       "  </thead>\n",
       "  <tbody>\n",
       "    <tr>\n",
       "      <th>2022-01-04</th>\n",
       "      <td>79200.0</td>\n",
       "      <td>78300.0</td>\n",
       "      <td>78800.0</td>\n",
       "      <td>78700.0</td>\n",
       "      <td>12427416.0</td>\n",
       "      <td>78295.289062</td>\n",
       "    </tr>\n",
       "    <tr>\n",
       "      <th>2022-01-05</th>\n",
       "      <td>79000.0</td>\n",
       "      <td>76400.0</td>\n",
       "      <td>78800.0</td>\n",
       "      <td>77400.0</td>\n",
       "      <td>25470640.0</td>\n",
       "      <td>77001.976562</td>\n",
       "    </tr>\n",
       "    <tr>\n",
       "      <th>2022-01-06</th>\n",
       "      <td>77600.0</td>\n",
       "      <td>76600.0</td>\n",
       "      <td>76700.0</td>\n",
       "      <td>76900.0</td>\n",
       "      <td>12931954.0</td>\n",
       "      <td>76504.546875</td>\n",
       "    </tr>\n",
       "    <tr>\n",
       "      <th>2022-01-07</th>\n",
       "      <td>78400.0</td>\n",
       "      <td>77400.0</td>\n",
       "      <td>78100.0</td>\n",
       "      <td>78300.0</td>\n",
       "      <td>15163757.0</td>\n",
       "      <td>77897.343750</td>\n",
       "    </tr>\n",
       "    <tr>\n",
       "      <th>2022-01-10</th>\n",
       "      <td>78100.0</td>\n",
       "      <td>77100.0</td>\n",
       "      <td>78100.0</td>\n",
       "      <td>78000.0</td>\n",
       "      <td>9947422.0</td>\n",
       "      <td>77598.890625</td>\n",
       "    </tr>\n",
       "    <tr>\n",
       "      <th>...</th>\n",
       "      <td>...</td>\n",
       "      <td>...</td>\n",
       "      <td>...</td>\n",
       "      <td>...</td>\n",
       "      <td>...</td>\n",
       "      <td>...</td>\n",
       "    </tr>\n",
       "    <tr>\n",
       "      <th>2022-05-24</th>\n",
       "      <td>67700.0</td>\n",
       "      <td>66500.0</td>\n",
       "      <td>67500.0</td>\n",
       "      <td>66500.0</td>\n",
       "      <td>15482576.0</td>\n",
       "      <td>66500.000000</td>\n",
       "    </tr>\n",
       "    <tr>\n",
       "      <th>2022-05-25</th>\n",
       "      <td>67100.0</td>\n",
       "      <td>65900.0</td>\n",
       "      <td>66700.0</td>\n",
       "      <td>66400.0</td>\n",
       "      <td>15150490.0</td>\n",
       "      <td>66400.000000</td>\n",
       "    </tr>\n",
       "    <tr>\n",
       "      <th>2022-05-26</th>\n",
       "      <td>67200.0</td>\n",
       "      <td>65500.0</td>\n",
       "      <td>66300.0</td>\n",
       "      <td>65900.0</td>\n",
       "      <td>15970890.0</td>\n",
       "      <td>65900.000000</td>\n",
       "    </tr>\n",
       "    <tr>\n",
       "      <th>2022-05-27</th>\n",
       "      <td>66900.0</td>\n",
       "      <td>66200.0</td>\n",
       "      <td>66700.0</td>\n",
       "      <td>66500.0</td>\n",
       "      <td>11405555.0</td>\n",
       "      <td>66500.000000</td>\n",
       "    </tr>\n",
       "    <tr>\n",
       "      <th>2022-05-30</th>\n",
       "      <td>67800.0</td>\n",
       "      <td>66900.0</td>\n",
       "      <td>67500.0</td>\n",
       "      <td>67700.0</td>\n",
       "      <td>14024265.0</td>\n",
       "      <td>67700.000000</td>\n",
       "    </tr>\n",
       "  </tbody>\n",
       "</table>\n",
       "<p>98 rows × 6 columns</p>\n",
       "</div>"
      ],
      "text/plain": [
       "               High      Low     Open    Close      Volume     Adj Close\n",
       "Date                                                                    \n",
       "2022-01-04  79200.0  78300.0  78800.0  78700.0  12427416.0  78295.289062\n",
       "2022-01-05  79000.0  76400.0  78800.0  77400.0  25470640.0  77001.976562\n",
       "2022-01-06  77600.0  76600.0  76700.0  76900.0  12931954.0  76504.546875\n",
       "2022-01-07  78400.0  77400.0  78100.0  78300.0  15163757.0  77897.343750\n",
       "2022-01-10  78100.0  77100.0  78100.0  78000.0   9947422.0  77598.890625\n",
       "...             ...      ...      ...      ...         ...           ...\n",
       "2022-05-24  67700.0  66500.0  67500.0  66500.0  15482576.0  66500.000000\n",
       "2022-05-25  67100.0  65900.0  66700.0  66400.0  15150490.0  66400.000000\n",
       "2022-05-26  67200.0  65500.0  66300.0  65900.0  15970890.0  65900.000000\n",
       "2022-05-27  66900.0  66200.0  66700.0  66500.0  11405555.0  66500.000000\n",
       "2022-05-30  67800.0  66900.0  67500.0  67700.0  14024265.0  67700.000000\n",
       "\n",
       "[98 rows x 6 columns]"
      ]
     },
     "execution_count": 37,
     "metadata": {},
     "output_type": "execute_result"
    }
   ],
   "source": [
    "df = web.get_data_yahoo('005930.KS', start, end)   # 삼성전자. 005930\n",
    "df"
   ]
  },
  {
   "cell_type": "markdown",
   "metadata": {},
   "source": [
    "<hr>\n",
    "<marquee><font size=3 color='brown'>The BigpyCraft find the information to design valuable society with Technology & Craft.</font></marquee>\n",
    "<div align='right'><font size=2 color='gray'> &lt; The End &gt; </font></div>"
   ]
  }
 ],
 "metadata": {
  "anaconda-cloud": {},
  "kernelspec": {
   "display_name": "Python 3 (ipykernel)",
   "language": "python",
   "name": "python3"
  },
  "language_info": {
   "codemirror_mode": {
    "name": "ipython",
    "version": 3
   },
   "file_extension": ".py",
   "mimetype": "text/x-python",
   "name": "python",
   "nbconvert_exporter": "python",
   "pygments_lexer": "ipython3",
   "version": "3.9.7"
  }
 },
 "nbformat": 4,
 "nbformat_minor": 1
}
