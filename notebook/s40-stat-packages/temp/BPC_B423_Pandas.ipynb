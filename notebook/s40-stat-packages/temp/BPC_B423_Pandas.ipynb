{
 "cells": [
  {
   "cell_type": "markdown",
   "metadata": {},
   "source": [
    "# Industry 4.0 의 중심, BigData"
   ]
  },
  {
   "cell_type": "markdown",
   "metadata": {},
   "source": [
    "<div align='right'><font size=2 color='gray'>Data Processing Based Python @ <font color='blue'><a href='https://www.facebook.com/jskim.kr'>FB / jskim.kr</a></font>, [김진수](bigpycraft@gmail.com)</font></div>\n",
    "<hr>"
   ]
  },
  {
   "cell_type": "markdown",
   "metadata": {},
   "source": [
    "# Pandas Basic 3"
   ]
  },
  {
   "cell_type": "code",
   "execution_count": 1,
   "metadata": {
    "collapsed": true
   },
   "outputs": [],
   "source": [
    "from pandas import Series, DataFrame\n",
    "import pandas as pd\n",
    "import numpy as np\n",
    "\n",
    "from IPython.display import Image\n",
    "\n",
    "reference = lambda file, w=None, h=None : \\\n",
    "    Image(filename=file, width=w, height=h) \n",
    "\n",
    "# images\n",
    "Table5_1  = \"images/Table5-1.png\"   # DataFrame 생성자에서 사용 가능한 입력 데이터\n",
    "Table5_2  = \"images/Table5-2.png\"   # pandas의 주요 Index 객체\n",
    "Table5_3  = \"images/Table5-3.png\"   # Index 메소드와 속성\n",
    "Table5_4  = \"images/Table5-4.png\"   # reindex 메소드(보간) 옵션\n",
    "Table5_5  = \"images/Table5-5.png\"   # 재색인 함수 인자\n",
    "Table5_6  = \"images/Table5-6.png\"   # DataFrame의 값 선택하기\n",
    "Table5_7  = \"images/Table5-7.png\"   # 산술연산 메소드\n",
    "Table5_8  = \"images/Table5-8.png\"   # 순위의 동률을 처리하는 메소드\n",
    "Table5_9  = \"images/Table5-9.png\"   # 축소 메소드 옵션\n",
    "Table5_10 = \"images/Table5-10.png\"  # 기술통계와 요약통계\n",
    "Table5_11 = \"images/Table5-11.png\"  # 유일값, 값세기, 버리기 메소드\n",
    "Table5_12 = \"images/Table5-12.png\"  # NA 처리 메소드\n",
    "Table5_13 = \"images/Table5-13.png\"  # fillna 함수 인자\n"
   ]
  },
  {
   "cell_type": "markdown",
   "metadata": {},
   "source": [
    "## 3. Summarizing and computing descriptive statistics\n",
    "> 기술통계 계산과 요약\n",
    "- pandas 객체는 일반적인 수학 메소드와 통계 메소드를 가지고 있다.\n",
    "- 대부분 Series나 DataFrame 하나의 칼럼이나 로우에서 단일 값(합이나 평균같은)을 구하는 축소 혹은 요약통계 범주\n",
    "- 순수 NumPy 배열에서 제공하는 동일한 메소드와 비교하여 pandas의 메소드는 처음부터 누락된 데이터를 제외하도록 설계되었다."
   ]
  },
  {
   "cell_type": "code",
   "execution_count": 160,
   "metadata": {},
   "outputs": [
    {
     "data": {
      "text/html": [
       "<div>\n",
       "<table border=\"1\" class=\"dataframe\">\n",
       "  <thead>\n",
       "    <tr style=\"text-align: right;\">\n",
       "      <th></th>\n",
       "      <th>one</th>\n",
       "      <th>two</th>\n",
       "    </tr>\n",
       "  </thead>\n",
       "  <tbody>\n",
       "    <tr>\n",
       "      <th>a</th>\n",
       "      <td>1.40</td>\n",
       "      <td>NaN</td>\n",
       "    </tr>\n",
       "    <tr>\n",
       "      <th>b</th>\n",
       "      <td>7.10</td>\n",
       "      <td>-4.5</td>\n",
       "    </tr>\n",
       "    <tr>\n",
       "      <th>c</th>\n",
       "      <td>NaN</td>\n",
       "      <td>NaN</td>\n",
       "    </tr>\n",
       "    <tr>\n",
       "      <th>d</th>\n",
       "      <td>0.75</td>\n",
       "      <td>-1.3</td>\n",
       "    </tr>\n",
       "  </tbody>\n",
       "</table>\n",
       "</div>"
      ],
      "text/plain": [
       "    one  two\n",
       "a  1.40  NaN\n",
       "b  7.10 -4.5\n",
       "c   NaN  NaN\n",
       "d  0.75 -1.3"
      ]
     },
     "execution_count": 160,
     "metadata": {},
     "output_type": "execute_result"
    }
   ],
   "source": [
    "df = DataFrame([[1.4, np.nan], [7.1, -4.5], [np.nan, np.nan], [0.75, -1.3]],\n",
    "               index=['a', 'b', 'c', 'd'],\n",
    "               columns=['one', 'two'])\n",
    "df"
   ]
  },
  {
   "cell_type": "code",
   "execution_count": 161,
   "metadata": {},
   "outputs": [
    {
     "data": {
      "text/plain": [
       "one    9.25\n",
       "two   -5.80\n",
       "dtype: float64"
      ]
     },
     "execution_count": 161,
     "metadata": {},
     "output_type": "execute_result"
    }
   ],
   "source": [
    "df.sum()"
   ]
  },
  {
   "cell_type": "code",
   "execution_count": 162,
   "metadata": {},
   "outputs": [
    {
     "data": {
      "text/plain": [
       "a    1.40\n",
       "b    2.60\n",
       "c    0.00\n",
       "d   -0.55\n",
       "dtype: float64"
      ]
     },
     "execution_count": 162,
     "metadata": {},
     "output_type": "execute_result"
    }
   ],
   "source": [
    "df.sum(axis=1)"
   ]
  },
  {
   "cell_type": "code",
   "execution_count": 163,
   "metadata": {},
   "outputs": [
    {
     "data": {
      "text/plain": [
       "a      NaN\n",
       "b    1.300\n",
       "c      NaN\n",
       "d   -0.275\n",
       "dtype: float64"
      ]
     },
     "execution_count": 163,
     "metadata": {},
     "output_type": "execute_result"
    }
   ],
   "source": [
    "# skinpa : 누락된 값을 제외할 것인 정하는 옵션\n",
    "df.mean(axis=1, skipna=False)"
   ]
  },
  {
   "cell_type": "code",
   "execution_count": 164,
   "metadata": {},
   "outputs": [
    {
     "data": {
      "text/plain": [
       "a    1.400\n",
       "b    1.300\n",
       "c      NaN\n",
       "d   -0.275\n",
       "dtype: float64"
      ]
     },
     "execution_count": 164,
     "metadata": {},
     "output_type": "execute_result"
    }
   ],
   "source": [
    "df.mean(axis=1, skipna=True)"
   ]
  },
  {
   "cell_type": "code",
   "execution_count": 165,
   "metadata": {},
   "outputs": [
    {
     "data": {
      "image/png": "[encoded data removed]",
      "text/plain": [
       "<IPython.core.display.Image object>"
      ]
     },
     "execution_count": 165,
     "metadata": {
      "image/png": {
       "width": 450
      }
     },
     "output_type": "execute_result"
    }
   ],
   "source": [
    "# 축소 메소드 옵션\n",
    "reference(Table5_9, 450)"
   ]
  },
  {
   "cell_type": "code",
   "execution_count": 166,
   "metadata": {},
   "outputs": [
    {
     "data": {
      "text/plain": [
       "one    b\n",
       "two    d\n",
       "dtype: object"
      ]
     },
     "execution_count": 166,
     "metadata": {},
     "output_type": "execute_result"
    }
   ],
   "source": [
    "df.idxmax()"
   ]
  },
  {
   "cell_type": "code",
   "execution_count": 167,
   "metadata": {},
   "outputs": [
    {
     "data": {
      "text/html": [
       "<div>\n",
       "<table border=\"1\" class=\"dataframe\">\n",
       "  <thead>\n",
       "    <tr style=\"text-align: right;\">\n",
       "      <th></th>\n",
       "      <th>one</th>\n",
       "      <th>two</th>\n",
       "    </tr>\n",
       "  </thead>\n",
       "  <tbody>\n",
       "    <tr>\n",
       "      <th>a</th>\n",
       "      <td>1.40</td>\n",
       "      <td>NaN</td>\n",
       "    </tr>\n",
       "    <tr>\n",
       "      <th>b</th>\n",
       "      <td>8.50</td>\n",
       "      <td>-4.5</td>\n",
       "    </tr>\n",
       "    <tr>\n",
       "      <th>c</th>\n",
       "      <td>NaN</td>\n",
       "      <td>NaN</td>\n",
       "    </tr>\n",
       "    <tr>\n",
       "      <th>d</th>\n",
       "      <td>9.25</td>\n",
       "      <td>-5.8</td>\n",
       "    </tr>\n",
       "  </tbody>\n",
       "</table>\n",
       "</div>"
      ],
      "text/plain": [
       "    one  two\n",
       "a  1.40  NaN\n",
       "b  8.50 -4.5\n",
       "c   NaN  NaN\n",
       "d  9.25 -5.8"
      ]
     },
     "execution_count": 167,
     "metadata": {},
     "output_type": "execute_result"
    }
   ],
   "source": [
    "df.cumsum()"
   ]
  },
  {
   "cell_type": "code",
   "execution_count": 168,
   "metadata": {},
   "outputs": [
    {
     "name": "stderr",
     "output_type": "stream",
     "text": [
      "C:\\Anaconda3\\lib\\site-packages\\numpy\\lib\\function_base.py:3834: RuntimeWarning: Invalid value encountered in percentile\n",
      "  RuntimeWarning)\n"
     ]
    },
    {
     "data": {
      "text/html": [
       "<div>\n",
       "<table border=\"1\" class=\"dataframe\">\n",
       "  <thead>\n",
       "    <tr style=\"text-align: right;\">\n",
       "      <th></th>\n",
       "      <th>one</th>\n",
       "      <th>two</th>\n",
       "    </tr>\n",
       "  </thead>\n",
       "  <tbody>\n",
       "    <tr>\n",
       "      <th>count</th>\n",
       "      <td>3.000000</td>\n",
       "      <td>2.000000</td>\n",
       "    </tr>\n",
       "    <tr>\n",
       "      <th>mean</th>\n",
       "      <td>3.083333</td>\n",
       "      <td>-2.900000</td>\n",
       "    </tr>\n",
       "    <tr>\n",
       "      <th>std</th>\n",
       "      <td>3.493685</td>\n",
       "      <td>2.262742</td>\n",
       "    </tr>\n",
       "    <tr>\n",
       "      <th>min</th>\n",
       "      <td>0.750000</td>\n",
       "      <td>-4.500000</td>\n",
       "    </tr>\n",
       "    <tr>\n",
       "      <th>25%</th>\n",
       "      <td>NaN</td>\n",
       "      <td>NaN</td>\n",
       "    </tr>\n",
       "    <tr>\n",
       "      <th>50%</th>\n",
       "      <td>NaN</td>\n",
       "      <td>NaN</td>\n",
       "    </tr>\n",
       "    <tr>\n",
       "      <th>75%</th>\n",
       "      <td>NaN</td>\n",
       "      <td>NaN</td>\n",
       "    </tr>\n",
       "    <tr>\n",
       "      <th>max</th>\n",
       "      <td>7.100000</td>\n",
       "      <td>-1.300000</td>\n",
       "    </tr>\n",
       "  </tbody>\n",
       "</table>\n",
       "</div>"
      ],
      "text/plain": [
       "            one       two\n",
       "count  3.000000  2.000000\n",
       "mean   3.083333 -2.900000\n",
       "std    3.493685  2.262742\n",
       "min    0.750000 -4.500000\n",
       "25%         NaN       NaN\n",
       "50%         NaN       NaN\n",
       "75%         NaN       NaN\n",
       "max    7.100000 -1.300000"
      ]
     },
     "execution_count": 168,
     "metadata": {},
     "output_type": "execute_result"
    }
   ],
   "source": [
    "# 한번에 통계 결과를 여러개 만들어 내는 함수\n",
    "df.describe()"
   ]
  },
  {
   "cell_type": "code",
   "execution_count": 169,
   "metadata": {},
   "outputs": [
    {
     "data": {
      "text/plain": [
       "count     16\n",
       "unique     3\n",
       "top        a\n",
       "freq       8\n",
       "dtype: object"
      ]
     },
     "execution_count": 169,
     "metadata": {},
     "output_type": "execute_result"
    }
   ],
   "source": [
    "obj = Series(['a', 'a', 'b', 'c'] * 4)\n",
    "obj.describe()"
   ]
  },
  {
   "cell_type": "code",
   "execution_count": 170,
   "metadata": {},
   "outputs": [
    {
     "data": {
      "image/png": "[encoded data removed]",
      "text/plain": [
       "<IPython.core.display.Image object>"
      ]
     },
     "execution_count": 170,
     "metadata": {
      "image/png": {
       "width": 600
      }
     },
     "output_type": "execute_result"
    }
   ],
   "source": [
    "# 기술통계와 요약통계\n",
    "reference(Table5_10, 600)"
   ]
  },
  {
   "cell_type": "markdown",
   "metadata": {},
   "source": [
    "### <font color='brown'>Correlation and covariance</font>\n",
    "> 상관관계와 공분산\n",
    "- 상관관계와 공분산 같은 요약통계 계산은 인자가 두 벌 필요하다.\n",
    "- Yahoo 금융사이트에서 구한 주식가격과 시가총액을 담고 있는 DataFrame에 대해 생각해보자"
   ]
  },
  {
   "cell_type": "code",
   "execution_count": 171,
   "metadata": {},
   "outputs": [
    {
     "name": "stderr",
     "output_type": "stream",
     "text": [
      "C:\\Anaconda3\\lib\\site-packages\\pandas\\io\\data.py:35: FutureWarning: \n",
      "The pandas.io.data module is moved to a separate package (pandas-datareader) and will be removed from pandas in a future version.\n",
      "After installing the pandas-datareader package (https://github.com/pydata/pandas-datareader), you can change the import ``from pandas.io import data, wb`` to ``from pandas_datareader import data, wb``.\n",
      "  FutureWarning)\n"
     ]
    }
   ],
   "source": [
    "import pandas.io.data as web\n",
    "\n",
    "all_data = {}\n",
    "for ticker in ['AAPL', 'IBM', 'MSFT', 'GOOG']:\n",
    "    all_data[ticker] = web.get_data_yahoo(ticker)\n",
    "\n",
    "# price = DataFrame({tic: data['Adj Close']\n",
    "#                    for tic, data in all_data.iteritems()})\n",
    "# volume = DataFrame({tic: data['Volume']\n",
    "#                     for tic, data in all_data.iteritems()})"
   ]
  },
  {
   "cell_type": "code",
   "execution_count": 172,
   "metadata": {},
   "outputs": [
    {
     "data": {
      "text/plain": [
       "pandas.core.frame.DataFrame"
      ]
     },
     "execution_count": 172,
     "metadata": {},
     "output_type": "execute_result"
    }
   ],
   "source": [
    "type(all_data['AAPL'])"
   ]
  },
  {
   "cell_type": "code",
   "execution_count": 173,
   "metadata": {},
   "outputs": [
    {
     "data": {
      "text/plain": [
       "pandas.core.series.Series"
      ]
     },
     "execution_count": 173,
     "metadata": {},
     "output_type": "execute_result"
    }
   ],
   "source": [
    "type(all_data['AAPL']['Adj Close'])"
   ]
  },
  {
   "cell_type": "code",
   "execution_count": 174,
   "metadata": {
    "collapsed": true
   },
   "outputs": [],
   "source": [
    "# all_data['AAPL']['Adj Close']"
   ]
  },
  {
   "cell_type": "code",
   "execution_count": 175,
   "metadata": {},
   "outputs": [
    {
     "data": {
      "text/html": [
       "<div>\n",
       "<table border=\"1\" class=\"dataframe\">\n",
       "  <thead>\n",
       "    <tr style=\"text-align: right;\">\n",
       "      <th></th>\n",
       "      <th>Open</th>\n",
       "      <th>High</th>\n",
       "      <th>Low</th>\n",
       "      <th>Close</th>\n",
       "      <th>Volume</th>\n",
       "      <th>Adj Close</th>\n",
       "    </tr>\n",
       "    <tr>\n",
       "      <th>Date</th>\n",
       "      <th></th>\n",
       "      <th></th>\n",
       "      <th></th>\n",
       "      <th></th>\n",
       "      <th></th>\n",
       "      <th></th>\n",
       "    </tr>\n",
       "  </thead>\n",
       "  <tbody>\n",
       "    <tr>\n",
       "      <th>2010-01-04</th>\n",
       "      <td>213.429998</td>\n",
       "      <td>214.499996</td>\n",
       "      <td>212.380001</td>\n",
       "      <td>214.009998</td>\n",
       "      <td>123432400</td>\n",
       "      <td>27.847252</td>\n",
       "    </tr>\n",
       "    <tr>\n",
       "      <th>2010-01-05</th>\n",
       "      <td>214.599998</td>\n",
       "      <td>215.589994</td>\n",
       "      <td>213.249994</td>\n",
       "      <td>214.379993</td>\n",
       "      <td>150476200</td>\n",
       "      <td>27.895396</td>\n",
       "    </tr>\n",
       "    <tr>\n",
       "      <th>2010-01-06</th>\n",
       "      <td>214.379993</td>\n",
       "      <td>215.230000</td>\n",
       "      <td>210.750004</td>\n",
       "      <td>210.969995</td>\n",
       "      <td>138040000</td>\n",
       "      <td>27.451683</td>\n",
       "    </tr>\n",
       "    <tr>\n",
       "      <th>2010-01-07</th>\n",
       "      <td>211.750000</td>\n",
       "      <td>212.000006</td>\n",
       "      <td>209.050005</td>\n",
       "      <td>210.580000</td>\n",
       "      <td>119282800</td>\n",
       "      <td>27.400936</td>\n",
       "    </tr>\n",
       "    <tr>\n",
       "      <th>2010-01-08</th>\n",
       "      <td>210.299994</td>\n",
       "      <td>212.000006</td>\n",
       "      <td>209.060005</td>\n",
       "      <td>211.980005</td>\n",
       "      <td>111902700</td>\n",
       "      <td>27.583106</td>\n",
       "    </tr>\n",
       "    <tr>\n",
       "      <th>2010-01-11</th>\n",
       "      <td>212.799997</td>\n",
       "      <td>213.000002</td>\n",
       "      <td>208.450005</td>\n",
       "      <td>210.110003</td>\n",
       "      <td>115557400</td>\n",
       "      <td>27.339779</td>\n",
       "    </tr>\n",
       "    <tr>\n",
       "      <th>2010-01-12</th>\n",
       "      <td>209.189995</td>\n",
       "      <td>209.769995</td>\n",
       "      <td>206.419998</td>\n",
       "      <td>207.720001</td>\n",
       "      <td>148614900</td>\n",
       "      <td>27.028789</td>\n",
       "    </tr>\n",
       "    <tr>\n",
       "      <th>2010-01-13</th>\n",
       "      <td>207.870005</td>\n",
       "      <td>210.929995</td>\n",
       "      <td>204.099998</td>\n",
       "      <td>210.650002</td>\n",
       "      <td>151473000</td>\n",
       "      <td>27.410045</td>\n",
       "    </tr>\n",
       "    <tr>\n",
       "      <th>2010-01-14</th>\n",
       "      <td>210.110003</td>\n",
       "      <td>210.459997</td>\n",
       "      <td>209.020004</td>\n",
       "      <td>209.430000</td>\n",
       "      <td>108223500</td>\n",
       "      <td>27.251297</td>\n",
       "    </tr>\n",
       "    <tr>\n",
       "      <th>2010-01-15</th>\n",
       "      <td>210.929995</td>\n",
       "      <td>211.599997</td>\n",
       "      <td>205.869999</td>\n",
       "      <td>205.930000</td>\n",
       "      <td>148516900</td>\n",
       "      <td>26.795872</td>\n",
       "    </tr>\n",
       "  </tbody>\n",
       "</table>\n",
       "</div>"
      ],
      "text/plain": [
       "                  Open        High         Low       Close     Volume  \\\n",
       "Date                                                                    \n",
       "2010-01-04  213.429998  214.499996  212.380001  214.009998  123432400   \n",
       "2010-01-05  214.599998  215.589994  213.249994  214.379993  150476200   \n",
       "2010-01-06  214.379993  215.230000  210.750004  210.969995  138040000   \n",
       "2010-01-07  211.750000  212.000006  209.050005  210.580000  119282800   \n",
       "2010-01-08  210.299994  212.000006  209.060005  211.980005  111902700   \n",
       "2010-01-11  212.799997  213.000002  208.450005  210.110003  115557400   \n",
       "2010-01-12  209.189995  209.769995  206.419998  207.720001  148614900   \n",
       "2010-01-13  207.870005  210.929995  204.099998  210.650002  151473000   \n",
       "2010-01-14  210.110003  210.459997  209.020004  209.430000  108223500   \n",
       "2010-01-15  210.929995  211.599997  205.869999  205.930000  148516900   \n",
       "\n",
       "            Adj Close  \n",
       "Date                   \n",
       "2010-01-04  27.847252  \n",
       "2010-01-05  27.895396  \n",
       "2010-01-06  27.451683  \n",
       "2010-01-07  27.400936  \n",
       "2010-01-08  27.583106  \n",
       "2010-01-11  27.339779  \n",
       "2010-01-12  27.028789  \n",
       "2010-01-13  27.410045  \n",
       "2010-01-14  27.251297  \n",
       "2010-01-15  26.795872  "
      ]
     },
     "execution_count": 175,
     "metadata": {},
     "output_type": "execute_result"
    }
   ],
   "source": [
    "all_data['AAPL'][0:10]"
   ]
  },
  {
   "cell_type": "code",
   "execution_count": 176,
   "metadata": {},
   "outputs": [
    {
     "data": {
      "text/plain": [
       "dict_items([('MSFT',                  Open       High        Low      Close     Volume  Adj Close\n",
       "Date                                                                        \n",
       "2010-01-04  30.620001  31.100000  30.590000  30.950001   38409100  25.710416\n",
       "2010-01-05  30.850000  31.100000  30.639999  30.959999   49749600  25.718722\n",
       "2010-01-06  30.879999  31.080000  30.520000  30.770000   58182400  25.560888\n",
       "2010-01-07  30.629999  30.700001  30.190001  30.450001   50559700  25.295062\n",
       "2010-01-08  30.280001  30.879999  30.240000  30.660000   51197400  25.469510\n",
       "2010-01-11  30.709999  30.760000  30.120001  30.270000   68754700  25.145534\n",
       "2010-01-12  30.150000  30.400000  29.910000  30.070000   65912100  24.979392\n",
       "2010-01-13  30.260000  30.520000  30.010000  30.350000   51863500  25.211991\n",
       "2010-01-14  30.309999  31.100000  30.260000  30.959999   63228100  25.718722\n",
       "2010-01-15  31.080000  31.240000  30.709999  30.860001   79913200  25.635652\n",
       "2010-01-19  30.750000  31.240000  30.680000  31.100000   46575700  25.835022\n",
       "2010-01-20  30.809999  30.940001  30.309999  30.590000   54849500  25.411360\n",
       "2010-01-21  30.610001  30.719999  30.000000  30.010000   73086700  24.929550\n",
       "2010-01-22  30.000000  30.200001  28.840000  28.959999  102004600  24.057305\n",
       "2010-01-25  29.240000  29.660000  29.100000  29.320000   63373000  24.356361\n",
       "2010-01-26  29.200001  29.850000  29.090000  29.500000   66639900  24.505889\n",
       "2010-01-27  29.350000  29.820000  29.020000  29.670000   63949500  24.647109\n",
       "2010-01-28  29.840000  29.870001  28.889999  29.160000  117513700  24.223448\n",
       "2010-01-29  29.900000  29.920000  27.660000  28.180000  193888500  23.409354\n",
       "2010-02-01  28.389999  28.480000  27.920000  28.410000   85931100  23.600417\n",
       "2010-02-02  28.370001  28.500000  28.139999  28.459999   54413700  23.641951\n",
       "2010-02-03  28.260000  28.790001  28.120001  28.629999   61397900  23.783172\n",
       "2010-02-04  28.379999  28.500000  27.809999  27.840000   77850000  23.126913\n",
       "2010-02-05  28.000000  28.280001  27.570000  28.020000   80960100  23.276441\n",
       "2010-02-08  28.010000  28.080000  27.570000  27.719999   52820600  23.027228\n",
       "2010-02-09  27.969999  28.340000  27.750000  28.010000   59195800  23.268134\n",
       "2010-02-10  28.030001  28.240000  27.840000  27.990000   48591300  23.251519\n",
       "2010-02-11  27.930000  28.400000  27.700001  28.120001   65993700  23.359512\n",
       "2010-02-12  27.809999  28.059999  27.580000  27.930000   81117200  23.201677\n",
       "2010-02-16  28.129999  28.370001  28.020000  28.350000   51935600  23.660703\n",
       "...               ...        ...        ...        ...        ...        ...\n",
       "2016-12-07  60.009998  61.380001  59.799999  61.369999   29769100  61.369999\n",
       "2016-12-08  61.299999  61.580002  60.840000  61.009998   21043400  61.009998\n",
       "2016-12-09  61.180000  61.990002  61.130001  61.970001   26670800  61.970001\n",
       "2016-12-12  61.820000  62.299999  61.720001  62.169998   20057000  62.169998\n",
       "2016-12-13  62.500000  63.419998  62.240002  62.980000   35046300  62.980000\n",
       "2016-12-14  63.000000  63.450001  62.529999  62.680000   29272800  62.680000\n",
       "2016-12-15  62.700001  63.150002  62.299999  62.580002   27655900  62.580002\n",
       "2016-12-16  62.950001  62.950001  62.119999  62.299999   42204700  62.299999\n",
       "2016-12-19  62.560001  63.770000  62.419998  63.619999   33182800  63.619999\n",
       "2016-12-20  63.689999  63.799999  63.029999  63.540001   25389900  63.540001\n",
       "2016-12-21  63.430000  63.700001  63.119999  63.540001   17071800  63.540001\n",
       "2016-12-22  63.840000  64.099998  63.410000  63.549999   22155200  63.549999\n",
       "2016-12-23  63.450001  63.540001  62.799999  63.240002   12398000  63.240002\n",
       "2016-12-27  63.209999  64.070000  63.209999  63.279999   11583900  63.279999\n",
       "2016-12-28  63.400002  63.400002  62.830002  62.990002   14247400  62.990002\n",
       "2016-12-29  62.860001  63.200001  62.730000  62.900002   10181600  62.900002\n",
       "2016-12-30  62.959999  62.990002  62.029999  62.139999   25465900  62.139999\n",
       "2017-01-03  62.790001  62.840000  62.130001  62.580002   20460500  62.580002\n",
       "2017-01-04  62.480000  62.750000  62.119999  62.299999   20999800  62.299999\n",
       "2017-01-05  62.189999  62.660000  62.029999  62.299999   24845300  62.299999\n",
       "2017-01-06  62.299999  63.150002  62.040001  62.840000   19897900  62.840000\n",
       "2017-01-09  62.759998  63.080002  62.540001  62.639999   20256600  62.639999\n",
       "2017-01-10  62.730000  63.070000  62.279999  62.619999   18547000  62.619999\n",
       "2017-01-11  62.610001  63.230000  62.430000  63.189999   21462800  63.189999\n",
       "2017-01-12  63.060001  63.400002  61.950001  62.610001   20898900  62.610001\n",
       "2017-01-13  62.619999  62.869999  62.349998  62.700001   19350400  62.700001\n",
       "2017-01-17  62.680000  62.700001  62.029999  62.529999   20620400  62.529999\n",
       "2017-01-18  62.669998  62.700001  62.119999  62.500000   19646500  62.500000\n",
       "2017-01-19  62.240002  62.980000  62.200001  62.299999   18435500  62.299999\n",
       "2017-01-20  62.669998  62.820000  62.369999  62.740002   29467500  62.740002\n",
       "\n",
       "[1775 rows x 6 columns]), ('AAPL',                   Open        High         Low       Close     Volume  \\\n",
       "Date                                                                    \n",
       "2010-01-04  213.429998  214.499996  212.380001  214.009998  123432400   \n",
       "2010-01-05  214.599998  215.589994  213.249994  214.379993  150476200   \n",
       "2010-01-06  214.379993  215.230000  210.750004  210.969995  138040000   \n",
       "2010-01-07  211.750000  212.000006  209.050005  210.580000  119282800   \n",
       "2010-01-08  210.299994  212.000006  209.060005  211.980005  111902700   \n",
       "2010-01-11  212.799997  213.000002  208.450005  210.110003  115557400   \n",
       "2010-01-12  209.189995  209.769995  206.419998  207.720001  148614900   \n",
       "2010-01-13  207.870005  210.929995  204.099998  210.650002  151473000   \n",
       "2010-01-14  210.110003  210.459997  209.020004  209.430000  108223500   \n",
       "2010-01-15  210.929995  211.599997  205.869999  205.930000  148516900   \n",
       "2010-01-19  208.330002  215.189999  207.240004  215.039995  182501900   \n",
       "2010-01-20  214.910006  215.549994  209.500002  211.730000  153038200   \n",
       "2010-01-21  212.079994  213.309996  207.210003  208.069996  152038600   \n",
       "2010-01-22  206.780006  207.499996  197.160000  197.750000  220441900   \n",
       "2010-01-25  202.510002  204.699999  200.190002  203.070002  266424900   \n",
       "2010-01-26  205.950001  213.710005  202.580004  205.940001  466777500   \n",
       "2010-01-27  206.849995  210.580000  199.530001  207.880005  430642100   \n",
       "2010-01-28  204.930004  205.500004  198.699995  199.289995  293375600   \n",
       "2010-01-29  201.079996  202.199995  190.250002  192.060003  311488100   \n",
       "2010-02-01  192.369997  196.000000  191.299999  194.729998  187469100   \n",
       "2010-02-02  195.909998  196.319994  193.379993  195.859997  174585600   \n",
       "2010-02-03  195.169994  200.200003  194.420004  199.229994  153832000   \n",
       "2010-02-04  196.730003  198.370001  191.570005  192.050003  189413000   \n",
       "2010-02-05  192.630003  196.000000  190.850002  195.460001  212576700   \n",
       "2010-02-08  195.690006  197.880003  193.999994  194.119997  119567700   \n",
       "2010-02-09  196.419996  197.499994  194.749998  196.190004  158221700   \n",
       "2010-02-10  195.889997  196.600000  194.260000  195.120007   92590400   \n",
       "2010-02-11  194.880001  199.750006  194.059996  198.669994  137586400   \n",
       "2010-02-12  198.109995  201.639996  195.500002  200.379993  163867200   \n",
       "2010-02-16  201.940002  203.690002  201.520006  203.399996  135934400   \n",
       "...                ...         ...         ...         ...        ...   \n",
       "2016-12-07  109.260002  111.190002  109.160004  111.029999   29853000   \n",
       "2016-12-08  110.860001  112.430000  110.599998  112.120003   26818500   \n",
       "2016-12-09  112.309998  114.699997  112.309998  113.949997   34274100   \n",
       "2016-12-12  113.290001  115.000000  112.489998  113.300003   26149100   \n",
       "2016-12-13  113.839996  115.919998  113.750000  115.190002   43167500   \n",
       "2016-12-14  115.040001  116.199997  114.980003  115.190002   33433200   \n",
       "2016-12-15  115.379997  116.730003  115.230003  115.820000   46232200   \n",
       "2016-12-16  116.470001  116.500000  115.650002  115.970001   44055400   \n",
       "2016-12-19  115.800003  117.379997  115.750000  116.639999   27675400   \n",
       "2016-12-20  116.739998  117.500000  116.680000  116.949997   20905800   \n",
       "2016-12-21  116.800003  117.400002  116.779999  117.059998   24216900   \n",
       "2016-12-22  116.349998  116.510002  115.639999  116.290001   25789800   \n",
       "2016-12-23  115.589996  116.519997  115.589996  116.519997   14181200   \n",
       "2016-12-27  116.519997  117.800003  116.489998  117.260002   18071900   \n",
       "2016-12-28  117.519997  118.019997  116.199997  116.760002   20582000   \n",
       "2016-12-29  116.449997  117.110001  116.400002  116.730003   14963300   \n",
       "2016-12-30  116.650002  117.199997  115.430000  115.820000   30253100   \n",
       "2017-01-03  115.800003  116.330002  114.760002  116.150002   28509500   \n",
       "2017-01-04  115.849998  116.510002  115.750000  116.019997   20858700   \n",
       "2017-01-05  115.919998  116.860001  115.809998  116.610001   22103700   \n",
       "2017-01-06  116.779999  118.160004  116.470001  117.910004   31577900   \n",
       "2017-01-09  117.949997  119.430000  117.940002  118.989998   33387600   \n",
       "2017-01-10  118.769997  119.379997  118.300003  119.110001   24420800   \n",
       "2017-01-11  118.739998  119.930000  118.599998  119.750000   27418600   \n",
       "2017-01-12  118.900002  119.300003  118.209999  119.250000   27002400   \n",
       "2017-01-13  119.110001  119.620003  118.809998  119.040001   25938300   \n",
       "2017-01-17  118.339996  120.239998  118.220001  120.000000   34078600   \n",
       "2017-01-18  120.000000  120.500000  119.709999  119.989998   23644700   \n",
       "2017-01-19  119.400002  120.089996  119.370003  119.779999   25295700   \n",
       "2017-01-20  120.449997  120.449997  119.730003  120.000000   29479900   \n",
       "\n",
       "             Adj Close  \n",
       "Date                    \n",
       "2010-01-04   27.847252  \n",
       "2010-01-05   27.895396  \n",
       "2010-01-06   27.451683  \n",
       "2010-01-07   27.400936  \n",
       "2010-01-08   27.583106  \n",
       "2010-01-11   27.339779  \n",
       "2010-01-12   27.028789  \n",
       "2010-01-13   27.410045  \n",
       "2010-01-14   27.251297  \n",
       "2010-01-15   26.795872  \n",
       "2010-01-19   27.981276  \n",
       "2010-01-20   27.550575  \n",
       "2010-01-21   27.074331  \n",
       "2010-01-22   25.731480  \n",
       "2010-01-25   26.423726  \n",
       "2010-01-26   26.797173  \n",
       "2010-01-27   27.049609  \n",
       "2010-01-28   25.931866  \n",
       "2010-01-29   24.991091  \n",
       "2010-02-01   25.338514  \n",
       "2010-02-02   25.485551  \n",
       "2010-02-03   25.924059  \n",
       "2010-02-04   24.989789  \n",
       "2010-02-05   25.433503  \n",
       "2010-02-08   25.259140  \n",
       "2010-02-09   25.528492  \n",
       "2010-02-10   25.389262  \n",
       "2010-02-11   25.851191  \n",
       "2010-02-12   26.073698  \n",
       "2010-02-16   26.466665  \n",
       "...                ...  \n",
       "2016-12-07  111.029999  \n",
       "2016-12-08  112.120003  \n",
       "2016-12-09  113.949997  \n",
       "2016-12-12  113.300003  \n",
       "2016-12-13  115.190002  \n",
       "2016-12-14  115.190002  \n",
       "2016-12-15  115.820000  \n",
       "2016-12-16  115.970001  \n",
       "2016-12-19  116.639999  \n",
       "2016-12-20  116.949997  \n",
       "2016-12-21  117.059998  \n",
       "2016-12-22  116.290001  \n",
       "2016-12-23  116.519997  \n",
       "2016-12-27  117.260002  \n",
       "2016-12-28  116.760002  \n",
       "2016-12-29  116.730003  \n",
       "2016-12-30  115.820000  \n",
       "2017-01-03  116.150002  \n",
       "2017-01-04  116.019997  \n",
       "2017-01-05  116.610001  \n",
       "2017-01-06  117.910004  \n",
       "2017-01-09  118.989998  \n",
       "2017-01-10  119.110001  \n",
       "2017-01-11  119.750000  \n",
       "2017-01-12  119.250000  \n",
       "2017-01-13  119.040001  \n",
       "2017-01-17  120.000000  \n",
       "2017-01-18  119.989998  \n",
       "2017-01-19  119.779999  \n",
       "2017-01-20  120.000000  \n",
       "\n",
       "[1775 rows x 6 columns]), ('GOOG',                   Open        High         Low       Close    Volume  \\\n",
       "Date                                                                   \n",
       "2010-01-04  626.951088  629.511067  624.241073  626.751061   3927000   \n",
       "2010-01-05  627.181073  627.841071  621.541045  623.991055   6031900   \n",
       "2010-01-06  625.861078  625.861078  606.361042  608.261023   7987100   \n",
       "2010-01-07  609.401025  610.001045  592.651008  594.101005  12876600   \n",
       "2010-01-08  592.000997  603.251034  589.110988  602.021036   9483900   \n",
       "2010-01-11  604.461060  604.461060  594.041028  601.111020  14479800   \n",
       "2010-01-12  597.651011  598.161034  588.001007  590.481036   9742900   \n",
       "2010-01-13  576.490965  588.381027  573.900966  587.090991  13041800   \n",
       "2010-01-14  583.900972  594.200988  582.811024  589.850997   8511900   \n",
       "2010-01-15  593.341025  593.561024  578.041006  580.000965  10909600   \n",
       "2010-01-19  581.201005  590.420997  576.290999  587.620986   8665700   \n",
       "2010-01-20  585.981009  585.981009  575.290986  580.411005   6525700   \n",
       "2010-01-21  583.441002  586.821000  572.251003  582.980970  12662600   \n",
       "2010-01-22  564.500980  570.600979  534.860888  550.010933  13651700   \n",
       "2010-01-25  546.590929  549.880931  535.510900  540.000941   8872800   \n",
       "2010-01-26  537.970896  549.600954  536.290913  542.420931   8743600   \n",
       "2010-01-27  541.270944  547.650920  535.310934  542.100949   7958400   \n",
       "2010-01-28  544.490921  547.000908  530.600893  534.290888   6482300   \n",
       "2010-01-29  538.490905  540.990906  525.610876  529.940896   8311900   \n",
       "2010-02-01  534.600945  535.810910  530.300883  533.020884   4518400   \n",
       "2010-02-02  534.960932  534.960932  527.610902  531.120903   8223000   \n",
       "2010-02-03  528.670892  542.100949  528.230894  540.820899   6020500   \n",
       "2010-02-04  537.000902  538.000915  525.560885  526.780897   6780600   \n",
       "2010-02-05  528.400902  533.500888  522.460925  531.290910   6335600   \n",
       "2010-02-08  532.500936  542.000905  531.530881  533.470930   5408700   \n",
       "2010-02-09  539.540909  541.530949  535.070901  536.440949   5660200   \n",
       "2010-02-10  534.070888  537.790902  527.690913  534.450909   5369000   \n",
       "2010-02-11  533.320894  540.490931  529.500898  536.400943   4838000   \n",
       "2010-02-12  532.970893  537.150938  530.500910  533.120928   4576400   \n",
       "2010-02-16  536.870900  544.130933  534.300935  541.300902   7336100   \n",
       "...                ...         ...         ...         ...       ...   \n",
       "2016-12-07  761.000000  771.359985  755.799988  771.190002   1750800   \n",
       "2016-12-08  772.479980  778.179993  767.229980  776.419983   1448200   \n",
       "2016-12-09  780.000000  789.429993  779.020996  789.289978   1780500   \n",
       "2016-12-12  785.039978  791.250000  784.354980  789.270020   2097100   \n",
       "2016-12-13  793.900024  804.380005  793.340027  796.099976   2119800   \n",
       "2016-12-14  797.400024  804.000000  794.010010  797.070007   1664500   \n",
       "2016-12-15  797.340027  803.000000  792.919983  797.849976   1623700   \n",
       "2016-12-16  800.400024  800.856018  790.289978  790.799988   2428300   \n",
       "2016-12-19  790.219971  797.659973  786.270020  794.200012   1225900   \n",
       "2016-12-20  796.760010  798.650024  793.270020  796.419983    925100   \n",
       "2016-12-21  795.840027  796.676025  787.099976  794.559998   1208700   \n",
       "2016-12-22  792.359985  793.320007  788.580017  791.260010    969100   \n",
       "2016-12-23  790.900024  792.739990  787.280029  789.909973    623400   \n",
       "2016-12-27  790.679993  797.859985  787.656982  791.549988    789100   \n",
       "2016-12-28  793.700012  794.229980  783.200012  785.049988   1132700   \n",
       "2016-12-29  783.330017  785.929993  778.919983  782.789978    742200   \n",
       "2016-12-30  782.750000  782.780029  770.409973  771.820007   1760200   \n",
       "2017-01-03  778.809998  789.630005  775.799988  786.140015   1643100   \n",
       "2017-01-04  788.359985  791.340027  783.159973  786.900024   1065400   \n",
       "2017-01-05  786.080017  794.479980  785.020020  794.020020   1315400   \n",
       "2017-01-06  795.260010  807.900024  792.203979  806.150024   1620500   \n",
       "2017-01-09  806.400024  809.966003  802.830017  806.650024   1272400   \n",
       "2017-01-10  807.859985  809.130005  803.510010  804.789978   1174300   \n",
       "2017-01-11  805.000000  808.150024  801.369995  807.909973   1057900   \n",
       "2017-01-12  807.140015  807.390015  799.169983  806.359985   1351000   \n",
       "2017-01-13  807.479980  811.223999  806.690002  807.880005   1090100   \n",
       "2017-01-17  807.080017  807.140015  800.369995  804.609985   1355800   \n",
       "2017-01-18  805.809998  806.205017  800.989990  806.070007   1293300   \n",
       "2017-01-19  805.119995  809.479980  801.799988  802.174988    912000   \n",
       "2017-01-20  806.909973  806.909973  801.690002  805.020020   1645000   \n",
       "\n",
       "             Adj Close  \n",
       "Date                    \n",
       "2010-01-04  313.062468  \n",
       "2010-01-05  311.683844  \n",
       "2010-01-06  303.826685  \n",
       "2010-01-07  296.753749  \n",
       "2010-01-08  300.709808  \n",
       "2010-01-11  300.255255  \n",
       "2010-01-12  294.945572  \n",
       "2010-01-13  293.252243  \n",
       "2010-01-14  294.630868  \n",
       "2010-01-15  289.710772  \n",
       "2010-01-19  293.516976  \n",
       "2010-01-20  289.915587  \n",
       "2010-01-21  291.199286  \n",
       "2010-01-22  274.730736  \n",
       "2010-01-25  269.730740  \n",
       "2010-01-26  270.939526  \n",
       "2010-01-27  270.779695  \n",
       "2010-01-28  266.878565  \n",
       "2010-01-29  264.705742  \n",
       "2010-02-01  266.244198  \n",
       "2010-02-02  265.295156  \n",
       "2010-02-03  270.140309  \n",
       "2010-02-04  263.127321  \n",
       "2010-02-05  265.380075  \n",
       "2010-02-08  266.468996  \n",
       "2010-02-09  267.952522  \n",
       "2010-02-10  266.958496  \n",
       "2010-02-11  267.932539  \n",
       "2010-02-12  266.294170  \n",
       "2010-02-16  270.380071  \n",
       "...                ...  \n",
       "2016-12-07  771.190002  \n",
       "2016-12-08  776.419983  \n",
       "2016-12-09  789.289978  \n",
       "2016-12-12  789.270020  \n",
       "2016-12-13  796.099976  \n",
       "2016-12-14  797.070007  \n",
       "2016-12-15  797.849976  \n",
       "2016-12-16  790.799988  \n",
       "2016-12-19  794.200012  \n",
       "2016-12-20  796.419983  \n",
       "2016-12-21  794.559998  \n",
       "2016-12-22  791.260010  \n",
       "2016-12-23  789.909973  \n",
       "2016-12-27  791.549988  \n",
       "2016-12-28  785.049988  \n",
       "2016-12-29  782.789978  \n",
       "2016-12-30  771.820007  \n",
       "2017-01-03  786.140015  \n",
       "2017-01-04  786.900024  \n",
       "2017-01-05  794.020020  \n",
       "2017-01-06  806.150024  \n",
       "2017-01-09  806.650024  \n",
       "2017-01-10  804.789978  \n",
       "2017-01-11  807.909973  \n",
       "2017-01-12  806.359985  \n",
       "2017-01-13  807.880005  \n",
       "2017-01-17  804.609985  \n",
       "2017-01-18  806.070007  \n",
       "2017-01-19  802.174988  \n",
       "2017-01-20  805.020020  \n",
       "\n",
       "[1775 rows x 6 columns]), ('IBM',                   Open        High         Low       Close    Volume  \\\n",
       "Date                                                                   \n",
       "2010-01-04  131.179993  132.970001  130.850006  132.449997   6155300   \n",
       "2010-01-05  131.679993  131.850006  130.100006  130.850006   6841400   \n",
       "2010-01-06  130.679993  131.490005  129.809998  130.000000   5605300   \n",
       "2010-01-07  129.869995  130.250000  128.910004  129.550003   5840600   \n",
       "2010-01-08  129.070007  130.919998  129.050003  130.850006   4197200   \n",
       "2010-01-11  131.059998  131.059998  128.669998  129.479996   5730400   \n",
       "2010-01-12  129.029999  131.330002  129.000000  130.509995   8081500   \n",
       "2010-01-13  130.389999  131.119995  129.160004  130.229996   6455400   \n",
       "2010-01-14  130.550003  132.710007  129.910004  132.309998   7111800   \n",
       "2010-01-15  132.029999  132.889999  131.089996  131.779999   8494400   \n",
       "2010-01-19  131.630005  134.250000  131.559998  134.139999  13916200   \n",
       "2010-01-20  130.460007  131.149994  128.949997  130.250000  15197500   \n",
       "2010-01-21  130.470001  130.690002  128.059998  129.000000   9608600   \n",
       "2010-01-22  128.669998  128.889999  125.370003  125.500000  10088600   \n",
       "2010-01-25  126.330002  126.889999  125.709999  126.120003   5738500   \n",
       "2010-01-26  125.919998  127.750000  125.410004  125.750000   7135300   \n",
       "2010-01-27  125.820000  126.959999  125.040001  126.330002   8719200   \n",
       "2010-01-28  127.029999  127.040001  123.050003  123.750000   9622200   \n",
       "2010-01-29  124.320000  125.000000  121.900002  122.389999  11571200   \n",
       "2010-02-01  123.230003  124.949997  122.779999  124.669998   7242900   \n",
       "2010-02-02  124.790001  125.809998  123.949997  125.529999   5899900   \n",
       "2010-02-03  125.160004  126.070000  125.070000  125.660004   4177100   \n",
       "2010-02-04  125.190002  125.440002  122.900002  123.000000   9126900   \n",
       "2010-02-05  123.040001  123.720001  121.830002  123.519997   8617000   \n",
       "2010-02-08  123.150002  123.220001  121.739998  121.879997   5718500   \n",
       "2010-02-09  122.650002  124.199997  122.459999  123.209999   6044500   \n",
       "2010-02-10  122.940002  123.650002  122.209999  122.809998   5219100   \n",
       "2010-02-11  122.580002  124.199997  122.059998  123.730003   5089000   \n",
       "2010-02-12  123.010002  124.050003  121.610001  124.000000   8017700   \n",
       "2010-02-16  124.910004  125.230003  124.110001  125.230003   6777300   \n",
       "...                ...         ...         ...         ...       ...   \n",
       "2016-12-07  160.600006  165.179993  160.389999  164.789993   4377300   \n",
       "2016-12-08  164.869995  166.000000  164.220001  165.360001   3259700   \n",
       "2016-12-09  165.179993  166.720001  164.600006  166.520004   3143900   \n",
       "2016-12-12  166.720001  166.789993  165.070007  165.500000   3389200   \n",
       "2016-12-13  165.679993  169.949997  165.679993  168.289993   5838700   \n",
       "2016-12-14  168.369995  169.889999  167.449997  168.509995   3957600   \n",
       "2016-12-15  168.009995  169.850006  167.779999  168.020004   3363200   \n",
       "2016-12-16  168.970001  169.110001  166.059998  166.729996   6679200   \n",
       "2016-12-19  166.830002  167.259995  166.000000  166.679993   2855700   \n",
       "2016-12-20  167.490005  168.250000  166.449997  167.600006   2170400   \n",
       "2016-12-21  166.250000  167.940002  165.250000  167.330002   3568400   \n",
       "2016-12-22  167.360001  168.229996  166.580002  167.059998   2778900   \n",
       "2016-12-23  167.000000  167.490005  166.449997  166.710007   1699200   \n",
       "2016-12-27  166.979996  167.979996  166.850006  167.139999   1396000   \n",
       "2016-12-28  167.289993  167.740005  166.000000  166.190002   1721800   \n",
       "2016-12-29  166.020004  166.990005  166.000000  166.600006   1594000   \n",
       "2016-12-30  166.440002  166.699997  165.500000  165.990005   2951300   \n",
       "2017-01-03  167.000000  167.869995  166.009995  167.190002   2927900   \n",
       "2017-01-04  167.770004  169.869995  167.360001  169.259995   3357000   \n",
       "2017-01-05  169.250000  169.389999  167.259995  168.699997   2681000   \n",
       "2017-01-06  168.690002  169.919998  167.520004  169.529999   2814900   \n",
       "2017-01-09  169.470001  169.800003  167.619995  167.649994   3184700   \n",
       "2017-01-10  167.979996  168.089996  165.339996  165.520004   4097100   \n",
       "2017-01-11  166.050003  167.759995  165.600006  167.750000   3585800   \n",
       "2017-01-12  167.770004  168.009995  165.559998  167.949997   2927500   \n",
       "2017-01-13  167.970001  168.479996  166.880005  167.339996   2872600   \n",
       "2017-01-17  166.690002  168.179993  166.119995  167.889999   3302900   \n",
       "2017-01-18  167.449997  168.589996  166.690002  166.800003   3979900   \n",
       "2017-01-19  166.960007  167.449997  165.800003  166.809998   5733000   \n",
       "2017-01-20  167.809998  170.639999  166.000000  170.550003  12495100   \n",
       "\n",
       "             Adj Close  \n",
       "Date                    \n",
       "2010-01-04  112.285875  \n",
       "2010-01-05  110.929466  \n",
       "2010-01-06  110.208865  \n",
       "2010-01-07  109.827375  \n",
       "2010-01-08  110.929466  \n",
       "2010-01-11  109.768026  \n",
       "2010-01-12  110.641218  \n",
       "2010-01-13  110.403846  \n",
       "2010-01-14  112.167189  \n",
       "2010-01-15  111.717877  \n",
       "2010-01-19  113.718593  \n",
       "2010-01-20  110.420805  \n",
       "2010-01-21  109.361104  \n",
       "2010-01-22  106.393943  \n",
       "2010-01-25  106.919556  \n",
       "2010-01-26  106.605883  \n",
       "2010-01-27  107.097585  \n",
       "2010-01-28  104.910362  \n",
       "2010-01-29  103.757407  \n",
       "2010-02-01  105.690300  \n",
       "2010-02-02  106.419374  \n",
       "2010-02-03  106.529587  \n",
       "2010-02-04  104.274541  \n",
       "2010-02-05  104.715374  \n",
       "2010-02-08  103.787178  \n",
       "2010-02-09  104.919744  \n",
       "2010-02-10  104.579122  \n",
       "2010-02-11  105.362555  \n",
       "2010-02-12  105.592471  \n",
       "2010-02-16  106.639883  \n",
       "...                ...  \n",
       "2016-12-07  164.789993  \n",
       "2016-12-08  165.360001  \n",
       "2016-12-09  166.520004  \n",
       "2016-12-12  165.500000  \n",
       "2016-12-13  168.289993  \n",
       "2016-12-14  168.509995  \n",
       "2016-12-15  168.020004  \n",
       "2016-12-16  166.729996  \n",
       "2016-12-19  166.679993  \n",
       "2016-12-20  167.600006  \n",
       "2016-12-21  167.330002  \n",
       "2016-12-22  167.059998  \n",
       "2016-12-23  166.710007  \n",
       "2016-12-27  167.139999  \n",
       "2016-12-28  166.190002  \n",
       "2016-12-29  166.600006  \n",
       "2016-12-30  165.990005  \n",
       "2017-01-03  167.190002  \n",
       "2017-01-04  169.259995  \n",
       "2017-01-05  168.699997  \n",
       "2017-01-06  169.529999  \n",
       "2017-01-09  167.649994  \n",
       "2017-01-10  165.520004  \n",
       "2017-01-11  167.750000  \n",
       "2017-01-12  167.949997  \n",
       "2017-01-13  167.339996  \n",
       "2017-01-17  167.889999  \n",
       "2017-01-18  166.800003  \n",
       "2017-01-19  166.809998  \n",
       "2017-01-20  170.550003  \n",
       "\n",
       "[1775 rows x 6 columns])])"
      ]
     },
     "execution_count": 176,
     "metadata": {},
     "output_type": "execute_result"
    }
   ],
   "source": [
    "all_data.items()"
   ]
  },
  {
   "cell_type": "code",
   "execution_count": 177,
   "metadata": {},
   "outputs": [
    {
     "data": {
      "text/html": [
       "<div>\n",
       "<table border=\"1\" class=\"dataframe\">\n",
       "  <thead>\n",
       "    <tr style=\"text-align: right;\">\n",
       "      <th></th>\n",
       "      <th>AAPL</th>\n",
       "      <th>GOOG</th>\n",
       "      <th>IBM</th>\n",
       "      <th>MSFT</th>\n",
       "    </tr>\n",
       "    <tr>\n",
       "      <th>Date</th>\n",
       "      <th></th>\n",
       "      <th></th>\n",
       "      <th></th>\n",
       "      <th></th>\n",
       "    </tr>\n",
       "  </thead>\n",
       "  <tbody>\n",
       "    <tr>\n",
       "      <th>2010-01-04</th>\n",
       "      <td>27.847252</td>\n",
       "      <td>313.062468</td>\n",
       "      <td>112.285875</td>\n",
       "      <td>25.710416</td>\n",
       "    </tr>\n",
       "    <tr>\n",
       "      <th>2010-01-05</th>\n",
       "      <td>27.895396</td>\n",
       "      <td>311.683844</td>\n",
       "      <td>110.929466</td>\n",
       "      <td>25.718722</td>\n",
       "    </tr>\n",
       "    <tr>\n",
       "      <th>2010-01-06</th>\n",
       "      <td>27.451683</td>\n",
       "      <td>303.826685</td>\n",
       "      <td>110.208865</td>\n",
       "      <td>25.560888</td>\n",
       "    </tr>\n",
       "    <tr>\n",
       "      <th>2010-01-07</th>\n",
       "      <td>27.400936</td>\n",
       "      <td>296.753749</td>\n",
       "      <td>109.827375</td>\n",
       "      <td>25.295062</td>\n",
       "    </tr>\n",
       "    <tr>\n",
       "      <th>2010-01-08</th>\n",
       "      <td>27.583106</td>\n",
       "      <td>300.709808</td>\n",
       "      <td>110.929466</td>\n",
       "      <td>25.469510</td>\n",
       "    </tr>\n",
       "  </tbody>\n",
       "</table>\n",
       "</div>"
      ],
      "text/plain": [
       "                 AAPL        GOOG         IBM       MSFT\n",
       "Date                                                    \n",
       "2010-01-04  27.847252  313.062468  112.285875  25.710416\n",
       "2010-01-05  27.895396  311.683844  110.929466  25.718722\n",
       "2010-01-06  27.451683  303.826685  110.208865  25.560888\n",
       "2010-01-07  27.400936  296.753749  109.827375  25.295062\n",
       "2010-01-08  27.583106  300.709808  110.929466  25.469510"
      ]
     },
     "execution_count": 177,
     "metadata": {},
     "output_type": "execute_result"
    }
   ],
   "source": [
    "price = DataFrame({tic: data['Adj Close']\n",
    "                   for tic, data in all_data.items()})\n",
    "price.head()"
   ]
  },
  {
   "cell_type": "code",
   "execution_count": 178,
   "metadata": {},
   "outputs": [
    {
     "data": {
      "text/html": [
       "<div>\n",
       "<table border=\"1\" class=\"dataframe\">\n",
       "  <thead>\n",
       "    <tr style=\"text-align: right;\">\n",
       "      <th></th>\n",
       "      <th>AAPL</th>\n",
       "      <th>GOOG</th>\n",
       "      <th>IBM</th>\n",
       "      <th>MSFT</th>\n",
       "    </tr>\n",
       "    <tr>\n",
       "      <th>Date</th>\n",
       "      <th></th>\n",
       "      <th></th>\n",
       "      <th></th>\n",
       "      <th></th>\n",
       "    </tr>\n",
       "  </thead>\n",
       "  <tbody>\n",
       "    <tr>\n",
       "      <th>2010-01-04</th>\n",
       "      <td>123432400</td>\n",
       "      <td>3927000</td>\n",
       "      <td>6155300</td>\n",
       "      <td>38409100</td>\n",
       "    </tr>\n",
       "    <tr>\n",
       "      <th>2010-01-05</th>\n",
       "      <td>150476200</td>\n",
       "      <td>6031900</td>\n",
       "      <td>6841400</td>\n",
       "      <td>49749600</td>\n",
       "    </tr>\n",
       "    <tr>\n",
       "      <th>2010-01-06</th>\n",
       "      <td>138040000</td>\n",
       "      <td>7987100</td>\n",
       "      <td>5605300</td>\n",
       "      <td>58182400</td>\n",
       "    </tr>\n",
       "    <tr>\n",
       "      <th>2010-01-07</th>\n",
       "      <td>119282800</td>\n",
       "      <td>12876600</td>\n",
       "      <td>5840600</td>\n",
       "      <td>50559700</td>\n",
       "    </tr>\n",
       "    <tr>\n",
       "      <th>2010-01-08</th>\n",
       "      <td>111902700</td>\n",
       "      <td>9483900</td>\n",
       "      <td>4197200</td>\n",
       "      <td>51197400</td>\n",
       "    </tr>\n",
       "    <tr>\n",
       "      <th>2010-01-11</th>\n",
       "      <td>115557400</td>\n",
       "      <td>14479800</td>\n",
       "      <td>5730400</td>\n",
       "      <td>68754700</td>\n",
       "    </tr>\n",
       "    <tr>\n",
       "      <th>2010-01-12</th>\n",
       "      <td>148614900</td>\n",
       "      <td>9742900</td>\n",
       "      <td>8081500</td>\n",
       "      <td>65912100</td>\n",
       "    </tr>\n",
       "    <tr>\n",
       "      <th>2010-01-13</th>\n",
       "      <td>151473000</td>\n",
       "      <td>13041800</td>\n",
       "      <td>6455400</td>\n",
       "      <td>51863500</td>\n",
       "    </tr>\n",
       "    <tr>\n",
       "      <th>2010-01-14</th>\n",
       "      <td>108223500</td>\n",
       "      <td>8511900</td>\n",
       "      <td>7111800</td>\n",
       "      <td>63228100</td>\n",
       "    </tr>\n",
       "    <tr>\n",
       "      <th>2010-01-15</th>\n",
       "      <td>148516900</td>\n",
       "      <td>10909600</td>\n",
       "      <td>8494400</td>\n",
       "      <td>79913200</td>\n",
       "    </tr>\n",
       "  </tbody>\n",
       "</table>\n",
       "</div>"
      ],
      "text/plain": [
       "                 AAPL      GOOG      IBM      MSFT\n",
       "Date                                              \n",
       "2010-01-04  123432400   3927000  6155300  38409100\n",
       "2010-01-05  150476200   6031900  6841400  49749600\n",
       "2010-01-06  138040000   7987100  5605300  58182400\n",
       "2010-01-07  119282800  12876600  5840600  50559700\n",
       "2010-01-08  111902700   9483900  4197200  51197400\n",
       "2010-01-11  115557400  14479800  5730400  68754700\n",
       "2010-01-12  148614900   9742900  8081500  65912100\n",
       "2010-01-13  151473000  13041800  6455400  51863500\n",
       "2010-01-14  108223500   8511900  7111800  63228100\n",
       "2010-01-15  148516900  10909600  8494400  79913200"
      ]
     },
     "execution_count": 178,
     "metadata": {},
     "output_type": "execute_result"
    }
   ],
   "source": [
    "volume = DataFrame({tic: data['Volume']\n",
    "                    for tic, data in all_data.items()})\n",
    "volume.head(10)"
   ]
  },
  {
   "cell_type": "code",
   "execution_count": null,
   "metadata": {
    "collapsed": true
   },
   "outputs": [],
   "source": []
  },
  {
   "cell_type": "code",
   "execution_count": 179,
   "metadata": {},
   "outputs": [
    {
     "data": {
      "text/html": [
       "<div>\n",
       "<table border=\"1\" class=\"dataframe\">\n",
       "  <thead>\n",
       "    <tr style=\"text-align: right;\">\n",
       "      <th></th>\n",
       "      <th>AAPL</th>\n",
       "      <th>GOOG</th>\n",
       "      <th>IBM</th>\n",
       "      <th>MSFT</th>\n",
       "    </tr>\n",
       "    <tr>\n",
       "      <th>Date</th>\n",
       "      <th></th>\n",
       "      <th></th>\n",
       "      <th></th>\n",
       "      <th></th>\n",
       "    </tr>\n",
       "  </thead>\n",
       "  <tbody>\n",
       "    <tr>\n",
       "      <th>2017-01-13</th>\n",
       "      <td>-0.001761</td>\n",
       "      <td>0.001885</td>\n",
       "      <td>-0.003632</td>\n",
       "      <td>0.001437</td>\n",
       "    </tr>\n",
       "    <tr>\n",
       "      <th>2017-01-17</th>\n",
       "      <td>0.008065</td>\n",
       "      <td>-0.004048</td>\n",
       "      <td>0.003287</td>\n",
       "      <td>-0.002711</td>\n",
       "    </tr>\n",
       "    <tr>\n",
       "      <th>2017-01-18</th>\n",
       "      <td>-0.000083</td>\n",
       "      <td>0.001815</td>\n",
       "      <td>-0.006492</td>\n",
       "      <td>-0.000480</td>\n",
       "    </tr>\n",
       "    <tr>\n",
       "      <th>2017-01-19</th>\n",
       "      <td>-0.001750</td>\n",
       "      <td>-0.004832</td>\n",
       "      <td>0.000060</td>\n",
       "      <td>-0.003200</td>\n",
       "    </tr>\n",
       "    <tr>\n",
       "      <th>2017-01-20</th>\n",
       "      <td>0.001837</td>\n",
       "      <td>0.003547</td>\n",
       "      <td>0.022421</td>\n",
       "      <td>0.007063</td>\n",
       "    </tr>\n",
       "  </tbody>\n",
       "</table>\n",
       "</div>"
      ],
      "text/plain": [
       "                AAPL      GOOG       IBM      MSFT\n",
       "Date                                              \n",
       "2017-01-13 -0.001761  0.001885 -0.003632  0.001437\n",
       "2017-01-17  0.008065 -0.004048  0.003287 -0.002711\n",
       "2017-01-18 -0.000083  0.001815 -0.006492 -0.000480\n",
       "2017-01-19 -0.001750 -0.004832  0.000060 -0.003200\n",
       "2017-01-20  0.001837  0.003547  0.022421  0.007063"
      ]
     },
     "execution_count": 179,
     "metadata": {},
     "output_type": "execute_result"
    }
   ],
   "source": [
    "returns = price.pct_change()\n",
    "returns.tail()"
   ]
  },
  {
   "cell_type": "code",
   "execution_count": 180,
   "metadata": {},
   "outputs": [
    {
     "data": {
      "text/plain": [
       "0.49666928615750294"
      ]
     },
     "execution_count": 180,
     "metadata": {},
     "output_type": "execute_result"
    }
   ],
   "source": [
    "returns.MSFT.corr(returns.IBM)"
   ]
  },
  {
   "cell_type": "code",
   "execution_count": 181,
   "metadata": {},
   "outputs": [
    {
     "data": {
      "text/plain": [
       "8.6844663692326788e-05"
      ]
     },
     "execution_count": 181,
     "metadata": {},
     "output_type": "execute_result"
    }
   ],
   "source": [
    "returns.MSFT.cov(returns.IBM)"
   ]
  },
  {
   "cell_type": "code",
   "execution_count": 182,
   "metadata": {},
   "outputs": [
    {
     "data": {
      "text/html": [
       "<div>\n",
       "<table border=\"1\" class=\"dataframe\">\n",
       "  <thead>\n",
       "    <tr style=\"text-align: right;\">\n",
       "      <th></th>\n",
       "      <th>AAPL</th>\n",
       "      <th>GOOG</th>\n",
       "      <th>IBM</th>\n",
       "      <th>MSFT</th>\n",
       "    </tr>\n",
       "  </thead>\n",
       "  <tbody>\n",
       "    <tr>\n",
       "      <th>AAPL</th>\n",
       "      <td>1.000000</td>\n",
       "      <td>0.411460</td>\n",
       "      <td>0.383604</td>\n",
       "      <td>0.393440</td>\n",
       "    </tr>\n",
       "    <tr>\n",
       "      <th>GOOG</th>\n",
       "      <td>0.411460</td>\n",
       "      <td>1.000000</td>\n",
       "      <td>0.402426</td>\n",
       "      <td>0.472072</td>\n",
       "    </tr>\n",
       "    <tr>\n",
       "      <th>IBM</th>\n",
       "      <td>0.383604</td>\n",
       "      <td>0.402426</td>\n",
       "      <td>1.000000</td>\n",
       "      <td>0.496669</td>\n",
       "    </tr>\n",
       "    <tr>\n",
       "      <th>MSFT</th>\n",
       "      <td>0.393440</td>\n",
       "      <td>0.472072</td>\n",
       "      <td>0.496669</td>\n",
       "      <td>1.000000</td>\n",
       "    </tr>\n",
       "  </tbody>\n",
       "</table>\n",
       "</div>"
      ],
      "text/plain": [
       "          AAPL      GOOG       IBM      MSFT\n",
       "AAPL  1.000000  0.411460  0.383604  0.393440\n",
       "GOOG  0.411460  1.000000  0.402426  0.472072\n",
       "IBM   0.383604  0.402426  1.000000  0.496669\n",
       "MSFT  0.393440  0.472072  0.496669  1.000000"
      ]
     },
     "execution_count": 182,
     "metadata": {},
     "output_type": "execute_result"
    }
   ],
   "source": [
    "returns.corr()"
   ]
  },
  {
   "cell_type": "code",
   "execution_count": 183,
   "metadata": {},
   "outputs": [
    {
     "data": {
      "text/html": [
       "<div>\n",
       "<table border=\"1\" class=\"dataframe\">\n",
       "  <thead>\n",
       "    <tr style=\"text-align: right;\">\n",
       "      <th></th>\n",
       "      <th>AAPL</th>\n",
       "      <th>GOOG</th>\n",
       "      <th>IBM</th>\n",
       "      <th>MSFT</th>\n",
       "    </tr>\n",
       "  </thead>\n",
       "  <tbody>\n",
       "    <tr>\n",
       "      <th>AAPL</th>\n",
       "      <td>0.000271</td>\n",
       "      <td>0.000106</td>\n",
       "      <td>0.000076</td>\n",
       "      <td>0.000094</td>\n",
       "    </tr>\n",
       "    <tr>\n",
       "      <th>GOOG</th>\n",
       "      <td>0.000106</td>\n",
       "      <td>0.000246</td>\n",
       "      <td>0.000076</td>\n",
       "      <td>0.000108</td>\n",
       "    </tr>\n",
       "    <tr>\n",
       "      <th>IBM</th>\n",
       "      <td>0.000076</td>\n",
       "      <td>0.000076</td>\n",
       "      <td>0.000145</td>\n",
       "      <td>0.000087</td>\n",
       "    </tr>\n",
       "    <tr>\n",
       "      <th>MSFT</th>\n",
       "      <td>0.000094</td>\n",
       "      <td>0.000108</td>\n",
       "      <td>0.000087</td>\n",
       "      <td>0.000211</td>\n",
       "    </tr>\n",
       "  </tbody>\n",
       "</table>\n",
       "</div>"
      ],
      "text/plain": [
       "          AAPL      GOOG       IBM      MSFT\n",
       "AAPL  0.000271  0.000106  0.000076  0.000094\n",
       "GOOG  0.000106  0.000246  0.000076  0.000108\n",
       "IBM   0.000076  0.000076  0.000145  0.000087\n",
       "MSFT  0.000094  0.000108  0.000087  0.000211"
      ]
     },
     "execution_count": 183,
     "metadata": {},
     "output_type": "execute_result"
    }
   ],
   "source": [
    "returns.cov()"
   ]
  },
  {
   "cell_type": "code",
   "execution_count": 184,
   "metadata": {},
   "outputs": [
    {
     "data": {
      "text/plain": [
       "AAPL    0.383604\n",
       "GOOG    0.402426\n",
       "IBM     1.000000\n",
       "MSFT    0.496669\n",
       "dtype: float64"
      ]
     },
     "execution_count": 184,
     "metadata": {},
     "output_type": "execute_result"
    }
   ],
   "source": [
    "returns.corrwith(returns.IBM)"
   ]
  },
  {
   "cell_type": "code",
   "execution_count": 185,
   "metadata": {},
   "outputs": [
    {
     "data": {
      "text/plain": [
       "AAPL   -0.073705\n",
       "GOOG   -0.008282\n",
       "IBM    -0.196410\n",
       "MSFT   -0.091458\n",
       "dtype: float64"
      ]
     },
     "execution_count": 185,
     "metadata": {},
     "output_type": "execute_result"
    }
   ],
   "source": [
    "returns.corrwith(volume)"
   ]
  },
  {
   "cell_type": "markdown",
   "metadata": {},
   "source": [
    "### <font color='brown'> Unique values, value counts, and membership </font>\n",
    "> 유일 값, 값 세기, 멤버십"
   ]
  },
  {
   "cell_type": "code",
   "execution_count": 186,
   "metadata": {
    "collapsed": true
   },
   "outputs": [],
   "source": [
    "obj = Series(['c', 'a', 'd', 'a', 'a', 'b', 'b', 'c', 'c'])"
   ]
  },
  {
   "cell_type": "code",
   "execution_count": 187,
   "metadata": {},
   "outputs": [
    {
     "data": {
      "text/plain": [
       "array(['c', 'a', 'd', 'b'], dtype=object)"
      ]
     },
     "execution_count": 187,
     "metadata": {},
     "output_type": "execute_result"
    }
   ],
   "source": [
    "uniques = obj.unique()\n",
    "uniques"
   ]
  },
  {
   "cell_type": "code",
   "execution_count": 188,
   "metadata": {},
   "outputs": [
    {
     "data": {
      "text/plain": [
       "c    3\n",
       "a    3\n",
       "b    2\n",
       "d    1\n",
       "dtype: int64"
      ]
     },
     "execution_count": 188,
     "metadata": {},
     "output_type": "execute_result"
    }
   ],
   "source": [
    "obj.value_counts()"
   ]
  },
  {
   "cell_type": "code",
   "execution_count": 189,
   "metadata": {},
   "outputs": [
    {
     "data": {
      "text/plain": [
       "b    2\n",
       "a    3\n",
       "c    3\n",
       "d    1\n",
       "dtype: int64"
      ]
     },
     "execution_count": 189,
     "metadata": {},
     "output_type": "execute_result"
    }
   ],
   "source": [
    "pd.value_counts(obj.values, sort=False)"
   ]
  },
  {
   "cell_type": "code",
   "execution_count": 190,
   "metadata": {},
   "outputs": [
    {
     "data": {
      "text/plain": [
       "c    3\n",
       "a    3\n",
       "b    2\n",
       "d    1\n",
       "dtype: int64"
      ]
     },
     "execution_count": 190,
     "metadata": {},
     "output_type": "execute_result"
    }
   ],
   "source": [
    "pd.value_counts(obj.values, sort=True)"
   ]
  },
  {
   "cell_type": "code",
   "execution_count": 191,
   "metadata": {},
   "outputs": [
    {
     "data": {
      "text/plain": [
       "0     True\n",
       "1    False\n",
       "2    False\n",
       "3    False\n",
       "4    False\n",
       "5     True\n",
       "6     True\n",
       "7     True\n",
       "8     True\n",
       "dtype: bool"
      ]
     },
     "execution_count": 191,
     "metadata": {},
     "output_type": "execute_result"
    }
   ],
   "source": [
    "mask = obj.isin(['b', 'c'])\n",
    "mask"
   ]
  },
  {
   "cell_type": "code",
   "execution_count": 192,
   "metadata": {},
   "outputs": [
    {
     "data": {
      "text/plain": [
       "0    c\n",
       "5    b\n",
       "6    b\n",
       "7    c\n",
       "8    c\n",
       "dtype: object"
      ]
     },
     "execution_count": 192,
     "metadata": {},
     "output_type": "execute_result"
    }
   ],
   "source": [
    "obj[mask]"
   ]
  },
  {
   "cell_type": "code",
   "execution_count": 193,
   "metadata": {},
   "outputs": [
    {
     "data": {
      "text/html": [
       "<div>\n",
       "<table border=\"1\" class=\"dataframe\">\n",
       "  <thead>\n",
       "    <tr style=\"text-align: right;\">\n",
       "      <th></th>\n",
       "      <th>Qu1</th>\n",
       "      <th>Qu2</th>\n",
       "      <th>Qu3</th>\n",
       "    </tr>\n",
       "  </thead>\n",
       "  <tbody>\n",
       "    <tr>\n",
       "      <th>0</th>\n",
       "      <td>1</td>\n",
       "      <td>2</td>\n",
       "      <td>1</td>\n",
       "    </tr>\n",
       "    <tr>\n",
       "      <th>1</th>\n",
       "      <td>3</td>\n",
       "      <td>3</td>\n",
       "      <td>5</td>\n",
       "    </tr>\n",
       "    <tr>\n",
       "      <th>2</th>\n",
       "      <td>4</td>\n",
       "      <td>1</td>\n",
       "      <td>2</td>\n",
       "    </tr>\n",
       "    <tr>\n",
       "      <th>3</th>\n",
       "      <td>3</td>\n",
       "      <td>2</td>\n",
       "      <td>4</td>\n",
       "    </tr>\n",
       "    <tr>\n",
       "      <th>4</th>\n",
       "      <td>4</td>\n",
       "      <td>3</td>\n",
       "      <td>4</td>\n",
       "    </tr>\n",
       "  </tbody>\n",
       "</table>\n",
       "</div>"
      ],
      "text/plain": [
       "   Qu1  Qu2  Qu3\n",
       "0    1    2    1\n",
       "1    3    3    5\n",
       "2    4    1    2\n",
       "3    3    2    4\n",
       "4    4    3    4"
      ]
     },
     "execution_count": 193,
     "metadata": {},
     "output_type": "execute_result"
    }
   ],
   "source": [
    "data = DataFrame({'Qu1': [1, 3, 4, 3, 4],\n",
    "                  'Qu2': [2, 3, 1, 2, 3],\n",
    "                  'Qu3': [1, 5, 2, 4, 4]})\n",
    "data"
   ]
  },
  {
   "cell_type": "code",
   "execution_count": 194,
   "metadata": {},
   "outputs": [
    {
     "data": {
      "text/html": [
       "<div>\n",
       "<table border=\"1\" class=\"dataframe\">\n",
       "  <thead>\n",
       "    <tr style=\"text-align: right;\">\n",
       "      <th></th>\n",
       "      <th>Qu1</th>\n",
       "      <th>Qu2</th>\n",
       "      <th>Qu3</th>\n",
       "    </tr>\n",
       "  </thead>\n",
       "  <tbody>\n",
       "    <tr>\n",
       "      <th>1</th>\n",
       "      <td>1.0</td>\n",
       "      <td>1.0</td>\n",
       "      <td>1.0</td>\n",
       "    </tr>\n",
       "    <tr>\n",
       "      <th>2</th>\n",
       "      <td>0.0</td>\n",
       "      <td>2.0</td>\n",
       "      <td>1.0</td>\n",
       "    </tr>\n",
       "    <tr>\n",
       "      <th>3</th>\n",
       "      <td>2.0</td>\n",
       "      <td>2.0</td>\n",
       "      <td>0.0</td>\n",
       "    </tr>\n",
       "    <tr>\n",
       "      <th>4</th>\n",
       "      <td>2.0</td>\n",
       "      <td>0.0</td>\n",
       "      <td>2.0</td>\n",
       "    </tr>\n",
       "    <tr>\n",
       "      <th>5</th>\n",
       "      <td>0.0</td>\n",
       "      <td>0.0</td>\n",
       "      <td>1.0</td>\n",
       "    </tr>\n",
       "  </tbody>\n",
       "</table>\n",
       "</div>"
      ],
      "text/plain": [
       "   Qu1  Qu2  Qu3\n",
       "1  1.0  1.0  1.0\n",
       "2  0.0  2.0  1.0\n",
       "3  2.0  2.0  0.0\n",
       "4  2.0  0.0  2.0\n",
       "5  0.0  0.0  1.0"
      ]
     },
     "execution_count": 194,
     "metadata": {},
     "output_type": "execute_result"
    }
   ],
   "source": [
    "# DataFrame.apply() \n",
    "result = data.apply(pd.value_counts).fillna(0)\n",
    "result"
   ]
  },
  {
   "cell_type": "code",
   "execution_count": 195,
   "metadata": {},
   "outputs": [
    {
     "data": {
      "image/png": "[encoded data removed]",
      "text/plain": [
       "<IPython.core.display.Image object>"
      ]
     },
     "execution_count": 195,
     "metadata": {
      "image/png": {
       "width": 600
      }
     },
     "output_type": "execute_result"
    }
   ],
   "source": [
    "# 유일값, 값세기, 버리기 메소드\n",
    "reference(Table5_11, 600)"
   ]
  },
  {
   "cell_type": "markdown",
   "metadata": {
    "collapsed": true
   },
   "source": [
    "<hr>\n",
    "<marquee><font size=3 color='brown'>The BigpyCraft find the information to design valuable society with Technology & Craft.</font></marquee>\n",
    "<div align='right'><font size=2 color='gray'> &lt; The End &gt; </font></div>"
   ]
  }
 ],
 "metadata": {
  "anaconda-cloud": {},
  "kernelspec": {
   "display_name": "Python 3 (ipykernel)",
   "language": "python",
   "name": "python3"
  },
  "language_info": {
   "codemirror_mode": {
    "name": "ipython",
    "version": 3
   },
   "file_extension": ".py",
   "mimetype": "text/x-python",
   "name": "python",
   "nbconvert_exporter": "python",
   "pygments_lexer": "ipython3",
   "version": "3.9.12"
  }
 },
 "nbformat": 4,
 "nbformat_minor": 1
}
