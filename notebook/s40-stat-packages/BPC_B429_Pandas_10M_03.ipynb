{
 "cells": [
  {
   "cell_type": "markdown",
   "metadata": {},
   "source": [
    "# Industry 4.0 의 중심, BigData"
   ]
  },
  {
   "cell_type": "markdown",
   "metadata": {},
   "source": [
    "<div align='right'><font size=2 color='gray'>Data Processing Based Python @ <font color='blue'><a href='https://www.facebook.com/jskim.kr'>FB / jskim.kr</a></font>, [김진수](bigpycraft@gmail.com)</font></div>\n",
    "<hr>"
   ]
  },
  {
   "cell_type": "markdown",
   "metadata": {},
   "source": [
    "# Pandas Advanced "
   ]
  },
  {
   "cell_type": "markdown",
   "metadata": {},
   "source": [
    "> ### INDEX\n",
    "> - Plotting (그래프)\n",
    "> - Getting Data In / Out (데이터 입 / 출력)\n",
    "> - Gotchas (잡았다!)"
   ]
  },
  {
   "cell_type": "code",
   "execution_count": 1,
   "metadata": {},
   "outputs": [],
   "source": [
    "import numpy as np\n",
    "import pandas as pd\n",
    "import matplotlib.pyplot as plt"
   ]
  },
  {
   "cell_type": "markdown",
   "metadata": {},
   "source": [
    "## 11. Plotting (그래프)"
   ]
  },
  {
   "cell_type": "markdown",
   "metadata": {},
   "source": [
    "> - 데이터프레임에서 plot() 메소드는 라벨이 존재하는 모든 열을 그릴 때 편리합니다."
   ]
  },
  {
   "cell_type": "code",
   "execution_count": 2,
   "metadata": {
    "scrolled": true
   },
   "outputs": [
    {
     "data": {
      "text/plain": [
       "2020-01-01    0.089377\n",
       "2020-01-02   -0.967446\n",
       "2020-01-03   -0.022171\n",
       "2020-01-04    0.325075\n",
       "2020-01-05   -0.439053\n",
       "                ...   \n",
       "2022-09-22    2.097149\n",
       "2022-09-23   -1.982240\n",
       "2022-09-24   -2.147457\n",
       "2022-09-25    0.398986\n",
       "2022-09-26    0.471984\n",
       "Freq: D, Length: 1000, dtype: float64"
      ]
     },
     "execution_count": 2,
     "metadata": {},
     "output_type": "execute_result"
    }
   ],
   "source": [
    "ts = pd.Series(np.random.randn(1000), index=pd.date_range('1/1/2020', periods=1000))\n",
    "ts"
   ]
  },
  {
   "cell_type": "code",
   "execution_count": 3,
   "metadata": {},
   "outputs": [],
   "source": [
    "# ts.info()"
   ]
  },
  {
   "cell_type": "code",
   "execution_count": 4,
   "metadata": {},
   "outputs": [
    {
     "data": {
      "text/plain": [
       "2020-01-01    0.089377\n",
       "2020-01-02   -0.967446\n",
       "2020-01-03   -0.022171\n",
       "2020-01-04    0.325075\n",
       "2020-01-05   -0.439053\n",
       "Freq: D, dtype: float64"
      ]
     },
     "execution_count": 4,
     "metadata": {},
     "output_type": "execute_result"
    }
   ],
   "source": [
    "ts.head()"
   ]
  },
  {
   "cell_type": "code",
   "execution_count": 5,
   "metadata": {},
   "outputs": [
    {
     "data": {
      "text/plain": [
       "2020-01-01     0.089377\n",
       "2020-01-02    -0.878069\n",
       "2020-01-03    -0.900240\n",
       "2020-01-04    -0.575165\n",
       "2020-01-05    -1.014217\n",
       "                ...    \n",
       "2022-09-22   -40.845220\n",
       "2022-09-23   -42.827461\n",
       "2022-09-24   -44.974917\n",
       "2022-09-25   -44.575932\n",
       "2022-09-26   -44.103948\n",
       "Freq: D, Length: 1000, dtype: float64"
      ]
     },
     "execution_count": 5,
     "metadata": {},
     "output_type": "execute_result"
    }
   ],
   "source": [
    "ts = ts.cumsum()\n",
    "ts"
   ]
  },
  {
   "cell_type": "code",
   "execution_count": 6,
   "metadata": {},
   "outputs": [
    {
     "data": {
      "text/plain": [
       "<AxesSubplot:>"
      ]
     },
     "execution_count": 6,
     "metadata": {},
     "output_type": "execute_result"
    },
    {
     "data": {
      "image/png": "[encoded data removed]",
      "text/plain": [
       "<Figure size 432x288 with 1 Axes>"
      ]
     },
     "metadata": {
      "needs_background": "light"
     },
     "output_type": "display_data"
    }
   ],
   "source": [
    "ts.plot()"
   ]
  },
  {
   "cell_type": "code",
   "execution_count": 7,
   "metadata": {},
   "outputs": [
    {
     "data": {
      "text/html": [
       "<div>\n",
       "<style scoped>\n",
       "    .dataframe tbody tr th:only-of-type {\n",
       "        vertical-align: middle;\n",
       "    }\n",
       "\n",
       "    .dataframe tbody tr th {\n",
       "        vertical-align: top;\n",
       "    }\n",
       "\n",
       "    .dataframe thead th {\n",
       "        text-align: right;\n",
       "    }\n",
       "</style>\n",
       "<table border=\"1\" class=\"dataframe\">\n",
       "  <thead>\n",
       "    <tr style=\"text-align: right;\">\n",
       "      <th></th>\n",
       "      <th>A</th>\n",
       "      <th>B</th>\n",
       "      <th>C</th>\n",
       "      <th>D</th>\n",
       "    </tr>\n",
       "  </thead>\n",
       "  <tbody>\n",
       "    <tr>\n",
       "      <th>2020-01-01</th>\n",
       "      <td>0.899481</td>\n",
       "      <td>1.713212</td>\n",
       "      <td>0.247332</td>\n",
       "      <td>-0.071985</td>\n",
       "    </tr>\n",
       "    <tr>\n",
       "      <th>2020-01-02</th>\n",
       "      <td>-0.524289</td>\n",
       "      <td>0.811343</td>\n",
       "      <td>-0.674466</td>\n",
       "      <td>0.712028</td>\n",
       "    </tr>\n",
       "    <tr>\n",
       "      <th>2020-01-03</th>\n",
       "      <td>1.306596</td>\n",
       "      <td>-0.672430</td>\n",
       "      <td>0.858209</td>\n",
       "      <td>1.794761</td>\n",
       "    </tr>\n",
       "    <tr>\n",
       "      <th>2020-01-04</th>\n",
       "      <td>1.131486</td>\n",
       "      <td>0.900494</td>\n",
       "      <td>0.957943</td>\n",
       "      <td>-0.728330</td>\n",
       "    </tr>\n",
       "    <tr>\n",
       "      <th>2020-01-05</th>\n",
       "      <td>0.097470</td>\n",
       "      <td>1.304631</td>\n",
       "      <td>0.837454</td>\n",
       "      <td>0.072701</td>\n",
       "    </tr>\n",
       "    <tr>\n",
       "      <th>...</th>\n",
       "      <td>...</td>\n",
       "      <td>...</td>\n",
       "      <td>...</td>\n",
       "      <td>...</td>\n",
       "    </tr>\n",
       "    <tr>\n",
       "      <th>2022-09-22</th>\n",
       "      <td>0.114409</td>\n",
       "      <td>0.713974</td>\n",
       "      <td>-0.841870</td>\n",
       "      <td>-0.851505</td>\n",
       "    </tr>\n",
       "    <tr>\n",
       "      <th>2022-09-23</th>\n",
       "      <td>-0.236201</td>\n",
       "      <td>1.024395</td>\n",
       "      <td>1.002989</td>\n",
       "      <td>0.915324</td>\n",
       "    </tr>\n",
       "    <tr>\n",
       "      <th>2022-09-24</th>\n",
       "      <td>-1.924957</td>\n",
       "      <td>-0.133886</td>\n",
       "      <td>-1.314723</td>\n",
       "      <td>-0.735635</td>\n",
       "    </tr>\n",
       "    <tr>\n",
       "      <th>2022-09-25</th>\n",
       "      <td>-0.026358</td>\n",
       "      <td>-0.214540</td>\n",
       "      <td>-0.353136</td>\n",
       "      <td>-0.209661</td>\n",
       "    </tr>\n",
       "    <tr>\n",
       "      <th>2022-09-26</th>\n",
       "      <td>0.453777</td>\n",
       "      <td>-1.448477</td>\n",
       "      <td>-0.348777</td>\n",
       "      <td>-0.776757</td>\n",
       "    </tr>\n",
       "  </tbody>\n",
       "</table>\n",
       "<p>1000 rows × 4 columns</p>\n",
       "</div>"
      ],
      "text/plain": [
       "                   A         B         C         D\n",
       "2020-01-01  0.899481  1.713212  0.247332 -0.071985\n",
       "2020-01-02 -0.524289  0.811343 -0.674466  0.712028\n",
       "2020-01-03  1.306596 -0.672430  0.858209  1.794761\n",
       "2020-01-04  1.131486  0.900494  0.957943 -0.728330\n",
       "2020-01-05  0.097470  1.304631  0.837454  0.072701\n",
       "...              ...       ...       ...       ...\n",
       "2022-09-22  0.114409  0.713974 -0.841870 -0.851505\n",
       "2022-09-23 -0.236201  1.024395  1.002989  0.915324\n",
       "2022-09-24 -1.924957 -0.133886 -1.314723 -0.735635\n",
       "2022-09-25 -0.026358 -0.214540 -0.353136 -0.209661\n",
       "2022-09-26  0.453777 -1.448477 -0.348777 -0.776757\n",
       "\n",
       "[1000 rows x 4 columns]"
      ]
     },
     "execution_count": 7,
     "metadata": {},
     "output_type": "execute_result"
    }
   ],
   "source": [
    "df = pd.DataFrame(np.random.randn(1000, 4), index=ts.index,\n",
    "                  columns=['A', 'B', 'C', 'D']) \n",
    "df"
   ]
  },
  {
   "cell_type": "code",
   "execution_count": 8,
   "metadata": {},
   "outputs": [
    {
     "data": {
      "text/html": [
       "<div>\n",
       "<style scoped>\n",
       "    .dataframe tbody tr th:only-of-type {\n",
       "        vertical-align: middle;\n",
       "    }\n",
       "\n",
       "    .dataframe tbody tr th {\n",
       "        vertical-align: top;\n",
       "    }\n",
       "\n",
       "    .dataframe thead th {\n",
       "        text-align: right;\n",
       "    }\n",
       "</style>\n",
       "<table border=\"1\" class=\"dataframe\">\n",
       "  <thead>\n",
       "    <tr style=\"text-align: right;\">\n",
       "      <th></th>\n",
       "      <th>A</th>\n",
       "      <th>B</th>\n",
       "      <th>C</th>\n",
       "      <th>D</th>\n",
       "    </tr>\n",
       "  </thead>\n",
       "  <tbody>\n",
       "    <tr>\n",
       "      <th>2020-01-01</th>\n",
       "      <td>0.899481</td>\n",
       "      <td>1.713212</td>\n",
       "      <td>0.247332</td>\n",
       "      <td>-0.071985</td>\n",
       "    </tr>\n",
       "    <tr>\n",
       "      <th>2020-01-02</th>\n",
       "      <td>0.375191</td>\n",
       "      <td>2.524555</td>\n",
       "      <td>-0.427134</td>\n",
       "      <td>0.640042</td>\n",
       "    </tr>\n",
       "    <tr>\n",
       "      <th>2020-01-03</th>\n",
       "      <td>1.681787</td>\n",
       "      <td>1.852124</td>\n",
       "      <td>0.431075</td>\n",
       "      <td>2.434803</td>\n",
       "    </tr>\n",
       "    <tr>\n",
       "      <th>2020-01-04</th>\n",
       "      <td>2.813274</td>\n",
       "      <td>2.752618</td>\n",
       "      <td>1.389018</td>\n",
       "      <td>1.706473</td>\n",
       "    </tr>\n",
       "    <tr>\n",
       "      <th>2020-01-05</th>\n",
       "      <td>2.910744</td>\n",
       "      <td>4.057249</td>\n",
       "      <td>2.226472</td>\n",
       "      <td>1.779174</td>\n",
       "    </tr>\n",
       "    <tr>\n",
       "      <th>...</th>\n",
       "      <td>...</td>\n",
       "      <td>...</td>\n",
       "      <td>...</td>\n",
       "      <td>...</td>\n",
       "    </tr>\n",
       "    <tr>\n",
       "      <th>2022-09-22</th>\n",
       "      <td>26.859413</td>\n",
       "      <td>-5.105419</td>\n",
       "      <td>-67.246402</td>\n",
       "      <td>3.601437</td>\n",
       "    </tr>\n",
       "    <tr>\n",
       "      <th>2022-09-23</th>\n",
       "      <td>26.623213</td>\n",
       "      <td>-4.081024</td>\n",
       "      <td>-66.243413</td>\n",
       "      <td>4.516761</td>\n",
       "    </tr>\n",
       "    <tr>\n",
       "      <th>2022-09-24</th>\n",
       "      <td>24.698256</td>\n",
       "      <td>-4.214910</td>\n",
       "      <td>-67.558137</td>\n",
       "      <td>3.781126</td>\n",
       "    </tr>\n",
       "    <tr>\n",
       "      <th>2022-09-25</th>\n",
       "      <td>24.671898</td>\n",
       "      <td>-4.429450</td>\n",
       "      <td>-67.911273</td>\n",
       "      <td>3.571465</td>\n",
       "    </tr>\n",
       "    <tr>\n",
       "      <th>2022-09-26</th>\n",
       "      <td>25.125675</td>\n",
       "      <td>-5.877926</td>\n",
       "      <td>-68.260050</td>\n",
       "      <td>2.794709</td>\n",
       "    </tr>\n",
       "  </tbody>\n",
       "</table>\n",
       "<p>1000 rows × 4 columns</p>\n",
       "</div>"
      ],
      "text/plain": [
       "                    A         B          C         D\n",
       "2020-01-01   0.899481  1.713212   0.247332 -0.071985\n",
       "2020-01-02   0.375191  2.524555  -0.427134  0.640042\n",
       "2020-01-03   1.681787  1.852124   0.431075  2.434803\n",
       "2020-01-04   2.813274  2.752618   1.389018  1.706473\n",
       "2020-01-05   2.910744  4.057249   2.226472  1.779174\n",
       "...               ...       ...        ...       ...\n",
       "2022-09-22  26.859413 -5.105419 -67.246402  3.601437\n",
       "2022-09-23  26.623213 -4.081024 -66.243413  4.516761\n",
       "2022-09-24  24.698256 -4.214910 -67.558137  3.781126\n",
       "2022-09-25  24.671898 -4.429450 -67.911273  3.571465\n",
       "2022-09-26  25.125675 -5.877926 -68.260050  2.794709\n",
       "\n",
       "[1000 rows x 4 columns]"
      ]
     },
     "execution_count": 8,
     "metadata": {},
     "output_type": "execute_result"
    }
   ],
   "source": [
    "df = df.cumsum()\n",
    "df"
   ]
  },
  {
   "cell_type": "code",
   "execution_count": 9,
   "metadata": {},
   "outputs": [
    {
     "data": {
      "text/plain": [
       "<matplotlib.legend.Legend at 0x21abcdb6670>"
      ]
     },
     "execution_count": 9,
     "metadata": {},
     "output_type": "execute_result"
    },
    {
     "data": {
      "text/plain": [
       "<Figure size 432x288 with 0 Axes>"
      ]
     },
     "metadata": {},
     "output_type": "display_data"
    },
    {
     "data": {
      "image/png": "[encoded data removed]",
      "text/plain": [
       "<Figure size 432x288 with 1 Axes>"
      ]
     },
     "metadata": {
      "needs_background": "light"
     },
     "output_type": "display_data"
    }
   ],
   "source": [
    "plt.figure()\n",
    "df.plot()\n",
    "plt.legend(loc='best')"
   ]
  },
  {
   "cell_type": "code",
   "execution_count": null,
   "metadata": {},
   "outputs": [],
   "source": []
  },
  {
   "cell_type": "markdown",
   "metadata": {},
   "source": [
    "## 12. Getting Data In / Out (데이터 입 / 출력)"
   ]
  },
  {
   "cell_type": "markdown",
   "metadata": {},
   "source": [
    "> - 파일 저장\n",
    "> - 파일 로딩"
   ]
  },
  {
   "cell_type": "code",
   "execution_count": 10,
   "metadata": {},
   "outputs": [
    {
     "data": {
      "text/html": [
       "<div>\n",
       "<style scoped>\n",
       "    .dataframe tbody tr th:only-of-type {\n",
       "        vertical-align: middle;\n",
       "    }\n",
       "\n",
       "    .dataframe tbody tr th {\n",
       "        vertical-align: top;\n",
       "    }\n",
       "\n",
       "    .dataframe thead th {\n",
       "        text-align: right;\n",
       "    }\n",
       "</style>\n",
       "<table border=\"1\" class=\"dataframe\">\n",
       "  <thead>\n",
       "    <tr style=\"text-align: right;\">\n",
       "      <th></th>\n",
       "      <th>A</th>\n",
       "      <th>B</th>\n",
       "      <th>C</th>\n",
       "      <th>D</th>\n",
       "    </tr>\n",
       "  </thead>\n",
       "  <tbody>\n",
       "    <tr>\n",
       "      <th>2020-01-01</th>\n",
       "      <td>0.899481</td>\n",
       "      <td>1.713212</td>\n",
       "      <td>0.247332</td>\n",
       "      <td>-0.071985</td>\n",
       "    </tr>\n",
       "    <tr>\n",
       "      <th>2020-01-02</th>\n",
       "      <td>0.375191</td>\n",
       "      <td>2.524555</td>\n",
       "      <td>-0.427134</td>\n",
       "      <td>0.640042</td>\n",
       "    </tr>\n",
       "    <tr>\n",
       "      <th>2020-01-03</th>\n",
       "      <td>1.681787</td>\n",
       "      <td>1.852124</td>\n",
       "      <td>0.431075</td>\n",
       "      <td>2.434803</td>\n",
       "    </tr>\n",
       "    <tr>\n",
       "      <th>2020-01-04</th>\n",
       "      <td>2.813274</td>\n",
       "      <td>2.752618</td>\n",
       "      <td>1.389018</td>\n",
       "      <td>1.706473</td>\n",
       "    </tr>\n",
       "    <tr>\n",
       "      <th>2020-01-05</th>\n",
       "      <td>2.910744</td>\n",
       "      <td>4.057249</td>\n",
       "      <td>2.226472</td>\n",
       "      <td>1.779174</td>\n",
       "    </tr>\n",
       "    <tr>\n",
       "      <th>...</th>\n",
       "      <td>...</td>\n",
       "      <td>...</td>\n",
       "      <td>...</td>\n",
       "      <td>...</td>\n",
       "    </tr>\n",
       "    <tr>\n",
       "      <th>2022-09-22</th>\n",
       "      <td>26.859413</td>\n",
       "      <td>-5.105419</td>\n",
       "      <td>-67.246402</td>\n",
       "      <td>3.601437</td>\n",
       "    </tr>\n",
       "    <tr>\n",
       "      <th>2022-09-23</th>\n",
       "      <td>26.623213</td>\n",
       "      <td>-4.081024</td>\n",
       "      <td>-66.243413</td>\n",
       "      <td>4.516761</td>\n",
       "    </tr>\n",
       "    <tr>\n",
       "      <th>2022-09-24</th>\n",
       "      <td>24.698256</td>\n",
       "      <td>-4.214910</td>\n",
       "      <td>-67.558137</td>\n",
       "      <td>3.781126</td>\n",
       "    </tr>\n",
       "    <tr>\n",
       "      <th>2022-09-25</th>\n",
       "      <td>24.671898</td>\n",
       "      <td>-4.429450</td>\n",
       "      <td>-67.911273</td>\n",
       "      <td>3.571465</td>\n",
       "    </tr>\n",
       "    <tr>\n",
       "      <th>2022-09-26</th>\n",
       "      <td>25.125675</td>\n",
       "      <td>-5.877926</td>\n",
       "      <td>-68.260050</td>\n",
       "      <td>2.794709</td>\n",
       "    </tr>\n",
       "  </tbody>\n",
       "</table>\n",
       "<p>1000 rows × 4 columns</p>\n",
       "</div>"
      ],
      "text/plain": [
       "                    A         B          C         D\n",
       "2020-01-01   0.899481  1.713212   0.247332 -0.071985\n",
       "2020-01-02   0.375191  2.524555  -0.427134  0.640042\n",
       "2020-01-03   1.681787  1.852124   0.431075  2.434803\n",
       "2020-01-04   2.813274  2.752618   1.389018  1.706473\n",
       "2020-01-05   2.910744  4.057249   2.226472  1.779174\n",
       "...               ...       ...        ...       ...\n",
       "2022-09-22  26.859413 -5.105419 -67.246402  3.601437\n",
       "2022-09-23  26.623213 -4.081024 -66.243413  4.516761\n",
       "2022-09-24  24.698256 -4.214910 -67.558137  3.781126\n",
       "2022-09-25  24.671898 -4.429450 -67.911273  3.571465\n",
       "2022-09-26  25.125675 -5.877926 -68.260050  2.794709\n",
       "\n",
       "[1000 rows x 4 columns]"
      ]
     },
     "execution_count": 10,
     "metadata": {},
     "output_type": "execute_result"
    }
   ],
   "source": [
    "df"
   ]
  },
  {
   "cell_type": "code",
   "execution_count": 11,
   "metadata": {},
   "outputs": [
    {
     "name": "stdout",
     "output_type": "stream",
     "text": [
      "<class 'pandas.core.frame.DataFrame'>\n",
      "DatetimeIndex: 1000 entries, 2020-01-01 to 2022-09-26\n",
      "Freq: D\n",
      "Data columns (total 4 columns):\n",
      " #   Column  Non-Null Count  Dtype  \n",
      "---  ------  --------------  -----  \n",
      " 0   A       1000 non-null   float64\n",
      " 1   B       1000 non-null   float64\n",
      " 2   C       1000 non-null   float64\n",
      " 3   D       1000 non-null   float64\n",
      "dtypes: float64(4)\n",
      "memory usage: 39.1 KB\n"
     ]
    }
   ],
   "source": [
    "df.info()"
   ]
  },
  {
   "cell_type": "markdown",
   "metadata": {},
   "source": [
    "- csv 파일"
   ]
  },
  {
   "cell_type": "code",
   "execution_count": 12,
   "metadata": {},
   "outputs": [],
   "source": [
    "df.to_csv('data/foo.csv')"
   ]
  },
  {
   "cell_type": "code",
   "execution_count": 13,
   "metadata": {},
   "outputs": [],
   "source": [
    "csv_df = pd.read_csv('data/foo.csv')"
   ]
  },
  {
   "cell_type": "code",
   "execution_count": 14,
   "metadata": {},
   "outputs": [
    {
     "data": {
      "text/html": [
       "<div>\n",
       "<style scoped>\n",
       "    .dataframe tbody tr th:only-of-type {\n",
       "        vertical-align: middle;\n",
       "    }\n",
       "\n",
       "    .dataframe tbody tr th {\n",
       "        vertical-align: top;\n",
       "    }\n",
       "\n",
       "    .dataframe thead th {\n",
       "        text-align: right;\n",
       "    }\n",
       "</style>\n",
       "<table border=\"1\" class=\"dataframe\">\n",
       "  <thead>\n",
       "    <tr style=\"text-align: right;\">\n",
       "      <th></th>\n",
       "      <th>Unnamed: 0</th>\n",
       "      <th>A</th>\n",
       "      <th>B</th>\n",
       "      <th>C</th>\n",
       "      <th>D</th>\n",
       "    </tr>\n",
       "  </thead>\n",
       "  <tbody>\n",
       "    <tr>\n",
       "      <th>0</th>\n",
       "      <td>2020-01-01</td>\n",
       "      <td>0.899481</td>\n",
       "      <td>1.713212</td>\n",
       "      <td>0.247332</td>\n",
       "      <td>-0.071985</td>\n",
       "    </tr>\n",
       "    <tr>\n",
       "      <th>1</th>\n",
       "      <td>2020-01-02</td>\n",
       "      <td>0.375191</td>\n",
       "      <td>2.524555</td>\n",
       "      <td>-0.427134</td>\n",
       "      <td>0.640042</td>\n",
       "    </tr>\n",
       "    <tr>\n",
       "      <th>2</th>\n",
       "      <td>2020-01-03</td>\n",
       "      <td>1.681787</td>\n",
       "      <td>1.852124</td>\n",
       "      <td>0.431075</td>\n",
       "      <td>2.434803</td>\n",
       "    </tr>\n",
       "    <tr>\n",
       "      <th>3</th>\n",
       "      <td>2020-01-04</td>\n",
       "      <td>2.813274</td>\n",
       "      <td>2.752618</td>\n",
       "      <td>1.389018</td>\n",
       "      <td>1.706473</td>\n",
       "    </tr>\n",
       "    <tr>\n",
       "      <th>4</th>\n",
       "      <td>2020-01-05</td>\n",
       "      <td>2.910744</td>\n",
       "      <td>4.057249</td>\n",
       "      <td>2.226472</td>\n",
       "      <td>1.779174</td>\n",
       "    </tr>\n",
       "    <tr>\n",
       "      <th>5</th>\n",
       "      <td>2020-01-06</td>\n",
       "      <td>2.133347</td>\n",
       "      <td>4.165244</td>\n",
       "      <td>2.162834</td>\n",
       "      <td>3.518348</td>\n",
       "    </tr>\n",
       "    <tr>\n",
       "      <th>6</th>\n",
       "      <td>2020-01-07</td>\n",
       "      <td>2.765427</td>\n",
       "      <td>3.535533</td>\n",
       "      <td>1.110398</td>\n",
       "      <td>3.986160</td>\n",
       "    </tr>\n",
       "    <tr>\n",
       "      <th>7</th>\n",
       "      <td>2020-01-08</td>\n",
       "      <td>2.280444</td>\n",
       "      <td>2.253152</td>\n",
       "      <td>1.440918</td>\n",
       "      <td>2.725568</td>\n",
       "    </tr>\n",
       "    <tr>\n",
       "      <th>8</th>\n",
       "      <td>2020-01-09</td>\n",
       "      <td>1.957516</td>\n",
       "      <td>3.723577</td>\n",
       "      <td>-0.057035</td>\n",
       "      <td>3.020830</td>\n",
       "    </tr>\n",
       "    <tr>\n",
       "      <th>9</th>\n",
       "      <td>2020-01-10</td>\n",
       "      <td>1.924777</td>\n",
       "      <td>4.828461</td>\n",
       "      <td>0.778610</td>\n",
       "      <td>1.848091</td>\n",
       "    </tr>\n",
       "  </tbody>\n",
       "</table>\n",
       "</div>"
      ],
      "text/plain": [
       "   Unnamed: 0         A         B         C         D\n",
       "0  2020-01-01  0.899481  1.713212  0.247332 -0.071985\n",
       "1  2020-01-02  0.375191  2.524555 -0.427134  0.640042\n",
       "2  2020-01-03  1.681787  1.852124  0.431075  2.434803\n",
       "3  2020-01-04  2.813274  2.752618  1.389018  1.706473\n",
       "4  2020-01-05  2.910744  4.057249  2.226472  1.779174\n",
       "5  2020-01-06  2.133347  4.165244  2.162834  3.518348\n",
       "6  2020-01-07  2.765427  3.535533  1.110398  3.986160\n",
       "7  2020-01-08  2.280444  2.253152  1.440918  2.725568\n",
       "8  2020-01-09  1.957516  3.723577 -0.057035  3.020830\n",
       "9  2020-01-10  1.924777  4.828461  0.778610  1.848091"
      ]
     },
     "execution_count": 14,
     "metadata": {},
     "output_type": "execute_result"
    }
   ],
   "source": [
    "csv_df.head(10)"
   ]
  },
  {
   "cell_type": "markdown",
   "metadata": {},
   "source": [
    "- HDF5 파일"
   ]
  },
  {
   "cell_type": "raw",
   "metadata": {},
   "source": [
    "<!--\n",
    "HDF(Hierarchical Data Format)\n",
    "- 이름 그대로 계층적으로 구조화된 다차원 배열 데이터를 저장하기 위하여 HDF Gruop에 의해 만들어진 파일 형식\n",
    "- HDF는 다양한 데이터 타입들을 제공하고 확정성 있고 효울적인 파일 입출, 대용량의 복잡한 데이터를 저장하고 관리하기위하여 설계되었으며 다양한 언어로 된 라이브러리 및 툴들을 제공한다.\n",
    "- 파일 형식으로는 HDF4(이전 표준 형식)와 HDF5(최근 표준 형식)가 사용된\n",
    "-->"
   ]
  },
  {
   "cell_type": "code",
   "execution_count": 15,
   "metadata": {},
   "outputs": [],
   "source": [
    "df.to_hdf('data/foo.h5','df')"
   ]
  },
  {
   "cell_type": "code",
   "execution_count": 16,
   "metadata": {},
   "outputs": [],
   "source": [
    "h5_df = pd.read_hdf('data/foo.h5','df')"
   ]
  },
  {
   "cell_type": "code",
   "execution_count": 17,
   "metadata": {},
   "outputs": [
    {
     "data": {
      "text/html": [
       "<div>\n",
       "<style scoped>\n",
       "    .dataframe tbody tr th:only-of-type {\n",
       "        vertical-align: middle;\n",
       "    }\n",
       "\n",
       "    .dataframe tbody tr th {\n",
       "        vertical-align: top;\n",
       "    }\n",
       "\n",
       "    .dataframe thead th {\n",
       "        text-align: right;\n",
       "    }\n",
       "</style>\n",
       "<table border=\"1\" class=\"dataframe\">\n",
       "  <thead>\n",
       "    <tr style=\"text-align: right;\">\n",
       "      <th></th>\n",
       "      <th>A</th>\n",
       "      <th>B</th>\n",
       "      <th>C</th>\n",
       "      <th>D</th>\n",
       "    </tr>\n",
       "  </thead>\n",
       "  <tbody>\n",
       "    <tr>\n",
       "      <th>2020-01-01</th>\n",
       "      <td>0.899481</td>\n",
       "      <td>1.713212</td>\n",
       "      <td>0.247332</td>\n",
       "      <td>-0.071985</td>\n",
       "    </tr>\n",
       "    <tr>\n",
       "      <th>2020-01-02</th>\n",
       "      <td>0.375191</td>\n",
       "      <td>2.524555</td>\n",
       "      <td>-0.427134</td>\n",
       "      <td>0.640042</td>\n",
       "    </tr>\n",
       "    <tr>\n",
       "      <th>2020-01-03</th>\n",
       "      <td>1.681787</td>\n",
       "      <td>1.852124</td>\n",
       "      <td>0.431075</td>\n",
       "      <td>2.434803</td>\n",
       "    </tr>\n",
       "    <tr>\n",
       "      <th>2020-01-04</th>\n",
       "      <td>2.813274</td>\n",
       "      <td>2.752618</td>\n",
       "      <td>1.389018</td>\n",
       "      <td>1.706473</td>\n",
       "    </tr>\n",
       "    <tr>\n",
       "      <th>2020-01-05</th>\n",
       "      <td>2.910744</td>\n",
       "      <td>4.057249</td>\n",
       "      <td>2.226472</td>\n",
       "      <td>1.779174</td>\n",
       "    </tr>\n",
       "  </tbody>\n",
       "</table>\n",
       "</div>"
      ],
      "text/plain": [
       "                   A         B         C         D\n",
       "2020-01-01  0.899481  1.713212  0.247332 -0.071985\n",
       "2020-01-02  0.375191  2.524555 -0.427134  0.640042\n",
       "2020-01-03  1.681787  1.852124  0.431075  2.434803\n",
       "2020-01-04  2.813274  2.752618  1.389018  1.706473\n",
       "2020-01-05  2.910744  4.057249  2.226472  1.779174"
      ]
     },
     "execution_count": 17,
     "metadata": {},
     "output_type": "execute_result"
    }
   ],
   "source": [
    "h5_df.head()"
   ]
  },
  {
   "cell_type": "markdown",
   "metadata": {},
   "source": [
    "- Excel 파일"
   ]
  },
  {
   "cell_type": "code",
   "execution_count": 18,
   "metadata": {},
   "outputs": [],
   "source": [
    "df.to_excel('data/foo.xlsx', sheet_name='Sheet1')"
   ]
  },
  {
   "cell_type": "code",
   "execution_count": 19,
   "metadata": {},
   "outputs": [],
   "source": [
    "excel_df = pd.read_excel('data/foo.xlsx', 'Sheet1', index_col=None, na_values=['NA'])"
   ]
  },
  {
   "cell_type": "code",
   "execution_count": 20,
   "metadata": {},
   "outputs": [
    {
     "data": {
      "text/html": [
       "<div>\n",
       "<style scoped>\n",
       "    .dataframe tbody tr th:only-of-type {\n",
       "        vertical-align: middle;\n",
       "    }\n",
       "\n",
       "    .dataframe tbody tr th {\n",
       "        vertical-align: top;\n",
       "    }\n",
       "\n",
       "    .dataframe thead th {\n",
       "        text-align: right;\n",
       "    }\n",
       "</style>\n",
       "<table border=\"1\" class=\"dataframe\">\n",
       "  <thead>\n",
       "    <tr style=\"text-align: right;\">\n",
       "      <th></th>\n",
       "      <th>Unnamed: 0</th>\n",
       "      <th>A</th>\n",
       "      <th>B</th>\n",
       "      <th>C</th>\n",
       "      <th>D</th>\n",
       "    </tr>\n",
       "  </thead>\n",
       "  <tbody>\n",
       "    <tr>\n",
       "      <th>0</th>\n",
       "      <td>2020-01-01</td>\n",
       "      <td>0.899481</td>\n",
       "      <td>1.713212</td>\n",
       "      <td>0.247332</td>\n",
       "      <td>-0.071985</td>\n",
       "    </tr>\n",
       "    <tr>\n",
       "      <th>1</th>\n",
       "      <td>2020-01-02</td>\n",
       "      <td>0.375191</td>\n",
       "      <td>2.524555</td>\n",
       "      <td>-0.427134</td>\n",
       "      <td>0.640042</td>\n",
       "    </tr>\n",
       "    <tr>\n",
       "      <th>2</th>\n",
       "      <td>2020-01-03</td>\n",
       "      <td>1.681787</td>\n",
       "      <td>1.852124</td>\n",
       "      <td>0.431075</td>\n",
       "      <td>2.434803</td>\n",
       "    </tr>\n",
       "    <tr>\n",
       "      <th>3</th>\n",
       "      <td>2020-01-04</td>\n",
       "      <td>2.813274</td>\n",
       "      <td>2.752618</td>\n",
       "      <td>1.389018</td>\n",
       "      <td>1.706473</td>\n",
       "    </tr>\n",
       "    <tr>\n",
       "      <th>4</th>\n",
       "      <td>2020-01-05</td>\n",
       "      <td>2.910744</td>\n",
       "      <td>4.057249</td>\n",
       "      <td>2.226472</td>\n",
       "      <td>1.779174</td>\n",
       "    </tr>\n",
       "  </tbody>\n",
       "</table>\n",
       "</div>"
      ],
      "text/plain": [
       "  Unnamed: 0         A         B         C         D\n",
       "0 2020-01-01  0.899481  1.713212  0.247332 -0.071985\n",
       "1 2020-01-02  0.375191  2.524555 -0.427134  0.640042\n",
       "2 2020-01-03  1.681787  1.852124  0.431075  2.434803\n",
       "3 2020-01-04  2.813274  2.752618  1.389018  1.706473\n",
       "4 2020-01-05  2.910744  4.057249  2.226472  1.779174"
      ]
     },
     "execution_count": 20,
     "metadata": {},
     "output_type": "execute_result"
    }
   ],
   "source": [
    "excel_df.head()"
   ]
  },
  {
   "cell_type": "code",
   "execution_count": 21,
   "metadata": {},
   "outputs": [
    {
     "data": {
      "text/html": [
       "<div>\n",
       "<style scoped>\n",
       "    .dataframe tbody tr th:only-of-type {\n",
       "        vertical-align: middle;\n",
       "    }\n",
       "\n",
       "    .dataframe tbody tr th {\n",
       "        vertical-align: top;\n",
       "    }\n",
       "\n",
       "    .dataframe thead th {\n",
       "        text-align: right;\n",
       "    }\n",
       "</style>\n",
       "<table border=\"1\" class=\"dataframe\">\n",
       "  <thead>\n",
       "    <tr style=\"text-align: right;\">\n",
       "      <th></th>\n",
       "      <th>A</th>\n",
       "      <th>B</th>\n",
       "      <th>C</th>\n",
       "      <th>D</th>\n",
       "    </tr>\n",
       "  </thead>\n",
       "  <tbody>\n",
       "    <tr>\n",
       "      <th>2020-01-01</th>\n",
       "      <td>0.899481</td>\n",
       "      <td>1.713212</td>\n",
       "      <td>0.247332</td>\n",
       "      <td>-0.071985</td>\n",
       "    </tr>\n",
       "    <tr>\n",
       "      <th>2020-01-02</th>\n",
       "      <td>0.375191</td>\n",
       "      <td>2.524555</td>\n",
       "      <td>-0.427134</td>\n",
       "      <td>0.640042</td>\n",
       "    </tr>\n",
       "    <tr>\n",
       "      <th>2020-01-03</th>\n",
       "      <td>1.681787</td>\n",
       "      <td>1.852124</td>\n",
       "      <td>0.431075</td>\n",
       "      <td>2.434803</td>\n",
       "    </tr>\n",
       "    <tr>\n",
       "      <th>2020-01-04</th>\n",
       "      <td>2.813274</td>\n",
       "      <td>2.752618</td>\n",
       "      <td>1.389018</td>\n",
       "      <td>1.706473</td>\n",
       "    </tr>\n",
       "    <tr>\n",
       "      <th>2020-01-05</th>\n",
       "      <td>2.910744</td>\n",
       "      <td>4.057249</td>\n",
       "      <td>2.226472</td>\n",
       "      <td>1.779174</td>\n",
       "    </tr>\n",
       "  </tbody>\n",
       "</table>\n",
       "</div>"
      ],
      "text/plain": [
       "                   A         B         C         D\n",
       "2020-01-01  0.899481  1.713212  0.247332 -0.071985\n",
       "2020-01-02  0.375191  2.524555 -0.427134  0.640042\n",
       "2020-01-03  1.681787  1.852124  0.431075  2.434803\n",
       "2020-01-04  2.813274  2.752618  1.389018  1.706473\n",
       "2020-01-05  2.910744  4.057249  2.226472  1.779174"
      ]
     },
     "execution_count": 21,
     "metadata": {},
     "output_type": "execute_result"
    }
   ],
   "source": [
    "df.head()"
   ]
  },
  {
   "cell_type": "markdown",
   "metadata": {},
   "source": [
    "## 13. Gotchas (잡았다!)"
   ]
  },
  {
   "cell_type": "markdown",
   "metadata": {},
   "source": [
    "```python\n",
    "\n",
    "# 연산 수행 시 다음과 같은 예외 상황을 볼 수도 있습니다.\n",
    "if pd.Series([False, True, False]):\n",
    "    print(\"I was true\")\n",
    "   \n",
    "---------------------------------------------------------------------------\n",
    "ValueError                                Traceback (most recent call last)\n",
    "Input In [30], in <cell line: 2>()\n",
    "      1 # 연산 수행 시 다음과 같은 예외 상황을 볼 수도 있습니다.\n",
    "----> 2 if pd.Series([False, True, False]):\n",
    "      3     print(\"I was true\")\n",
    "\n",
    "File C:\\Python\\anaconda3\\lib\\site-packages\\pandas\\core\\generic.py:1527, in NDFrame.__nonzero__(self)\n",
    "   1525 @final\n",
    "   1526 def __nonzero__(self):\n",
    "-> 1527     raise ValueError(\n",
    "   1528         f\"The truth value of a {type(self).__name__} is ambiguous. \"\n",
    "   1529         \"Use a.empty, a.bool(), a.item(), a.any() or a.all().\"\n",
    "   1530     )\n",
    "\n",
    "ValueError: The truth value of a Series is ambiguous. Use a.empty, a.bool(), a.item(), a.any() or a.all().\n",
    "    \n",
    "   \n",
    "```"
   ]
  },
  {
   "cell_type": "code",
   "execution_count": 22,
   "metadata": {},
   "outputs": [
    {
     "name": "stdout",
     "output_type": "stream",
     "text": [
      "I was not None\n"
     ]
    }
   ],
   "source": [
    "# 이러한 경우에는 any(), all(), empty 등을 사용해서 무엇을 원하는지를 선택 (반영)해주어야 합니다.\n",
    "\n",
    "if pd.Series([False, True, False])is not None:\n",
    "      print(\"I was not None\")"
   ]
  },
  {
   "cell_type": "code",
   "execution_count": 23,
   "metadata": {},
   "outputs": [
    {
     "data": {
      "text/plain": [
       "0    False\n",
       "1     True\n",
       "2    False\n",
       "dtype: bool"
      ]
     },
     "execution_count": 23,
     "metadata": {},
     "output_type": "execute_result"
    }
   ],
   "source": [
    "bools = pd.Series([False, True, False])\n",
    "bools"
   ]
  },
  {
   "cell_type": "code",
   "execution_count": 24,
   "metadata": {},
   "outputs": [
    {
     "data": {
      "text/plain": [
       "False"
      ]
     },
     "execution_count": 24,
     "metadata": {},
     "output_type": "execute_result"
    }
   ],
   "source": [
    "bools.all()"
   ]
  },
  {
   "cell_type": "code",
   "execution_count": 25,
   "metadata": {},
   "outputs": [
    {
     "data": {
      "text/plain": [
       "True"
      ]
     },
     "execution_count": 25,
     "metadata": {},
     "output_type": "execute_result"
    }
   ],
   "source": [
    "bools.any()"
   ]
  },
  {
   "cell_type": "code",
   "execution_count": 26,
   "metadata": {},
   "outputs": [
    {
     "data": {
      "text/plain": [
       "False"
      ]
     },
     "execution_count": 26,
     "metadata": {},
     "output_type": "execute_result"
    }
   ],
   "source": [
    "bools.empty"
   ]
  },
  {
   "cell_type": "code",
   "execution_count": 27,
   "metadata": {},
   "outputs": [],
   "source": [
    "bools = pd.Series([ True, True, True ])"
   ]
  },
  {
   "cell_type": "code",
   "execution_count": 28,
   "metadata": {},
   "outputs": [
    {
     "data": {
      "text/plain": [
       "(True, True, False)"
      ]
     },
     "execution_count": 28,
     "metadata": {},
     "output_type": "execute_result"
    }
   ],
   "source": [
    "bools.all(), bools.any(), bools.empty"
   ]
  },
  {
   "cell_type": "code",
   "execution_count": 29,
   "metadata": {},
   "outputs": [
    {
     "data": {
      "text/plain": [
       "(False, False, False)"
      ]
     },
     "execution_count": 29,
     "metadata": {},
     "output_type": "execute_result"
    }
   ],
   "source": [
    "bools = pd.Series([ False, False, False ])\n",
    "bools.all(), bools.any(), bools.empty"
   ]
  },
  {
   "cell_type": "markdown",
   "metadata": {},
   "source": [
    "<hr>\n",
    "<marquee><font size=3 color='brown'>The BigpyCraft find the information to design valuable society with Technology & Craft.</font></marquee>\n",
    "<div align='right'><font size=2 color='gray'> &lt; The End &gt; </font></div>"
   ]
  }
 ],
 "metadata": {
  "anaconda-cloud": {},
  "kernelspec": {
   "display_name": "Python 3 (ipykernel)",
   "language": "python",
   "name": "python3"
  },
  "language_info": {
   "codemirror_mode": {
    "name": "ipython",
    "version": 3
   },
   "file_extension": ".py",
   "mimetype": "text/x-python",
   "name": "python",
   "nbconvert_exporter": "python",
   "pygments_lexer": "ipython3",
   "version": "3.9.7"
  }
 },
 "nbformat": 4,
 "nbformat_minor": 1
}
